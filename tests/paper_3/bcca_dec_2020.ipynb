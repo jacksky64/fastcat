{
 "cells": [
  {
   "cell_type": "code",
   "execution_count": 2,
   "metadata": {},
   "outputs": [
    {
     "name": "stdout",
     "output_type": "stream",
     "text": [
      "Populating the interactive namespace from numpy and matplotlib\n"
     ]
    }
   ],
   "source": [
    "%pylab widget\n",
    "%load_ext autoreload\n",
    "%autoreload 2\n",
    "\n",
    "from analysis_functions import *\n",
    "import fastcat.fastcat as fc\n",
    "from scipy.optimize import minimize"
   ]
  },
  {
   "cell_type": "markdown",
   "metadata": {},
   "source": [
    "# First lets look at the GOS"
   ]
  },
  {
   "cell_type": "code",
   "execution_count": 3,
   "metadata": {},
   "outputs": [
    {
     "name": "stdout",
     "output_type": "stream",
     "text": [
      "(19, 41, 41) 19\n",
      "bowtie is off False\n",
      "Using the bowtie filter True\n",
      "really doing it!\n",
      "ratio is 1210.184950271092 number of photons 0.02636808212587352\n"
     ]
    }
   ],
   "source": [
    "# %%timeit -r 1\n",
    "nviews = 493 \n",
    "\n",
    "s = fc.Spectrum()\n",
    "s.load('Varian_truebeam')\n",
    "\n",
    "s.x[0] = 1; s.x[1] = 2\n",
    "s.attenuate(0.,fc.get_mu(z=13)) #3.7\n",
    "\n",
    "kernel = fc.Kernel(s,'CuGOS-784-micrometer')\n",
    "kernel.add_focal_spot(1.2)\n",
    "angles = np.linspace(0,np.pi*2,nviews)\n",
    "\n",
    "phantom = fc.Catphan_404()\n",
    "phantom.phan_map = ['air','G4_NYLON-8062','CATPHAN_Acrylic','CATPHAN_Acrylic','CATPHAN_Delrin_revised','CATPHAN_Acrylic','CATPHAN_Teflon_revised','air','CATPHAN_PMP','CATPHAN_Acrylic','CATPHAN_LDPE','CATPHAN_Acrylic','CATPHAN_Polystyrene','air','CATPHAN_Acrylic','air','CATPHAN_Teflon','air','air','air','air'] \n",
    "# phantom.phan_map = ['air','water','G4_NYLON-8062','G4_NYLON-8062','CATPHAN_Delrin','G4_NYLON-8062','CATPHAN_Teflon_revised','air','CATPHAN_PMP','G4_NYLON-8062','CATPHAN_LDPE','G4_NYLON-8062','CATPHAN_Polystyrene','air','CATPHAN_Acrylic'] \n",
    "phantom.return_projs(kernel,s,angles,mgy=1.1,bowtie=True,filter='FF0')\n",
    "phantom.reconstruct('FDK',filt='ram_lak')"
   ]
  },
  {
   "cell_type": "code",
   "execution_count": 18,
   "metadata": {},
   "outputs": [
    {
     "data": {
      "application/vnd.jupyter.widget-view+json": {
       "model_id": "6000d31e55ff48a5814f05c85b7980ee",
       "version_major": 2,
       "version_minor": 0
      },
      "text/plain": [
       "Canvas(toolbar=Toolbar(toolitems=[('Home', 'Reset original view', 'home', 'home'), ('Back', 'Back to previous …"
      ]
     },
     "metadata": {},
     "output_type": "display_data"
    }
   ],
   "source": [
    "plt.figure()\n",
    "plt.imshow((slice_recon),cmap = 'gray')#,vmax=0.10,vmin=0.03)\n",
    "\n",
    "recon_slice = phantom.img[5]\n",
    "im = create_mask(recon_slice.shape,r=5.7,radius=0.4)\n",
    "\n",
    "contrast_fc, CNR_fc, noise_fc = return_CNR(recon_slice,im)"
   ]
  },
  {
   "cell_type": "code",
   "execution_count": 17,
   "metadata": {},
   "outputs": [
    {
     "data": {
      "application/vnd.jupyter.widget-view+json": {
       "model_id": "836211fd3a3c4287ad049f2015bbb236",
       "version_major": 2,
       "version_minor": 0
      },
      "text/plain": [
       "Canvas(toolbar=Toolbar(toolitems=[('Home', 'Reset original view', 'home', 'home'), ('Back', 'Back to previous …"
      ]
     },
     "metadata": {},
     "output_type": "display_data"
    },
    {
     "data": {
      "text/plain": [
       "array([10.87185137, 12.78895033, 13.29805794, 15.22699117, 17.57380394,\n",
       "       23.79155838])"
      ]
     },
     "execution_count": 17,
     "metadata": {},
     "output_type": "execute_result"
    }
   ],
   "source": [
    "return_CNR(recon_slice,im,show_map=True)"
   ]
  },
  {
   "cell_type": "code",
   "execution_count": 1270,
   "metadata": {},
   "outputs": [
    {
     "data": {
      "application/vnd.jupyter.widget-view+json": {
       "model_id": "3d3ded8a26264fcf87777647cdc2c68f",
       "version_major": 2,
       "version_minor": 0
      },
      "text/plain": [
       "Canvas(toolbar=Toolbar(toolitems=[('Home', 'Reset original view', 'home', 'home'), ('Back', 'Back to previous …"
      ]
     },
     "metadata": {},
     "output_type": "display_data"
    },
    {
     "data": {
      "text/plain": [
       "<matplotlib.image.AxesImage at 0x7f5c35c60b50>"
      ]
     },
     "execution_count": 1270,
     "metadata": {},
     "output_type": "execute_result"
    }
   ],
   "source": [
    "plt.figure()\n",
    "plt.imshow(np.where(im == 0, slice_recon,np.zeros_like(slice_recon)))"
   ]
  },
  {
   "cell_type": "code",
   "execution_count": 1271,
   "metadata": {},
   "outputs": [
    {
     "data": {
      "application/vnd.jupyter.widget-view+json": {
       "model_id": "ed6cb1ff41ff4c11b8704bd4b913a950",
       "version_major": 2,
       "version_minor": 0
      },
      "text/plain": [
       "Canvas(toolbar=Toolbar(toolitems=[('Home', 'Reset original view', 'home', 'home'), ('Back', 'Back to previous …"
      ]
     },
     "metadata": {},
     "output_type": "display_data"
    },
    {
     "data": {
      "text/plain": [
       "<matplotlib.image.AxesImage at 0x7f5c35db3e90>"
      ]
     },
     "execution_count": 1271,
     "metadata": {},
     "output_type": "execute_result"
    }
   ],
   "source": [
    "bcca_recon = np.load('/home/xcite/MV_CBCT/recon_6x_300_rared.npy')\n",
    "\n",
    "plt.figure()\n",
    "plt.imshow(np.rot90(bcca_recon.T[48],2),vmax=0.012,cmap='gray')"
   ]
  },
  {
   "cell_type": "code",
   "execution_count": 1272,
   "metadata": {},
   "outputs": [],
   "source": [
    "recon_slice = np.rot90(np.mean(bcca_recon.T[35:43],0),2)\n",
    "im = create_mask(recon_slice.shape,off =[-0.15,0], r= 5.75,radius=0.3)\n",
    "contrast = []\n",
    "CNR = []\n",
    "\n",
    "for ii in range(2,int(np.max(im)+1)):\n",
    "    \n",
    "    contrast.append(np.mean(recon_slice[im == ii]))\n",
    "    CNR.append(contrast[-1]/np.sqrt(np.std(recon_slice[im == ii])**2 + np.std(recon_slice[im == 6])**2))\n",
    "\n",
    "bcca_data = np.array(sorted(contrast))\n",
    "CNR_bcca = np.array(CNR)[np.argsort(contrast)]"
   ]
  },
  {
   "cell_type": "code",
   "execution_count": 16,
   "metadata": {},
   "outputs": [],
   "source": [
    "def return_CNR(recon_slice,im,show_map=False):\n",
    "    \n",
    "    contrast = []\n",
    "    CNR = []\n",
    "    noise = []\n",
    "\n",
    "    for ii in range(2,int(np.max(im)+1)):\n",
    "\n",
    "        contrast.append(np.mean(recon_slice[im == ii]))\n",
    "        CNR.append(contrast[-1]/np.sqrt(np.std(recon_slice[im == ii])**2 + np.std(recon_slice[im == 6])**2))\n",
    "        noise.append(np.std(recon_slice[im == ii]))\n",
    "        \n",
    "    if show_map:\n",
    "        plt.figure()\n",
    "        plt.imshow(np.where(im==0,recon_slice,np.zeros_like(recon_slice)))\n",
    "\n",
    "    return np.array(sorted(contrast)), np.array(CNR)[np.argsort(contrast)], np.array(noise)[np.argsort(contrast)]"
   ]
  },
  {
   "cell_type": "code",
   "execution_count": 1312,
   "metadata": {},
   "outputs": [
    {
     "data": {
      "application/vnd.jupyter.widget-view+json": {
       "model_id": "fc7b2e4038b9431086fee0fa32710ee6",
       "version_major": 2,
       "version_minor": 0
      },
      "text/plain": [
       "Canvas(toolbar=Toolbar(toolitems=[('Home', 'Reset original view', 'home', 'home'), ('Back', 'Back to previous …"
      ]
     },
     "metadata": {},
     "output_type": "display_data"
    },
    {
     "data": {
      "text/plain": [
       "<matplotlib.image.AxesImage at 0x7f5c27574c50>"
      ]
     },
     "execution_count": 1312,
     "metadata": {},
     "output_type": "execute_result"
    }
   ],
   "source": [
    "plt.figure()\n",
    "plt.imshow(np.where(im == 0, recon_slice,np.zeros_like(slice_recon)))"
   ]
  },
  {
   "cell_type": "code",
   "execution_count": 1274,
   "metadata": {},
   "outputs": [
    {
     "data": {
      "application/vnd.jupyter.widget-view+json": {
       "model_id": "7f966d0ff3f74b5d815e6faa94d7a840",
       "version_major": 2,
       "version_minor": 0
      },
      "text/plain": [
       "Canvas(toolbar=Toolbar(toolitems=[('Home', 'Reset original view', 'home', 'home'), ('Back', 'Back to previous …"
      ]
     },
     "metadata": {},
     "output_type": "display_data"
    },
    {
     "data": {
      "text/plain": [
       "[<matplotlib.lines.Line2D at 0x7f5c35cc0ed0>]"
      ]
     },
     "execution_count": 1274,
     "metadata": {},
     "output_type": "execute_result"
    }
   ],
   "source": [
    "plt.figure()\n",
    "plt.plot(CNR_bcca)\n",
    "plt.plot(CNR_fc,'r')"
   ]
  },
  {
   "cell_type": "markdown",
   "metadata": {},
   "source": [
    "# Now lets load the experimental data which was generated in ~/MV_CBCT and saved as a npy file"
   ]
  },
  {
   "cell_type": "code",
   "execution_count": 1275,
   "metadata": {},
   "outputs": [],
   "source": [
    "recon_slice = np.rot90(bcca_recon.T[45],2)\n",
    "im = create_mask(recon_slice.shape,off =[-0.2,0], r= 5.8)\n",
    "contrast = []\n",
    "CNR = []\n",
    "\n",
    "for ii in range(2,int(np.max(im)+1)):\n",
    "    \n",
    "    contrast.append(np.mean(recon_slice[im == ii]))\n",
    "    CNR.append(contrast[-1]/np.sqrt(np.std(recon_slice[im == ii])**2 + np.std(recon_slice[im == 3])**2))\n",
    "\n",
    "bcca_data = np.array(sorted(contrast))\n",
    "CNR_data = np.array(CNR)[np.argsort(contrast)]"
   ]
  },
  {
   "cell_type": "code",
   "execution_count": 1311,
   "metadata": {},
   "outputs": [
    {
     "data": {
      "application/vnd.jupyter.widget-view+json": {
       "model_id": "777d9b1f14274eefb13cd98220426c1c",
       "version_major": 2,
       "version_minor": 0
      },
      "text/plain": [
       "Canvas(toolbar=Toolbar(toolitems=[('Home', 'Reset original view', 'home', 'home'), ('Back', 'Back to previous …"
      ]
     },
     "metadata": {},
     "output_type": "display_data"
    },
    {
     "data": {
      "text/plain": [
       "[<matplotlib.lines.Line2D at 0x7f5c27633590>]"
      ]
     },
     "execution_count": 1311,
     "metadata": {},
     "output_type": "execute_result"
    }
   ],
   "source": [
    "def HU_fun(a,x,y):\n",
    "    return np.sum(np.abs((x - a[0])*(a[1]) - y))\n",
    "\n",
    "# bcca_data = bcca_data[np.arange(len(contrast)) !=6 ]\n",
    "# cc = cc[np.arange(len(contrast)) != 6 ]\n",
    "\n",
    "res = minimize(HU_fun,[cc[0],cc[5]+0.001],args=(cc,bcca_data))\n",
    "\n",
    "x = [.853,0.945,.998,1.147,1.36,1.87]\n",
    "fc_data = (cc - res.x[0])*(res.x[1])\n",
    "\n",
    "plt.figure()\n",
    "plt.plot(x,fc_data,'s',c='cornflowerblue',label='fastCAT')\n",
    "plt.plot(x,bcca_data,'s',c='darkorange',label='Star-lack')"
   ]
  },
  {
   "cell_type": "code",
   "execution_count": 1288,
   "metadata": {},
   "outputs": [],
   "source": [
    "np.save('mv_data_revised_delrin',fc_data)\n",
    "np.save('mv_data_revised_delrin_bcca',bcca_data)"
   ]
  },
  {
   "cell_type": "code",
   "execution_count": 1029,
   "metadata": {},
   "outputs": [],
   "source": [
    "# np.save('image_fc_mv_6x',im_fc)\n",
    "# np.save('image_bcca_mv_6x',recon_slice)"
   ]
  },
  {
   "cell_type": "code",
   "execution_count": 1310,
   "metadata": {},
   "outputs": [
    {
     "data": {
      "application/vnd.jupyter.widget-view+json": {
       "model_id": "28d019c904e74bd2b26efadfb19585cb",
       "version_major": 2,
       "version_minor": 0
      },
      "text/plain": [
       "Canvas(toolbar=Toolbar(toolitems=[('Home', 'Reset original view', 'home', 'home'), ('Back', 'Back to previous …"
      ]
     },
     "metadata": {},
     "output_type": "display_data"
    },
    {
     "data": {
      "application/vnd.jupyter.widget-view+json": {
       "model_id": "91192465d5d44e4cad81ad83ddcdf0ab",
       "version_major": 2,
       "version_minor": 0
      },
      "text/plain": [
       "Canvas(toolbar=Toolbar(toolitems=[('Home', 'Reset original view', 'home', 'home'), ('Back', 'Back to previous …"
      ]
     },
     "metadata": {},
     "output_type": "display_data"
    },
    {
     "data": {
      "text/plain": [
       "[<matplotlib.lines.Line2D at 0x7f5c2774dd10>]"
      ]
     },
     "execution_count": 1310,
     "metadata": {},
     "output_type": "execute_result"
    }
   ],
   "source": [
    "# phantom.img[4] = np.load('recons/6x_gos_recon_ram_lak_acrylic_493_valid_hybrid_true_phasespace.npy')\n",
    "# phantom.img[4] = np.load('recons/6x_gos_recon_ram_lak_acrylic_493_valid_hybrid.npy')\n",
    "plt.figure()\n",
    "plt.subplot(121)\n",
    "plt.imshow(recon_slice,cmap='gray',vmin=0.001,vmax=0.007)\n",
    "plt.axis('off')\n",
    "plt.subplot(122)\n",
    "plt.imshow((phantom.img[4]- res.x[0])*(res.x[1]),cmap='gray',vmin=0.001,vmax=0.007)\n",
    "plt.axis('off')\n",
    "plt.tight_layout()\n",
    "\n",
    "im_fc = (phantom.img[4]- res.x[0])*(res.x[1])\n",
    "plt.figure()\n",
    "plt.plot(recon_slice[256,:])\n",
    "plt.plot(im_fc[256,:])"
   ]
  },
  {
   "cell_type": "code",
   "execution_count": 1031,
   "metadata": {},
   "outputs": [
    {
     "data": {
      "application/vnd.jupyter.widget-view+json": {
       "model_id": "f234e3c3df254dafafcb5d3170538d1d",
       "version_major": 2,
       "version_minor": 0
      },
      "text/plain": [
       "Canvas(toolbar=Toolbar(toolitems=[('Home', 'Reset original view', 'home', 'home'), ('Back', 'Back to previous …"
      ]
     },
     "metadata": {},
     "output_type": "display_data"
    }
   ],
   "source": [
    "hh = 4\n",
    "plt.figure()\n",
    "plt.imshow(np.abs(recon_slice[:,hh:] - ((phantom.img[4]- res.x[0])*(res.x[1]))[:,:-hh]),cmap='gray',vmin=0.00,vmax=0.001)\n",
    "plt.axis('off')\n",
    "plt.tight_layout()"
   ]
  },
  {
   "cell_type": "code",
   "execution_count": 1032,
   "metadata": {},
   "outputs": [
    {
     "ename": "NameError",
     "evalue": "name 'pp' is not defined",
     "output_type": "error",
     "traceback": [
      "\u001b[0;31m---------------------------------------------------------------------------\u001b[0m",
      "\u001b[0;31mNameError\u001b[0m                                 Traceback (most recent call last)",
      "\u001b[0;32m<ipython-input-1032-b9de0675d7fa>\u001b[0m in \u001b[0;36m<module>\u001b[0;34m\u001b[0m\n\u001b[0;32m----> 1\u001b[0;31m \u001b[0;36m1\u001b[0m\u001b[0;34m-\u001b[0m\u001b[0mpp\u001b[0m\u001b[0;34m[\u001b[0m\u001b[0;36m1\u001b[0m\u001b[0;34m]\u001b[0m\u001b[0;34m/\u001b[0m\u001b[0mnp\u001b[0m\u001b[0;34m.\u001b[0m\u001b[0mstd\u001b[0m\u001b[0;34m(\u001b[0m\u001b[0mfc_data\u001b[0m\u001b[0;34m)\u001b[0m\u001b[0;34m**\u001b[0m\u001b[0;36m2\u001b[0m\u001b[0;34m\u001b[0m\u001b[0;34m\u001b[0m\u001b[0m\n\u001b[0m",
      "\u001b[0;31mNameError\u001b[0m: name 'pp' is not defined"
     ]
    }
   ],
   "source": [
    "1-pp[1]/np.std(fc_data)**2"
   ]
  },
  {
   "cell_type": "code",
   "execution_count": 1033,
   "metadata": {},
   "outputs": [
    {
     "ename": "NameError",
     "evalue": "name 'qq' is not defined",
     "output_type": "error",
     "traceback": [
      "\u001b[0;31m---------------------------------------------------------------------------\u001b[0m",
      "\u001b[0;31mNameError\u001b[0m                                 Traceback (most recent call last)",
      "\u001b[0;32m<ipython-input-1033-229a8f845fe2>\u001b[0m in \u001b[0;36m<module>\u001b[0;34m\u001b[0m\n\u001b[0;32m----> 1\u001b[0;31m \u001b[0;36m1\u001b[0m\u001b[0;34m-\u001b[0m\u001b[0mqq\u001b[0m\u001b[0;34m[\u001b[0m\u001b[0;36m1\u001b[0m\u001b[0;34m]\u001b[0m\u001b[0;34m/\u001b[0m\u001b[0mnp\u001b[0m\u001b[0;34m.\u001b[0m\u001b[0mstd\u001b[0m\u001b[0;34m(\u001b[0m\u001b[0mstar_data\u001b[0m\u001b[0;34m)\u001b[0m\u001b[0;34m**\u001b[0m\u001b[0;36m2\u001b[0m\u001b[0;34m\u001b[0m\u001b[0;34m\u001b[0m\u001b[0m\n\u001b[0m",
      "\u001b[0;31mNameError\u001b[0m: name 'qq' is not defined"
     ]
    }
   ],
   "source": [
    "1-qq[1]/np.std(star_data)**2"
   ]
  },
  {
   "cell_type": "markdown",
   "metadata": {},
   "source": [
    "# Now lets look at the kV data "
   ]
  },
  {
   "cell_type": "code",
   "execution_count": 1289,
   "metadata": {},
   "outputs": [],
   "source": [
    "nviews = 887 # That is how many are in the file "
   ]
  },
  {
   "cell_type": "code",
   "execution_count": 1318,
   "metadata": {},
   "outputs": [
    {
     "name": "stdout",
     "output_type": "stream",
     "text": [
      "(19, 19, 19) 19\n",
      "bowtie is off False\n",
      "Using the bowtie filter True\n",
      "really doing it!\n",
      "ratio is 18.63458183722777 number of photons 0.6662745014665195\n",
      "(19, 19, 19) 19\n",
      "bowtie is off False\n",
      "Using the bowtie filter True\n",
      "really doing it!\n",
      "ratio is 18.63458183722777 number of photons 0.6662745014665195\n",
      "51.1 s ± 0 ns per loop (mean ± std. dev. of 1 run, 1 loop each)\n"
     ]
    }
   ],
   "source": [
    "%%timeit -r 1\n",
    "s = fc.calculate_spectrum(100, 14, 3, 100,monitor=None)\n",
    "s.attenuate(0.6,fc.get_mu(z=13))\n",
    "s.attenuate(0.089,fc.get_mu(z=22))\n",
    "kernel = fc.Kernel(s,'CsI-784-micrometer')\n",
    "angles = np.linspace(0,np.pi*2,nviews)        \n",
    "\n",
    "phantom = fc.Catphan_404()\n",
    "phantom.phan_map = ['air','G4_NYLON-8062','CATPHAN_Acrylic','CATPHAN_Acrylic','CATPHAN_Delrin','CATPHAN_Acrylic','CATPHAN_Teflon_revised','air','CATPHAN_PMP','CATPHAN_Acrylic','CATPHAN_LDPE','CATPHAN_Acrylic','CATPHAN_Polystyrene','air','CATPHAN_Acrylic','air','CATPHAN_Teflon_revised','air','air','air','air'] \n",
    "phantom.return_projs(kernel,s,angles,scat_on=True,mgy=0.001,bowtie=True,filter='bowtie8')\n",
    "phantom.reconstruct('FDK',filt='ram_lak')"
   ]
  },
  {
   "cell_type": "code",
   "execution_count": 1299,
   "metadata": {},
   "outputs": [
    {
     "data": {
      "application/vnd.jupyter.widget-view+json": {
       "model_id": "c5f9ce8f29c640229f89a4fea78d8ac7",
       "version_major": 2,
       "version_minor": 0
      },
      "text/plain": [
       "Canvas(toolbar=Toolbar(toolitems=[('Home', 'Reset original view', 'home', 'home'), ('Back', 'Back to previous …"
      ]
     },
     "metadata": {},
     "output_type": "display_data"
    },
    {
     "data": {
      "text/plain": [
       "<matplotlib.image.AxesImage at 0x7f5c343c5c50>"
      ]
     },
     "execution_count": 1299,
     "metadata": {},
     "output_type": "execute_result"
    }
   ],
   "source": [
    "# im1 = phantom.img[4]\n",
    "\n",
    "plt.figure()\n",
    "plt.subplot(131)\n",
    "plt.imshow((phantom.img[4]),cmap='gray')\n",
    "plt.subplot(132)\n",
    "plt.imshow((im1),cmap='gray')\n",
    "plt.title('original bowtie')\n",
    "plt.subplot(133)\n",
    "plt.imshow((im1 - phantom.img[4]),cmap='gray')"
   ]
  },
  {
   "cell_type": "code",
   "execution_count": 1300,
   "metadata": {
    "presto": {
     "id": "78342739-c451-4228-81b2-2805de7f63ae"
    }
   },
   "outputs": [
    {
     "data": {
      "application/vnd.jupyter.widget-view+json": {
       "model_id": "a91ef6b6950f449288a72128ea29e7f9",
       "version_major": 2,
       "version_minor": 0
      },
      "text/plain": [
       "Canvas(toolbar=Toolbar(toolitems=[('Home', 'Reset original view', 'home', 'home'), ('Back', 'Back to previous …"
      ]
     },
     "metadata": {},
     "output_type": "display_data"
    }
   ],
   "source": [
    "bcca_recon = np.load('/home/xcite/MV_CBCT/recon_kv_jan_2021.npy')\n",
    "\n",
    "plt.figure()\n",
    "# plt.subplot(121)\n",
    "rr = plt.imshow(np.rot90(bcca_recon.T[40],3),cmap='gray',vmin=0.013,vmax=0.027)"
   ]
  },
  {
   "cell_type": "code",
   "execution_count": 1301,
   "metadata": {},
   "outputs": [],
   "source": [
    "recon_slice = np.rot90(bcca_recon.T[50]).copy()\n",
    "# im = create_mask(recon_slice.shape,off = [-0.1,-0.02], r= 4.45, radius = 0.3)\n",
    "im = create_mask(recon_slice.shape,r=5.8,off = [0.2,0.05],rot = 1)\n",
    "contrast = []\n",
    "CNR = []\n",
    "noise = []\n",
    "\n",
    "for ii in range(2,int(np.max(im)+1)):\n",
    "    contrast.append(np.mean(recon_slice[im == ii]))\n",
    "    CNR.append(contrast[-1]/np.sqrt(np.std(recon_slice[im == ii])**2 + np.std(recon_slice[im == 3])**2))\n",
    "    noise.append(np.std(recon_slice[im == ii]))\n",
    "    \n",
    "# Get rid of the delrin\n",
    "bcca_noise = np.array(noise)[np.argsort(contrast)]\n",
    "bcca_data = np.array(sorted(contrast))\n",
    "CNR_data = np.array(CNR)[np.argsort(contrast)]"
   ]
  },
  {
   "cell_type": "code",
   "execution_count": 1302,
   "metadata": {},
   "outputs": [],
   "source": [
    "recon_slice = phantom.img[4]\n",
    "im = create_mask(recon_slice.shape,r=5.75,radius=0.4)\n",
    "contrast = []\n",
    "CNR = []\n",
    "noise = []\n",
    "\n",
    "for ii in range(2,int(np.max(im)+1)):\n",
    "    contrast.append(np.mean(recon_slice[im == ii]))\n",
    "    CNR.append(contrast[-1]/np.sqrt(np.std(recon_slice[im == ii])**2 + np.std(recon_slice[im == 3])**2))\n",
    "    noise.append(np.std(recon_slice[im == ii]))\n",
    "\n",
    "# Get rid of the delrin\n",
    "cc = np.array(sorted(contrast))[np.arange(len(contrast))]\n",
    "cc_CNR = np.array(CNR)[np.argsort(contrast)]\n",
    "cc_noise = np.array(noise)[np.argsort(contrast)]"
   ]
  },
  {
   "cell_type": "code",
   "execution_count": 1303,
   "metadata": {},
   "outputs": [
    {
     "data": {
      "application/vnd.jupyter.widget-view+json": {
       "model_id": "a45e11c8c48f4a54920b2aca3a0a4146",
       "version_major": 2,
       "version_minor": 0
      },
      "text/plain": [
       "Canvas(toolbar=Toolbar(toolitems=[('Home', 'Reset original view', 'home', 'home'), ('Back', 'Back to previous …"
      ]
     },
     "metadata": {},
     "output_type": "display_data"
    },
    {
     "data": {
      "text/plain": [
       "<matplotlib.image.AxesImage at 0x7f5c342e3bd0>"
      ]
     },
     "execution_count": 1303,
     "metadata": {},
     "output_type": "execute_result"
    }
   ],
   "source": [
    "plt.figure()\n",
    "plt.imshow(np.where(im == 0,recon_slice,np.zeros_like(recon_slice)))"
   ]
  },
  {
   "cell_type": "code",
   "execution_count": 1304,
   "metadata": {
    "presto": {
     "id": "3ec65409-5dbf-46a1-8275-5f2a05c3a632"
    }
   },
   "outputs": [
    {
     "data": {
      "application/vnd.jupyter.widget-view+json": {
       "model_id": "d8b5cfd8a3b14b36b99de0e77a0db6b0",
       "version_major": 2,
       "version_minor": 0
      },
      "text/plain": [
       "Canvas(toolbar=Toolbar(toolitems=[('Home', 'Reset original view', 'home', 'home'), ('Back', 'Back to previous …"
      ]
     },
     "metadata": {},
     "output_type": "display_data"
    },
    {
     "data": {
      "text/plain": [
       "<matplotlib.image.AxesImage at 0x7f5c3427b550>"
      ]
     },
     "execution_count": 1304,
     "metadata": {},
     "output_type": "execute_result"
    }
   ],
   "source": [
    "def HU_fun(a,x,y):\n",
    "    return np.sum(np.abs((x - a[0])*(a[1]) - y))\n",
    "\n",
    "# bcca_data = bcca_data[np.arange(len(contrast)) !=6 ]\n",
    "# cc = cc[np.arange(len(contrast)) != 6 ]\n",
    "res = minimize(HU_fun,[cc[0],cc[3]],args=(cc,bcca_data),method='Powell')\n",
    "# x = [0,0,.853,0.945,.998,1.147,1.87]\n",
    "            \n",
    "fc_data = (cc - res.x[0])*(res.x[1])\n",
    "\n",
    "fc_image = (recon_slice - res.x[0])*(res.x[1])\n",
    "\n",
    "plt.figure()\n",
    "plt.imshow(np.rot90(fc_image,0),cmap='gray',vmin=0.013,vmax=0.027)"
   ]
  },
  {
   "cell_type": "code",
   "execution_count": 1307,
   "metadata": {},
   "outputs": [
    {
     "data": {
      "application/vnd.jupyter.widget-view+json": {
       "model_id": "94488acec991402486ee71895bb20d8d",
       "version_major": 2,
       "version_minor": 0
      },
      "text/plain": [
       "Canvas(toolbar=Toolbar(toolitems=[('Home', 'Reset original view', 'home', 'home'), ('Back', 'Back to previous …"
      ]
     },
     "metadata": {},
     "output_type": "display_data"
    },
    {
     "data": {
      "text/plain": [
       "<matplotlib.legend.Legend at 0x7f5c2784e190>"
      ]
     },
     "execution_count": 1307,
     "metadata": {},
     "output_type": "execute_result"
    }
   ],
   "source": [
    "x = [.853,0.945,.998,1.147,1.36,1.87]\n",
    "plt.figure()\n",
    "plt.plot(x,bcca_data,'s',c='darkorange',label='')\n",
    "plt.plot(x,fc_data,'*',c='cornflowerblue',label='fastCAT')\n",
    "plt.legend()"
   ]
  },
  {
   "cell_type": "code",
   "execution_count": 1170,
   "metadata": {},
   "outputs": [],
   "source": [
    "# np.save('contrast_bcca_kv',bcca_data)"
   ]
  },
  {
   "cell_type": "markdown",
   "metadata": {},
   "source": [
    "# Now lets load the experimental kV data which was generated in ~/MV_CBCT and saved as a npy file"
   ]
  },
  {
   "cell_type": "code",
   "execution_count": 1309,
   "metadata": {},
   "outputs": [],
   "source": [
    "np.save('fc_kv_image_nylon',np.rot90(fc_image,0))"
   ]
  },
  {
   "cell_type": "code",
   "execution_count": 1308,
   "metadata": {},
   "outputs": [
    {
     "data": {
      "application/vnd.jupyter.widget-view+json": {
       "model_id": "e0ff702b3f8c4a8e8193b377bd558a23",
       "version_major": 2,
       "version_minor": 0
      },
      "text/plain": [
       "Canvas(toolbar=Toolbar(toolitems=[('Home', 'Reset original view', 'home', 'home'), ('Back', 'Back to previous …"
      ]
     },
     "metadata": {},
     "output_type": "display_data"
    },
    {
     "data": {
      "text/plain": [
       "[<matplotlib.lines.Line2D at 0x7f5c2787ca10>]"
      ]
     },
     "execution_count": 1308,
     "metadata": {},
     "output_type": "execute_result"
    }
   ],
   "source": [
    "plt.figure()\n",
    "plt.plot(np.rot90(np.mean(bcca_recon.T[25:36],0),3)[256,:])\n",
    "plt.plot(np.rot90(fc_image,0)[256,:])"
   ]
  },
  {
   "cell_type": "markdown",
   "metadata": {},
   "source": [
    "plt.figure()\n",
    "recon_slice[im != 0] = 0\n",
    "plt.imshow(recon_slice)\n",
    "\n",
    "plt.figure()\n",
    "recon_slice[im != 0] = 0\n",
    "plt.imshow(recon_slice)"
   ]
  },
  {
   "cell_type": "code",
   "execution_count": 1103,
   "metadata": {},
   "outputs": [
    {
     "data": {
      "application/vnd.jupyter.widget-view+json": {
       "model_id": "bbb6e0badaee407ba4735fe14ec13ba9",
       "version_major": 2,
       "version_minor": 0
      },
      "text/plain": [
       "Canvas(toolbar=Toolbar(toolitems=[('Home', 'Reset original view', 'home', 'home'), ('Back', 'Back to previous …"
      ]
     },
     "metadata": {},
     "output_type": "display_data"
    },
    {
     "data": {
      "text/plain": [
       "[<matplotlib.lines.Line2D at 0x7f5c39280f10>]"
      ]
     },
     "execution_count": 1103,
     "metadata": {},
     "output_type": "execute_result"
    }
   ],
   "source": [
    "plt.figure()\n",
    "plt.plot(CNR_data)\n",
    "plt.plot(cc_CNR,'r')\n",
    "# plt.plot(CNR_fc,'r')"
   ]
  },
  {
   "cell_type": "code",
   "execution_count": 1040,
   "metadata": {},
   "outputs": [
    {
     "data": {
      "application/vnd.jupyter.widget-view+json": {
       "model_id": "f1e79c9aa7524f98b960c1b6d949b3c3",
       "version_major": 2,
       "version_minor": 0
      },
      "text/plain": [
       "Canvas(toolbar=Toolbar(toolitems=[('Home', 'Reset original view', 'home', 'home'), ('Back', 'Back to previous …"
      ]
     },
     "metadata": {},
     "output_type": "display_data"
    },
    {
     "data": {
      "text/plain": [
       "[<matplotlib.lines.Line2D at 0x7f5c3a4bb4d0>]"
      ]
     },
     "execution_count": 1040,
     "metadata": {},
     "output_type": "execute_result"
    }
   ],
   "source": [
    "plt.figure()\n",
    "plt.plot(1000*cc_noise)\n",
    "plt.plot(bcca_noise,'r')\n",
    "# plt.plot(CNR_fc,'r')"
   ]
  },
  {
   "cell_type": "code",
   "execution_count": 16,
   "metadata": {},
   "outputs": [
    {
     "data": {
      "application/vnd.jupyter.widget-view+json": {
       "model_id": "4d6934ccbf614048b25b7722e7637003",
       "version_major": 2,
       "version_minor": 0
      },
      "text/plain": [
       "Canvas(toolbar=Toolbar(toolitems=[('Home', 'Reset original view', 'home', 'home'), ('Back', 'Back to previous …"
      ]
     },
     "metadata": {},
     "output_type": "display_data"
    },
    {
     "data": {
      "text/plain": [
       "<matplotlib.legend.Legend at 0x7f5c1d7fa810>"
      ]
     },
     "execution_count": 16,
     "metadata": {},
     "output_type": "execute_result"
    }
   ],
   "source": [
    "def HU_fun(a,x,y):\n",
    "    return np.mean(np.abs((x - a[0])/(a[1] - a[0])*-1000 +1000 - y))\n",
    "\n",
    "bcca_revised = bcca_data\n",
    "cc2 = cc\n",
    "\n",
    "res = minimize(HU_fun,[cc2[3],0.1*cc2[0]],args=(cc2,bcca_revised))\n",
    "\n",
    "x = [0,0,.853,0.945,.998,1.147,1.87]\n",
    "            \n",
    "fc_data = (cc2 - res.x[0])/(res.x[1] - res.x[0])*-1000 + 1000\n",
    "x = [0,0,.853,0.945,.998,1.147,1.36,1.87]\n",
    "plt.figure()\n",
    "plt.plot(x,bcca_revised,'s',c='darkorange',label='Star-lack')\n",
    "plt.plot(x,fc_data,'r*',c='cornflowerblue',label='fastCAT')\n",
    "plt.legend()"
   ]
  },
  {
   "cell_type": "code",
   "execution_count": 68,
   "metadata": {},
   "outputs": [],
   "source": [
    "fc_data = (cc - res.x[0])/(res.x[1] - res.x[0])*-1000\n",
    "\n",
    "xx = np.linspace(0,max(x),100)\n",
    "pp = np.polyfit(x,fc_data,1,full=1)\n",
    "qq = np.polyfit(x,bcca_data,1,full=1)\n",
    "yy = np.polyval(pp[0],xx)\n",
    "zz = np.polyval(qq[0],xx)\n",
    "\n",
    "plt.ylabel('HU')\n",
    "plt.xlabel('Relative electron density')\n",
    "plt.title('CWO')\n",
    "plt.xticks(x,['air1','air2','PMP','LDPE','Poly','Acrylic','Delrin','Teflon'],rotation=75)\n",
    "plt.plot(xx,yy,':',c='cornflowerblue',lw=0.8)\n",
    "plt.plot(xx,zz,'-.',c='darkorange',lw = 0.8)\n",
    "plt.legend()\n",
    "plt.tight_layout()\n",
    "plt.savefig('initial_cwo')"
   ]
  },
  {
   "cell_type": "code",
   "execution_count": 172,
   "metadata": {},
   "outputs": [
    {
     "data": {
      "application/vnd.jupyter.widget-view+json": {
       "model_id": "7ed19fad09d14b3d923963d5ed67651c",
       "version_major": 2,
       "version_minor": 0
      },
      "text/plain": [
       "Canvas(toolbar=Toolbar(toolitems=[('Home', 'Reset original view', 'home', 'home'), ('Back', 'Back to previous …"
      ]
     },
     "metadata": {},
     "output_type": "display_data"
    },
    {
     "data": {
      "text/plain": [
       "Text(0.5, 1.0, 'Experimental Validation 6 MV 100MU')"
      ]
     },
     "execution_count": 172,
     "metadata": {},
     "output_type": "execute_result"
    }
   ],
   "source": [
    "plt.figure()\n",
    "scale, offset, offset2 = 16.5, 0.00650, 0.057\n",
    "plt.plot(scale*(bcca_data - offset),'rx')\n",
    "plt.plot(cc - offset2,'kx')\n",
    "plt.xlabel('Machine Output Value [??]')\n",
    "plt.ylabel('Material')\n",
    "plt.legend(['BCCA data','fastCAT'])\n",
    "plt.title('Experimental Validation 6 MV 100MU')"
   ]
  },
  {
   "cell_type": "code",
   "execution_count": 153,
   "metadata": {},
   "outputs": [
    {
     "data": {
      "text/plain": [
       "array([0.99967224])"
      ]
     },
     "execution_count": 153,
     "metadata": {},
     "output_type": "execute_result"
    }
   ],
   "source": [
    "1-pp[1]/np.std(fc_data)**2"
   ]
  },
  {
   "cell_type": "code",
   "execution_count": 154,
   "metadata": {},
   "outputs": [
    {
     "data": {
      "text/plain": [
       "array([1.])"
      ]
     },
     "execution_count": 154,
     "metadata": {},
     "output_type": "execute_result"
    }
   ],
   "source": [
    "1-qq[1]/np.std(star_data)**2"
   ]
  },
  {
   "cell_type": "code",
   "execution_count": 46,
   "metadata": {},
   "outputs": [],
   "source": [
    "av = 1/3*8.175600196835831e-10 + 2/3*4.769697969919662e-10"
   ]
  },
  {
   "cell_type": "code",
   "execution_count": 47,
   "metadata": {},
   "outputs": [
    {
     "data": {
      "text/plain": [
       "5.904998712225051e-10"
      ]
     },
     "execution_count": 47,
     "metadata": {},
     "output_type": "execute_result"
    }
   ],
   "source": [
    "av"
   ]
  },
  {
   "cell_type": "code",
   "execution_count": 49,
   "metadata": {},
   "outputs": [
    {
     "data": {
      "text/plain": [
       "1.2192105287896593"
      ]
     },
     "execution_count": 49,
     "metadata": {},
     "output_type": "execute_result"
    }
   ],
   "source": [
    "7.199436602434162e-10/av"
   ]
  }
 ],
 "metadata": {
  "kernelspec": {
   "display_name": "Python 3",
   "language": "python",
   "name": "python3"
  },
  "language_info": {
   "codemirror_mode": {
    "name": "ipython",
    "version": 3
   },
   "file_extension": ".py",
   "mimetype": "text/x-python",
   "name": "python",
   "nbconvert_exporter": "python",
   "pygments_lexer": "ipython3",
   "version": "3.7.6"
  },
  "presto": {
   "id": "110b0dee-a591-4d62-bdf8-8727cacef0b7"
  }
 },
 "nbformat": 4,
 "nbformat_minor": 4
}
