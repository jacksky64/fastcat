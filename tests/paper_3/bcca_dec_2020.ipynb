{
 "cells": [
  {
   "cell_type": "code",
   "execution_count": 1,
   "metadata": {},
   "outputs": [
    {
     "name": "stdout",
     "output_type": "stream",
     "text": [
      "Populating the interactive namespace from numpy and matplotlib\n"
     ]
    }
   ],
   "source": [
    "%pylab widget\n",
    "%load_ext autoreload\n",
    "%autoreload 2\n",
    "\n",
    "from analysis_functions import *\n",
    "import fastcat.fastcat as fc\n",
    "\n",
    "from scipy.optimize import minimize"
   ]
  },
  {
   "cell_type": "markdown",
   "metadata": {},
   "source": [
    "# First lets look at the GOS"
   ]
  },
  {
   "cell_type": "code",
   "execution_count": 2,
   "metadata": {},
   "outputs": [
    {
     "data": {
      "text/plain": [
       "(512, 18)"
      ]
     },
     "execution_count": 2,
     "metadata": {},
     "output_type": "execute_result"
    }
   ],
   "source": [
    "np.load('bowtie_lengths.npy').shape"
   ]
  },
  {
   "cell_type": "code",
   "execution_count": 3,
   "metadata": {},
   "outputs": [
    {
     "name": "stdout",
     "output_type": "stream",
     "text": [
      "(19, 41, 41) 19\n",
      "really doing it!\n",
      "ratio is 932814.9393109889 number of photons 0.010763158668836276\n"
     ]
    }
   ],
   "source": [
    "nviews = 10\n",
    "\n",
    "s = fc.Spectrum()\n",
    "s.load('Varian_truebeam_phasespace')\n",
    "kernel = fc.Kernel(s,'CuGOS-784-micrometer')\n",
    "angles = np.linspace(0,np.pi*2,nviews)        \n",
    "\n",
    "phantom = fc.Catphan_404()\n",
    "phantom.phan_map = ['air','CATPHAN_Polystyrene','CATPHAN_Acrylic','CATPHAN_B20','CATPHAN_Delrin_revised','water','CATPHAN_Teflon_revised','air','CATPHAN_PMP','CATPHAN_B50','CATPHAN_LDPE','water','CATPHAN_Polystyrene','air','CATPHAN_Acrylic'] \n",
    "phantom.return_projs(kernel,s,angles,det_on=True,scat_on=False,mgy=7000/nviews)\n",
    "\n",
    "phantom.reconstruct('FDK',filt='ram_lak')"
   ]
  },
  {
   "cell_type": "code",
   "execution_count": 91,
   "metadata": {},
   "outputs": [],
   "source": [
    "# np.save('recons/6x_gos_recon_ram_lak_360',phantom.img[4])\n",
    "slice_recon = np.load('recons/6x_gos_recon_ram_lak_360.npy')"
   ]
  },
  {
   "cell_type": "code",
   "execution_count": 92,
   "metadata": {},
   "outputs": [
    {
     "data": {
      "application/vnd.jupyter.widget-view+json": {
       "model_id": "ee9a1a89a6fe4bc7937d1ea91b7e98d7",
       "version_major": 2,
       "version_minor": 0
      },
      "text/plain": [
       "Canvas(toolbar=Toolbar(toolitems=[('Home', 'Reset original view', 'home', 'home'), ('Back', 'Back to previous …"
      ]
     },
     "metadata": {},
     "output_type": "display_data"
    }
   ],
   "source": [
    "plt.figure()\n",
    "plt.imshow((slice_recon))\n",
    "\n",
    "recon_slice = slice_recon\n",
    "im = create_mask(recon_slice.shape,r=5.75)\n",
    "contrast = []\n",
    "\n",
    "for ii in range(2,int(np.max(im)+1)):\n",
    "    \n",
    "    contrast.append(np.mean(recon_slice[im == ii]))\n",
    "\n",
    "# Get rid of the delrin\n",
    "cc = np.array(sorted(contrast))[np.arange(len(contrast))]\n",
    "star_data = np.array(star_data_gos[1::2])[np.arange(len(contrast))]"
   ]
  },
  {
   "cell_type": "markdown",
   "metadata": {},
   "source": [
    "# Now lets load the experimental data which was generated in ~/MV_CBCT and saved as a npy file"
   ]
  },
  {
   "cell_type": "code",
   "execution_count": 6,
   "metadata": {},
   "outputs": [
    {
     "data": {
      "application/vnd.jupyter.widget-view+json": {
       "model_id": "584119b9a48c4e7399fb4c0a00b7320c",
       "version_major": 2,
       "version_minor": 0
      },
      "text/plain": [
       "Canvas(toolbar=Toolbar(toolitems=[('Home', 'Reset original view', 'home', 'home'), ('Back', 'Back to previous …"
      ]
     },
     "metadata": {},
     "output_type": "display_data"
    },
    {
     "data": {
      "text/plain": [
       "<matplotlib.image.AxesImage at 0x7fc0182d0f10>"
      ]
     },
     "execution_count": 6,
     "metadata": {},
     "output_type": "execute_result"
    }
   ],
   "source": [
    "bcca_recon = np.load('/home/xcite/MV_CBCT/recon_6x_100.npy')\n",
    "\n",
    "plt.figure()\n",
    "plt.imshow(np.rot90(bcca_recon.T[45],2),vmax=0.012)"
   ]
  },
  {
   "cell_type": "code",
   "execution_count": 7,
   "metadata": {},
   "outputs": [],
   "source": [
    "recon_slice = np.rot90(bcca_recon.T[45],2)\n",
    "im = create_mask(recon_slice.shape,off =[-0.2,0], r= 5.8)\n",
    "contrast = []\n",
    "\n",
    "for ii in range(2,int(np.max(im)+1)):\n",
    "    \n",
    "    contrast.append(np.mean(recon_slice[im == ii]))\n",
    "\n",
    "# Get rid of the delrin\n",
    "bcca_data = np.array(sorted(contrast))[np.arange(len(contrast))]"
   ]
  },
  {
   "cell_type": "code",
   "execution_count": 8,
   "metadata": {},
   "outputs": [
    {
     "data": {
      "application/vnd.jupyter.widget-view+json": {
       "model_id": "f32d0702641a4175a5c046ff113439a5",
       "version_major": 2,
       "version_minor": 0
      },
      "text/plain": [
       "Canvas(toolbar=Toolbar(toolitems=[('Home', 'Reset original view', 'home', 'home'), ('Back', 'Back to previous …"
      ]
     },
     "metadata": {},
     "output_type": "display_data"
    }
   ],
   "source": [
    "def HU_fun(a,x,y):\n",
    "    return np.mean(np.abs((x - a[0])/(a[1])- y))\n",
    "\n",
    "res = minimize(HU_fun,[cc[3],cc[0]],args=(cc,bcca_data))\n",
    "\n",
    "x = [0,0,.853,0.945,.998,1.147,1.36,1.87]\n",
    "plt.figure()\n",
    "plt.plot(x,(cc - res.x[0])/(res.x[1] - res.x[0])*-1000,'s',c='cornflowerblue',label='fastCAT')\n",
    "plt.plot(x,bcca_data,'s',c='darkorange',label='Star-lack')\n",
    "\n",
    "fc_data = (cc - res.x[0])/(res.x[1] - res.x[0])*-1000\n",
    "\n",
    "xx = np.linspace(0,max(x),100)\n",
    "pp = np.polyfit(x,fc_data,1,full=1)\n",
    "qq = np.polyfit(x,bcca_data,1,full=1)\n",
    "yy = np.polyval(pp[0],xx)\n",
    "zz = np.polyval(qq[0],xx)\n",
    "\n",
    "plt.ylabel('HU')\n",
    "plt.xlabel('Relative electron density')\n",
    "plt.title('CWO')\n",
    "plt.xticks(x,['air1','air2','PMP','LDPE','Poly','Acrylic','Delrin','Teflon'],rotation=75)\n",
    "plt.plot(xx,yy,':',c='cornflowerblue',lw=0.8)\n",
    "plt.plot(xx,zz,'-.',c='darkorange',lw = 0.8)\n",
    "plt.legend()\n",
    "plt.tight_layout()\n",
    "plt.savefig('initial_cwo')"
   ]
  },
  {
   "cell_type": "code",
   "execution_count": 9,
   "metadata": {},
   "outputs": [
    {
     "data": {
      "application/vnd.jupyter.widget-view+json": {
       "model_id": "fedb22ff07a84703a9aa872ac695a831",
       "version_major": 2,
       "version_minor": 0
      },
      "text/plain": [
       "Canvas(toolbar=Toolbar(toolitems=[('Home', 'Reset original view', 'home', 'home'), ('Back', 'Back to previous …"
      ]
     },
     "metadata": {},
     "output_type": "display_data"
    },
    {
     "data": {
      "text/plain": [
       "Text(0.5, 1.0, 'Experimental Validation 6 MV 100MU')"
      ]
     },
     "execution_count": 9,
     "metadata": {},
     "output_type": "execute_result"
    }
   ],
   "source": [
    "plt.figure()\n",
    "scale, offset, offset2 = 16.5, 0.00650, 0.057\n",
    "plt.plot(scale*(bcca_data - offset),'rx')\n",
    "plt.plot(cc - offset2,'kx')\n",
    "plt.ylabel('Machine Output Value [??]')\n",
    "plt.xlabel('Material')\n",
    "plt.legend(['BCCA data','fastCAT'])\n",
    "plt.title('Experimental Validation 6 MV 100MU')"
   ]
  },
  {
   "cell_type": "code",
   "execution_count": 10,
   "metadata": {},
   "outputs": [
    {
     "data": {
      "text/plain": [
       "array([0.99978516])"
      ]
     },
     "execution_count": 10,
     "metadata": {},
     "output_type": "execute_result"
    }
   ],
   "source": [
    "1-pp[1]/np.std(fc_data)**2"
   ]
  },
  {
   "cell_type": "code",
   "execution_count": 11,
   "metadata": {},
   "outputs": [
    {
     "data": {
      "text/plain": [
       "array([1.])"
      ]
     },
     "execution_count": 11,
     "metadata": {},
     "output_type": "execute_result"
    }
   ],
   "source": [
    "1-qq[1]/np.std(star_data)**2"
   ]
  },
  {
   "cell_type": "code",
   "execution_count": 12,
   "metadata": {},
   "outputs": [
    {
     "data": {
      "application/vnd.jupyter.widget-view+json": {
       "model_id": "d01171004fcd478a9effacfa8f5a2d7b",
       "version_major": 2,
       "version_minor": 0
      },
      "text/plain": [
       "Canvas(toolbar=Toolbar(toolitems=[('Home', 'Reset original view', 'home', 'home'), ('Back', 'Back to previous …"
      ]
     },
     "metadata": {},
     "output_type": "display_data"
    },
    {
     "data": {
      "application/vnd.jupyter.widget-view+json": {
       "model_id": "618e5666a1624520bd17eee4ceb70877",
       "version_major": 2,
       "version_minor": 0
      },
      "text/plain": [
       "Canvas(toolbar=Toolbar(toolitems=[('Home', 'Reset original view', 'home', 'home'), ('Back', 'Back to previous …"
      ]
     },
     "metadata": {},
     "output_type": "display_data"
    },
    {
     "data": {
      "text/plain": [
       "<matplotlib.image.AxesImage at 0x7fc0181567d0>"
      ]
     },
     "execution_count": 12,
     "metadata": {},
     "output_type": "execute_result"
    }
   ],
   "source": [
    "plt.figure()\n",
    "recon_slice[im != 0] = 0\n",
    "plt.imshow(recon_slice)\n",
    "\n",
    "plt.figure()\n",
    "recon_slice[im != 0] = 0\n",
    "plt.imshow(recon_slice)"
   ]
  },
  {
   "cell_type": "markdown",
   "metadata": {},
   "source": [
    "# Now lets look at the kV data "
   ]
  },
  {
   "cell_type": "code",
   "execution_count": 29,
   "metadata": {},
   "outputs": [],
   "source": [
    "nviews = 360"
   ]
  },
  {
   "cell_type": "code",
   "execution_count": 30,
   "metadata": {},
   "outputs": [
    {
     "name": "stdout",
     "output_type": "stream",
     "text": [
      "Calculation:  1 / 50\n",
      "Calculation:  2 / 50\n",
      "Calculation:  3 / 50\n",
      "Calculation:  4 / 50\n",
      "Calculation:  5 / 50\n",
      "Calculation:  6 / 50\n",
      "Calculation:  7 / 50\n",
      "Calculation:  8 / 50\n",
      "Calculation:  9 / 50\n",
      "Calculation:  10 / 50\n",
      "Calculation:  11 / 50\n",
      "Calculation:  12 / 50\n",
      "Calculation:  13 / 50\n",
      "Calculation:  14 / 50\n",
      "Calculation:  15 / 50\n",
      "Calculation:  16 / 50\n",
      "Calculation:  17 / 50\n",
      "Calculation:  18 / 50\n",
      "Calculation:  19 / 50\n",
      "Calculation:  20 / 50\n",
      "Calculation:  21 / 50\n",
      "Calculation:  22 / 50\n",
      "Calculation:  23 / 50\n",
      "Calculation:  24 / 50\n",
      "Calculation:  25 / 50\n",
      "Calculation:  26 / 50\n",
      "Calculation:  27 / 50\n",
      "Calculation:  28 / 50\n",
      "Calculation:  29 / 50\n",
      "Calculation:  30 / 50\n",
      "Calculation:  31 / 50\n",
      "Calculation:  32 / 50\n",
      "Calculation:  33 / 50\n",
      "Calculation:  34 / 50\n",
      "Calculation:  35 / 50\n",
      "Calculation:  36 / 50\n",
      "Calculation:  37 / 50\n",
      "Calculation:  38 / 50\n",
      "Calculation:  39 / 50\n",
      "Calculation:  40 / 50\n",
      "Calculation:  41 / 50\n",
      "Calculation:  42 / 50\n",
      "Calculation:  43 / 50\n",
      "Calculation:  44 / 50\n",
      "Calculation:  45 / 50\n",
      "Calculation:  46 / 50\n",
      "Calculation:  47 / 50\n",
      "Calculation:  48 / 50\n",
      "Calculation:  49 / 50\n",
      "Calculation:  50 / 50\n",
      "(19, 19, 19) 19\n"
     ]
    }
   ],
   "source": [
    "s = fc.calculate_spectrum(100, 12, 3, 50)\n",
    "s.attenuate(0.2,fc.get_mu(z=13))\n",
    "kernel = fc.Kernel(s,'CsI-784-micrometer')\n",
    "angles = np.linspace(0,np.pi*2,nviews)        "
   ]
  },
  {
   "cell_type": "code",
   "execution_count": 164,
   "metadata": {},
   "outputs": [
    {
     "name": "stdout",
     "output_type": "stream",
     "text": [
      "bowtie is off False\n",
      "Using the bowtie filter True\n",
      "really doing it!\n",
      "ratio is 360783.2517322936 number of photons 0.7874215885840448\n"
     ]
    }
   ],
   "source": [
    "phantom = fc.Catphan_404()\n",
    "phantom.phan_map = ['air','CATPHAN_Polystyrene','CATPHAN_Acrylic','CATPHAN_B20','CATPHAN_Delrin_revised','water','CATPHAN_Teflon_revised','air','CATPHAN_PMP','CATPHAN_B50','CATPHAN_LDPE','water','CATPHAN_Polystyrene','air','CATPHAN_Acrylic'] \n",
    "phantom.return_projs(kernel,s,angles,det_on=True,scat_on=False,mgy=7000/nviews,bowtie=True)\n",
    "phantom.reconstruct('FDK',filt='ram_lak')"
   ]
  },
  {
   "cell_type": "code",
   "execution_count": 165,
   "metadata": {},
   "outputs": [],
   "source": [
    "# np.save('recons/kV_CsI_recon_ram_lak_360',phantom.img[4])\n",
    "# slice_recon = np.load('recons/kV_CsI_recon_ram_lak_360.npy')\n",
    "slice_recon = phantom.img[4]"
   ]
  },
  {
   "cell_type": "code",
   "execution_count": 146,
   "metadata": {},
   "outputs": [],
   "source": [
    "# np.save('recon_no_bowtie',slice_recon)"
   ]
  },
  {
   "cell_type": "code",
   "execution_count": 166,
   "metadata": {},
   "outputs": [
    {
     "data": {
      "application/vnd.jupyter.widget-view+json": {
       "model_id": "0d81fae00d774085b782e4236efe374e",
       "version_major": 2,
       "version_minor": 0
      },
      "text/plain": [
       "Canvas(toolbar=Toolbar(toolitems=[('Home', 'Reset original view', 'home', 'home'), ('Back', 'Back to previous …"
      ]
     },
     "metadata": {},
     "output_type": "display_data"
    }
   ],
   "source": [
    "plt.figure()\n",
    "plt.imshow((slice_recon))\n",
    "\n",
    "recon_slice = slice_recon\n",
    "im = create_mask(recon_slice.shape,r=5.75)\n",
    "contrast = []\n",
    "\n",
    "for ii in range(2,int(np.max(im)+1)):\n",
    "    contrast.append(np.mean(recon_slice[im == ii]))\n",
    "\n",
    "# Get rid of the delrin\n",
    "cc = np.array(sorted(contrast))[np.arange(len(contrast))]"
   ]
  },
  {
   "cell_type": "markdown",
   "metadata": {},
   "source": [
    "# Now lets load the experimental kV data which was generated in ~/MV_CBCT and saved as a npy file"
   ]
  },
  {
   "cell_type": "code",
   "execution_count": 196,
   "metadata": {},
   "outputs": [
    {
     "data": {
      "application/vnd.jupyter.widget-view+json": {
       "model_id": "5845153be37b4908a6f6c2d3532665ba",
       "version_major": 2,
       "version_minor": 0
      },
      "text/plain": [
       "Canvas(toolbar=Toolbar(toolitems=[('Home', 'Reset original view', 'home', 'home'), ('Back', 'Back to previous …"
      ]
     },
     "metadata": {},
     "output_type": "display_data"
    },
    {
     "data": {
      "text/plain": [
       "<matplotlib.image.AxesImage at 0x7fc01424ba90>"
      ]
     },
     "execution_count": 196,
     "metadata": {},
     "output_type": "execute_result"
    }
   ],
   "source": [
    "bcca_recon = np.load('/home/xcite/MV_CBCT/jericho_data/dicom_volume.npy')\n",
    "\n",
    "plt.figure()\n",
    "plt.imshow(np.rot90(bcca_recon.T[50],2))"
   ]
  },
  {
   "cell_type": "code",
   "execution_count": 197,
   "metadata": {},
   "outputs": [],
   "source": [
    "recon_slice = np.rot90(bcca_recon.T[50])\n",
    "im = create_mask(recon_slice.shape,off = [-0.1,-0.02], r= 4.45, radius = 0.3)\n",
    "contrast = []\n",
    "\n",
    "for ii in range(2,int(np.max(im)+1)):\n",
    "    \n",
    "    contrast.append(np.mean(recon_slice[im == ii]))\n",
    "\n",
    "# Get rid of the delrin\n",
    "# bcca_data = np.array(sorted(contrast))[np.arange(len(contrast)) != 6]\n",
    "# cc = np.array(sorted(contrast))[np.arange(len(contrast)) != 6]\n",
    "# Get rid of the delrin\n",
    "bcca_data = np.array(sorted(contrast))[np.arange(len(contrast)) ]\n",
    "# cc = np.array(sorted(contrast))[np.arange(len(contrast)) ]"
   ]
  },
  {
   "cell_type": "code",
   "execution_count": 198,
   "metadata": {},
   "outputs": [
    {
     "data": {
      "application/vnd.jupyter.widget-view+json": {
       "model_id": "cc2a37fd5fb0473f982b84170577bc59",
       "version_major": 2,
       "version_minor": 0
      },
      "text/plain": [
       "Canvas(toolbar=Toolbar(toolitems=[('Home', 'Reset original view', 'home', 'home'), ('Back', 'Back to previous …"
      ]
     },
     "metadata": {},
     "output_type": "display_data"
    },
    {
     "data": {
      "application/vnd.jupyter.widget-view+json": {
       "model_id": "4c02156884da4800b9c72cd0aabe1866",
       "version_major": 2,
       "version_minor": 0
      },
      "text/plain": [
       "Canvas(toolbar=Toolbar(toolitems=[('Home', 'Reset original view', 'home', 'home'), ('Back', 'Back to previous …"
      ]
     },
     "metadata": {},
     "output_type": "display_data"
    },
    {
     "data": {
      "text/plain": [
       "<matplotlib.image.AxesImage at 0x7fc010d41710>"
      ]
     },
     "execution_count": 198,
     "metadata": {},
     "output_type": "execute_result"
    }
   ],
   "source": [
    "plt.figure()\n",
    "recon_slice[im != 0] = 0\n",
    "plt.imshow(recon_slice)\n",
    "\n",
    "plt.figure()\n",
    "recon_slice[im != 0] = 0\n",
    "plt.imshow(recon_slice)"
   ]
  },
  {
   "cell_type": "code",
   "execution_count": 199,
   "metadata": {},
   "outputs": [
    {
     "data": {
      "application/vnd.jupyter.widget-view+json": {
       "model_id": "b62149074a494baf9cf379df1cb17015",
       "version_major": 2,
       "version_minor": 0
      },
      "text/plain": [
       "Canvas(toolbar=Toolbar(toolitems=[('Home', 'Reset original view', 'home', 'home'), ('Back', 'Back to previous …"
      ]
     },
     "metadata": {},
     "output_type": "display_data"
    },
    {
     "data": {
      "text/plain": [
       "<matplotlib.legend.Legend at 0x7fc010f3aa10>"
      ]
     },
     "execution_count": 199,
     "metadata": {},
     "output_type": "execute_result"
    }
   ],
   "source": [
    "def HU_fun(a,x,y):\n",
    "    return np.mean(np.abs((x - a[0])/(a[1] - a[0])*-1000 +1000 - y))\n",
    "\n",
    "bcca_revised = bcca_data[np.arange(len(contrast)) !=6 ]\n",
    "cc2 = cc[np.arange(len(contrast)) != 6 ]\n",
    "\n",
    "res = minimize(HU_fun,[cc2[3],0.1*cc2[0]],args=(cc2,bcca_revised))\n",
    "\n",
    "x = [0,0,.853,0.945,.998,1.147,1.87]\n",
    "            \n",
    "fc_data = (cc2 - res.x[0])/(res.x[1] - res.x[0])*-1000 + 1000\n",
    "# x = [0,0,.853,0.945,.998,1.147,1.36,1.87]\n",
    "plt.figure()\n",
    "plt.plot(x,bcca_revised,'s',c='darkorange',label='Star-lack')\n",
    "plt.plot(x,fc_data,'r*',c='cornflowerblue',label='fastCAT')\n",
    "plt.legend()"
   ]
  },
  {
   "cell_type": "code",
   "execution_count": 200,
   "metadata": {},
   "outputs": [
    {
     "data": {
      "application/vnd.jupyter.widget-view+json": {
       "model_id": "6319fcb8fbac476e89752ca9739fd947",
       "version_major": 2,
       "version_minor": 0
      },
      "text/plain": [
       "Canvas(toolbar=Toolbar(toolitems=[('Home', 'Reset original view', 'home', 'home'), ('Back', 'Back to previous …"
      ]
     },
     "metadata": {},
     "output_type": "display_data"
    },
    {
     "data": {
      "text/plain": [
       "<matplotlib.legend.Legend at 0x7fc010e53650>"
      ]
     },
     "execution_count": 200,
     "metadata": {},
     "output_type": "execute_result"
    }
   ],
   "source": [
    "def HU_fun(a,x,y):\n",
    "    return np.sum(np.abs((x - a[0])*(a[1]) - y))\n",
    "\n",
    "bcca_revised = bcca_data[np.arange(len(contrast)) !=6 ]\n",
    "cc2 = cc[np.arange(len(contrast)) != 6 ]\n",
    "\n",
    "res = minimize(HU_fun,[cc2[0],6600],args=(cc2,bcca_revised),method = 'COBYLA')\n",
    "\n",
    "x = [0,0,.853,0.945,.998,1.147,1.87]\n",
    "            \n",
    "fc_data = (cc2 - res.x[0])*(res.x[1])\n",
    "# x = [0,0,.853,0.945,.998,1.147,1.36,1.87]\n",
    "plt.figure()\n",
    "plt.plot(x,bcca_revised,'s',c='darkorange',label='Star-lack')\n",
    "plt.plot(x,fc_data,'r*',c='cornflowerblue',label='fastCAT')\n",
    "plt.legend()"
   ]
  },
  {
   "cell_type": "code",
   "execution_count": null,
   "metadata": {},
   "outputs": [],
   "source": [
    "res"
   ]
  },
  {
   "cell_type": "code",
   "execution_count": 171,
   "metadata": {},
   "outputs": [
    {
     "data": {
      "application/vnd.jupyter.widget-view+json": {
       "model_id": "a6fa0f888cde4ee8abda8adad31346b5",
       "version_major": 2,
       "version_minor": 0
      },
      "text/plain": [
       "Canvas(toolbar=Toolbar(toolitems=[('Home', 'Reset original view', 'home', 'home'), ('Back', 'Back to previous …"
      ]
     },
     "metadata": {},
     "output_type": "display_data"
    },
    {
     "data": {
      "text/plain": [
       "<matplotlib.legend.Legend at 0x7fc015883e90>"
      ]
     },
     "execution_count": 171,
     "metadata": {},
     "output_type": "execute_result"
    }
   ],
   "source": [
    "def HU_fun(a,x,y):\n",
    "    return np.mean(np.abs((x - a[0])/(a[1] - a[0])*-1000 +1000 - y))\n",
    "\n",
    "bcca_revised = bcca_data\n",
    "cc2 = cc\n",
    "\n",
    "res = minimize(HU_fun,[cc2[3],0.1*cc2[0]],args=(cc2,bcca_revised))\n",
    "\n",
    "x = [0,0,.853,0.945,.998,1.147,1.87]\n",
    "            \n",
    "fc_data = (cc2 - res.x[0])/(res.x[1] - res.x[0])*-1000 + 1000\n",
    "x = [0,0,.853,0.945,.998,1.147,1.36,1.87]\n",
    "plt.figure()\n",
    "plt.plot(x,bcca_revised,'s',c='darkorange',label='Star-lack')\n",
    "plt.plot(x,fc_data,'r*',c='cornflowerblue',label='fastCAT')\n",
    "plt.legend()"
   ]
  },
  {
   "cell_type": "code",
   "execution_count": 163,
   "metadata": {},
   "outputs": [
    {
     "data": {
      "text/plain": [
       "      fun: 18.501660223129925\n",
       " hess_inv: array([[ 3.73296625e-05, -1.30796365e-04],\n",
       "       [-1.30796365e-04,  4.58785464e-04]])\n",
       "      jac: array([0., 0.])\n",
       "  message: 'Optimization terminated successfully.'\n",
       "     nfev: 42\n",
       "      nit: 3\n",
       "     njev: 14\n",
       "   status: 0\n",
       "  success: True\n",
       "        x: array([0.2180453 , 0.01511759])"
      ]
     },
     "execution_count": 163,
     "metadata": {},
     "output_type": "execute_result"
    }
   ],
   "source": [
    "res"
   ]
  },
  {
   "cell_type": "code",
   "execution_count": 68,
   "metadata": {},
   "outputs": [],
   "source": [
    "fc_data = (cc - res.x[0])/(res.x[1] - res.x[0])*-1000\n",
    "\n",
    "xx = np.linspace(0,max(x),100)\n",
    "pp = np.polyfit(x,fc_data,1,full=1)\n",
    "qq = np.polyfit(x,bcca_data,1,full=1)\n",
    "yy = np.polyval(pp[0],xx)\n",
    "zz = np.polyval(qq[0],xx)\n",
    "\n",
    "plt.ylabel('HU')\n",
    "plt.xlabel('Relative electron density')\n",
    "plt.title('CWO')\n",
    "plt.xticks(x,['air1','air2','PMP','LDPE','Poly','Acrylic','Delrin','Teflon'],rotation=75)\n",
    "plt.plot(xx,yy,':',c='cornflowerblue',lw=0.8)\n",
    "plt.plot(xx,zz,'-.',c='darkorange',lw = 0.8)\n",
    "plt.legend()\n",
    "plt.tight_layout()\n",
    "plt.savefig('initial_cwo')"
   ]
  },
  {
   "cell_type": "code",
   "execution_count": 172,
   "metadata": {},
   "outputs": [
    {
     "data": {
      "application/vnd.jupyter.widget-view+json": {
       "model_id": "7ed19fad09d14b3d923963d5ed67651c",
       "version_major": 2,
       "version_minor": 0
      },
      "text/plain": [
       "Canvas(toolbar=Toolbar(toolitems=[('Home', 'Reset original view', 'home', 'home'), ('Back', 'Back to previous …"
      ]
     },
     "metadata": {},
     "output_type": "display_data"
    },
    {
     "data": {
      "text/plain": [
       "Text(0.5, 1.0, 'Experimental Validation 6 MV 100MU')"
      ]
     },
     "execution_count": 172,
     "metadata": {},
     "output_type": "execute_result"
    }
   ],
   "source": [
    "plt.figure()\n",
    "scale, offset, offset2 = 16.5, 0.00650, 0.057\n",
    "plt.plot(scale*(bcca_data - offset),'rx')\n",
    "plt.plot(cc - offset2,'kx')\n",
    "plt.xlabel('Machine Output Value [??]')\n",
    "plt.ylabel('Material')\n",
    "plt.legend(['BCCA data','fastCAT'])\n",
    "plt.title('Experimental Validation 6 MV 100MU')"
   ]
  },
  {
   "cell_type": "code",
   "execution_count": 153,
   "metadata": {},
   "outputs": [
    {
     "data": {
      "text/plain": [
       "array([0.99967224])"
      ]
     },
     "execution_count": 153,
     "metadata": {},
     "output_type": "execute_result"
    }
   ],
   "source": [
    "1-pp[1]/np.std(fc_data)**2"
   ]
  },
  {
   "cell_type": "code",
   "execution_count": 154,
   "metadata": {},
   "outputs": [
    {
     "data": {
      "text/plain": [
       "array([1.])"
      ]
     },
     "execution_count": 154,
     "metadata": {},
     "output_type": "execute_result"
    }
   ],
   "source": [
    "1-qq[1]/np.std(star_data)**2"
   ]
  }
 ],
 "metadata": {
  "kernelspec": {
   "display_name": "Python 3",
   "language": "python",
   "name": "python3"
  },
  "language_info": {
   "codemirror_mode": {
    "name": "ipython",
    "version": 3
   },
   "file_extension": ".py",
   "mimetype": "text/x-python",
   "name": "python",
   "nbconvert_exporter": "python",
   "pygments_lexer": "ipython3",
   "version": "3.7.6"
  }
 },
 "nbformat": 4,
 "nbformat_minor": 4
}
