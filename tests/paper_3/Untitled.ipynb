{
 "cells": [
  {
   "cell_type": "code",
   "execution_count": 1,
   "id": "saving-meaning",
   "metadata": {},
   "outputs": [
    {
     "name": "stdout",
     "output_type": "stream",
     "text": [
      "Populating the interactive namespace from numpy and matplotlib\n"
     ]
    }
   ],
   "source": [
    "%pylab widget\n",
    "%load_ext autoreload\n",
    "%autoreload 2\n",
    "\n",
    "import fastcat.fastcat as fc"
   ]
  },
  {
   "cell_type": "code",
   "execution_count": 2,
   "id": "individual-melissa",
   "metadata": {},
   "outputs": [
    {
     "name": "stdout",
     "output_type": "stream",
     "text": [
      "(19, 41, 41) 19\n",
      "bowtie is off False\n",
      "really doing it!\n",
      "ratio is 435.46450211168496 number of photons 0.010763158668836276\n"
     ]
    }
   ],
   "source": [
    "nviews = 1 \n",
    "\n",
    "s = fc.Spectrum()\n",
    "s.load('Varian_truebeam_phasespace')\n",
    "kernel = fc.Kernel(s,'CuGOS-784-micrometer')\n",
    "\n",
    "angles = np.linspace(0,np.pi*2,nviews)        \n",
    "\n",
    "phantom = fc.Catphan_404()\n",
    "phantom.phan_map = ['air','CATPHAN_Polystyrene','CATPHAN_Acrylic','CATPHAN_Acrylic','CATPHAN_Delrin','CATPHAN_Acrylic','CATPHAN_Teflon_revised','air','CATPHAN_PMP','CATPHAN_Acrylic','CATPHAN_LDPE','CATPHAN_Acrylic','CATPHAN_Polystyrene','air','CATPHAN_Acrylic'] \n",
    "phantom.return_projs(kernel,s,angles,det_on=True,scat_on=False,mgy=1.39*50/nviews)\n",
    "phantom.reconstruct('FDK',filt='ram_lak')\n",
    "\n",
    "slice_recon = phantom.img[5]"
   ]
  },
  {
   "cell_type": "code",
   "execution_count": null,
   "id": "governmental-mentor",
   "metadata": {},
   "outputs": [],
   "source": []
  }
 ],
 "metadata": {
  "kernelspec": {
   "display_name": "Python 3",
   "language": "python",
   "name": "python3"
  },
  "language_info": {
   "codemirror_mode": {
    "name": "ipython",
    "version": 3
   },
   "file_extension": ".py",
   "mimetype": "text/x-python",
   "name": "python",
   "nbconvert_exporter": "python",
   "pygments_lexer": "ipython3",
   "version": "3.7.6"
  }
 },
 "nbformat": 4,
 "nbformat_minor": 5
}
