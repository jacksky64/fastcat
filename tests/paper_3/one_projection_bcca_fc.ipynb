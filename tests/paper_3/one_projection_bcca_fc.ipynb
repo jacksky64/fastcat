{
 "cells": [
  {
   "cell_type": "code",
   "execution_count": 2,
   "id": "young-economics",
   "metadata": {},
   "outputs": [
    {
     "name": "stdout",
     "output_type": "stream",
     "text": [
      "Populating the interactive namespace from numpy and matplotlib\n"
     ]
    }
   ],
   "source": [
    "%pylab widget\n",
    "%load_ext autoreload\n",
    "%autoreload 2\n",
    "\n",
    "# from anysis_functions import *\n",
    "import fastcat.fastcat as fc\n",
    "\n",
    "from scipy.optimize import minimize"
   ]
  },
  {
   "cell_type": "code",
   "execution_count": 19,
   "id": "diverse-strain",
   "metadata": {},
   "outputs": [],
   "source": [
    "# mv_6x = np.load('/home/xcite/MV_CBCT/projections/mv_300_6x.npy')[100]\n",
    "# mv_6x_air = np.load('/home/xcite/MV_CBCT/projections/mv_air.npy')[100]\n",
    "# mv_25x = np.load('/home/xcite/MV_CBCT/projections/mv_phantom_25x.npy')[100]\n",
    "# mv_25x_air = np.load('/home/xcite/MV_CBCT/projections/mv_air_25x.npy')[100]\n",
    "# kv = np.load('/home/xcite/MV_CBCT/projections/kv_phantom.npy')[100]\n",
    "# kv_air = np.load('/home/xcite/MV_CBCT/projections/kv_air.npy')[100]\n",
    "\n",
    "# proj_6x = -np.log(mv_6x/mv_6x_air)\n",
    "# proj_25x = -np.log(mv_25x/mv_25x_air)\n",
    "# proj_kv = -np.log(kv/kv_air)"
   ]
  },
  {
   "cell_type": "code",
   "execution_count": 20,
   "id": "junior-preliminary",
   "metadata": {},
   "outputs": [],
   "source": [
    "proj_6x = np.load('proj_6x.npy')\n",
    "proj_25x = np.load('proj_25x.npy')\n",
    "proj_kv = np.load('proj_kv.npy')"
   ]
  },
  {
   "cell_type": "code",
   "execution_count": 21,
   "id": "foster-printing",
   "metadata": {},
   "outputs": [
    {
     "data": {
      "application/vnd.jupyter.widget-view+json": {
       "model_id": "397de718ddd34670813772283ececb5e",
       "version_major": 2,
       "version_minor": 0
      },
      "text/plain": [
       "Canvas(toolbar=Toolbar(toolitems=[('Home', 'Reset original view', 'home', 'home'), ('Back', 'Back to previous …"
      ]
     },
     "metadata": {},
     "output_type": "display_data"
    },
    {
     "data": {
      "text/plain": [
       "Text(0, 0.5, '$ln(I/I_0)$')"
      ]
     },
     "execution_count": 21,
     "metadata": {},
     "output_type": "execute_result"
    }
   ],
   "source": [
    "rad = 90\n",
    "plt.figure()\n",
    "plot(mean(proj_6x[50:150],0)[rad:-(rad+12)],color='cornflowerblue',label= '6 MV')\n",
    "plot(mean(proj_25x[:100],0)[9+rad:-(rad+3)],color='darkorange',label='2.5 MV')\n",
    "plot(mean(proj_kv[50:150],0)[11+rad:-(rad + 1)],'k',label='100 kVp')\n",
    "legend()\n",
    "xlabel('pixel')\n",
    "ylabel('$ln(I/I_0)$')"
   ]
  },
  {
   "cell_type": "code",
   "execution_count": 25,
   "id": "rental-degree",
   "metadata": {},
   "outputs": [],
   "source": [
    "# This is the varian OBI inherent filtration as defined in the manual\n",
    "s2 = fc.calculate_spectrum(100, 12, 3, 50,monitor=None)\n",
    "s2.attenuate(0.3,fc.get_mu(z=13))\n",
    "s2.attenuate(0.089,fc.get_mu(z=22))\n",
    "s2.x, s2.y = s2.get_points()"
   ]
  },
  {
   "cell_type": "code",
   "execution_count": 35,
   "id": "royal-search",
   "metadata": {},
   "outputs": [
    {
     "name": "stdout",
     "output_type": "stream",
     "text": [
      "(19, 41, 41) 19\n",
      "bowtie is off False\n",
      "really doing it!\n",
      "ratio is 1899804.3099668277 number of photons 0.010763158668836276\n",
      "(19, 41, 41) 19\n",
      "bowtie is off False\n",
      "really doing it!\n",
      "ratio is 2768706.8113217996 number of photons 0.01015508406165716\n",
      "(19, 19, 19) 19\n",
      "bowtie is off False\n",
      "Using the bowtie filter True\n",
      "really doing it!\n",
      "ratio is 19529760.92844292 number of photons 0.6675340524127561\n"
     ]
    }
   ],
   "source": [
    "nviews = 2 \n",
    "angles = np.linspace(0,np.pi*2,nviews)\n",
    "\n",
    "phantom = fc.Catphan_404()\n",
    "phantom.phan_map = ['air','water','CATPHAN_Acrylic','CATPHAN_Acrylic','CATPHAN_Acrylic','CATPHAN_Acrylic','CATPHAN_Acrylic','CATPHAN_Acrylic','CATPHAN_Acrylic','CATPHAN_Acrylic','CATPHAN_Acrylic','CATPHAN_Acrylic','CATPHAN_Acrylic','CATPHAN_Acrylic','CATPHAN_Acrylic','CATPHAN_Acrylic','CATPHAN_Acrylic'] \n",
    "\n",
    "spectra = ['Varian_truebeam_phasespace',\n",
    "           'W_spectrum_25',\n",
    "           'kV']\n",
    "detectors = ['CuGOS-784-micrometer',\n",
    "           'CuGOS-784-micrometer',\n",
    "           'CsI-784-micrometer']\n",
    "\n",
    "scats = []\n",
    "\n",
    "\n",
    "angles = np.linspace(0,np.pi*2,2)        \n",
    "# phantom = fc.Catphan_515()\n",
    "s = fc.Spectrum()\n",
    "\n",
    "for detector, spectrum in zip(detectors, spectra):\n",
    "    \n",
    "    if spectrum == 'kV':\n",
    "        s = s2\n",
    "    else:\n",
    "        s.load(spectrum)\n",
    "\n",
    "    kernel = fc.Kernel(s, detector)\n",
    "    if spectrum == 'kV':\n",
    "        phantom.return_projs(kernel,s,angles,det_on=True,mgy = 1000.0,bowtie=True)\n",
    "    else: \n",
    "        phantom.return_projs(kernel,s,angles,det_on=True,mgy = 1000.0)\n",
    "        \n",
    "    scats.append(np.mean(phantom.proj[0],0))"
   ]
  },
  {
   "cell_type": "code",
   "execution_count": 36,
   "id": "simple-explosion",
   "metadata": {},
   "outputs": [
    {
     "data": {
      "application/vnd.jupyter.widget-view+json": {
       "model_id": "403f9da422874638a9ff4e488950745e",
       "version_major": 2,
       "version_minor": 0
      },
      "text/plain": [
       "Canvas(toolbar=Toolbar(toolitems=[('Home', 'Reset original view', 'home', 'home'), ('Back', 'Back to previous …"
      ]
     },
     "metadata": {},
     "output_type": "display_data"
    }
   ],
   "source": [
    "figure()\n",
    "for ii in range(len(scats)):\n",
    "    \n",
    "    plot((scats[ii])/10)"
   ]
  },
  {
   "cell_type": "code",
   "execution_count": 10,
   "id": "thermal-civilization",
   "metadata": {},
   "outputs": [
    {
     "data": {
      "application/vnd.jupyter.widget-view+json": {
       "model_id": "a3cc9f3560b94fcd902ed05b5d0bffc5",
       "version_major": 2,
       "version_minor": 0
      },
      "text/plain": [
       "Canvas(toolbar=Toolbar(toolitems=[('Home', 'Reset original view', 'home', 'home'), ('Back', 'Back to previous …"
      ]
     },
     "metadata": {},
     "output_type": "display_data"
    },
    {
     "data": {
      "text/plain": [
       "<matplotlib.image.AxesImage at 0x7f9bab471050>"
      ]
     },
     "execution_count": 10,
     "metadata": {},
     "output_type": "execute_result"
    }
   ],
   "source": [
    "dist = np.linspace(-256*0.0784 - 0.0392,256*0.0784 - 0.0392, 512) # TODO: fix this gore!!\n",
    "factor = (152/(np.sqrt(dist**2 + 152**2)))**3\n",
    "flood_summed = factor*660\n",
    "\n",
    "plt.figure()\n",
    "plt.subplot(111)\n",
    "\n",
    "dist_long = np.linspace(-256*0.0784 - 0.0392,256*0.0784 - 0.0392, 1024)\n",
    "\n",
    "# The primary projection don't include any scatter should add the coherent and the incoherent scatter\n",
    "plt.plot(dist,-0.83*np.log((scats[0][-1::-1])/flood_summed),linewidth = 1.0,color = 'cornflowerblue')\n",
    "\n",
    "plt.plot(dist,-1.0*np.log(real_spec_CT/real_spec_air),'k-.',linewidth = 0.4,markersize=0.4)\n",
    "plt.xlim([-20,20])\n",
    "# plt.plot(dist_long,(np.mean(Air[63,200:220],0)/3)[-1::-1],'-',linewidth = 1,color = 'darkorange')\n",
    "plt.plot(dist_long,-1*np.log((np.mean(Catphan2[63,270:290],0))[-1::-1]/(np.mean(Air[63,270:275],0))[-1::-1]),'-',linewidth = 1,color = 'darkorange')\n",
    "plt.legend(['fastCAT 6 MV W', 'Topas 6 MV W','Varian Truebeam 6 MV W', 'Topas 6 MV Al'])\n",
    "plt.xlabel('[cm]')\n",
    "plt.ylabel('Energy Deposition [MeV]')\n",
    "plt.tight_layout()"
   ]
  }
 ],
 "metadata": {
  "kernelspec": {
   "display_name": "Python 3",
   "language": "python",
   "name": "python3"
  },
  "language_info": {
   "codemirror_mode": {
    "name": "ipython",
    "version": 3
   },
   "file_extension": ".py",
   "mimetype": "text/x-python",
   "name": "python",
   "nbconvert_exporter": "python",
   "pygments_lexer": "ipython3",
   "version": "3.7.6"
  }
 },
 "nbformat": 4,
 "nbformat_minor": 5
}
