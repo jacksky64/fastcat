{
 "cells": [
  {
   "cell_type": "code",
   "execution_count": 2,
   "id": "central-excuse",
   "metadata": {},
   "outputs": [
    {
     "name": "stdout",
     "output_type": "stream",
     "text": [
      "Populating the interactive namespace from numpy and matplotlib\n"
     ]
    }
   ],
   "source": [
    "%pylab widget"
   ]
  },
  {
   "cell_type": "code",
   "execution_count": 3,
   "id": "muslim-anatomy",
   "metadata": {},
   "outputs": [],
   "source": [
    "image_fc_scaled = np.load('no_noise_good_flat_filt_paper_draft_april.npy')"
   ]
  },
  {
   "cell_type": "code",
   "execution_count": 22,
   "id": "silent-envelope",
   "metadata": {},
   "outputs": [],
   "source": [
    "from matplotlib.patches import Rectangle"
   ]
  },
  {
   "cell_type": "code",
   "execution_count": 96,
   "id": "assigned-sunday",
   "metadata": {},
   "outputs": [
    {
     "data": {
      "application/vnd.jupyter.widget-view+json": {
       "model_id": "198c4a5db2984652a51483ea24fea6f2",
       "version_major": 2,
       "version_minor": 0
      },
      "text/plain": [
       "Canvas(toolbar=Toolbar(toolitems=[('Home', 'Reset original view', 'home', 'home'), ('Back', 'Back to previous …"
      ]
     },
     "metadata": {},
     "output_type": "display_data"
    }
   ],
   "source": [
    "bcca_recon = np.load('/home/xcite/MV_CBCT/old_recon_6x_300_rared.npy')\n",
    "recon_slice = np.rot90(np.mean(bcca_recon.T[30:52],0),2)\n",
    "\n",
    "plt.figure(figsize=[16,8])\n",
    "ax = plt.subplot(245)\n",
    "plt.imshow(recon_slice,cmap='gray',vmin=0.001,vmax=0.007)\n",
    "ax.add_patch(Rectangle((10,250),490,10,fill=None,color='r'))\n",
    "circle1 = plt.text(-60,306,'6 MV',color='k',size='x-large',rotation = 90);ax.add_artist(circle1)\n",
    "plt.axis('off')\n",
    "ax = plt.subplot(246)\n",
    "plt.imshow(np.roll(image_fc_scaled,-4),cmap='gray',vmin=0.001,vmax=0.007)\n",
    "plt.axis('off')\n",
    "ax = plt.subplot(247)\n",
    "# plt.plot(x,contrast_fc_scaled,'s',c='cornflowerblue',label='fastCAT')\n",
    "# plt.plot(x,contrast_bcca,'s',c='darkorange',label='Star-lack')\n",
    "# ax = plt.subplot(224)\n",
    "dist = 1.2*np.linspace(-7.85,7.89,512-20)\n",
    "dist2= 1.2*np.linspace(-8,8,512-20)\n",
    "scale=250000\n",
    "plt.plot(dist,(np.mean(recon_slice[250:260,10:-10],0)-0.0041)*scale,c='darkorange')\n",
    "plt.plot(dist2,(np.rot90(image_fc_scaled,0)[257,10:-10]+0.00005-0.0041)*scale,c='cornflowerblue')\n",
    "plt.legend(['Varian 6 MV','Fastcat 6 MV'],loc='upper center')\n",
    "plt.ylabel('HU')\n",
    "plt.xlabel('Lateral distance [cm]')\n",
    "plt.grid('on')\n",
    "# plt.tight_layout()\n",
    "\n",
    "fc_image = np.load('fc_images/fc_image_kv_887.npy')\n",
    "\n",
    "bcca_recon = np.load('/home/xcite/MV_CBCT/recon_kV_full.npy').T #recon_kv_jan_2021.npy')\n",
    "recon_slice = np.rot90(np.mean(bcca_recon.T[22:53],0)).copy()\n",
    "\n",
    "# plt.figure(figsize=[8,8])\n",
    "ax = plt.subplot(243)\n",
    "plt.title('Mean profile of ROI')\n",
    "dist = 1.2*np.linspace(-7.85,7.85,512-20)\n",
    "dist2= 1.2*np.linspace(-8,8,512-20)\n",
    "scale=60000\n",
    "plt.plot(dist,(np.mean(recon_slice[250:260,10:-10],0)[-1::-1]-0.0200)*scale,c='darkorange')\n",
    "plt.plot(dist2,(np.mean(np.rot90(np.roll(fc_image,-2),2)[250:260,10:-10],0)-0.0200)*scale,c='cornflowerblue')\n",
    "plt.ylabel('HU')\n",
    "plt.ylim([-1050,400])\n",
    "plt.legend(['Varian OBI 100 kVp','Fastcat 100 kVp'],loc='upper center')\n",
    "plt.grid('on')\n",
    "ax = plt.subplot(242)\n",
    "plt.imshow(np.rot90(np.roll(fc_image,5),0),cmap='gray',vmin=0.013,vmax=0.027)\n",
    "circle1 = plt.text(196,-20,'Fastcat',color='k',size='x-large');ax.add_artist(circle1)\n",
    "plt.axis('off')\n",
    "ax = plt.subplot(241)\n",
    "plt.imshow(np.rot90(recon_slice,2),cmap='gray',vmin=0.013,vmax=0.027)\n",
    "ax.add_patch(Rectangle((10,250),490,10,fill=None,color='r'))\n",
    "plt.arrow(200,90,30,-30,width=3,color='w')\n",
    "circle1 = plt.text(10,240,'ROI',color='r');ax.add_artist(circle1)\n",
    "circle1 = plt.text(-60,356,'100 kVp',color='k',size='x-large',rotation = 90);ax.add_artist(circle1)\n",
    "circle1 = plt.text(160,-20,'Experimental',color='k',size='x-large');ax.add_artist(circle1)\n",
    "plt.axis('off')\n",
    "plt.tight_layout()"
   ]
  },
  {
   "cell_type": "code",
   "execution_count": 11,
   "id": "balanced-history",
   "metadata": {},
   "outputs": [],
   "source": [
    "fc_image = np.load('fc_images/fc_image_kv_887.npy')\n",
    "\n",
    "bcca_recon = np.load('/home/xcite/MV_CBCT/recon_kV_full.npy').T #recon_kv_jan_2021.npy')\n",
    "recon_slice = np.rot90(np.mean(bcca_recon.T[22:53],0)).copy()\n",
    "\n",
    "plt.figure(figsize=[8,8])\n",
    "plt.subplot(222)\n",
    "dist = np.linspace(-7.89,7.89,512-20)\n",
    "dist2= np.linspace(-8,8,512-20)\n",
    "plt.plot(dist,np.mean(recon_slice[250:260,10:-10],0),c='darkorange')\n",
    "plt.plot(dist2,np.mean(np.rot90(np.roll(fc_image,7),2)[250:260,10:-10],0),c='cornflowerblue')\n",
    "plt.subplot(223)\n",
    "plt.imshow(np.rot90(fc_image,0),cmap='gray',vmin=0.013,vmax=0.027)\n",
    "plt.subplot(224)\n",
    "plt.imshow(np.rot90(recon_slice,2),cmap='gray',vmin=0.013,vmax=0.027)"
   ]
  },
  {
   "cell_type": "code",
   "execution_count": null,
   "id": "delayed-matter",
   "metadata": {},
   "outputs": [],
   "source": []
  }
 ],
 "metadata": {
  "kernelspec": {
   "display_name": "Python 3",
   "language": "python",
   "name": "python3"
  },
  "language_info": {
   "codemirror_mode": {
    "name": "ipython",
    "version": 3
   },
   "file_extension": ".py",
   "mimetype": "text/x-python",
   "name": "python",
   "nbconvert_exporter": "python",
   "pygments_lexer": "ipython3",
   "version": "3.7.6"
  }
 },
 "nbformat": 4,
 "nbformat_minor": 5
}
