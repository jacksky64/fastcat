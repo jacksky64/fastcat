{
 "cells": [
  {
   "cell_type": "code",
   "execution_count": 4,
   "metadata": {},
   "outputs": [
    {
     "name": "stdout",
     "output_type": "stream",
     "text": [
      "Populating the interactive namespace from numpy and matplotlib\n"
     ]
    }
   ],
   "source": [
    "%pylab widget\n",
    "%load_ext autoreload\n",
    "\n",
    "%autoreload 2"
   ]
  },
  {
   "cell_type": "markdown",
   "metadata": {},
   "source": [
    "### Now what would fastCat think of this?"
   ]
  },
  {
   "cell_type": "markdown",
   "metadata": {},
   "source": [
    "#### We can loop through this"
   ]
  },
  {
   "cell_type": "markdown",
   "metadata": {},
   "source": [
    "This runs off of a modified xpecgen that returns only the doses and "
   ]
  },
  {
   "cell_type": "code",
   "execution_count": 5,
   "metadata": {},
   "outputs": [
    {
     "name": "stdout",
     "output_type": "stream",
     "text": [
      "(19, 41, 41) 19\n",
      "bowtie is off False\n",
      "really doing it!\n",
      "ratio is 1.0 number of photons 0.07104375195840185\n",
      "(19, 41, 41) 19\n",
      "bowtie is off False\n",
      "really doing it!\n",
      "ratio is 1.0 number of photons 0.04845504309805526\n",
      "(19, 41, 41) 19\n",
      "bowtie is off False\n",
      "really doing it!\n",
      "ratio is 1.0 number of photons 0.03402763640736402\n",
      "(19, 41, 41) 19\n",
      "bowtie is off False\n",
      "really doing it!\n",
      "ratio is 1.0 number of photons 0.04026543917603216\n",
      "(19, 41, 41) 19\n",
      "bowtie is off False\n",
      "really doing it!\n",
      "ratio is 1.0 number of photons 0.03243039447096263\n",
      "(19, 41, 41) 19\n",
      "bowtie is off False\n",
      "really doing it!\n",
      "ratio is 1.0 number of photons 0.01015508406165716\n",
      "(19, 41, 41) 19\n",
      "bowtie is off False\n",
      "really doing it!\n",
      "ratio is 1.0 number of photons 0.0053004634067323865\n"
     ]
    }
   ],
   "source": [
    "import sys\n",
    "import os\n",
    "import tigre\n",
    "from scipy.signal import fftconvolve\n",
    "\n",
    "import fastcat.fastcat as fc\n",
    "\n",
    "dose = 0\n",
    "\n",
    "# phan_map_hard =  ['air','water','Spongiosa_Bone_ICRP','G4_BONE_COMPACT_ICRU',\n",
    "#              'G4_BONE_CORTICAL_ICRP','C4_Vertebra_ICRP','D6_Vertebra_ICRP','G4_B-100_BONE']\n",
    "\n",
    "phan_map_hard =  ['air','water','water','water',\n",
    "             'water','water','water','water']\n",
    "\n",
    "\n",
    "phan_map_g4 = ['air','water','G4_LUNG_ICRP',\"G4_BONE_COMPACT_ICRU\",\"G4_BONE_CORTICAL_ICRP\",\"G4_ADIPOSE_TISSUE_ICRP\",\"G4_BRAIN_ICRP\",\"G4_B-100_BONE\"] \n",
    "\n",
    "spectrum_files = sorted(['120_kVp','Al_spectrum_25', 'C_spectrum_6', 'Al_spectrum_6', 'C_spectrum_25', 'W_spectrum_6', 'W_spectrum_25'])\n",
    "# spectrum_files = sorted(['Al_spectrum_25', 'C_spectrum_6', 'Al_spectrum_6', 'C_spectrum_25', 'W_spectrum_6', 'W_spectrum_25'])\n",
    "\n",
    "dets = ['CuGOS-784-micrometer']\n",
    "\n",
    "phan_maps = [phan_map_hard]#,phan_map_soft]\n",
    "\n",
    "angles = np.linspace(0,2*np.pi,2)\n",
    "\n",
    "res = []\n",
    "\n",
    "original_energies_keV = np.array([30, 40, 50 ,60, 70, 80 ,90 ,100 ,300 ,500 ,700, 900, 1000 ,2000 ,4000 ,6000])\n",
    "\n",
    "\n",
    "angles = np.linspace(0,2*pi,2)\n",
    "\n",
    "geo = 'catphan_low_contrast_512'\n",
    "\n",
    "phantom = fc.Catphan_515()\n",
    "\n",
    "for phan_map in phan_maps:\n",
    "    for spectrum_file in spectrum_files[:]:\n",
    "        for det in dets:\n",
    "            \n",
    "            if spectrum_file == '120_kVp':\n",
    "                s = fc.calculate_spectrum(120, 12, 3, 50,monitor=None)\n",
    "                s.attenuate(0.1,fc.get_mu(z=13))\n",
    "            else:\n",
    "                s = fc.Spectrum()\n",
    "                s.load(spectrum_file)\n",
    "        \n",
    "            kernel = fc.Kernel(s, det)\n",
    "            \n",
    "#             kernel.add_focal_spot(0.1)\n",
    "\n",
    "            energy_deposition_file = os.path.join(\n",
    "                fc.data_path, \"Detectors\", det, 'EnergyDeposition.npy')\n",
    "            energies = s.x\n",
    "            fluence = s.y\n",
    "            deposition_efficiency_file = energy_deposition_file\n",
    "\n",
    "            res.append(phantom.return_projs(kernel,s,angles,\n",
    "                                       nphoton=2e7,\n",
    "                                      mgy=dose,return_dose=True))\n",
    "\n",
    "#             img_fc = tigre.algorithms.FDK(\n",
    "#                 np.transpose(np.array(projs_fc[0]),[0,2,1]), phantom.geomet,angles)\n",
    "\n",
    "#             res.append([[phan_map,spectrum_file,det],phantom.analyse_515(img_fc[5])])"
   ]
  },
  {
   "cell_type": "code",
   "execution_count": 6,
   "metadata": {},
   "outputs": [
    {
     "data": {
      "application/vnd.jupyter.widget-view+json": {
       "model_id": "492aae2584314524af33c09c6490173f",
       "version_major": 2,
       "version_minor": 0
      },
      "text/plain": [
       "Canvas(toolbar=Toolbar(toolitems=[('Home', 'Reset original view', 'home', 'home'), ('Back', 'Back to previous …"
      ]
     },
     "metadata": {},
     "output_type": "display_data"
    }
   ],
   "source": [
    "plt.figure()\n",
    "plt.plot([res[ii][-1] for ii in range(len(res))],'b*')\n",
    "plt.xticks(ticks=range(len(spectrum_files)),labels=spectrum_files,rotation=75)\n",
    "plt.tight_layout()"
   ]
  },
  {
   "cell_type": "markdown",
   "metadata": {},
   "source": [
    "## Working attempt"
   ]
  },
  {
   "cell_type": "code",
   "execution_count": 7,
   "metadata": {},
   "outputs": [
    {
     "data": {
      "application/vnd.jupyter.widget-view+json": {
       "model_id": "97c80ab90bfb4e46bad091c9db2dd3bc",
       "version_major": 2,
       "version_minor": 0
      },
      "text/plain": [
       "Canvas(toolbar=Toolbar(toolitems=[('Home', 'Reset original view', 'home', 'home'), ('Back', 'Back to previous …"
      ]
     },
     "metadata": {},
     "output_type": "display_data"
    },
    {
     "name": "stdout",
     "output_type": "stream",
     "text": [
      "(19, 41, 41) 19\n",
      "(19, 41, 41) 19\n",
      "(19, 41, 41) 19\n",
      "(19, 41, 41) 19\n",
      "(19, 41, 41) 19\n",
      "(19, 41, 41) 19\n",
      "(19, 41, 41) 19\n"
     ]
    }
   ],
   "source": [
    "spectrum_files = sorted(['120_kVp','Al_spectrum_25', 'C_spectrum_6', 'Al_spectrum_6', 'C_spectrum_25', 'W_spectrum_6', 'W_spectrum_25'])\n",
    "\n",
    "plt.figure()\n",
    "\n",
    "doses = res[0][0]\n",
    "doses_fc = []\n",
    "\n",
    "# Loading the file from the monte carlo\n",
    "deposition = np.load(deposition_efficiency_file,allow_pickle=True)\n",
    "\n",
    "for jj,spectrum_file in enumerate(spectrum_files):\n",
    "    if spectrum_file == '120_kVp':\n",
    "        s = fc.calculate_spectrum(120, 12, 3, 50,monitor=None)\n",
    "        s.attenuate(0.1,fc.get_mu(z=13))\n",
    "    else:\n",
    "        s = fc.Spectrum()\n",
    "        s.load(spectrum_file)\n",
    "        \n",
    "    kernel = fc.Kernel(s, det)\n",
    "    energy_deposition_file = os.path.join(\n",
    "        fc.data_path, \"Detectors\", det, 'EnergyDeposition.npy')\n",
    "    energies = s.x\n",
    "    fluence = s.y\n",
    "\n",
    "    # These are what I used in the Monte Carlo\n",
    "    original_energies_keV = np.array([10,20,30, 40, 50 ,60, 70, 80 ,90 ,100 ,300 ,500 ,700, 900, 1000 ,2000 ,4000 ,6000])\n",
    "\n",
    "    # This is a scaling factor that I found to work to convert energy deposition to photon probability eta\n",
    "    deposition_summed = deposition[0]/(original_energies_keV/1000)/1000000\n",
    "    fluence_norm = fluence/np.sum(fluence)\n",
    "    deposition_long = np.interp(energies,original_energies_keV/1000,deposition_summed)\n",
    "    nphotons_at_energy = fluence_norm*deposition_long\n",
    "    nphotons_av = np.sum(nphotons_at_energy)\n",
    "    \n",
    "    # Binning to get the fluence per energy\n",
    "    large_energies = np.linspace(0,6000,3001) #keV\n",
    "    fluence_large = np.interp(large_energies,np.array(energies), fluence)\n",
    "    fluence_small = np.zeros(len(original_energies_keV))\n",
    "    \n",
    "    inds = []\n",
    "    # Still binning\n",
    "    for ii, val in enumerate(large_energies):\n",
    "\n",
    "        index = np.argmin(np.abs(original_energies_keV-val))\n",
    "        fluence_small[index] += fluence_large[ii] \n",
    "        inds.append(index)\n",
    "\n",
    "    # Normalize\n",
    "    fluence_small /= np.sum(fluence_small)\n",
    "\n",
    "    # Sum over the image dimesions to get the energy intensity and multiply by fluence\n",
    "    doses_fc.append((doses/1000)@((fluence_small)))\n",
    "\n",
    "plt.plot(doses_fc,'x')    \n",
    "plt.xticks(ticks=range(len(spectrum_files)),labels=spectrum_files,rotation=75)\n",
    "plt.tight_layout()"
   ]
  },
  {
   "cell_type": "code",
   "execution_count": 8,
   "metadata": {},
   "outputs": [
    {
     "data": {
      "text/plain": [
       "['120_kVp',\n",
       " 'Al_spectrum_25',\n",
       " 'Al_spectrum_6',\n",
       " 'C_spectrum_25',\n",
       " 'C_spectrum_6',\n",
       " 'W_spectrum_25',\n",
       " 'W_spectrum_6']"
      ]
     },
     "execution_count": 8,
     "metadata": {},
     "output_type": "execute_result"
    }
   ],
   "source": [
    "spectrum_files"
   ]
  },
  {
   "cell_type": "code",
   "execution_count": 9,
   "metadata": {},
   "outputs": [
    {
     "data": {
      "application/vnd.jupyter.widget-view+json": {
       "model_id": "e84b5bdfcb1a4f32998865dfe0537b39",
       "version_major": 2,
       "version_minor": 0
      },
      "text/plain": [
       "Canvas(toolbar=Toolbar(toolitems=[('Home', 'Reset original view', 'home', 'home'), ('Back', 'Back to previous …"
      ]
     },
     "metadata": {},
     "output_type": "display_data"
    },
    {
     "data": {
      "text/plain": [
       "[<matplotlib.lines.Line2D at 0x7fc0c64d5a50>]"
      ]
     },
     "execution_count": 9,
     "metadata": {},
     "output_type": "execute_result"
    }
   ],
   "source": [
    "figure();plot(large_energies/1000,100*fluence_large/sum(fluence_large));bar(original_energies_keV/1000,fluence_small/10);plot(large_energies/1000,np.array(inds)/1000)"
   ]
  },
  {
   "cell_type": "code",
   "execution_count": 10,
   "metadata": {},
   "outputs": [],
   "source": [
    "doses = np.array([\n",
    "6.033596460814806e-08,\n",
    "1.613708349168519e-07,\n",
    "1.313530049174005e-07,\n",
    "6.200432949299284e-07,\n",
    "3.304057543118688e-07,\n",
    "2.999242099122057e-07,\n",
    "3.515523019359534e-07,\n",
    "])\n",
    "\n",
    "names = np.array([\n",
    "'Dose_120_kVp',\n",
    "'Dose_Al_spectrum_25'  ,\n",
    "'Dose_C_spectrum_25'  ,\n",
    "'Dose_W_spectrum_6',\n",
    "'Dose_Al_spectrum_6'  , \n",
    "'Dose_C_spectrum_6',\n",
    "'Dose_W_spectrum_25'])\n",
    "\n",
    "indeces = np.argsort(names)\n",
    "\n",
    "\n",
    "names = names[indeces]\n",
    "doses = doses[indeces]\n",
    "\n",
    "indeces = np.argsort(doses)\n",
    "\n",
    "names = names[indeces]\n",
    "doses = doses[indeces]\n"
   ]
  },
  {
   "cell_type": "code",
   "execution_count": 11,
   "metadata": {},
   "outputs": [
    {
     "data": {
      "text/plain": [
       "array([0.01882937, 0.04099205, 0.05035988, 0.09359899, 0.10311153,\n",
       "       0.10971085, 0.1935003 ])"
      ]
     },
     "execution_count": 11,
     "metadata": {},
     "output_type": "execute_result"
    }
   ],
   "source": [
    "doses/20000000/(1.6021766e-16 * 1000)"
   ]
  },
  {
   "cell_type": "code",
   "execution_count": 16,
   "metadata": {},
   "outputs": [],
   "source": [
    "s2 = fc.calculate_spectrum(120, 12, 3, 50,monitor=None)\n",
    "s2.attenuate(0.1,fc.get_mu(z=13))"
   ]
  },
  {
   "cell_type": "code",
   "execution_count": 19,
   "metadata": {},
   "outputs": [
    {
     "name": "stdout",
     "output_type": "stream",
     "text": [
      "(19, 41, 41) 19\n",
      "bowtie is off False\n",
      "(19, 41, 41) 19\n",
      "bowtie is off False\n",
      "(19, 41, 41) 19\n",
      "bowtie is off False\n"
     ]
    }
   ],
   "source": [
    "spectra = ['Al_spectrum_6',\n",
    "           'W_spectrum_6',\n",
    "           'kV']\n",
    "scats = []\n",
    "\n",
    "angles = np.linspace(0,np.pi*2,2)        \n",
    "phantom = fc.Catphan_515()\n",
    "s = fc.Spectrum()\n",
    "\n",
    "for spectrum in spectra:\n",
    "    \n",
    "    if spectrum == 'kV':\n",
    "        s = s2\n",
    "    else:\n",
    "        s.load(spectrum)\n",
    "        \n",
    "    kernel = fc.Kernel(s, 'CuGOS-784-micrometer')\n",
    "    scats.append(np.mean(phantom.return_projs(kernel,s,angles,det_on=False,mgy = 0.0)[0],0))"
   ]
  },
  {
   "cell_type": "code",
   "execution_count": 59,
   "metadata": {},
   "outputs": [
    {
     "data": {
      "application/vnd.jupyter.widget-view+json": {
       "model_id": "597eb1c326d94f4abd6da861de9b7556",
       "version_major": 2,
       "version_minor": 0
      },
      "text/plain": [
       "Canvas(toolbar=Toolbar(toolitems=[('Home', 'Reset original view', 'home', 'home'), ('Back', 'Back to previous …"
      ]
     },
     "metadata": {},
     "output_type": "display_data"
    }
   ],
   "source": [
    "import pandas as pd\n",
    "import scipy as sp\n",
    "d_norm = doses#/sum(doses)\n",
    "doses_fc2 = np.array(doses_fc)\n",
    "doses_fc2 = doses_fc2[indeces]\n",
    "shorts = ['120 kVp', 'C 2.5 MV', 'Al 2.5 MV', 'C 6 MV',\n",
    "       'Al 6 MV', 'W 2.5 MV', 'W 6 MV']\n",
    "fig = plt.figure(figsize=[8,4],dpi=300)\n",
    "ax1 = fig.add_subplot(121)\n",
    "# scats = np.load('../paper_2/curves_all.npy')\n",
    "real_spec = np.load('../data/w_spec_profile.npy')\n",
    "real_spec_CT = np.load('/home/xcite/scintillators/Catphan_dose/batch_submission_W/analysis/Readout_0000.phsp.npy')\n",
    "real_spec_kV = np.load('/home/xcite/scintillators/topas_sim_cugos/kV_averaged_slice.npy')\n",
    "dist = np.linspace(-256*0.0784 - 0.0392,256*0.0784 - 0.0392, 512)\n",
    "plt.plot(dist,scats[0],linewidth = 1.0,color = 'cornflowerblue')\n",
    "plt.plot(dist,scats[1],linewidth = 1.0,color = 'darkorange')\n",
    "plt.plot(dist,scats[2],linewidth = 1.0,color = 'gray')\n",
    "plt.plot(dist,real_spec,'k-',linewidth = 0.4)\n",
    "plt.plot(dist,np.mean(real_spec_CT,0),'k-.',linewidth = 0.4,markersize=0.4)\n",
    "dist2 = dist*1.04\n",
    "plt.plot(dist2,real_spec_kV,'k--',linewidth = 0.6)\n",
    "plt.plot(dist,scats[2],linewidth = 1.0,color = 'gray')\n",
    "# plt.grid('on')\n",
    "plt.xlim([-20,20])\n",
    "plt.ylim([0,1000])\n",
    "fig.legend(['fastCAT 6 MV Al', 'fastCAT 6 MV W',\n",
    "            'fastCAT 120 kVp','Topas 6 MV Al', 'Topas 6 MV W', 'Topas 120 kVp'],\n",
    "           loc='upper right', bbox_to_anchor=(0.55,1.00),prop={\"size\":'small'})\n",
    "plt.xlabel('[cm]')\n",
    "plt.ylabel('Counts')\n",
    "\n",
    "axins = ax1.inset_axes([0.26, 0.45, 0.44, 0.54])\n",
    "axins.plot(dist,scats[0],linewidth = 1.0,color = 'cornflowerblue')\n",
    "axins.plot(dist,scats[1],linewidth = 1.0,color = 'darkorange')\n",
    "axins.plot(dist,0.97*scats[2],linewidth = 1.0,color = 'gray')\n",
    "axins.plot(dist,real_spec,'k-',linewidth = 0.4)\n",
    "axins.plot(dist,np.mean(real_spec_CT,0),'k-.',linewidth = 0.4,markersize=0.4)\n",
    "axins.plot(dist2,real_spec_kV,'k--',linewidth = 0.6)\n",
    "# axins.plot(dist,scats[2],linewidth = 1.0,color = 'gray')\n",
    "x1, x2, y1, y2 = -8, 8, 10, 55\n",
    "axins.set_xlim(x1, x2)\n",
    "axins.set_ylim(y1, y2)\n",
    "axins.set_xticklabels('')\n",
    "axins.set_yticklabels('')\n",
    "ax1.indicate_inset_zoom(axins)\n",
    "\n",
    "topas = np.load('/home/xcite/scintillators/Catphan_dose/batch_submission/projs_new_npys.npy')\n",
    "fastCat = np.load('/home/xcite/fastcat-0.0.1/fastcat/data/projs/similar_noise8.npy')#fastCat_topas_equiv_8cm_W.npy')\n",
    "ax = fig.add_subplot(122)#,box_aspect=1.5)\n",
    "plt.fill_between(np.linspace(-20,20,512),np.mean(fastCat.T[:,:,0],1)/10-np.std(fastCat.T[:,:,0],1)/10, \n",
    "                 np.mean(fastCat.T[:,:,0],1)/10+np.std(fastCat.T[:,:,0],1)/10 ,alpha=0.3, facecolor='cornflowerblue')\n",
    "plt.fill_between(np.linspace(-20,20,512),np.mean(topas.T[:,:64,0],1)-np.std(topas.T[:,:64,0],1),\n",
    "                 np.mean(topas.T[:,:64,0],1)+np.std(topas.T[:,:64,0],1),alpha=0.3, facecolor='k')\n",
    "plt.plot(np.linspace(-20,20,512),np.mean(fastCat.T[:,:,0],1)/10,lineWidth= .5,color='b')\n",
    "plt.plot(np.linspace(-20,20,512),np.mean(topas.T[:,:64,0],1),lineWidth= .5,color='k')\n",
    "plt.plot(np.linspace(-20,20,512),np.mean(topas.T[:,:64,0],1)+np.std(topas.T[:,:64,0],1),'k--',lineWidth= .5)\n",
    "plt.plot(np.linspace(-20,20,512),np.mean(fastCat.T[:,:,0],1)/10+np.std(fastCat.T[:,:,0],1)/10,'--',lineWidth= .5,color='cornflowerblue',alpha=0.8)\n",
    "plt.plot(np.linspace(-20,20,512),np.mean(topas.T[:,:64,0],1)-np.std(topas.T[:,:64,0],1),'k--',lineWidth= .5)\n",
    "plt.plot(np.linspace(-20,20,512),np.mean(fastCat.T[:,:,0],1)/10-np.std(fastCat.T[:,:,0],1)/10,'--',lineWidth= .5,color='cornflowerblue',alpha=0.8)\n",
    "plt.legend(['$\\hat{\\mu}$ fastCAT', '$\\hat{\\mu}$ Topas', '$\\hat{\\sigma}$ Topas', '$\\hat{\\sigma}$ fastCAT'],\n",
    "           loc='upper right',prop={\"size\":'small'},bbox_to_anchor=(1.05,1.05))\n",
    "# inset axes....\n",
    "axins = ax.inset_axes([0.3, 0.05, 0.4, 0.4])\n",
    "axins.fill_between(np.linspace(-20,20,512),np.mean(fastCat.T[:,:,0],1)/10-np.std(fastCat.T[:,:,0],1)/10, \n",
    "                 np.mean(fastCat.T[:,:,0],1)/10+np.std(fastCat.T[:,:,0],1)/10 ,alpha=0.3, facecolor='cornflowerblue')\n",
    "axins.fill_between(np.linspace(-20,20,512),np.mean(topas.T[:,:64,0],1)-np.std(topas.T[:,:64,0],1),\n",
    "                 np.mean(topas.T[:,:64,0],1)+np.std(topas.T[:,:64,0],1),alpha=0.3, facecolor='k')\n",
    "axins.plot(np.linspace(-20,20,512),np.mean(topas.T[:,:64,0],1)+np.std(topas.T[:,:64,0],1),'k--',lineWidth= .5)\n",
    "axins.plot(np.linspace(-20,20,512),np.mean(fastCat.T[:,:,0],1)/10+np.std(fastCat.T[:,:,0],1)/10,'--',lineWidth= .5,color='cornflowerblue',alpha=0.8)\n",
    "axins.plot(np.linspace(-20,20,512),np.mean(topas.T[:,:64,0],1)-np.std(topas.T[:,:64,0],1),'k--',lineWidth= .5)\n",
    "axins.plot(np.linspace(-20,20,512),np.mean(fastCat.T[:,:,0],1)/10-np.std(fastCat.T[:,:,0],1)/10,'--',lineWidth= .5,color='cornflowerblue',alpha=0.8)\n",
    "axins.plot(np.linspace(-20,20,512),np.mean(fastCat.T[:,:,0],1)/10,lineWidth= .5,color='b')\n",
    "axins.plot(np.linspace(-20,20,512),np.mean(topas.T[:,:64,0],1),lineWidth= .5,color='k')\n",
    "\n",
    "plt.xlim([-20,20])\n",
    "plt.ylim([-0.5,1.5])\n",
    "# plt.grid()\n",
    "# sub region of the original image\n",
    "x1, x2, y1, y2 = -5, 5, 0.8, 1.1\n",
    "axins.set_xlim(x1, x2)\n",
    "axins.set_ylim(y1, y2)\n",
    "axins.set_xticklabels('')\n",
    "axins.set_yticklabels('')\n",
    "plt.ylabel('$\\mu x$')\n",
    "plt.xlabel('[cm]')\n",
    "plt.tight_layout()\n",
    "ax.indicate_inset_zoom(axins)\n",
    "# plt.subplot(223)\n",
    "# # plt.plot(doses_fc2,d_norm/20000000/(1.6021766e-16 * 1000),'kx')\n",
    "# pp = np.polyfit(doses_fc2,d_norm/20000000/(1.6021766e-16 * 1000),1)\n",
    "# xx = np.linspace(0.040,0.2,100)\n",
    "# yy = np.polyval(pp,xx)\n",
    "# # plt.plot(xx,yy,':',color='cornflowerblue')\n",
    "# # plt.ylabel('fastCAT')\n",
    "# # plt.xlabel('Topas')\n",
    "# slope, intercept, r_value, p_value, std_err = sp.stats.linregress(doses_fc2,d_norm/20000000/(1.6021766e-16 * 1000),)\n",
    "# # plt.legend(['Simulations',f'linear fit: y = {np.round(pp[0],3)}x + {np.round(pp[1],3)}, \\n $r^2$= {np.round(r_value,4)}'])\n",
    "# plt.plot(doses_fc2*pp[0] + pp[1],'*',color='cornflowerblue')\n",
    "# plt.plot(dat,'k+')\n",
    "# # plt.plot(doses_fc/sum(doses_fc),'x')\n",
    "# plt.xticks(rotation=75)\n",
    "# plt.ylabel('MeV/photon')\n",
    "# plt.legend(['fastCAT','Topas'])\n",
    "plt.tight_layout()\n",
    "plt.savefig('/home/xcite/fastcat_paper/figures/one_slice_comparison_2panel.pdf')"
   ]
  },
  {
   "cell_type": "code",
   "execution_count": 26,
   "metadata": {},
   "outputs": [
    {
     "data": {
      "application/vnd.jupyter.widget-view+json": {
       "model_id": "fa48a11ee5f3464a9d664af3cdea0443",
       "version_major": 2,
       "version_minor": 0
      },
      "text/plain": [
       "Canvas(toolbar=Toolbar(toolitems=[('Home', 'Reset original view', 'home', 'home'), ('Back', 'Back to previous …"
      ]
     },
     "metadata": {},
     "output_type": "display_data"
    }
   ],
   "source": [
    "plt.figure()#figsize=[8,4],dpi=300)\n",
    "\n",
    "plt.subplot(121)\n",
    "dat = pd.DataFrame(d_norm/20000000/(1.6021766e-16 * 1000),index=shorts)\n",
    "# plt.plot(doses_fc2,d_norm/20000000/(1.6021766e-16 * 1000),'kx')\n",
    "pp = np.polyfit(doses_fc2,d_norm/20000000/(1.6021766e-16 * 1000),1)\n",
    "xx = np.linspace(0.040,0.2,100)\n",
    "yy = np.polyval(pp,xx)\n",
    "# plt.plot(xx,yy,':',color='cornflowerblue')\n",
    "# plt.ylabel('fastCAT')\n",
    "# plt.xlabel('Topas')\n",
    "slope, intercept, r_value, p_value, std_err = sp.stats.linregress(doses_fc2,d_norm/20000000/(1.6021766e-16 * 1000),)\n",
    "# plt.legend(['Simulations',f'linear fit: y = {np.round(pp[0],3)}x + {np.round(pp[1],3)}, \\n $r^2$= {np.round(r_value,4)}'])\n",
    "# pp = np.array([0.88759883, 0.01035186])\n",
    "plt.plot(doses_fc2*pp[0] + pp[1],'*',color='cornflowerblue')\n",
    "plt.plot(dat,'k+')\n",
    "# plt.plot(doses_fc/sum(doses_fc),'x')\n",
    "plt.xticks(rotation=75)\n",
    "plt.ylabel('MeV/photon')\n",
    "plt.legend(['fastCAT','Topas'])\n",
    "plt.grid()\n",
    "plt.title('Dose Comparison')\n",
    "\n",
    "\n",
    "plt.subplot(122)\n",
    "\n",
    "nphot = 360*1e9\n",
    "\n",
    "dat2 = [489/1000000*nphot,27.86/1000000*nphot,61.1,39.9]\n",
    "\n",
    "plt.semilogy(dat2,'k*')\n",
    "plt.grid('on')\n",
    "plt.ylabel('log compute time [core s]')\n",
    "plt.xticks([0,1,2,3],labels=['Topas MC*','fastEPID*','fastCAT 1024$^2$x10','fastCAT 512$^2$x10'],rotation= 45)\n",
    "plt.yticks([60,60*60,60*60*24,60*60*24*30,60*60*24*365],['minute','hour','day','month','year'])\n",
    "plt.title('Compute Time')\n",
    "\n",
    "plt.tight_layout()\n",
    "plt.savefig('/home/xcite/fastcat_paper/figures/misc.pdf')"
   ]
  },
  {
   "cell_type": "code",
   "execution_count": 11,
   "metadata": {},
   "outputs": [
    {
     "data": {
      "text/plain": [
       "array([0.85909993, 0.01181788])"
      ]
     },
     "execution_count": 11,
     "metadata": {},
     "output_type": "execute_result"
    }
   ],
   "source": [
    "pp"
   ]
  },
  {
   "cell_type": "markdown",
   "metadata": {},
   "source": [
    "Looking at the values"
   ]
  },
  {
   "cell_type": "code",
   "execution_count": 18,
   "metadata": {},
   "outputs": [],
   "source": [
    "plt.savefig('/home/xcite/fastcat_paper/figures/dose_one_slice_rework.pdf')"
   ]
  },
  {
   "cell_type": "code",
   "execution_count": 10,
   "metadata": {},
   "outputs": [
    {
     "data": {
      "text/plain": [
       "(array([0.04283553, 0.0504745 , 0.09154681, 0.10323796, 0.10859034,\n",
       "        0.19458845]),\n",
       "                   0\n",
       " C 2.5 MV   0.040992\n",
       " Al 2.5 MV  0.050360\n",
       " C 6 MV     0.093599\n",
       " Al 6 MV    0.103112\n",
       " W 2.5 MV   0.109711\n",
       " W 6 MV     0.193500)"
      ]
     },
     "execution_count": 10,
     "metadata": {},
     "output_type": "execute_result"
    }
   ],
   "source": [
    "doses_fc2*pp[0] + pp[1],dat"
   ]
  },
  {
   "cell_type": "code",
   "execution_count": 15,
   "metadata": {},
   "outputs": [
    {
     "data": {
      "text/plain": [
       "0.014372635750154142"
      ]
     },
     "execution_count": 15,
     "metadata": {},
     "output_type": "execute_result"
    }
   ],
   "source": [
    "np.mean(np.abs((doses_fc2*pp[0] + pp[1]) - d_norm/20000000/(1.6021766e-16 * 1000))/(d_norm/20000000/(1.6021766e-16 * 1000)))"
   ]
  },
  {
   "cell_type": "code",
   "execution_count": 20,
   "metadata": {},
   "outputs": [
    {
     "data": {
      "text/plain": [
       "array([ 0.04497158,  0.00227608, -0.0219252 ,  0.00122614, -0.01021328,\n",
       "        0.00562353])"
      ]
     },
     "execution_count": 20,
     "metadata": {},
     "output_type": "execute_result"
    }
   ],
   "source": [
    "((doses_fc2*pp[0] + pp[1]) - d_norm/20000000/(1.6021766e-16 * 1000))/(d_norm/20000000/(1.6021766e-16 * 1000))"
   ]
  },
  {
   "cell_type": "code",
   "execution_count": 52,
   "metadata": {},
   "outputs": [
    {
     "data": {
      "text/plain": [
       "0.0021329402210526808"
      ]
     },
     "execution_count": 52,
     "metadata": {},
     "output_type": "execute_result"
    }
   ],
   "source": [
    "(np.mean(np.std(topas.T[:,:64,0],1)) - np.mean(np.std(fastCat.T[:,:,0],1))/10)/np.mean(np.std(topas.T[:,:64,0],1))"
   ]
  },
  {
   "cell_type": "markdown",
   "metadata": {},
   "source": [
    "Saving the figure"
   ]
  },
  {
   "cell_type": "code",
   "execution_count": 48,
   "metadata": {},
   "outputs": [],
   "source": [
    "plt.savefig('/home/xcite/fastcat_paper/figures/Dose_comparison.pdf')"
   ]
  },
  {
   "cell_type": "code",
   "execution_count": 18,
   "metadata": {},
   "outputs": [
    {
     "data": {
      "text/plain": [
       "661.2578761631801"
      ]
     },
     "execution_count": 18,
     "metadata": {},
     "output_type": "execute_result"
    }
   ],
   "source": [
    "2e8/((np.pi*0.2402**2)/(0.000784**2))*0.975"
   ]
  },
  {
   "cell_type": "code",
   "execution_count": 37,
   "metadata": {},
   "outputs": [],
   "source": [
    "def get_dose_nphoton(nphot):\n",
    "    \n",
    "     return nphot/2e7\n",
    "\n",
    "def get_dose_mgy(mgy,doses,fluence_small):\n",
    "    \n",
    "    nphoton = mgy/(get_dose_per_photon(doses,fluence_small)*(1.6021766e-13))\n",
    "    \n",
    "    return get_dose_nphoton(nphoton)\n",
    "\n",
    "def get_dose_per_photon(doses,fluence_small):\n",
    "    \n",
    "    # linear fit of the data\n",
    "    pp = np.array([0.88759883, 0.01035186])\n",
    "    \n",
    "    return ((doses/1000)@((fluence_small)))*pp[0] + pp[1]"
   ]
  },
  {
   "cell_type": "code",
   "execution_count": 38,
   "metadata": {},
   "outputs": [
    {
     "data": {
      "text/plain": [
       "0.9944079327070916"
      ]
     },
     "execution_count": 38,
     "metadata": {},
     "output_type": "execute_result"
    }
   ],
   "source": [
    "get_dose_mgy(6.200432949299284e-07,res[0][0],fluence_small)"
   ]
  },
  {
   "cell_type": "code",
   "execution_count": 75,
   "metadata": {},
   "outputs": [
    {
     "data": {
      "text/plain": [
       "1.2400865898598567e-07"
      ]
     },
     "execution_count": 75,
     "metadata": {},
     "output_type": "execute_result"
    }
   ],
   "source": [
    "6.200432949299284e-07/5"
   ]
  },
  {
   "cell_type": "code",
   "execution_count": 33,
   "metadata": {},
   "outputs": [
    {
     "data": {
      "text/plain": [
       "207.56740311675884"
      ]
     },
     "execution_count": 33,
     "metadata": {},
     "output_type": "execute_result"
    }
   ],
   "source": [
    "res[0][0]@fluence_small"
   ]
  },
  {
   "cell_type": "code",
   "execution_count": 39,
   "metadata": {},
   "outputs": [
    {
     "data": {
      "text/plain": [
       "array([  7.322962 ,   5.8936324,   5.1525   ,   5.0460963,   5.3763123,\n",
       "         5.9740257,   6.777807 ,   7.722383 ,  36.739555 ,  70.566284 ,\n",
       "       104.3179   , 136.949    , 152.75479  , 290.1809   , 504.5699   ,\n",
       "       688.20984  ], dtype=float32)"
      ]
     },
     "execution_count": 39,
     "metadata": {},
     "output_type": "execute_result"
    }
   ],
   "source": [
    "res[0][0]"
   ]
  },
  {
   "cell_type": "code",
   "execution_count": 40,
   "metadata": {},
   "outputs": [
    {
     "data": {
      "text/plain": [
       "array([  7.322962 ,   5.8936324,   5.1525   ,   5.0460963,   5.3763123,\n",
       "         5.9740257,   6.777807 ,   7.722383 ,  36.739555 ,  70.566284 ,\n",
       "       104.3179   , 136.949    , 152.75479  , 290.1809   , 504.5699   ,\n",
       "       688.20984  ], dtype=float32)"
      ]
     },
     "execution_count": 40,
     "metadata": {},
     "output_type": "execute_result"
    }
   ],
   "source": [
    "res[0][0]"
   ]
  },
  {
   "cell_type": "code",
   "execution_count": 13,
   "metadata": {},
   "outputs": [
    {
     "ename": "FileNotFoundError",
     "evalue": "[Errno 2] No such file or directory: '/home/xcite/fastCAT/xpecgen/data/projs/similar_noise7.npy'",
     "output_type": "error",
     "traceback": [
      "\u001b[0;31m---------------------------------------------------------------------------\u001b[0m",
      "\u001b[0;31mFileNotFoundError\u001b[0m                         Traceback (most recent call last)",
      "\u001b[0;32m<ipython-input-13-bcfba69679bb>\u001b[0m in \u001b[0;36m<module>\u001b[0;34m\u001b[0m\n\u001b[1;32m      2\u001b[0m \u001b[0;34m\u001b[0m\u001b[0m\n\u001b[1;32m      3\u001b[0m \u001b[0;31m# for figures W25CWOcoh_working.npy\u001b[0m\u001b[0;34m\u001b[0m\u001b[0;34m\u001b[0m\u001b[0;34m\u001b[0m\u001b[0m\n\u001b[0;32m----> 4\u001b[0;31m \u001b[0mfastCat\u001b[0m \u001b[0;34m=\u001b[0m \u001b[0mnp\u001b[0m\u001b[0;34m.\u001b[0m\u001b[0mload\u001b[0m\u001b[0;34m(\u001b[0m\u001b[0;34m'/home/xcite/fastCAT/xpecgen/data/projs/similar_noise7.npy'\u001b[0m\u001b[0;34m)\u001b[0m\u001b[0;31m#fastCat_topas_equiv_8cm_W.npy')\u001b[0m\u001b[0;34m\u001b[0m\u001b[0;34m\u001b[0m\u001b[0m\n\u001b[0m\u001b[1;32m      5\u001b[0m \u001b[0;34m\u001b[0m\u001b[0m\n\u001b[1;32m      6\u001b[0m \u001b[0mfig\u001b[0m \u001b[0;34m=\u001b[0m \u001b[0mplt\u001b[0m\u001b[0;34m.\u001b[0m\u001b[0mfigure\u001b[0m\u001b[0;34m(\u001b[0m\u001b[0mfigsize\u001b[0m\u001b[0;34m=\u001b[0m\u001b[0;34m[\u001b[0m\u001b[0;36m6\u001b[0m\u001b[0;34m,\u001b[0m\u001b[0;36m4\u001b[0m\u001b[0;34m]\u001b[0m\u001b[0;34m,\u001b[0m\u001b[0mdpi\u001b[0m\u001b[0;34m=\u001b[0m\u001b[0;36m300\u001b[0m\u001b[0;34m)\u001b[0m\u001b[0;34m\u001b[0m\u001b[0;34m\u001b[0m\u001b[0m\n",
      "\u001b[0;32m~/anaconda3/lib/python3.7/site-packages/numpy/lib/npyio.py\u001b[0m in \u001b[0;36mload\u001b[0;34m(file, mmap_mode, allow_pickle, fix_imports, encoding)\u001b[0m\n\u001b[1;32m    414\u001b[0m             \u001b[0mown_fid\u001b[0m \u001b[0;34m=\u001b[0m \u001b[0;32mFalse\u001b[0m\u001b[0;34m\u001b[0m\u001b[0;34m\u001b[0m\u001b[0m\n\u001b[1;32m    415\u001b[0m         \u001b[0;32melse\u001b[0m\u001b[0;34m:\u001b[0m\u001b[0;34m\u001b[0m\u001b[0;34m\u001b[0m\u001b[0m\n\u001b[0;32m--> 416\u001b[0;31m             \u001b[0mfid\u001b[0m \u001b[0;34m=\u001b[0m \u001b[0mstack\u001b[0m\u001b[0;34m.\u001b[0m\u001b[0menter_context\u001b[0m\u001b[0;34m(\u001b[0m\u001b[0mopen\u001b[0m\u001b[0;34m(\u001b[0m\u001b[0mos_fspath\u001b[0m\u001b[0;34m(\u001b[0m\u001b[0mfile\u001b[0m\u001b[0;34m)\u001b[0m\u001b[0;34m,\u001b[0m \u001b[0;34m\"rb\"\u001b[0m\u001b[0;34m)\u001b[0m\u001b[0;34m)\u001b[0m\u001b[0;34m\u001b[0m\u001b[0;34m\u001b[0m\u001b[0m\n\u001b[0m\u001b[1;32m    417\u001b[0m             \u001b[0mown_fid\u001b[0m \u001b[0;34m=\u001b[0m \u001b[0;32mTrue\u001b[0m\u001b[0;34m\u001b[0m\u001b[0;34m\u001b[0m\u001b[0m\n\u001b[1;32m    418\u001b[0m \u001b[0;34m\u001b[0m\u001b[0m\n",
      "\u001b[0;31mFileNotFoundError\u001b[0m: [Errno 2] No such file or directory: '/home/xcite/fastCAT/xpecgen/data/projs/similar_noise7.npy'"
     ]
    }
   ],
   "source": [
    "topas = np.load('/home/xcite/scintillators/Catphan_dose/batch_submission/projs_new_npys.npy')\n",
    "\n",
    "# for figures W25CWOcoh_working.npy\n",
    "fastCat = np.load('/home/xcite/fastCAT/xpecgen/data/projs/similar_noise7.npy')#fastCat_topas_equiv_8cm_W.npy')\n",
    "\n",
    "fig = plt.figure(figsize=[6,4],dpi=300)\n",
    "\n",
    "ax = fig.add_subplot(111)\n",
    "\n",
    "plt.fill_between(np.linspace(-20,20,512),np.mean(fastCat.T[:,:,0],1)/10-np.std(fastCat.T[:,:,0],1)/10, \n",
    "                 np.mean(fastCat.T[:,:,0],1)/10+np.std(fastCat.T[:,:,0],1)/10 ,alpha=0.3, facecolor='cornflowerblue')\n",
    "\n",
    "plt.fill_between(np.linspace(-20,20,512),np.mean(topas.T[:,:64,0],1)-np.std(topas.T[:,:64,0],1),\n",
    "                 np.mean(topas.T[:,:64,0],1)+np.std(topas.T[:,:64,0],1),alpha=0.3, facecolor='k')\n",
    "plt.plot(np.linspace(-20,20,512),np.mean(fastCat.T[:,:,0],1)/10,lineWidth= .5,color='b')\n",
    "plt.plot(np.linspace(-20,20,512),np.mean(topas.T[:,:64,0],1),lineWidth= .5,color='k')\n",
    "    \n",
    "plt.plot(np.linspace(-20,20,512),np.mean(topas.T[:,:64,0],1)+np.std(topas.T[:,:64,0],1),'k--',lineWidth= .5)\n",
    "\n",
    "plt.plot(np.linspace(-20,20,512),np.mean(fastCat.T[:,:,0],1)/10+np.std(fastCat.T[:,:,0],1)/10,'--',lineWidth= .5,color='cornflowerblue',alpha=0.8)\n",
    "\n",
    "plt.plot(np.linspace(-20,20,512),np.mean(topas.T[:,:64,0],1)-np.std(topas.T[:,:64,0],1),'k--',lineWidth= .5)\n",
    "\n",
    "plt.plot(np.linspace(-20,20,512),np.mean(fastCat.T[:,:,0],1)/10-np.std(fastCat.T[:,:,0],1)/10,'--',lineWidth= .5,color='cornflowerblue',alpha=0.8)\n",
    "\n",
    "plt.legend(['$\\hat{\\mu}$ Topas','$\\hat{\\mu}$ fastCat', '$\\hat{\\sigma}$ Topas', '$\\hat{\\sigma}$ fastCAT'])\n",
    "            \n",
    "\n",
    "# inset axes....\n",
    "axins = ax.inset_axes([0.3, 0.05, 0.4, 0.4])\n",
    "\n",
    "axins.fill_between(np.linspace(-20,20,512),np.mean(fastCat.T[:,:,0],1)/10-np.std(fastCat.T[:,:,0],1)/10, \n",
    "                 np.mean(fastCat.T[:,:,0],1)/10+np.std(fastCat.T[:,:,0],1)/10 ,alpha=0.3, facecolor='cornflowerblue')\n",
    "\n",
    "axins.fill_between(np.linspace(-20,20,512),np.mean(topas.T[:,:64,0],1)-np.std(topas.T[:,:64,0],1),\n",
    "                 np.mean(topas.T[:,:64,0],1)+np.std(topas.T[:,:64,0],1),alpha=0.3, facecolor='k')\n",
    "\n",
    "axins.plot(np.linspace(-20,20,512),np.mean(topas.T[:,:64,0],1)+np.std(topas.T[:,:64,0],1),'k--',lineWidth= .5)\n",
    "\n",
    "axins.plot(np.linspace(-20,20,512),np.mean(fastCat.T[:,:,0],1)/10+np.std(fastCat.T[:,:,0],1)/10,'--',lineWidth= .5,color='cornflowerblue',alpha=0.8)\n",
    "\n",
    "axins.plot(np.linspace(-20,20,512),np.mean(topas.T[:,:64,0],1)-np.std(topas.T[:,:64,0],1),'k--',lineWidth= .5)\n",
    "\n",
    "axins.plot(np.linspace(-20,20,512),np.mean(fastCat.T[:,:,0],1)/10-np.std(fastCat.T[:,:,0],1)/10,'--',lineWidth= .5,color='cornflowerblue',alpha=0.8)\n",
    "\n",
    "axins.plot(np.linspace(-20,20,512),np.mean(fastCat.T[:,:,0],1)/10,lineWidth= .5,color='b')\n",
    "axins.plot(np.linspace(-20,20,512),np.mean(topas.T[:,:64,0],1),lineWidth= .5,color='k')\n",
    "\n",
    "plt.grid()\n",
    "# sub region of the original image\n",
    "x1, x2, y1, y2 = -5, 5, 0.8, 1.1\n",
    "axins.set_xlim(x1, x2)\n",
    "axins.set_ylim(y1, y2)\n",
    "axins.set_xticklabels('')\n",
    "axins.set_yticklabels('')\n",
    "\n",
    "plt.ylabel('$\\mu x$')\n",
    "plt.xlabel('[cm]')\n",
    "plt.tight_layout()\n",
    "\n",
    "ax.indicate_inset_zoom(axins)"
   ]
  },
  {
   "cell_type": "code",
   "execution_count": null,
   "metadata": {},
   "outputs": [],
   "source": []
  }
 ],
 "metadata": {
  "kernelspec": {
   "display_name": "Python 3",
   "language": "python",
   "name": "python3"
  },
  "language_info": {
   "codemirror_mode": {
    "name": "ipython",
    "version": 3
   },
   "file_extension": ".py",
   "mimetype": "text/x-python",
   "name": "python",
   "nbconvert_exporter": "python",
   "pygments_lexer": "ipython3",
   "version": "3.7.6"
  },
  "toc": {
   "base_numbering": 1,
   "nav_menu": {},
   "number_sections": true,
   "sideBar": true,
   "skip_h1_title": false,
   "title_cell": "Table of Contents",
   "title_sidebar": "Contents",
   "toc_cell": false,
   "toc_position": {},
   "toc_section_display": true,
   "toc_window_display": false
  },
  "varInspector": {
   "cols": {
    "lenName": "16",
    "lenType": "3",
    "lenVar": "20"
   },
   "kernels_config": {
    "python": {
     "delete_cmd_postfix": "",
     "delete_cmd_prefix": "del ",
     "library": "var_list.py",
     "varRefreshCmd": "print(var_dic_list())"
    },
    "r": {
     "delete_cmd_postfix": ") ",
     "delete_cmd_prefix": "rm(",
     "library": "var_list.r",
     "varRefreshCmd": "cat(var_dic_list()) "
    }
   },
   "types_to_exclude": [
    "module",
    "function",
    "builtin_function_or_method",
    "instance",
    "_Feature"
   ],
   "window_display": false
  }
 },
 "nbformat": 4,
 "nbformat_minor": 4
}
