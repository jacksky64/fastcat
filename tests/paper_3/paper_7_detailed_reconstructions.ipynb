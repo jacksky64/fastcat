{
 "cells": [
  {
   "cell_type": "code",
   "execution_count": 1,
   "id": "referenced-rough",
   "metadata": {},
   "outputs": [
    {
     "name": "stdout",
     "output_type": "stream",
     "text": [
      "Populating the interactive namespace from numpy and matplotlib\n"
     ]
    }
   ],
   "source": [
    "%load_ext autoreload\n",
    "%autoreload 2\n",
    "%pylab widget"
   ]
  },
  {
   "cell_type": "code",
   "execution_count": 18,
   "id": "middle-sodium",
   "metadata": {},
   "outputs": [],
   "source": [
    "from varian_models import *\n",
    "from scipy.optimize import minimize\n",
    "bcca_smaller = np.load('/home/xcite/MV_CBCT/log_kv_phantom_over_air_776x776.npy')[15:-15]"
   ]
  },
  {
   "cell_type": "markdown",
   "id": "promotional-prototype",
   "metadata": {},
   "source": [
    "# Looking at the one slice\n",
    "\n",
    "There is still a fudge factor of 1.03 on the projection to account for fastcats 0.97 I guess.\n",
    "\n",
    "Also a fundge factor for the dose right now.\n",
    "\n",
    "And Catphan_Teflon unrevised whatever that is"
   ]
  },
  {
   "cell_type": "code",
   "execution_count": 3,
   "id": "contrary-manor",
   "metadata": {},
   "outputs": [
    {
     "name": "stdout",
     "output_type": "stream",
     "text": [
      "(19, 19, 19) 19\n",
      "bowtie is off False\n",
      "Using the bowtie filter True\n",
      "really doing it!\n",
      "bowtie scatter\n",
      "ratio is 70.18600063761603 number of photons 0.7694951410828342\n"
     ]
    }
   ],
   "source": [
    "angles = np.linspace(np.pi/2,np.pi*2,2)      \n",
    "kv_catphan = Catphan_404_kV()\n",
    "kv_catphan.get_proj(angles,fudge=0.18)"
   ]
  },
  {
   "cell_type": "code",
   "execution_count": 4,
   "id": "welcome-concord",
   "metadata": {},
   "outputs": [
    {
     "data": {
      "application/vnd.jupyter.widget-view+json": {
       "model_id": "c60c589191854e2d8a7c7071c9e8b6d6",
       "version_major": 2,
       "version_minor": 0
      },
      "text/plain": [
       "Canvas(toolbar=Toolbar(toolitems=[('Home', 'Reset original view', 'home', 'home'), ('Back', 'Back to previous …"
      ]
     },
     "metadata": {},
     "output_type": "display_data"
    }
   ],
   "source": [
    "kv_catphan.plot_one_proj(bcca_smaller[445,195:225])"
   ]
  },
  {
   "cell_type": "markdown",
   "id": "stainless-spelling",
   "metadata": {},
   "source": [
    "# Now lets reconstruct the whole thing"
   ]
  },
  {
   "cell_type": "code",
   "execution_count": 5,
   "id": "decent-receptor",
   "metadata": {},
   "outputs": [],
   "source": [
    "projs_bcca = np.zeros([887,64,512])\n",
    "projs_bcca[:,17:-17,:] =  bcca_smaller[:,195:225,:]\n",
    "\n",
    "kv_catphan.proj[:,:17,:] = 0 # Matching the images\n",
    "kv_catphan.proj[:,-17:,:] = 0\n",
    "\n",
    "angles = np.load('/home/xcite/MV_CBCT/angles_kv.npy')"
   ]
  },
  {
   "cell_type": "code",
   "execution_count": 121,
   "id": "worthy-determination",
   "metadata": {},
   "outputs": [
    {
     "name": "stdout",
     "output_type": "stream",
     "text": [
      "bowtie is off False\n",
      "Using the bowtie filter True\n",
      "really doing it!\n",
      "bowtie scatter\n",
      "ratio is 58.48845968860691 number of photons 0.7694951410828342\n"
     ]
    }
   ],
   "source": [
    "CNR_fc = []\n",
    "CNR_exp = []\n",
    "\n",
    "im_fc = []\n",
    "im_exp = []\n",
    "\n",
    "fudge_2 = 1 # 0.97 \n",
    "fudge = 0.15 #*3\n",
    "\n",
    "for ii in range(4,3,-1):\n",
    "    angles_temp = angles[::ii]\n",
    "    kv_catphan.geomet.nVoxel = np.array([10,512,512])\n",
    "    kv_catphan.geomet.dVoxel = kv_catphan.geomet.sVoxel/kv_catphan.geomet.nVoxel\n",
    "    kv_catphan.get_proj(angles_temp,fudge=fudge) \n",
    "    kv_catphan.proj[:,:17,:] = 0 # Matching the images\n",
    "    kv_catphan.proj[:,-17:,:] = 0\n",
    "    kv_catphan.geomet.nVoxel = np.array([128,512,512])\n",
    "    kv_catphan.geomet.dVoxel = kv_catphan.geomet.sVoxel/kv_catphan.geomet.nVoxel\n",
    "    kv_catphan.reconstruct('FDK',filt='ram_lak')\n",
    "    im_fc.append(kv_catphan.img[64])\n",
    "    vol_fc = kv_catphan.img\n",
    "    contrast_fc = kv_catphan.return_CNR(True)\n",
    "    CNR_fc.append(kv_catphan.return_CNR())\n",
    "    kv_catphan.proj = 10*projs_bcca[::ii].astype(np.float32)*fudge_2\n",
    "    kv_catphan.angles = angles[::ii][-1::-1]\n",
    "    kv_catphan.reconstruct('FDK',filt='ram_lak')\n",
    "#     kv_catphan.img = np.rot90(kv_catphan.img,-1)\n",
    "    im_exp.append(np.rot90(kv_catphan.img[64],-1))\n",
    "    vol_exp = kv_catphan.img\n",
    "    contrast_bcca = kv_catphan.return_CNR_exp(True)\n",
    "    CNR_exp.append(kv_catphan.return_CNR_exp())"
   ]
  },
  {
   "cell_type": "code",
   "execution_count": 122,
   "id": "bulgarian-reception",
   "metadata": {},
   "outputs": [],
   "source": [
    "plt.close('all')"
   ]
  },
  {
   "cell_type": "code",
   "execution_count": 123,
   "id": "employed-testament",
   "metadata": {},
   "outputs": [
    {
     "data": {
      "application/vnd.jupyter.widget-view+json": {
       "model_id": "120f2d047aa741c6af49f4e752216c2c",
       "version_major": 2,
       "version_minor": 0
      },
      "text/plain": [
       "Canvas(toolbar=Toolbar(toolitems=[('Home', 'Reset original view', 'home', 'home'), ('Back', 'Back to previous …"
      ]
     },
     "metadata": {},
     "output_type": "display_data"
    },
    {
     "data": {
      "application/vnd.jupyter.widget-view+json": {
       "model_id": "a3687c92629c4fada30710659cac011c",
       "version_major": 2,
       "version_minor": 0
      },
      "text/plain": [
       "Canvas(toolbar=Toolbar(toolitems=[('Home', 'Reset original view', 'home', 'home'), ('Back', 'Back to previous …"
      ]
     },
     "metadata": {},
     "output_type": "display_data"
    },
    {
     "data": {
      "application/vnd.jupyter.widget-view+json": {
       "model_id": "4ba58b3bed6941e9b3d2bcd8a96cb2ad",
       "version_major": 2,
       "version_minor": 0
      },
      "text/plain": [
       "Canvas(toolbar=Toolbar(toolitems=[('Home', 'Reset original view', 'home', 'home'), ('Back', 'Back to previous …"
      ]
     },
     "metadata": {},
     "output_type": "display_data"
    },
    {
     "data": {
      "text/plain": [
       "[<matplotlib.lines.Line2D at 0x7f8209f571d0>]"
      ]
     },
     "execution_count": 123,
     "metadata": {},
     "output_type": "execute_result"
    }
   ],
   "source": [
    "CNR_exp2 = []\n",
    "CNR_fc2 = []\n",
    "contrast_exp2 = []\n",
    "contrast_fc2 = []\n",
    "\n",
    "plt.figure()\n",
    "for ii in range(60,68):\n",
    "    \n",
    "    CNR_exp2.append(return_CNR_exp2(vol_exp[ii]))\n",
    "    contrast_exp2.append(return_CNR_exp2(vol_exp[ii],True))\n",
    "    CNR_fc2.append(return_CNR_fc2(vol_fc[ii]))\n",
    "    contrast_fc2.append(return_CNR_fc2(vol_fc[ii],True))\n",
    "    plt.plot(ii,np.mean(CNR_exp2[-1]),'r*')\n",
    "    plt.plot(ii,np.mean(CNR_fc2[-1]),'b*')\n",
    "    \n",
    "plt.figure()\n",
    "plt.plot(np.mean(CNR_exp2,0),'r*')\n",
    "plt.plot(np.mean(CNR_fc2,0),'b*')\n",
    "plt.figure()\n",
    "plt.plot(np.mean(contrast_exp2,0),'r*')\n",
    "plt.plot(np.mean(contrast_fc2,0),'b*')"
   ]
  },
  {
   "cell_type": "code",
   "execution_count": 124,
   "id": "worldwide-timer",
   "metadata": {},
   "outputs": [
    {
     "data": {
      "application/vnd.jupyter.widget-view+json": {
       "model_id": "2986246f4f9140debcae21a1e46fb7f4",
       "version_major": 2,
       "version_minor": 0
      },
      "text/plain": [
       "Canvas(toolbar=Toolbar(toolitems=[('Home', 'Reset original view', 'home', 'home'), ('Back', 'Back to previous …"
      ]
     },
     "metadata": {},
     "output_type": "display_data"
    },
    {
     "data": {
      "text/plain": [
       "[<matplotlib.lines.Line2D at 0x7f820b76a910>]"
      ]
     },
     "execution_count": 124,
     "metadata": {},
     "output_type": "execute_result"
    }
   ],
   "source": [
    "contrast_bcca = np.mean(contrast_exp2,0)\n",
    "contrast_fc = np.mean(contrast_fc2,0)\n",
    "\n",
    "def HU_fun(a,x,y):\n",
    "    return np.sum(np.abs((x - a[0])*(a[1]) - y))\n",
    "\n",
    "reses = []\n",
    "rem = []\n",
    "\n",
    "for off in np.arange(-0.2,0.2,0.01):\n",
    "    for off2 in np.arange(-0.2,0.2,0.01):\n",
    "        reses.append(minimize(HU_fun,[off,contrast_fc[-3]+off2],args=(contrast_fc,contrast_bcca)))\n",
    "        rem.append(reses[-1].fun)\n",
    "\n",
    "res = reses[np.argmin(rem)]\n",
    "\n",
    "fc_data = (contrast_fc - res.x[0])*(res.x[1])\n",
    "# fc_image = (im_fc[-1] - res.x[0])*(res.x[1])\n",
    "\n",
    "# kv_catphan.img[64] = fc_image\n",
    "x = [.853,0.945,.998,1.147,1.36,1.87]\n",
    "\n",
    "plt.figure()\n",
    "plt.plot(x,contrast_bcca,'s',c='darkorange',label='')\n",
    "plt.plot(x,fc_data,'*',c='cornflowerblue',label='fastCAT')"
   ]
  },
  {
   "cell_type": "code",
   "execution_count": 125,
   "id": "identical-detail",
   "metadata": {},
   "outputs": [],
   "source": [
    "vol_fc_adj = (vol_fc - res.x[0])*(res.x[1])"
   ]
  },
  {
   "cell_type": "code",
   "execution_count": 126,
   "id": "placed-registrar",
   "metadata": {},
   "outputs": [
    {
     "data": {
      "application/vnd.jupyter.widget-view+json": {
       "model_id": "01ea927943114a27aeed2cc0075e2c8c",
       "version_major": 2,
       "version_minor": 0
      },
      "text/plain": [
       "Canvas(toolbar=Toolbar(toolitems=[('Home', 'Reset original view', 'home', 'home'), ('Back', 'Back to previous …"
      ]
     },
     "metadata": {},
     "output_type": "display_data"
    },
    {
     "data": {
      "application/vnd.jupyter.widget-view+json": {
       "model_id": "f0bcc7b207ae4bb99a92125a9111a8a4",
       "version_major": 2,
       "version_minor": 0
      },
      "text/plain": [
       "Canvas(toolbar=Toolbar(toolitems=[('Home', 'Reset original view', 'home', 'home'), ('Back', 'Back to previous …"
      ]
     },
     "metadata": {},
     "output_type": "display_data"
    },
    {
     "data": {
      "application/vnd.jupyter.widget-view+json": {
       "model_id": "a8f07d7da2464c24a434250ccb1b4c6e",
       "version_major": 2,
       "version_minor": 0
      },
      "text/plain": [
       "Canvas(toolbar=Toolbar(toolitems=[('Home', 'Reset original view', 'home', 'home'), ('Back', 'Back to previous …"
      ]
     },
     "metadata": {},
     "output_type": "display_data"
    },
    {
     "data": {
      "text/plain": [
       "[<matplotlib.lines.Line2D at 0x7f8209e45410>]"
      ]
     },
     "execution_count": 126,
     "metadata": {},
     "output_type": "execute_result"
    }
   ],
   "source": [
    "CNR_exp3 = []\n",
    "CNR_fc3 = []\n",
    "contrast_exp3 = []\n",
    "contrast_fc3 = []\n",
    "\n",
    "plt.figure()\n",
    "for ii in range(60,68):\n",
    "    \n",
    "    CNR_exp3.append(return_CNR_exp2(vol_exp[ii]))\n",
    "    contrast_exp3.append(return_CNR_exp2(vol_exp[ii],True))\n",
    "    CNR_fc3.append(return_CNR_fc2(vol_fc_adj[ii]))\n",
    "    contrast_fc3.append(return_CNR_fc2(vol_fc_adj[ii],True))\n",
    "    plt.plot(ii,np.mean(CNR_exp3[-1]),'r*')\n",
    "    plt.plot(ii,np.mean(CNR_fc3[-1]),'b*')\n",
    "    \n",
    "plt.figure()\n",
    "plt.plot(np.mean(CNR_exp3,0),'r*')\n",
    "plt.plot(np.mean(CNR_fc3,0),'b*')\n",
    "plt.figure()\n",
    "plt.plot(np.mean(contrast_exp3,0),'r*')\n",
    "plt.plot(np.mean(contrast_fc3,0),'b*')"
   ]
  },
  {
   "cell_type": "code",
   "execution_count": 114,
   "id": "statistical-fraud",
   "metadata": {},
   "outputs": [
    {
     "data": {
      "application/vnd.jupyter.widget-view+json": {
       "model_id": "7fbdb7abee394d3bbc1dde200d436cd9",
       "version_major": 2,
       "version_minor": 0
      },
      "text/plain": [
       "Canvas(toolbar=Toolbar(toolitems=[('Home', 'Reset original view', 'home', 'home'), ('Back', 'Back to previous …"
      ]
     },
     "metadata": {},
     "output_type": "display_data"
    },
    {
     "data": {
      "text/plain": [
       "[<matplotlib.lines.Line2D at 0x7f820a4bc450>]"
      ]
     },
     "execution_count": 114,
     "metadata": {},
     "output_type": "execute_result"
    }
   ],
   "source": [
    "plt.figure()\n",
    "plt.plot(CNR_fc[0],'b*')\n",
    "plt.plot(CNR_exp[0],'r*')"
   ]
  },
  {
   "cell_type": "code",
   "execution_count": 127,
   "id": "conceptual-delight",
   "metadata": {},
   "outputs": [],
   "source": [
    "np.save('fastcat_images_kv_worst-best',im_fc)\n",
    "np.save('exp_images_kv_worst-best',im_exp)\n",
    "np.save('CNR_fc_kv',CNR_fc_kv)\n",
    "np.save('CNR_exp_kv',CNR_exp)\n",
    "np.save('vol_fc_kv_adj',vol_fc_adj)\n",
    "np.save('vol_exp_kv',vol_exp)"
   ]
  },
  {
   "cell_type": "code",
   "execution_count": 374,
   "id": "ranking-morocco",
   "metadata": {},
   "outputs": [
    {
     "name": "stdout",
     "output_type": "stream",
     "text": [
      "Open other images in this ImageJ panel as follows:\n",
      "  imagej -p 1 <image1> [<image2> ... <imageN>]\n",
      "\n",
      "Fontconfig error: \"/home/xcite/.config/fontconfig/fonts.conf\", line 5: no element found\n",
      "Fontconfig error: \"/home/xcite/.config/fontconfig/fonts.conf\", line 5: invalid attribute 'target'\n"
     ]
    }
   ],
   "source": [
    "plt.imsave('im_for_imagej.png',np.hstack((im_fc[0],im_exp[0])),cmap='gray')\n",
    "!imagej im_for_imagej.png"
   ]
  },
  {
   "cell_type": "code",
   "execution_count": 378,
   "id": "amended-jungle",
   "metadata": {},
   "outputs": [
    {
     "name": "stdout",
     "output_type": "stream",
     "text": [
      "Open other images in this ImageJ panel as follows:\n",
      "  imagej -p 1 <image1> [<image2> ... <imageN>]\n",
      "\n",
      "Fontconfig error: \"/home/xcite/.config/fontconfig/fonts.conf\", line 5: no element found\n",
      "Fontconfig error: \"/home/xcite/.config/fontconfig/fonts.conf\", line 5: invalid attribute 'target'\n"
     ]
    }
   ],
   "source": [
    "plt.imsave('im_for_imagej.png',np.hstack((fc_image,recon_slice)),cmap='gray')\n",
    "!imagej im_for_imagej.png"
   ]
  },
  {
   "cell_type": "code",
   "execution_count": 379,
   "id": "important-renewal",
   "metadata": {},
   "outputs": [
    {
     "data": {
      "application/vnd.jupyter.widget-view+json": {
       "model_id": "cb54804eef624516afb5be413053d0db",
       "version_major": 2,
       "version_minor": 0
      },
      "text/plain": [
       "Canvas(toolbar=Toolbar(toolitems=[('Home', 'Reset original view', 'home', 'home'), ('Back', 'Back to previous …"
      ]
     },
     "metadata": {},
     "output_type": "display_data"
    },
    {
     "data": {
      "application/vnd.jupyter.widget-view+json": {
       "model_id": "57ca7bc8af57456bbd060659d2d1e2b5",
       "version_major": 2,
       "version_minor": 0
      },
      "text/plain": [
       "Canvas(toolbar=Toolbar(toolitems=[('Home', 'Reset original view', 'home', 'home'), ('Back', 'Back to previous …"
      ]
     },
     "metadata": {},
     "output_type": "display_data"
    },
    {
     "data": {
      "application/vnd.jupyter.widget-view+json": {
       "model_id": "d30a992ae20649d8a48fd89cce34b865",
       "version_major": 2,
       "version_minor": 0
      },
      "text/plain": [
       "Canvas(toolbar=Toolbar(toolitems=[('Home', 'Reset original view', 'home', 'home'), ('Back', 'Back to previous …"
      ]
     },
     "metadata": {},
     "output_type": "display_data"
    },
    {
     "data": {
      "application/vnd.jupyter.widget-view+json": {
       "model_id": "c2082379cc064566b1d7f4c47508b4a7",
       "version_major": 2,
       "version_minor": 0
      },
      "text/plain": [
       "Canvas(toolbar=Toolbar(toolitems=[('Home', 'Reset original view', 'home', 'home'), ('Back', 'Back to previous …"
      ]
     },
     "metadata": {},
     "output_type": "display_data"
    }
   ],
   "source": [
    "from scipy.optimize import minimize\n",
    "CNR_fc = np.load('CNR_fc_kv.npy')\n",
    "CNR_exp = np.load('CNR_fc_kv.npy')\n",
    "\n",
    "im_fc = np.load('fastcat_images_kv_worst-best.npy')\n",
    "im_exp = np.load('exp_images_kv_worst-best.npy')\n",
    "\n",
    "new_CNR_fc = []\n",
    "\n",
    "def HU_fun(a,x,y):\n",
    "    return np.sum(np.abs((x - a[0])*(a[1]) - y))\n",
    "\n",
    "def return_CNR_fc(proj,return_contrast = False):\n",
    "\n",
    "    im = create_mask(proj.shape,r=5.75,radius=0.4)\n",
    "    contrast_fc, CNR_fc, noise_fc = return_CNR(proj,im)\n",
    "#         print(contrast_fc ,'fastcat')\n",
    "    if return_contrast:\n",
    "        return contrast_fc\n",
    "    else:\n",
    "        return CNR_fc\n",
    "\n",
    "def return_CNR_exp(proj,return_contrast = False):\n",
    "\n",
    "    recon_slice = (proj)\n",
    "    im = create_mask(recon_slice.shape,r=5.85,off = [-0.15,-0.02],rot = 0.7,radius=0.40)\n",
    "    contrast_fc, CNR_fc, noise_fc = return_CNR(recon_slice,im)\n",
    "#         print(contrast_fc, 'exp')\n",
    "    if return_contrast:\n",
    "        return contrast_fc\n",
    "    else:\n",
    "        return CNR_fc\n",
    "\n",
    "im = create_mask(im_fc.shape,r=5.75,radius=0.4)\n",
    "\n",
    "for ii in range(3,-1,-1):\n",
    "    \n",
    "    contrast_fc = return_CNR_fc(im_fc[ii],True) \n",
    "    contrast_bcca = return_CNR_exp(im_exp[ii],True) \n",
    "    \n",
    "    if ii == 3:\n",
    "        reses = []\n",
    "        rem = []\n",
    "\n",
    "        for off in np.arange(-0.2,0.2,0.01):\n",
    "            reses.append(minimize(HU_fun,[off,contrast_fc[-3]-0.01],args=(contrast_fc,contrast_bcca)))\n",
    "            rem.append(reses[-1].fun)\n",
    "\n",
    "        res = reses[np.argmin(rem)]\n",
    "\n",
    "    fc_data = (contrast_fc - res.x[0])*(res.x[1])\n",
    "    fc_image = (im_fc[ii] - res.x[0])*(res.x[1])\n",
    "    \n",
    "    new_CNR_fc.append(return_CNR(fc_image,im)[1])\n",
    "    \n",
    "    x = [.853,0.945,.998,1.147,1.36,1.87]\n",
    "\n",
    "    plt.figure(figsize=[8,8])\n",
    "    plt.subplot(221)\n",
    "    plt.plot(x,contrast_bcca,'s',c='darkorange',label='')\n",
    "    plt.plot(x,fc_data,'*',c='cornflowerblue',label='fastCAT')\n",
    "    plt.legend()\n",
    "    plt.subplot(222)\n",
    "    plt.plot(recon_slice[256,:],c='darkorange')\n",
    "    plt.plot(np.rot90(fc_image,0)[256,:],c='cornflowerblue')\n",
    "    plt.subplot(223)\n",
    "    plt.imshow(np.rot90(fc_image,0),cmap='gray',vmin=0.13,vmax=0.35)\n",
    "    plt.subplot(224)\n",
    "    plt.imshow(np.rot90(recon_slice,0),cmap='gray',vmin=0.13,vmax=0.35)"
   ]
  },
  {
   "cell_type": "code",
   "execution_count": 380,
   "id": "chinese-supplier",
   "metadata": {},
   "outputs": [
    {
     "data": {
      "application/vnd.jupyter.widget-view+json": {
       "model_id": "112a3e3761ff4e5dac0b31f5165323b1",
       "version_major": 2,
       "version_minor": 0
      },
      "text/plain": [
       "Canvas(toolbar=Toolbar(toolitems=[('Home', 'Reset original view', 'home', 'home'), ('Back', 'Back to previous …"
      ]
     },
     "metadata": {},
     "output_type": "display_data"
    },
    {
     "data": {
      "text/plain": [
       "[<matplotlib.lines.Line2D at 0x7f2fe4c5b5d0>]"
      ]
     },
     "execution_count": 380,
     "metadata": {},
     "output_type": "execute_result"
    }
   ],
   "source": [
    "plt.figure()\n",
    "plt.plot((new_CNR_fc[3]),'b*')\n",
    "plt.plot(CNR_exp[3],'r*')\n",
    "# plt.figure()\n",
    "# plt.plot(contrast_fc,'b*')\n",
    "# plt.plot(contrast_bcca,'r*')"
   ]
  },
  {
   "cell_type": "code",
   "execution_count": 218,
   "id": "stainless-function",
   "metadata": {},
   "outputs": [
    {
     "data": {
      "text/plain": [
       "      fun: 0.0026893317699432373\n",
       " hess_inv: array([[0.01104779, 0.01104779],\n",
       "       [0.01104779, 0.14830004]])\n",
       "      jac: array([0., 0.])\n",
       "  message: 'Optimization terminated successfully.'\n",
       "     nfev: 81\n",
       "      nit: 4\n",
       "     njev: 27\n",
       "   status: 0\n",
       "  success: True\n",
       "        x: array([-0.03572898,  0.82787716])"
      ]
     },
     "execution_count": 218,
     "metadata": {},
     "output_type": "execute_result"
    }
   ],
   "source": [
    "res"
   ]
  },
  {
   "cell_type": "code",
   "execution_count": 197,
   "id": "thirty-quality",
   "metadata": {},
   "outputs": [
    {
     "data": {
      "application/vnd.jupyter.widget-view+json": {
       "model_id": "6db18e9c21534b979966b9516a9ee9bf",
       "version_major": 2,
       "version_minor": 0
      },
      "text/plain": [
       "Canvas(toolbar=Toolbar(toolitems=[('Home', 'Reset original view', 'home', 'home'), ('Back', 'Back to previous …"
      ]
     },
     "metadata": {},
     "output_type": "display_data"
    },
    {
     "data": {
      "text/plain": [
       "[<matplotlib.lines.Line2D at 0x7f2fd79a3dd0>]"
      ]
     },
     "execution_count": 197,
     "metadata": {},
     "output_type": "execute_result"
    }
   ],
   "source": [
    "plt.figure()\n",
    "plt.plot(CNR_fc[3],'b*')\n",
    "plt.plot(CNR_exp[3],'r*')"
   ]
  },
  {
   "cell_type": "code",
   "execution_count": 172,
   "id": "national-backing",
   "metadata": {},
   "outputs": [
    {
     "data": {
      "application/vnd.jupyter.widget-view+json": {
       "model_id": "67cfc3fdfc4e4d2ca67064610a043457",
       "version_major": 2,
       "version_minor": 0
      },
      "text/plain": [
       "Canvas(toolbar=Toolbar(toolitems=[('Home', 'Reset original view', 'home', 'home'), ('Back', 'Back to previous …"
      ]
     },
     "metadata": {},
     "output_type": "display_data"
    },
    {
     "data": {
      "text/plain": [
       "<matplotlib.image.AxesImage at 0x7f2fd573f8d0>"
      ]
     },
     "execution_count": 172,
     "metadata": {},
     "output_type": "execute_result"
    }
   ],
   "source": [
    "plt.figure()\n",
    "plt.imshow(np.rot90(im_exp[0],-1))\n",
    "# plt.imshow(im)"
   ]
  },
  {
   "cell_type": "code",
   "execution_count": 196,
   "id": "clear-intranet",
   "metadata": {},
   "outputs": [
    {
     "data": {
      "application/vnd.jupyter.widget-view+json": {
       "model_id": "f9d4f05267a34fc6b74e1f85b58b7f3b",
       "version_major": 2,
       "version_minor": 0
      },
      "text/plain": [
       "Canvas(toolbar=Toolbar(toolitems=[('Home', 'Reset original view', 'home', 'home'), ('Back', 'Back to previous …"
      ]
     },
     "metadata": {},
     "output_type": "display_data"
    }
   ],
   "source": [
    "plt.figure()\n",
    "for ii in range(4):\n",
    "    plt.plot(ii,np.mean(CNR_fc[ii],0),'r*')\n",
    "    plt.plot(ii,np.mean(CNR_exp[ii],0),'b*')"
   ]
  },
  {
   "cell_type": "code",
   "execution_count": 121,
   "id": "provincial-seven",
   "metadata": {},
   "outputs": [
    {
     "data": {
      "application/vnd.jupyter.widget-view+json": {
       "model_id": "de754fe874804c63b59234f51a4a424a",
       "version_major": 2,
       "version_minor": 0
      },
      "text/plain": [
       "Canvas(toolbar=Toolbar(toolitems=[('Home', 'Reset original view', 'home', 'home'), ('Back', 'Back to previous …"
      ]
     },
     "metadata": {},
     "output_type": "display_data"
    }
   ],
   "source": [
    "recon_slice = np.rot90(kv_catphan.img[64],3)\n",
    "im = create_mask(recon_slice.shape,r=5.85,radius=0.45,off = [-0.15,-0.02],rot = 0.7)\n",
    "contrast_exp, CNR_exp, noise_fc = return_CNR(recon_slice,im,show_map=True)"
   ]
  },
  {
   "cell_type": "code",
   "execution_count": 122,
   "id": "efficient-invitation",
   "metadata": {},
   "outputs": [
    {
     "name": "stdout",
     "output_type": "stream",
     "text": [
      "[0.16167541 0.17474125 0.18429291 0.20837197 0.24231511 0.3306908 ]\n"
     ]
    }
   ],
   "source": [
    "print(contrast_exp)"
   ]
  },
  {
   "cell_type": "code",
   "execution_count": null,
   "id": "sunset-treasurer",
   "metadata": {},
   "outputs": [],
   "source": [
    "# bcca_recon = np.load('/home/xcite/MV_CBCT/recon_kV_full.npy').T #recon_kv_jan_2021.npy')\n",
    "# recon_slice = np.rot90(np.mean(bcca_recon.T[39:40],0)).copy()\n",
    "# im = create_mask(recon_slice.shape,r=5.8,off = [0.2,0.05],rot = 1)\n",
    "# contrast_bcca, CNR_bcca, noise_bcca = return_CNR(recon_slice,im)#,show_map=True)\n",
    "\n",
    "def HU_fun(a,x,y):\n",
    "    return np.sum(np.abs((x - a[0])*(a[1]) - y))\n",
    "\n",
    "reses = []\n",
    "rem = []\n",
    "\n",
    "for off in np.arange(-0.2,0.2,0.01):\n",
    "    reses.append(minimize(HU_fun,[contrast_fc[2],contrast_fc[-3]+off],args=(contrast_fc,contrast_bcca)))\n",
    "    rem.append(reses[-1].fun)\n",
    "    \n",
    "res = reses[np.argmin(rem)]\n",
    "    \n",
    "fc_data = (contrast_fc - res.x[0])*(res.x[1])\n",
    "fc_image = (phantom.img[4] - res.x[0])*(res.x[1])\n",
    "\n",
    "x = [.853,0.945,.998,1.147,1.36,1.87]\n",
    "\n",
    "plt.figure(figsize=[8,8])\n",
    "plt.subplot(221)\n",
    "plt.plot(x,contrast_bcca,'s',c='darkorange',label='')\n",
    "plt.plot(x,fc_data,'*',c='cornflowerblue',label='fastCAT')\n",
    "plt.legend()\n",
    "plt.subplot(222)\n",
    "plt.plot(recon_slice[256,:],c='darkorange')\n",
    "plt.plot(np.rot90(fc_image,0)[256,:],c='cornflowerblue')\n",
    "plt.subplot(223)\n",
    "plt.imshow(np.rot90(fc_image,0),cmap='gray',vmin=0.013,vmax=0.027)\n",
    "plt.subplot(224)\n",
    "plt.imshow(np.rot90(recon_slice,2),cmap='gray',vmin=0.013,vmax=0.027)"
   ]
  }
 ],
 "metadata": {
  "kernelspec": {
   "display_name": "Python 3",
   "language": "python",
   "name": "python3"
  },
  "language_info": {
   "codemirror_mode": {
    "name": "ipython",
    "version": 3
   },
   "file_extension": ".py",
   "mimetype": "text/x-python",
   "name": "python",
   "nbconvert_exporter": "python",
   "pygments_lexer": "ipython3",
   "version": "3.7.6"
  }
 },
 "nbformat": 4,
 "nbformat_minor": 5
}
