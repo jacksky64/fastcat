{
 "cells": [
  {
   "cell_type": "markdown",
   "id": "departmental-demonstration",
   "metadata": {},
   "source": [
    "# Fastcat Demo: Varian kV OBI"
   ]
  },
  {
   "cell_type": "code",
   "execution_count": 1,
   "id": "diagnostic-witness",
   "metadata": {},
   "outputs": [
    {
     "name": "stdout",
     "output_type": "stream",
     "text": [
      "Populating the interactive namespace from numpy and matplotlib\n"
     ]
    }
   ],
   "source": [
    "%pylab widget\n",
    "%load_ext autoreload\n",
    "%autoreload 2"
   ]
  },
  {
   "cell_type": "code",
   "execution_count": 2,
   "id": "working-forwarding",
   "metadata": {},
   "outputs": [],
   "source": [
    "import fastcat as fc"
   ]
  },
  {
   "cell_type": "markdown",
   "id": "stupid-attachment",
   "metadata": {},
   "source": [
    "# Initialize the spectrum"
   ]
  },
  {
   "cell_type": "code",
   "execution_count": 3,
   "id": "oriental-seller",
   "metadata": {},
   "outputs": [],
   "source": [
    "s = fc.calculate_spectrum(100,14,3,50,monitor=None)"
   ]
  },
  {
   "cell_type": "code",
   "execution_count": 4,
   "id": "stuck-lecture",
   "metadata": {},
   "outputs": [],
   "source": [
    "s.attenuate(0.4,fc.get_mu(z=13)) # Aluminum inherent filtration\n",
    "s.attenuate(0.089,fc.get_mu(z=22)) # Titanium beam hardening filter"
   ]
  },
  {
   "cell_type": "code",
   "execution_count": 5,
   "id": "magnetic-cocktail",
   "metadata": {},
   "outputs": [
    {
     "data": {
      "application/vnd.jupyter.widget-view+json": {
       "model_id": "17672de04561408ca92e2667623cfcef",
       "version_major": 2,
       "version_minor": 0
      },
      "text/plain": [
       "Canvas(toolbar=Toolbar(toolitems=[('Home', 'Reset original view', 'home', 'home'), ('Back', 'Back to previous …"
      ]
     },
     "metadata": {},
     "output_type": "display_data"
    }
   ],
   "source": [
    "plt.figure()\n",
    "s.get_plot(plt.subplot())"
   ]
  },
  {
   "cell_type": "markdown",
   "id": "sticky-dublin",
   "metadata": {},
   "source": [
    "# Initialize the detector"
   ]
  },
  {
   "cell_type": "code",
   "execution_count": 65,
   "id": "civil-istanbul",
   "metadata": {},
   "outputs": [
    {
     "data": {
      "application/vnd.jupyter.widget-view+json": {
       "model_id": "96dc1c2a661c4185aa167bd572ef89ef",
       "version_major": 2,
       "version_minor": 0
      },
      "text/plain": [
       "Canvas(toolbar=Toolbar(toolitems=[('Home', 'Reset original view', 'home', 'home'), ('Back', 'Back to previous …"
      ]
     },
     "metadata": {},
     "output_type": "display_data"
    }
   ],
   "source": [
    "det = fc.Detector(s,'CZT-342-micrometer')\n",
    "det.add_focal_spot(0.6)\n",
    "\n",
    "plt.figure()\n",
    "det.get_plot(plt.subplot())"
   ]
  },
  {
   "cell_type": "markdown",
   "id": "atomic-proof",
   "metadata": {},
   "source": [
    "# Initialize the phantom"
   ]
  },
  {
   "cell_type": "code",
   "execution_count": 88,
   "id": "controlled-science",
   "metadata": {},
   "outputs": [
    {
     "name": "stdout",
     "output_type": "stream",
     "text": [
      "[2021-06-22 12:47:08,849] {phantoms.py:878} INFO - Phantom is low resolution\n"
     ]
    }
   ],
   "source": [
    "phantom = fc.Catphan_404_Devon(hi_res=False)\n",
    "phantom.PCD = False"
   ]
  },
  {
   "cell_type": "markdown",
   "id": "australian-budapest",
   "metadata": {},
   "source": [
    "# Run the simulation"
   ]
  },
  {
   "cell_type": "code",
   "execution_count": 89,
   "id": "convenient-porcelain",
   "metadata": {},
   "outputs": [
    {
     "name": "stdout",
     "output_type": "stream",
     "text": [
      "[2021-06-22 12:47:09,884] {simulate.py:465} INFO - Running Simulations\n",
      "[2021-06-22 12:47:09,884] {simulate.py:469} INFO -     0.6 mm focal spot added\n",
      "[2021-06-22 12:47:09,885] {simulate.py:480} INFO -     Simulating 10 keV\n",
      "[2021-06-22 12:47:12,065] {simulate.py:480} INFO -     Simulating 20 keV\n",
      "[2021-06-22 12:47:14,269] {simulate.py:480} INFO -     Simulating 30 keV\n",
      "[2021-06-22 12:47:16,755] {simulate.py:480} INFO -     Simulating 40 keV\n",
      "[2021-06-22 12:47:19,447] {simulate.py:480} INFO -     Simulating 50 keV\n",
      "[2021-06-22 12:47:22,067] {simulate.py:480} INFO -     Simulating 60 keV\n",
      "[2021-06-22 12:47:24,679] {simulate.py:480} INFO -     Simulating 70 keV\n",
      "[2021-06-22 12:47:27,362] {simulate.py:480} INFO -     Simulating 80 keV\n",
      "[2021-06-22 12:47:30,107] {simulate.py:480} INFO -     Simulating 90 keV\n",
      "[2021-06-22 12:47:32,777] {simulate.py:480} INFO -     Simulating 100 keV\n",
      "[2021-06-22 12:47:35,265] {simulate.py:612} INFO - Weighting simulations\n",
      "[2021-06-22 12:47:35,265] {simulate.py:686} INFO -     No noise was added\n"
     ]
    }
   ],
   "source": [
    "angles = np.linspace(0,np.pi*2,180,endpoint=False)\n",
    "phantom.return_projs(det,s,angles,ASG=False)"
   ]
  },
  {
   "cell_type": "code",
   "execution_count": 77,
   "id": "respiratory-disney",
   "metadata": {},
   "outputs": [
    {
     "data": {
      "application/vnd.jupyter.widget-view+json": {
       "model_id": "a35b0ee1e7054454b5d4d142362f9e30",
       "version_major": 2,
       "version_minor": 0
      },
      "text/plain": [
       "Canvas(toolbar=Toolbar(toolitems=[('Home', 'Reset original view', 'home', 'home'), ('Back', 'Back to previous …"
      ]
     },
     "metadata": {},
     "output_type": "display_data"
    }
   ],
   "source": [
    "class IndexTracker(object):\n",
    "    def __init__(self, ax, X):\n",
    "        self.ax = ax\n",
    "        ax.set_title('use scroll wheel to navigate images')\n",
    "\n",
    "        self.X = X\n",
    "        rows, cols, self.slices = X.shape\n",
    "        self.ind = 10 #self.slices//2\n",
    "\n",
    "        self.im = ax.imshow(self.X[:, :, self.ind])\n",
    "        self.update()\n",
    "\n",
    "    def onscroll(self, event):\n",
    "        print(\"%s %s\" % (event.button, event.step))\n",
    "        if event.button == 'up':\n",
    "            self.ind = (self.ind + 1) % self.slices\n",
    "        else:\n",
    "            self.ind = (self.ind - 1) % self.slices\n",
    "        self.update()\n",
    "\n",
    "    def update(self):\n",
    "        self.im.set_data(self.X[:, :, self.ind])\n",
    "        ax.set_ylabel('slice %s' % self.ind)\n",
    "        self.im.axes.figure.canvas.draw()\n",
    "\n",
    "fig, ax = plt.subplots(1, 1)\n",
    "\n",
    "X = np.array(phantom.proj.T)\n",
    "\n",
    "tracker = IndexTracker(ax, X)\n",
    "\n",
    "fig.canvas.mpl_connect('scroll_event', tracker.onscroll)\n",
    "plt.show()"
   ]
  },
  {
   "cell_type": "code",
   "execution_count": 82,
   "id": "cardiovascular-fault",
   "metadata": {},
   "outputs": [
    {
     "data": {
      "application/vnd.jupyter.widget-view+json": {
       "model_id": "21c896178e5b41cc922a3e4a55a8a05b",
       "version_major": 2,
       "version_minor": 0
      },
      "text/plain": [
       "Canvas(toolbar=Toolbar(toolitems=[('Home', 'Reset original view', 'home', 'home'), ('Back', 'Back to previous …"
      ]
     },
     "metadata": {},
     "output_type": "display_data"
    },
    {
     "data": {
      "text/plain": [
       "<matplotlib.image.AxesImage at 0x7efc2d48f410>"
      ]
     },
     "execution_count": 82,
     "metadata": {},
     "output_type": "execute_result"
    }
   ],
   "source": [
    "plt.figure()\n",
    "plt.imshow(phantom.proj[90],cmap='gray')"
   ]
  },
  {
   "cell_type": "markdown",
   "id": "characteristic-austria",
   "metadata": {},
   "source": [
    "# Reconstruct"
   ]
  },
  {
   "cell_type": "code",
   "execution_count": 90,
   "id": "starting-april",
   "metadata": {},
   "outputs": [
    {
     "data": {
      "application/vnd.jupyter.widget-view+json": {
       "model_id": "d399054f55d54bec9528e98e0add77ca",
       "version_major": 2,
       "version_minor": 0
      },
      "text/plain": [
       "Canvas(toolbar=Toolbar(toolitems=[('Home', 'Reset original view', 'home', 'home'), ('Back', 'Back to previous …"
      ]
     },
     "metadata": {},
     "output_type": "display_data"
    },
    {
     "data": {
      "text/plain": [
       "<matplotlib.image.AxesImage at 0x7efc2c0e67d0>"
      ]
     },
     "execution_count": 90,
     "metadata": {},
     "output_type": "execute_result"
    }
   ],
   "source": [
    "phantom.reconstruct('FDK',filt='ram_lak')\n",
    "\n",
    "plt.figure()\n",
    "plt.imshow(phantom.img[5] - im_pcd,cmap='gray')"
   ]
  },
  {
   "cell_type": "code",
   "execution_count": 87,
   "id": "loaded-industry",
   "metadata": {},
   "outputs": [
    {
     "data": {
      "application/vnd.jupyter.widget-view+json": {
       "model_id": "c2f91a736d2b4afd84fef6fb485040d4",
       "version_major": 2,
       "version_minor": 0
      },
      "text/plain": [
       "Canvas(toolbar=Toolbar(toolitems=[('Home', 'Reset original view', 'home', 'home'), ('Back', 'Back to previous …"
      ]
     },
     "metadata": {},
     "output_type": "display_data"
    }
   ],
   "source": [
    "phantom.reconstruct('FDK',filt='ram_lak')\n",
    "\n",
    "plt.figure()\n",
    "plt.imshow(phantom.img[5],cmap='gray')\n",
    "im_pcd = phantom.img[5]"
   ]
  },
  {
   "cell_type": "code",
   "execution_count": 53,
   "id": "residential-insert",
   "metadata": {},
   "outputs": [],
   "source": [
    "phantom.geomet.sVoxel = np.array([100,90,90])\n",
    "\n",
    "phantom.geomet.dVoxel = phantom.geomet.sVoxel / phantom.geomet.nVoxel"
   ]
  },
  {
   "cell_type": "code",
   "execution_count": 70,
   "id": "afraid-claim",
   "metadata": {},
   "outputs": [
    {
     "name": "stdout",
     "output_type": "stream",
     "text": [
      "TIGRE parameters\n",
      "-----\n",
      "Geometry parameters\n",
      "Distance from source to detector (DSD) = 588 mm\n",
      "Distance from source to origin (DSO)= 322 mm\n",
      "-----\n",
      "Detector parameters\n",
      "Number of pixels (nDetector) = [ 64 576]\n",
      "Size of each pixel (dDetector) = [0.33 0.33] mm\n",
      "Total size of the detector (sDetector) = [ 21.12 190.08] mm\n",
      "-----\n",
      "Image parameters\n",
      "Number of voxels (nVoxel) = [ 10 512 512]\n",
      "Total size of the image (sVoxel) = [ 50 100 100] mm\n",
      "Size of each voxel (dVoxel) = [5.        0.1953125 0.1953125] mm\n",
      "-----\n",
      "Offset correction parameters\n",
      "Offset of image from origin (offOrigin) = [0 0 0] mm\n",
      "Offset of detector (offDetector) = [0 0] mm\n",
      "-----\n",
      "Auxillary parameters\n",
      "Samples per pixel of forward projection (accuracy) = 0.5\n",
      "-----\n",
      "Rotation of the Detector (rotDetector) = [0 0 0] rad\n"
     ]
    }
   ],
   "source": [
    "print(phantom.geomet)"
   ]
  },
  {
   "cell_type": "code",
   "execution_count": null,
   "id": "athletic-crawford",
   "metadata": {},
   "outputs": [],
   "source": []
  }
 ],
 "metadata": {
  "kernelspec": {
   "display_name": "Python 3",
   "language": "python",
   "name": "python3"
  },
  "language_info": {
   "codemirror_mode": {
    "name": "ipython",
    "version": 3
   },
   "file_extension": ".py",
   "mimetype": "text/x-python",
   "name": "python",
   "nbconvert_exporter": "python",
   "pygments_lexer": "ipython3",
   "version": "3.7.6"
  }
 },
 "nbformat": 4,
 "nbformat_minor": 5
}
