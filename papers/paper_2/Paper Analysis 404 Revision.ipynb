{
 "cells": [
  {
   "cell_type": "code",
   "execution_count": 2,
   "metadata": {},
   "outputs": [
    {
     "name": "stdout",
     "output_type": "stream",
     "text": [
      "Populating the interactive namespace from numpy and matplotlib\n"
     ]
    }
   ],
   "source": [
    "%pylab widget\n",
    "%load_ext autoreload\n",
    "%autoreload 2\n",
    "%load_ext memory_profiler"
   ]
  },
  {
   "cell_type": "code",
   "execution_count": 3,
   "metadata": {},
   "outputs": [],
   "source": [
    "import fastcat as fc\n",
    "from glob import glob"
   ]
  },
  {
   "cell_type": "markdown",
   "metadata": {},
   "source": [
    "## First I'll look at the detector MTF"
   ]
  },
  {
   "cell_type": "markdown",
   "metadata": {},
   "source": [
    "### I'll load all of the kernels "
   ]
  },
  {
   "cell_type": "code",
   "execution_count": 4,
   "metadata": {},
   "outputs": [],
   "source": [
    "spectra = glob('../fastcat/data/MV_spectra/*.txt')\n",
    "phantoms = ['Catphan_404','Catphan_515','Catphan_MTF']\n",
    "MV_detectors = glob('../fastcat/data/Detectors/*')\n",
    "\n",
    "dispatcher={'Catphan_404':fc.Catphan_404,\n",
    "            'Catphan_515':fc.Catphan_515,\n",
    "            'Catphan_MTF':fc.Catphan_MTF}"
   ]
  },
  {
   "cell_type": "code",
   "execution_count": 5,
   "metadata": {},
   "outputs": [],
   "source": [
    "s = fc.Spectrum()"
   ]
  },
  {
   "cell_type": "code",
   "execution_count": 23,
   "metadata": {},
   "outputs": [
    {
     "data": {
      "application/vnd.jupyter.widget-view+json": {
       "model_id": "cb74462a348c4834b9f372c89530f11e",
       "version_major": 2,
       "version_minor": 0
      },
      "text/plain": [
       "Canvas(toolbar=Toolbar(toolitems=[('Home', 'Reset original view', 'home', 'home'), ('Back', 'Back to previous …"
      ]
     },
     "metadata": {},
     "output_type": "display_data"
    },
    {
     "name": "stdout",
     "output_type": "stream",
     "text": [
      "Calculation:  1 / 50\n",
      "Calculation:  2 / 50\n",
      "Calculation:  3 / 50\n",
      "Calculation:  4 / 50\n",
      "Calculation:  5 / 50\n",
      "Calculation:  6 / 50\n",
      "Calculation:  7 / 50\n",
      "Calculation:  8 / 50\n",
      "Calculation:  9 / 50\n",
      "Calculation:  10 / 50\n",
      "Calculation:  11 / 50\n",
      "Calculation:  12 / 50\n",
      "Calculation:  13 / 50\n",
      "Calculation:  14 / 50\n",
      "Calculation:  15 / 50\n",
      "Calculation:  16 / 50\n",
      "Calculation:  17 / 50\n",
      "Calculation:  18 / 50\n",
      "Calculation:  19 / 50\n",
      "Calculation:  20 / 50\n",
      "Calculation:  21 / 50\n",
      "Calculation:  22 / 50\n",
      "Calculation:  23 / 50\n",
      "Calculation:  24 / 50\n",
      "Calculation:  25 / 50\n",
      "Calculation:  26 / 50\n",
      "Calculation:  27 / 50\n",
      "Calculation:  28 / 50\n",
      "Calculation:  29 / 50\n",
      "Calculation:  30 / 50\n",
      "Calculation:  31 / 50\n",
      "Calculation:  32 / 50\n",
      "Calculation:  33 / 50\n",
      "Calculation:  34 / 50\n",
      "Calculation:  35 / 50\n",
      "Calculation:  36 / 50\n",
      "Calculation:  37 / 50\n",
      "Calculation:  38 / 50\n",
      "Calculation:  39 / 50\n",
      "Calculation:  40 / 50\n",
      "Calculation:  41 / 50\n",
      "Calculation:  42 / 50\n",
      "Calculation:  43 / 50\n",
      "Calculation:  44 / 50\n",
      "Calculation:  45 / 50\n",
      "Calculation:  46 / 50\n",
      "Calculation:  47 / 50\n",
      "Calculation:  48 / 50\n",
      "Calculation:  49 / 50\n",
      "Calculation:  50 / 50\n"
     ]
    }
   ],
   "source": [
    "contrasts = []\n",
    "mtfs = []\n",
    "label = []\n",
    "\n",
    "fig, axs = plt.subplots(3, 1)\n",
    "\n",
    "spectra = [ 'kv',\n",
    " '../fastcat/data/MV_spectra/C_spectrum_25.txt',\n",
    " '../fastcat/data/MV_spectra/C_spectrum_6.txt',\n",
    " '../fastcat/data/MV_spectra/W_spectrum_25.txt',\n",
    " '../fastcat/data/MV_spectra/W_spectrum_6.txt']\n",
    "\n",
    "MV_detectors = [\n",
    " '../fastcat/data/Detectors/CsI-784-micrometer',\n",
    " '../fastcat/data/Detectors/CWO-392-micrometer',\n",
    " '../fastcat/data/Detectors/CuGOS-784-micrometer']\n",
    "\n",
    "phan_map = [\n",
    "    'air',\n",
    "    'G4_MUSCLE_SKELETAL_ICRP',\n",
    "    'Spongiosa_Bone_ICRP',\n",
    "    'G4_LUNG_MD_ICRP',\n",
    "    'G4_BONE_COMPACT_ICRU',\n",
    "    'G4_ADIPOSE_TISSUE_ICRP'\n",
    "    ]\n",
    "# s0 = fc.calculate_spectrum(60, 12, 3, 50)\n",
    "# s0.attenuate(0.1,fc.get_mu(z=13))\n",
    "# s0.attenuate(0.015,fc.get_mu(z=29))\n",
    "\n",
    "s0 = fc.calculate_spectrum(120, 12, 3, 50)\n",
    "s0.attenuate(0.3,fc.get_mu(z=13)) #was 0.3\n",
    "\n",
    "s0.attenuate(0.089,fc.get_mu(z=22))\n",
    "xx, yy = s0.get_points()"
   ]
  },
  {
   "cell_type": "code",
   "execution_count": 7,
   "metadata": {},
   "outputs": [],
   "source": [
    "from scipy.stats import poisson"
   ]
  },
  {
   "cell_type": "code",
   "execution_count": 8,
   "metadata": {},
   "outputs": [
    {
     "ename": "NameError",
     "evalue": "name 'noise_first' is not defined",
     "output_type": "error",
     "traceback": [
      "\u001b[0;31m---------------------------------------------------------------------------\u001b[0m",
      "\u001b[0;31mNameError\u001b[0m                                 Traceback (most recent call last)",
      "\u001b[0;32m<ipython-input-8-743af0544d7b>\u001b[0m in \u001b[0;36m<module>\u001b[0;34m\u001b[0m\n\u001b[0;32m----> 1\u001b[0;31m \u001b[0mnoise_first\u001b[0m\u001b[0;34m.\u001b[0m\u001b[0mshape\u001b[0m\u001b[0;34m\u001b[0m\u001b[0;34m\u001b[0m\u001b[0m\n\u001b[0m",
      "\u001b[0;31mNameError\u001b[0m: name 'noise_first' is not defined"
     ]
    }
   ],
   "source": [
    "noise_first.shape"
   ]
  },
  {
   "cell_type": "code",
   "execution_count": 104,
   "metadata": {},
   "outputs": [
    {
     "ename": "AttributeError",
     "evalue": "'Catphan_404' object has no attribute 'proj'",
     "output_type": "error",
     "traceback": [
      "\u001b[0;31m---------------------------------------------------------------------------\u001b[0m",
      "\u001b[0;31mAttributeError\u001b[0m                            Traceback (most recent call last)",
      "\u001b[0;32m<ipython-input-104-621969e9fab5>\u001b[0m in \u001b[0;36m<module>\u001b[0;34m\u001b[0m\n\u001b[0;32m----> 1\u001b[0;31m \u001b[0mnoise_temp\u001b[0m \u001b[0;34m=\u001b[0m \u001b[0mpoisson\u001b[0m\u001b[0;34m.\u001b[0m\u001b[0mrvs\u001b[0m\u001b[0;34m(\u001b[0m\u001b[0mnp\u001b[0m\u001b[0;34m.\u001b[0m\u001b[0mabs\u001b[0m\u001b[0;34m(\u001b[0m\u001b[0mphantom\u001b[0m\u001b[0;34m.\u001b[0m\u001b[0mproj\u001b[0m\u001b[0;34m)\u001b[0m\u001b[0;34m)\u001b[0m \u001b[0;34m-\u001b[0m \u001b[0mphantom\u001b[0m\u001b[0;34m.\u001b[0m\u001b[0mproj\u001b[0m\u001b[0;34m\u001b[0m\u001b[0;34m\u001b[0m\u001b[0m\n\u001b[0m\u001b[1;32m      2\u001b[0m \u001b[0mplt\u001b[0m\u001b[0;34m.\u001b[0m\u001b[0mfigure\u001b[0m\u001b[0;34m(\u001b[0m\u001b[0;34m)\u001b[0m\u001b[0;34m\u001b[0m\u001b[0;34m\u001b[0m\u001b[0m\n\u001b[1;32m      3\u001b[0m \u001b[0mplt\u001b[0m\u001b[0;34m.\u001b[0m\u001b[0mplot\u001b[0m\u001b[0;34m(\u001b[0m\u001b[0mnp\u001b[0m\u001b[0;34m.\u001b[0m\u001b[0mmean\u001b[0m\u001b[0;34m(\u001b[0m\u001b[0mnoise_temp\u001b[0m\u001b[0;34m[\u001b[0m\u001b[0;36m5\u001b[0m\u001b[0;34m]\u001b[0m\u001b[0;34m,\u001b[0m\u001b[0;36m0\u001b[0m\u001b[0;34m)\u001b[0m\u001b[0;34m)\u001b[0m\u001b[0;34m\u001b[0m\u001b[0;34m\u001b[0m\u001b[0m\n\u001b[1;32m      4\u001b[0m \u001b[0;34m\u001b[0m\u001b[0m\n\u001b[1;32m      5\u001b[0m \u001b[0mnoise_first\u001b[0m \u001b[0;34m=\u001b[0m \u001b[0mnp\u001b[0m\u001b[0;34m.\u001b[0m\u001b[0mrandom\u001b[0m\u001b[0;34m.\u001b[0m\u001b[0mpoisson\u001b[0m\u001b[0;34m(\u001b[0m\u001b[0mnp\u001b[0m\u001b[0;34m.\u001b[0m\u001b[0mabs\u001b[0m\u001b[0;34m(\u001b[0m\u001b[0mphantom\u001b[0m\u001b[0;34m.\u001b[0m\u001b[0mproj\u001b[0m\u001b[0;34m[\u001b[0m\u001b[0;36m0\u001b[0m\u001b[0;34m,\u001b[0m\u001b[0;36m10\u001b[0m\u001b[0;34m,\u001b[0m\u001b[0;34m:\u001b[0m\u001b[0;34m]\u001b[0m\u001b[0;34m)\u001b[0m\u001b[0;34m,\u001b[0m\u001b[0;34m[\u001b[0m\u001b[0;36m200\u001b[0m\u001b[0;34m,\u001b[0m\u001b[0mphantom\u001b[0m\u001b[0;34m.\u001b[0m\u001b[0mproj\u001b[0m\u001b[0;34m.\u001b[0m\u001b[0mshape\u001b[0m\u001b[0;34m[\u001b[0m\u001b[0;36m2\u001b[0m\u001b[0;34m]\u001b[0m\u001b[0;34m]\u001b[0m\u001b[0;34m)\u001b[0m\u001b[0;34m\u001b[0m\u001b[0;34m\u001b[0m\u001b[0m\n",
      "\u001b[0;31mAttributeError\u001b[0m: 'Catphan_404' object has no attribute 'proj'"
     ]
    }
   ],
   "source": [
    "noise_temp = poisson.rvs(np.abs(phantom.proj)) - phantom.proj\n",
    "plt.figure()\n",
    "plt.plot(np.mean(noise_temp[5],0))\n",
    "\n",
    "noise_first = np.random.poisson(np.abs(phantom.proj[0,10,:]),[200,phantom.proj.shape[2]])\n",
    "noise_temp = noise_first[np.random.choice(noise_first.shape[0],phantom.proj.shape[:2])] - phantom.proj\n",
    "plt.figure()\n",
    "plt.plot(np.mean(noise_temp[5],0))"
   ]
  },
  {
   "cell_type": "code",
   "execution_count": 25,
   "metadata": {},
   "outputs": [
    {
     "name": "stdout",
     "output_type": "stream",
     "text": [
      "[2021-07-26 12:20:40,933] {phantoms.py:649} INFO - Phantom is low resolution\n",
      "This is kV\n",
      "kv ../fastcat/data/Detectors/CsI-784-micrometer\n",
      "[2021-07-26 12:20:40,942] {simulate.py:214} INFO - Initializing filter bowtie_mod\n",
      "[2021-07-26 12:20:40,942] {simulate.py:219} INFO - Loading attenuations from 404_phan_480\n",
      "[2021-07-26 12:20:40,961] {simulate.py:415} INFO - Initializing ASG\n",
      "[2021-07-26 12:20:40,978] {simulate.py:534} INFO - Loading attenuations is on\n",
      "[2021-07-26 12:20:40,979] {simulate.py:536} INFO - Running Simulations\n",
      "[2021-07-26 12:20:40,979] {simulate.py:560} INFO -     Simulating 10 keV\n",
      "[2021-07-26 12:20:41,686] {simulate.py:560} INFO -     Simulating 20 keV\n",
      "[2021-07-26 12:20:42,467] {simulate.py:560} INFO -     Simulating 30 keV\n",
      "[2021-07-26 12:20:43,286] {simulate.py:560} INFO -     Simulating 40 keV\n",
      "[2021-07-26 12:20:44,437] {simulate.py:560} INFO -     Simulating 50 keV\n",
      "[2021-07-26 12:20:45,700] {simulate.py:560} INFO -     Simulating 60 keV\n",
      "[2021-07-26 12:20:47,016] {simulate.py:560} INFO -     Simulating 70 keV\n",
      "[2021-07-26 12:20:48,256] {simulate.py:560} INFO -     Simulating 80 keV\n",
      "[2021-07-26 12:20:49,419] {simulate.py:560} INFO -     Simulating 90 keV\n",
      "[2021-07-26 12:20:50,575] {simulate.py:560} INFO -     Simulating 100 keV\n",
      "[2021-07-26 12:20:51,730] {simulate.py:763} INFO - Weighting simulations\n",
      "[2021-07-26 12:20:51,730] {simulate.py:841} INFO -     Added noise 133.39826662819513 times reference\n",
      "[2021-07-26 12:20:52,686] {legend.py:1193} WARNING - No handles with labels found to put in legend.\n",
      "This is kV\n",
      "kv ../fastcat/data/Detectors/CWO-392-micrometer\n",
      "[2021-07-26 12:20:52,716] {simulate.py:214} INFO - Initializing filter bowtie_mod\n",
      "[2021-07-26 12:20:52,716] {simulate.py:219} INFO - Loading attenuations from 404_phan_480\n",
      "[2021-07-26 12:20:52,728] {simulate.py:415} INFO - Initializing ASG\n",
      "[2021-07-26 12:20:52,741] {simulate.py:534} INFO - Loading attenuations is on\n",
      "[2021-07-26 12:20:52,742] {simulate.py:536} INFO - Running Simulations\n",
      "[2021-07-26 12:20:52,742] {simulate.py:560} INFO -     Simulating 10 keV\n",
      "[2021-07-26 12:20:53,450] {simulate.py:560} INFO -     Simulating 20 keV\n",
      "[2021-07-26 12:20:54,187] {simulate.py:560} INFO -     Simulating 30 keV\n",
      "[2021-07-26 12:20:55,022] {simulate.py:560} INFO -     Simulating 40 keV\n",
      "[2021-07-26 12:20:56,313] {simulate.py:560} INFO -     Simulating 50 keV\n",
      "[2021-07-26 12:20:57,767] {simulate.py:560} INFO -     Simulating 60 keV\n",
      "[2021-07-26 12:20:59,348] {simulate.py:560} INFO -     Simulating 70 keV\n",
      "[2021-07-26 12:21:00,898] {simulate.py:560} INFO -     Simulating 80 keV\n",
      "[2021-07-26 12:21:02,353] {simulate.py:560} INFO -     Simulating 90 keV\n",
      "[2021-07-26 12:21:03,789] {simulate.py:560} INFO -     Simulating 100 keV\n",
      "[2021-07-26 12:21:05,179] {simulate.py:763} INFO - Weighting simulations\n",
      "[2021-07-26 12:21:05,179] {simulate.py:841} INFO -     Added noise 185.3315481867656 times reference\n",
      "[2021-07-26 12:21:06,152] {legend.py:1193} WARNING - No handles with labels found to put in legend.\n",
      "This is kV\n",
      "kv ../fastcat/data/Detectors/CuGOS-784-micrometer\n",
      "[2021-07-26 12:21:06,178] {simulate.py:214} INFO - Initializing filter bowtie_mod\n",
      "[2021-07-26 12:21:06,178] {simulate.py:219} INFO - Loading attenuations from 404_phan_480\n",
      "[2021-07-26 12:21:06,191] {simulate.py:415} INFO - Initializing ASG\n",
      "[2021-07-26 12:21:06,208] {simulate.py:534} INFO - Loading attenuations is on\n",
      "[2021-07-26 12:21:06,209] {simulate.py:536} INFO - Running Simulations\n",
      "[2021-07-26 12:21:06,209] {simulate.py:560} INFO -     Simulating 10 keV\n",
      "[2021-07-26 12:21:06,795] {simulate.py:560} INFO -     Simulating 20 keV\n",
      "[2021-07-26 12:21:07,336] {simulate.py:560} INFO -     Simulating 30 keV\n",
      "[2021-07-26 12:21:08,049] {simulate.py:560} INFO -     Simulating 40 keV\n",
      "[2021-07-26 12:21:08,883] {simulate.py:560} INFO -     Simulating 50 keV\n",
      "[2021-07-26 12:21:10,032] {simulate.py:560} INFO -     Simulating 60 keV\n",
      "[2021-07-26 12:21:11,498] {simulate.py:560} INFO -     Simulating 70 keV\n",
      "[2021-07-26 12:21:12,966] {simulate.py:560} INFO -     Simulating 80 keV\n",
      "[2021-07-26 12:21:14,410] {simulate.py:560} INFO -     Simulating 90 keV\n",
      "[2021-07-26 12:21:15,806] {simulate.py:560} INFO -     Simulating 100 keV\n",
      "[2021-07-26 12:21:17,237] {simulate.py:763} INFO - Weighting simulations\n",
      "[2021-07-26 12:21:17,238] {simulate.py:841} INFO -     Added noise 15.171771266261727 times reference\n",
      "[2021-07-26 12:21:18,223] {legend.py:1193} WARNING - No handles with labels found to put in legend.\n",
      "This is MV\n",
      "../fastcat/data/MV_spectra/C_spectrum_25.txt ../fastcat/data/Detectors/CsI-784-micrometer\n",
      "[2021-07-26 12:21:18,233] {simulate.py:219} INFO - Loading attenuations from 404_phan_480\n",
      "[2021-07-26 12:21:18,257] {simulate.py:534} INFO - Loading attenuations is on\n",
      "[2021-07-26 12:21:18,258] {simulate.py:536} INFO - Running Simulations\n",
      "[2021-07-26 12:21:18,258] {simulate.py:560} INFO -     Simulating 10 keV\n",
      "[2021-07-26 12:21:19,071] {simulate.py:560} INFO -     Simulating 20 keV\n",
      "[2021-07-26 12:21:19,881] {simulate.py:560} INFO -     Simulating 30 keV\n",
      "[2021-07-26 12:21:20,858] {simulate.py:560} INFO -     Simulating 40 keV\n",
      "[2021-07-26 12:21:21,947] {simulate.py:560} INFO -     Simulating 50 keV\n",
      "[2021-07-26 12:21:23,093] {simulate.py:560} INFO -     Simulating 60 keV\n",
      "[2021-07-26 12:21:24,226] {simulate.py:560} INFO -     Simulating 70 keV\n",
      "[2021-07-26 12:21:25,342] {simulate.py:560} INFO -     Simulating 80 keV\n",
      "[2021-07-26 12:21:26,434] {simulate.py:560} INFO -     Simulating 90 keV\n",
      "[2021-07-26 12:21:27,553] {simulate.py:560} INFO -     Simulating 100 keV\n",
      "[2021-07-26 12:21:28,938] {simulate.py:560} INFO -     Simulating 300 keV\n",
      "[2021-07-26 12:21:30,121] {simulate.py:560} INFO -     Simulating 500 keV\n",
      "[2021-07-26 12:21:30,997] {simulate.py:560} INFO -     Simulating 700 keV\n",
      "[2021-07-26 12:21:31,778] {simulate.py:560} INFO -     Simulating 900 keV\n",
      "[2021-07-26 12:21:32,517] {simulate.py:560} INFO -     Simulating 1000 keV\n",
      "[2021-07-26 12:21:33,278] {simulate.py:560} INFO -     Simulating 2000 keV\n",
      "[2021-07-26 12:21:33,991] {simulate.py:763} INFO - Weighting simulations\n",
      "[2021-07-26 12:21:33,992] {simulate.py:841} INFO -     Added noise 35.009549846813364 times reference\n",
      "[2021-07-26 12:21:34,969] {legend.py:1193} WARNING - No handles with labels found to put in legend.\n",
      "This is MV\n",
      "../fastcat/data/MV_spectra/C_spectrum_25.txt ../fastcat/data/Detectors/CWO-392-micrometer\n",
      "[2021-07-26 12:21:34,990] {simulate.py:219} INFO - Loading attenuations from 404_phan_480\n",
      "[2021-07-26 12:21:35,023] {simulate.py:534} INFO - Loading attenuations is on\n",
      "[2021-07-26 12:21:35,024] {simulate.py:536} INFO - Running Simulations\n",
      "[2021-07-26 12:21:35,024] {simulate.py:560} INFO -     Simulating 10 keV\n",
      "[2021-07-26 12:21:35,867] {simulate.py:560} INFO -     Simulating 20 keV\n",
      "[2021-07-26 12:21:36,696] {simulate.py:560} INFO -     Simulating 30 keV\n",
      "[2021-07-26 12:21:37,601] {simulate.py:560} INFO -     Simulating 40 keV\n",
      "[2021-07-26 12:21:38,615] {simulate.py:560} INFO -     Simulating 50 keV\n",
      "[2021-07-26 12:21:39,684] {simulate.py:560} INFO -     Simulating 60 keV\n",
      "[2021-07-26 12:21:40,762] {simulate.py:560} INFO -     Simulating 70 keV\n",
      "[2021-07-26 12:21:41,849] {simulate.py:560} INFO -     Simulating 80 keV\n",
      "[2021-07-26 12:21:42,953] {simulate.py:560} INFO -     Simulating 90 keV\n",
      "[2021-07-26 12:21:44,089] {simulate.py:560} INFO -     Simulating 100 keV\n",
      "[2021-07-26 12:21:45,475] {simulate.py:560} INFO -     Simulating 300 keV\n",
      "[2021-07-26 12:21:46,777] {simulate.py:560} INFO -     Simulating 500 keV\n",
      "[2021-07-26 12:21:48,126] {simulate.py:560} INFO -     Simulating 700 keV\n",
      "[2021-07-26 12:21:49,386] {simulate.py:560} INFO -     Simulating 900 keV\n",
      "[2021-07-26 12:21:50,519] {simulate.py:560} INFO -     Simulating 1000 keV\n",
      "[2021-07-26 12:21:51,830] {simulate.py:560} INFO -     Simulating 2000 keV\n",
      "[2021-07-26 12:21:52,942] {simulate.py:763} INFO - Weighting simulations\n",
      "[2021-07-26 12:21:52,943] {simulate.py:841} INFO -     Added noise 64.68877400971404 times reference\n",
      "[2021-07-26 12:21:53,929] {legend.py:1193} WARNING - No handles with labels found to put in legend.\n",
      "This is MV\n",
      "../fastcat/data/MV_spectra/C_spectrum_25.txt ../fastcat/data/Detectors/CuGOS-784-micrometer\n",
      "[2021-07-26 12:21:53,947] {simulate.py:219} INFO - Loading attenuations from 404_phan_480\n",
      "[2021-07-26 12:21:53,984] {simulate.py:534} INFO - Loading attenuations is on\n",
      "[2021-07-26 12:21:53,984] {simulate.py:536} INFO - Running Simulations\n",
      "[2021-07-26 12:21:53,985] {simulate.py:560} INFO -     Simulating 10 keV\n",
      "[2021-07-26 12:21:54,555] {simulate.py:560} INFO -     Simulating 20 keV\n",
      "[2021-07-26 12:21:55,098] {simulate.py:560} INFO -     Simulating 30 keV\n",
      "[2021-07-26 12:21:55,798] {simulate.py:560} INFO -     Simulating 40 keV\n",
      "[2021-07-26 12:21:56,715] {simulate.py:560} INFO -     Simulating 50 keV\n",
      "[2021-07-26 12:21:57,766] {simulate.py:560} INFO -     Simulating 60 keV\n",
      "[2021-07-26 12:21:58,956] {simulate.py:560} INFO -     Simulating 70 keV\n",
      "[2021-07-26 12:22:00,218] {simulate.py:560} INFO -     Simulating 80 keV\n",
      "[2021-07-26 12:22:01,455] {simulate.py:560} INFO -     Simulating 90 keV\n",
      "[2021-07-26 12:22:02,685] {simulate.py:560} INFO -     Simulating 100 keV\n",
      "[2021-07-26 12:22:03,937] {simulate.py:560} INFO -     Simulating 300 keV\n",
      "[2021-07-26 12:22:05,252] {simulate.py:560} INFO -     Simulating 500 keV\n",
      "[2021-07-26 12:22:06,402] {simulate.py:560} INFO -     Simulating 700 keV\n",
      "[2021-07-26 12:22:07,385] {simulate.py:560} INFO -     Simulating 900 keV\n",
      "[2021-07-26 12:22:08,244] {simulate.py:560} INFO -     Simulating 1000 keV\n",
      "[2021-07-26 12:22:09,207] {simulate.py:560} INFO -     Simulating 2000 keV\n",
      "[2021-07-26 12:22:10,031] {simulate.py:763} INFO - Weighting simulations\n",
      "[2021-07-26 12:22:10,031] {simulate.py:841} INFO -     Added noise 3.275859493804573 times reference\n",
      "[2021-07-26 12:22:11,000] {legend.py:1193} WARNING - No handles with labels found to put in legend.\n",
      "This is MV\n",
      "../fastcat/data/MV_spectra/C_spectrum_6.txt ../fastcat/data/Detectors/CsI-784-micrometer\n",
      "[2021-07-26 12:22:11,011] {simulate.py:219} INFO - Loading attenuations from 404_phan_480\n",
      "[2021-07-26 12:22:11,037] {simulate.py:534} INFO - Loading attenuations is on\n",
      "[2021-07-26 12:22:11,037] {simulate.py:536} INFO - Running Simulations\n",
      "[2021-07-26 12:22:11,038] {simulate.py:560} INFO -     Simulating 10 keV\n",
      "[2021-07-26 12:22:11,854] {simulate.py:560} INFO -     Simulating 20 keV\n",
      "[2021-07-26 12:22:12,671] {simulate.py:560} INFO -     Simulating 30 keV\n",
      "[2021-07-26 12:22:13,591] {simulate.py:560} INFO -     Simulating 40 keV\n",
      "[2021-07-26 12:22:14,660] {simulate.py:560} INFO -     Simulating 50 keV\n",
      "[2021-07-26 12:22:15,787] {simulate.py:560} INFO -     Simulating 60 keV\n",
      "[2021-07-26 12:22:16,920] {simulate.py:560} INFO -     Simulating 70 keV\n",
      "[2021-07-26 12:22:18,049] {simulate.py:560} INFO -     Simulating 80 keV\n",
      "[2021-07-26 12:22:19,160] {simulate.py:560} INFO -     Simulating 90 keV\n",
      "[2021-07-26 12:22:20,275] {simulate.py:560} INFO -     Simulating 100 keV\n",
      "[2021-07-26 12:22:21,625] {simulate.py:560} INFO -     Simulating 300 keV\n",
      "[2021-07-26 12:22:22,788] {simulate.py:560} INFO -     Simulating 500 keV\n",
      "[2021-07-26 12:22:23,720] {simulate.py:560} INFO -     Simulating 700 keV\n",
      "[2021-07-26 12:22:24,589] {simulate.py:560} INFO -     Simulating 900 keV\n",
      "[2021-07-26 12:22:25,320] {simulate.py:560} INFO -     Simulating 1000 keV\n",
      "[2021-07-26 12:22:26,155] {simulate.py:560} INFO -     Simulating 2000 keV\n",
      "[2021-07-26 12:22:26,971] {simulate.py:560} INFO -     Simulating 4000 keV\n",
      "[2021-07-26 12:22:27,668] {simulate.py:560} INFO -     Simulating 6000 keV\n",
      "[2021-07-26 12:22:28,349] {simulate.py:763} INFO - Weighting simulations\n",
      "[2021-07-26 12:22:28,350] {simulate.py:841} INFO -     Added noise 9.083007032127766 times reference\n",
      "[2021-07-26 12:22:29,313] {legend.py:1193} WARNING - No handles with labels found to put in legend.\n",
      "This is MV\n",
      "../fastcat/data/MV_spectra/C_spectrum_6.txt ../fastcat/data/Detectors/CWO-392-micrometer\n",
      "[2021-07-26 12:22:29,334] {simulate.py:219} INFO - Loading attenuations from 404_phan_480\n",
      "[2021-07-26 12:22:29,359] {simulate.py:534} INFO - Loading attenuations is on\n",
      "[2021-07-26 12:22:29,359] {simulate.py:536} INFO - Running Simulations\n",
      "[2021-07-26 12:22:29,360] {simulate.py:560} INFO -     Simulating 10 keV\n",
      "[2021-07-26 12:22:30,244] {simulate.py:560} INFO -     Simulating 20 keV\n",
      "[2021-07-26 12:22:31,107] {simulate.py:560} INFO -     Simulating 30 keV\n",
      "[2021-07-26 12:22:32,002] {simulate.py:560} INFO -     Simulating 40 keV\n",
      "[2021-07-26 12:22:33,003] {simulate.py:560} INFO -     Simulating 50 keV\n",
      "[2021-07-26 12:22:34,078] {simulate.py:560} INFO -     Simulating 60 keV\n",
      "[2021-07-26 12:22:35,179] {simulate.py:560} INFO -     Simulating 70 keV\n",
      "[2021-07-26 12:22:36,276] {simulate.py:560} INFO -     Simulating 80 keV\n",
      "[2021-07-26 12:22:37,383] {simulate.py:560} INFO -     Simulating 90 keV\n",
      "[2021-07-26 12:22:38,493] {simulate.py:560} INFO -     Simulating 100 keV\n",
      "[2021-07-26 12:22:39,868] {simulate.py:560} INFO -     Simulating 300 keV\n",
      "[2021-07-26 12:22:41,168] {simulate.py:560} INFO -     Simulating 500 keV\n",
      "[2021-07-26 12:22:42,595] {simulate.py:560} INFO -     Simulating 700 keV\n",
      "[2021-07-26 12:22:43,987] {simulate.py:560} INFO -     Simulating 900 keV\n",
      "[2021-07-26 12:22:45,286] {simulate.py:560} INFO -     Simulating 1000 keV\n",
      "[2021-07-26 12:22:46,736] {simulate.py:560} INFO -     Simulating 2000 keV\n",
      "[2021-07-26 12:22:48,125] {simulate.py:560} INFO -     Simulating 4000 keV\n",
      "[2021-07-26 12:22:49,538] {simulate.py:560} INFO -     Simulating 6000 keV\n",
      "[2021-07-26 12:22:50,376] {simulate.py:763} INFO - Weighting simulations\n",
      "[2021-07-26 12:22:50,377] {simulate.py:841} INFO -     Added noise 22.868525816499616 times reference\n",
      "[2021-07-26 12:22:51,321] {legend.py:1193} WARNING - No handles with labels found to put in legend.\n",
      "This is MV\n",
      "../fastcat/data/MV_spectra/C_spectrum_6.txt ../fastcat/data/Detectors/CuGOS-784-micrometer\n",
      "[2021-07-26 12:22:51,338] {simulate.py:219} INFO - Loading attenuations from 404_phan_480\n",
      "[2021-07-26 12:22:51,362] {simulate.py:534} INFO - Loading attenuations is on\n",
      "[2021-07-26 12:22:51,363] {simulate.py:536} INFO - Running Simulations\n",
      "[2021-07-26 12:22:51,363] {simulate.py:560} INFO -     Simulating 10 keV\n",
      "[2021-07-26 12:22:51,911] {simulate.py:560} INFO -     Simulating 20 keV\n",
      "[2021-07-26 12:22:52,395] {simulate.py:560} INFO -     Simulating 30 keV\n",
      "[2021-07-26 12:22:53,039] {simulate.py:560} INFO -     Simulating 40 keV\n",
      "[2021-07-26 12:22:53,817] {simulate.py:560} INFO -     Simulating 50 keV\n",
      "[2021-07-26 12:22:54,787] {simulate.py:560} INFO -     Simulating 60 keV\n",
      "[2021-07-26 12:22:55,934] {simulate.py:560} INFO -     Simulating 70 keV\n",
      "[2021-07-26 12:22:57,116] {simulate.py:560} INFO -     Simulating 80 keV\n",
      "[2021-07-26 12:22:58,299] {simulate.py:560} INFO -     Simulating 90 keV\n",
      "[2021-07-26 12:22:59,479] {simulate.py:560} INFO -     Simulating 100 keV\n",
      "[2021-07-26 12:23:00,685] {simulate.py:560} INFO -     Simulating 300 keV\n",
      "[2021-07-26 12:23:01,987] {simulate.py:560} INFO -     Simulating 500 keV\n",
      "[2021-07-26 12:23:03,158] {simulate.py:560} INFO -     Simulating 700 keV\n",
      "[2021-07-26 12:23:04,214] {simulate.py:560} INFO -     Simulating 900 keV\n",
      "[2021-07-26 12:23:05,130] {simulate.py:560} INFO -     Simulating 1000 keV\n",
      "[2021-07-26 12:23:06,231] {simulate.py:560} INFO -     Simulating 2000 keV\n",
      "[2021-07-26 12:23:07,343] {simulate.py:560} INFO -     Simulating 4000 keV\n",
      "[2021-07-26 12:23:08,258] {simulate.py:560} INFO -     Simulating 6000 keV\n",
      "[2021-07-26 12:23:08,928] {simulate.py:763} INFO - Weighting simulations\n",
      "[2021-07-26 12:23:08,929] {simulate.py:841} INFO -     Added noise 1.119614281656961 times reference\n",
      "[2021-07-26 12:23:09,904] {legend.py:1193} WARNING - No handles with labels found to put in legend.\n",
      "This is MV\n",
      "../fastcat/data/MV_spectra/W_spectrum_25.txt ../fastcat/data/Detectors/CsI-784-micrometer\n",
      "[2021-07-26 12:23:09,915] {simulate.py:219} INFO - Loading attenuations from 404_phan_480\n",
      "[2021-07-26 12:23:09,939] {simulate.py:534} INFO - Loading attenuations is on\n",
      "[2021-07-26 12:23:09,940] {simulate.py:536} INFO - Running Simulations\n",
      "[2021-07-26 12:23:09,940] {simulate.py:560} INFO -     Simulating 10 keV\n",
      "[2021-07-26 12:23:10,612] {simulate.py:560} INFO -     Simulating 20 keV\n",
      "[2021-07-26 12:23:11,314] {simulate.py:560} INFO -     Simulating 30 keV\n",
      "[2021-07-26 12:23:12,002] {simulate.py:560} INFO -     Simulating 40 keV\n",
      "[2021-07-26 12:23:12,716] {simulate.py:560} INFO -     Simulating 50 keV\n",
      "[2021-07-26 12:23:13,446] {simulate.py:560} INFO -     Simulating 60 keV\n",
      "[2021-07-26 12:23:14,167] {simulate.py:560} INFO -     Simulating 70 keV\n",
      "[2021-07-26 12:23:14,926] {simulate.py:560} INFO -     Simulating 80 keV\n",
      "[2021-07-26 12:23:15,720] {simulate.py:560} INFO -     Simulating 90 keV\n",
      "[2021-07-26 12:23:16,610] {simulate.py:560} INFO -     Simulating 100 keV\n",
      "[2021-07-26 12:23:17,940] {simulate.py:560} INFO -     Simulating 300 keV\n",
      "[2021-07-26 12:23:19,133] {simulate.py:560} INFO -     Simulating 500 keV\n",
      "[2021-07-26 12:23:20,414] {simulate.py:560} INFO -     Simulating 700 keV\n",
      "[2021-07-26 12:23:21,844] {simulate.py:560} INFO -     Simulating 900 keV\n",
      "[2021-07-26 12:23:23,177] {simulate.py:560} INFO -     Simulating 1000 keV\n",
      "[2021-07-26 12:23:24,635] {simulate.py:560} INFO -     Simulating 2000 keV\n",
      "[2021-07-26 12:23:25,951] {simulate.py:763} INFO - Weighting simulations\n",
      "[2021-07-26 12:23:25,952] {simulate.py:841} INFO -     Added noise 0.9056732507361642 times reference\n",
      "[2021-07-26 12:23:26,907] {legend.py:1193} WARNING - No handles with labels found to put in legend.\n",
      "This is MV\n",
      "../fastcat/data/MV_spectra/W_spectrum_25.txt ../fastcat/data/Detectors/CWO-392-micrometer\n",
      "[2021-07-26 12:23:26,928] {simulate.py:219} INFO - Loading attenuations from 404_phan_480\n",
      "[2021-07-26 12:23:26,952] {simulate.py:534} INFO - Loading attenuations is on\n",
      "[2021-07-26 12:23:26,953] {simulate.py:536} INFO - Running Simulations\n",
      "[2021-07-26 12:23:26,953] {simulate.py:560} INFO -     Simulating 10 keV\n",
      "[2021-07-26 12:23:27,622] {simulate.py:560} INFO -     Simulating 20 keV\n",
      "[2021-07-26 12:23:28,274] {simulate.py:560} INFO -     Simulating 30 keV\n",
      "[2021-07-26 12:23:28,923] {simulate.py:560} INFO -     Simulating 40 keV\n",
      "[2021-07-26 12:23:29,579] {simulate.py:560} INFO -     Simulating 50 keV\n",
      "[2021-07-26 12:23:30,225] {simulate.py:560} INFO -     Simulating 60 keV\n",
      "[2021-07-26 12:23:30,867] {simulate.py:560} INFO -     Simulating 70 keV\n",
      "[2021-07-26 12:23:31,525] {simulate.py:560} INFO -     Simulating 80 keV\n",
      "[2021-07-26 12:23:32,182] {simulate.py:560} INFO -     Simulating 90 keV\n",
      "[2021-07-26 12:23:32,856] {simulate.py:560} INFO -     Simulating 100 keV\n",
      "[2021-07-26 12:23:33,953] {simulate.py:560} INFO -     Simulating 300 keV\n",
      "[2021-07-26 12:23:35,127] {simulate.py:560} INFO -     Simulating 500 keV\n",
      "[2021-07-26 12:23:36,309] {simulate.py:560} INFO -     Simulating 700 keV\n",
      "[2021-07-26 12:23:37,552] {simulate.py:560} INFO -     Simulating 900 keV\n",
      "[2021-07-26 12:23:38,903] {simulate.py:560} INFO -     Simulating 1000 keV\n",
      "[2021-07-26 12:23:40,145] {simulate.py:560} INFO -     Simulating 2000 keV\n",
      "[2021-07-26 12:23:41,470] {simulate.py:763} INFO - Weighting simulations\n",
      "[2021-07-26 12:23:41,471] {simulate.py:841} INFO -     Added noise 15.697760146100194 times reference\n",
      "[2021-07-26 12:23:42,442] {legend.py:1193} WARNING - No handles with labels found to put in legend.\n",
      "This is MV\n",
      "../fastcat/data/MV_spectra/W_spectrum_25.txt ../fastcat/data/Detectors/CuGOS-784-micrometer\n",
      "[2021-07-26 12:23:42,458] {simulate.py:219} INFO - Loading attenuations from 404_phan_480\n",
      "[2021-07-26 12:23:42,483] {simulate.py:534} INFO - Loading attenuations is on\n",
      "[2021-07-26 12:23:42,483] {simulate.py:536} INFO - Running Simulations\n",
      "[2021-07-26 12:23:42,484] {simulate.py:560} INFO -     Simulating 10 keV\n",
      "[2021-07-26 12:23:43,054] {simulate.py:560} INFO -     Simulating 20 keV\n",
      "[2021-07-26 12:23:43,521] {simulate.py:560} INFO -     Simulating 30 keV\n",
      "[2021-07-26 12:23:44,152] {simulate.py:560} INFO -     Simulating 40 keV\n",
      "[2021-07-26 12:23:44,775] {simulate.py:560} INFO -     Simulating 50 keV\n",
      "[2021-07-26 12:23:45,408] {simulate.py:560} INFO -     Simulating 60 keV\n",
      "[2021-07-26 12:23:46,062] {simulate.py:560} INFO -     Simulating 70 keV\n",
      "[2021-07-26 12:23:46,746] {simulate.py:560} INFO -     Simulating 80 keV\n",
      "[2021-07-26 12:23:47,473] {simulate.py:560} INFO -     Simulating 90 keV\n",
      "[2021-07-26 12:23:48,250] {simulate.py:560} INFO -     Simulating 100 keV\n",
      "[2021-07-26 12:23:49,571] {simulate.py:560} INFO -     Simulating 300 keV\n",
      "[2021-07-26 12:23:50,717] {simulate.py:560} INFO -     Simulating 500 keV\n",
      "[2021-07-26 12:23:51,921] {simulate.py:560} INFO -     Simulating 700 keV\n",
      "[2021-07-26 12:23:53,218] {simulate.py:560} INFO -     Simulating 900 keV\n",
      "[2021-07-26 12:23:54,593] {simulate.py:560} INFO -     Simulating 1000 keV\n",
      "[2021-07-26 12:23:55,886] {simulate.py:560} INFO -     Simulating 2000 keV\n",
      "[2021-07-26 12:23:57,312] {simulate.py:763} INFO - Weighting simulations\n",
      "[2021-07-26 12:23:57,312] {simulate.py:841} INFO -     Added noise 0.3165110607731963 times reference\n",
      "[2021-07-26 12:23:58,245] {legend.py:1193} WARNING - No handles with labels found to put in legend.\n",
      "This is MV\n",
      "../fastcat/data/MV_spectra/W_spectrum_6.txt ../fastcat/data/Detectors/CsI-784-micrometer\n",
      "[2021-07-26 12:23:58,256] {simulate.py:219} INFO - Loading attenuations from 404_phan_480\n",
      "[2021-07-26 12:23:58,284] {simulate.py:534} INFO - Loading attenuations is on\n",
      "[2021-07-26 12:23:58,284] {simulate.py:536} INFO - Running Simulations\n",
      "[2021-07-26 12:23:58,284] {simulate.py:560} INFO -     Simulating 10 keV\n",
      "[2021-07-26 12:23:58,965] {simulate.py:560} INFO -     Simulating 20 keV\n",
      "[2021-07-26 12:23:59,647] {simulate.py:560} INFO -     Simulating 30 keV\n",
      "[2021-07-26 12:24:00,325] {simulate.py:560} INFO -     Simulating 40 keV\n",
      "[2021-07-26 12:24:01,028] {simulate.py:560} INFO -     Simulating 50 keV\n",
      "[2021-07-26 12:24:01,759] {simulate.py:560} INFO -     Simulating 60 keV\n",
      "[2021-07-26 12:24:02,506] {simulate.py:560} INFO -     Simulating 70 keV\n",
      "[2021-07-26 12:24:03,253] {simulate.py:560} INFO -     Simulating 80 keV\n",
      "[2021-07-26 12:24:04,039] {simulate.py:560} INFO -     Simulating 90 keV\n",
      "[2021-07-26 12:24:04,936] {simulate.py:560} INFO -     Simulating 100 keV\n",
      "[2021-07-26 12:24:06,244] {simulate.py:560} INFO -     Simulating 300 keV\n",
      "[2021-07-26 12:24:07,456] {simulate.py:560} INFO -     Simulating 500 keV\n",
      "[2021-07-26 12:24:08,674] {simulate.py:560} INFO -     Simulating 700 keV\n",
      "[2021-07-26 12:24:09,932] {simulate.py:560} INFO -     Simulating 900 keV\n",
      "[2021-07-26 12:24:11,330] {simulate.py:560} INFO -     Simulating 1000 keV\n",
      "[2021-07-26 12:24:12,536] {simulate.py:560} INFO -     Simulating 2000 keV\n",
      "[2021-07-26 12:24:13,753] {simulate.py:560} INFO -     Simulating 4000 keV\n",
      "[2021-07-26 12:24:15,123] {simulate.py:560} INFO -     Simulating 6000 keV\n",
      "[2021-07-26 12:24:15,904] {simulate.py:763} INFO - Weighting simulations\n",
      "[2021-07-26 12:24:15,905] {simulate.py:841} INFO -     Added noise 0.18956645265392455 times reference\n",
      "[2021-07-26 12:24:16,874] {legend.py:1193} WARNING - No handles with labels found to put in legend.\n",
      "This is MV\n",
      "../fastcat/data/MV_spectra/W_spectrum_6.txt ../fastcat/data/Detectors/CWO-392-micrometer\n",
      "[2021-07-26 12:24:16,895] {simulate.py:219} INFO - Loading attenuations from 404_phan_480\n",
      "[2021-07-26 12:24:16,921] {simulate.py:534} INFO - Loading attenuations is on\n",
      "[2021-07-26 12:24:16,921] {simulate.py:536} INFO - Running Simulations\n",
      "[2021-07-26 12:24:16,921] {simulate.py:560} INFO -     Simulating 10 keV\n",
      "[2021-07-26 12:24:17,600] {simulate.py:560} INFO -     Simulating 20 keV\n",
      "[2021-07-26 12:24:18,239] {simulate.py:560} INFO -     Simulating 30 keV\n",
      "[2021-07-26 12:24:18,883] {simulate.py:560} INFO -     Simulating 40 keV\n",
      "[2021-07-26 12:24:19,508] {simulate.py:560} INFO -     Simulating 50 keV\n",
      "[2021-07-26 12:24:20,150] {simulate.py:560} INFO -     Simulating 60 keV\n",
      "[2021-07-26 12:24:20,780] {simulate.py:560} INFO -     Simulating 70 keV\n",
      "[2021-07-26 12:24:21,426] {simulate.py:560} INFO -     Simulating 80 keV\n",
      "[2021-07-26 12:24:22,070] {simulate.py:560} INFO -     Simulating 90 keV\n",
      "[2021-07-26 12:24:22,733] {simulate.py:560} INFO -     Simulating 100 keV\n",
      "[2021-07-26 12:24:23,728] {simulate.py:560} INFO -     Simulating 300 keV\n",
      "[2021-07-26 12:24:25,072] {simulate.py:560} INFO -     Simulating 500 keV\n",
      "[2021-07-26 12:24:26,257] {simulate.py:560} INFO -     Simulating 700 keV\n",
      "[2021-07-26 12:24:27,464] {simulate.py:560} INFO -     Simulating 900 keV\n",
      "[2021-07-26 12:24:28,747] {simulate.py:560} INFO -     Simulating 1000 keV\n",
      "[2021-07-26 12:24:29,888] {simulate.py:560} INFO -     Simulating 2000 keV\n",
      "[2021-07-26 12:24:31,012] {simulate.py:560} INFO -     Simulating 4000 keV\n",
      "[2021-07-26 12:24:32,228] {simulate.py:560} INFO -     Simulating 6000 keV\n",
      "[2021-07-26 12:24:33,364] {simulate.py:763} INFO - Weighting simulations\n",
      "[2021-07-26 12:24:33,365] {simulate.py:841} INFO -     Added noise 6.100841620005324 times reference\n",
      "[2021-07-26 12:24:34,396] {legend.py:1193} WARNING - No handles with labels found to put in legend.\n",
      "This is MV\n",
      "../fastcat/data/MV_spectra/W_spectrum_6.txt ../fastcat/data/Detectors/CuGOS-784-micrometer\n",
      "[2021-07-26 12:24:34,413] {simulate.py:219} INFO - Loading attenuations from 404_phan_480\n",
      "[2021-07-26 12:24:34,438] {simulate.py:534} INFO - Loading attenuations is on\n",
      "[2021-07-26 12:24:34,439] {simulate.py:536} INFO - Running Simulations\n",
      "[2021-07-26 12:24:34,439] {simulate.py:560} INFO -     Simulating 10 keV\n",
      "[2021-07-26 12:24:34,986] {simulate.py:560} INFO -     Simulating 20 keV\n",
      "[2021-07-26 12:24:35,462] {simulate.py:560} INFO -     Simulating 30 keV\n",
      "[2021-07-26 12:24:36,075] {simulate.py:560} INFO -     Simulating 40 keV\n",
      "[2021-07-26 12:24:36,694] {simulate.py:560} INFO -     Simulating 50 keV\n",
      "[2021-07-26 12:24:37,316] {simulate.py:560} INFO -     Simulating 60 keV\n",
      "[2021-07-26 12:24:37,981] {simulate.py:560} INFO -     Simulating 70 keV\n",
      "[2021-07-26 12:24:38,671] {simulate.py:560} INFO -     Simulating 80 keV\n",
      "[2021-07-26 12:24:39,398] {simulate.py:560} INFO -     Simulating 90 keV\n",
      "[2021-07-26 12:24:40,178] {simulate.py:560} INFO -     Simulating 100 keV\n",
      "[2021-07-26 12:24:41,410] {simulate.py:560} INFO -     Simulating 300 keV\n",
      "[2021-07-26 12:24:42,643] {simulate.py:560} INFO -     Simulating 500 keV\n",
      "[2021-07-26 12:24:43,831] {simulate.py:560} INFO -     Simulating 700 keV\n",
      "[2021-07-26 12:24:45,049] {simulate.py:560} INFO -     Simulating 900 keV\n",
      "[2021-07-26 12:24:46,378] {simulate.py:560} INFO -     Simulating 1000 keV\n",
      "[2021-07-26 12:24:47,538] {simulate.py:560} INFO -     Simulating 2000 keV\n",
      "[2021-07-26 12:24:48,678] {simulate.py:560} INFO -     Simulating 4000 keV\n",
      "[2021-07-26 12:24:49,975] {simulate.py:560} INFO -     Simulating 6000 keV\n",
      "[2021-07-26 12:24:50,999] {simulate.py:763} INFO - Weighting simulations\n",
      "[2021-07-26 12:24:51,000] {simulate.py:841} INFO -     Added noise 0.0853757147057586 times reference\n",
      "[2021-07-26 12:24:52,001] {legend.py:1193} WARNING - No handles with labels found to put in legend.\n"
     ]
    }
   ],
   "source": [
    "nviews = 480\n",
    "\n",
    "contrasts = []\n",
    "mtfs = []\n",
    "label = []\n",
    "effs = []\n",
    "nps = []\n",
    "doses = []\n",
    "\n",
    "for phan in phantoms[:1]:\n",
    "    phantom = fc.Catphan_404(hi_res=False)\n",
    "    phantom.phan_map = phan_map\n",
    "    s = fc.Spectrum()\n",
    "    for spectrum in spectra:\n",
    "        for det in MV_detectors:#[1:2]:\n",
    "\n",
    "            if len(spectrum) > 4:\n",
    "                s.load(spectrum.split('/')[-1].split('.')[0])\n",
    "                print('This is MV')\n",
    "#                 s.y[-50:] = 0\n",
    "#                 s.attenuate(0.2,fc.get_mu(z=13)) #was 0.3\n",
    "#                 s.attenuate(0.089,fc.get_mu(z=22))\n",
    "#                 s.attenuate(1,fc.get_mu(z=13))\n",
    "            else:\n",
    "                s.x = xx\n",
    "                s.y = yy\n",
    "                print('This is kV')\n",
    "#                 s.attenuate(1,fc.get_mu(z=13))\n",
    "                \n",
    "            print(spectrum,det)\n",
    "            kernel = fc.Detector(s, det.split('/')[-1].split('.')[0])\n",
    "#             kernel.get_plot_mtf_real(axs[2])\n",
    "#             mtfs.append([kernel.freq,kernel.mtf])\n",
    "            angles = np.linspace(0,np.pi*2,nviews,endpoint=False)        \n",
    "            if len(spectrum) < 4:\n",
    "                phantom.return_projs(kernel,s,angles,det_on=True,convolve_on=False,mgy = 7/nviews,ASG=True,bowtie=True,filter='bowtie_mod',load_proj=True,proj_file='404_phan_480')\n",
    "            else:\n",
    "                phantom.return_projs(kernel,s,angles,det_on=True,mgy = 7/nviews,convolve_on=False,load_proj=True,proj_file='404_phan_480')\n",
    "            phantom.reconstruct('FDK')\n",
    "#             phantom.reconstruct('CGLS')\n",
    "            contrasts.append(phantom.analyse_515(phantom.img[5],axs))\n",
    "            label.append(spectrum.split('/')[-1].split('.')[0] + det.split('/')[-1].split('.')[0])\n",
    "            effs.append(phantom.ratio)\n",
    "            nps.append(phantom.nphoton_av)\n",
    "            doses.append(phantom.doses)\n",
    "            \n",
    "\n",
    "#             break\n",
    "#         break\n",
    "#     break"
   ]
  },
  {
   "cell_type": "code",
   "execution_count": 47,
   "metadata": {},
   "outputs": [
    {
     "data": {
      "application/vnd.jupyter.widget-view+json": {
       "model_id": "f701b331dde64d529d3362a015d15f1a",
       "version_major": 2,
       "version_minor": 0
      },
      "text/plain": [
       "Canvas(toolbar=Toolbar(toolitems=[('Home', 'Reset original view', 'home', 'home'), ('Back', 'Back to previous …"
      ]
     },
     "metadata": {},
     "output_type": "display_data"
    },
    {
     "data": {
      "text/plain": [
       "<matplotlib.legend.Legend at 0x7ff98f720910>"
      ]
     },
     "execution_count": 47,
     "metadata": {},
     "output_type": "execute_result"
    }
   ],
   "source": [
    "plt.figure()\n",
    "for ii,eff in enumerate(zip(nps,effs)):\n",
    "    plt.plot(ii,eff[0]/np.sum(nps),'r*',label='n_photons')\n",
    "    plt.plot(ii,eff[1]/np.sum(effs),'b*',label='ratio')\n",
    "plt.legend(['n_photon','ratio'])\n",
    "# plt.legend(label)\n",
    "# plt.tight_layout()"
   ]
  },
  {
   "cell_type": "code",
   "execution_count": 56,
   "metadata": {},
   "outputs": [
    {
     "data": {
      "text/plain": [
       "array([0.0157925 , 0.02489176, 0.03072557, 0.03655938, 0.03827044,\n",
       "       0.03381792, 0.0293654 , 0.0257994 , 0.02355599, 0.16430884,\n",
       "       0.15787932, 0.0920026 , 0.06308159, 0.03618075, 0.08853884,\n",
       "       0.10284713, 0.03638256, 0.        ])"
      ]
     },
     "execution_count": 56,
     "metadata": {},
     "output_type": "execute_result"
    }
   ],
   "source": [
    "phantom.weights_small2"
   ]
  },
  {
   "cell_type": "code",
   "execution_count": 57,
   "metadata": {},
   "outputs": [
    {
     "data": {
      "application/vnd.jupyter.widget-view+json": {
       "model_id": "c79700a8a5c64114941a5fc93f629793",
       "version_major": 2,
       "version_minor": 0
      },
      "text/plain": [
       "Canvas(toolbar=Toolbar(toolitems=[('Home', 'Reset original view', 'home', 'home'), ('Back', 'Back to previous …"
      ]
     },
     "metadata": {},
     "output_type": "display_data"
    },
    {
     "data": {
      "text/plain": [
       "[<matplotlib.lines.Line2D at 0x7ff9917747d0>]"
      ]
     },
     "execution_count": 57,
     "metadata": {},
     "output_type": "execute_result"
    }
   ],
   "source": [
    "plt.figure()\n",
    "plt.plot(s.x,s.y)"
   ]
  },
  {
   "cell_type": "code",
   "execution_count": 123,
   "metadata": {},
   "outputs": [
    {
     "data": {
      "application/vnd.jupyter.widget-view+json": {
       "model_id": "1287d7ca67c242daa655dd799303dd80",
       "version_major": 2,
       "version_minor": 0
      },
      "text/plain": [
       "Canvas(toolbar=Toolbar(toolitems=[('Home', 'Reset original view', 'home', 'home'), ('Back', 'Back to previous …"
      ]
     },
     "metadata": {},
     "output_type": "display_data"
    },
    {
     "data": {
      "text/plain": [
       "[<matplotlib.lines.Line2D at 0x7f9404b42bd0>]"
      ]
     },
     "execution_count": 123,
     "metadata": {},
     "output_type": "execute_result"
    }
   ],
   "source": [
    "plt.figure()\n",
    "plt.plot(np.array(doses[7]).T,'*')"
   ]
  },
  {
   "cell_type": "code",
   "execution_count": 8,
   "metadata": {},
   "outputs": [],
   "source": [
    "dep = np.load('../../fastcat/data/Detectors/CWO-392-micrometer/EnergyDeposition.npy')\n",
    "MC_energies_keV = np.array(\n",
    "    [\n",
    "        10,\n",
    "        20,\n",
    "        30,\n",
    "        40,\n",
    "        50,\n",
    "        60,\n",
    "        70,\n",
    "        80,\n",
    "        90,\n",
    "        100,\n",
    "        300,\n",
    "        500,\n",
    "        700,\n",
    "        900,\n",
    "        1000,\n",
    "        2000,\n",
    "        4000,\n",
    "        6000,\n",
    "    ])"
   ]
  },
  {
   "cell_type": "code",
   "execution_count": 11,
   "metadata": {},
   "outputs": [],
   "source": [
    "deps = []\n",
    "deps.append(dep)\n",
    "deps.append(MC_energies_keV)"
   ]
  },
  {
   "cell_type": "code",
   "execution_count": 13,
   "metadata": {},
   "outputs": [],
   "source": [
    "# np.save('../../fastcat/data/Detectors/CWO-392-micrometer/EnergyDeposition.npy',deps)"
   ]
  },
  {
   "cell_type": "code",
   "execution_count": 26,
   "metadata": {},
   "outputs": [
    {
     "data": {
      "application/vnd.jupyter.widget-view+json": {
       "model_id": "7f549aad12694ddc96def93130b17c38",
       "version_major": 2,
       "version_minor": 0
      },
      "text/plain": [
       "Canvas(toolbar=Toolbar(toolitems=[('Home', 'Reset original view', 'home', 'home'), ('Back', 'Back to previous …"
      ]
     },
     "metadata": {},
     "output_type": "display_data"
    }
   ],
   "source": [
    "inds_i_want = [0,3,2,1]\n",
    "xx = np.linspace(0,1,5)#np.arange(5)\n",
    "\n",
    "labs = ['120 kVp','2.5 MV C','6 MV C','2.5 MV W','6 MV W']\n",
    "cc = np.array([np.array(contrasts[ii][3])[inds_i_want] for ii in range(len(contrasts))])\n",
    "ee = np.array([np.array(contrasts[ii][4])[inds_i_want] for ii in range(len(contrasts))])\n",
    "# ll = np.array([np.array(label[ii]) for ii in range(len(contrasts))])\n",
    "\n",
    "inds = np.array([0,1,2,3,4])\n",
    "# plt.figure(figsize=[8,4])#,dpi=300)\n",
    "plt.figure(figsize=[10,5])#  ,dpi=300)\n",
    "\n",
    "alph = 1\n",
    "hat = None\n",
    "plt.rcParams['axes.axisbelow'] = True\n",
    "\n",
    "# plt.title('Contrast to Noise Ratio')\n",
    "plt.subplot(131)\n",
    "plt.title('CWO',{'fontsize':'x-large'})\n",
    "\n",
    "x2,y2 = -0.5,31\n",
    "plt.text(x2,y2,'(a)',color='cornflowerblue',fontsize=16)\n",
    "plt.bar(xx-0.09,cc.flatten()[::4][1::3][inds], yerr = ee.flatten()[::4][1::3][inds],width=0.06,color='lightcoral',alpha=alph,hatch=hat,fill=True)\n",
    "plt.bar(xx-0.15,cc.flatten()[1::4][1::3][inds], yerr = ee.flatten()[1::4][1::3][inds],width=0.06,color='darkorange',alpha=alph,hatch=hat,fill=True)\n",
    "plt.bar(xx-0.21,cc.flatten()[3::4][1::3][inds], yerr = ee.flatten()[3::4][1::3][inds],width=0.06,color='cornflowerblue',alpha=alph,hatch=hat,fill=True)\n",
    "plt.bar(xx-0.27,cc.flatten()[2::4][1::3][inds], yerr = ee.flatten()[2::4][1::3][inds],width=0.06,color='k',alpha=alph,hatch=hat,fill=True)\n",
    "\n",
    "plt.ylabel('CNR')\n",
    "plt.xticks(np.array([-0.3,-0.05,0.2,0.45,0.70])+0.12,labs,rotation=45)\n",
    "plt.grid('on')\n",
    "plt.ylim([0,30])\n",
    "\n",
    "off = 0\n",
    "hat = None\n",
    "\n",
    "plt.subplot(132)\n",
    "plt.title('CsI',{'fontsize':'x-large'})\n",
    "x2,y2 = -0.5,31\n",
    "plt.text(x2,y2,'(b)',color='cornflowerblue',fontsize=16)\n",
    "plt.grid('on')\n",
    "plt.bar(xx-0.27+off,cc.flatten()[2::4][::3][inds], yerr = ee.flatten()[2::4][::3][inds],width=0.06,color='k',alpha=alph,hatch=hat,fill=True)\n",
    "plt.bar(xx-0.21+off,cc.flatten()[3::4][::3][inds], yerr = ee.flatten()[3::4][::3][inds],width=0.06,color='cornflowerblue',alpha=alph,hatch=hat,fill=True)\n",
    "plt.bar(xx-0.15+off,cc.flatten()[1::4][::3][inds], yerr = ee.flatten()[1::4][::3][inds],width=0.06,color='darkorange',alpha=alph,hatch=hat,fill=True)\n",
    "plt.bar(xx-0.09+off,cc.flatten()[::4][::3][inds], yerr = ee.flatten()[::4][::3][inds],width=0.06,color='lightcoral',alpha=alph,hatch=hat,fill=True)\n",
    "plt.ylim([0,30])\n",
    "plt.yticks([0,5,10,15,20,25,30],labels=[])\n",
    "plt.xticks(np.array([-0.3,-0.05,0.2,0.45,0.70])+0.12,labs,rotation=45)\n",
    "off = 0\n",
    "plt.subplot(133)\n",
    "plt.title('GOS',{'fontsize':'x-large'})\n",
    "x2,y2 = -0.5,31\n",
    "plt.text(x2,y2,'(c)',color='cornflowerblue',fontsize=16)\n",
    "plt.grid('on')\n",
    "plt.bar(xx-0.27+off,cc.flatten()[2::4][2::3][inds], yerr = ee.flatten()[2::4][2::3][inds],width=0.06,color='k',alpha=alph,hatch=hat,fill=True)\n",
    "plt.bar(xx-0.21+off,cc.flatten()[3::4][2::3][inds], yerr = ee.flatten()[3::4][2::3][inds],width=0.06,color='cornflowerblue',alpha=alph,hatch=hat,fill=True)\n",
    "plt.bar(xx-0.15+off,cc.flatten()[1::4][2::3][inds], yerr = ee.flatten()[1::4][2::3][inds],width=0.06,color='darkorange',alpha=alph,hatch=hat,fill=True)\n",
    "plt.bar(xx-0.09+off,cc.flatten()[::4][2::3][inds], yerr = ee.flatten()[::4][2::3][inds],width=0.06,color='lightcoral',alpha=alph,hatch=hat,fill=True)\n",
    "\n",
    "plt.ylim([0,30])\n",
    "plt.yticks([0,5,10,15,20,25,30],labels=[])\n",
    "plt.xticks(np.array([-0.3,-0.05,0.2,0.45,0.70])+0.12,labs,rotation=45)\n",
    "\n",
    "plt.legend(['Rib Bone','Lung','Adipose','Spongiosa'])\n",
    "# ax = plt.gca().add_artist(first_legend)\n",
    "\n",
    "\n",
    "plt.tight_layout()\n",
    "# plt.savefig('/home/xcite/fastcat_paper_2_tmi/figures/CNR.pdf')"
   ]
  },
  {
   "cell_type": "code",
   "execution_count": 66,
   "metadata": {},
   "outputs": [
    {
     "data": {
      "application/vnd.jupyter.widget-view+json": {
       "model_id": "677db6f2ab1e4b54b05fa7ec725612b8",
       "version_major": 2,
       "version_minor": 0
      },
      "text/plain": [
       "Canvas(toolbar=Toolbar(toolitems=[('Home', 'Reset original view', 'home', 'home'), ('Back', 'Back to previous …"
      ]
     },
     "metadata": {},
     "output_type": "display_data"
    }
   ],
   "source": [
    "inds_i_want = [0,3,2,1]\n",
    "xx = np.linspace(0,1,5)#np.arange(5)\n",
    "\n",
    "labs = ['120 kVp','2.5 MV C','6 MV C','2.5 MV W','6 MV W']\n",
    "cc = np.array([np.array(contrasts[ii][1])[inds_i_want] for ii in range(len(contrasts))])\n",
    "ee = np.array([np.array(contrasts[ii][2])[inds_i_want] for ii in range(len(contrasts))])\n",
    "# ll = np.array([np.array(label[ii]) for ii in range(len(contrasts))])\n",
    "\n",
    "inds = np.array([0,1,2,3,4])\n",
    "# plt.figure(figsize=[8,4])#,dpi=300)\n",
    "plt.figure(figsize=[10,5])#  ,dpi=300)\n",
    "\n",
    "alph = 1\n",
    "hat = None\n",
    "plt.rcParams['axes.axisbelow'] = True\n",
    "\n",
    "# plt.title('Contrast to Noise Ratio')\n",
    "plt.subplot(131)\n",
    "plt.title('CWO',{'fontsize':'x-large'})\n",
    "\n",
    "x2,y2 = -0.5,31\n",
    "plt.text(x2,y2,'(a)',color='cornflowerblue',fontsize=16)\n",
    "plt.bar(xx-0.09,cc.flatten()[::4][1::3][inds], yerr = ee.flatten()[::4][1::3][inds],width=0.06,color='lightcoral',alpha=alph,hatch=hat,fill=True)\n",
    "plt.bar(xx-0.15,cc.flatten()[1::4][1::3][inds], yerr = ee.flatten()[1::4][1::3][inds],width=0.06,color='darkorange',alpha=alph,hatch=hat,fill=True)\n",
    "plt.bar(xx-0.21,cc.flatten()[3::4][1::3][inds], yerr = ee.flatten()[3::4][1::3][inds],width=0.06,color='cornflowerblue',alpha=alph,hatch=hat,fill=True)\n",
    "plt.bar(xx-0.27,cc.flatten()[2::4][1::3][inds], yerr = ee.flatten()[2::4][1::3][inds],width=0.06,color='k',alpha=alph,hatch=hat,fill=True)\n",
    "\n",
    "plt.ylabel('CNR')\n",
    "plt.xticks(np.array([-0.3,-0.05,0.2,0.45,0.70])+0.12,labs,rotation=45)\n",
    "plt.grid('on')\n",
    "plt.ylim([0,90])\n",
    "\n",
    "off = 0\n",
    "hat = None\n",
    "\n",
    "plt.subplot(132)\n",
    "plt.title('CsI',{'fontsize':'x-large'})\n",
    "x2,y2 = -0.5,31\n",
    "plt.text(x2,y2,'(b)',color='cornflowerblue',fontsize=16)\n",
    "plt.grid('on')\n",
    "plt.bar(xx-0.27+off,cc.flatten()[2::4][::3][inds], yerr = ee.flatten()[2::4][::3][inds],width=0.06,color='k',alpha=alph,hatch=hat,fill=True)\n",
    "plt.bar(xx-0.21+off,cc.flatten()[3::4][::3][inds], yerr = ee.flatten()[3::4][::3][inds],width=0.06,color='cornflowerblue',alpha=alph,hatch=hat,fill=True)\n",
    "plt.bar(xx-0.15+off,cc.flatten()[1::4][::3][inds], yerr = ee.flatten()[1::4][::3][inds],width=0.06,color='darkorange',alpha=alph,hatch=hat,fill=True)\n",
    "plt.bar(xx-0.09+off,cc.flatten()[::4][::3][inds], yerr = ee.flatten()[::4][::3][inds],width=0.06,color='lightcoral',alpha=alph,hatch=hat,fill=True)\n",
    "plt.ylim([0,90])\n",
    "# plt.yticks([0,5,10,15,20,25,30],labels=[])\n",
    "plt.xticks(np.array([-0.3,-0.05,0.2,0.45,0.70])+0.12,labs,rotation=45)\n",
    "off = 0\n",
    "plt.subplot(133)\n",
    "plt.title('GOS',{'fontsize':'x-large'})\n",
    "x2,y2 = -0.5,31\n",
    "plt.text(x2,y2,'(c)',color='cornflowerblue',fontsize=16)\n",
    "plt.grid('on')\n",
    "plt.bar(xx-0.27+off,cc.flatten()[2::4][2::3][inds], yerr = ee.flatten()[2::4][2::3][inds],width=0.06,color='k',alpha=alph,hatch=hat,fill=True)\n",
    "plt.bar(xx-0.21+off,cc.flatten()[3::4][2::3][inds], yerr = ee.flatten()[3::4][2::3][inds],width=0.06,color='cornflowerblue',alpha=alph,hatch=hat,fill=True)\n",
    "plt.bar(xx-0.15+off,cc.flatten()[1::4][2::3][inds], yerr = ee.flatten()[1::4][2::3][inds],width=0.06,color='darkorange',alpha=alph,hatch=hat,fill=True)\n",
    "plt.bar(xx-0.09+off,cc.flatten()[::4][2::3][inds], yerr = ee.flatten()[::4][2::3][inds],width=0.06,color='lightcoral',alpha=alph,hatch=hat,fill=True)\n",
    "\n",
    "plt.ylim([0,90])\n",
    "# plt.yticks([0,5,10,15,20,25,30],labels=[])\n",
    "plt.xticks(np.array([-0.3,-0.05,0.2,0.45,0.70])+0.12,labs,rotation=45)\n",
    "\n",
    "plt.legend(['Rib Bone','Lung','Adipose','Spongiosa'])\n",
    "# ax = plt.gca().add_artist(first_legend)\n",
    "\n",
    "\n",
    "plt.tight_layout()"
   ]
  },
  {
   "cell_type": "code",
   "execution_count": 129,
   "metadata": {},
   "outputs": [
    {
     "data": {
      "application/vnd.jupyter.widget-view+json": {
       "model_id": "2c7f13284efc4c57bf07700f5db0c364",
       "version_major": 2,
       "version_minor": 0
      },
      "text/plain": [
       "Canvas(toolbar=Toolbar(toolitems=[('Home', 'Reset original view', 'home', 'home'), ('Back', 'Back to previous …"
      ]
     },
     "metadata": {},
     "output_type": "display_data"
    },
    {
     "data": {
      "text/plain": [
       "<matplotlib.image.AxesImage at 0x7ff94ea07650>"
      ]
     },
     "execution_count": 129,
     "metadata": {},
     "output_type": "execute_result"
    }
   ],
   "source": [
    "plt.figure()\n",
    "plt.imshow(phantom.img[5])"
   ]
  },
  {
   "cell_type": "code",
   "execution_count": 146,
   "metadata": {},
   "outputs": [
    {
     "data": {
      "application/vnd.jupyter.widget-view+json": {
       "model_id": "7598d788b33e4701b74b260a860b061c",
       "version_major": 2,
       "version_minor": 0
      },
      "text/plain": [
       "Canvas(toolbar=Toolbar(toolitems=[('Home', 'Reset original view', 'home', 'home'), ('Back', 'Back to previous …"
      ]
     },
     "metadata": {},
     "output_type": "display_data"
    },
    {
     "data": {
      "text/plain": [
       "<BarContainer object of 5 artists>"
      ]
     },
     "execution_count": 146,
     "metadata": {},
     "output_type": "execute_result"
    }
   ],
   "source": [
    "# inds_i_want = [0,6,12,18,21,24]\n",
    "inds_i_want = [0,3,2,1]\n",
    "xx = np.linspace(0,1,5)#np.arange(5)\n",
    "\n",
    "labs = ['120 kVp','2.5 MV C','6 MV C','2.5 MV W','6 MV W']\n",
    "cc = np.array([np.array(contrasts[ii][3])[inds_i_want] for ii in range(len(contrasts))])\n",
    "ee = np.array([np.array(contrasts[ii][4])[inds_i_want] for ii in range(len(contrasts))])\n",
    "# ll = np.array([np.array(label[ii]) for ii in range(len(contrasts))])\n",
    "\n",
    "inds = np.array([0,1,2,3,4])\n",
    "plt.figure(figsize=[8,4])#,dpi=300)\n",
    "# plt.figure(figsize=[10,5]),dpi=300)\n",
    "\n",
    "alph = 1\n",
    "hat = None\n",
    "plt.rcParams['axes.axisbelow'] = True\n",
    "\n",
    "plt.title('CWO',{'fontsize':'x-large'})\n",
    "\n",
    "x2,y2 = -0.5,31\n",
    "plt.text(x2,y2,'(a)',color='cornflowerblue',fontsize=16)\n",
    "plt.bar(xx-0.09,cc.flatten()[::4][1::3][inds], yerr = ee.flatten()[::4][1::3][inds],width=0.06,color='lightcoral',alpha=alph,hatch=hat,fill=True)\n",
    "plt.bar(xx-0.15,cc.flatten()[1::4][1::3][inds], yerr = ee.flatten()[1::4][1::3][inds],width=0.06,color='darkorange',alpha=alph,hatch=hat,fill=True)\n",
    "plt.bar(xx-0.21,cc.flatten()[3::4][1::3][inds], yerr = ee.flatten()[3::4][1::3][inds],width=0.06,color='cornflowerblue',alpha=alph,hatch=hat,fill=True)\n",
    "plt.bar(xx-0.27,cc.flatten()[2::4][1::3][inds], yerr = ee.flatten()[2::4][1::3][inds],width=0.06,color='k',alpha=alph,hatch=hat,fill=True)"
   ]
  },
  {
   "cell_type": "markdown",
   "metadata": {},
   "source": [
    "## Installation\n",
    "\n",
    "Dear entrepid hypothetical users,\n",
    "\n",
    "There are two install options: The second is not to install Fastcat and use it on google colaboratory. So keep that in mind and do it if your installation fails on your local computer.\n",
    "\n",
    "### Dependencies\n",
    "\n",
    "To run fastcat locally you need:\n",
    "\n",
    "* CUDA Capable GPU\n",
    "* Nvidia CUDA toolkit\n",
    "* TIGRE\n",
    "* numpy, scipy, matplotlib\n",
    "* Some other stuff you can install with pip/conda\n",
    "\n",
    "If you don't have a scientific python installation? Go away! I'm really not the person to explain how to do that. Somewhere else explains it better somewhere else. Just google it and come back when you are done\n",
    "\n",
    "#### TIGRE\n",
    "\n",
    "To run Fastcat you need a python package called TIGRE. If you can install TIGRE then you can use Fastcat without issue.\n",
    "\n",
    "So I'm going to direct you to the TIGRE installation for python. The crux move is really the CUDA installation which sometimes works using conda but other times does not."
   ]
  },
  {
   "cell_type": "code",
   "execution_count": 14,
   "metadata": {},
   "outputs": [],
   "source": [
    "np.save('cnr_nonoise_404',contrasts)\n",
    "np.save('mtfs_nonoise_404',mtfs)\n",
    "np.save('labels_404',label)"
   ]
  },
  {
   "cell_type": "code",
   "execution_count": 1,
   "metadata": {},
   "outputs": [
    {
     "name": "stdout",
     "output_type": "stream",
     "text": [
      "Populating the interactive namespace from numpy and matplotlib\n"
     ]
    }
   ],
   "source": [
    "%pylab widget"
   ]
  },
  {
   "cell_type": "code",
   "execution_count": 3,
   "metadata": {},
   "outputs": [],
   "source": [
    "contrasts = np.load('../data_second_paper/cnr_new_noisy_404.npy',allow_pickle=True)\n",
    "mtfs = np.load('../data_second_paper/mtfs_nonoise_404.npy')\n",
    "label = np.load('../data_second_paper/labels_404.npy')"
   ]
  },
  {
   "cell_type": "markdown",
   "metadata": {},
   "source": [
    "# This is the good figure I think"
   ]
  },
  {
   "cell_type": "code",
   "execution_count": 89,
   "metadata": {},
   "outputs": [
    {
     "data": {
      "application/vnd.jupyter.widget-view+json": {
       "model_id": "60d3b887f3f44a4482854fb702c1ba63",
       "version_major": 2,
       "version_minor": 0
      },
      "text/plain": [
       "Canvas(toolbar=Toolbar(toolitems=[('Home', 'Reset original view', 'home', 'home'), ('Back', 'Back to previous …"
      ]
     },
     "metadata": {},
     "output_type": "display_data"
    }
   ],
   "source": [
    "# inds_i_want = [0,6,12,18,21,24]\n",
    "inds_i_want = [0,3,2,1]\n",
    "xx = np.linspace(0,1,5)#np.arange(5)\n",
    "\n",
    "labs = ['120 kVp','2.5 MV C','6 MV C','2.5 MV W','6 MV W']\n",
    "cc = np.array([np.array(contrasts[ii][3])[inds_i_want] for ii in range(len(contrasts))])\n",
    "ee = np.array([np.array(contrasts[ii][4])[inds_i_want] for ii in range(len(contrasts))])\n",
    "# ll = np.array([np.array(label[ii]) for ii in range(len(contrasts))])\n",
    "\n",
    "inds = np.array([0,1,2,3,4])\n",
    "# plt.figure(figsize=[8,4])#,dpi=300)\n",
    "plt.figure(figsize=[10,5],dpi=300)\n",
    "\n",
    "alph = 1\n",
    "hat = None\n",
    "plt.rcParams['axes.axisbelow'] = True\n",
    "\n",
    "# plt.title('Contrast to Noise Ratio')\n",
    "plt.subplot(131)\n",
    "plt.title('CWO',{'fontsize':'x-large'})\n",
    "\n",
    "x2,y2 = -0.5,31\n",
    "plt.text(x2,y2,'(a)',color='cornflowerblue',fontsize=16)\n",
    "plt.bar(xx-0.09,cc.flatten()[::4][1::3][inds], yerr = ee.flatten()[::4][1::3][inds],width=0.06,color='lightcoral',alpha=alph,hatch=hat,fill=True)\n",
    "plt.bar(xx-0.15,cc.flatten()[1::4][1::3][inds], yerr = ee.flatten()[1::4][1::3][inds],width=0.06,color='darkorange',alpha=alph,hatch=hat,fill=True)\n",
    "plt.bar(xx-0.21,cc.flatten()[3::4][1::3][inds], yerr = ee.flatten()[3::4][1::3][inds],width=0.06,color='cornflowerblue',alpha=alph,hatch=hat,fill=True)\n",
    "plt.bar(xx-0.27,cc.flatten()[2::4][1::3][inds], yerr = ee.flatten()[2::4][1::3][inds],width=0.06,color='k',alpha=alph,hatch=hat,fill=True)\n",
    "\n",
    "plt.ylabel('CNR')\n",
    "plt.xticks(np.array([-0.3,-0.05,0.2,0.45,0.70])+0.12,labs,rotation=45)\n",
    "# plt.bar(xx-0.09*3,cc.flatten()[2::4][1::3][inds], yerr = ee.flatten()[2::4][1::3][inds],width=0.06,color='cornflowerblue',alpha=alph,hatch=hat,fill=True)\n",
    "# plt.bar(xx-0.03*3,cc.flatten()[3::4][1::3][inds], yerr = ee.flatten()[3::4][1::3][inds],width=0.06,color='k',alpha=alph - 0.5,hatch=hat,fill=True)\n",
    "# plt.bar(xx-0.03*3,cc.flatten()[2::4][::3][inds], yerr = ee.flatten()[2::4][::3][inds],width=0.06,color='cornflowerblue',alpha=alph,hatch=hat,fill=True)\n",
    "# plt.bar(xx+0.03*3,cc.flatten()[2::4][2::3][inds], yerr = ee.flatten()[2::4][2::3][inds],width=0.06,color='cornflowerblue',alpha=alph,hatch=hat,fill=True)\n",
    "plt.grid('on')\n",
    "plt.ylim([0,30])\n",
    "# plt.bar(xx+0.09*3,cc.flatten()[::4][1::3][inds], yerr = ee.flatten()[::4][1::3][inds],width=0.06,color='lightcoral',alpha=alph,hatch=hat,fill=True)\n",
    "\n",
    "off = 0\n",
    "# alph = 0.85\n",
    "hat = None\n",
    "\n",
    "plt.subplot(132)\n",
    "plt.title('CsI',{'fontsize':'x-large'})\n",
    "x2,y2 = -0.5,31\n",
    "plt.text(x2,y2,'(b)',color='cornflowerblue',fontsize=16)\n",
    "# xx = xx + 1.6\n",
    "plt.grid('on')\n",
    "plt.bar(xx-0.27+off,cc.flatten()[2::4][::3][inds], yerr = ee.flatten()[2::4][::3][inds],width=0.06,color='k',alpha=alph,hatch=hat,fill=True)\n",
    "plt.bar(xx-0.21+off,cc.flatten()[3::4][::3][inds], yerr = ee.flatten()[3::4][::3][inds],width=0.06,color='cornflowerblue',alpha=alph,hatch=hat,fill=True)\n",
    "plt.bar(xx-0.15+off,cc.flatten()[1::4][::3][inds], yerr = ee.flatten()[1::4][::3][inds],width=0.06,color='darkorange',alpha=alph,hatch=hat,fill=True)\n",
    "plt.bar(xx-0.09+off,cc.flatten()[::4][::3][inds], yerr = ee.flatten()[::4][::3][inds],width=0.06,color='lightcoral',alpha=alph,hatch=hat,fill=True)\n",
    "plt.ylim([0,30])\n",
    "plt.yticks([0,5,10,15,20,25,30],labels=[])\n",
    "plt.xticks(np.array([-0.3,-0.05,0.2,0.45,0.70])+0.12,labs,rotation=45)\n",
    "off = 0\n",
    "# alph = 0.7\n",
    "\n",
    "# xx += 1.6\n",
    "# hat = '\\\\\\\\\\\\\\\\\\\\\\\\\\\\\\\\\\\\'\n",
    "plt.subplot(133)\n",
    "plt.title('GOS',{'fontsize':'x-large'})\n",
    "x2,y2 = -0.5,31\n",
    "plt.text(x2,y2,'(c)',color='cornflowerblue',fontsize=16)\n",
    "plt.grid('on')\n",
    "plt.bar(xx-0.27+off,cc.flatten()[2::4][2::3][inds], yerr = ee.flatten()[2::4][2::3][inds],width=0.06,color='k',alpha=alph,hatch=hat,fill=True)\n",
    "plt.bar(xx-0.21+off,cc.flatten()[3::4][2::3][inds], yerr = ee.flatten()[3::4][2::3][inds],width=0.06,color='cornflowerblue',alpha=alph,hatch=hat,fill=True)\n",
    "plt.bar(xx-0.15+off,cc.flatten()[1::4][2::3][inds], yerr = ee.flatten()[1::4][2::3][inds],width=0.06,color='darkorange',alpha=alph,hatch=hat,fill=True)\n",
    "plt.bar(xx-0.09+off,cc.flatten()[::4][2::3][inds], yerr = ee.flatten()[::4][2::3][inds],width=0.06,color='lightcoral',alpha=alph,hatch=hat,fill=True)\n",
    "\n",
    "plt.ylim([0,30])\n",
    "plt.yticks([0,5,10,15,20,25,30],labels=[])\n",
    "plt.xticks(np.array([-0.3,-0.05,0.2,0.45,0.70])+0.12,labs,rotation=45)\n",
    "# plt.ylabel('CNR')\n",
    "# labs = ['2.5 MV C','120 kVp','6 MV C','2.5 MV W','6 MV W']\n",
    "# plt.xticks(range(len(label[::3])),labels=labs,rotation=45)\n",
    "\n",
    "# from matplotlib.lines import Line2D\n",
    "\n",
    "# custom_lines = [Line2D([0], [0],marker='s',color = 'w', markerfacecolor='k', lw=4),\n",
    "#                 Line2D([0], [0],marker='s',color = 'w', markerfacecolor='cornflowerblue', lw=4),\n",
    "#                 Line2D([0], [0],marker='s',color = 'w', markerfacecolor='darkorange', lw=4),\n",
    "#                 Line2D([0], [0],marker='s',color = 'w', markerfacecolor='lightcoral', lw=4)]\n",
    "\n",
    "# # fig, ax = plt.subplots()\n",
    "# # lines = ax.plot(data)\n",
    "plt.legend(['Rib Bone','Lung','Adipose','Spongiosa'])\n",
    "# plt.grid('on')\n",
    "# Create a legend for the first line.\n",
    "# first_legend = plt.legend(handles=[line1])\n",
    "\n",
    "# Add the legend manually to the current Axes.\n",
    "# ax = plt.gca().add_artist(first_legend)\n",
    "\n",
    "\n",
    "plt.tight_layout()\n",
    "# plt.savefig('/home/xcite/fastcat_paper_2_tmi/figures/CNR.pdf')"
   ]
  },
  {
   "cell_type": "markdown",
   "metadata": {},
   "source": [
    "# This is a new analysis on the weights"
   ]
  },
  {
   "cell_type": "code",
   "execution_count": 14,
   "metadata": {},
   "outputs": [],
   "source": [
    "spectra = glob('../fastcat/data/MV_spectra/*.txt')\n",
    "phantoms = ['Catphan_404','Catphan_515','Catphan_MTF']\n",
    "MV_detectors = glob('../fastcat/data/Detectors/*')\n",
    "\n",
    "dispatcher={'Catphan_404':fc.Catphan_404,\n",
    "            'Catphan_515':fc.Catphan_515,\n",
    "            'Catphan_MTF':fc.Catphan_MTF}"
   ]
  },
  {
   "cell_type": "code",
   "execution_count": 15,
   "metadata": {},
   "outputs": [],
   "source": [
    "s = fc.Spectrum()"
   ]
  },
  {
   "cell_type": "code",
   "execution_count": 62,
   "metadata": {},
   "outputs": [
    {
     "data": {
      "application/vnd.jupyter.widget-view+json": {
       "model_id": "7a985b476dba4cb78bbaa6cea63313ee",
       "version_major": 2,
       "version_minor": 0
      },
      "text/plain": [
       "Canvas(toolbar=Toolbar(toolitems=[('Home', 'Reset original view', 'home', 'home'), ('Back', 'Back to previous …"
      ]
     },
     "metadata": {},
     "output_type": "display_data"
    },
    {
     "name": "stdout",
     "output_type": "stream",
     "text": [
      "Calculation:  1 / 50\n",
      "Calculation:  2 / 50\n",
      "Calculation:  3 / 50\n",
      "Calculation:  4 / 50\n",
      "Calculation:  5 / 50\n",
      "Calculation:  6 / 50\n",
      "Calculation:  7 / 50\n",
      "Calculation:  8 / 50\n",
      "Calculation:  9 / 50\n",
      "Calculation:  10 / 50\n",
      "Calculation:  11 / 50\n",
      "Calculation:  12 / 50\n",
      "Calculation:  13 / 50\n",
      "Calculation:  14 / 50\n",
      "Calculation:  15 / 50\n",
      "Calculation:  16 / 50\n",
      "Calculation:  17 / 50\n",
      "Calculation:  18 / 50\n",
      "Calculation:  19 / 50\n",
      "Calculation:  20 / 50\n",
      "Calculation:  21 / 50\n",
      "Calculation:  22 / 50\n",
      "Calculation:  23 / 50\n",
      "Calculation:  24 / 50\n",
      "Calculation:  25 / 50\n",
      "Calculation:  26 / 50\n",
      "Calculation:  27 / 50\n",
      "Calculation:  28 / 50\n",
      "Calculation:  29 / 50\n",
      "Calculation:  30 / 50\n",
      "Calculation:  31 / 50\n",
      "Calculation:  32 / 50\n",
      "Calculation:  33 / 50\n",
      "Calculation:  34 / 50\n",
      "Calculation:  35 / 50\n",
      "Calculation:  36 / 50\n",
      "Calculation:  37 / 50\n",
      "Calculation:  38 / 50\n",
      "Calculation:  39 / 50\n",
      "Calculation:  40 / 50\n",
      "Calculation:  41 / 50\n",
      "Calculation:  42 / 50\n",
      "Calculation:  43 / 50\n",
      "Calculation:  44 / 50\n",
      "Calculation:  45 / 50\n",
      "Calculation:  46 / 50\n",
      "Calculation:  47 / 50\n",
      "Calculation:  48 / 50\n",
      "Calculation:  49 / 50\n",
      "Calculation:  50 / 50\n"
     ]
    }
   ],
   "source": [
    "contrasts = []\n",
    "mtfs = []\n",
    "label = []\n",
    "\n",
    "fig, axs = plt.subplots(3, 1)\n",
    "\n",
    "spectra = [ 'kv',\n",
    " '../fastcat/data/MV_spectra/C_spectrum_25.txt',\n",
    " '../fastcat/data/MV_spectra/C_spectrum_6.txt',\n",
    " '../fastcat/data/MV_spectra/W_spectrum_25.txt',\n",
    " '../fastcat/data/MV_spectra/W_spectrum_6.txt']\n",
    "\n",
    "MV_detectors = [\n",
    " '../fastcat/data/Detectors/CsI-784-micro_thin',\n",
    " '../fastcat/data/Detectors/CWO-784-micrometer',\n",
    " '../fastcat/data/Detectors/CuGOS-784-micrometer']\n",
    "\n",
    "phan_map = [\n",
    "    'air',\n",
    "    'G4_MUSCLE_SKELETAL_ICRP',\n",
    "    'Spongiosa_Bone_ICRP',\n",
    "    'G4_LUNG_MD_ICRP',\n",
    "    'G4_BONE_COMPACT_ICRU',\n",
    "    'G4_ADIPOSE_TISSUE_ICRP'\n",
    "    ]\n",
    "# s0 = fc.calculate_spectrum(60, 12, 3, 50)\n",
    "# s0.attenuate(0.1,fc.get_mu(z=13))\n",
    "# s0.attenuate(0.015,fc.get_mu(z=29))\n",
    "\n",
    "s0 = fc.calculate_spectrum(120, 12, 3, 50)\n",
    "s0.attenuate(0.2,fc.get_mu(z=13)) #was 0.3\n",
    "# s0.attenuate(0.089,fc.get_mu(z=22))\n",
    "xx, yy = s0.get_points()"
   ]
  },
  {
   "cell_type": "code",
   "execution_count": 64,
   "metadata": {},
   "outputs": [
    {
     "name": "stdout",
     "output_type": "stream",
     "text": [
      "[2021-07-14 19:29:51,660] {phantoms.py:649} INFO - Phantom is low resolution\n",
      "This is kV\n",
      "kv ../fastcat/data/Detectors/CsI-784-micro_thin\n"
     ]
    },
    {
     "data": {
      "application/vnd.jupyter.widget-view+json": {
       "model_id": "f124550b27f341eb9b12137bc8fa2261",
       "version_major": 2,
       "version_minor": 0
      },
      "text/plain": [
       "Canvas(toolbar=Toolbar(toolitems=[('Home', 'Reset original view', 'home', 'home'), ('Back', 'Back to previous …"
      ]
     },
     "metadata": {},
     "output_type": "display_data"
    },
    {
     "name": "stdout",
     "output_type": "stream",
     "text": [
      "[2021-07-14 19:29:51,866] {legend.py:1193} WARNING - No handles with labels found to put in legend.\n",
      "[2021-07-14 19:29:51,922] {simulate.py:469} INFO - Running Simulations\n",
      "[2021-07-14 19:29:51,922] {simulate.py:484} INFO -     Simulating 10 keV\n",
      "[2021-07-14 19:29:52,083] {simulate.py:484} INFO -     Simulating 20 keV\n",
      "[2021-07-14 19:29:52,211] {simulate.py:484} INFO -     Simulating 30 keV\n",
      "[2021-07-14 19:29:52,335] {simulate.py:484} INFO -     Simulating 40 keV\n",
      "[2021-07-14 19:29:52,462] {simulate.py:484} INFO -     Simulating 50 keV\n",
      "[2021-07-14 19:29:52,587] {simulate.py:484} INFO -     Simulating 60 keV\n",
      "[2021-07-14 19:29:52,715] {simulate.py:484} INFO -     Simulating 70 keV\n",
      "[2021-07-14 19:29:52,841] {simulate.py:484} INFO -     Simulating 80 keV\n",
      "[2021-07-14 19:29:52,965] {simulate.py:484} INFO -     Simulating 90 keV\n",
      "[2021-07-14 19:29:53,091] {simulate.py:484} INFO -     Simulating 100 keV\n",
      "[2021-07-14 19:29:53,215] {simulate.py:619} INFO - Weighting simulations\n",
      "[2021-07-14 19:29:53,216] {simulate.py:686} INFO -     Added noise 180.72649122129937 times reference\n",
      "This is kV\n",
      "kv ../fastcat/data/Detectors/CWO-784-micrometer\n"
     ]
    },
    {
     "data": {
      "application/vnd.jupyter.widget-view+json": {
       "model_id": "3374ccc0faba48d5a6e530480be7ae6f",
       "version_major": 2,
       "version_minor": 0
      },
      "text/plain": [
       "Canvas(toolbar=Toolbar(toolitems=[('Home', 'Reset original view', 'home', 'home'), ('Back', 'Back to previous …"
      ]
     },
     "metadata": {},
     "output_type": "display_data"
    },
    {
     "name": "stdout",
     "output_type": "stream",
     "text": [
      "[2021-07-14 19:29:53,416] {legend.py:1193} WARNING - No handles with labels found to put in legend.\n",
      "[2021-07-14 19:29:53,419] {simulate.py:248} INFO - This is a small edep file starting at 30\n",
      "[2021-07-14 19:29:53,467] {simulate.py:469} INFO - Running Simulations\n",
      "[2021-07-14 19:29:53,468] {simulate.py:484} INFO -     Simulating 30 keV\n",
      "[2021-07-14 19:29:53,591] {simulate.py:484} INFO -     Simulating 40 keV\n",
      "[2021-07-14 19:29:53,718] {simulate.py:484} INFO -     Simulating 50 keV\n",
      "[2021-07-14 19:29:53,843] {simulate.py:484} INFO -     Simulating 60 keV\n",
      "[2021-07-14 19:29:53,971] {simulate.py:484} INFO -     Simulating 70 keV\n",
      "[2021-07-14 19:29:54,099] {simulate.py:484} INFO -     Simulating 80 keV\n",
      "[2021-07-14 19:29:54,223] {simulate.py:484} INFO -     Simulating 90 keV\n",
      "[2021-07-14 19:29:54,353] {simulate.py:484} INFO -     Simulating 100 keV\n",
      "[2021-07-14 19:29:54,480] {simulate.py:619} INFO - Weighting simulations\n",
      "[2021-07-14 19:29:54,480] {simulate.py:686} INFO -     Added noise 596.5426630082333 times reference\n",
      "This is kV\n",
      "kv ../fastcat/data/Detectors/CuGOS-784-micrometer\n"
     ]
    },
    {
     "data": {
      "application/vnd.jupyter.widget-view+json": {
       "model_id": "a62fdc21059a46678458b93285d5ca5a",
       "version_major": 2,
       "version_minor": 0
      },
      "text/plain": [
       "Canvas(toolbar=Toolbar(toolitems=[('Home', 'Reset original view', 'home', 'home'), ('Back', 'Back to previous …"
      ]
     },
     "metadata": {},
     "output_type": "display_data"
    },
    {
     "name": "stdout",
     "output_type": "stream",
     "text": [
      "[2021-07-14 19:29:54,694] {legend.py:1193} WARNING - No handles with labels found to put in legend.\n",
      "[2021-07-14 19:29:54,750] {simulate.py:469} INFO - Running Simulations\n",
      "[2021-07-14 19:29:54,750] {simulate.py:484} INFO -     Simulating 20 keV\n",
      "[2021-07-14 19:29:54,889] {simulate.py:484} INFO -     Simulating 30 keV\n",
      "[2021-07-14 19:29:55,033] {simulate.py:484} INFO -     Simulating 40 keV\n",
      "[2021-07-14 19:29:55,172] {simulate.py:484} INFO -     Simulating 50 keV\n",
      "[2021-07-14 19:29:55,311] {simulate.py:484} INFO -     Simulating 60 keV\n",
      "[2021-07-14 19:29:55,442] {simulate.py:484} INFO -     Simulating 70 keV\n",
      "[2021-07-14 19:29:55,571] {simulate.py:484} INFO -     Simulating 80 keV\n",
      "[2021-07-14 19:29:55,696] {simulate.py:484} INFO -     Simulating 90 keV\n",
      "[2021-07-14 19:29:55,834] {simulate.py:484} INFO -     Simulating 100 keV\n",
      "[2021-07-14 19:29:55,960] {simulate.py:619} INFO - Weighting simulations\n",
      "[2021-07-14 19:29:55,961] {simulate.py:686} INFO -     Added noise 49.62456337931838 times reference\n",
      "This is MV\n",
      "../fastcat/data/MV_spectra/C_spectrum_25.txt ../fastcat/data/Detectors/CsI-784-micro_thin\n"
     ]
    },
    {
     "data": {
      "application/vnd.jupyter.widget-view+json": {
       "model_id": "9782884a861c4204bb4b5ec913a3862f",
       "version_major": 2,
       "version_minor": 0
      },
      "text/plain": [
       "Canvas(toolbar=Toolbar(toolitems=[('Home', 'Reset original view', 'home', 'home'), ('Back', 'Back to previous …"
      ]
     },
     "metadata": {},
     "output_type": "display_data"
    },
    {
     "name": "stdout",
     "output_type": "stream",
     "text": [
      "[2021-07-14 19:29:56,166] {legend.py:1193} WARNING - No handles with labels found to put in legend.\n",
      "[2021-07-14 19:29:56,219] {simulate.py:469} INFO - Running Simulations\n",
      "[2021-07-14 19:29:56,220] {simulate.py:484} INFO -     Simulating 10 keV\n",
      "[2021-07-14 19:29:56,350] {simulate.py:484} INFO -     Simulating 20 keV\n",
      "[2021-07-14 19:29:56,476] {simulate.py:484} INFO -     Simulating 30 keV\n",
      "[2021-07-14 19:29:56,604] {simulate.py:484} INFO -     Simulating 40 keV\n",
      "[2021-07-14 19:29:56,730] {simulate.py:484} INFO -     Simulating 50 keV\n",
      "[2021-07-14 19:29:56,857] {simulate.py:484} INFO -     Simulating 60 keV\n",
      "[2021-07-14 19:29:56,985] {simulate.py:484} INFO -     Simulating 70 keV\n",
      "[2021-07-14 19:29:57,127] {simulate.py:484} INFO -     Simulating 80 keV\n",
      "[2021-07-14 19:29:57,252] {simulate.py:484} INFO -     Simulating 90 keV\n",
      "[2021-07-14 19:29:57,378] {simulate.py:484} INFO -     Simulating 100 keV\n",
      "[2021-07-14 19:29:57,505] {simulate.py:484} INFO -     Simulating 300 keV\n",
      "[2021-07-14 19:29:57,632] {simulate.py:484} INFO -     Simulating 500 keV\n",
      "[2021-07-14 19:29:57,757] {simulate.py:484} INFO -     Simulating 700 keV\n",
      "[2021-07-14 19:29:57,880] {simulate.py:484} INFO -     Simulating 900 keV\n",
      "[2021-07-14 19:29:58,008] {simulate.py:484} INFO -     Simulating 1000 keV\n",
      "[2021-07-14 19:29:58,136] {simulate.py:484} INFO -     Simulating 2000 keV\n",
      "[2021-07-14 19:29:58,261] {simulate.py:619} INFO - Weighting simulations\n",
      "[2021-07-14 19:29:58,261] {simulate.py:686} INFO -     Added noise 12.44664760138063 times reference\n",
      "This is MV\n",
      "../fastcat/data/MV_spectra/C_spectrum_25.txt ../fastcat/data/Detectors/CWO-784-micrometer\n"
     ]
    },
    {
     "data": {
      "application/vnd.jupyter.widget-view+json": {
       "model_id": "1c6fabb500e24e89b545c07aed229b7e",
       "version_major": 2,
       "version_minor": 0
      },
      "text/plain": [
       "Canvas(toolbar=Toolbar(toolitems=[('Home', 'Reset original view', 'home', 'home'), ('Back', 'Back to previous …"
      ]
     },
     "metadata": {},
     "output_type": "display_data"
    },
    {
     "name": "stdout",
     "output_type": "stream",
     "text": [
      "[2021-07-14 19:29:58,457] {legend.py:1193} WARNING - No handles with labels found to put in legend.\n",
      "[2021-07-14 19:29:58,460] {simulate.py:248} INFO - This is a small edep file starting at 30\n",
      "[2021-07-14 19:29:58,511] {simulate.py:469} INFO - Running Simulations\n",
      "[2021-07-14 19:29:58,511] {simulate.py:484} INFO -     Simulating 30 keV\n",
      "[2021-07-14 19:29:58,637] {simulate.py:484} INFO -     Simulating 40 keV\n",
      "[2021-07-14 19:29:58,763] {simulate.py:484} INFO -     Simulating 50 keV\n",
      "[2021-07-14 19:29:58,888] {simulate.py:484} INFO -     Simulating 60 keV\n",
      "[2021-07-14 19:29:59,016] {simulate.py:484} INFO -     Simulating 70 keV\n",
      "[2021-07-14 19:29:59,151] {simulate.py:484} INFO -     Simulating 80 keV\n",
      "[2021-07-14 19:29:59,274] {simulate.py:484} INFO -     Simulating 90 keV\n",
      "[2021-07-14 19:29:59,401] {simulate.py:484} INFO -     Simulating 100 keV\n",
      "[2021-07-14 19:29:59,532] {simulate.py:484} INFO -     Simulating 300 keV\n",
      "[2021-07-14 19:29:59,657] {simulate.py:484} INFO -     Simulating 500 keV\n",
      "[2021-07-14 19:29:59,781] {simulate.py:484} INFO -     Simulating 700 keV\n",
      "[2021-07-14 19:29:59,906] {simulate.py:484} INFO -     Simulating 900 keV\n",
      "[2021-07-14 19:30:00,038] {simulate.py:484} INFO -     Simulating 1000 keV\n",
      "[2021-07-14 19:30:00,164] {simulate.py:484} INFO -     Simulating 2000 keV\n",
      "[2021-07-14 19:30:00,288] {simulate.py:619} INFO - Weighting simulations\n",
      "[2021-07-14 19:30:00,288] {simulate.py:686} INFO -     Added noise 110.90021517596422 times reference\n",
      "This is MV\n",
      "../fastcat/data/MV_spectra/C_spectrum_25.txt ../fastcat/data/Detectors/CuGOS-784-micrometer\n"
     ]
    },
    {
     "data": {
      "application/vnd.jupyter.widget-view+json": {
       "model_id": "949c948f0bde4e2ab8a1b61767eab19b",
       "version_major": 2,
       "version_minor": 0
      },
      "text/plain": [
       "Canvas(toolbar=Toolbar(toolitems=[('Home', 'Reset original view', 'home', 'home'), ('Back', 'Back to previous …"
      ]
     },
     "metadata": {},
     "output_type": "display_data"
    },
    {
     "name": "stdout",
     "output_type": "stream",
     "text": [
      "[2021-07-14 19:30:00,492] {legend.py:1193} WARNING - No handles with labels found to put in legend.\n",
      "[2021-07-14 19:30:00,542] {simulate.py:469} INFO - Running Simulations\n",
      "[2021-07-14 19:30:00,543] {simulate.py:484} INFO -     Simulating 20 keV\n",
      "[2021-07-14 19:30:00,675] {simulate.py:484} INFO -     Simulating 30 keV\n",
      "[2021-07-14 19:30:00,801] {simulate.py:484} INFO -     Simulating 40 keV\n",
      "[2021-07-14 19:30:00,924] {simulate.py:484} INFO -     Simulating 50 keV\n",
      "[2021-07-14 19:30:01,050] {simulate.py:484} INFO -     Simulating 60 keV\n",
      "[2021-07-14 19:30:01,180] {simulate.py:484} INFO -     Simulating 70 keV\n",
      "[2021-07-14 19:30:01,306] {simulate.py:484} INFO -     Simulating 80 keV\n",
      "[2021-07-14 19:30:01,436] {simulate.py:484} INFO -     Simulating 90 keV\n",
      "[2021-07-14 19:30:01,565] {simulate.py:484} INFO -     Simulating 100 keV\n",
      "[2021-07-14 19:30:01,689] {simulate.py:484} INFO -     Simulating 300 keV\n",
      "[2021-07-14 19:30:01,818] {simulate.py:484} INFO -     Simulating 500 keV\n",
      "[2021-07-14 19:30:01,942] {simulate.py:484} INFO -     Simulating 700 keV\n",
      "[2021-07-14 19:30:02,068] {simulate.py:484} INFO -     Simulating 900 keV\n",
      "[2021-07-14 19:30:02,194] {simulate.py:484} INFO -     Simulating 1000 keV\n",
      "[2021-07-14 19:30:02,319] {simulate.py:484} INFO -     Simulating 2000 keV\n",
      "[2021-07-14 19:30:02,446] {simulate.py:619} INFO - Weighting simulations\n",
      "[2021-07-14 19:30:02,446] {simulate.py:686} INFO -     Added noise 7.408976436131976 times reference\n",
      "This is MV\n",
      "../fastcat/data/MV_spectra/C_spectrum_6.txt ../fastcat/data/Detectors/CsI-784-micro_thin\n"
     ]
    },
    {
     "data": {
      "application/vnd.jupyter.widget-view+json": {
       "model_id": "093ee1c5f3e94430906282aa6718003c",
       "version_major": 2,
       "version_minor": 0
      },
      "text/plain": [
       "Canvas(toolbar=Toolbar(toolitems=[('Home', 'Reset original view', 'home', 'home'), ('Back', 'Back to previous …"
      ]
     },
     "metadata": {},
     "output_type": "display_data"
    },
    {
     "name": "stdout",
     "output_type": "stream",
     "text": [
      "[2021-07-14 19:30:02,642] {legend.py:1193} WARNING - No handles with labels found to put in legend.\n",
      "[2021-07-14 19:30:02,695] {simulate.py:469} INFO - Running Simulations\n",
      "[2021-07-14 19:30:02,696] {simulate.py:484} INFO -     Simulating 10 keV\n",
      "[2021-07-14 19:30:02,830] {simulate.py:484} INFO -     Simulating 20 keV\n",
      "[2021-07-14 19:30:02,955] {simulate.py:484} INFO -     Simulating 30 keV\n",
      "[2021-07-14 19:30:03,078] {simulate.py:484} INFO -     Simulating 40 keV\n",
      "[2021-07-14 19:30:03,202] {simulate.py:484} INFO -     Simulating 50 keV\n",
      "[2021-07-14 19:30:03,327] {simulate.py:484} INFO -     Simulating 60 keV\n",
      "[2021-07-14 19:30:03,453] {simulate.py:484} INFO -     Simulating 70 keV\n",
      "[2021-07-14 19:30:03,578] {simulate.py:484} INFO -     Simulating 80 keV\n",
      "[2021-07-14 19:30:03,702] {simulate.py:484} INFO -     Simulating 90 keV\n",
      "[2021-07-14 19:30:03,833] {simulate.py:484} INFO -     Simulating 100 keV\n",
      "[2021-07-14 19:30:03,958] {simulate.py:484} INFO -     Simulating 300 keV\n",
      "[2021-07-14 19:30:04,083] {simulate.py:484} INFO -     Simulating 500 keV\n",
      "[2021-07-14 19:30:04,209] {simulate.py:484} INFO -     Simulating 700 keV\n",
      "[2021-07-14 19:30:04,332] {simulate.py:484} INFO -     Simulating 900 keV\n",
      "[2021-07-14 19:30:04,461] {simulate.py:484} INFO -     Simulating 1000 keV\n",
      "[2021-07-14 19:30:04,590] {simulate.py:484} INFO -     Simulating 2000 keV\n",
      "[2021-07-14 19:30:04,712] {simulate.py:484} INFO -     Simulating 4000 keV\n",
      "[2021-07-14 19:30:04,837] {simulate.py:484} INFO -     Simulating 6000 keV\n",
      "[2021-07-14 19:30:04,962] {simulate.py:619} INFO - Weighting simulations\n",
      "[2021-07-14 19:30:04,962] {simulate.py:686} INFO -     Added noise 3.652668682568185 times reference\n",
      "This is MV\n",
      "../fastcat/data/MV_spectra/C_spectrum_6.txt ../fastcat/data/Detectors/CWO-784-micrometer\n"
     ]
    },
    {
     "data": {
      "application/vnd.jupyter.widget-view+json": {
       "model_id": "4156c4c9ddda41a587a3af6d6d4c91f7",
       "version_major": 2,
       "version_minor": 0
      },
      "text/plain": [
       "Canvas(toolbar=Toolbar(toolitems=[('Home', 'Reset original view', 'home', 'home'), ('Back', 'Back to previous …"
      ]
     },
     "metadata": {},
     "output_type": "display_data"
    },
    {
     "name": "stdout",
     "output_type": "stream",
     "text": [
      "[2021-07-14 19:30:05,162] {legend.py:1193} WARNING - No handles with labels found to put in legend.\n",
      "[2021-07-14 19:30:05,165] {simulate.py:248} INFO - This is a small edep file starting at 30\n",
      "[2021-07-14 19:30:05,214] {simulate.py:469} INFO - Running Simulations\n",
      "[2021-07-14 19:30:05,214] {simulate.py:484} INFO -     Simulating 30 keV\n",
      "[2021-07-14 19:30:05,340] {simulate.py:484} INFO -     Simulating 40 keV\n",
      "[2021-07-14 19:30:05,466] {simulate.py:484} INFO -     Simulating 50 keV\n",
      "[2021-07-14 19:30:05,593] {simulate.py:484} INFO -     Simulating 60 keV\n",
      "[2021-07-14 19:30:05,718] {simulate.py:484} INFO -     Simulating 70 keV\n",
      "[2021-07-14 19:30:05,845] {simulate.py:484} INFO -     Simulating 80 keV\n",
      "[2021-07-14 19:30:05,969] {simulate.py:484} INFO -     Simulating 90 keV\n",
      "[2021-07-14 19:30:06,095] {simulate.py:484} INFO -     Simulating 100 keV\n",
      "[2021-07-14 19:30:06,229] {simulate.py:484} INFO -     Simulating 300 keV\n",
      "[2021-07-14 19:30:06,360] {simulate.py:484} INFO -     Simulating 500 keV\n",
      "[2021-07-14 19:30:06,489] {simulate.py:484} INFO -     Simulating 700 keV\n",
      "[2021-07-14 19:30:06,619] {simulate.py:484} INFO -     Simulating 900 keV\n",
      "[2021-07-14 19:30:06,746] {simulate.py:484} INFO -     Simulating 1000 keV\n",
      "[2021-07-14 19:30:06,877] {simulate.py:484} INFO -     Simulating 2000 keV\n",
      "[2021-07-14 19:30:07,007] {simulate.py:484} INFO -     Simulating 4000 keV\n",
      "[2021-07-14 19:30:07,139] {simulate.py:619} INFO - Weighting simulations\n",
      "[2021-07-14 19:30:07,139] {simulate.py:686} INFO -     Added noise 42.66061703982666 times reference\n",
      "This is MV\n",
      "../fastcat/data/MV_spectra/C_spectrum_6.txt ../fastcat/data/Detectors/CuGOS-784-micrometer\n"
     ]
    },
    {
     "data": {
      "application/vnd.jupyter.widget-view+json": {
       "model_id": "7dc3582d35e046c59f0d12f60762d24c",
       "version_major": 2,
       "version_minor": 0
      },
      "text/plain": [
       "Canvas(toolbar=Toolbar(toolitems=[('Home', 'Reset original view', 'home', 'home'), ('Back', 'Back to previous …"
      ]
     },
     "metadata": {},
     "output_type": "display_data"
    },
    {
     "name": "stdout",
     "output_type": "stream",
     "text": [
      "[2021-07-14 19:30:07,346] {legend.py:1193} WARNING - No handles with labels found to put in legend.\n",
      "[2021-07-14 19:30:07,398] {simulate.py:469} INFO - Running Simulations\n",
      "[2021-07-14 19:30:07,398] {simulate.py:484} INFO -     Simulating 20 keV\n",
      "[2021-07-14 19:30:07,528] {simulate.py:484} INFO -     Simulating 30 keV\n",
      "[2021-07-14 19:30:07,656] {simulate.py:484} INFO -     Simulating 40 keV\n",
      "[2021-07-14 19:30:07,786] {simulate.py:484} INFO -     Simulating 50 keV\n",
      "[2021-07-14 19:30:07,911] {simulate.py:484} INFO -     Simulating 60 keV\n",
      "[2021-07-14 19:30:08,041] {simulate.py:484} INFO -     Simulating 70 keV\n",
      "[2021-07-14 19:30:08,167] {simulate.py:484} INFO -     Simulating 80 keV\n",
      "[2021-07-14 19:30:08,291] {simulate.py:484} INFO -     Simulating 90 keV\n",
      "[2021-07-14 19:30:08,420] {simulate.py:484} INFO -     Simulating 100 keV\n",
      "[2021-07-14 19:30:08,545] {simulate.py:484} INFO -     Simulating 300 keV\n",
      "[2021-07-14 19:30:08,674] {simulate.py:484} INFO -     Simulating 500 keV\n",
      "[2021-07-14 19:30:08,801] {simulate.py:484} INFO -     Simulating 700 keV\n",
      "[2021-07-14 19:30:08,925] {simulate.py:484} INFO -     Simulating 900 keV\n",
      "[2021-07-14 19:30:09,056] {simulate.py:484} INFO -     Simulating 1000 keV\n",
      "[2021-07-14 19:30:09,186] {simulate.py:484} INFO -     Simulating 2000 keV\n",
      "[2021-07-14 19:30:09,315] {simulate.py:484} INFO -     Simulating 4000 keV\n",
      "[2021-07-14 19:30:09,448] {simulate.py:484} INFO -     Simulating 6000 keV\n",
      "[2021-07-14 19:30:09,572] {simulate.py:619} INFO - Weighting simulations\n",
      "[2021-07-14 19:30:09,573] {simulate.py:686} INFO -     Added noise 2.2825311111597824 times reference\n",
      "This is MV\n",
      "../fastcat/data/MV_spectra/W_spectrum_25.txt ../fastcat/data/Detectors/CsI-784-micro_thin\n"
     ]
    },
    {
     "data": {
      "application/vnd.jupyter.widget-view+json": {
       "model_id": "18c4f8e15ee04676a5415f43e6266646",
       "version_major": 2,
       "version_minor": 0
      },
      "text/plain": [
       "Canvas(toolbar=Toolbar(toolitems=[('Home', 'Reset original view', 'home', 'home'), ('Back', 'Back to previous …"
      ]
     },
     "metadata": {},
     "output_type": "display_data"
    },
    {
     "name": "stdout",
     "output_type": "stream",
     "text": [
      "[2021-07-14 19:30:09,777] {legend.py:1193} WARNING - No handles with labels found to put in legend.\n",
      "[2021-07-14 19:30:09,830] {simulate.py:469} INFO - Running Simulations\n",
      "[2021-07-14 19:30:09,830] {simulate.py:484} INFO -     Simulating 10 keV\n",
      "[2021-07-14 19:30:09,961] {simulate.py:484} INFO -     Simulating 20 keV\n",
      "[2021-07-14 19:30:10,091] {simulate.py:484} INFO -     Simulating 30 keV\n",
      "[2021-07-14 19:30:10,217] {simulate.py:484} INFO -     Simulating 40 keV\n",
      "[2021-07-14 19:30:10,339] {simulate.py:484} INFO -     Simulating 50 keV\n",
      "[2021-07-14 19:30:10,472] {simulate.py:484} INFO -     Simulating 60 keV\n",
      "[2021-07-14 19:30:10,596] {simulate.py:484} INFO -     Simulating 70 keV\n",
      "[2021-07-14 19:30:10,721] {simulate.py:484} INFO -     Simulating 80 keV\n",
      "[2021-07-14 19:30:10,848] {simulate.py:484} INFO -     Simulating 90 keV\n",
      "[2021-07-14 19:30:10,971] {simulate.py:484} INFO -     Simulating 100 keV\n",
      "[2021-07-14 19:30:11,104] {simulate.py:484} INFO -     Simulating 300 keV\n",
      "[2021-07-14 19:30:11,236] {simulate.py:484} INFO -     Simulating 500 keV\n",
      "[2021-07-14 19:30:11,361] {simulate.py:484} INFO -     Simulating 700 keV\n",
      "[2021-07-14 19:30:11,490] {simulate.py:484} INFO -     Simulating 900 keV\n",
      "[2021-07-14 19:30:11,615] {simulate.py:484} INFO -     Simulating 1000 keV\n",
      "[2021-07-14 19:30:11,741] {simulate.py:484} INFO -     Simulating 2000 keV\n",
      "[2021-07-14 19:30:11,870] {simulate.py:619} INFO - Weighting simulations\n",
      "[2021-07-14 19:30:11,870] {simulate.py:686} INFO -     Added noise 0.46127090757712924 times reference\n",
      "This is MV\n",
      "../fastcat/data/MV_spectra/W_spectrum_25.txt ../fastcat/data/Detectors/CWO-784-micrometer\n"
     ]
    },
    {
     "data": {
      "application/vnd.jupyter.widget-view+json": {
       "model_id": "9e6dc7ab138d409b9eaa77604b7ba33d",
       "version_major": 2,
       "version_minor": 0
      },
      "text/plain": [
       "Canvas(toolbar=Toolbar(toolitems=[('Home', 'Reset original view', 'home', 'home'), ('Back', 'Back to previous …"
      ]
     },
     "metadata": {},
     "output_type": "display_data"
    },
    {
     "name": "stdout",
     "output_type": "stream",
     "text": [
      "[2021-07-14 19:30:12,067] {legend.py:1193} WARNING - No handles with labels found to put in legend.\n",
      "[2021-07-14 19:30:12,070] {simulate.py:248} INFO - This is a small edep file starting at 30\n",
      "[2021-07-14 19:30:12,120] {simulate.py:469} INFO - Running Simulations\n",
      "[2021-07-14 19:30:12,121] {simulate.py:484} INFO -     Simulating 30 keV\n",
      "[2021-07-14 19:30:12,246] {simulate.py:484} INFO -     Simulating 40 keV\n",
      "[2021-07-14 19:30:12,370] {simulate.py:484} INFO -     Simulating 50 keV\n",
      "[2021-07-14 19:30:12,492] {simulate.py:484} INFO -     Simulating 60 keV\n",
      "[2021-07-14 19:30:12,618] {simulate.py:484} INFO -     Simulating 70 keV\n",
      "[2021-07-14 19:30:12,743] {simulate.py:484} INFO -     Simulating 80 keV\n",
      "[2021-07-14 19:30:12,872] {simulate.py:484} INFO -     Simulating 90 keV\n",
      "[2021-07-14 19:30:13,005] {simulate.py:484} INFO -     Simulating 100 keV\n",
      "[2021-07-14 19:30:13,133] {simulate.py:484} INFO -     Simulating 300 keV\n",
      "[2021-07-14 19:30:13,263] {simulate.py:484} INFO -     Simulating 500 keV\n",
      "[2021-07-14 19:30:13,398] {simulate.py:484} INFO -     Simulating 700 keV\n",
      "[2021-07-14 19:30:13,526] {simulate.py:484} INFO -     Simulating 900 keV\n",
      "[2021-07-14 19:30:13,660] {simulate.py:484} INFO -     Simulating 1000 keV\n",
      "[2021-07-14 19:30:13,786] {simulate.py:484} INFO -     Simulating 2000 keV\n",
      "[2021-07-14 19:30:13,917] {simulate.py:619} INFO - Weighting simulations\n",
      "[2021-07-14 19:30:13,917] {simulate.py:686} INFO -     Added noise 38.922121506355346 times reference\n",
      "This is MV\n",
      "../fastcat/data/MV_spectra/W_spectrum_25.txt ../fastcat/data/Detectors/CuGOS-784-micrometer\n"
     ]
    },
    {
     "data": {
      "application/vnd.jupyter.widget-view+json": {
       "model_id": "c30166a937f1419ba62e4725adb12e58",
       "version_major": 2,
       "version_minor": 0
      },
      "text/plain": [
       "Canvas(toolbar=Toolbar(toolitems=[('Home', 'Reset original view', 'home', 'home'), ('Back', 'Back to previous …"
      ]
     },
     "metadata": {},
     "output_type": "display_data"
    },
    {
     "name": "stdout",
     "output_type": "stream",
     "text": [
      "[2021-07-14 19:30:14,125] {legend.py:1193} WARNING - No handles with labels found to put in legend.\n",
      "[2021-07-14 19:30:14,177] {simulate.py:469} INFO - Running Simulations\n",
      "[2021-07-14 19:30:14,177] {simulate.py:484} INFO -     Simulating 20 keV\n",
      "[2021-07-14 19:30:14,305] {simulate.py:484} INFO -     Simulating 30 keV\n",
      "[2021-07-14 19:30:14,431] {simulate.py:484} INFO -     Simulating 40 keV\n",
      "[2021-07-14 19:30:14,555] {simulate.py:484} INFO -     Simulating 50 keV\n",
      "[2021-07-14 19:30:14,679] {simulate.py:484} INFO -     Simulating 60 keV\n",
      "[2021-07-14 19:30:14,803] {simulate.py:484} INFO -     Simulating 70 keV\n",
      "[2021-07-14 19:30:14,925] {simulate.py:484} INFO -     Simulating 80 keV\n",
      "[2021-07-14 19:30:15,057] {simulate.py:484} INFO -     Simulating 90 keV\n",
      "[2021-07-14 19:30:15,181] {simulate.py:484} INFO -     Simulating 100 keV\n",
      "[2021-07-14 19:30:15,311] {simulate.py:484} INFO -     Simulating 300 keV\n",
      "[2021-07-14 19:30:15,435] {simulate.py:484} INFO -     Simulating 500 keV\n",
      "[2021-07-14 19:30:15,564] {simulate.py:484} INFO -     Simulating 700 keV\n",
      "[2021-07-14 19:30:15,699] {simulate.py:484} INFO -     Simulating 900 keV\n",
      "[2021-07-14 19:30:15,827] {simulate.py:484} INFO -     Simulating 1000 keV\n",
      "[2021-07-14 19:30:15,953] {simulate.py:484} INFO -     Simulating 2000 keV\n",
      "[2021-07-14 19:30:16,080] {simulate.py:619} INFO - Weighting simulations\n",
      "[2021-07-14 19:30:16,080] {simulate.py:686} INFO -     Added noise 0.772822889786169 times reference\n",
      "This is MV\n",
      "../fastcat/data/MV_spectra/W_spectrum_6.txt ../fastcat/data/Detectors/CsI-784-micro_thin\n"
     ]
    },
    {
     "data": {
      "application/vnd.jupyter.widget-view+json": {
       "model_id": "1d8727e4886a4797a95862e16688032a",
       "version_major": 2,
       "version_minor": 0
      },
      "text/plain": [
       "Canvas(toolbar=Toolbar(toolitems=[('Home', 'Reset original view', 'home', 'home'), ('Back', 'Back to previous …"
      ]
     },
     "metadata": {},
     "output_type": "display_data"
    },
    {
     "name": "stdout",
     "output_type": "stream",
     "text": [
      "[2021-07-14 19:30:16,274] {legend.py:1193} WARNING - No handles with labels found to put in legend.\n",
      "[2021-07-14 19:30:16,327] {simulate.py:469} INFO - Running Simulations\n",
      "[2021-07-14 19:30:16,327] {simulate.py:484} INFO -     Simulating 10 keV\n",
      "[2021-07-14 19:30:16,455] {simulate.py:484} INFO -     Simulating 20 keV\n",
      "[2021-07-14 19:30:16,578] {simulate.py:484} INFO -     Simulating 30 keV\n",
      "[2021-07-14 19:30:16,704] {simulate.py:484} INFO -     Simulating 40 keV\n",
      "[2021-07-14 19:30:16,830] {simulate.py:484} INFO -     Simulating 50 keV\n",
      "[2021-07-14 19:30:16,951] {simulate.py:484} INFO -     Simulating 60 keV\n",
      "[2021-07-14 19:30:17,076] {simulate.py:484} INFO -     Simulating 70 keV\n",
      "[2021-07-14 19:30:17,206] {simulate.py:484} INFO -     Simulating 80 keV\n",
      "[2021-07-14 19:30:17,332] {simulate.py:484} INFO -     Simulating 90 keV\n",
      "[2021-07-14 19:30:17,459] {simulate.py:484} INFO -     Simulating 100 keV\n",
      "[2021-07-14 19:30:17,585] {simulate.py:484} INFO -     Simulating 300 keV\n",
      "[2021-07-14 19:30:17,717] {simulate.py:484} INFO -     Simulating 500 keV\n",
      "[2021-07-14 19:30:17,850] {simulate.py:484} INFO -     Simulating 700 keV\n",
      "[2021-07-14 19:30:17,976] {simulate.py:484} INFO -     Simulating 900 keV\n",
      "[2021-07-14 19:30:18,108] {simulate.py:484} INFO -     Simulating 1000 keV\n",
      "[2021-07-14 19:30:18,234] {simulate.py:484} INFO -     Simulating 2000 keV\n",
      "[2021-07-14 19:30:18,359] {simulate.py:484} INFO -     Simulating 4000 keV\n",
      "[2021-07-14 19:30:18,488] {simulate.py:484} INFO -     Simulating 6000 keV\n",
      "[2021-07-14 19:30:18,620] {simulate.py:619} INFO - Weighting simulations\n",
      "[2021-07-14 19:30:18,621] {simulate.py:686} INFO -     Added noise 0.091369183176715 times reference\n",
      "This is MV\n",
      "../fastcat/data/MV_spectra/W_spectrum_6.txt ../fastcat/data/Detectors/CWO-784-micrometer\n"
     ]
    },
    {
     "data": {
      "application/vnd.jupyter.widget-view+json": {
       "model_id": "bbeaa149443e4d2a840e5d39888fbcbb",
       "version_major": 2,
       "version_minor": 0
      },
      "text/plain": [
       "Canvas(toolbar=Toolbar(toolitems=[('Home', 'Reset original view', 'home', 'home'), ('Back', 'Back to previous …"
      ]
     },
     "metadata": {},
     "output_type": "display_data"
    },
    {
     "name": "stdout",
     "output_type": "stream",
     "text": [
      "[2021-07-14 19:30:18,822] {legend.py:1193} WARNING - No handles with labels found to put in legend.\n",
      "[2021-07-14 19:30:18,825] {simulate.py:248} INFO - This is a small edep file starting at 30\n",
      "[2021-07-14 19:30:18,874] {simulate.py:469} INFO - Running Simulations\n",
      "[2021-07-14 19:30:18,875] {simulate.py:484} INFO -     Simulating 30 keV\n",
      "[2021-07-14 19:30:19,002] {simulate.py:484} INFO -     Simulating 40 keV\n",
      "[2021-07-14 19:30:19,129] {simulate.py:484} INFO -     Simulating 50 keV\n",
      "[2021-07-14 19:30:19,255] {simulate.py:484} INFO -     Simulating 60 keV\n",
      "[2021-07-14 19:30:19,380] {simulate.py:484} INFO -     Simulating 70 keV\n",
      "[2021-07-14 19:30:19,506] {simulate.py:484} INFO -     Simulating 80 keV\n",
      "[2021-07-14 19:30:19,629] {simulate.py:484} INFO -     Simulating 90 keV\n",
      "[2021-07-14 19:30:19,751] {simulate.py:484} INFO -     Simulating 100 keV\n",
      "[2021-07-14 19:30:19,874] {simulate.py:484} INFO -     Simulating 300 keV\n",
      "[2021-07-14 19:30:20,003] {simulate.py:484} INFO -     Simulating 500 keV\n",
      "[2021-07-14 19:30:20,144] {simulate.py:484} INFO -     Simulating 700 keV\n",
      "[2021-07-14 19:30:20,275] {simulate.py:484} INFO -     Simulating 900 keV\n",
      "[2021-07-14 19:30:20,403] {simulate.py:484} INFO -     Simulating 1000 keV\n",
      "[2021-07-14 19:30:20,533] {simulate.py:484} INFO -     Simulating 2000 keV\n",
      "[2021-07-14 19:30:20,668] {simulate.py:484} INFO -     Simulating 4000 keV\n",
      "[2021-07-14 19:30:20,796] {simulate.py:619} INFO - Weighting simulations\n",
      "[2021-07-14 19:30:20,796] {simulate.py:686} INFO -     Added noise 14.491269977269566 times reference\n",
      "This is MV\n",
      "../fastcat/data/MV_spectra/W_spectrum_6.txt ../fastcat/data/Detectors/CuGOS-784-micrometer\n"
     ]
    },
    {
     "data": {
      "application/vnd.jupyter.widget-view+json": {
       "model_id": "c6399f21d6be465ea104865fd1dd1754",
       "version_major": 2,
       "version_minor": 0
      },
      "text/plain": [
       "Canvas(toolbar=Toolbar(toolitems=[('Home', 'Reset original view', 'home', 'home'), ('Back', 'Back to previous …"
      ]
     },
     "metadata": {},
     "output_type": "display_data"
    },
    {
     "name": "stdout",
     "output_type": "stream",
     "text": [
      "[2021-07-14 19:30:20,999] {legend.py:1193} WARNING - No handles with labels found to put in legend.\n",
      "[2021-07-14 19:30:21,052] {simulate.py:469} INFO - Running Simulations\n",
      "[2021-07-14 19:30:21,052] {simulate.py:484} INFO -     Simulating 20 keV\n",
      "[2021-07-14 19:30:21,180] {simulate.py:484} INFO -     Simulating 30 keV\n",
      "[2021-07-14 19:30:21,309] {simulate.py:484} INFO -     Simulating 40 keV\n",
      "[2021-07-14 19:30:21,434] {simulate.py:484} INFO -     Simulating 50 keV\n",
      "[2021-07-14 19:30:21,557] {simulate.py:484} INFO -     Simulating 60 keV\n",
      "[2021-07-14 19:30:21,683] {simulate.py:484} INFO -     Simulating 70 keV\n",
      "[2021-07-14 19:30:21,805] {simulate.py:484} INFO -     Simulating 80 keV\n",
      "[2021-07-14 19:30:21,932] {simulate.py:484} INFO -     Simulating 90 keV\n",
      "[2021-07-14 19:30:22,058] {simulate.py:484} INFO -     Simulating 100 keV\n",
      "[2021-07-14 19:30:22,182] {simulate.py:484} INFO -     Simulating 300 keV\n",
      "[2021-07-14 19:30:22,310] {simulate.py:484} INFO -     Simulating 500 keV\n",
      "[2021-07-14 19:30:22,443] {simulate.py:484} INFO -     Simulating 700 keV\n",
      "[2021-07-14 19:30:22,569] {simulate.py:484} INFO -     Simulating 900 keV\n",
      "[2021-07-14 19:30:22,699] {simulate.py:484} INFO -     Simulating 1000 keV\n",
      "[2021-07-14 19:30:22,827] {simulate.py:484} INFO -     Simulating 2000 keV\n",
      "[2021-07-14 19:30:22,959] {simulate.py:484} INFO -     Simulating 4000 keV\n",
      "[2021-07-14 19:30:23,086] {simulate.py:484} INFO -     Simulating 6000 keV\n",
      "[2021-07-14 19:30:23,210] {simulate.py:619} INFO - Weighting simulations\n",
      "[2021-07-14 19:30:23,211] {simulate.py:686} INFO -     Added noise 0.20917466861702658 times reference\n"
     ]
    }
   ],
   "source": [
    "nviews = 2\n",
    "\n",
    "weights_1 = []\n",
    "weights_2 = []\n",
    "photons = []\n",
    "\n",
    "for phan in phantoms[:1]:\n",
    "    phantom = fc.Catphan_404(hi_res=False)\n",
    "    phantom.phan_map = phan_map\n",
    "    s = fc.Spectrum()\n",
    "    for spectrum in spectra:#[:2]:\n",
    "        for det in MV_detectors:#[1:2]:\n",
    "\n",
    "            if len(spectrum) > 4:\n",
    "                s.load(spectrum.split('/')[-1].split('.')[0])\n",
    "                print('This is MV')\n",
    "#                 s.attenuate(1,fc.get_mu(z=13))\n",
    "            else:\n",
    "                s.x = xx\n",
    "                s.y = yy\n",
    "                print('This is kV')\n",
    "#                 s.attenuate(1,fc.get_mu(z=13))\n",
    "            \n",
    "            print(spectrum,det)\n",
    "            plt.figure()\n",
    "            plt.plot(s.x,s.y)\n",
    "            kernel = fc.Detector(s, det.split('/')[-1].split('.')[0])\n",
    "            kernel.get_plot_mtf_real(axs[2])\n",
    "            mtfs.append([kernel.freq,kernel.mtf])\n",
    "            angles = np.linspace(0,np.pi*2,nviews)        \n",
    "#             if len(spectrum) < 4:\n",
    "#                 phantom.return_projs(kernel,s,angles,det_on=True,mgy = 7/nviews,ASG=True,bowtie=True,filter='bowtie_mod')\n",
    "#             else:\n",
    "            phantom.return_projs(kernel,s,angles,det_on=True,mgy = 7/180)\n",
    "            weights_1.append(phantom.weights_small)\n",
    "            weights_2.append(phantom.weights_small2)\n",
    "            \n",
    "            photons.append([phantom.nphoton_av,phantom.ratio])\n",
    "            \n",
    "            \n",
    "            label.append(spectrum.split('/')[-1].split('.')[0] + det.split('/')[-1].split('.')[0])\n",
    "\n",
    "#             break\n",
    "#         break\n",
    "#     break"
   ]
  },
  {
   "cell_type": "code",
   "execution_count": 65,
   "metadata": {},
   "outputs": [
    {
     "data": {
      "application/vnd.jupyter.widget-view+json": {
       "model_id": "550e424336894ea8b98bb5aecd1fe351",
       "version_major": 2,
       "version_minor": 0
      },
      "text/plain": [
       "Canvas(toolbar=Toolbar(toolitems=[('Home', 'Reset original view', 'home', 'home'), ('Back', 'Back to previous …"
      ]
     },
     "metadata": {},
     "output_type": "display_data"
    },
    {
     "name": "stdout",
     "output_type": "stream",
     "text": [
      "1.0\n",
      "kvCsI [0.27276342216586136, 662.5759780627903]\n",
      "1.0\n",
      "kvCWO [0.8982738182577514, 664.0989093562347]\n",
      "1.0\n",
      "kvCuGOS [0.07488838934468509, 662.6469578737214]\n",
      "1.0\n",
      "C_spectrum_25CsI [0.07879379902987424, 157.96481137635655]\n",
      "0.9999999999999999\n",
      "C_spectrum_25CWO [0.7020465059778731, 157.96704952116028]\n",
      "1.0\n",
      "C_spectrum_25CuGOS [0.0469026923467256, 157.96484307044722]\n",
      "1.0\n",
      "C_spectrum_6CsI [0.049724374288624855, 73.4583136504904]\n",
      "1.0\n",
      "C_spectrum_6CWO [0.5622261778516847, 75.87803400196803]\n",
      "1.0\n",
      "C_spectrum_6CuGOS [0.03107246778754077, 73.45831450423182]\n",
      "1.0\n",
      "W_spectrum_25CsI [0.005732800527089785, 80.46170547840256]\n",
      "1.0\n",
      "W_spectrum_25CWO [0.48373473124479643, 80.46170554302955]\n",
      "1.0\n",
      "W_spectrum_25CuGOS [0.009604853453948143, 80.46170547958695]\n",
      "1.0\n",
      "W_spectrum_6CsI [0.0022025355054545548, 41.48363690412265]\n",
      "1.0\n",
      "W_spectrum_6CWO [0.33230427801628526, 43.608436411882096]\n",
      "0.9999999999999999\n",
      "W_spectrum_6CuGOS [0.00504234156065385, 41.48363733414015]\n"
     ]
    }
   ],
   "source": [
    "plt.figure(figsize=[10,15])\n",
    "\n",
    "for ii,zipper in enumerate(zip(weights_1,weights_2,label)):\n",
    "    if zipper[1].shape[0] == 18:\n",
    "        original_energies_keV = np.array(\n",
    "            [\n",
    "                10,\n",
    "                20,\n",
    "                30,\n",
    "                40,\n",
    "                50,\n",
    "                60,\n",
    "                70,\n",
    "                80,\n",
    "                90,\n",
    "                100,\n",
    "                300,\n",
    "                500,\n",
    "                700,\n",
    "                900,\n",
    "                1000,\n",
    "                2000,\n",
    "                4000,\n",
    "                6000,\n",
    "            ]\n",
    "        )\n",
    "    else:\n",
    "        original_energies_keV = np.array(\n",
    "            [\n",
    "                30,\n",
    "                40,\n",
    "                50,\n",
    "                60,\n",
    "                70,\n",
    "                80,\n",
    "                90,\n",
    "                100,\n",
    "                300,\n",
    "                500,\n",
    "                700,\n",
    "                900,\n",
    "                1000,\n",
    "                2000,\n",
    "                4000,\n",
    "                6000,\n",
    "            ]\n",
    "        )\n",
    "\n",
    "    plt.subplot(5,3,ii+1)\n",
    "#     plt.plot(zipper[0])\n",
    "    plt.plot(original_energies_keV,zipper[0])#/original_energies_keV*10)\n",
    "    print(np.nansum(zipper[1]))\n",
    "    plt.title(zipper[2].split('-')[0])\n",
    "    plt.xlabel(zipper[0])\n",
    "#     plt.text(0,0,photons[ii][:])\n",
    "    print(zipper[2].split('-')[0],photons[ii])\n",
    "#     plt.ylim([0,1])\n",
    "    \n",
    "plt.tight_layout()"
   ]
  },
  {
   "cell_type": "code",
   "execution_count": null,
   "metadata": {},
   "outputs": [],
   "source": []
  }
 ],
 "metadata": {
  "kernelspec": {
   "display_name": "Python 3",
   "language": "python",
   "name": "python3"
  },
  "language_info": {
   "codemirror_mode": {
    "name": "ipython",
    "version": 3
   },
   "file_extension": ".py",
   "mimetype": "text/x-python",
   "name": "python",
   "nbconvert_exporter": "python",
   "pygments_lexer": "ipython3",
   "version": "3.7.6"
  },
  "toc": {
   "base_numbering": 1,
   "nav_menu": {},
   "number_sections": true,
   "sideBar": true,
   "skip_h1_title": false,
   "title_cell": "Table of Contents",
   "title_sidebar": "Contents",
   "toc_cell": false,
   "toc_position": {},
   "toc_section_display": true,
   "toc_window_display": false
  },
  "varInspector": {
   "cols": {
    "lenName": "16",
    "lenType": "3",
    "lenVar": "20"
   },
   "kernels_config": {
    "python": {
     "delete_cmd_postfix": "",
     "delete_cmd_prefix": "del ",
     "library": "var_list.py",
     "varRefreshCmd": "print(var_dic_list())"
    },
    "r": {
     "delete_cmd_postfix": ") ",
     "delete_cmd_prefix": "rm(",
     "library": "var_list.r",
     "varRefreshCmd": "cat(var_dic_list()) "
    }
   },
   "types_to_exclude": [
    "module",
    "function",
    "builtin_function_or_method",
    "instance",
    "_Feature"
   ],
   "window_display": false
  }
 },
 "nbformat": 4,
 "nbformat_minor": 4
}
