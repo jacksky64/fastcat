{
 "cells": [
  {
   "cell_type": "markdown",
   "id": "physical-quantum",
   "metadata": {},
   "source": [
    "# Fastcat Demo: Varian kV OBI"
   ]
  },
  {
   "cell_type": "code",
   "execution_count": 8,
   "id": "sapphire-parish",
   "metadata": {},
   "outputs": [
    {
     "name": "stdout",
     "output_type": "stream",
     "text": [
      "Populating the interactive namespace from numpy and matplotlib\n",
      "The autoreload extension is already loaded. To reload it, use:\n",
      "  %reload_ext autoreload\n"
     ]
    }
   ],
   "source": [
    "%pylab widget"
   ]
  },
  {
   "cell_type": "code",
   "execution_count": 2,
   "id": "handmade-realtor",
   "metadata": {},
   "outputs": [],
   "source": [
    "import fastcat.fastcat as fc"
   ]
  },
  {
   "cell_type": "markdown",
   "id": "armed-chick",
   "metadata": {},
   "source": [
    "# Initialize the spectrum"
   ]
  },
  {
   "cell_type": "code",
   "execution_count": 3,
   "id": "copyrighted-praise",
   "metadata": {},
   "outputs": [],
   "source": [
    "s = fc.calculate_spectrum(100,14,3,50,monitor=None)"
   ]
  },
  {
   "cell_type": "code",
   "execution_count": 4,
   "id": "broadband-finnish",
   "metadata": {},
   "outputs": [],
   "source": [
    "s.attenuate(0.4,fc.get_mu(z=13)) # Aluminum inherent filtration\n",
    "s.attenuate(0.089,fc.get_mu(z=22)) # Titanium beam hardening filter"
   ]
  },
  {
   "cell_type": "code",
   "execution_count": 5,
   "id": "saving-softball",
   "metadata": {},
   "outputs": [
    {
     "data": {
      "application/vnd.jupyter.widget-view+json": {
       "model_id": "6b9f75f8fa5d4bbd942116a0a2f6adb9",
       "version_major": 2,
       "version_minor": 0
      },
      "text/plain": [
       "Canvas(toolbar=Toolbar(toolitems=[('Home', 'Reset original view', 'home', 'home'), ('Back', 'Back to previous …"
      ]
     },
     "metadata": {},
     "output_type": "display_data"
    }
   ],
   "source": [
    "plt.figure()\n",
    "s.get_plot(plt.subplot())"
   ]
  },
  {
   "cell_type": "markdown",
   "id": "induced-service",
   "metadata": {},
   "source": [
    "# Initialize the detector"
   ]
  },
  {
   "cell_type": "code",
   "execution_count": 11,
   "id": "higher-analyst",
   "metadata": {},
   "outputs": [
    {
     "name": "stdout",
     "output_type": "stream",
     "text": [
      "(19, 19, 19) 19\n"
     ]
    },
    {
     "data": {
      "application/vnd.jupyter.widget-view+json": {
       "model_id": "3f88d81958c34fc6af1d549293ddf591",
       "version_major": 2,
       "version_minor": 0
      },
      "text/plain": [
       "Canvas(toolbar=Toolbar(toolitems=[('Home', 'Reset original view', 'home', 'home'), ('Back', 'Back to previous …"
      ]
     },
     "metadata": {},
     "output_type": "display_data"
    }
   ],
   "source": [
    "det = fc.Kernel(s,'CsI-784-micrometer')\n",
    "det.add_focal_spot(1.2)\n",
    "\n",
    "plt.figure()\n",
    "det.get_plot(plt.subplot())"
   ]
  },
  {
   "cell_type": "markdown",
   "id": "encouraging-consequence",
   "metadata": {},
   "source": [
    "# Initialize the phantom"
   ]
  },
  {
   "cell_type": "code",
   "execution_count": 21,
   "id": "understanding-reputation",
   "metadata": {},
   "outputs": [],
   "source": [
    "phantom = fc.Catphan_404()"
   ]
  },
  {
   "cell_type": "markdown",
   "id": "earned-present",
   "metadata": {},
   "source": [
    "# Run the simulation"
   ]
  },
  {
   "cell_type": "code",
   "execution_count": 22,
   "id": "baking-lease",
   "metadata": {},
   "outputs": [
    {
     "name": "stdout",
     "output_type": "stream",
     "text": [
      "Initializing filter bowtie_asym\n",
      "   Scatter is filtered by bowtie\n",
      "Initializing ASG\n",
      "Running Simulations\n",
      "    Simulating 10 keV\n",
      "    Simulating 20 keV\n",
      "    Simulating 30 keV\n",
      "    Simulating 40 keV\n",
      "    Simulating 50 keV\n",
      "    Simulating 60 keV\n",
      "    Simulating 70 keV\n",
      "    Simulating 80 keV\n",
      "    Simulating 90 keV\n",
      "    Simulating 100 keV\n",
      "Weighting simulations\n"
     ]
    }
   ],
   "source": [
    "angles = np.linspace(0,np.pi*2,180,endpoint=False)\n",
    "phantom.return_projs(det,s,angles,mgy=0.04,ASG=True,bowtie=True,filter='bowtie_asym')"
   ]
  },
  {
   "cell_type": "code",
   "execution_count": 26,
   "id": "internal-fruit",
   "metadata": {},
   "outputs": [
    {
     "data": {
      "application/vnd.jupyter.widget-view+json": {
       "model_id": "383b08a3404340968c3fe1d1a6e2ecca",
       "version_major": 2,
       "version_minor": 0
      },
      "text/plain": [
       "Canvas(toolbar=Toolbar(toolitems=[('Home', 'Reset original view', 'home', 'home'), ('Back', 'Back to previous …"
      ]
     },
     "metadata": {},
     "output_type": "display_data"
    },
    {
     "data": {
      "text/plain": [
       "<matplotlib.image.AxesImage at 0x7fa46bc81ad0>"
      ]
     },
     "execution_count": 26,
     "metadata": {},
     "output_type": "execute_result"
    }
   ],
   "source": [
    "plt.figure()\n",
    "plt.imshow(phantom.proj[90],cmap='gray')"
   ]
  },
  {
   "cell_type": "markdown",
   "id": "monetary-devices",
   "metadata": {},
   "source": [
    "# Reconstruct"
   ]
  },
  {
   "cell_type": "code",
   "execution_count": 27,
   "id": "yellow-atlantic",
   "metadata": {},
   "outputs": [
    {
     "data": {
      "application/vnd.jupyter.widget-view+json": {
       "model_id": "270f5efb89ca488e9f98b0b4dcc3fd90",
       "version_major": 2,
       "version_minor": 0
      },
      "text/plain": [
       "Canvas(toolbar=Toolbar(toolitems=[('Home', 'Reset original view', 'home', 'home'), ('Back', 'Back to previous …"
      ]
     },
     "metadata": {},
     "output_type": "display_data"
    },
    {
     "data": {
      "text/plain": [
       "<matplotlib.image.AxesImage at 0x7fa46bc91850>"
      ]
     },
     "execution_count": 27,
     "metadata": {},
     "output_type": "execute_result"
    }
   ],
   "source": [
    "phantom.reconstruct('FDK',filt='ram_lak')\n",
    "\n",
    "plt.figure()\n",
    "plt.imshow(phantom.img[5],cmap='gray')"
   ]
  }
 ],
 "metadata": {
  "kernelspec": {
   "display_name": "Python 3",
   "language": "python",
   "name": "python3"
  },
  "language_info": {
   "codemirror_mode": {
    "name": "ipython",
    "version": 3
   },
   "file_extension": ".py",
   "mimetype": "text/x-python",
   "name": "python",
   "nbconvert_exporter": "python",
   "pygments_lexer": "ipython3",
   "version": "3.7.6"
  }
 },
 "nbformat": 4,
 "nbformat_minor": 5
}
