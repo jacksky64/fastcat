{
 "cells": [
  {
   "cell_type": "code",
   "execution_count": 1,
   "id": "attractive-cigarette",
   "metadata": {},
   "outputs": [
    {
     "name": "stdout",
     "output_type": "stream",
     "text": [
      "Populating the interactive namespace from numpy and matplotlib\n"
     ]
    }
   ],
   "source": [
    "%load_ext autoreload\n",
    "%autoreload 2\n",
    "%pylab widget"
   ]
  },
  {
   "cell_type": "code",
   "execution_count": 2,
   "id": "structured-limit",
   "metadata": {},
   "outputs": [],
   "source": [
    "from varian_models import Catphan_404_kV\n",
    "bcca_smaller = np.load('/home/xcite/MV_CBCT/log_kv_phantom_over_air_776x776.npy')[15:-15]"
   ]
  },
  {
   "cell_type": "markdown",
   "id": "split-evans",
   "metadata": {},
   "source": [
    "# Looking at the one slice\n",
    "\n",
    "There is still a fudge factor of 1.03 on the projection to account for fastcats 0.97 I guess.\n",
    "\n",
    "Also a fundge factor for the dose right now.\n",
    "\n",
    "And Catphan_Teflon unrevised whatever that is"
   ]
  },
  {
   "cell_type": "code",
   "execution_count": 375,
   "id": "hearing-length",
   "metadata": {},
   "outputs": [
    {
     "name": "stdout",
     "output_type": "stream",
     "text": [
      "(19, 19, 19) 19\n",
      "bowtie is off False\n",
      "Using the bowtie filter True\n",
      "really doing it!\n",
      "bowtie scatter\n",
      "ratio is 70.18600063761603 number of photons 0.7694951410828342\n"
     ]
    }
   ],
   "source": [
    "angles = np.linspace(np.pi/2,np.pi*2,2)      \n",
    "kv_catphan = Catphan_404_kV()\n",
    "kv_catphan.get_proj(angles,fudge=0.18)"
   ]
  },
  {
   "cell_type": "code",
   "execution_count": 376,
   "id": "induced-england",
   "metadata": {},
   "outputs": [
    {
     "data": {
      "application/vnd.jupyter.widget-view+json": {
       "model_id": "b265d19fbf4f4890876d60b96fcc427d",
       "version_major": 2,
       "version_minor": 0
      },
      "text/plain": [
       "Canvas(toolbar=Toolbar(toolitems=[('Home', 'Reset original view', 'home', 'home'), ('Back', 'Back to previous …"
      ]
     },
     "metadata": {},
     "output_type": "display_data"
    }
   ],
   "source": [
    "kv_catphan.plot_one_proj(bcca_smaller[445,195:225])"
   ]
  },
  {
   "cell_type": "markdown",
   "id": "direct-wholesale",
   "metadata": {},
   "source": [
    "# Now lets reconstruct the whole thing"
   ]
  },
  {
   "cell_type": "code",
   "execution_count": 304,
   "id": "annual-military",
   "metadata": {},
   "outputs": [],
   "source": [
    "projs_bcca = np.zeros([887,64,512])\n",
    "projs_bcca[:,17:-17,:] =  bcca_smaller[:,195:225,:]\n",
    "\n",
    "kv_catphan.proj[:,:17,:] = 0 # Matching the images\n",
    "kv_catphan.proj[:,-17:,:] = 0\n",
    "\n",
    "angles = np.load('/home/xcite/MV_CBCT/angles_kv.npy')"
   ]
  },
  {
   "cell_type": "code",
   "execution_count": 373,
   "id": "banned-trouble",
   "metadata": {},
   "outputs": [
    {
     "name": "stdout",
     "output_type": "stream",
     "text": [
      "bowtie is off False\n",
      "Using the bowtie filter True\n",
      "really doing it!\n",
      "bowtie scatter\n",
      "ratio is 78.16308210171873 number of photons 0.7601018837385178\n"
     ]
    },
    {
     "data": {
      "application/vnd.jupyter.widget-view+json": {
       "model_id": "3c0ee19e6bec406090b7cb5bc14943c4",
       "version_major": 2,
       "version_minor": 0
      },
      "text/plain": [
       "Canvas(toolbar=Toolbar(toolitems=[('Home', 'Reset original view', 'home', 'home'), ('Back', 'Back to previous …"
      ]
     },
     "metadata": {},
     "output_type": "display_data"
    },
    {
     "data": {
      "application/vnd.jupyter.widget-view+json": {
       "model_id": "4b7047a0fcf64176986f19255d3aab66",
       "version_major": 2,
       "version_minor": 0
      },
      "text/plain": [
       "Canvas(toolbar=Toolbar(toolitems=[('Home', 'Reset original view', 'home', 'home'), ('Back', 'Back to previous …"
      ]
     },
     "metadata": {},
     "output_type": "display_data"
    }
   ],
   "source": [
    "CNR_fc = []\n",
    "CNR_exp = []\n",
    "\n",
    "im_fc = []\n",
    "im_exp = []\n",
    "\n",
    "fudge_2 =1 # 0.97 \n",
    "fudge = 0.2 #*3\n",
    "\n",
    "for ii in range(4,3,-1):\n",
    "    angles_temp = angles[::ii]\n",
    "    kv_catphan.geomet.nVoxel = np.array([10,512,512])\n",
    "    kv_catphan.geomet.dVoxel = kv_catphan.geomet.sVoxel/kv_catphan.geomet.nVoxel\n",
    "    kv_catphan.get_proj(angles_temp,fudge=fudge) \n",
    "    kv_catphan.proj[:,:17,:] = 0 # Matching the images\n",
    "    kv_catphan.proj[:,-17:,:] = 0\n",
    "    kv_catphan.geomet.nVoxel = np.array([128,512,512])\n",
    "    kv_catphan.geomet.dVoxel = kv_catphan.geomet.sVoxel/kv_catphan.geomet.nVoxel\n",
    "    kv_catphan.reconstruct('FDK',filt='ram_lak')\n",
    "    im_fc.append(kv_catphan.img[64])\n",
    "    CNR_fc.append(kv_catphan.return_CNR())\n",
    "    kv_catphan.proj = 10*projs_bcca[::ii].astype(np.float32)*fudge_2\n",
    "    kv_catphan.angles = angles[::ii][-1::-1]\n",
    "    kv_catphan.reconstruct('FDK',filt='ram_lak')\n",
    "#     kv_catphan.img = np.rot90(kv_catphan.img,-1)\n",
    "    im_exp.append(np.rot90(kv_catphan.img[64],-1))\n",
    "    CNR_exp.append(kv_catphan.return_CNR_exp())"
   ]
  },
  {
   "cell_type": "code",
   "execution_count": 368,
   "id": "optional-nowhere",
   "metadata": {},
   "outputs": [
    {
     "data": {
      "application/vnd.jupyter.widget-view+json": {
       "model_id": "5e50e4d253004b78a504ad65d0d09caa",
       "version_major": 2,
       "version_minor": 0
      },
      "text/plain": [
       "Canvas(toolbar=Toolbar(toolitems=[('Home', 'Reset original view', 'home', 'home'), ('Back', 'Back to previous …"
      ]
     },
     "metadata": {},
     "output_type": "display_data"
    },
    {
     "data": {
      "text/plain": [
       "[<matplotlib.lines.Line2D at 0x7f2fe5ff6490>]"
      ]
     },
     "execution_count": 368,
     "metadata": {},
     "output_type": "execute_result"
    }
   ],
   "source": [
    "plt.figure()\n",
    "plt.plot(CNR_fc[0],'b*')\n",
    "plt.plot(CNR_exp[0],'r*')"
   ]
  },
  {
   "cell_type": "code",
   "execution_count": 329,
   "id": "unavailable-bunch",
   "metadata": {},
   "outputs": [],
   "source": [
    "np.save('fastcat_images_kv_worst-best',im_fc)\n",
    "np.save('exp_images_kv_worst-best',im_exp)\n",
    "np.save('CNR_fc_kv',CNR_fc)\n",
    "np.save('CNR_exp_kv',CNR_exp)"
   ]
  },
  {
   "cell_type": "code",
   "execution_count": 374,
   "id": "chronic-great",
   "metadata": {},
   "outputs": [
    {
     "name": "stdout",
     "output_type": "stream",
     "text": [
      "Open other images in this ImageJ panel as follows:\n",
      "  imagej -p 1 <image1> [<image2> ... <imageN>]\n",
      "\n",
      "Fontconfig error: \"/home/xcite/.config/fontconfig/fonts.conf\", line 5: no element found\n",
      "Fontconfig error: \"/home/xcite/.config/fontconfig/fonts.conf\", line 5: invalid attribute 'target'\n"
     ]
    }
   ],
   "source": [
    "plt.imsave('im_for_imagej.png',np.hstack((im_fc[0],im_exp[0])),cmap='gray')\n",
    "!imagej im_for_imagej.png"
   ]
  },
  {
   "cell_type": "code",
   "execution_count": 342,
   "id": "junior-dividend",
   "metadata": {},
   "outputs": [
    {
     "data": {
      "application/vnd.jupyter.widget-view+json": {
       "model_id": "b25dac6d250c449abd18d35152ae5d6e",
       "version_major": 2,
       "version_minor": 0
      },
      "text/plain": [
       "Canvas(toolbar=Toolbar(toolitems=[('Home', 'Reset original view', 'home', 'home'), ('Back', 'Back to previous …"
      ]
     },
     "metadata": {},
     "output_type": "display_data"
    },
    {
     "data": {
      "application/vnd.jupyter.widget-view+json": {
       "model_id": "dc5688462d0e4d48841b9077befb94a6",
       "version_major": 2,
       "version_minor": 0
      },
      "text/plain": [
       "Canvas(toolbar=Toolbar(toolitems=[('Home', 'Reset original view', 'home', 'home'), ('Back', 'Back to previous …"
      ]
     },
     "metadata": {},
     "output_type": "display_data"
    },
    {
     "data": {
      "application/vnd.jupyter.widget-view+json": {
       "model_id": "295072b8ba974c738efae61ad6a1a0e8",
       "version_major": 2,
       "version_minor": 0
      },
      "text/plain": [
       "Canvas(toolbar=Toolbar(toolitems=[('Home', 'Reset original view', 'home', 'home'), ('Back', 'Back to previous …"
      ]
     },
     "metadata": {},
     "output_type": "display_data"
    },
    {
     "data": {
      "application/vnd.jupyter.widget-view+json": {
       "model_id": "78a5233cbdcb47c18734f25e560d0891",
       "version_major": 2,
       "version_minor": 0
      },
      "text/plain": [
       "Canvas(toolbar=Toolbar(toolitems=[('Home', 'Reset original view', 'home', 'home'), ('Back', 'Back to previous …"
      ]
     },
     "metadata": {},
     "output_type": "display_data"
    }
   ],
   "source": [
    "from scipy.optimize import minimize\n",
    "CNR_fc = np.load('CNR_fc_kv.npy')\n",
    "CNR_exp = np.load('CNR_fc_kv.npy')\n",
    "\n",
    "im_fc = np.load('fastcat_images_kv_worst-best.npy')\n",
    "im_exp = np.load('exp_images_kv_worst-best.npy')\n",
    "\n",
    "new_CNR_fc = []\n",
    "\n",
    "def HU_fun(a,x,y):\n",
    "    return np.sum(np.abs((x - a[0])*(a[1]) - y))\n",
    "\n",
    "def return_CNR_fc(proj,return_contrast = False):\n",
    "\n",
    "    im = create_mask(proj.shape,r=5.75,radius=0.4)\n",
    "    contrast_fc, CNR_fc, noise_fc = return_CNR(proj,im)\n",
    "#         print(contrast_fc ,'fastcat')\n",
    "    if return_contrast:\n",
    "        return contrast_fc\n",
    "    else:\n",
    "        return CNR_fc\n",
    "\n",
    "def return_CNR_exp(proj,return_contrast = False):\n",
    "\n",
    "    recon_slice = (proj)\n",
    "    im = create_mask(recon_slice.shape,r=5.85,off = [-0.15,-0.02],rot = 0.7,radius=0.40)\n",
    "    contrast_fc, CNR_fc, noise_fc = return_CNR(recon_slice,im)\n",
    "#         print(contrast_fc, 'exp')\n",
    "    if return_contrast:\n",
    "        return contrast_fc\n",
    "    else:\n",
    "        return CNR_fc\n",
    "\n",
    "im = create_mask(im_fc.shape,r=5.75,radius=0.4)\n",
    "\n",
    "for ii in range(3,-1,-1):\n",
    "    \n",
    "    contrast_fc = return_CNR_fc(im_fc[ii],True) \n",
    "    contrast_bcca = return_CNR_exp(im_exp[ii],True) \n",
    "    \n",
    "    if ii == 3:\n",
    "        reses = []\n",
    "        rem = []\n",
    "\n",
    "        for off in np.arange(-0.2,0.2,0.01):\n",
    "            reses.append(minimize(HU_fun,[off,contrast_fc[-3]-0.01],args=(contrast_fc,contrast_bcca)))\n",
    "            rem.append(reses[-1].fun)\n",
    "\n",
    "        res = reses[np.argmin(rem)]\n",
    "\n",
    "    fc_data = (contrast_fc - res.x[0])*(res.x[1])\n",
    "    fc_image = (im_fc[ii] - res.x[0])*(res.x[1])\n",
    "    \n",
    "    new_CNR_fc.append(return_CNR(fc_image,im)[1])\n",
    "    \n",
    "    x = [.853,0.945,.998,1.147,1.36,1.87]\n",
    "\n",
    "    plt.figure(figsize=[8,8])\n",
    "    plt.subplot(221)\n",
    "    plt.plot(x,contrast_bcca,'s',c='darkorange',label='')\n",
    "    plt.plot(x,fc_data,'*',c='cornflowerblue',label='fastCAT')\n",
    "    plt.legend()\n",
    "    plt.subplot(222)\n",
    "    plt.plot(recon_slice[256,:],c='darkorange')\n",
    "    plt.plot(np.rot90(fc_image,0)[256,:],c='cornflowerblue')\n",
    "    plt.subplot(223)\n",
    "    plt.imshow(np.rot90(fc_image,0),cmap='gray')#,vmin=0.013,vmax=0.027)\n",
    "    plt.subplot(224)\n",
    "    plt.imshow(np.rot90(recon_slice,0),cmap='gray')#,vmin=0.013,vmax=0.027)"
   ]
  },
  {
   "cell_type": "code",
   "execution_count": 343,
   "id": "offensive-casting",
   "metadata": {},
   "outputs": [
    {
     "data": {
      "application/vnd.jupyter.widget-view+json": {
       "model_id": "9473cbeab72d4559bfc74c6f5d28c97c",
       "version_major": 2,
       "version_minor": 0
      },
      "text/plain": [
       "Canvas(toolbar=Toolbar(toolitems=[('Home', 'Reset original view', 'home', 'home'), ('Back', 'Back to previous …"
      ]
     },
     "metadata": {},
     "output_type": "display_data"
    },
    {
     "data": {
      "text/plain": [
       "[<matplotlib.lines.Line2D at 0x7f2fe63bfb10>]"
      ]
     },
     "execution_count": 343,
     "metadata": {},
     "output_type": "execute_result"
    }
   ],
   "source": [
    "plt.figure()\n",
    "plt.plot((new_CNR_fc[3])**1.3,'b*')\n",
    "plt.plot(CNR_exp[3],'r*')\n",
    "# plt.figure()\n",
    "# plt.plot(contrast_fc,'b*')\n",
    "# plt.plot(contrast_bcca,'r*')"
   ]
  },
  {
   "cell_type": "code",
   "execution_count": 218,
   "id": "quantitative-legislature",
   "metadata": {},
   "outputs": [
    {
     "data": {
      "text/plain": [
       "      fun: 0.0026893317699432373\n",
       " hess_inv: array([[0.01104779, 0.01104779],\n",
       "       [0.01104779, 0.14830004]])\n",
       "      jac: array([0., 0.])\n",
       "  message: 'Optimization terminated successfully.'\n",
       "     nfev: 81\n",
       "      nit: 4\n",
       "     njev: 27\n",
       "   status: 0\n",
       "  success: True\n",
       "        x: array([-0.03572898,  0.82787716])"
      ]
     },
     "execution_count": 218,
     "metadata": {},
     "output_type": "execute_result"
    }
   ],
   "source": [
    "res"
   ]
  },
  {
   "cell_type": "code",
   "execution_count": 197,
   "id": "fourth-header",
   "metadata": {},
   "outputs": [
    {
     "data": {
      "application/vnd.jupyter.widget-view+json": {
       "model_id": "6db18e9c21534b979966b9516a9ee9bf",
       "version_major": 2,
       "version_minor": 0
      },
      "text/plain": [
       "Canvas(toolbar=Toolbar(toolitems=[('Home', 'Reset original view', 'home', 'home'), ('Back', 'Back to previous …"
      ]
     },
     "metadata": {},
     "output_type": "display_data"
    },
    {
     "data": {
      "text/plain": [
       "[<matplotlib.lines.Line2D at 0x7f2fd79a3dd0>]"
      ]
     },
     "execution_count": 197,
     "metadata": {},
     "output_type": "execute_result"
    }
   ],
   "source": [
    "plt.figure()\n",
    "plt.plot(CNR_fc[3],'b*')\n",
    "plt.plot(CNR_exp[3],'r*')"
   ]
  },
  {
   "cell_type": "code",
   "execution_count": 172,
   "id": "neither-cylinder",
   "metadata": {},
   "outputs": [
    {
     "data": {
      "application/vnd.jupyter.widget-view+json": {
       "model_id": "67cfc3fdfc4e4d2ca67064610a043457",
       "version_major": 2,
       "version_minor": 0
      },
      "text/plain": [
       "Canvas(toolbar=Toolbar(toolitems=[('Home', 'Reset original view', 'home', 'home'), ('Back', 'Back to previous …"
      ]
     },
     "metadata": {},
     "output_type": "display_data"
    },
    {
     "data": {
      "text/plain": [
       "<matplotlib.image.AxesImage at 0x7f2fd573f8d0>"
      ]
     },
     "execution_count": 172,
     "metadata": {},
     "output_type": "execute_result"
    }
   ],
   "source": [
    "plt.figure()\n",
    "plt.imshow(np.rot90(im_exp[0],-1))\n",
    "# plt.imshow(im)"
   ]
  },
  {
   "cell_type": "code",
   "execution_count": 196,
   "id": "located-rapid",
   "metadata": {},
   "outputs": [
    {
     "data": {
      "application/vnd.jupyter.widget-view+json": {
       "model_id": "f9d4f05267a34fc6b74e1f85b58b7f3b",
       "version_major": 2,
       "version_minor": 0
      },
      "text/plain": [
       "Canvas(toolbar=Toolbar(toolitems=[('Home', 'Reset original view', 'home', 'home'), ('Back', 'Back to previous …"
      ]
     },
     "metadata": {},
     "output_type": "display_data"
    }
   ],
   "source": [
    "plt.figure()\n",
    "for ii in range(4):\n",
    "    plt.plot(ii,np.mean(CNR_fc[ii],0),'r*')\n",
    "    plt.plot(ii,np.mean(CNR_exp[ii],0),'b*')"
   ]
  },
  {
   "cell_type": "code",
   "execution_count": 121,
   "id": "military-assessment",
   "metadata": {},
   "outputs": [
    {
     "data": {
      "application/vnd.jupyter.widget-view+json": {
       "model_id": "de754fe874804c63b59234f51a4a424a",
       "version_major": 2,
       "version_minor": 0
      },
      "text/plain": [
       "Canvas(toolbar=Toolbar(toolitems=[('Home', 'Reset original view', 'home', 'home'), ('Back', 'Back to previous …"
      ]
     },
     "metadata": {},
     "output_type": "display_data"
    }
   ],
   "source": [
    "recon_slice = np.rot90(kv_catphan.img[64],3)\n",
    "im = create_mask(recon_slice.shape,r=5.85,radius=0.45,off = [-0.15,-0.02],rot = 0.7)\n",
    "contrast_exp, CNR_exp, noise_fc = return_CNR(recon_slice,im,show_map=True)"
   ]
  },
  {
   "cell_type": "code",
   "execution_count": 122,
   "id": "working-composer",
   "metadata": {},
   "outputs": [
    {
     "name": "stdout",
     "output_type": "stream",
     "text": [
      "[0.16167541 0.17474125 0.18429291 0.20837197 0.24231511 0.3306908 ]\n"
     ]
    }
   ],
   "source": [
    "print(contrast_exp)"
   ]
  },
  {
   "cell_type": "code",
   "execution_count": null,
   "id": "oriented-farmer",
   "metadata": {},
   "outputs": [],
   "source": [
    "# bcca_recon = np.load('/home/xcite/MV_CBCT/recon_kV_full.npy').T #recon_kv_jan_2021.npy')\n",
    "# recon_slice = np.rot90(np.mean(bcca_recon.T[39:40],0)).copy()\n",
    "# im = create_mask(recon_slice.shape,r=5.8,off = [0.2,0.05],rot = 1)\n",
    "# contrast_bcca, CNR_bcca, noise_bcca = return_CNR(recon_slice,im)#,show_map=True)\n",
    "\n",
    "def HU_fun(a,x,y):\n",
    "    return np.sum(np.abs((x - a[0])*(a[1]) - y))\n",
    "\n",
    "reses = []\n",
    "rem = []\n",
    "\n",
    "for off in np.arange(-0.2,0.2,0.01):\n",
    "    reses.append(minimize(HU_fun,[contrast_fc[2],contrast_fc[-3]+off],args=(contrast_fc,contrast_bcca)))\n",
    "    rem.append(reses[-1].fun)\n",
    "    \n",
    "res = reses[np.argmin(rem)]\n",
    "    \n",
    "fc_data = (contrast_fc - res.x[0])*(res.x[1])\n",
    "fc_image = (phantom.img[4] - res.x[0])*(res.x[1])\n",
    "\n",
    "x = [.853,0.945,.998,1.147,1.36,1.87]\n",
    "\n",
    "plt.figure(figsize=[8,8])\n",
    "plt.subplot(221)\n",
    "plt.plot(x,contrast_bcca,'s',c='darkorange',label='')\n",
    "plt.plot(x,fc_data,'*',c='cornflowerblue',label='fastCAT')\n",
    "plt.legend()\n",
    "plt.subplot(222)\n",
    "plt.plot(recon_slice[256,:],c='darkorange')\n",
    "plt.plot(np.rot90(fc_image,0)[256,:],c='cornflowerblue')\n",
    "plt.subplot(223)\n",
    "plt.imshow(np.rot90(fc_image,0),cmap='gray',vmin=0.013,vmax=0.027)\n",
    "plt.subplot(224)\n",
    "plt.imshow(np.rot90(recon_slice,2),cmap='gray',vmin=0.013,vmax=0.027)"
   ]
  }
 ],
 "metadata": {
  "kernelspec": {
   "display_name": "Python 3",
   "language": "python",
   "name": "python3"
  },
  "language_info": {
   "codemirror_mode": {
    "name": "ipython",
    "version": 3
   },
   "file_extension": ".py",
   "mimetype": "text/x-python",
   "name": "python",
   "nbconvert_exporter": "python",
   "pygments_lexer": "ipython3",
   "version": "3.7.6"
  }
 },
 "nbformat": 4,
 "nbformat_minor": 5
}
