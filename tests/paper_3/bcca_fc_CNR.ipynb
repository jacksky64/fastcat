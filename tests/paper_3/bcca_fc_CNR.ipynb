{
 "cells": [
  {
   "cell_type": "code",
   "execution_count": 1,
   "id": "recreational-volleyball",
   "metadata": {},
   "outputs": [
    {
     "name": "stdout",
     "output_type": "stream",
     "text": [
      "Populating the interactive namespace from numpy and matplotlib\n"
     ]
    }
   ],
   "source": [
    "%pylab widget\n",
    "%load_ext autoreload\n",
    "%autoreload 2\n",
    "\n",
    "from analysis_functions import *\n",
    "import fastcat.fastcat as fc\n",
    "\n",
    "from scipy.optimize import minimize"
   ]
  },
  {
   "cell_type": "code",
   "execution_count": 2,
   "id": "moving-graham",
   "metadata": {},
   "outputs": [],
   "source": [
    "image_fc_mv = np.load('image_fc_mv_6x.npy')\n",
    "image_bcca_mv = np.load('image_bcca_mv_6x.npy')"
   ]
  },
  {
   "cell_type": "code",
   "execution_count": 3,
   "id": "diverse-closure",
   "metadata": {},
   "outputs": [],
   "source": [
    "image_fc_kv = np.load('fc_kv_image_good.npy')\n",
    "image_bcca_kv = np.load('/home/xcite/MV_CBCT/recon_kv_jan_2021.npy')\n",
    "image_bcca_kv = np.rot90(image_bcca_kv.T[50],3) "
   ]
  },
  {
   "cell_type": "code",
   "execution_count": 4,
   "id": "numeric-sessions",
   "metadata": {},
   "outputs": [],
   "source": [
    "recon_slice = image_fc_mv\n",
    "im = create_mask(recon_slice.shape,r=5.7,radius=0.3)\n",
    "contrast = []\n",
    "CNR_fc = []\n",
    "noise = []\n",
    "\n",
    "for ii in range(2,int(np.max(im)+1)):\n",
    "    \n",
    "    contrast.append(np.mean(recon_slice[im == ii]))\n",
    "    CNR_fc.append(contrast[-1]/np.sqrt(np.std(recon_slice[im == ii])**2 + np.std(recon_slice[im == 6])**2))\n",
    "    noise.append(np.std(recon_slice[im == ii]))#/np.sqrt(np.sum(recon_slice[im == ii])))\n",
    "\n",
    "cc_kv = np.array(sorted(contrast))\n",
    "CNR_fc_kv = np.array(CNR_fc)[np.argsort(contrast)]\n",
    "fc_noise_kv = np.array(noise)[np.argsort(contrast)]\n",
    "\n",
    "recon_slice = image_bcca_mv\n",
    "im = create_mask(recon_slice.shape,off =[-0.,0], r= 5.75,radius=0.3)\n",
    "contrast = []\n",
    "CNR = []\n",
    "noise = []\n",
    "\n",
    "for ii in range(2,int(np.max(im)+1)):\n",
    "    \n",
    "    contrast.append(np.mean(recon_slice[im == ii]))\n",
    "    CNR.append(contrast[-1]/np.sqrt(np.std(recon_slice[im == ii])**2 + np.std(recon_slice[im == 6])**2))\n",
    "    noise.append(np.std(recon_slice[im == ii]))#/np.sqrt(np.sum(recon_slice[im == ii])))\n",
    "    \n",
    "bcca_data_kv = np.array(sorted(contrast))\n",
    "CNR_bcca_kv = np.array(CNR)[np.argsort(contrast)]\n",
    "bcca_noise_kv = np.array(noise)[np.argsort(contrast)]\n",
    "\n",
    "image_fc_kv2 = np.load('fc_kv_image_no_noise.npy')\n",
    "recon_slice = image_fc_kv2\n",
    "recon_slice2 = image_fc_kv\n",
    "im = create_mask(recon_slice.shape,r=5.75,radius=0.3)\n",
    "contrast = []\n",
    "CNR = []\n",
    "noise = []\n",
    "\n",
    "for ii in range(2,int(np.max(im)+1)):\n",
    "    contrast.append(np.mean(recon_slice[im == ii]))\n",
    "    CNR.append(contrast[-1]/np.sqrt(np.std(recon_slice[im == ii])**2 + np.std(recon_slice[im == 3])**2))\n",
    "    noise.append(np.std(recon_slice[im == ii]))#/np.sqrt(np.sum(recon_slice[im == ii])))\n",
    "\n",
    "# Get rid of the delrin\n",
    "cc_mv = np.array(sorted(contrast))[np.arange(len(contrast))]\n",
    "cc_CNR_mv = np.array(CNR)[np.argsort(contrast)]\n",
    "fc_noise_mv = np.array(noise)[np.argsort(contrast)]\n",
    "\n",
    "\n",
    "image_bcca_kv2 = np.load('/home/xcite/MV_CBCT/recon_kv_jan_2021.npy')\n",
    "recon_slice = np.rot90(image_bcca_kv2.T[50],3).copy()\n",
    "im = create_mask(recon_slice.shape,r=5.8,off = [0.2,0.05],rot = 1,radius=0.3)\n",
    "contrast = []\n",
    "CNR = []\n",
    "noise = []\n",
    "\n",
    "for ii in range(2,int(np.max(im)+1)):\n",
    "    contrast.append(np.mean(recon_slice[im == ii]))\n",
    "    CNR.append(contrast[-1]/np.sqrt(np.std(recon_slice[im == ii])**2 + np.std(recon_slice[im == 3])**2))\n",
    "    noise.append(np.std(recon_slice[im == ii]))#/np.sqrt(np.sum(recon_slice[im == ii])))\n",
    "    \n",
    "# Get rid of the delrin\n",
    "bcca_noise_mv = np.array(noise)[np.argsort(contrast)]\n",
    "bcca_data_mv = np.array(sorted(contrast))\n",
    "CNR_data_mv = np.array(CNR)[np.argsort(contrast)]"
   ]
  },
  {
   "cell_type": "code",
   "execution_count": 5,
   "id": "dress-clothing",
   "metadata": {},
   "outputs": [],
   "source": [
    "# plt.rcParams[\"font.family\"] = \"DejaVu Serif\""
   ]
  },
  {
   "cell_type": "code",
   "execution_count": 6,
   "id": "sexual-reggae",
   "metadata": {},
   "outputs": [],
   "source": [
    "import matplotlib.font_manager\n",
    "# matplotlib.font_manager.findSystemFonts(fontpaths=None, fontext='ttf')"
   ]
  },
  {
   "cell_type": "code",
   "execution_count": 13,
   "id": "further-climate",
   "metadata": {},
   "outputs": [
    {
     "data": {
      "application/vnd.jupyter.widget-view+json": {
       "model_id": "1ab1992d408149e1a92ea026d8775955",
       "version_major": 2,
       "version_minor": 0
      },
      "text/plain": [
       "Canvas(toolbar=Toolbar(toolitems=[('Home', 'Reset original view', 'home', 'home'), ('Back', 'Back to previous …"
      ]
     },
     "metadata": {},
     "output_type": "display_data"
    }
   ],
   "source": [
    "plt.figure(figsize=[16,8])\n",
    "ax = plt.subplot(241)\n",
    "plt.imshow(image_bcca_kv,cmap='gray',vmin=0.013,vmax=0.027)\n",
    "circle1 = plt.text(149,208.5,'1.87',color='k');ax.add_artist(circle1)\n",
    "circle1 = plt.text(149,308.5,'.853',color='k');ax.add_artist(circle1)\n",
    "circle1 = plt.text(329,308.5,'.998',color='k');ax.add_artist(circle1)\n",
    "circle1 = plt.text(329,208.5,'1.15',color='k');ax.add_artist(circle1)\n",
    "circle1 = plt.text(244,143.5,'1.36',color='k');ax.add_artist(circle1)\n",
    "circle1 = plt.text(244,379.5,'.945',color='k');ax.add_artist(circle1)\n",
    "circle1 = plt.Circle((388,178.5),radius=15, fill=False,color='darkorange');ax.add_artist(circle1)\n",
    "# circle1 = plt.text(10,30.5,'a)',color='w',size='x-large');ax.add_artist(circle1)\n",
    "circle1 = plt.text(-60,356,'100 kVp',color='k',size='x-large',rotation = 90);ax.add_artist(circle1)\n",
    "circle1 = plt.text(160,-20,'Experimental',color='k',size='x-large');ax.add_artist(circle1)\n",
    "\n",
    "# circle1 = plt.text(0.6 +second_radius*cos(B1+4/3*np.pi),second_radius*sin(B1+4/3*np.pi),r2[1],color='darkorange');ax.add_artist(circle1)\n",
    "# circle1 = plt.text(0.6 +second_radius*cos(B2+4/3*np.pi),second_radius*sin(B2+4/3*np.pi),r2[2],color='darkorange');ax.add_artist(circle1)\n",
    "# circle1 = plt.text(0.6 +second_radius*cos(B3+4/3*np.pi),second_radius*sin(B3+4/3*np.pi),r2[3],color='darkorange');ax.add_artist(circle1)\n",
    "plt.axis('off')\n",
    "ax = plt.subplot(242)\n",
    "plt.imshow(image_fc_kv,cmap='gray',vmin=0.013,vmax=0.027)\n",
    "# circle1 = plt.text(10,30.5,'b)',color='w',size='x-large');ax.add_artist(circle1)\n",
    "circle1 = plt.text(196,-20,'FastCAT',color='k',size='x-large');ax.add_artist(circle1)\n",
    "plt.axis('off')\n",
    "ax = plt.subplot(244)\n",
    "plt.imshow(image_bcca_mv,cmap='gray',vmin=0.001,vmax=0.007)\n",
    "circle1 = plt.text(-60,306,'6 MV',color='k',size='x-large',rotation = 90);ax.add_artist(circle1)\n",
    "# circle1 = plt.text(10,30.5,'d)',color='w',size='x-large');ax.add_artist(circle1)\n",
    "plt.axis('off')\n",
    "ax = plt.subplot(245)\n",
    "plt.imshow(image_fc_mv,cmap='gray',vmin=0.001,vmax=0.007)\n",
    "# circle1 = plt.text(10,30.5,'e)',color='w',size='x-large');ax.add_artist(circle1)\n",
    "plt.axis('off')\n",
    "\n",
    "x = [.853,0.945,.998,1.147,1.36,1.87]\n",
    "\n",
    "ax = plt.subplot(243)\n",
    "bcca_data = np.load('contrast_bcca_kv.npy')[2:]\n",
    "water = 0.020#(bcca_data[4]+0.0003)\n",
    "air = 0.0056\n",
    "yerr_bcca = (bcca_noise_mv)/(air-water)*-1000\n",
    "yerr_fc = (fc_noise_mv)/(air-water)*-1000\n",
    "plt.errorbar(x,(bcca_data-water)/(air-water)*-1000,yerr = yerr_bcca,fmt='*',color='darkorange',label='')\n",
    "plt.errorbar(np.array(x) + 0.02,(cc_mv-water)/(air-water)*-1000,fmt='.',yerr = yerr_fc,color='cornflowerblue',label='fastCAT')\n",
    "circle1 = plt.text(1.15,1180,'Comparison',color='k',size='x-large');ax.add_artist(circle1)\n",
    "# circle1 = plt.text(0.85,1000,'c)',color='k',size='x-large');ax.add_artist(circle1)\n",
    "# plt.xticks([])\n",
    "plt.legend(['Varian OBI 100 kVp','FastCAT 100 kVp'],loc=4)\n",
    "plt.ylabel('HU')\n",
    "plt.grid('on')\n",
    "ax = plt.subplot(246)\n",
    "cc_kv = np.load('mv_data_revised_delrin.npy')\n",
    "bcca_data_kv = np.load('mv_data_revised_delrin_bcca.npy')\n",
    "water = 0.00425 #(bcca_data_kv[2]+bcca_data_kv[3])/2\n",
    "air = 0.001861\n",
    "yerr_bcca = (bcca_noise_kv)/(air-water)*-725\n",
    "yerr_fc = (fc_noise_kv+0.0001)/(air-water)*-725\n",
    "plt.errorbar(np.array(x),(bcca_data_kv - water)/(air - water)*-725,fmt='*',yerr = 1.2*yerr_bcca,color='darkorange',label='')\n",
    "plt.errorbar(np.array(x)+0.02,(cc_kv - water)/(air-water)*-725,fmt='.',yerr = yerr_fc,color='cornflowerblue',label='fastCAT')\n",
    "# circle1 = plt.text(0.85,900,'f)',color='k',size='x-large');ax.add_artist(circle1)\n",
    "plt.legend(['Varian 6 MV','FastCAT 6 MV'],loc=4)\n",
    "plt.grid('on')\n",
    "plt.xlabel('Relative Electron Density')\n",
    "plt.ylabel('HU')\n",
    "plt.subplot(244)\n",
    "with open('../paper_2/shi.pkl', 'rb') as fid:\n",
    "    ax = pickle.load(fid)\n",
    "plt.show()\n",
    "plt.subplot(248)\n",
    "with open('../paper_2/shi.pkl', 'rb') as fid:\n",
    "    ax = pickle.load(fid)\n",
    "plt.show()\n",
    "plt.tight_layout()"
   ]
  },
  {
   "cell_type": "code",
   "execution_count": 328,
   "id": "incomplete-jones",
   "metadata": {},
   "outputs": [],
   "source": [
    "plt.close('all')"
   ]
  },
  {
   "cell_type": "code",
   "execution_count": 305,
   "id": "rapid-waters",
   "metadata": {},
   "outputs": [
    {
     "data": {
      "application/vnd.jupyter.widget-view+json": {
       "model_id": "649634ab90d94761a2d1aaddcc41246d",
       "version_major": 2,
       "version_minor": 0
      },
      "text/plain": [
       "Canvas(toolbar=Toolbar(toolitems=[('Home', 'Reset original view', 'home', 'home'), ('Back', 'Back to previous …"
      ]
     },
     "metadata": {},
     "output_type": "display_data"
    },
    {
     "data": {
      "text/plain": [
       "[<matplotlib.lines.Line2D at 0x7fa764a2c810>]"
      ]
     },
     "execution_count": 305,
     "metadata": {},
     "output_type": "execute_result"
    }
   ],
   "source": [
    "plt.figure()\n",
    "plt.plot(CNR_data_mv)\n",
    "plt.plot(cc_CNR_mv,'r')"
   ]
  },
  {
   "cell_type": "code",
   "execution_count": 306,
   "id": "blank-clear",
   "metadata": {},
   "outputs": [],
   "source": [
    "plt.close('all')"
   ]
  },
  {
   "cell_type": "code",
   "execution_count": 16,
   "id": "celtic-bahamas",
   "metadata": {},
   "outputs": [
    {
     "data": {
      "application/vnd.jupyter.widget-view+json": {
       "model_id": "c64dcb1e49594b05a5abee67baeae16e",
       "version_major": 2,
       "version_minor": 0
      },
      "text/plain": [
       "Canvas(toolbar=Toolbar(toolitems=[('Home', 'Reset original view', 'home', 'home'), ('Back', 'Back to previous …"
      ]
     },
     "metadata": {},
     "output_type": "display_data"
    }
   ],
   "source": [
    "import matplotlib.pyplot as plt\n",
    "import pickle\n",
    "\n",
    "with open('../paper_2/shi.pkl', 'rb') as fid:\n",
    "    ax = pickle.load(fid)\n",
    "plt.show()"
   ]
  },
  {
   "cell_type": "code",
   "execution_count": null,
   "id": "australian-smart",
   "metadata": {},
   "outputs": [],
   "source": []
  }
 ],
 "metadata": {
  "kernelspec": {
   "display_name": "Python 3",
   "language": "python",
   "name": "python3"
  },
  "language_info": {
   "codemirror_mode": {
    "name": "ipython",
    "version": 3
   },
   "file_extension": ".py",
   "mimetype": "text/x-python",
   "name": "python",
   "nbconvert_exporter": "python",
   "pygments_lexer": "ipython3",
   "version": "3.7.6"
  }
 },
 "nbformat": 4,
 "nbformat_minor": 5
}
