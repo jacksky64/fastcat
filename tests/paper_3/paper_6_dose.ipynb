{
 "cells": [
  {
   "cell_type": "code",
   "execution_count": 1,
   "metadata": {},
   "outputs": [
    {
     "name": "stdout",
     "output_type": "stream",
     "text": [
      "Populating the interactive namespace from numpy and matplotlib\n"
     ]
    }
   ],
   "source": [
    "%pylab widget\n",
    "%load_ext autoreload\n",
    "%autoreload 2\n",
    "\n",
    "from analysis_functions import *\n",
    "import fastcat.fastcat as fc\n",
    "from scipy.optimize import minimize"
   ]
  },
  {
   "cell_type": "markdown",
   "metadata": {},
   "source": [
    "# First lets look at the GOS"
   ]
  },
  {
   "cell_type": "code",
   "execution_count": 51,
   "metadata": {},
   "outputs": [
    {
     "name": "stdout",
     "output_type": "stream",
     "text": [
      "(19, 41, 41) 19\n",
      "bowtie is off False\n",
      "Using the bowtie filter True\n",
      "really doing it!\n",
      "ratio is 162.95898755328747 number of photons 0.02636808212587352\n"
     ]
    }
   ],
   "source": [
    "# %%timeit -r 1\n",
    "nviews = 493 #493 #247 #165 #124 for the others\n",
    "\n",
    "s = fc.Spectrum()\n",
    "s.load('Varian_truebeam')\n",
    "s.x[0] = 1; s.x[1] = 2\n",
    "s.attenuate(0.,fc.get_mu(z=13))\n",
    "\n",
    "kernel = fc.Kernel(s,'CuGOS-784-micrometer')\n",
    "kernel.add_focal_spot(1.2)\n",
    "angles = np.linspace(0,np.pi*2,nviews)\n",
    "\n",
    "phantom = fc.Catphan_404()\n",
    "phantom.phan_map = ['air','G4_NYLON-8062','CATPHAN_Acrylic','CATPHAN_Acrylic','CATPHAN_Delrin_revised','CATPHAN_Acrylic','CATPHAN_Teflon_revised','air','CATPHAN_PMP','CATPHAN_Acrylic','CATPHAN_LDPE','CATPHAN_Acrylic','CATPHAN_Polystyrene','air','CATPHAN_Acrylic','air','CATPHAN_Teflon','air','air','air','air'] \n",
    "phantom.return_projs(kernel,s,angles,mgy=54*1.3907/(507),bowtie=True,filter='FF0') # should be 507\n",
    "phantom.reconstruct('FDK',filt='ram_lak')\n",
    "\n",
    "im = create_mask(phantom.img[5].shape,r=5.7,radius=0.4)\n",
    "contrast_fc, CNR_fc, noise_fc = return_CNR(phantom.img[5],im)"
   ]
  },
  {
   "cell_type": "markdown",
   "metadata": {},
   "source": [
    "## Now lets look at the bcca data"
   ]
  },
  {
   "cell_type": "code",
   "execution_count": 52,
   "metadata": {},
   "outputs": [
    {
     "data": {
      "application/vnd.jupyter.widget-view+json": {
       "model_id": "b4facda98c6843bb8971e149f3042ed7",
       "version_major": 2,
       "version_minor": 0
      },
      "text/plain": [
       "Canvas(toolbar=Toolbar(toolitems=[('Home', 'Reset original view', 'home', 'home'), ('Back', 'Back to previous …"
      ]
     },
     "metadata": {},
     "output_type": "display_data"
    }
   ],
   "source": [
    "bcca_recon = np.load('/home/xcite/MV_CBCT/recon_6x_300_rared.npy')\n",
    "recon_slice = np.rot90(np.mean(bcca_recon.T[35:36],0),2)\n",
    "im = create_mask(recon_slice.shape,off =[-0.15,0], r= 5.75,radius=0.3)\n",
    "contrast_bcca, CNR_bcca, noise_bcca = return_CNR(recon_slice,im)#,show_map=True)\n",
    "\n",
    "def HU_fun(a,x,y):\n",
    "    return np.sum(np.abs((x - a[0])*(a[1]) - y))\n",
    "\n",
    "reses = []\n",
    "rem = []\n",
    "\n",
    "for off in [-0.04,-0.03,-0.02,-0.01,0,0.01,0.02,0.03,0.04]:\n",
    "    reses.append(minimize(HU_fun,[contrast_fc[0],contrast_fc[5]+off],args=(contrast_fc,contrast_bcca)))\n",
    "    rem.append(reses[-1].fun)\n",
    "    \n",
    "res = reses[np.argmin(rem)]\n",
    "\n",
    "x = [.853,0.945,.998,1.147,1.36,1.87]\n",
    "contrast_fc_scaled = (contrast_fc - res.x[0])*(res.x[1])\n",
    "image_fc_scaled = np.roll((phantom.img[4]- res.x[0])*(res.x[1]),5)\n",
    "\n",
    "plt.figure(figsize=[8,8])\n",
    "plt.subplot(221)\n",
    "plt.imshow(recon_slice,cmap='gray',vmin=0.001,vmax=0.007)\n",
    "plt.axis('off')\n",
    "plt.subplot(222)\n",
    "plt.imshow(image_fc_scaled,cmap='gray',vmin=0.001,vmax=0.007)\n",
    "plt.axis('off')\n",
    "plt.subplot(223)\n",
    "plt.plot(x,contrast_fc_scaled,'s',c='cornflowerblue',label='fastCAT')\n",
    "plt.plot(x,contrast_bcca,'s',c='darkorange',label='Star-lack')\n",
    "plt.subplot(224)\n",
    "plt.plot(recon_slice[256,7:-7])\n",
    "plt.plot(np.rot90(image_fc_scaled,0)[257,7:-7])\n",
    "plt.tight_layout()"
   ]
  },
  {
   "cell_type": "code",
   "execution_count": 57,
   "metadata": {},
   "outputs": [],
   "source": [
    "np.save('fc_images/fc_image_gos_6x_124',image_fc_scaled)"
   ]
  },
  {
   "cell_type": "code",
   "execution_count": 76,
   "metadata": {},
   "outputs": [
    {
     "name": "stdout",
     "output_type": "stream",
     "text": [
      "Open other images in this ImageJ panel as follows:\n",
      "  imagej -p 1 <image1> [<image2> ... <imageN>]\n",
      "\n"
     ]
    }
   ],
   "source": [
    "plt.imsave('im_for_imagej.png',np.hstack((recon_slice,image_fc_scaled)))\n",
    "!imagej im_for_imagej.png"
   ]
  },
  {
   "cell_type": "markdown",
   "metadata": {},
   "source": [
    "# Now lets look at the kV data "
   ]
  },
  {
   "cell_type": "code",
   "execution_count": 53,
   "metadata": {},
   "outputs": [
    {
     "name": "stdout",
     "output_type": "stream",
     "text": [
      "(19, 19, 19) 19\n"
     ]
    }
   ],
   "source": [
    "# %%timeit -r 1\n",
    "nviews = 222 #887 # 222 296 444 887 That is how many are in the file \n",
    "s = fc.calculate_spectrum(100, 14, 3, 100,monitor=None)\n",
    "s.attenuate(5.6,fc.get_mu(z=13)) #0.4\n",
    "s.attenuate(0.089,fc.get_mu(z=22))\n",
    "kernel = fc.Kernel(s,'CsI-784-micrometer')\n",
    "# angles = np.linspace(0.1,np.pi*2,nviews)        "
   ]
  },
  {
   "cell_type": "code",
   "execution_count": 61,
   "metadata": {},
   "outputs": [],
   "source": [
    "angles = np.load('/home/xcite/MV_CBCT/angles_kv.npy')[::4]"
   ]
  },
  {
   "cell_type": "code",
   "execution_count": 62,
   "metadata": {},
   "outputs": [
    {
     "name": "stdout",
     "output_type": "stream",
     "text": [
      "bowtie is off False\n",
      "Using the bowtie filter True\n",
      "really doing it!\n",
      "ratio is 1734.0094827566788 number of photons 0.19327890235626993\n"
     ]
    }
   ],
   "source": [
    "conversion = 1.07765#*(0.511/0.784)**2\n",
    "\n",
    "fudge = 1 # 0.018\n",
    "# !!!!! Scatter is off\n",
    "phantom = fc.Catphan_404()#pitch = 0.511)\n",
    "phantom.phan_map = ['air','G4_NYLON-8062','CATPHAN_Acrylic','CATPHAN_Acrylic','CATPHAN_Delrin','CATPHAN_Acrylic','CATPHAN_Teflon_revised','air','CATPHAN_PMP','CATPHAN_Acrylic','CATPHAN_LDPE','CATPHAN_Acrylic','CATPHAN_Polystyrene','air','CATPHAN_Acrylic','air','CATPHAN_Teflon_revised','air','air','air','air'] \n",
    "phantom.return_projs(kernel,s,angles,scat_on=False,mgy=fudge*21.1/(nviews),bowtie=True,filter='bowtie_mod') #bowtie_mod 1.077 conversion\n",
    "phantom.reconstruct('FDK',filt='ram_lak')\n",
    "\n",
    "im = create_mask(phantom.img[4].shape,r=5.75,radius=0.4)\n",
    "contrast_fc, CNR_fc, noise_fc = return_CNR(phantom.img[4],im)"
   ]
  },
  {
   "cell_type": "code",
   "execution_count": 63,
   "metadata": {},
   "outputs": [
    {
     "data": {
      "application/vnd.jupyter.widget-view+json": {
       "model_id": "a48d1fdf3b18491d85e8ef17f2efa453",
       "version_major": 2,
       "version_minor": 0
      },
      "text/plain": [
       "Canvas(toolbar=Toolbar(toolitems=[('Home', 'Reset original view', 'home', 'home'), ('Back', 'Back to previous …"
      ]
     },
     "metadata": {},
     "output_type": "display_data"
    },
    {
     "data": {
      "text/plain": [
       "<matplotlib.image.AxesImage at 0x7f8c9699a810>"
      ]
     },
     "execution_count": 63,
     "metadata": {},
     "output_type": "execute_result"
    }
   ],
   "source": [
    "bcca_recon = np.load('/home/xcite/MV_CBCT/recon_kV_fourth.npy').T#recon_kv_jan_2021.npy')\n",
    "recon_slice = np.rot90(np.mean(bcca_recon.T[39:47],0)).copy()\n",
    "im = create_mask(recon_slice.shape,r=5.8,off = [0.2,0.05],rot = 1)\n",
    "contrast_bcca, CNR_bcca, noise_bcca = return_CNR(recon_slice,im)#,show_map=True)\n",
    "\n",
    "def HU_fun(a,x,y):\n",
    "    return np.sum(np.abs((x - a[0])*(a[1]) - y))\n",
    "\n",
    "reses = []\n",
    "rem = []\n",
    "\n",
    "for off in np.arange(-0.2,0.2,0.01):\n",
    "    reses.append(minimize(HU_fun,[contrast_fc[2],contrast_fc[-3]+off],args=(contrast_fc,contrast_bcca)))\n",
    "    rem.append(reses[-1].fun)\n",
    "    \n",
    "res = reses[np.argmin(rem)]\n",
    "    \n",
    "fc_data = (contrast_fc - res.x[0])*(res.x[1])\n",
    "fc_image = (phantom.img[4] - res.x[0])*(res.x[1])\n",
    "\n",
    "x = [.853,0.945,.998,1.147,1.36,1.87]\n",
    "\n",
    "plt.figure(figsize=[8,8])\n",
    "plt.subplot(221)\n",
    "plt.plot(x,contrast_bcca,'s',c='darkorange',label='')\n",
    "plt.plot(x,fc_data,'*',c='cornflowerblue',label='fastCAT')\n",
    "plt.legend()\n",
    "plt.subplot(222)\n",
    "plt.plot(recon_slice[256,:],c='darkorange')\n",
    "plt.plot(np.rot90(fc_image,0)[256,:],c='cornflowerblue')\n",
    "plt.subplot(223)\n",
    "plt.imshow(np.rot90(fc_image,0),cmap='gray',vmin=0.013,vmax=0.027)\n",
    "plt.subplot(224)\n",
    "plt.imshow(np.rot90(recon_slice,2),cmap='gray',vmin=0.013,vmax=0.027)"
   ]
  },
  {
   "cell_type": "code",
   "execution_count": 45,
   "metadata": {},
   "outputs": [
    {
     "name": "stdout",
     "output_type": "stream",
     "text": [
      "TIGRE parameters\n",
      "-----\n",
      "Geometry parameters\n",
      "Distance from source to detector (DSD) = 1500 mm\n",
      "Distance from source to origin (DSO)= 1000 mm\n",
      "-----\n",
      "Detector parameters\n",
      "Number of pixels (nDetector) = [ 64 512]\n",
      "Size of each pixel (dDetector) = [0.784 0.784] mm\n",
      "Total size of the detector (sDetector) = [ 50.176 401.408] mm\n",
      "-----\n",
      "Image parameters\n",
      "Number of voxels (nVoxel) = [ 10 512 512]\n",
      "Total size of the image (sVoxel) = [200 200 200] mm\n",
      "Size of each voxel (dVoxel) = [20.        0.390625  0.390625] mm\n",
      "-----\n",
      "Offset correction parameters\n",
      "Offset of image from origin (offOrigin) = [0 0 0] mm\n",
      "Offset of detector (offDetector) = [0 0] mm\n",
      "-----\n",
      "Auxillary parameters\n",
      "Samples per pixel of forward projection (accuracy) = 0.5\n",
      "-----\n",
      "Rotation of the Detector (rotDetector) = [0 0 0] rad\n"
     ]
    }
   ],
   "source": [
    "print(phantom.geomet)"
   ]
  },
  {
   "cell_type": "code",
   "execution_count": 31,
   "metadata": {},
   "outputs": [
    {
     "data": {
      "application/vnd.jupyter.widget-view+json": {
       "model_id": "c8d02b9a96d84b6187ed85cb7844458a",
       "version_major": 2,
       "version_minor": 0
      },
      "text/plain": [
       "Canvas(toolbar=Toolbar(toolitems=[('Home', 'Reset original view', 'home', 'home'), ('Back', 'Back to previous …"
      ]
     },
     "metadata": {},
     "output_type": "display_data"
    },
    {
     "data": {
      "text/plain": [
       "<matplotlib.image.AxesImage at 0x7f8c9175d750>"
      ]
     },
     "execution_count": 31,
     "metadata": {},
     "output_type": "execute_result"
    }
   ],
   "source": [
    "bcca_recon = np.load('/home/xcite/MV_CBCT/recon_kV_fourth.npy').T#recon_kv_jan_2021.npy')\n",
    "recon_slice = np.rot90(bcca_recon.T[-19]).copy()\n",
    "im = create_mask(recon_slice.shape,r=5.8,off = [0.2,0.05],rot = 1)\n",
    "contrast_bcca, CNR_bcca, noise_bcca = return_CNR(recon_slice,im)#,show_map=True)\n",
    "\n",
    "def HU_fun(a,x,y):\n",
    "    return np.sum(np.abs((x - a[0])*(a[1]) - y))\n",
    "\n",
    "reses = []\n",
    "rem = []\n",
    "\n",
    "for off in [-0.64,-0.23,-0.08,-0.01,0,0.01,0.06,0.23,0.64]:\n",
    "    reses.append(minimize(HU_fun,[contrast_fc[2],contrast_fc[-3]+off],args=(contrast_fc,contrast_bcca)))\n",
    "    rem.append(reses[-1].fun)\n",
    "    \n",
    "res = reses[np.argmin(rem)]\n",
    "    \n",
    "fc_data = (contrast_fc - res.x[0])*(res.x[1])\n",
    "fc_image = (phantom.img[4] - res.x[0])*(res.x[1])\n",
    "\n",
    "x = [.853,0.945,.998,1.147,1.36,1.87]\n",
    "\n",
    "plt.figure(figsize=[8,8])\n",
    "plt.subplot(221)\n",
    "plt.plot(x,contrast_bcca,'s',c='darkorange',label='')\n",
    "plt.plot(x,fc_data,'*',c='cornflowerblue',label='fastCAT')\n",
    "plt.legend()\n",
    "plt.subplot(222)\n",
    "plt.plot(recon_slice[256,:],c='darkorange')\n",
    "plt.plot(np.rot90(fc_image,0)[256,:],c='cornflowerblue')\n",
    "plt.subplot(223)\n",
    "plt.imshow(np.rot90(fc_image,0),cmap='gray',vmin=0.013,vmax=0.027)\n",
    "plt.subplot(224)\n",
    "plt.imshow(np.rot90(recon_slice,2),cmap='gray',vmin=0.013,vmax=0.027)"
   ]
  },
  {
   "cell_type": "code",
   "execution_count": 27,
   "metadata": {},
   "outputs": [
    {
     "name": "stdout",
     "output_type": "stream",
     "text": [
      "Open other images in this ImageJ panel as follows:\n",
      "  imagej -p 1 <image1> [<image2> ... <imageN>]\n",
      "\n"
     ]
    }
   ],
   "source": [
    "plt.imsave('data/im_for_imagej.png',np.hstack((recon_slice,fc_image)))\n",
    "!imagej data/im_for_imagej.png"
   ]
  },
  {
   "cell_type": "markdown",
   "metadata": {},
   "source": [
    "# Now let's take a look at the images in terms of CNR"
   ]
  },
  {
   "cell_type": "code",
   "execution_count": 58,
   "metadata": {},
   "outputs": [],
   "source": [
    "from glob import glob"
   ]
  },
  {
   "cell_type": "code",
   "execution_count": 90,
   "metadata": {},
   "outputs": [
    {
     "data": {
      "application/vnd.jupyter.widget-view+json": {
       "model_id": "c64650089e2149a1bf8fa87853ffbb10",
       "version_major": 2,
       "version_minor": 0
      },
      "text/plain": [
       "Canvas(toolbar=Toolbar(toolitems=[('Home', 'Reset original view', 'home', 'home'), ('Back', 'Back to previous …"
      ]
     },
     "metadata": {},
     "output_type": "display_data"
    },
    {
     "data": {
      "text/plain": [
       "<matplotlib.legend.Legend at 0x7ffbbaaf8bd0>"
      ]
     },
     "execution_count": 90,
     "metadata": {},
     "output_type": "execute_result"
    }
   ],
   "source": [
    "im = create_mask([512,512],r=5.7,radius=0.4)\n",
    "im2 = create_mask([512,512],off =[-0.15,0], r= 5.75,radius=0.3)\n",
    "\n",
    "CNRs = []\n",
    "\n",
    "plt.figure()\n",
    "\n",
    "exp_files = np.array(glob('/home/xcite/MV_CBCT/recon_6x_300_*.npy'))[np.array([0,1,3,2])]\n",
    "\n",
    "ii = 0\n",
    "for file_fc, file_exp in zip(sorted(glob('fc_images/*.npy'))[-1::-1],exp_files):\n",
    "    \n",
    "    im_fc = np.load(file_fc)\n",
    "    im_exp = np.rot90(np.load(file_exp).T[35],2)\n",
    "                             \n",
    "    contrast_fc, CNR_fc, noise_fc = return_CNR(np.roll(im_fc,-5),im)\n",
    "    contrast_bcca, CNR_exp, noise_bcca = return_CNR(im_exp,im2)#,show_map=True)\n",
    "                             \n",
    "    CNRs.append(CNR_fc)\n",
    "    plt.plot(ii,np.mean(CNR_fc),'b*',label=file_fc.split('/')[-1][-7:-4] + ' fc')\n",
    "    plt.plot(ii+0.1,2.6*np.mean(CNR_exp),'r*',label=file_fc.split('/')[-1][-7:-4] +' exp')\n",
    "    \n",
    "    ii += 1\n",
    "\n",
    "plt.legend()"
   ]
  },
  {
   "cell_type": "markdown",
   "metadata": {},
   "source": [
    "# Now lets look at the 2.5 MV"
   ]
  },
  {
   "cell_type": "code",
   "execution_count": 2,
   "metadata": {},
   "outputs": [
    {
     "name": "stdout",
     "output_type": "stream",
     "text": [
      "Populating the interactive namespace from numpy and matplotlib\n"
     ]
    }
   ],
   "source": [
    "%pylab widget"
   ]
  },
  {
   "cell_type": "code",
   "execution_count": 40,
   "metadata": {},
   "outputs": [
    {
     "name": "stdout",
     "output_type": "stream",
     "text": [
      "(19, 41, 41) 19\n",
      "bowtie is off False\n",
      "Using the bowtie filter True\n",
      "really doing it!\n",
      "ratio is 17874.726480268397 number of photons 0.01015508406165716\n"
     ]
    },
    {
     "data": {
      "application/vnd.jupyter.widget-view+json": {
       "model_id": "c29b013f7c4f4dd5bd4af93394d21d8d",
       "version_major": 2,
       "version_minor": 0
      },
      "text/plain": [
       "Canvas(toolbar=Toolbar(toolitems=[('Home', 'Reset original view', 'home', 'home'), ('Back', 'Back to previous …"
      ]
     },
     "metadata": {},
     "output_type": "display_data"
    }
   ],
   "source": [
    "# %%timeit -r 1\n",
    "nviews =  203 #493 #247 #165 #124 for the others\n",
    "\n",
    "s = fc.Spectrum()\n",
    "s.load('W_spectrum_25')\n",
    "kernel = fc.Kernel(s,'CuGOS-784-micrometer')\n",
    "# kernel.add_focal_spot(1.2)\n",
    "angles = np.load('/home/xcite/MV_CBCT/angles_25x.npy')\n",
    "\n",
    "phantom = fc.Catphan_404()\n",
    "phantom.phan_map = ['air','G4_NYLON-8062','CATPHAN_Acrylic','CATPHAN_Acrylic',\n",
    "                    'CATPHAN_Delrin_revised','CATPHAN_Acrylic','CATPHAN_Teflon_revised',\n",
    "                    'air','CATPHAN_PMP','CATPHAN_Acrylic','CATPHAN_LDPE','CATPHAN_Acrylic','CATPHAN_Polystyrene','air','CATPHAN_Acrylic','air','CATPHAN_Teflon','air','air','air','air'] \n",
    "phantom.return_projs(kernel,s,angles,mgy=600*3/nviews,bowtie=True,filter='FF0') # should be 507\n",
    "phantom.reconstruct('FDK',filt='ram_lak')\n",
    "\n",
    "im = create_mask(phantom.img[5].shape,r=5.7,radius=0.4)\n",
    "contrast_fc, CNR_fc, noise_fc = return_CNR(phantom.img[5],im,show_map=True)"
   ]
  },
  {
   "cell_type": "markdown",
   "metadata": {},
   "source": [
    "## Now lets look at the bcca data"
   ]
  },
  {
   "cell_type": "code",
   "execution_count": 41,
   "metadata": {},
   "outputs": [],
   "source": [
    "bcca_recon = np.load('/home/xcite/MV_CBCT/recon_25x_60.npy')\n",
    "recon_slice = np.rot90(bcca_recon.T[20],2)\n",
    "im = create_mask(recon_slice.shape,off =[0.15,0], r= 5.75,radius=0.3)\n",
    "contrast_bcca, CNR_bcca, noise_bcca = return_CNR(recon_slice,im)#,show_map=True)"
   ]
  },
  {
   "cell_type": "code",
   "execution_count": 42,
   "metadata": {},
   "outputs": [
    {
     "name": "stderr",
     "output_type": "stream",
     "text": [
      "/home/xcite/anaconda3/lib/python3.7/site-packages/ipykernel_launcher.py:17: RuntimeWarning: More than 20 figures have been opened. Figures created through the pyplot interface (`matplotlib.pyplot.figure`) are retained until explicitly closed and may consume too much memory. (To control this warning, see the rcParam `figure.max_open_warning`).\n"
     ]
    },
    {
     "data": {
      "application/vnd.jupyter.widget-view+json": {
       "model_id": "cc97ac02b153495894b25425e8cf663b",
       "version_major": 2,
       "version_minor": 0
      },
      "text/plain": [
       "Canvas(toolbar=Toolbar(toolitems=[('Home', 'Reset original view', 'home', 'home'), ('Back', 'Back to previous …"
      ]
     },
     "metadata": {},
     "output_type": "display_data"
    }
   ],
   "source": [
    "def HU_fun(a,x,y):\n",
    "    return np.sum(np.abs((x - a[0])*(a[1]) - y))\n",
    "\n",
    "reses = []\n",
    "rem = []\n",
    "\n",
    "for off in [-0.04,-0.03,-0.02,-0.01,0,0.01,0.02,0.03,0.04]:\n",
    "    reses.append(minimize(HU_fun,[contrast_fc[0],contrast_fc[5]+off],args=(contrast_fc,contrast_bcca)))\n",
    "    rem.append(reses[-1].fun)\n",
    "    \n",
    "res = reses[np.argmin(rem)]\n",
    "\n",
    "x = [.853,0.945,.998,1.147,1.36,1.87]\n",
    "contrast_fc_scaled = (contrast_fc - res.x[0])*(res.x[1])\n",
    "image_fc_scaled = np.roll((phantom.img[4]- res.x[0])*(res.x[1]),5)\n",
    "\n",
    "plt.figure(figsize=[8,8])\n",
    "plt.subplot(221)\n",
    "plt.imshow(recon_slice,cmap='gray',vmin=0.003,vmax=0.014)\n",
    "plt.axis('off')\n",
    "plt.subplot(222)\n",
    "plt.imshow(image_fc_scaled,cmap='gray',vmin=0.003,vmax=0.014)\n",
    "plt.axis('off')\n",
    "plt.subplot(223)\n",
    "plt.plot(x,contrast_fc_scaled,'s',c='cornflowerblue',label='fastCAT')\n",
    "plt.plot(x,contrast_bcca,'s',c='darkorange',label='Star-lack')\n",
    "plt.subplot(224)\n",
    "plt.plot(recon_slice[256,7:-7])\n",
    "plt.plot(np.rot90(image_fc_scaled,0)[257,7:-7])\n",
    "plt.tight_layout()"
   ]
  },
  {
   "cell_type": "markdown",
   "metadata": {},
   "source": [
    "# Now let's take a look at the images in terms of CNR"
   ]
  },
  {
   "cell_type": "code",
   "execution_count": 2,
   "metadata": {},
   "outputs": [],
   "source": [
    "from glob import glob"
   ]
  },
  {
   "cell_type": "code",
   "execution_count": 90,
   "metadata": {},
   "outputs": [
    {
     "data": {
      "application/vnd.jupyter.widget-view+json": {
       "model_id": "c64650089e2149a1bf8fa87853ffbb10",
       "version_major": 2,
       "version_minor": 0
      },
      "text/plain": [
       "Canvas(toolbar=Toolbar(toolitems=[('Home', 'Reset original view', 'home', 'home'), ('Back', 'Back to previous …"
      ]
     },
     "metadata": {},
     "output_type": "display_data"
    },
    {
     "data": {
      "text/plain": [
       "<matplotlib.legend.Legend at 0x7ffbbaaf8bd0>"
      ]
     },
     "execution_count": 90,
     "metadata": {},
     "output_type": "execute_result"
    }
   ],
   "source": [
    "im = create_mask([512,512],r=5.7,radius=0.4)\n",
    "im2 = create_mask([512,512],off =[-0.15,0], r= 5.75,radius=0.3)\n",
    "\n",
    "CNRs = []\n",
    "\n",
    "plt.figure()\n",
    "\n",
    "exp_files = np.array(glob('/home/xcite/MV_CBCT/recon_kV*.npy'))[np.array([0,1,3,2])]\n",
    "\n",
    "ii = 0\n",
    "for file_fc, file_exp in zip(sorted(glob('fc_images/*.npy'))[-1::-1],exp_files):\n",
    "    \n",
    "    im_fc = np.load(file_fc)\n",
    "    im_exp = np.rot90(np.load(file_exp).T[35],2)\n",
    "                             \n",
    "    contrast_fc, CNR_fc, noise_fc = return_CNR(np.roll(im_fc,-5),im)\n",
    "    contrast_bcca, CNR_exp, noise_bcca = return_CNR(im_exp,im2)#,show_map=True)\n",
    "                             \n",
    "    CNRs.append(CNR_fc)\n",
    "    plt.plot(ii,np.mean(CNR_fc),'b*',label=file_fc.split('/')[-1][-7:-4] + ' fc')\n",
    "    plt.plot(ii+0.1,2.6*np.mean(CNR_exp),'r*',label=file_fc.split('/')[-1][-7:-4] +' exp')\n",
    "    \n",
    "    ii += 1\n",
    "\n",
    "plt.legend()"
   ]
  },
  {
   "cell_type": "code",
   "execution_count": 37,
   "metadata": {},
   "outputs": [
    {
     "data": {
      "application/vnd.jupyter.widget-view+json": {
       "model_id": "170a0c55ec664aae9e5ffd918e2dad7f",
       "version_major": 2,
       "version_minor": 0
      },
      "text/plain": [
       "Canvas(toolbar=Toolbar(toolitems=[('Home', 'Reset original view', 'home', 'home'), ('Back', 'Back to previous …"
      ]
     },
     "metadata": {},
     "output_type": "display_data"
    },
    {
     "data": {
      "text/plain": [
       "[<matplotlib.lines.Line2D at 0x7f7c06eaad10>,\n",
       " <matplotlib.lines.Line2D at 0x7f7c06eaadd0>,\n",
       " <matplotlib.lines.Line2D at 0x7f7c06eaae90>,\n",
       " <matplotlib.lines.Line2D at 0x7f7c06eaaf50>,\n",
       " <matplotlib.lines.Line2D at 0x7f7c06eb4050>,\n",
       " <matplotlib.lines.Line2D at 0x7f7c06eb4150>,\n",
       " <matplotlib.lines.Line2D at 0x7f7c06eb4210>,\n",
       " <matplotlib.lines.Line2D at 0x7f7c06eb42d0>,\n",
       " <matplotlib.lines.Line2D at 0x7f7c06eb4390>,\n",
       " <matplotlib.lines.Line2D at 0x7f7c06eb4110>,\n",
       " <matplotlib.lines.Line2D at 0x7f7c06eb44d0>,\n",
       " <matplotlib.lines.Line2D at 0x7f7c06eb4590>,\n",
       " <matplotlib.lines.Line2D at 0x7f7c06eb4650>,\n",
       " <matplotlib.lines.Line2D at 0x7f7c06eb4710>,\n",
       " <matplotlib.lines.Line2D at 0x7f7c06eb47d0>,\n",
       " <matplotlib.lines.Line2D at 0x7f7c06eb4890>,\n",
       " <matplotlib.lines.Line2D at 0x7f7c06eb4950>,\n",
       " <matplotlib.lines.Line2D at 0x7f7c06eb4a10>]"
      ]
     },
     "execution_count": 37,
     "metadata": {},
     "output_type": "execute_result"
    }
   ],
   "source": [
    "\n",
    "no = 0.784\n",
    "npt = 512\n",
    "\n",
    "np2 = 512\n",
    "no2 = 0.511\n",
    "\n",
    "pts2 = np.linspace(0,np2*no2,np2) - np2/2*no2\n",
    "pts = np.linspace(0,npt*no,npt) - npt/2*no\n",
    "\n",
    "p2 = np.zeros_like(phantom.fs)\n",
    "for ii in range(phantom.fs.shape[0]):\n",
    "    p2[ii] = np.interp(pts2,pts,phantom.fs[ii])\n",
    "\n",
    "plt.figure()\n",
    "plt.plot(pts,phantom.fs.T)\n",
    "plt.plot(pts2,p2.T)"
   ]
  },
  {
   "cell_type": "code",
   "execution_count": 28,
   "metadata": {},
   "outputs": [
    {
     "name": "stdout",
     "output_type": "stream",
     "text": [
      "Populating the interactive namespace from numpy and matplotlib\n"
     ]
    }
   ],
   "source": [
    "%pylab widget"
   ]
  },
  {
   "cell_type": "code",
   "execution_count": 39,
   "metadata": {},
   "outputs": [
    {
     "data": {
      "text/plain": [
       "2"
      ]
     },
     "execution_count": 39,
     "metadata": {},
     "output_type": "execute_result"
    }
   ],
   "source": [
    "len(p2.shape)"
   ]
  },
  {
   "cell_type": "code",
   "execution_count": 40,
   "metadata": {},
   "outputs": [
    {
     "data": {
      "text/plain": [
       "0.784"
      ]
     },
     "execution_count": 40,
     "metadata": {},
     "output_type": "execute_result"
    }
   ],
   "source": [
    "kernel.pitch"
   ]
  },
  {
   "cell_type": "code",
   "execution_count": null,
   "metadata": {},
   "outputs": [],
   "source": []
  }
 ],
 "metadata": {
  "kernelspec": {
   "display_name": "Python 3",
   "language": "python",
   "name": "python3"
  },
  "language_info": {
   "codemirror_mode": {
    "name": "ipython",
    "version": 3
   },
   "file_extension": ".py",
   "mimetype": "text/x-python",
   "name": "python",
   "nbconvert_exporter": "python",
   "pygments_lexer": "ipython3",
   "version": "3.7.6"
  },
  "presto": {
   "id": "110b0dee-a591-4d62-bdf8-8727cacef0b7"
  }
 },
 "nbformat": 4,
 "nbformat_minor": 4
}
