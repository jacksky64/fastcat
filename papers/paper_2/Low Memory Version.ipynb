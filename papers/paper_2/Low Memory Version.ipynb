{
 "cells": [
  {
   "cell_type": "code",
   "execution_count": 1,
   "metadata": {},
   "outputs": [
    {
     "name": "stdout",
     "output_type": "stream",
     "text": [
      "Populating the interactive namespace from numpy and matplotlib\n"
     ]
    }
   ],
   "source": [
    "%pylab widget\n",
    "%load_ext autoreload\n",
    "%autoreload 2\n",
    "%load_ext memory_profiler"
   ]
  },
  {
   "cell_type": "code",
   "execution_count": 2,
   "metadata": {},
   "outputs": [],
   "source": [
    "import fastcat as fc\n",
    "from glob import glob"
   ]
  },
  {
   "cell_type": "markdown",
   "metadata": {},
   "source": [
    "## First I'll look at the detector MTF"
   ]
  },
  {
   "cell_type": "markdown",
   "metadata": {},
   "source": [
    "### I'll load all of the kernels "
   ]
  },
  {
   "cell_type": "code",
   "execution_count": 3,
   "metadata": {},
   "outputs": [],
   "source": [
    "spectra = glob('../../fastcat/data/MV_spectra/*.txt')\n",
    "phantoms = ['XCAT','XCAT2','Catphan_515','Catphan_MTF']\n",
    "MV_detectors = glob('../../fastcat/data/Detectors/*')\n",
    "\n",
    "dispatcher={'Catphan_515':fc.Catphan_515,\n",
    "            'XCAT':fc.XCAT2,\n",
    "            'XCAT2':fc.XCAT,\n",
    "            'Catphan_MTF':fc.Catphan_MTF}"
   ]
  },
  {
   "cell_type": "code",
   "execution_count": 4,
   "metadata": {},
   "outputs": [
    {
     "name": "stdout",
     "output_type": "stream",
     "text": [
      "Calculation:  1 / 50\n",
      "Calculation:  2 / 50\n",
      "Calculation:  3 / 50\n",
      "Calculation:  4 / 50\n",
      "Calculation:  5 / 50\n",
      "Calculation:  6 / 50\n",
      "Calculation:  7 / 50\n",
      "Calculation:  8 / 50\n",
      "Calculation:  9 / 50\n",
      "Calculation:  10 / 50\n",
      "Calculation:  11 / 50\n",
      "Calculation:  12 / 50\n",
      "Calculation:  13 / 50\n",
      "Calculation:  14 / 50\n",
      "Calculation:  15 / 50\n",
      "Calculation:  16 / 50\n",
      "Calculation:  17 / 50\n",
      "Calculation:  18 / 50\n",
      "Calculation:  19 / 50\n",
      "Calculation:  20 / 50\n",
      "Calculation:  21 / 50\n",
      "Calculation:  22 / 50\n",
      "Calculation:  23 / 50\n",
      "Calculation:  24 / 50\n",
      "Calculation:  25 / 50\n",
      "Calculation:  26 / 50\n",
      "Calculation:  27 / 50\n",
      "Calculation:  28 / 50\n",
      "Calculation:  29 / 50\n",
      "Calculation:  30 / 50\n",
      "Calculation:  31 / 50\n",
      "Calculation:  32 / 50\n",
      "Calculation:  33 / 50\n",
      "Calculation:  34 / 50\n",
      "Calculation:  35 / 50\n",
      "Calculation:  36 / 50\n",
      "Calculation:  37 / 50\n",
      "Calculation:  38 / 50\n",
      "Calculation:  39 / 50\n",
      "Calculation:  40 / 50\n",
      "Calculation:  41 / 50\n",
      "Calculation:  42 / 50\n",
      "Calculation:  43 / 50\n",
      "Calculation:  44 / 50\n",
      "Calculation:  45 / 50\n",
      "Calculation:  46 / 50\n",
      "Calculation:  47 / 50\n",
      "Calculation:  48 / 50\n",
      "Calculation:  49 / 50\n",
      "Calculation:  50 / 50\n"
     ]
    }
   ],
   "source": [
    "s0 = fc.calculate_spectrum(120, 12, 3, 50)\n",
    "\n",
    "xx, yy = s0.get_points()"
   ]
  },
  {
   "cell_type": "code",
   "execution_count": 7,
   "metadata": {},
   "outputs": [
    {
     "data": {
      "application/vnd.jupyter.widget-view+json": {
       "model_id": "ffa025c0df8d4474905e9e751a33b395",
       "version_major": 2,
       "version_minor": 0
      },
      "text/plain": [
       "Canvas(toolbar=Toolbar(toolitems=[('Home', 'Reset original view', 'home', 'home'), ('Back', 'Back to previous …"
      ]
     },
     "metadata": {},
     "output_type": "display_data"
    },
    {
     "name": "stdout",
     "output_type": "stream",
     "text": [
      "../../fastcat/data/MV_spectra/Al_spectrum_6.txt ../../fastcat/data/Detectors/CWO-392-micrometer\n",
      "This is kV\n",
      "[2021-07-30 16:04:18,923] {simulate.py:214} INFO - Initializing filter bowtie_real\n",
      "[2021-07-30 16:04:18,923] {simulate.py:219} INFO - Loading attenuations from xcat_phan_mandible_480\n",
      "[2021-07-30 16:04:18,948] {simulate.py:383} INFO -    Scatter is filtered by bowtie\n",
      "[2021-07-30 16:04:18,962] {simulate.py:463} INFO -     Interp scatter 512 to 512 pixels\n",
      "[2021-07-30 16:04:18,962] {simulate.py:463} INFO -     Interp scatter 512 to 512 pixels\n",
      "[2021-07-30 16:04:19,392] {simulate.py:534} INFO - Loading attenuations is on\n",
      "[2021-07-30 16:04:19,393] {simulate.py:536} INFO - Running Simulations\n",
      "[2021-07-30 16:04:19,393] {simulate.py:540} INFO -     1.0 mm focal spot added\n",
      "[2021-07-30 16:04:19,394] {simulate.py:565} INFO -     Simulating 10 keV\n",
      "[2021-07-30 16:04:24,257] {simulate.py:565} INFO -     Simulating 20 keV\n",
      "[2021-07-30 16:04:28,987] {simulate.py:565} INFO -     Simulating 30 keV\n",
      "[2021-07-30 16:04:35,047] {simulate.py:565} INFO -     Simulating 40 keV\n",
      "[2021-07-30 16:04:41,518] {simulate.py:565} INFO -     Simulating 50 keV\n",
      "[2021-07-30 16:04:48,336] {simulate.py:565} INFO -     Simulating 60 keV\n",
      "[2021-07-30 16:04:55,442] {simulate.py:565} INFO -     Simulating 70 keV\n",
      "[2021-07-30 16:05:02,185] {simulate.py:565} INFO -     Simulating 80 keV\n",
      "[2021-07-30 16:05:09,716] {simulate.py:565} INFO -     Simulating 90 keV\n",
      "[2021-07-30 16:05:17,375] {simulate.py:565} INFO -     Simulating 100 keV\n",
      "[2021-07-30 16:05:24,290] {simulate.py:763} INFO - Weighting simulations\n",
      "[2021-07-30 16:05:24,291] {simulate.py:841} INFO -     Added noise 327.3873569753775 times reference\n",
      "../../fastcat/data/MV_spectra/Al_spectrum_6.txt ../../fastcat/data/Detectors/CsI-784-micro_thin\n",
      "This is kV\n",
      "19\n",
      "[2021-07-30 16:05:28,458] {simulate.py:214} INFO - Initializing filter bowtie_real\n",
      "[2021-07-30 16:05:28,459] {simulate.py:219} INFO - Loading attenuations from xcat_phan_mandible_480\n",
      "[2021-07-30 16:05:28,474] {simulate.py:383} INFO -    Scatter is filtered by bowtie\n",
      "[2021-07-30 16:05:28,490] {simulate.py:463} INFO -     Interp scatter 512 to 512 pixels\n",
      "[2021-07-30 16:05:28,491] {simulate.py:463} INFO -     Interp scatter 512 to 512 pixels\n",
      "[2021-07-30 16:05:28,656] {simulate.py:534} INFO - Loading attenuations is on\n",
      "[2021-07-30 16:05:28,656] {simulate.py:536} INFO - Running Simulations\n",
      "[2021-07-30 16:05:28,657] {simulate.py:540} INFO -     1.0 mm focal spot added\n",
      "[2021-07-30 16:05:28,657] {simulate.py:565} INFO -     Simulating 10 keV\n",
      "[2021-07-30 16:05:33,911] {simulate.py:565} INFO -     Simulating 20 keV\n",
      "[2021-07-30 16:05:37,840] {simulate.py:565} INFO -     Simulating 30 keV\n",
      "[2021-07-30 16:05:42,859] {simulate.py:565} INFO -     Simulating 40 keV\n",
      "[2021-07-30 16:05:48,991] {simulate.py:565} INFO -     Simulating 50 keV\n",
      "[2021-07-30 16:05:54,939] {simulate.py:565} INFO -     Simulating 60 keV\n",
      "[2021-07-30 16:06:01,065] {simulate.py:565} INFO -     Simulating 70 keV\n",
      "[2021-07-30 16:06:07,186] {simulate.py:565} INFO -     Simulating 80 keV\n",
      "[2021-07-30 16:06:13,202] {simulate.py:565} INFO -     Simulating 90 keV\n",
      "[2021-07-30 16:06:19,537] {simulate.py:565} INFO -     Simulating 100 keV\n",
      "[2021-07-30 16:06:25,894] {simulate.py:763} INFO - Weighting simulations\n",
      "[2021-07-30 16:06:25,895] {simulate.py:841} INFO -     Added noise 77.91237766572115 times reference\n",
      "../../fastcat/data/MV_spectra/Al_spectrum_6.txt ../../fastcat/data/Detectors/CuGOS-784-micrometer\n",
      "This is kV\n",
      "[2021-07-30 16:06:29,707] {simulate.py:214} INFO - Initializing filter bowtie_real\n",
      "[2021-07-30 16:06:29,708] {simulate.py:219} INFO - Loading attenuations from xcat_phan_mandible_480\n",
      "[2021-07-30 16:06:29,725] {simulate.py:383} INFO -    Scatter is filtered by bowtie\n",
      "[2021-07-30 16:06:29,726] {simulate.py:463} INFO -     Interp scatter 512 to 512 pixels\n",
      "[2021-07-30 16:06:29,727] {simulate.py:463} INFO -     Interp scatter 512 to 512 pixels\n",
      "[2021-07-30 16:06:29,849] {simulate.py:534} INFO - Loading attenuations is on\n",
      "[2021-07-30 16:06:29,850] {simulate.py:536} INFO - Running Simulations\n",
      "[2021-07-30 16:06:29,850] {simulate.py:540} INFO -     1.0 mm focal spot added\n",
      "[2021-07-30 16:06:29,851] {simulate.py:565} INFO -     Simulating 10 keV\n",
      "[2021-07-30 16:06:34,313] {simulate.py:565} INFO -     Simulating 20 keV\n",
      "[2021-07-30 16:06:38,221] {simulate.py:565} INFO -     Simulating 30 keV\n",
      "[2021-07-30 16:06:42,531] {simulate.py:565} INFO -     Simulating 40 keV\n",
      "[2021-07-30 16:06:47,359] {simulate.py:565} INFO -     Simulating 50 keV\n",
      "[2021-07-30 16:06:52,595] {simulate.py:565} INFO -     Simulating 60 keV\n",
      "[2021-07-30 16:06:59,055] {simulate.py:565} INFO -     Simulating 70 keV\n",
      "[2021-07-30 16:07:04,824] {simulate.py:565} INFO -     Simulating 80 keV\n",
      "[2021-07-30 16:07:10,421] {simulate.py:565} INFO -     Simulating 90 keV\n",
      "[2021-07-30 16:07:16,587] {simulate.py:565} INFO -     Simulating 100 keV\n",
      "[2021-07-30 16:07:22,436] {simulate.py:763} INFO - Weighting simulations\n",
      "[2021-07-30 16:07:22,436] {simulate.py:841} INFO -     Added noise 30.425515024000337 times reference\n",
      "../../fastcat/data/MV_spectra/C_spectrum_25.txt ../../fastcat/data/Detectors/CWO-392-micrometer\n",
      "This is MV\n",
      "[2021-07-30 16:07:26,652] {simulate.py:214} INFO - Initializing filter bowtie_real\n",
      "[2021-07-30 16:07:26,658] {simulate.py:219} INFO - Loading attenuations from xcat_phan_mandible_480\n",
      "[2021-07-30 16:07:26,692] {simulate.py:383} INFO -    Scatter is filtered by bowtie\n",
      "[2021-07-30 16:07:26,693] {simulate.py:463} INFO -     Interp scatter 512 to 512 pixels\n",
      "[2021-07-30 16:07:26,693] {simulate.py:463} INFO -     Interp scatter 512 to 512 pixels\n",
      "[2021-07-30 16:07:26,897] {simulate.py:534} INFO - Loading attenuations is on\n",
      "[2021-07-30 16:07:26,898] {simulate.py:536} INFO - Running Simulations\n",
      "[2021-07-30 16:07:26,898] {simulate.py:540} INFO -     1.0 mm focal spot added\n",
      "[2021-07-30 16:07:26,899] {simulate.py:565} INFO -     Simulating 10 keV\n",
      "[2021-07-30 16:07:31,240] {simulate.py:565} INFO -     Simulating 20 keV\n",
      "[2021-07-30 16:07:34,654] {simulate.py:565} INFO -     Simulating 30 keV\n",
      "[2021-07-30 16:07:39,486] {simulate.py:565} INFO -     Simulating 40 keV\n",
      "[2021-07-30 16:07:44,233] {simulate.py:565} INFO -     Simulating 50 keV\n",
      "[2021-07-30 16:07:49,827] {simulate.py:565} INFO -     Simulating 60 keV\n",
      "[2021-07-30 16:07:56,142] {simulate.py:565} INFO -     Simulating 70 keV\n",
      "[2021-07-30 16:08:02,391] {simulate.py:565} INFO -     Simulating 80 keV\n",
      "[2021-07-30 16:08:08,863] {simulate.py:565} INFO -     Simulating 90 keV\n",
      "[2021-07-30 16:08:15,238] {simulate.py:565} INFO -     Simulating 100 keV\n",
      "[2021-07-30 16:08:20,889] {simulate.py:565} INFO -     Simulating 300 keV\n",
      "[2021-07-30 16:08:26,565] {simulate.py:565} INFO -     Simulating 500 keV\n",
      "[2021-07-30 16:08:33,678] {simulate.py:565} INFO -     Simulating 700 keV\n",
      "[2021-07-30 16:08:39,082] {simulate.py:565} INFO -     Simulating 900 keV\n",
      "[2021-07-30 16:08:45,292] {simulate.py:565} INFO -     Simulating 1000 keV\n",
      "[2021-07-30 16:08:51,868] {simulate.py:565} INFO -     Simulating 2000 keV\n",
      "[2021-07-30 16:08:58,016] {simulate.py:763} INFO - Weighting simulations\n",
      "[2021-07-30 16:08:58,016] {simulate.py:841} INFO -     Added noise 104.12687700460069 times reference\n",
      "../../fastcat/data/MV_spectra/C_spectrum_25.txt ../../fastcat/data/Detectors/CsI-784-micro_thin\n",
      "This is MV\n",
      "19\n",
      "[2021-07-30 16:09:01,800] {simulate.py:214} INFO - Initializing filter bowtie_real\n",
      "[2021-07-30 16:09:01,804] {simulate.py:219} INFO - Loading attenuations from xcat_phan_mandible_480\n",
      "[2021-07-30 16:09:01,823] {simulate.py:383} INFO -    Scatter is filtered by bowtie\n",
      "[2021-07-30 16:09:01,827] {simulate.py:463} INFO -     Interp scatter 512 to 512 pixels\n",
      "[2021-07-30 16:09:01,831] {simulate.py:463} INFO -     Interp scatter 512 to 512 pixels\n",
      "[2021-07-30 16:09:01,974] {simulate.py:534} INFO - Loading attenuations is on\n",
      "[2021-07-30 16:09:01,978] {simulate.py:536} INFO - Running Simulations\n",
      "[2021-07-30 16:09:01,982] {simulate.py:540} INFO -     1.0 mm focal spot added\n",
      "[2021-07-30 16:09:01,986] {simulate.py:565} INFO -     Simulating 10 keV\n",
      "[2021-07-30 16:09:06,719] {simulate.py:565} INFO -     Simulating 20 keV\n",
      "[2021-07-30 16:09:10,543] {simulate.py:565} INFO -     Simulating 30 keV\n",
      "[2021-07-30 16:09:15,873] {simulate.py:565} INFO -     Simulating 40 keV\n",
      "[2021-07-30 16:09:21,477] {simulate.py:565} INFO -     Simulating 50 keV\n",
      "[2021-07-30 16:09:27,347] {simulate.py:565} INFO -     Simulating 60 keV\n",
      "[2021-07-30 16:09:34,653] {simulate.py:565} INFO -     Simulating 70 keV\n",
      "[2021-07-30 16:09:40,382] {simulate.py:565} INFO -     Simulating 80 keV\n",
      "[2021-07-30 16:09:46,245] {simulate.py:565} INFO -     Simulating 90 keV\n",
      "[2021-07-30 16:09:52,483] {simulate.py:565} INFO -     Simulating 100 keV\n",
      "[2021-07-30 16:09:57,719] {simulate.py:565} INFO -     Simulating 300 keV\n",
      "[2021-07-30 16:10:03,787] {simulate.py:565} INFO -     Simulating 500 keV\n",
      "[2021-07-30 16:10:08,851] {simulate.py:565} INFO -     Simulating 700 keV\n",
      "[2021-07-30 16:10:13,532] {simulate.py:565} INFO -     Simulating 900 keV\n",
      "[2021-07-30 16:10:17,472] {simulate.py:565} INFO -     Simulating 1000 keV\n",
      "[2021-07-30 16:10:22,578] {simulate.py:565} INFO -     Simulating 2000 keV\n",
      "[2021-07-30 16:10:26,616] {simulate.py:763} INFO - Weighting simulations\n",
      "[2021-07-30 16:10:26,616] {simulate.py:841} INFO -     Added noise 11.1060363653543 times reference\n",
      "../../fastcat/data/MV_spectra/C_spectrum_25.txt ../../fastcat/data/Detectors/CuGOS-784-micrometer\n",
      "This is MV\n",
      "[2021-07-30 16:10:30,330] {simulate.py:214} INFO - Initializing filter bowtie_real\n",
      "[2021-07-30 16:10:30,345] {simulate.py:219} INFO - Loading attenuations from xcat_phan_mandible_480\n",
      "[2021-07-30 16:10:30,377] {simulate.py:383} INFO -    Scatter is filtered by bowtie\n",
      "[2021-07-30 16:10:30,382] {simulate.py:463} INFO -     Interp scatter 512 to 512 pixels\n",
      "[2021-07-30 16:10:30,386] {simulate.py:463} INFO -     Interp scatter 512 to 512 pixels\n",
      "[2021-07-30 16:10:30,533] {simulate.py:534} INFO - Loading attenuations is on\n",
      "[2021-07-30 16:10:30,545] {simulate.py:536} INFO - Running Simulations\n",
      "[2021-07-30 16:10:30,553] {simulate.py:540} INFO -     1.0 mm focal spot added\n",
      "[2021-07-30 16:10:30,555] {simulate.py:565} INFO -     Simulating 10 keV\n",
      "[2021-07-30 16:10:34,838] {simulate.py:565} INFO -     Simulating 20 keV\n",
      "[2021-07-30 16:10:38,242] {simulate.py:565} INFO -     Simulating 30 keV\n",
      "[2021-07-30 16:10:42,690] {simulate.py:565} INFO -     Simulating 40 keV\n",
      "[2021-07-30 16:10:46,485] {simulate.py:565} INFO -     Simulating 50 keV\n",
      "[2021-07-30 16:10:51,649] {simulate.py:565} INFO -     Simulating 60 keV\n",
      "[2021-07-30 16:10:58,076] {simulate.py:565} INFO -     Simulating 70 keV\n",
      "[2021-07-30 16:11:03,703] {simulate.py:565} INFO -     Simulating 80 keV\n",
      "[2021-07-30 16:11:09,255] {simulate.py:565} INFO -     Simulating 90 keV\n",
      "[2021-07-30 16:11:15,986] {simulate.py:565} INFO -     Simulating 100 keV\n",
      "[2021-07-30 16:11:21,176] {simulate.py:565} INFO -     Simulating 300 keV\n",
      "[2021-07-30 16:11:26,974] {simulate.py:565} INFO -     Simulating 500 keV\n",
      "[2021-07-30 16:11:33,970] {simulate.py:565} INFO -     Simulating 700 keV\n",
      "[2021-07-30 16:11:39,531] {simulate.py:565} INFO -     Simulating 900 keV\n",
      "[2021-07-30 16:11:44,486] {simulate.py:565} INFO -     Simulating 1000 keV\n",
      "[2021-07-30 16:11:49,888] {simulate.py:565} INFO -     Simulating 2000 keV\n",
      "[2021-07-30 16:11:54,410] {simulate.py:763} INFO - Weighting simulations\n",
      "[2021-07-30 16:11:54,411] {simulate.py:841} INFO -     Added noise 6.85499297682353 times reference\n"
     ]
    }
   ],
   "source": [
    "s = fc.Spectrum()\n",
    "\n",
    "contrasts = []\n",
    "mtfs = []\n",
    "label = []\n",
    "\n",
    "fig, axs = plt.subplots(3, 1)\n",
    "\n",
    "nviews = 480\n",
    "file_name = 'xcat_phan_mandible_480'\n",
    "save = False\n",
    "co = False\n",
    "\n",
    "for phan in phantoms[:1]:\n",
    "    phantom = fc.XCAT_mandible()\n",
    "    for jj in [1,2]:\n",
    "        for kk in [1,9,-1]:\n",
    "            spectrum = sorted(spectra)[jj]\n",
    "            det = sorted(MV_detectors)[kk]\n",
    "            print(spectrum, det)\n",
    "            if jj == 1:\n",
    "                s.x = xx\n",
    "                s.y = yy\n",
    "                print('This is kV')\n",
    "            else:\n",
    "                s.load(spectrum.split('/')[-1].split('.')[0])\n",
    "                print('This is MV')\n",
    "\n",
    "            \n",
    "            s.attenuate(0.4,fc.get_mu(z=13)) #was 0.3\n",
    "            s.attenuate(0.089,fc.get_mu(z=22))\n",
    "            kernel = fc.Detector(s, det.split('/')[-1].split('.')[0])\n",
    "            kernel.add_focal_spot(1.0)\n",
    "            angles = np.linspace(0,np.pi*2,nviews,endpoint=False)#480)        \n",
    "            if not save:\n",
    "                if jj == 1:\n",
    "                    phantom.return_projs(kernel,s,angles,det_on=True,convolve_on= co,mgy = 7/nviews,ASG=False,bowtie=True,filter='bowtie_real',load_proj=True,proj_file=file_name)\n",
    "                else:\n",
    "                    phantom.return_projs(kernel,s,angles,det_on=True,convolve_on= co,mgy = 7/nviews,ASG=False,bowtie=True,filter='bowtie_real',load_proj=True,proj_file=file_name)\n",
    "            else:\n",
    "                if jj == 1:\n",
    "                    phantom.return_projs(kernel,s,angles,det_on=True,convolve_on= co,mgy = 7/nviews,ASG=False,bowtie=True,filter='bowtie_real',save_proj=True,proj_file=file_name)\n",
    "                else:\n",
    "                    phantom.return_projs(kernel,s,angles,det_on=True,convolve_on= co,mgy = 7/nviews,ASG=False,bowtie=True,filter='bowtie_real',save_proj=True,proj_file=file_name)\n",
    "            \n",
    "#                 phantom.return_projs(kernel,s,angles,det_on=True,mgy = 7/nviews,convolve_on=False,save_proj=True,proj_file=file_name)\n",
    "            \n",
    "            phantom.reconstruct('FDK')\n",
    "#             phantom.reconstruct('CGLS')\n",
    "            contrasts.append(phantom.img.T)\n",
    "            label.append([phan,spectrum,det])\n",
    "            \n",
    "#             break\n",
    "#         break\n",
    "#     break"
   ]
  },
  {
   "cell_type": "code",
   "execution_count": 8,
   "metadata": {},
   "outputs": [],
   "source": [
    "np.save('revised_weights_version',contrasts)"
   ]
  },
  {
   "cell_type": "code",
   "execution_count": 148,
   "metadata": {},
   "outputs": [
    {
     "data": {
      "application/vnd.jupyter.widget-view+json": {
       "model_id": "cfe3b1946f514b2b9869c2b5ef302436",
       "version_major": 2,
       "version_minor": 0
      },
      "text/plain": [
       "Canvas(toolbar=Toolbar(toolitems=[('Home', 'Reset original view', 'home', 'home'), ('Back', 'Back to previous …"
      ]
     },
     "metadata": {},
     "output_type": "display_data"
    },
    {
     "data": {
      "text/plain": [
       "(-0.5, 9.5, 239.5, -0.5)"
      ]
     },
     "execution_count": 148,
     "metadata": {},
     "output_type": "execute_result"
    }
   ],
   "source": [
    "plt.figure()\n",
    "sc = phantom.img\n",
    "\n",
    "mm = np.nanmean(sc[401:446,307:350,7])\n",
    "mm_air = np.nanmean(sc[400:,400:,7])\n",
    "\n",
    "im_HU = (sc[:,:,15] - mm)/(mm_air - mm)*-1000\n",
    "\n",
    "#     plt.imshow(sc[:,:,15],cmap='gray',vmax=mm+3*ss,vmin=mm-3*ss)\n",
    "plt.imshow(np.rot90(im_HU,3)[150:390,:],cmap='bone',vmax=240,vmin=-160)\n",
    "plt.axis('off')"
   ]
  },
  {
   "cell_type": "code",
   "execution_count": 14,
   "metadata": {},
   "outputs": [],
   "source": [
    "np.save('head_scans_no_noise',contrasts)"
   ]
  },
  {
   "cell_type": "code",
   "execution_count": 28,
   "metadata": {},
   "outputs": [],
   "source": [
    "contrasts = np.load('/home/xcite/fastcat_extra_files/data_second_paper/revised_weights_version.npy')"
   ]
  },
  {
   "cell_type": "code",
   "execution_count": 12,
   "metadata": {},
   "outputs": [
    {
     "data": {
      "application/vnd.jupyter.widget-view+json": {
       "model_id": "93187181837f4e76accd8ba2ad1b2c3d",
       "version_major": 2,
       "version_minor": 0
      },
      "text/plain": [
       "Canvas(toolbar=Toolbar(toolitems=[('Home', 'Reset original view', 'home', 'home'), ('Back', 'Back to previous …"
      ]
     },
     "metadata": {},
     "output_type": "display_data"
    }
   ],
   "source": [
    "plt.figure(figsize=[8,4],dpi=300)\n",
    "import matplotlib.patches as mpatches\n",
    "# scans = glob('XCATs/scan*')\n",
    "index = 7\n",
    "\n",
    "small_titles = ['120 kVp CWO','120 kVp CsI','120 kVp GOS','2.5 MV CWO','2.5 MV CsI','2.5 MV GOS']\n",
    "alph = ['(a)','(b)','(c)','(d)','(e)','(f)']\n",
    "\n",
    "h,w = np.rot90(contrasts[0][:,:,index],3)[270:-310,320:-320].shape\n",
    "\n",
    "X, Y = np.ogrid[:h, :w]\n",
    "x, y = h//2,w//2\n",
    "\n",
    "center = [x,y]\n",
    "\n",
    "dist = np.sqrt((X - center[0])**2 + (Y-center[1])**2)\n",
    "\n",
    "values = [0.00708,0.008,0.01]\n",
    "labs = ['Body','Muscle','Skull']\n",
    "\n",
    "for ii, sc in enumerate(contrasts):\n",
    "    \n",
    "    plt.subplot(2,3,ii+1)\n",
    "    plt.title(small_titles[ii])#scan.split('/')[-1].split('.')[0].split('scan_')[1])\n",
    "\n",
    "    if ii == 10:\n",
    "        im = np.fliplr(np.load('../../XCAT_phantom/head_gt.npy'))\n",
    "        plt.imshow(im,cmap='bone')\n",
    "        plt.text(-70,-20,alph[ii],color='cornflowerblue',fontsize=14)\n",
    "        \n",
    "        ax = plt.gca()\n",
    "        axins = ax.inset_axes([0.65, -0.25, 0.7, 0.9])\n",
    "\n",
    "        im2 = axins.imshow(im,cmap='bone')\n",
    "\n",
    "        x1, x2, y1, y2 = 60, 140, 110, 80\n",
    "        axins.set_xlim(x1, x2)\n",
    "        axins.set_ylim(y1, y2)\n",
    "        axins.set_xticklabels('')\n",
    "\n",
    "        axins.set_xticks([])\n",
    "        axins.set_yticks([])\n",
    "\n",
    "        ax.indicate_inset_zoom(axins,ec='red')\n",
    "        plt.axis('off')\n",
    "        \n",
    "        # get the colors of the values, according to the \n",
    "        # colormap used by imshow\n",
    "        colors = [ im2.cmap(im2.norm(value)) for value in values]\n",
    "        # create a patch (proxy artist) for every color \n",
    "        patches = [ mpatches.Patch(color=colors[i], label=\"{l}\".format(l=labs[i]) ) for i in range(len(values)) ]\n",
    "        # put those patched as legend-handles into the legend\n",
    "        plt.legend(handles=patches, bbox_to_anchor=(0.65, 1), loc=2, borderaxespad=0. )\n",
    "    else:\n",
    "    \n",
    "        mm = np.mean(sc[385:410,610:640,index])\n",
    "        mm_air = np.mean(sc[-200:,-200:,index])\n",
    "\n",
    "        im_HU = (sc[:,:,index] - mm)/(mm_air - mm)*-1000\n",
    "\n",
    "        im = np.rot90(im_HU,3)[270:-310,320:-320]\n",
    "\n",
    "        im[dist > 245] = -1000\n",
    "\n",
    "    #     plt.imshow(sc[:,:,15],cmap='gray',vmax=mm+3*ss,vmin=mm-3*ss)\n",
    "        plt.imshow(im,cmap='bone',vmax=400,vmin=-400)\n",
    "        plt.text(-70,-20,alph[ii],color='cornflowerblue',fontsize=14)\n",
    "        plt.axis('off')\n",
    "\n",
    "        ax = plt.gca()\n",
    "\n",
    "        axins = ax.inset_axes([0.65, -0.25, 0.7, 0.9])\n",
    "\n",
    "        axins.imshow(im,cmap='bone',vmax=800,vmin=-0)\n",
    "        # ax2.set_xlim([-0.05,0.2])\n",
    "        # ax2.set_ylim([0.05,0.11])\n",
    "        # sub region of the original image\n",
    "        x1, x2, y1, y2 = 60, 140, 110, 80\n",
    "        axins.set_xlim(x1, x2)\n",
    "        axins.set_ylim(y1, y2)\n",
    "        axins.set_xticklabels('')\n",
    "\n",
    "        axins.set_xticks([])\n",
    "        axins.set_yticks([])\n",
    "\n",
    "        ax.indicate_inset_zoom(axins,ec='red')\n",
    "\n",
    "plt.tight_layout()\n",
    "# plt.savefig('/home/xcite/fastcat_paper_2_tmi/figures/XCATs.pdf') #"
   ]
  },
  {
   "cell_type": "markdown",
   "metadata": {},
   "source": [
    "# Mandible"
   ]
  },
  {
   "cell_type": "code",
   "execution_count": 34,
   "metadata": {},
   "outputs": [
    {
     "data": {
      "application/vnd.jupyter.widget-view+json": {
       "model_id": "f56431bc23cb4835b84d41e591ac285e",
       "version_major": 2,
       "version_minor": 0
      },
      "text/plain": [
       "Canvas(toolbar=Toolbar(toolitems=[('Home', 'Reset original view', 'home', 'home'), ('Back', 'Back to previous …"
      ]
     },
     "metadata": {},
     "output_type": "display_data"
    },
    {
     "name": "stdout",
     "output_type": "stream",
     "text": [
      "[2021-07-30 16:22:22,904] {backend_pdf.py:763} DEBUG - Assigning font /b'F1' = '/home/xcite/anaconda3/lib/python3.7/site-packages/matplotlib/mpl-data/fonts/ttf/DejaVuSans.ttf'\n",
      "[2021-07-30 16:22:23,059] {backend_pdf.py:805} DEBUG - Embedding font /home/xcite/anaconda3/lib/python3.7/site-packages/matplotlib/mpl-data/fonts/ttf/DejaVuSans.ttf.\n",
      "[2021-07-30 16:22:23,072] {backend_pdf.py:812} DEBUG - Writing TrueType font.\n"
     ]
    }
   ],
   "source": [
    "plt.figure(figsize=[8,4],dpi=300)\n",
    "import matplotlib.patches as mpatches\n",
    "# scans = glob('XCATs/scan*')\n",
    "index = 3\n",
    "\n",
    "small_titles = ['120 kVp CWO','120 kVp CsI','120 kVp GOS','2.5 MV CWO','2.5 MV CsI','2.5 MV GOS']\n",
    "alph = ['(a)','(b)','(c)','(d)','(e)','(f)']\n",
    "\n",
    "h,w = np.rot90(contrasts[0][:,:,index],3)[270:-310,320:-320].shape\n",
    "\n",
    "X, Y = np.ogrid[:h, :w]\n",
    "x, y = h//2,w//2\n",
    "\n",
    "center = [x,y]\n",
    "\n",
    "dist = np.sqrt((X - center[0])**2 + (Y-center[1])**2)\n",
    "\n",
    "values = [0.00708,0.008,0.01]\n",
    "labs = ['Body','Muscle','Skull']\n",
    "\n",
    "for ii, sc in enumerate(contrasts):\n",
    "    \n",
    "    plt.subplot(2,3,ii+1)\n",
    "    plt.title(small_titles[ii])#scan.split('/')[-1].split('.')[0].split('scan_')[1])\n",
    "\n",
    "    if ii == 10:\n",
    "        im = np.fliplr(np.load('../../XCAT_phantom/head_gt.npy'))\n",
    "        plt.imshow(im,cmap='bone')\n",
    "        plt.text(-70,-20,alph[ii],color='cornflowerblue',fontsize=14)\n",
    "        \n",
    "        ax = plt.gca()\n",
    "        axins = ax.inset_axes([0.65, -0.25, 0.7, 0.9])\n",
    "\n",
    "        im2 = axins.imshow(im,cmap='bone')\n",
    "\n",
    "        x1, x2, y1, y2 = 60, 140, 110, 80\n",
    "        axins.set_xlim(x1, x2)\n",
    "        axins.set_ylim(y1, y2)\n",
    "        axins.set_xticklabels('')\n",
    "\n",
    "        axins.set_xticks([])\n",
    "        axins.set_yticks([])\n",
    "\n",
    "        ax.indicate_inset_zoom(axins,ec='red')\n",
    "        plt.axis('off')\n",
    "        \n",
    "        # get the colors of the values, according to the \n",
    "        # colormap used by imshow\n",
    "        colors = [ im2.cmap(im2.norm(value)) for value in values]\n",
    "        # create a patch (proxy artist) for every color \n",
    "        patches = [ mpatches.Patch(color=colors[i], label=\"{l}\".format(l=labs[i]) ) for i in range(len(values)) ]\n",
    "        # put those patched as legend-handles into the legend\n",
    "        plt.legend(handles=patches, bbox_to_anchor=(0.65, 1), loc=2, borderaxespad=0. )\n",
    "    else:\n",
    "    \n",
    "        mm = np.mean(sc[485:510,570:600,index])\n",
    "        mm_air = np.mean(sc[-200:,-200:,index])\n",
    "\n",
    "        im_HU = (sc[:,:,index] - mm)/(mm_air - mm)*-1000\n",
    "\n",
    "        im = np.rot90(im_HU,3)[270:-310,320:-320]\n",
    "\n",
    "        im[dist > 245] = -1000\n",
    "\n",
    "    #     plt.imshow(sc[:,:,15],cmap='gray',vmax=mm+3*ss,vmin=mm-3*ss)\n",
    "        plt.imshow(im,cmap='bone',vmax=400,vmin=-400)\n",
    "        plt.text(-70,-20,alph[ii],color='cornflowerblue',fontsize=14)\n",
    "        plt.axis('off')\n",
    "\n",
    "        ax = plt.gca()\n",
    "\n",
    "        axins = ax.inset_axes([0.65, -0.25, 0.7, 0.9])\n",
    "\n",
    "        axins.imshow(im,cmap='bone',vmax=800,vmin=-0)\n",
    "        # ax2.set_xlim([-0.05,0.2])\n",
    "        # ax2.set_ylim([0.05,0.11])\n",
    "        # sub region of the original image\n",
    "        x1, x2, y1, y2 = 100, 180, 140, 95\n",
    "        axins.set_xlim(x1, x2)\n",
    "        axins.set_ylim(y1, y2)\n",
    "        axins.set_xticklabels('')\n",
    "\n",
    "        axins.set_xticks([])\n",
    "        axins.set_yticks([])\n",
    "\n",
    "        ax.indicate_inset_zoom(axins,ec='red')\n",
    "\n",
    "plt.tight_layout()\n",
    "plt.savefig('/home/xcite/fastcat_paper_2_tmi/figures/XCATs_mandible.pdf') #"
   ]
  },
  {
   "cell_type": "code",
   "execution_count": 16,
   "metadata": {},
   "outputs": [
    {
     "data": {
      "application/vnd.jupyter.widget-view+json": {
       "model_id": "aa9abc8b0bb842bf9cd13d96ca257df2",
       "version_major": 2,
       "version_minor": 0
      },
      "text/plain": [
       "Canvas(toolbar=Toolbar(toolitems=[('Home', 'Reset original view', 'home', 'home'), ('Back', 'Back to previous …"
      ]
     },
     "metadata": {},
     "output_type": "display_data"
    },
    {
     "data": {
      "text/plain": [
       "<matplotlib.image.AxesImage at 0x7f85bc506690>"
      ]
     },
     "execution_count": 16,
     "metadata": {},
     "output_type": "execute_result"
    }
   ],
   "source": [
    "plt.figure()\n",
    "plt.imshow(sc[:,:,3])"
   ]
  },
  {
   "cell_type": "code",
   "execution_count": 26,
   "metadata": {},
   "outputs": [
    {
     "data": {
      "application/vnd.jupyter.widget-view+json": {
       "model_id": "3ca2e37151c840bea3610f06584c39b3",
       "version_major": 2,
       "version_minor": 0
      },
      "text/plain": [
       "Canvas(toolbar=Toolbar(toolitems=[('Home', 'Reset original view', 'home', 'home'), ('Back', 'Back to previous …"
      ]
     },
     "metadata": {},
     "output_type": "display_data"
    }
   ],
   "source": [
    "plt.figure()#dpi=300)\n",
    "\n",
    "im = np.fliplr(np.load('../../../XCAT_phantom/head_gt.npy'))\n",
    "\n",
    "im[ im == 0 ] = 0.01\n",
    "plt.imshow(im,cmap='bone',vmin=0.005,vmax = 0.0083)\n",
    "# plt.text(-70,-20,alph[ii],color='cornflowerblue',fontsize=14)\n",
    "\n",
    "ax = plt.gca()\n",
    "axins = ax.inset_axes([0.65, -0.25, 0.7, 0.9])\n",
    "\n",
    "im2 = axins.imshow(im,cmap='bone',vmin=0.005,vmax = 0.0083)\n",
    "# ax2.set_xlim([-0.05,0.2])\n",
    "# ax2.set_ylim([0.05,0.11])\n",
    "# sub region of the original image\n",
    "x1, x2, y1, y2 = 60, 140, 110, 80\n",
    "axins.set_xlim(x1, x2)\n",
    "axins.set_ylim(y1, y2)\n",
    "axins.set_xticklabels('')\n",
    "\n",
    "axins.set_xticks([])\n",
    "axins.set_yticks([])\n",
    "\n",
    "ax.indicate_inset_zoom(axins,ec='red')\n",
    "plt.axis('off')\n",
    "\n",
    "values = [0.00229,0.00708,0.00769,0.008,0.008,0.0081,0.01]\n",
    "labs = ['Air','Body','Lymph','Brain','Muscle','Eye Lens','Skull']\n",
    "# get the colors of the values, according to the \n",
    "# colormap used by imshow\n",
    "colors = [ im2.cmap(im2.norm(value)) for value in values]\n",
    "# create a patch (proxy artist) for every color \n",
    "patches = [ mpatches.Patch(color=colors[i], label=\"{l}\".format(l=labs[i]) ) for i in range(len(values)) ]\n",
    "# put those patched as legend-handles into the legend\n",
    "plt.legend(handles=patches, bbox_to_anchor=(0.95, 1), loc=2, borderaxespad=0. )\n",
    "plt.savefig('/home/xcite/fastcat_paper_2_tmi/figures/XCAT_1.pdf') #"
   ]
  },
  {
   "cell_type": "code",
   "execution_count": 1,
   "metadata": {},
   "outputs": [
    {
     "name": "stdout",
     "output_type": "stream",
     "text": [
      "Populating the interactive namespace from numpy and matplotlib\n"
     ]
    }
   ],
   "source": [
    "%pylab widget"
   ]
  },
  {
   "cell_type": "code",
   "execution_count": 20,
   "metadata": {},
   "outputs": [
    {
     "data": {
      "application/vnd.jupyter.widget-view+json": {
       "model_id": "0cc89619ac364c62869e0f0b04c068f8",
       "version_major": 2,
       "version_minor": 0
      },
      "text/plain": [
       "Canvas(toolbar=Toolbar(toolitems=[('Home', 'Reset original view', 'home', 'home'), ('Back', 'Back to previous …"
      ]
     },
     "metadata": {},
     "output_type": "display_data"
    },
    {
     "ename": "TypeError",
     "evalue": "list indices must be integers or slices, not list",
     "output_type": "error",
     "traceback": [
      "\u001b[0;31m---------------------------------------------------------------------------\u001b[0m",
      "\u001b[0;31mTypeError\u001b[0m                                 Traceback (most recent call last)",
      "\u001b[0;32m<ipython-input-20-1a3ad825b6bc>\u001b[0m in \u001b[0;36m<module>\u001b[0;34m\u001b[0m\n\u001b[1;32m     19\u001b[0m \u001b[0mlabs\u001b[0m \u001b[0;34m=\u001b[0m \u001b[0;34m[\u001b[0m\u001b[0;34m'Body'\u001b[0m\u001b[0;34m,\u001b[0m\u001b[0;34m'Muscle'\u001b[0m\u001b[0;34m,\u001b[0m\u001b[0;34m'Skull'\u001b[0m\u001b[0;34m]\u001b[0m\u001b[0;34m\u001b[0m\u001b[0;34m\u001b[0m\u001b[0m\n\u001b[1;32m     20\u001b[0m \u001b[0;34m\u001b[0m\u001b[0m\n\u001b[0;32m---> 21\u001b[0;31m \u001b[0;32mfor\u001b[0m \u001b[0mii\u001b[0m\u001b[0;34m,\u001b[0m \u001b[0msc\u001b[0m \u001b[0;32min\u001b[0m \u001b[0menumerate\u001b[0m\u001b[0;34m(\u001b[0m\u001b[0mcontrasts\u001b[0m\u001b[0;34m[\u001b[0m\u001b[0;34m[\u001b[0m\u001b[0;36m1\u001b[0m\u001b[0;34m,\u001b[0m\u001b[0;36m4\u001b[0m\u001b[0;34m]\u001b[0m\u001b[0;34m]\u001b[0m\u001b[0;34m)\u001b[0m\u001b[0;34m:\u001b[0m\u001b[0;34m\u001b[0m\u001b[0;34m\u001b[0m\u001b[0m\n\u001b[0m\u001b[1;32m     22\u001b[0m \u001b[0;34m\u001b[0m\u001b[0m\n\u001b[1;32m     23\u001b[0m     \u001b[0mplt\u001b[0m\u001b[0;34m.\u001b[0m\u001b[0msubplot\u001b[0m\u001b[0;34m(\u001b[0m\u001b[0;36m1\u001b[0m\u001b[0;34m,\u001b[0m\u001b[0;36m2\u001b[0m\u001b[0;34m,\u001b[0m\u001b[0mii\u001b[0m\u001b[0;34m+\u001b[0m\u001b[0;36m1\u001b[0m\u001b[0;34m)\u001b[0m\u001b[0;34m\u001b[0m\u001b[0;34m\u001b[0m\u001b[0m\n",
      "\u001b[0;31mTypeError\u001b[0m: list indices must be integers or slices, not list"
     ]
    }
   ],
   "source": [
    "plt.figure(figsize=[8,4],dpi=300)\n",
    "import matplotlib.patches as mpatches\n",
    "# scans = glob('XCATs/scan*')\n",
    "index = 7\n",
    "\n",
    "small_titles = ['120 kVp CsI','2.5 MV CsI']\n",
    "alph = ['(a)','(b)','(c)','(d)','(e)','(f)']\n",
    "\n",
    "h,w = np.rot90(contrasts[0][:,:,index],3)[270:-310,320:-320].shape\n",
    "\n",
    "X, Y = np.ogrid[:h, :w]\n",
    "x, y = h//2,w//2\n",
    "\n",
    "center = [x,y]\n",
    "\n",
    "dist = np.sqrt((X - center[0])**2 + (Y-center[1])**2)\n",
    "\n",
    "values = [0.00708,0.008,0.01]\n",
    "labs = ['Body','Muscle','Skull']\n",
    "\n",
    "for ii, sc in enumerate(contrasts[[1,4]]):\n",
    "    \n",
    "    plt.subplot(1,2,ii+1)\n",
    "    plt.title(small_titles[ii])#scan.split('/')[-1].split('.')[0].split('scan_')[1])\n",
    "\n",
    "    if ii == 10:\n",
    "        im = np.fliplr(np.load('../../XCAT_phantom/head_gt.npy'))\n",
    "        plt.imshow(im,cmap='bone')\n",
    "        plt.text(-70,-20,alph[ii],color='cornflowerblue',fontsize=14)\n",
    "        \n",
    "        ax = plt.gca()\n",
    "        axins = ax.inset_axes([0.65, -0.25, 0.7, 0.9])\n",
    "\n",
    "        im2 = axins.imshow(im,cmap='bone')\n",
    "        # ax2.set_xlim([-0.05,0.2])\n",
    "        # ax2.set_ylim([0.05,0.11])\n",
    "        # sub region of the original image\n",
    "        x1, x2, y1, y2 = 60, 140, 110, 80\n",
    "        axins.set_xlim(x1, x2)\n",
    "        axins.set_ylim(y1, y2)\n",
    "        axins.set_xticklabels('')\n",
    "\n",
    "        axins.set_xticks([])\n",
    "        axins.set_yticks([])\n",
    "\n",
    "        ax.indicate_inset_zoom(axins,ec='red')\n",
    "        plt.axis('off')\n",
    "        \n",
    "        # get the colors of the values, according to the \n",
    "        # colormap used by imshow\n",
    "        colors = [ im2.cmap(im2.norm(value)) for value in values]\n",
    "        # create a patch (proxy artist) for every color \n",
    "        patches = [ mpatches.Patch(color=colors[i], label=\"{l}\".format(l=labs[i]) ) for i in range(len(values)) ]\n",
    "        # put those patched as legend-handles into the legend\n",
    "        plt.legend(handles=patches, bbox_to_anchor=(0.65, 1), loc=2, borderaxespad=0. )\n",
    "    else:\n",
    "    \n",
    "        mm = np.mean(sc[385:410,610:640,index])\n",
    "        mm_air = np.mean(sc[-200:,-200:,index])\n",
    "\n",
    "        im_HU = (sc[:,:,index] - mm)/(mm_air - mm)*-1000\n",
    "\n",
    "        im = np.rot90(im_HU,3)[270:-310,320:-320]\n",
    "\n",
    "        im[dist > 245] = -1000\n",
    "\n",
    "    #     plt.imshow(sc[:,:,15],cmap='gray',vmax=mm+3*ss,vmin=mm-3*ss)\n",
    "        plt.imshow(im,cmap='bone',vmax=400,vmin=-400)\n",
    "        plt.text(-70,-20,alph[ii],color='w',fontsize=14)\n",
    "        plt.axis('off')\n",
    "\n",
    "#         ax = plt.gca()\n",
    "\n",
    "#         axins = ax.inset_axes([0.65, -0.25, 0.7, 0.9])\n",
    "\n",
    "#         axins.imshow(im,cmap='bone',vmax=1000,vmin=-100)\n",
    "#         # ax2.set_xlim([-0.05,0.2])\n",
    "#         # ax2.set_ylim([0.05,0.11])\n",
    "#         # sub region of the original image\n",
    "#         x1, x2, y1, y2 = 60, 140, 110, 80\n",
    "#         axins.set_xlim(x1, x2)\n",
    "#         axins.set_ylim(y1, y2)\n",
    "#         axins.set_xticklabels('')\n",
    "\n",
    "#         axins.set_xticks([])\n",
    "#         axins.set_yticks([])\n",
    "\n",
    "#         ax.indicate_inset_zoom(axins,ec='red')\n",
    "\n",
    "plt.tight_layout()\n",
    "# plt.savefig('/home/xcite/fastcat_paper/figures/XCATs.pdf') #"
   ]
  },
  {
   "cell_type": "code",
   "execution_count": 138,
   "metadata": {},
   "outputs": [
    {
     "data": {
      "text/plain": [
       "<matplotlib.image.AxesImage at 0x7f47d0e3b710>"
      ]
     },
     "execution_count": 138,
     "metadata": {},
     "output_type": "execute_result"
    }
   ],
   "source": [
    "plt.imshow(sc[401:446,307:350,15],cmap='gray')"
   ]
  },
  {
   "cell_type": "code",
   "execution_count": 32,
   "metadata": {},
   "outputs": [
    {
     "ename": "ValueError",
     "evalue": "The dataset has a value outside the range [0,255]\nAt position 0 in the list of arrays.",
     "output_type": "error",
     "traceback": [
      "\u001b[0;31m---------------------------------------------------------------------------\u001b[0m",
      "\u001b[0;31mValueError\u001b[0m                                Traceback (most recent call last)",
      "\u001b[0;32m~/anaconda3/lib/python3.7/site-packages/array2gif/core.py\u001b[0m in \u001b[0;36mcheck_dataset\u001b[0;34m(dataset)\u001b[0m\n\u001b[1;32m     68\u001b[0m                 \u001b[0mcheck_dataset_shape\u001b[0m\u001b[0;34m(\u001b[0m\u001b[0md\u001b[0m\u001b[0;34m)\u001b[0m\u001b[0;34m\u001b[0m\u001b[0;34m\u001b[0m\u001b[0m\n\u001b[0;32m---> 69\u001b[0;31m                 \u001b[0mcheck_dataset_range\u001b[0m\u001b[0;34m(\u001b[0m\u001b[0md\u001b[0m\u001b[0;34m)\u001b[0m\u001b[0;34m\u001b[0m\u001b[0;34m\u001b[0m\u001b[0m\n\u001b[0m\u001b[1;32m     70\u001b[0m             \u001b[0;32mexcept\u001b[0m \u001b[0mValueError\u001b[0m \u001b[0;32mas\u001b[0m \u001b[0merr\u001b[0m\u001b[0;34m:\u001b[0m\u001b[0;34m\u001b[0m\u001b[0;34m\u001b[0m\u001b[0m\n",
      "\u001b[0;32m~/anaconda3/lib/python3.7/site-packages/array2gif/core.py\u001b[0m in \u001b[0;36mcheck_dataset_range\u001b[0;34m(dataset)\u001b[0m\n\u001b[1;32m     40\u001b[0m     \u001b[0;32mif\u001b[0m \u001b[0mdataset\u001b[0m\u001b[0;34m.\u001b[0m\u001b[0mmax\u001b[0m\u001b[0;34m(\u001b[0m\u001b[0;34m)\u001b[0m \u001b[0;34m>\u001b[0m \u001b[0;36m255\u001b[0m \u001b[0;32mor\u001b[0m \u001b[0mdataset\u001b[0m\u001b[0;34m.\u001b[0m\u001b[0mmin\u001b[0m\u001b[0;34m(\u001b[0m\u001b[0;34m)\u001b[0m \u001b[0;34m<\u001b[0m \u001b[0;36m0\u001b[0m\u001b[0;34m:\u001b[0m\u001b[0;34m\u001b[0m\u001b[0;34m\u001b[0m\u001b[0m\n\u001b[0;32m---> 41\u001b[0;31m         \u001b[0;32mraise\u001b[0m \u001b[0mValueError\u001b[0m\u001b[0;34m(\u001b[0m\u001b[0;34m'The dataset has a value outside the range [0,255]'\u001b[0m\u001b[0;34m)\u001b[0m\u001b[0;34m\u001b[0m\u001b[0;34m\u001b[0m\u001b[0m\n\u001b[0m\u001b[1;32m     42\u001b[0m \u001b[0;34m\u001b[0m\u001b[0m\n",
      "\u001b[0;31mValueError\u001b[0m: The dataset has a value outside the range [0,255]",
      "\nDuring handling of the above exception, another exception occurred:\n",
      "\u001b[0;31mValueError\u001b[0m                                Traceback (most recent call last)",
      "\u001b[0;32m~/anaconda3/lib/python3.7/site-packages/array2gif/core.py\u001b[0m in \u001b[0;36mwrite_gif\u001b[0;34m(dataset, filename, fps)\u001b[0m\n\u001b[1;32m    408\u001b[0m     \u001b[0;32mtry\u001b[0m\u001b[0;34m:\u001b[0m\u001b[0;34m\u001b[0m\u001b[0;34m\u001b[0m\u001b[0m\n\u001b[0;32m--> 409\u001b[0;31m         \u001b[0mcheck_dataset\u001b[0m\u001b[0;34m(\u001b[0m\u001b[0mdataset\u001b[0m\u001b[0;34m)\u001b[0m\u001b[0;34m\u001b[0m\u001b[0;34m\u001b[0m\u001b[0m\n\u001b[0m\u001b[1;32m    410\u001b[0m     \u001b[0;32mexcept\u001b[0m \u001b[0mValueError\u001b[0m \u001b[0;32mas\u001b[0m \u001b[0me\u001b[0m\u001b[0;34m:\u001b[0m\u001b[0;34m\u001b[0m\u001b[0;34m\u001b[0m\u001b[0m\n",
      "\u001b[0;32m~/anaconda3/lib/python3.7/site-packages/array2gif/core.py\u001b[0m in \u001b[0;36mcheck_dataset\u001b[0;34m(dataset)\u001b[0m\n\u001b[1;32m     72\u001b[0m                     \u001b[0;34m'{}\\nAt position {} in the list of arrays.'\u001b[0m\u001b[0;34m\u001b[0m\u001b[0;34m\u001b[0m\u001b[0m\n\u001b[0;32m---> 73\u001b[0;31m                     \u001b[0;34m.\u001b[0m\u001b[0mformat\u001b[0m\u001b[0;34m(\u001b[0m\u001b[0merr\u001b[0m\u001b[0;34m,\u001b[0m \u001b[0mi\u001b[0m\u001b[0;34m)\u001b[0m\u001b[0;34m\u001b[0m\u001b[0;34m\u001b[0m\u001b[0m\n\u001b[0m\u001b[1;32m     74\u001b[0m                 )\n",
      "\u001b[0;31mValueError\u001b[0m: The dataset has a value outside the range [0,255]\nAt position 0 in the list of arrays.",
      "\nDuring handling of the above exception, another exception occurred:\n",
      "\u001b[0;31mValueError\u001b[0m                                Traceback (most recent call last)",
      "\u001b[0;32m~/anaconda3/lib/python3.7/site-packages/array2gif/core.py\u001b[0m in \u001b[0;36mcheck_dataset\u001b[0;34m(dataset)\u001b[0m\n\u001b[1;32m     68\u001b[0m                 \u001b[0mcheck_dataset_shape\u001b[0m\u001b[0;34m(\u001b[0m\u001b[0md\u001b[0m\u001b[0;34m)\u001b[0m\u001b[0;34m\u001b[0m\u001b[0;34m\u001b[0m\u001b[0m\n\u001b[0;32m---> 69\u001b[0;31m                 \u001b[0mcheck_dataset_range\u001b[0m\u001b[0;34m(\u001b[0m\u001b[0md\u001b[0m\u001b[0;34m)\u001b[0m\u001b[0;34m\u001b[0m\u001b[0;34m\u001b[0m\u001b[0m\n\u001b[0m\u001b[1;32m     70\u001b[0m             \u001b[0;32mexcept\u001b[0m \u001b[0mValueError\u001b[0m \u001b[0;32mas\u001b[0m \u001b[0merr\u001b[0m\u001b[0;34m:\u001b[0m\u001b[0;34m\u001b[0m\u001b[0;34m\u001b[0m\u001b[0m\n",
      "\u001b[0;32m~/anaconda3/lib/python3.7/site-packages/array2gif/core.py\u001b[0m in \u001b[0;36mcheck_dataset_range\u001b[0;34m(dataset)\u001b[0m\n\u001b[1;32m     40\u001b[0m     \u001b[0;32mif\u001b[0m \u001b[0mdataset\u001b[0m\u001b[0;34m.\u001b[0m\u001b[0mmax\u001b[0m\u001b[0;34m(\u001b[0m\u001b[0;34m)\u001b[0m \u001b[0;34m>\u001b[0m \u001b[0;36m255\u001b[0m \u001b[0;32mor\u001b[0m \u001b[0mdataset\u001b[0m\u001b[0;34m.\u001b[0m\u001b[0mmin\u001b[0m\u001b[0;34m(\u001b[0m\u001b[0;34m)\u001b[0m \u001b[0;34m<\u001b[0m \u001b[0;36m0\u001b[0m\u001b[0;34m:\u001b[0m\u001b[0;34m\u001b[0m\u001b[0;34m\u001b[0m\u001b[0m\n\u001b[0;32m---> 41\u001b[0;31m         \u001b[0;32mraise\u001b[0m \u001b[0mValueError\u001b[0m\u001b[0;34m(\u001b[0m\u001b[0;34m'The dataset has a value outside the range [0,255]'\u001b[0m\u001b[0;34m)\u001b[0m\u001b[0;34m\u001b[0m\u001b[0;34m\u001b[0m\u001b[0m\n\u001b[0m\u001b[1;32m     42\u001b[0m \u001b[0;34m\u001b[0m\u001b[0m\n",
      "\u001b[0;31mValueError\u001b[0m: The dataset has a value outside the range [0,255]",
      "\nDuring handling of the above exception, another exception occurred:\n",
      "\u001b[0;31mValueError\u001b[0m                                Traceback (most recent call last)",
      "\u001b[0;32m<ipython-input-32-d9fa9bedd64e>\u001b[0m in \u001b[0;36m<module>\u001b[0;34m\u001b[0m\n\u001b[1;32m      5\u001b[0m     \u001b[0mimages\u001b[0m\u001b[0;34m.\u001b[0m\u001b[0mappend\u001b[0m\u001b[0;34m(\u001b[0m\u001b[0mnp\u001b[0m\u001b[0;34m.\u001b[0m\u001b[0mtile\u001b[0m\u001b[0;34m(\u001b[0m\u001b[0mphantom\u001b[0m\u001b[0;34m.\u001b[0m\u001b[0mimg\u001b[0m\u001b[0;34m.\u001b[0m\u001b[0mT\u001b[0m\u001b[0;34m[\u001b[0m\u001b[0;34m:\u001b[0m\u001b[0;34m,\u001b[0m\u001b[0;34m:\u001b[0m\u001b[0;34m,\u001b[0m\u001b[0mii\u001b[0m\u001b[0;34m]\u001b[0m\u001b[0;34m/\u001b[0m\u001b[0mnp\u001b[0m\u001b[0;34m.\u001b[0m\u001b[0mmax\u001b[0m\u001b[0;34m(\u001b[0m\u001b[0mphantom\u001b[0m\u001b[0;34m.\u001b[0m\u001b[0mimg\u001b[0m\u001b[0;34m.\u001b[0m\u001b[0mT\u001b[0m\u001b[0;34m[\u001b[0m\u001b[0;34m:\u001b[0m\u001b[0;34m,\u001b[0m\u001b[0;34m:\u001b[0m\u001b[0;34m,\u001b[0m\u001b[0mii\u001b[0m\u001b[0;34m]\u001b[0m\u001b[0;34m)\u001b[0m\u001b[0;34m*\u001b[0m\u001b[0;36m254\u001b[0m\u001b[0;34m,\u001b[0m\u001b[0;34m[\u001b[0m\u001b[0;36m3\u001b[0m\u001b[0;34m,\u001b[0m\u001b[0;36m1\u001b[0m\u001b[0;34m,\u001b[0m\u001b[0;36m1\u001b[0m\u001b[0;34m]\u001b[0m\u001b[0;34m)\u001b[0m\u001b[0;34m)\u001b[0m\u001b[0;34m\u001b[0m\u001b[0;34m\u001b[0m\u001b[0m\n\u001b[1;32m      6\u001b[0m \u001b[0;34m\u001b[0m\u001b[0m\n\u001b[0;32m----> 7\u001b[0;31m \u001b[0mwrite_gif\u001b[0m\u001b[0;34m(\u001b[0m\u001b[0mimages\u001b[0m\u001b[0;34m,\u001b[0m \u001b[0;34m'rgbbgr.gif'\u001b[0m\u001b[0;34m,\u001b[0m \u001b[0mfps\u001b[0m\u001b[0;34m=\u001b[0m\u001b[0;36m5\u001b[0m\u001b[0;34m)\u001b[0m\u001b[0;34m\u001b[0m\u001b[0;34m\u001b[0m\u001b[0m\n\u001b[0m",
      "\u001b[0;32m~/anaconda3/lib/python3.7/site-packages/array2gif/core.py\u001b[0m in \u001b[0;36mwrite_gif\u001b[0;34m(dataset, filename, fps)\u001b[0m\n\u001b[1;32m    410\u001b[0m     \u001b[0;32mexcept\u001b[0m \u001b[0mValueError\u001b[0m \u001b[0;32mas\u001b[0m \u001b[0me\u001b[0m\u001b[0;34m:\u001b[0m\u001b[0;34m\u001b[0m\u001b[0;34m\u001b[0m\u001b[0m\n\u001b[1;32m    411\u001b[0m         \u001b[0mdataset\u001b[0m \u001b[0;34m=\u001b[0m \u001b[0mtry_fix_dataset\u001b[0m\u001b[0;34m(\u001b[0m\u001b[0mdataset\u001b[0m\u001b[0;34m)\u001b[0m\u001b[0;34m\u001b[0m\u001b[0;34m\u001b[0m\u001b[0m\n\u001b[0;32m--> 412\u001b[0;31m         \u001b[0mcheck_dataset\u001b[0m\u001b[0;34m(\u001b[0m\u001b[0mdataset\u001b[0m\u001b[0;34m)\u001b[0m\u001b[0;34m\u001b[0m\u001b[0;34m\u001b[0m\u001b[0m\n\u001b[0m\u001b[1;32m    413\u001b[0m     \u001b[0mdelay_time\u001b[0m \u001b[0;34m=\u001b[0m \u001b[0;36m100\u001b[0m \u001b[0;34m//\u001b[0m \u001b[0mint\u001b[0m\u001b[0;34m(\u001b[0m\u001b[0mfps\u001b[0m\u001b[0;34m)\u001b[0m\u001b[0;34m\u001b[0m\u001b[0;34m\u001b[0m\u001b[0m\n\u001b[1;32m    414\u001b[0m \u001b[0;34m\u001b[0m\u001b[0m\n",
      "\u001b[0;32m~/anaconda3/lib/python3.7/site-packages/array2gif/core.py\u001b[0m in \u001b[0;36mcheck_dataset\u001b[0;34m(dataset)\u001b[0m\n\u001b[1;32m     71\u001b[0m                 raise ValueError(\n\u001b[1;32m     72\u001b[0m                     \u001b[0;34m'{}\\nAt position {} in the list of arrays.'\u001b[0m\u001b[0;34m\u001b[0m\u001b[0;34m\u001b[0m\u001b[0m\n\u001b[0;32m---> 73\u001b[0;31m                     \u001b[0;34m.\u001b[0m\u001b[0mformat\u001b[0m\u001b[0;34m(\u001b[0m\u001b[0merr\u001b[0m\u001b[0;34m,\u001b[0m \u001b[0mi\u001b[0m\u001b[0;34m)\u001b[0m\u001b[0;34m\u001b[0m\u001b[0;34m\u001b[0m\u001b[0m\n\u001b[0m\u001b[1;32m     74\u001b[0m                 )\n\u001b[1;32m     75\u001b[0m \u001b[0;34m\u001b[0m\u001b[0m\n",
      "\u001b[0;31mValueError\u001b[0m: The dataset has a value outside the range [0,255]\nAt position 0 in the list of arrays."
     ]
    }
   ],
   "source": [
    "from array2gif import write_gif\n",
    "\n",
    "images = []\n",
    "for ii in range(phantom.img.T.shape[2]):\n",
    "    images.append(np.tile(phantom.img.T[:,:,ii]/np.max(phantom.img.T[:,:,ii])*254,[3,1,1]))\n",
    "\n",
    "write_gif(images, 'rgbbgr.gif', fps=5)"
   ]
  },
  {
   "cell_type": "code",
   "execution_count": 33,
   "metadata": {},
   "outputs": [
    {
     "ename": "NameError",
     "evalue": "name 'image' is not defined",
     "output_type": "error",
     "traceback": [
      "\u001b[0;31m---------------------------------------------------------------------------\u001b[0m",
      "\u001b[0;31mNameError\u001b[0m                                 Traceback (most recent call last)",
      "\u001b[0;32m<ipython-input-33-28935580a9bb>\u001b[0m in \u001b[0;36m<module>\u001b[0;34m\u001b[0m\n\u001b[0;32m----> 1\u001b[0;31m \u001b[0mimage\u001b[0m\u001b[0;34m\u001b[0m\u001b[0;34m\u001b[0m\u001b[0m\n\u001b[0m",
      "\u001b[0;31mNameError\u001b[0m: name 'image' is not defined"
     ]
    }
   ],
   "source": [
    "image"
   ]
  },
  {
   "cell_type": "code",
   "execution_count": null,
   "metadata": {},
   "outputs": [],
   "source": [
    "images = []\n",
    "for ii in range(phantom.img.T.shape[2]):\n",
    "    images.append(imageio.imread(filename))\n",
    "imageio.mimsave('/path/to/movie.gif', images)"
   ]
  },
  {
   "cell_type": "code",
   "execution_count": 19,
   "metadata": {},
   "outputs": [
    {
     "name": "stderr",
     "output_type": "stream",
     "text": [
      "/home/xcite/anaconda3/lib/python3.7/site-packages/numpy/core/_asarray.py:136: VisibleDeprecationWarning: Creating an ndarray from ragged nested sequences (which is a list-or-tuple of lists-or-tuples-or ndarrays with different lengths or shapes) is deprecated. If you meant to do this, you must specify 'dtype=object' when creating the ndarray\n",
      "  return array(a, dtype, copy=False, order=order, subok=True)\n"
     ]
    }
   ],
   "source": [
    "np.save('contrasts',contrasts)\n",
    "np.save('mtfs',mtfs)\n",
    "np.save('labels',label)"
   ]
  },
  {
   "cell_type": "code",
   "execution_count": 1,
   "metadata": {},
   "outputs": [
    {
     "name": "stdout",
     "output_type": "stream",
     "text": [
      "Populating the interactive namespace from numpy and matplotlib\n"
     ]
    }
   ],
   "source": [
    "%pylab widget\n",
    "%load_ext autoreload\n",
    "%autoreload 2"
   ]
  },
  {
   "cell_type": "code",
   "execution_count": 2,
   "metadata": {},
   "outputs": [],
   "source": [
    "import fastcat as fc\n",
    "from glob import glob"
   ]
  },
  {
   "cell_type": "markdown",
   "metadata": {},
   "source": [
    "## Paper Figure Multipanel with insets"
   ]
  },
  {
   "cell_type": "markdown",
   "metadata": {},
   "source": [
    "### I'll load all of the kernels "
   ]
  },
  {
   "cell_type": "code",
   "execution_count": 4,
   "metadata": {},
   "outputs": [],
   "source": [
    "spectra = glob('../../fastcat/data/MV_spectra/*.txt')\n",
    "phantoms = ['XCAT','XCAT2','Catphan_404','Catphan_MTF']\n",
    "MV_detectors = glob('../../fastcat/data/Detectors/*')\n",
    "\n",
    "dispatcher={'Catphan_404':fc.Catphan_404,\n",
    "            'XCAT':fc.XCAT2,\n",
    "            'XCAT2':fc.XCAT,\n",
    "            'Catphan_MTF':fc.Catphan_MTF}"
   ]
  },
  {
   "cell_type": "code",
   "execution_count": 19,
   "metadata": {},
   "outputs": [
    {
     "data": {
      "text/plain": [
       "['../../fastcat/data/MV_spectra/Al_spectrum_25.txt',\n",
       " '../../fastcat/data/MV_spectra/Al_spectrum_6.txt',\n",
       " '../../fastcat/data/MV_spectra/C_spectrum_25.txt',\n",
       " '../../fastcat/data/MV_spectra/C_spectrum_6.txt',\n",
       " '../../fastcat/data/MV_spectra/Varian_truebeam.txt',\n",
       " '../../fastcat/data/MV_spectra/Varian_truebeam_phasespace.txt',\n",
       " '../../fastcat/data/MV_spectra/W_spectrum_25.txt',\n",
       " '../../fastcat/data/MV_spectra/W_spectrum_6.txt']"
      ]
     },
     "execution_count": 19,
     "metadata": {},
     "output_type": "execute_result"
    }
   ],
   "source": [
    "sorted(spectra)"
   ]
  },
  {
   "cell_type": "code",
   "execution_count": 76,
   "metadata": {},
   "outputs": [
    {
     "name": "stdout",
     "output_type": "stream",
     "text": [
      "Calculation:  1 / 50\n",
      "Calculation:  2 / 50\n",
      "Calculation:  3 / 50\n",
      "Calculation:  4 / 50\n",
      "Calculation:  5 / 50\n",
      "Calculation:  6 / 50\n",
      "Calculation:  7 / 50\n",
      "Calculation:  8 / 50\n",
      "Calculation:  9 / 50\n",
      "Calculation:  10 / 50\n",
      "Calculation:  11 / 50\n",
      "Calculation:  12 / 50\n",
      "Calculation:  13 / 50\n",
      "Calculation:  14 / 50\n",
      "Calculation:  15 / 50\n",
      "Calculation:  16 / 50\n",
      "Calculation:  17 / 50\n",
      "Calculation:  18 / 50\n",
      "Calculation:  19 / 50\n",
      "Calculation:  20 / 50\n",
      "Calculation:  21 / 50\n",
      "Calculation:  22 / 50\n",
      "Calculation:  23 / 50\n",
      "Calculation:  24 / 50\n",
      "Calculation:  25 / 50\n",
      "Calculation:  26 / 50\n",
      "Calculation:  27 / 50\n",
      "Calculation:  28 / 50\n",
      "Calculation:  29 / 50\n",
      "Calculation:  30 / 50\n",
      "Calculation:  31 / 50\n",
      "Calculation:  32 / 50\n",
      "Calculation:  33 / 50\n",
      "Calculation:  34 / 50\n",
      "Calculation:  35 / 50\n",
      "Calculation:  36 / 50\n",
      "Calculation:  37 / 50\n",
      "Calculation:  38 / 50\n",
      "Calculation:  39 / 50\n",
      "Calculation:  40 / 50\n",
      "Calculation:  41 / 50\n",
      "Calculation:  42 / 50\n",
      "Calculation:  43 / 50\n",
      "Calculation:  44 / 50\n",
      "Calculation:  45 / 50\n",
      "Calculation:  46 / 50\n",
      "Calculation:  47 / 50\n",
      "Calculation:  48 / 50\n",
      "Calculation:  49 / 50\n",
      "Calculation:  50 / 50\n"
     ]
    }
   ],
   "source": [
    "s = fc.Spectrum()\n",
    "\n",
    "\n",
    "\n",
    "# fig, axs = plt.subplots(3, 1)\n",
    "\n",
    "nviews = 480#20 #45 \n",
    "phan_map = [\n",
    "    'air',\n",
    "    'water',\n",
    "    'Spongiosa_Bone_ICRP',\n",
    "    'G4_LUNG_MD_ICRP',\n",
    "    'G4_BONE_COMPACT_ICRU',\n",
    "    'G4_ADIPOSE_TISSUE_ICRP'\n",
    "    ]\n",
    "\n",
    "s0 = fc.calculate_spectrum(120, 12, 3, 50)\n",
    "\n",
    "xx, yy = s0.get_points()"
   ]
  },
  {
   "cell_type": "code",
   "execution_count": 136,
   "metadata": {},
   "outputs": [
    {
     "name": "stdout",
     "output_type": "stream",
     "text": [
      "[2021-07-29 10:09:29,718] {phantoms.py:650} INFO - Phantom is low resolution\n",
      "This is kV\n",
      "[2021-07-29 10:09:29,753] {simulate.py:214} INFO - Initializing filter bowtie_real\n",
      "[2021-07-29 10:09:29,754] {simulate.py:219} INFO - Loading attenuations from 404_phan_480_160mm_fe\n",
      "[2021-07-29 10:09:29,770] {simulate.py:415} INFO - Initializing ASG\n",
      "[2021-07-29 10:09:29,787] {simulate.py:534} INFO - Loading attenuations is on\n",
      "[2021-07-29 10:09:29,788] {simulate.py:536} INFO - Running Simulations\n",
      "[2021-07-29 10:09:29,788] {simulate.py:565} INFO -     Simulating 10 keV\n",
      "[2021-07-29 10:09:30,467] {simulate.py:565} INFO -     Simulating 20 keV\n",
      "[2021-07-29 10:09:31,148] {simulate.py:565} INFO -     Simulating 30 keV\n",
      "[2021-07-29 10:09:31,832] {simulate.py:565} INFO -     Simulating 40 keV\n",
      "[2021-07-29 10:09:32,767] {simulate.py:565} INFO -     Simulating 50 keV\n",
      "[2021-07-29 10:09:34,092] {simulate.py:565} INFO -     Simulating 60 keV\n",
      "[2021-07-29 10:09:35,473] {simulate.py:565} INFO -     Simulating 70 keV\n",
      "[2021-07-29 10:09:36,813] {simulate.py:565} INFO -     Simulating 80 keV\n",
      "[2021-07-29 10:09:38,152] {simulate.py:565} INFO -     Simulating 90 keV\n",
      "[2021-07-29 10:09:39,449] {simulate.py:565} INFO -     Simulating 100 keV\n",
      "[2021-07-29 10:09:40,774] {simulate.py:763} INFO - Weighting simulations\n",
      "[2021-07-29 10:09:40,774] {simulate.py:841} INFO -     Added noise 286.5437006383683 times reference\n",
      "This is kV\n",
      "[2021-07-29 10:09:41,837] {simulate.py:214} INFO - Initializing filter bowtie_real\n",
      "[2021-07-29 10:09:41,838] {simulate.py:219} INFO - Loading attenuations from 404_phan_480_160mm_fe\n",
      "[2021-07-29 10:09:41,850] {simulate.py:415} INFO - Initializing ASG\n",
      "[2021-07-29 10:09:41,865] {simulate.py:534} INFO - Loading attenuations is on\n",
      "[2021-07-29 10:09:41,865] {simulate.py:536} INFO - Running Simulations\n",
      "[2021-07-29 10:09:41,866] {simulate.py:565} INFO -     Simulating 10 keV\n",
      "[2021-07-29 10:09:42,530] {simulate.py:565} INFO -     Simulating 20 keV\n",
      "[2021-07-29 10:09:43,190] {simulate.py:565} INFO -     Simulating 30 keV\n",
      "[2021-07-29 10:09:43,859] {simulate.py:565} INFO -     Simulating 40 keV\n",
      "[2021-07-29 10:09:44,912] {simulate.py:565} INFO -     Simulating 50 keV\n",
      "[2021-07-29 10:09:46,289] {simulate.py:565} INFO -     Simulating 60 keV\n",
      "[2021-07-29 10:09:47,638] {simulate.py:565} INFO -     Simulating 70 keV\n",
      "[2021-07-29 10:09:48,938] {simulate.py:565} INFO -     Simulating 80 keV\n",
      "[2021-07-29 10:09:50,175] {simulate.py:565} INFO -     Simulating 90 keV\n",
      "[2021-07-29 10:09:51,371] {simulate.py:565} INFO -     Simulating 100 keV\n",
      "[2021-07-29 10:09:52,575] {simulate.py:763} INFO - Weighting simulations\n",
      "[2021-07-29 10:09:52,575] {simulate.py:841} INFO -     Added noise 68.1923127029886 times reference\n",
      "This is kV\n",
      "[2021-07-29 10:09:53,634] {simulate.py:214} INFO - Initializing filter bowtie_real\n",
      "[2021-07-29 10:09:53,634] {simulate.py:219} INFO - Loading attenuations from 404_phan_480_160mm_fe\n",
      "[2021-07-29 10:09:53,647] {simulate.py:415} INFO - Initializing ASG\n",
      "[2021-07-29 10:09:53,662] {simulate.py:534} INFO - Loading attenuations is on\n",
      "[2021-07-29 10:09:53,663] {simulate.py:536} INFO - Running Simulations\n",
      "[2021-07-29 10:09:53,663] {simulate.py:565} INFO -     Simulating 10 keV\n",
      "[2021-07-29 10:09:54,219] {simulate.py:565} INFO -     Simulating 20 keV\n",
      "[2021-07-29 10:09:54,709] {simulate.py:565} INFO -     Simulating 30 keV\n",
      "[2021-07-29 10:09:55,363] {simulate.py:565} INFO -     Simulating 40 keV\n",
      "[2021-07-29 10:09:56,039] {simulate.py:565} INFO -     Simulating 50 keV\n",
      "[2021-07-29 10:09:57,017] {simulate.py:565} INFO -     Simulating 60 keV\n",
      "[2021-07-29 10:09:58,392] {simulate.py:565} INFO -     Simulating 70 keV\n",
      "[2021-07-29 10:09:59,771] {simulate.py:565} INFO -     Simulating 80 keV\n",
      "[2021-07-29 10:10:01,139] {simulate.py:565} INFO -     Simulating 90 keV\n",
      "[2021-07-29 10:10:02,474] {simulate.py:565} INFO -     Simulating 100 keV\n",
      "[2021-07-29 10:10:03,822] {simulate.py:763} INFO - Weighting simulations\n",
      "[2021-07-29 10:10:03,822] {simulate.py:841} INFO -     Added noise 26.629738391091934 times reference\n",
      "This is MV\n",
      "../../fastcat/data/MV_spectra/C_spectrum_25.txt ../../fastcat/data/Detectors/CWO-392-micrometer\n",
      "[2021-07-29 10:10:04,880] {simulate.py:214} INFO - Initializing filter bowtie_real\n",
      "[2021-07-29 10:10:04,881] {simulate.py:219} INFO - Loading attenuations from 404_phan_480_160mm_fe\n",
      "[2021-07-29 10:10:04,907] {simulate.py:534} INFO - Loading attenuations is on\n",
      "[2021-07-29 10:10:04,907] {simulate.py:536} INFO - Running Simulations\n",
      "[2021-07-29 10:10:04,908] {simulate.py:565} INFO -     Simulating 10 keV\n",
      "[2021-07-29 10:10:05,584] {simulate.py:565} INFO -     Simulating 20 keV\n",
      "[2021-07-29 10:10:06,249] {simulate.py:565} INFO -     Simulating 30 keV\n",
      "[2021-07-29 10:10:06,913] {simulate.py:565} INFO -     Simulating 40 keV\n",
      "[2021-07-29 10:10:07,702] {simulate.py:565} INFO -     Simulating 50 keV\n",
      "[2021-07-29 10:10:08,712] {simulate.py:565} INFO -     Simulating 60 keV\n",
      "[2021-07-29 10:10:09,873] {simulate.py:565} INFO -     Simulating 70 keV\n",
      "[2021-07-29 10:10:11,133] {simulate.py:565} INFO -     Simulating 80 keV\n",
      "[2021-07-29 10:10:12,452] {simulate.py:565} INFO -     Simulating 90 keV\n",
      "[2021-07-29 10:10:13,784] {simulate.py:565} INFO -     Simulating 100 keV\n",
      "[2021-07-29 10:10:15,061] {simulate.py:565} INFO -     Simulating 300 keV\n",
      "[2021-07-29 10:10:16,307] {simulate.py:565} INFO -     Simulating 500 keV\n",
      "[2021-07-29 10:10:17,763] {simulate.py:565} INFO -     Simulating 700 keV\n",
      "[2021-07-29 10:10:19,422] {simulate.py:565} INFO -     Simulating 900 keV\n",
      "[2021-07-29 10:10:20,874] {simulate.py:565} INFO -     Simulating 1000 keV\n",
      "[2021-07-29 10:10:22,386] {simulate.py:565} INFO -     Simulating 2000 keV\n",
      "[2021-07-29 10:10:23,666] {simulate.py:763} INFO - Weighting simulations\n",
      "[2021-07-29 10:10:23,666] {simulate.py:841} INFO -     Added noise 62.61548441365296 times reference\n",
      "This is MV\n",
      "../../fastcat/data/MV_spectra/C_spectrum_25.txt ../../fastcat/data/Detectors/CsI-784-micro_thin\n",
      "[2021-07-29 10:10:24,816] {simulate.py:214} INFO - Initializing filter bowtie_real\n",
      "[2021-07-29 10:10:24,817] {simulate.py:219} INFO - Loading attenuations from 404_phan_480_160mm_fe\n",
      "[2021-07-29 10:10:24,843] {simulate.py:534} INFO - Loading attenuations is on\n",
      "[2021-07-29 10:10:24,844] {simulate.py:536} INFO - Running Simulations\n",
      "[2021-07-29 10:10:24,844] {simulate.py:565} INFO -     Simulating 10 keV\n",
      "[2021-07-29 10:10:25,519] {simulate.py:565} INFO -     Simulating 20 keV\n",
      "[2021-07-29 10:10:26,203] {simulate.py:565} INFO -     Simulating 30 keV\n",
      "[2021-07-29 10:10:26,914] {simulate.py:565} INFO -     Simulating 40 keV\n",
      "[2021-07-29 10:10:27,988] {simulate.py:565} INFO -     Simulating 50 keV\n",
      "[2021-07-29 10:10:29,359] {simulate.py:565} INFO -     Simulating 60 keV\n",
      "[2021-07-29 10:10:30,798] {simulate.py:565} INFO -     Simulating 70 keV\n",
      "[2021-07-29 10:10:32,169] {simulate.py:565} INFO -     Simulating 80 keV\n",
      "[2021-07-29 10:10:33,517] {simulate.py:565} INFO -     Simulating 90 keV\n",
      "[2021-07-29 10:10:34,821] {simulate.py:565} INFO -     Simulating 100 keV\n",
      "[2021-07-29 10:10:36,093] {simulate.py:565} INFO -     Simulating 300 keV\n",
      "[2021-07-29 10:10:37,377] {simulate.py:565} INFO -     Simulating 500 keV\n",
      "[2021-07-29 10:10:38,279] {simulate.py:565} INFO -     Simulating 700 keV\n",
      "[2021-07-29 10:10:39,065] {simulate.py:565} INFO -     Simulating 900 keV\n",
      "[2021-07-29 10:10:39,790] {simulate.py:565} INFO -     Simulating 1000 keV\n",
      "[2021-07-29 10:10:40,566] {simulate.py:565} INFO -     Simulating 2000 keV\n",
      "[2021-07-29 10:10:41,266] {simulate.py:763} INFO - Weighting simulations\n",
      "[2021-07-29 10:10:41,267] {simulate.py:841} INFO -     Added noise 6.678485583521145 times reference\n",
      "This is MV\n",
      "../../fastcat/data/MV_spectra/C_spectrum_25.txt ../../fastcat/data/Detectors/CuGOS-784-micrometer\n",
      "[2021-07-29 10:10:42,364] {simulate.py:214} INFO - Initializing filter bowtie_real\n",
      "[2021-07-29 10:10:42,364] {simulate.py:219} INFO - Loading attenuations from 404_phan_480_160mm_fe\n",
      "[2021-07-29 10:10:42,391] {simulate.py:534} INFO - Loading attenuations is on\n",
      "[2021-07-29 10:10:42,391] {simulate.py:536} INFO - Running Simulations\n",
      "[2021-07-29 10:10:42,392] {simulate.py:565} INFO -     Simulating 10 keV\n",
      "[2021-07-29 10:10:42,955] {simulate.py:565} INFO -     Simulating 20 keV\n",
      "[2021-07-29 10:10:43,452] {simulate.py:565} INFO -     Simulating 30 keV\n",
      "[2021-07-29 10:10:44,111] {simulate.py:565} INFO -     Simulating 40 keV\n",
      "[2021-07-29 10:10:44,787] {simulate.py:565} INFO -     Simulating 50 keV\n",
      "[2021-07-29 10:10:45,631] {simulate.py:565} INFO -     Simulating 60 keV\n",
      "[2021-07-29 10:10:46,896] {simulate.py:565} INFO -     Simulating 70 keV\n",
      "[2021-07-29 10:10:48,221] {simulate.py:565} INFO -     Simulating 80 keV\n",
      "[2021-07-29 10:10:49,573] {simulate.py:565} INFO -     Simulating 90 keV\n",
      "[2021-07-29 10:10:50,923] {simulate.py:565} INFO -     Simulating 100 keV\n",
      "[2021-07-29 10:10:52,151] {simulate.py:565} INFO -     Simulating 300 keV\n",
      "[2021-07-29 10:10:53,578] {simulate.py:565} INFO -     Simulating 500 keV\n",
      "[2021-07-29 10:10:54,783] {simulate.py:565} INFO -     Simulating 700 keV\n",
      "[2021-07-29 10:10:55,809] {simulate.py:565} INFO -     Simulating 900 keV\n",
      "[2021-07-29 10:10:56,708] {simulate.py:565} INFO -     Simulating 1000 keV\n",
      "[2021-07-29 10:10:57,715] {simulate.py:565} INFO -     Simulating 2000 keV\n",
      "[2021-07-29 10:10:58,595] {simulate.py:763} INFO - Weighting simulations\n",
      "[2021-07-29 10:10:58,596] {simulate.py:841} INFO -     Added noise 4.122170166277334 times reference\n"
     ]
    }
   ],
   "source": [
    "contrasts = []\n",
    "mtfs = []\n",
    "label = []\n",
    "ims = []\n",
    "phan_map = [\n",
    "    'air',\n",
    "    'water',\n",
    "    'Spongiosa_Bone_ICRP',\n",
    "    '26',\n",
    "    '26',\n",
    "    'G4_ADIPOSE_TISSUE_ICRP'\n",
    "    ]\n",
    "for phan in phantoms[2:3]:\n",
    "    phantom = dispatcher[phan](hi_res=False)\n",
    "    phantom.phan_map = phan_map\n",
    "#     phantom.geomet.sVoxel = np.array([160,160,160])\n",
    "#     phantom.geomet.dVoxel = phantom.geomet.sVoxel/phantom.geomet.nVoxel\n",
    "    for jj in [1,2]:\n",
    "        for kk in [1,9,-1]:\n",
    "            spectrum = sorted(spectra)[jj]\n",
    "            det = sorted(MV_detectors)[kk]\n",
    "            if jj != 1:\n",
    "                s.load(spectrum.split('/')[-1].split('.')[0])\n",
    "                print('This is MV')\n",
    "                print(spectrum, det)\n",
    "            else:\n",
    "                s.x = xx\n",
    "                s.y = yy\n",
    "                print('This is kV')\n",
    "            \n",
    "            s.attenuate(0.4,fc.get_mu(z=13)) #was 0.3\n",
    "            s.attenuate(0.089,fc.get_mu(z=22))\n",
    "#             s.attenuate(0.2,fc.get_mu(z=82))\n",
    "            kernel = fc.Detector(s, det.split('/')[-1].split('.')[0])\n",
    "#             kernel.get_plot_mtf_real(axs[2])\n",
    "#             mtfs.append([kernel.freq,kernel.mtf])\n",
    "            angles = np.linspace(0,np.pi*2,nviews,endpoint=False)#480)        \n",
    "            \n",
    "            if jj == 1:\n",
    "#                 phantom.return_projs(kernel,s,angles,det_on=True,convolve_on=False,mgy = 7/nviews,ASG=True,bowtie=True,filter='bowtie_real',load_proj=True,proj_file='404_phan_480_160mm')\n",
    "                phantom.return_projs(kernel,s,angles,det_on=True,convolve_on=False,mgy = 7/nviews,ASG=True,bowtie=True,filter='bowtie_real',load_proj=True,proj_file='404_phan_480_160mm_fe')\n",
    "            else:\n",
    "#                 phantom.return_projs(kernel,s,angles,det_on=True,convolve_on=False,mgy = 7/nviews,ASG=False,bowtie=True,filter='bowtie_real',load_proj=True,proj_file='404_phan_480_160mm')\n",
    "                phantom.return_projs(kernel,s,angles,det_on=True,convolve_on=False,mgy = 7/nviews,ASG=False,bowtie=True,filter='bowtie_real',load_proj=True,proj_file='404_phan_480_160mm_fe')\n",
    "                \n",
    "#             phantom.return_projs(kernel,s,angles,det_on=True,convolve_on=False,mgy = 7/nviews,ASG=True,bowtie=True,filter='bowtie_real',load_proj=True,proj_file='404_phan_480_160mm_fe')\n",
    "#             else:\n",
    "#                 phantom.return_projs(kernel,s,angles,det_on=True,mgy = 7/nviews,convolve_on=False,load_proj=True,proj_file='404_phan_480_160mm')\n",
    "            \n",
    "            phantom.reconstruct('FDK')\n",
    "#             phantom.reconstruct('CGLS')\n",
    "            contrasts.append(phantom.img.T)\n",
    "            label.append([phan,spectrum,det])\n",
    "            \n",
    "#             break\n",
    "#         break\n",
    "#     break"
   ]
  },
  {
   "cell_type": "code",
   "execution_count": 135,
   "metadata": {},
   "outputs": [
    {
     "data": {
      "application/vnd.jupyter.widget-view+json": {
       "model_id": "64c51252597142968dae61a384c70fdc",
       "version_major": 2,
       "version_minor": 0
      },
      "text/plain": [
       "Canvas(toolbar=Toolbar(toolitems=[('Home', 'Reset original view', 'home', 'home'), ('Back', 'Back to previous …"
      ]
     },
     "metadata": {},
     "output_type": "display_data"
    },
    {
     "name": "stdout",
     "output_type": "stream",
     "text": [
      "[2021-07-29 10:06:22,103] {backend_pdf.py:763} DEBUG - Assigning font /b'F1' = '/home/xcite/anaconda3/lib/python3.7/site-packages/matplotlib/mpl-data/fonts/ttf/DejaVuSans.ttf'\n",
      "[2021-07-29 10:06:22,213] {backend_pdf.py:805} DEBUG - Embedding font /home/xcite/anaconda3/lib/python3.7/site-packages/matplotlib/mpl-data/fonts/ttf/DejaVuSans.ttf.\n",
      "[2021-07-29 10:06:22,214] {backend_pdf.py:812} DEBUG - Writing TrueType font.\n"
     ]
    }
   ],
   "source": [
    "plt.figure(figsize=[8,4],dpi=300)\n",
    "import matplotlib.patches as mpatches\n",
    "# scans = glob('XCATs/scan*')\n",
    "index = 4\n",
    "\n",
    "small_titles = ['120 kVp CWO','120 kVp CsI','120 kVp GOS','2.5 MV CWO','2.5 MV CsI','2.5 MV GOS']\n",
    "alph = ['(a)','(b)','(c)','(d)','(e)','(f)']\n",
    "\n",
    "h,w = np.rot90(contrasts[0][:,:,index],3)[270:-310,320:-320].shape\n",
    "\n",
    "X, Y = np.ogrid[:h, :w]\n",
    "x, y = h//2,w//2\n",
    "\n",
    "center = [x,y]\n",
    "\n",
    "dist = np.sqrt((X - center[0])**2 + (Y-center[1])**2)\n",
    "\n",
    "values = [0.00708,0.008,0.01]\n",
    "labs = ['Body','Muscle','Skull']\n",
    "\n",
    "for ii, sc in enumerate(contrasts):\n",
    "        \n",
    "    plt.subplot(2,3,ii+1)\n",
    "    plt.title(small_titles[ii])#scan.split('/')[-1].split('.')[0].split('scan_')[1])\n",
    "\n",
    "    mm = np.mean(sc[376:406,376:406,index])\n",
    "    mm_air = np.mean(sc[-50:,-50:,index])\n",
    "\n",
    "    im_HU = (sc[:,:,4] - mm)/(mm_air - mm)*-1000\n",
    "\n",
    "    im = np.rot90(im_HU,3)#[270:-310,320:-320]\n",
    "\n",
    "#         im[dist > 245] = -1000\n",
    "\n",
    "#     plt.imshow(sc[:,:,15],cmap='gray',vmax=mm+3*ss,vmin=mm-3*ss)\n",
    "    plt.imshow(im,cmap='bone',vmax=400,vmin=-400)\n",
    "    plt.text(-70,-20,alph[ii],color='cornflowerblue',fontsize=14)\n",
    "    plt.axis('off')\n",
    "\n",
    "    ax = plt.gca()\n",
    "\n",
    "    axins = ax.inset_axes([0.65, -0.10, 0.5, 0.5])\n",
    "\n",
    "    axins.imshow(im,cmap='bone',vmax=400,vmin=-400)\n",
    "    # ax2.set_xlim([-0.05,0.2])\n",
    "    # ax2.set_ylim([0.05,0.11])\n",
    "    # sub region of the original image\n",
    "    x1, x2, y1, y2 = 215, 295, 480, 410\n",
    "    axins.set_xlim(x1, x2)\n",
    "    axins.set_ylim(y1, y2)\n",
    "    axins.set_xticklabels('')\n",
    "\n",
    "    axins.set_xticks([])\n",
    "    axins.set_yticks([])\n",
    "\n",
    "    lines = ax.indicate_inset_zoom(axins,ec='red')\n",
    "    lines[1][0].set_visible(False)\n",
    "    lines[1][1].set_visible(False)\n",
    "    lines[1][2].set_visible(True)\n",
    "    lines[1][3].set_visible(True)\n",
    "    \n",
    "\n",
    "plt.tight_layout()\n",
    "# plt.savefig('/home/xcite/fastcat_paper_2_tmi/figures/contrasts.pdf') #"
   ]
  },
  {
   "cell_type": "code",
   "execution_count": 102,
   "metadata": {},
   "outputs": [],
   "source": [
    "np.save('contrasts_fe_artifacts',contrasts)"
   ]
  },
  {
   "cell_type": "markdown",
   "metadata": {},
   "source": [
    "# Metal artifact image"
   ]
  },
  {
   "cell_type": "code",
   "execution_count": 138,
   "metadata": {},
   "outputs": [
    {
     "data": {
      "application/vnd.jupyter.widget-view+json": {
       "model_id": "666df024a167461689fc57395c9a2459",
       "version_major": 2,
       "version_minor": 0
      },
      "text/plain": [
       "Canvas(toolbar=Toolbar(toolitems=[('Home', 'Reset original view', 'home', 'home'), ('Back', 'Back to previous …"
      ]
     },
     "metadata": {},
     "output_type": "display_data"
    }
   ],
   "source": [
    "plt.figure(figsize=[8,4],dpi=300)\n",
    "import matplotlib.patches as mpatches\n",
    "# scans = glob('XCATs/scan*')\n",
    "index = 4\n",
    "\n",
    "small_titles = ['120 kVp CWO','120 kVp CsI','120 kVp GOS','2.5 MV CWO','2.5 MV CsI','2.5 MV GOS']\n",
    "alph = ['(a)','(b)','(c)','(d)','(e)','(f)']\n",
    "\n",
    "h,w = np.rot90(contrasts[0][:,:,index],3)[270:-310,320:-320].shape\n",
    "\n",
    "X, Y = np.ogrid[:h, :w]\n",
    "x, y = h//2,w//2\n",
    "\n",
    "center = [x,y]\n",
    "\n",
    "dist = np.sqrt((X - center[0])**2 + (Y-center[1])**2)\n",
    "\n",
    "values = [0.00708,0.008,0.01]\n",
    "labs = ['Body','Muscle','Skull']\n",
    "\n",
    "for ii, sc in enumerate(contrasts):\n",
    "        \n",
    "    plt.subplot(2,3,ii+1)\n",
    "    plt.title(small_titles[ii])#scan.split('/')[-1].split('.')[0].split('scan_')[1])\n",
    "\n",
    "    mm = np.mean(sc[376:406,376:406,index])\n",
    "    mm_air = np.mean(sc[-50:,-50:,index])\n",
    "\n",
    "    im_HU = (sc[:,:,4] - mm)/(mm_air - mm)*-1000\n",
    "\n",
    "    im = np.rot90(im_HU,3)#[270:-310,320:-320]\n",
    "\n",
    "#         im[dist > 245] = -1000\n",
    "\n",
    "#     plt.imshow(sc[:,:,15],cmap='gray',vmax=mm+3*ss,vmin=mm-3*ss)\n",
    "    plt.imshow(im,cmap='bone',vmax=400,vmin=-400)\n",
    "    plt.text(-70,-20,alph[ii],color='cornflowerblue',fontsize=14)\n",
    "    plt.axis('off')\n",
    "\n",
    "    ax = plt.gca()\n",
    "\n",
    "    axins = ax.inset_axes([0.65, -0.10, 0.5, 0.5])\n",
    "\n",
    "    axins.imshow(im,cmap='bone',vmax=1500,vmin=-500)\n",
    "    # ax2.set_xlim([-0.05,0.2])\n",
    "    # ax2.set_ylim([0.05,0.11])\n",
    "    # sub region of the original image\n",
    "    x1, x2, y1, y2 =  410, 480 ,295, 215\n",
    "    axins.set_xlim(x1, x2)\n",
    "    axins.set_ylim(y1, y2)\n",
    "    axins.set_xticklabels('')\n",
    "\n",
    "    axins.set_xticks([])\n",
    "    axins.set_yticks([])\n",
    "\n",
    "    ax.indicate_inset_zoom(axins,ec='red')\n",
    "\n",
    "plt.tight_layout()\n",
    "# plt.savefig('/home/xcite/fastcat_paper_2_tmi/figures/contrasts_bone.pdf') #"
   ]
  },
  {
   "cell_type": "code",
   "execution_count": null,
   "metadata": {},
   "outputs": [],
   "source": []
  }
 ],
 "metadata": {
  "kernelspec": {
   "display_name": "Python 3",
   "language": "python",
   "name": "python3"
  },
  "language_info": {
   "codemirror_mode": {
    "name": "ipython",
    "version": 3
   },
   "file_extension": ".py",
   "mimetype": "text/x-python",
   "name": "python",
   "nbconvert_exporter": "python",
   "pygments_lexer": "ipython3",
   "version": "3.7.6"
  },
  "toc": {
   "base_numbering": 1,
   "nav_menu": {},
   "number_sections": true,
   "sideBar": true,
   "skip_h1_title": false,
   "title_cell": "Table of Contents",
   "title_sidebar": "Contents",
   "toc_cell": false,
   "toc_position": {},
   "toc_section_display": true,
   "toc_window_display": false
  },
  "varInspector": {
   "cols": {
    "lenName": "16",
    "lenType": "3",
    "lenVar": "20"
   },
   "kernels_config": {
    "python": {
     "delete_cmd_postfix": "",
     "delete_cmd_prefix": "del ",
     "library": "var_list.py",
     "varRefreshCmd": "print(var_dic_list())"
    },
    "r": {
     "delete_cmd_postfix": ") ",
     "delete_cmd_prefix": "rm(",
     "library": "var_list.r",
     "varRefreshCmd": "cat(var_dic_list()) "
    }
   },
   "types_to_exclude": [
    "module",
    "function",
    "builtin_function_or_method",
    "instance",
    "_Feature"
   ],
   "window_display": false
  }
 },
 "nbformat": 4,
 "nbformat_minor": 4
}
