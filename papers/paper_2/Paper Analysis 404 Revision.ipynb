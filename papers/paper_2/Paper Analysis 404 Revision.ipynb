{
 "cells": [
  {
   "cell_type": "code",
   "execution_count": 1,
   "metadata": {},
   "outputs": [
    {
     "name": "stdout",
     "output_type": "stream",
     "text": [
      "Populating the interactive namespace from numpy and matplotlib\n"
     ]
    }
   ],
   "source": [
    "%pylab widget\n",
    "%load_ext autoreload\n",
    "%autoreload 2\n",
    "%load_ext memory_profiler"
   ]
  },
  {
   "cell_type": "code",
   "execution_count": 2,
   "metadata": {},
   "outputs": [],
   "source": [
    "import fastcat as fc\n",
    "from glob import glob"
   ]
  },
  {
   "cell_type": "markdown",
   "metadata": {},
   "source": [
    "## First I'll look at the detector MTF"
   ]
  },
  {
   "cell_type": "markdown",
   "metadata": {},
   "source": [
    "### I'll load all of the kernels "
   ]
  },
  {
   "cell_type": "code",
   "execution_count": 3,
   "metadata": {},
   "outputs": [],
   "source": [
    "spectra = glob('../fastcat/data/MV_spectra/*.txt')\n",
    "phantoms = ['Catphan_404','Catphan_515','Catphan_MTF']\n",
    "MV_detectors = glob('../fastcat/data/Detectors/*')\n",
    "\n",
    "dispatcher={'Catphan_404':fc.Catphan_404,\n",
    "            'Catphan_515':fc.Catphan_515,\n",
    "            'Catphan_MTF':fc.Catphan_MTF}"
   ]
  },
  {
   "cell_type": "code",
   "execution_count": 4,
   "metadata": {},
   "outputs": [],
   "source": [
    "s = fc.Spectrum()"
   ]
  },
  {
   "cell_type": "code",
   "execution_count": 22,
   "metadata": {},
   "outputs": [
    {
     "data": {
      "application/vnd.jupyter.widget-view+json": {
       "model_id": "e2ef241ca128421fa581126fa54f5e1f",
       "version_major": 2,
       "version_minor": 0
      },
      "text/plain": [
       "Canvas(toolbar=Toolbar(toolitems=[('Home', 'Reset original view', 'home', 'home'), ('Back', 'Back to previous …"
      ]
     },
     "metadata": {},
     "output_type": "display_data"
    },
    {
     "name": "stdout",
     "output_type": "stream",
     "text": [
      "Calculation:  1 / 50\n",
      "Calculation:  2 / 50\n",
      "Calculation:  3 / 50\n",
      "Calculation:  4 / 50\n",
      "Calculation:  5 / 50\n",
      "Calculation:  6 / 50\n",
      "Calculation:  7 / 50\n",
      "Calculation:  8 / 50\n",
      "Calculation:  9 / 50\n",
      "Calculation:  10 / 50\n",
      "Calculation:  11 / 50\n",
      "Calculation:  12 / 50\n",
      "Calculation:  13 / 50\n",
      "Calculation:  14 / 50\n",
      "Calculation:  15 / 50\n",
      "Calculation:  16 / 50\n",
      "Calculation:  17 / 50\n",
      "Calculation:  18 / 50\n",
      "Calculation:  19 / 50\n",
      "Calculation:  20 / 50\n",
      "Calculation:  21 / 50\n",
      "Calculation:  22 / 50\n",
      "Calculation:  23 / 50\n",
      "Calculation:  24 / 50\n",
      "Calculation:  25 / 50\n",
      "Calculation:  26 / 50\n",
      "Calculation:  27 / 50\n",
      "Calculation:  28 / 50\n",
      "Calculation:  29 / 50\n",
      "Calculation:  30 / 50\n",
      "Calculation:  31 / 50\n",
      "Calculation:  32 / 50\n",
      "Calculation:  33 / 50\n",
      "Calculation:  34 / 50\n",
      "Calculation:  35 / 50\n",
      "Calculation:  36 / 50\n",
      "Calculation:  37 / 50\n",
      "Calculation:  38 / 50\n",
      "Calculation:  39 / 50\n",
      "Calculation:  40 / 50\n",
      "Calculation:  41 / 50\n",
      "Calculation:  42 / 50\n",
      "Calculation:  43 / 50\n",
      "Calculation:  44 / 50\n",
      "Calculation:  45 / 50\n",
      "Calculation:  46 / 50\n",
      "Calculation:  47 / 50\n",
      "Calculation:  48 / 50\n",
      "Calculation:  49 / 50\n",
      "Calculation:  50 / 50\n"
     ]
    }
   ],
   "source": [
    "contrasts_show = []\n",
    "mtfs = []\n",
    "label = []\n",
    "\n",
    "fig, axs = plt.subplots(3, 1)\n",
    "\n",
    "spectra = [ 'kv',\n",
    " '../fastcat/data/MV_spectra/C_spectrum_25.txt',\n",
    " '../fastcat/data/MV_spectra/C_spectrum_6.txt',\n",
    " '../fastcat/data/MV_spectra/W_spectrum_25.txt',\n",
    " '../fastcat/data/MV_spectra/W_spectrum_6.txt']\n",
    "\n",
    "MV_detectors = [\n",
    " '../fastcat/data/Detectors/CsI-784-micro_thin',\n",
    " '../fastcat/data/Detectors/CWO-392-micrometer',\n",
    " '../fastcat/data/Detectors/CuGOS-784-micrometer']\n",
    "\n",
    "phan_map = [\n",
    "    'air',\n",
    "    'G4_MUSCLE_SKELETAL_ICRP',\n",
    "    'Spongiosa_Bone_ICRP',\n",
    "    'G4_LUNG_MD_ICRP',\n",
    "    'G4_BONE_COMPACT_ICRU',\n",
    "    'G4_ADIPOSE_TISSUE_ICRP'\n",
    "    ]\n",
    "# s0 = fc.calculate_spectrum(60, 12, 3, 50)\n",
    "# s0.attenuate(0.1,fc.get_mu(z=13))\n",
    "# s0.attenuate(0.015,fc.get_mu(z=29))\n",
    "\n",
    "s0 = fc.calculate_spectrum(120, 12, 3, 50)\n",
    "# s0.attenuate(0.3,fc.get_mu(z=13)) #was 0.3\n",
    "\n",
    "# s0.attenuate(0.089,fc.get_mu(z=22))\n",
    "xx, yy = s0.get_points()"
   ]
  },
  {
   "cell_type": "code",
   "execution_count": 23,
   "metadata": {},
   "outputs": [
    {
     "name": "stdout",
     "output_type": "stream",
     "text": [
      "[2021-07-29 11:26:44,664] {phantoms.py:650} INFO - Phantom is low resolution\n",
      "This is kV\n",
      "[2021-07-29 11:26:44,676] {simulate.py:214} INFO - Initializing filter bowtie_real\n",
      "[2021-07-29 11:26:44,676] {simulate.py:219} INFO - Loading attenuations from 404_phan_480_160mm\n",
      "[2021-07-29 11:26:44,689] {simulate.py:415} INFO - Initializing ASG\n",
      "[2021-07-29 11:26:44,706] {simulate.py:534} INFO - Loading attenuations is on\n",
      "[2021-07-29 11:26:44,706] {simulate.py:536} INFO - Running Simulations\n",
      "[2021-07-29 11:26:44,707] {simulate.py:555} INFO -     Fast Noise algo! Beware of innacurate results\n",
      "[2021-07-29 11:26:44,707] {simulate.py:565} INFO -     Simulating 10 keV\n",
      "[2021-07-29 11:26:45,133] {simulate.py:565} INFO -     Simulating 20 keV\n",
      "[2021-07-29 11:26:45,457] {simulate.py:565} INFO -     Simulating 30 keV\n",
      "[2021-07-29 11:26:45,776] {simulate.py:565} INFO -     Simulating 40 keV\n",
      "[2021-07-29 11:26:46,099] {simulate.py:565} INFO -     Simulating 50 keV\n",
      "[2021-07-29 11:26:46,430] {simulate.py:565} INFO -     Simulating 60 keV\n",
      "[2021-07-29 11:26:46,762] {simulate.py:565} INFO -     Simulating 70 keV\n",
      "[2021-07-29 11:26:47,095] {simulate.py:565} INFO -     Simulating 80 keV\n",
      "[2021-07-29 11:26:47,426] {simulate.py:565} INFO -     Simulating 90 keV\n",
      "[2021-07-29 11:26:47,759] {simulate.py:565} INFO -     Simulating 100 keV\n",
      "[2021-07-29 11:26:48,091] {simulate.py:763} INFO - Weighting simulations\n",
      "[2021-07-29 11:26:48,091] {simulate.py:841} INFO -     Added noise 194.97426711092402 times reference\n",
      "[2021-07-29 11:26:49,122] {legend.py:1193} WARNING - No handles with labels found to put in legend.\n",
      "This is kV\n",
      "[2021-07-29 11:26:49,163] {simulate.py:214} INFO - Initializing filter bowtie_real\n",
      "[2021-07-29 11:26:49,163] {simulate.py:219} INFO - Loading attenuations from 404_phan_480_160mm\n",
      "[2021-07-29 11:26:49,177] {simulate.py:415} INFO - Initializing ASG\n",
      "[2021-07-29 11:26:49,194] {simulate.py:534} INFO - Loading attenuations is on\n",
      "[2021-07-29 11:26:49,195] {simulate.py:536} INFO - Running Simulations\n",
      "[2021-07-29 11:26:49,195] {simulate.py:555} INFO -     Fast Noise algo! Beware of innacurate results\n",
      "[2021-07-29 11:26:49,195] {simulate.py:565} INFO -     Simulating 10 keV\n",
      "[2021-07-29 11:26:49,624] {simulate.py:565} INFO -     Simulating 20 keV\n",
      "[2021-07-29 11:26:49,945] {simulate.py:565} INFO -     Simulating 30 keV\n",
      "[2021-07-29 11:26:50,270] {simulate.py:565} INFO -     Simulating 40 keV\n",
      "[2021-07-29 11:26:50,592] {simulate.py:565} INFO -     Simulating 50 keV\n",
      "[2021-07-29 11:26:50,924] {simulate.py:565} INFO -     Simulating 60 keV\n",
      "[2021-07-29 11:26:51,255] {simulate.py:565} INFO -     Simulating 70 keV\n",
      "[2021-07-29 11:26:51,587] {simulate.py:565} INFO -     Simulating 80 keV\n",
      "[2021-07-29 11:26:51,917] {simulate.py:565} INFO -     Simulating 90 keV\n",
      "[2021-07-29 11:26:52,248] {simulate.py:565} INFO -     Simulating 100 keV\n",
      "[2021-07-29 11:26:52,579] {simulate.py:763} INFO - Weighting simulations\n",
      "[2021-07-29 11:26:52,579] {simulate.py:841} INFO -     Added noise 819.280734333701 times reference\n",
      "[2021-07-29 11:26:53,629] {legend.py:1193} WARNING - No handles with labels found to put in legend.\n",
      "This is kV\n",
      "[2021-07-29 11:26:53,656] {simulate.py:214} INFO - Initializing filter bowtie_real\n",
      "[2021-07-29 11:26:53,657] {simulate.py:219} INFO - Loading attenuations from 404_phan_480_160mm\n",
      "[2021-07-29 11:26:53,671] {simulate.py:415} INFO - Initializing ASG\n",
      "[2021-07-29 11:26:53,686] {simulate.py:534} INFO - Loading attenuations is on\n",
      "[2021-07-29 11:26:53,686] {simulate.py:536} INFO - Running Simulations\n",
      "[2021-07-29 11:26:53,687] {simulate.py:555} INFO -     Fast Noise algo! Beware of innacurate results\n",
      "[2021-07-29 11:26:53,687] {simulate.py:565} INFO -     Simulating 10 keV\n",
      "[2021-07-29 11:26:54,117] {simulate.py:565} INFO -     Simulating 20 keV\n",
      "[2021-07-29 11:26:54,430] {simulate.py:565} INFO -     Simulating 30 keV\n",
      "[2021-07-29 11:26:54,744] {simulate.py:565} INFO -     Simulating 40 keV\n",
      "[2021-07-29 11:26:55,066] {simulate.py:565} INFO -     Simulating 50 keV\n",
      "[2021-07-29 11:26:55,392] {simulate.py:565} INFO -     Simulating 60 keV\n",
      "[2021-07-29 11:26:55,724] {simulate.py:565} INFO -     Simulating 70 keV\n",
      "[2021-07-29 11:26:56,055] {simulate.py:565} INFO -     Simulating 80 keV\n",
      "[2021-07-29 11:26:56,393] {simulate.py:565} INFO -     Simulating 90 keV\n",
      "[2021-07-29 11:26:56,722] {simulate.py:565} INFO -     Simulating 100 keV\n",
      "[2021-07-29 11:26:57,049] {simulate.py:763} INFO - Weighting simulations\n",
      "[2021-07-29 11:26:57,049] {simulate.py:841} INFO -     Added noise 76.13928198583059 times reference\n",
      "[2021-07-29 11:26:58,091] {legend.py:1193} WARNING - No handles with labels found to put in legend.\n",
      "This is MV\n",
      "[2021-07-29 11:26:58,110] {simulate.py:214} INFO - Initializing filter bowtie_real\n",
      "[2021-07-29 11:26:58,110] {simulate.py:219} INFO - Loading attenuations from 404_phan_480_160mm\n",
      "[2021-07-29 11:26:58,139] {simulate.py:534} INFO - Loading attenuations is on\n",
      "[2021-07-29 11:26:58,139] {simulate.py:536} INFO - Running Simulations\n",
      "[2021-07-29 11:26:58,140] {simulate.py:555} INFO -     Fast Noise algo! Beware of innacurate results\n",
      "[2021-07-29 11:26:58,140] {simulate.py:565} INFO -     Simulating 10 keV\n",
      "[2021-07-29 11:26:58,562] {simulate.py:565} INFO -     Simulating 20 keV\n",
      "[2021-07-29 11:26:58,878] {simulate.py:565} INFO -     Simulating 30 keV\n",
      "[2021-07-29 11:26:59,195] {simulate.py:565} INFO -     Simulating 40 keV\n",
      "[2021-07-29 11:26:59,517] {simulate.py:565} INFO -     Simulating 50 keV\n",
      "[2021-07-29 11:26:59,850] {simulate.py:565} INFO -     Simulating 60 keV\n",
      "[2021-07-29 11:27:00,183] {simulate.py:565} INFO -     Simulating 70 keV\n",
      "[2021-07-29 11:27:00,508] {simulate.py:565} INFO -     Simulating 80 keV\n",
      "[2021-07-29 11:27:00,830] {simulate.py:565} INFO -     Simulating 90 keV\n",
      "[2021-07-29 11:27:01,156] {simulate.py:565} INFO -     Simulating 100 keV\n",
      "[2021-07-29 11:27:01,480] {simulate.py:565} INFO -     Simulating 300 keV\n",
      "[2021-07-29 11:27:01,803] {simulate.py:565} INFO -     Simulating 500 keV\n",
      "[2021-07-29 11:27:02,117] {simulate.py:565} INFO -     Simulating 700 keV\n",
      "[2021-07-29 11:27:02,433] {simulate.py:565} INFO -     Simulating 900 keV\n",
      "[2021-07-29 11:27:02,747] {simulate.py:565} INFO -     Simulating 1000 keV\n",
      "[2021-07-29 11:27:03,060] {simulate.py:565} INFO -     Simulating 2000 keV\n",
      "[2021-07-29 11:27:03,379] {simulate.py:763} INFO - Weighting simulations\n",
      "[2021-07-29 11:27:03,380] {simulate.py:841} INFO -     Added noise 19.177928389986942 times reference\n",
      "[2021-07-29 11:27:04,437] {legend.py:1193} WARNING - No handles with labels found to put in legend.\n",
      "This is MV\n",
      "[2021-07-29 11:27:04,469] {simulate.py:214} INFO - Initializing filter bowtie_real\n",
      "[2021-07-29 11:27:04,469] {simulate.py:219} INFO - Loading attenuations from 404_phan_480_160mm\n",
      "[2021-07-29 11:27:04,496] {simulate.py:534} INFO - Loading attenuations is on\n",
      "[2021-07-29 11:27:04,496] {simulate.py:536} INFO - Running Simulations\n",
      "[2021-07-29 11:27:04,496] {simulate.py:555} INFO -     Fast Noise algo! Beware of innacurate results\n",
      "[2021-07-29 11:27:04,497] {simulate.py:565} INFO -     Simulating 10 keV\n",
      "[2021-07-29 11:27:04,922] {simulate.py:565} INFO -     Simulating 20 keV\n",
      "[2021-07-29 11:27:05,243] {simulate.py:565} INFO -     Simulating 30 keV\n",
      "[2021-07-29 11:27:05,564] {simulate.py:565} INFO -     Simulating 40 keV\n",
      "[2021-07-29 11:27:05,888] {simulate.py:565} INFO -     Simulating 50 keV\n",
      "[2021-07-29 11:27:06,217] {simulate.py:565} INFO -     Simulating 60 keV\n",
      "[2021-07-29 11:27:06,544] {simulate.py:565} INFO -     Simulating 70 keV\n",
      "[2021-07-29 11:27:06,872] {simulate.py:565} INFO -     Simulating 80 keV\n",
      "[2021-07-29 11:27:07,200] {simulate.py:565} INFO -     Simulating 90 keV\n",
      "[2021-07-29 11:27:07,531] {simulate.py:565} INFO -     Simulating 100 keV\n",
      "[2021-07-29 11:27:07,859] {simulate.py:565} INFO -     Simulating 300 keV\n",
      "[2021-07-29 11:27:08,188] {simulate.py:565} INFO -     Simulating 500 keV\n",
      "[2021-07-29 11:27:08,520] {simulate.py:565} INFO -     Simulating 700 keV\n",
      "[2021-07-29 11:27:08,851] {simulate.py:565} INFO -     Simulating 900 keV\n",
      "[2021-07-29 11:27:09,180] {simulate.py:565} INFO -     Simulating 1000 keV\n",
      "[2021-07-29 11:27:09,518] {simulate.py:565} INFO -     Simulating 2000 keV\n",
      "[2021-07-29 11:27:09,842] {simulate.py:763} INFO - Weighting simulations\n",
      "[2021-07-29 11:27:09,843] {simulate.py:841} INFO -     Added noise 179.8065236754251 times reference\n",
      "[2021-07-29 11:27:10,865] {legend.py:1193} WARNING - No handles with labels found to put in legend.\n",
      "This is MV\n",
      "[2021-07-29 11:27:10,892] {simulate.py:214} INFO - Initializing filter bowtie_real\n",
      "[2021-07-29 11:27:10,892] {simulate.py:219} INFO - Loading attenuations from 404_phan_480_160mm\n",
      "[2021-07-29 11:27:10,920] {simulate.py:534} INFO - Loading attenuations is on\n",
      "[2021-07-29 11:27:10,920] {simulate.py:536} INFO - Running Simulations\n",
      "[2021-07-29 11:27:10,921] {simulate.py:555} INFO -     Fast Noise algo! Beware of innacurate results\n",
      "[2021-07-29 11:27:10,921] {simulate.py:565} INFO -     Simulating 10 keV\n",
      "[2021-07-29 11:27:11,349] {simulate.py:565} INFO -     Simulating 20 keV\n",
      "[2021-07-29 11:27:11,664] {simulate.py:565} INFO -     Simulating 30 keV\n",
      "[2021-07-29 11:27:11,985] {simulate.py:565} INFO -     Simulating 40 keV\n",
      "[2021-07-29 11:27:12,302] {simulate.py:565} INFO -     Simulating 50 keV\n",
      "[2021-07-29 11:27:12,626] {simulate.py:565} INFO -     Simulating 60 keV\n",
      "[2021-07-29 11:27:12,953] {simulate.py:565} INFO -     Simulating 70 keV\n",
      "[2021-07-29 11:27:13,286] {simulate.py:565} INFO -     Simulating 80 keV\n",
      "[2021-07-29 11:27:13,621] {simulate.py:565} INFO -     Simulating 90 keV\n",
      "[2021-07-29 11:27:13,959] {simulate.py:565} INFO -     Simulating 100 keV\n",
      "[2021-07-29 11:27:14,285] {simulate.py:565} INFO -     Simulating 300 keV\n",
      "[2021-07-29 11:27:14,616] {simulate.py:565} INFO -     Simulating 500 keV\n",
      "[2021-07-29 11:27:14,934] {simulate.py:565} INFO -     Simulating 700 keV\n",
      "[2021-07-29 11:27:15,265] {simulate.py:565} INFO -     Simulating 900 keV\n",
      "[2021-07-29 11:27:15,590] {simulate.py:565} INFO -     Simulating 1000 keV\n",
      "[2021-07-29 11:27:15,912] {simulate.py:565} INFO -     Simulating 2000 keV\n",
      "[2021-07-29 11:27:16,227] {simulate.py:763} INFO - Weighting simulations\n",
      "[2021-07-29 11:27:16,228] {simulate.py:841} INFO -     Added noise 11.837217176192016 times reference\n",
      "[2021-07-29 11:27:17,278] {legend.py:1193} WARNING - No handles with labels found to put in legend.\n",
      "This is MV\n",
      "[2021-07-29 11:27:17,296] {simulate.py:214} INFO - Initializing filter bowtie_real\n",
      "[2021-07-29 11:27:17,297] {simulate.py:219} INFO - Loading attenuations from 404_phan_480_160mm\n",
      "[2021-07-29 11:27:17,325] {simulate.py:534} INFO - Loading attenuations is on\n",
      "[2021-07-29 11:27:17,325] {simulate.py:536} INFO - Running Simulations\n",
      "[2021-07-29 11:27:17,326] {simulate.py:555} INFO -     Fast Noise algo! Beware of innacurate results\n",
      "[2021-07-29 11:27:17,326] {simulate.py:565} INFO -     Simulating 10 keV\n",
      "[2021-07-29 11:27:17,754] {simulate.py:565} INFO -     Simulating 20 keV\n",
      "[2021-07-29 11:27:18,073] {simulate.py:565} INFO -     Simulating 30 keV\n",
      "[2021-07-29 11:27:18,399] {simulate.py:565} INFO -     Simulating 40 keV\n",
      "[2021-07-29 11:27:18,729] {simulate.py:565} INFO -     Simulating 50 keV\n",
      "[2021-07-29 11:27:19,063] {simulate.py:565} INFO -     Simulating 60 keV\n",
      "[2021-07-29 11:27:19,394] {simulate.py:565} INFO -     Simulating 70 keV\n",
      "[2021-07-29 11:27:19,726] {simulate.py:565} INFO -     Simulating 80 keV\n",
      "[2021-07-29 11:27:20,057] {simulate.py:565} INFO -     Simulating 90 keV\n",
      "[2021-07-29 11:27:20,395] {simulate.py:565} INFO -     Simulating 100 keV\n",
      "[2021-07-29 11:27:20,724] {simulate.py:565} INFO -     Simulating 300 keV\n",
      "[2021-07-29 11:27:21,061] {simulate.py:565} INFO -     Simulating 500 keV\n",
      "[2021-07-29 11:27:21,381] {simulate.py:565} INFO -     Simulating 700 keV\n",
      "[2021-07-29 11:27:21,701] {simulate.py:565} INFO -     Simulating 900 keV\n",
      "[2021-07-29 11:27:22,023] {simulate.py:565} INFO -     Simulating 1000 keV\n",
      "[2021-07-29 11:27:22,354] {simulate.py:565} INFO -     Simulating 2000 keV\n",
      "[2021-07-29 11:27:22,679] {simulate.py:565} INFO -     Simulating 4000 keV\n",
      "[2021-07-29 11:27:23,001] {simulate.py:565} INFO -     Simulating 6000 keV\n",
      "[2021-07-29 11:27:23,319] {simulate.py:763} INFO - Weighting simulations\n",
      "[2021-07-29 11:27:23,319] {simulate.py:841} INFO -     Added noise 6.0923225822469504 times reference\n",
      "[2021-07-29 11:27:24,371] {legend.py:1193} WARNING - No handles with labels found to put in legend.\n",
      "This is MV\n",
      "[2021-07-29 11:27:24,402] {simulate.py:214} INFO - Initializing filter bowtie_real\n",
      "[2021-07-29 11:27:24,402] {simulate.py:219} INFO - Loading attenuations from 404_phan_480_160mm\n",
      "[2021-07-29 11:27:24,429] {simulate.py:534} INFO - Loading attenuations is on\n",
      "[2021-07-29 11:27:24,430] {simulate.py:536} INFO - Running Simulations\n",
      "[2021-07-29 11:27:24,431] {simulate.py:555} INFO -     Fast Noise algo! Beware of innacurate results\n",
      "[2021-07-29 11:27:24,432] {simulate.py:565} INFO -     Simulating 10 keV\n",
      "[2021-07-29 11:27:24,861] {simulate.py:565} INFO -     Simulating 20 keV\n",
      "[2021-07-29 11:27:25,187] {simulate.py:565} INFO -     Simulating 30 keV\n",
      "[2021-07-29 11:27:25,504] {simulate.py:565} INFO -     Simulating 40 keV\n",
      "[2021-07-29 11:27:25,829] {simulate.py:565} INFO -     Simulating 50 keV\n",
      "[2021-07-29 11:27:26,154] {simulate.py:565} INFO -     Simulating 60 keV\n",
      "[2021-07-29 11:27:26,480] {simulate.py:565} INFO -     Simulating 70 keV\n",
      "[2021-07-29 11:27:26,806] {simulate.py:565} INFO -     Simulating 80 keV\n",
      "[2021-07-29 11:27:27,134] {simulate.py:565} INFO -     Simulating 90 keV\n",
      "[2021-07-29 11:27:27,464] {simulate.py:565} INFO -     Simulating 100 keV\n",
      "[2021-07-29 11:27:27,800] {simulate.py:565} INFO -     Simulating 300 keV\n",
      "[2021-07-29 11:27:28,130] {simulate.py:565} INFO -     Simulating 500 keV\n",
      "[2021-07-29 11:27:28,459] {simulate.py:565} INFO -     Simulating 700 keV\n",
      "[2021-07-29 11:27:28,795] {simulate.py:565} INFO -     Simulating 900 keV\n",
      "[2021-07-29 11:27:29,127] {simulate.py:565} INFO -     Simulating 1000 keV\n",
      "[2021-07-29 11:27:29,459] {simulate.py:565} INFO -     Simulating 2000 keV\n",
      "[2021-07-29 11:27:29,791] {simulate.py:565} INFO -     Simulating 4000 keV\n",
      "[2021-07-29 11:27:30,132] {simulate.py:565} INFO -     Simulating 6000 keV\n",
      "[2021-07-29 11:27:30,456] {simulate.py:763} INFO - Weighting simulations\n",
      "[2021-07-29 11:27:30,456] {simulate.py:841} INFO -     Added noise 72.61836922459038 times reference\n",
      "[2021-07-29 11:27:31,488] {legend.py:1193} WARNING - No handles with labels found to put in legend.\n",
      "This is MV\n",
      "[2021-07-29 11:27:31,514] {simulate.py:214} INFO - Initializing filter bowtie_real\n",
      "[2021-07-29 11:27:31,514] {simulate.py:219} INFO - Loading attenuations from 404_phan_480_160mm\n",
      "[2021-07-29 11:27:31,542] {simulate.py:534} INFO - Loading attenuations is on\n",
      "[2021-07-29 11:27:31,542] {simulate.py:536} INFO - Running Simulations\n",
      "[2021-07-29 11:27:31,543] {simulate.py:555} INFO -     Fast Noise algo! Beware of innacurate results\n",
      "[2021-07-29 11:27:31,543] {simulate.py:565} INFO -     Simulating 10 keV\n",
      "[2021-07-29 11:27:31,971] {simulate.py:565} INFO -     Simulating 20 keV\n",
      "[2021-07-29 11:27:32,298] {simulate.py:565} INFO -     Simulating 30 keV\n",
      "[2021-07-29 11:27:32,623] {simulate.py:565} INFO -     Simulating 40 keV\n",
      "[2021-07-29 11:27:32,950] {simulate.py:565} INFO -     Simulating 50 keV\n",
      "[2021-07-29 11:27:33,277] {simulate.py:565} INFO -     Simulating 60 keV\n",
      "[2021-07-29 11:27:33,613] {simulate.py:565} INFO -     Simulating 70 keV\n",
      "[2021-07-29 11:27:33,949] {simulate.py:565} INFO -     Simulating 80 keV\n",
      "[2021-07-29 11:27:34,285] {simulate.py:565} INFO -     Simulating 90 keV\n",
      "[2021-07-29 11:27:34,622] {simulate.py:565} INFO -     Simulating 100 keV\n",
      "[2021-07-29 11:27:34,947] {simulate.py:565} INFO -     Simulating 300 keV\n",
      "[2021-07-29 11:27:35,288] {simulate.py:565} INFO -     Simulating 500 keV\n",
      "[2021-07-29 11:27:35,616] {simulate.py:565} INFO -     Simulating 700 keV\n",
      "[2021-07-29 11:27:35,950] {simulate.py:565} INFO -     Simulating 900 keV\n",
      "[2021-07-29 11:27:36,277] {simulate.py:565} INFO -     Simulating 1000 keV\n",
      "[2021-07-29 11:27:36,601] {simulate.py:565} INFO -     Simulating 2000 keV\n",
      "[2021-07-29 11:27:36,926] {simulate.py:565} INFO -     Simulating 4000 keV\n",
      "[2021-07-29 11:27:37,253] {simulate.py:565} INFO -     Simulating 6000 keV\n",
      "[2021-07-29 11:27:37,568] {simulate.py:763} INFO - Weighting simulations\n",
      "[2021-07-29 11:27:37,568] {simulate.py:841} INFO -     Added noise 3.892944764747385 times reference\n",
      "[2021-07-29 11:27:38,611] {legend.py:1193} WARNING - No handles with labels found to put in legend.\n",
      "This is MV\n",
      "[2021-07-29 11:27:38,630] {simulate.py:214} INFO - Initializing filter bowtie_real\n",
      "[2021-07-29 11:27:38,631] {simulate.py:219} INFO - Loading attenuations from 404_phan_480_160mm\n",
      "[2021-07-29 11:27:38,657] {simulate.py:534} INFO - Loading attenuations is on\n",
      "[2021-07-29 11:27:38,658] {simulate.py:536} INFO - Running Simulations\n",
      "[2021-07-29 11:27:38,658] {simulate.py:555} INFO -     Fast Noise algo! Beware of innacurate results\n",
      "[2021-07-29 11:27:38,659] {simulate.py:565} INFO -     Simulating 10 keV\n",
      "[2021-07-29 11:27:39,086] {simulate.py:565} INFO -     Simulating 20 keV\n",
      "[2021-07-29 11:27:39,412] {simulate.py:565} INFO -     Simulating 30 keV\n",
      "[2021-07-29 11:27:39,739] {simulate.py:565} INFO -     Simulating 40 keV\n",
      "[2021-07-29 11:27:40,061] {simulate.py:565} INFO -     Simulating 50 keV\n",
      "[2021-07-29 11:27:40,382] {simulate.py:565} INFO -     Simulating 60 keV\n",
      "[2021-07-29 11:27:40,699] {simulate.py:565} INFO -     Simulating 70 keV\n",
      "[2021-07-29 11:27:41,026] {simulate.py:565} INFO -     Simulating 80 keV\n",
      "[2021-07-29 11:27:41,342] {simulate.py:565} INFO -     Simulating 90 keV\n",
      "[2021-07-29 11:27:41,670] {simulate.py:565} INFO -     Simulating 100 keV\n",
      "[2021-07-29 11:27:41,995] {simulate.py:565} INFO -     Simulating 300 keV\n",
      "[2021-07-29 11:27:42,321] {simulate.py:565} INFO -     Simulating 500 keV\n",
      "[2021-07-29 11:27:42,647] {simulate.py:565} INFO -     Simulating 700 keV\n",
      "[2021-07-29 11:27:42,986] {simulate.py:565} INFO -     Simulating 900 keV\n",
      "[2021-07-29 11:27:43,316] {simulate.py:565} INFO -     Simulating 1000 keV\n",
      "[2021-07-29 11:27:43,677] {simulate.py:565} INFO -     Simulating 2000 keV\n",
      "[2021-07-29 11:27:44,020] {simulate.py:763} INFO - Weighting simulations\n",
      "[2021-07-29 11:27:44,021] {simulate.py:841} INFO -     Added noise 0.7522421036135383 times reference\n",
      "[2021-07-29 11:27:45,100] {legend.py:1193} WARNING - No handles with labels found to put in legend.\n",
      "This is MV\n",
      "[2021-07-29 11:27:45,133] {simulate.py:214} INFO - Initializing filter bowtie_real\n",
      "[2021-07-29 11:27:45,134] {simulate.py:219} INFO - Loading attenuations from 404_phan_480_160mm\n",
      "[2021-07-29 11:27:45,160] {simulate.py:534} INFO - Loading attenuations is on\n",
      "[2021-07-29 11:27:45,161] {simulate.py:536} INFO - Running Simulations\n",
      "[2021-07-29 11:27:45,161] {simulate.py:555} INFO -     Fast Noise algo! Beware of innacurate results\n",
      "[2021-07-29 11:27:45,161] {simulate.py:565} INFO -     Simulating 10 keV\n",
      "[2021-07-29 11:27:45,583] {simulate.py:565} INFO -     Simulating 20 keV\n",
      "[2021-07-29 11:27:45,902] {simulate.py:565} INFO -     Simulating 30 keV\n",
      "[2021-07-29 11:27:46,224] {simulate.py:565} INFO -     Simulating 40 keV\n",
      "[2021-07-29 11:27:46,546] {simulate.py:565} INFO -     Simulating 50 keV\n",
      "[2021-07-29 11:27:46,873] {simulate.py:565} INFO -     Simulating 60 keV\n",
      "[2021-07-29 11:27:47,189] {simulate.py:565} INFO -     Simulating 70 keV\n",
      "[2021-07-29 11:27:47,510] {simulate.py:565} INFO -     Simulating 80 keV\n",
      "[2021-07-29 11:27:47,826] {simulate.py:565} INFO -     Simulating 90 keV\n",
      "[2021-07-29 11:27:48,147] {simulate.py:565} INFO -     Simulating 100 keV\n",
      "[2021-07-29 11:27:48,468] {simulate.py:565} INFO -     Simulating 300 keV\n",
      "[2021-07-29 11:27:48,793] {simulate.py:565} INFO -     Simulating 500 keV\n",
      "[2021-07-29 11:27:49,124] {simulate.py:565} INFO -     Simulating 700 keV\n",
      "[2021-07-29 11:27:49,451] {simulate.py:565} INFO -     Simulating 900 keV\n",
      "[2021-07-29 11:27:49,781] {simulate.py:565} INFO -     Simulating 1000 keV\n",
      "[2021-07-29 11:27:50,111] {simulate.py:565} INFO -     Simulating 2000 keV\n",
      "[2021-07-29 11:27:50,451] {simulate.py:763} INFO - Weighting simulations\n",
      "[2021-07-29 11:27:50,452] {simulate.py:841} INFO -     Added noise 63.37203841353532 times reference\n",
      "[2021-07-29 11:27:51,497] {legend.py:1193} WARNING - No handles with labels found to put in legend.\n",
      "This is MV\n",
      "[2021-07-29 11:27:51,523] {simulate.py:214} INFO - Initializing filter bowtie_real\n",
      "[2021-07-29 11:27:51,524] {simulate.py:219} INFO - Loading attenuations from 404_phan_480_160mm\n",
      "[2021-07-29 11:27:51,551] {simulate.py:534} INFO - Loading attenuations is on\n",
      "[2021-07-29 11:27:51,551] {simulate.py:536} INFO - Running Simulations\n",
      "[2021-07-29 11:27:51,552] {simulate.py:555} INFO -     Fast Noise algo! Beware of innacurate results\n",
      "[2021-07-29 11:27:51,552] {simulate.py:565} INFO -     Simulating 10 keV\n",
      "[2021-07-29 11:27:51,972] {simulate.py:565} INFO -     Simulating 20 keV\n",
      "[2021-07-29 11:27:52,286] {simulate.py:565} INFO -     Simulating 30 keV\n",
      "[2021-07-29 11:27:52,604] {simulate.py:565} INFO -     Simulating 40 keV\n",
      "[2021-07-29 11:27:52,924] {simulate.py:565} INFO -     Simulating 50 keV\n",
      "[2021-07-29 11:27:53,256] {simulate.py:565} INFO -     Simulating 60 keV\n",
      "[2021-07-29 11:27:53,584] {simulate.py:565} INFO -     Simulating 70 keV\n",
      "[2021-07-29 11:27:53,901] {simulate.py:565} INFO -     Simulating 80 keV\n",
      "[2021-07-29 11:27:54,223] {simulate.py:565} INFO -     Simulating 90 keV\n",
      "[2021-07-29 11:27:54,538] {simulate.py:565} INFO -     Simulating 100 keV\n",
      "[2021-07-29 11:27:54,864] {simulate.py:565} INFO -     Simulating 300 keV\n",
      "[2021-07-29 11:27:55,190] {simulate.py:565} INFO -     Simulating 500 keV\n",
      "[2021-07-29 11:27:55,514] {simulate.py:565} INFO -     Simulating 700 keV\n",
      "[2021-07-29 11:27:55,841] {simulate.py:565} INFO -     Simulating 900 keV\n",
      "[2021-07-29 11:27:56,173] {simulate.py:565} INFO -     Simulating 1000 keV\n",
      "[2021-07-29 11:27:56,513] {simulate.py:565} INFO -     Simulating 2000 keV\n",
      "[2021-07-29 11:27:56,847] {simulate.py:763} INFO - Weighting simulations\n",
      "[2021-07-29 11:27:56,848] {simulate.py:841} INFO -     Added noise 1.2486998214305696 times reference\n",
      "[2021-07-29 11:27:57,893] {legend.py:1193} WARNING - No handles with labels found to put in legend.\n",
      "This is MV\n",
      "[2021-07-29 11:27:57,912] {simulate.py:214} INFO - Initializing filter bowtie_real\n",
      "[2021-07-29 11:27:57,913] {simulate.py:219} INFO - Loading attenuations from 404_phan_480_160mm\n",
      "[2021-07-29 11:27:57,940] {simulate.py:534} INFO - Loading attenuations is on\n",
      "[2021-07-29 11:27:57,940] {simulate.py:536} INFO - Running Simulations\n",
      "[2021-07-29 11:27:57,941] {simulate.py:555} INFO -     Fast Noise algo! Beware of innacurate results\n",
      "[2021-07-29 11:27:57,941] {simulate.py:565} INFO -     Simulating 10 keV\n",
      "[2021-07-29 11:27:58,366] {simulate.py:565} INFO -     Simulating 20 keV\n",
      "[2021-07-29 11:27:58,687] {simulate.py:565} INFO -     Simulating 30 keV\n",
      "[2021-07-29 11:27:59,026] {simulate.py:565} INFO -     Simulating 40 keV\n",
      "[2021-07-29 11:27:59,345] {simulate.py:565} INFO -     Simulating 50 keV\n",
      "[2021-07-29 11:27:59,663] {simulate.py:565} INFO -     Simulating 60 keV\n",
      "[2021-07-29 11:27:59,984] {simulate.py:565} INFO -     Simulating 70 keV\n",
      "[2021-07-29 11:28:00,314] {simulate.py:565} INFO -     Simulating 80 keV\n",
      "[2021-07-29 11:28:00,632] {simulate.py:565} INFO -     Simulating 90 keV\n",
      "[2021-07-29 11:28:00,956] {simulate.py:565} INFO -     Simulating 100 keV\n",
      "[2021-07-29 11:28:01,286] {simulate.py:565} INFO -     Simulating 300 keV\n",
      "[2021-07-29 11:28:01,617] {simulate.py:565} INFO -     Simulating 500 keV\n",
      "[2021-07-29 11:28:01,948] {simulate.py:565} INFO -     Simulating 700 keV\n",
      "[2021-07-29 11:28:02,293] {simulate.py:565} INFO -     Simulating 900 keV\n",
      "[2021-07-29 11:28:02,630] {simulate.py:565} INFO -     Simulating 1000 keV\n",
      "[2021-07-29 11:28:02,957] {simulate.py:565} INFO -     Simulating 2000 keV\n",
      "[2021-07-29 11:28:03,282] {simulate.py:565} INFO -     Simulating 4000 keV\n",
      "[2021-07-29 11:28:03,617] {simulate.py:565} INFO -     Simulating 6000 keV\n",
      "[2021-07-29 11:28:03,932] {simulate.py:763} INFO - Weighting simulations\n",
      "[2021-07-29 11:28:03,933] {simulate.py:841} INFO -     Added noise 0.15321106843936724 times reference\n",
      "[2021-07-29 11:28:04,983] {legend.py:1193} WARNING - No handles with labels found to put in legend.\n",
      "This is MV\n",
      "[2021-07-29 11:28:05,016] {simulate.py:214} INFO - Initializing filter bowtie_real\n",
      "[2021-07-29 11:28:05,016] {simulate.py:219} INFO - Loading attenuations from 404_phan_480_160mm\n",
      "[2021-07-29 11:28:05,041] {simulate.py:534} INFO - Loading attenuations is on\n",
      "[2021-07-29 11:28:05,041] {simulate.py:536} INFO - Running Simulations\n",
      "[2021-07-29 11:28:05,041] {simulate.py:555} INFO -     Fast Noise algo! Beware of innacurate results\n",
      "[2021-07-29 11:28:05,042] {simulate.py:565} INFO -     Simulating 10 keV\n",
      "[2021-07-29 11:28:05,464] {simulate.py:565} INFO -     Simulating 20 keV\n",
      "[2021-07-29 11:28:05,780] {simulate.py:565} INFO -     Simulating 30 keV\n",
      "[2021-07-29 11:28:06,107] {simulate.py:565} INFO -     Simulating 40 keV\n",
      "[2021-07-29 11:28:06,426] {simulate.py:565} INFO -     Simulating 50 keV\n",
      "[2021-07-29 11:28:06,743] {simulate.py:565} INFO -     Simulating 60 keV\n",
      "[2021-07-29 11:28:07,060] {simulate.py:565} INFO -     Simulating 70 keV\n",
      "[2021-07-29 11:28:07,376] {simulate.py:565} INFO -     Simulating 80 keV\n",
      "[2021-07-29 11:28:07,696] {simulate.py:565} INFO -     Simulating 90 keV\n",
      "[2021-07-29 11:28:08,024] {simulate.py:565} INFO -     Simulating 100 keV\n",
      "[2021-07-29 11:28:08,352] {simulate.py:565} INFO -     Simulating 300 keV\n",
      "[2021-07-29 11:28:08,686] {simulate.py:565} INFO -     Simulating 500 keV\n",
      "[2021-07-29 11:28:09,009] {simulate.py:565} INFO -     Simulating 700 keV\n",
      "[2021-07-29 11:28:09,343] {simulate.py:565} INFO -     Simulating 900 keV\n",
      "[2021-07-29 11:28:09,668] {simulate.py:565} INFO -     Simulating 1000 keV\n",
      "[2021-07-29 11:28:10,003] {simulate.py:565} INFO -     Simulating 2000 keV\n",
      "[2021-07-29 11:28:10,338] {simulate.py:565} INFO -     Simulating 4000 keV\n",
      "[2021-07-29 11:28:10,674] {simulate.py:565} INFO -     Simulating 6000 keV\n",
      "[2021-07-29 11:28:11,004] {simulate.py:763} INFO - Weighting simulations\n",
      "[2021-07-29 11:28:11,005] {simulate.py:841} INFO -     Added noise 25.17283082886043 times reference\n",
      "[2021-07-29 11:28:12,038] {legend.py:1193} WARNING - No handles with labels found to put in legend.\n",
      "This is MV\n",
      "[2021-07-29 11:28:12,064] {simulate.py:214} INFO - Initializing filter bowtie_real\n",
      "[2021-07-29 11:28:12,065] {simulate.py:219} INFO - Loading attenuations from 404_phan_480_160mm\n",
      "[2021-07-29 11:28:12,094] {simulate.py:534} INFO - Loading attenuations is on\n",
      "[2021-07-29 11:28:12,094] {simulate.py:536} INFO - Running Simulations\n",
      "[2021-07-29 11:28:12,095] {simulate.py:555} INFO -     Fast Noise algo! Beware of innacurate results\n",
      "[2021-07-29 11:28:12,095] {simulate.py:565} INFO -     Simulating 10 keV\n",
      "[2021-07-29 11:28:12,524] {simulate.py:565} INFO -     Simulating 20 keV\n",
      "[2021-07-29 11:28:12,841] {simulate.py:565} INFO -     Simulating 30 keV\n",
      "[2021-07-29 11:28:13,163] {simulate.py:565} INFO -     Simulating 40 keV\n",
      "[2021-07-29 11:28:13,483] {simulate.py:565} INFO -     Simulating 50 keV\n",
      "[2021-07-29 11:28:13,811] {simulate.py:565} INFO -     Simulating 60 keV\n",
      "[2021-07-29 11:28:14,130] {simulate.py:565} INFO -     Simulating 70 keV\n",
      "[2021-07-29 11:28:14,456] {simulate.py:565} INFO -     Simulating 80 keV\n",
      "[2021-07-29 11:28:14,779] {simulate.py:565} INFO -     Simulating 90 keV\n",
      "[2021-07-29 11:28:15,104] {simulate.py:565} INFO -     Simulating 100 keV\n",
      "[2021-07-29 11:28:15,435] {simulate.py:565} INFO -     Simulating 300 keV\n",
      "[2021-07-29 11:28:15,764] {simulate.py:565} INFO -     Simulating 500 keV\n",
      "[2021-07-29 11:28:16,093] {simulate.py:565} INFO -     Simulating 700 keV\n",
      "[2021-07-29 11:28:16,426] {simulate.py:565} INFO -     Simulating 900 keV\n",
      "[2021-07-29 11:28:16,757] {simulate.py:565} INFO -     Simulating 1000 keV\n",
      "[2021-07-29 11:28:17,084] {simulate.py:565} INFO -     Simulating 2000 keV\n",
      "[2021-07-29 11:28:17,408] {simulate.py:565} INFO -     Simulating 4000 keV\n",
      "[2021-07-29 11:28:17,738] {simulate.py:565} INFO -     Simulating 6000 keV\n",
      "[2021-07-29 11:28:18,061] {simulate.py:763} INFO - Weighting simulations\n",
      "[2021-07-29 11:28:18,062] {simulate.py:841} INFO -     Added noise 0.34577683804020476 times reference\n",
      "[2021-07-29 11:28:19,140] {legend.py:1193} WARNING - No handles with labels found to put in legend.\n"
     ]
    }
   ],
   "source": [
    "nviews = 480\n",
    "\n",
    "contrasts_show = []\n",
    "mtfs = []\n",
    "label = []\n",
    "effs = []\n",
    "nps = []\n",
    "doses = []\n",
    "\n",
    "for phan in phantoms[:1]:\n",
    "    phantom = fc.Catphan_404(hi_res=False)\n",
    "    phantom.phan_map = phan_map\n",
    "    s = fc.Spectrum()\n",
    "    for spectrum in spectra:\n",
    "        for det in MV_detectors:#[1:2]:\n",
    "\n",
    "            if len(spectrum) > 4:\n",
    "                s.load(spectrum.split('/')[-1].split('.')[0])\n",
    "                print('This is MV')\n",
    "#                 s.y[-50:] = 0\n",
    "#                 s.attenuate(0.2,fc.get_mu(z=13)) #was 0.3\n",
    "#                 s.attenuate(0.089,fc.get_mu(z=22))\n",
    "#                 s.attenuate(1,fc.get_mu(z=13))\n",
    "            else:\n",
    "                s.x = xx\n",
    "                s.y = yy\n",
    "                print('This is kV')\n",
    "#                 s.attenuate(1,fc.get_mu(z=13))\n",
    "                \n",
    "            s.attenuate(0.4,fc.get_mu(z=13)) #was 0.3\n",
    "            s.attenuate(0.089,fc.get_mu(z=22))\n",
    "            kernel = fc.Detector(s, det.split('/')[-1].split('.')[0])\n",
    "#             kernel.get_plot_mtf_real(axs[2])\n",
    "#             mtfs.append([kernel.freq,kernel.mtf])\n",
    "            angles = np.linspace(0,np.pi*2,nviews,endpoint=False)        \n",
    "            if len(spectrum) < 4:\n",
    "                phantom.return_projs(kernel,s,angles,det_on=True,convolve_on=False,mgy = 20/nviews,ASG=True,bowtie=True,filter='bowtie_real',load_proj=True,proj_file='404_phan_480_160mm')\n",
    "#                 phantom.return_projs(kernel,s,angles,det_on=True,convolve_on=False,mgy = 7/nviews,ASG=True,bowtie=True,filter='bowtie_real',load_proj=True,proj_file='404_phan_480_160mm_fe')\n",
    "            else:\n",
    "                phantom.return_projs(kernel,s,angles,det_on=True,convolve_on=False,mgy = 20/nviews,ASG=False,bowtie=True,filter='bowtie_real',load_proj=True,proj_file='404_phan_480_160mm')\n",
    "#                 phantom.return_projs(kernel,s,angles,det_on=True,convolve_on=False,mgy = 7/nviews,ASG=False,bowtie=True,filter='bowtie_real',load_proj=True,proj_file='404_phan_480_160mm_fe')\n",
    "                \n",
    "            phantom.reconstruct('FDK')\n",
    "#             phantom.reconstruct('CGLS')\n",
    "            contrasts_show.append(phantom.analyse_515(phantom.img[5],axs))\n",
    "            label.append(spectrum.split('/')[-1].split('.')[0] + det.split('/')[-1].split('.')[0])\n",
    "            effs.append(phantom.ratio)\n",
    "            nps.append(phantom.nphoton_av)\n",
    "            doses.append(phantom.doses)\n",
    "            \n",
    "\n",
    "#             break\n",
    "#         break\n",
    "#     break"
   ]
  },
  {
   "cell_type": "code",
   "execution_count": 32,
   "metadata": {},
   "outputs": [],
   "source": [
    "np.save('cnr_bowtie_asg',contrasts_show)\n",
    "np.save('mtfs_bowtie_asg',mtfs)\n",
    "np.save('labels_bowtie_asg',label)"
   ]
  },
  {
   "cell_type": "code",
   "execution_count": 49,
   "metadata": {},
   "outputs": [
    {
     "data": {
      "application/vnd.jupyter.widget-view+json": {
       "model_id": "d778d758b2c049a8bcd3a23e89917578",
       "version_major": 2,
       "version_minor": 0
      },
      "text/plain": [
       "Canvas(toolbar=Toolbar(toolitems=[('Home', 'Reset original view', 'home', 'home'), ('Back', 'Back to previous …"
      ]
     },
     "metadata": {},
     "output_type": "display_data"
    },
    {
     "name": "stdout",
     "output_type": "stream",
     "text": [
      "[2021-07-29 13:25:04,547] {backend_pdf.py:763} DEBUG - Assigning font /b'F1' = '/home/xcite/anaconda3/lib/python3.7/site-packages/matplotlib/mpl-data/fonts/ttf/DejaVuSans.ttf'\n",
      "[2021-07-29 13:25:04,639] {backend_pdf.py:805} DEBUG - Embedding font /home/xcite/anaconda3/lib/python3.7/site-packages/matplotlib/mpl-data/fonts/ttf/DejaVuSans.ttf.\n",
      "[2021-07-29 13:25:04,639] {backend_pdf.py:812} DEBUG - Writing TrueType font.\n"
     ]
    }
   ],
   "source": [
    "inds_i_want = [0,3,2,1]\n",
    "xx = np.linspace(0,1,5)#np.arange(5)\n",
    "top = 60\n",
    "labs = ['120 kVp','2.5 MV C','6 MV C','2.5 MV W','6 MV W']\n",
    "cc = np.array([np.array(contrasts_show[ii][3])[inds_i_want] for ii in range(len(contrasts_show))])\n",
    "ee = np.array([np.array(contrasts_show[ii][4])[inds_i_want] for ii in range(len(contrasts_show))])\n",
    "# ll = np.array([np.array(label[ii]) for ii in range(len(contrasts_show))])\n",
    "\n",
    "inds = np.array([0,1,2,3,4])\n",
    "# plt.figure(figsize=[8,4])#,dpi=300)\n",
    "plt.figure(figsize=[10,5])#  ,dpi=300)\n",
    "\n",
    "alph = 1\n",
    "hat = None\n",
    "plt.rcParams['axes.axisbelow'] = True\n",
    "\n",
    "# plt.title('Contrast to Noise Ratio')\n",
    "plt.subplot(131)\n",
    "plt.title('CWO',{'fontsize':'x-large'})\n",
    "\n",
    "x2,y2 = -0.5,62\n",
    "plt.text(x2,y2,'(a)',color='cornflowerblue',fontsize=16)\n",
    "# plt.bar(xx-0.09,cc.flatten()[::4][1::3][inds], yerr = ee.flatten()[::4][1::3][inds],width=0.06,color='lightcoral',alpha=alph,hatch=hat,fill=True)\n",
    "# plt.bar(xx-0.15,cc.flatten()[1::4][1::3][inds], yerr = ee.flatten()[1::4][1::3][inds],width=0.06,color='darkorange',alpha=alph,hatch=hat,fill=True)\n",
    "plt.bar(xx-0.21,cc.flatten()[3::4][1::3][inds], yerr = ee.flatten()[3::4][1::3][inds],width=0.06,color='cornflowerblue',alpha=alph,hatch=hat,fill=True)\n",
    "plt.bar(xx-0.27,cc.flatten()[2::4][1::3][inds], yerr = ee.flatten()[2::4][1::3][inds],width=0.06,color='k',alpha=alph,hatch=hat,fill=True)\n",
    "plt.bar(xx[0]-0.09+off,cc.flatten()[1::4][1::3][inds][0], yerr = ee.flatten()[1::4][1::3][inds][0],width=0.06,color='darkorange',alpha=alph,hatch=hat,fill=True)\n",
    "plt.bar(xx[0]-0.15+off,cc.flatten()[::4][1::3][inds][0], yerr = ee.flatten()[::4][1::3][inds][0],width=0.06,color='lightcoral',alpha=alph,hatch=hat,fill=True)\n",
    "plt.bar(xx[1:]-0.15+off,cc.flatten()[1::4][1::3][inds][1:], yerr = ee.flatten()[1::4][1::3][inds][1:],width=0.06,color='darkorange',alpha=alph,hatch=hat,fill=True)\n",
    "plt.bar(xx[1:]-0.09+off,cc.flatten()[::4][1::3][inds][1:], yerr = ee.flatten()[::4][1::3][inds][1:],width=0.06,color='lightcoral',alpha=alph,hatch=hat,fill=True)\n",
    "plt.ylabel('CNR')\n",
    "plt.xticks(np.array([-0.3,-0.05,0.2,0.45,0.70])+0.12,labs,rotation=45)\n",
    "plt.grid('on')\n",
    "plt.ylim([0,top])\n",
    "\n",
    "off = 0\n",
    "hat = None\n",
    "\n",
    "plt.subplot(132)\n",
    "plt.title('CsI',{'fontsize':'x-large'})\n",
    "x2,y2 = -0.5,62\n",
    "plt.text(x2,y2,'(b)',color='cornflowerblue',fontsize=16)\n",
    "plt.grid('on')\n",
    "plt.bar(xx-0.27+off,cc.flatten()[2::4][::3][inds], yerr = ee.flatten()[2::4][::3][inds],width=0.06,color='k',alpha=alph,hatch=hat,fill=True)\n",
    "plt.bar(xx-0.21+off,cc.flatten()[3::4][::3][inds], yerr = ee.flatten()[3::4][::3][inds],width=0.06,color='cornflowerblue',alpha=alph,hatch=hat,fill=True)\n",
    "plt.bar(xx[0]-0.09+off,cc.flatten()[1::4][::3][inds][0], yerr = ee.flatten()[1::4][::3][inds][0],width=0.06,color='darkorange',alpha=alph,hatch=hat,fill=True)\n",
    "plt.bar(xx[0]-0.15+off,cc.flatten()[::4][::3][inds][0], yerr = ee.flatten()[::4][::3][inds][0],width=0.06,color='lightcoral',alpha=alph,hatch=hat,fill=True)\n",
    "plt.bar(xx[1:]-0.15+off,cc.flatten()[1::4][::3][inds][1:], yerr = ee.flatten()[1::4][::3][inds][1:],width=0.06,color='darkorange',alpha=alph,hatch=hat,fill=True)\n",
    "plt.bar(xx[1:]-0.09+off,cc.flatten()[::4][::3][inds][1:], yerr = ee.flatten()[::4][::3][inds][1:],width=0.06,color='lightcoral',alpha=alph,hatch=hat,fill=True)\n",
    "plt.ylim([0,top])\n",
    "# plt.yticks([0,5,10,15,20,25,30],labels=[])\n",
    "plt.xticks(np.array([-0.3,-0.05,0.2,0.45,0.70])+0.12,labs,rotation=45)\n",
    "off = 0\n",
    "plt.subplot(133)\n",
    "plt.title('GOS',{'fontsize':'x-large'})\n",
    "x2,y2 = -0.5,62\n",
    "plt.text(x2,y2,'(c)',color='cornflowerblue',fontsize=16)\n",
    "plt.grid('on')\n",
    "plt.bar(xx-0.27+off,cc.flatten()[2::4][2::3][inds], yerr = ee.flatten()[2::4][2::3][inds],width=0.06,color='k',alpha=alph,hatch=hat,fill=True)\n",
    "plt.bar(xx-0.21+off,cc.flatten()[3::4][2::3][inds], yerr = ee.flatten()[3::4][2::3][inds],width=0.06,color='cornflowerblue',alpha=alph,hatch=hat,fill=True)\n",
    "plt.bar(xx[0]-0.09+off,cc.flatten()[1::4][2::3][inds][0], yerr = ee.flatten()[1::4][::3][inds][0],width=0.06,color='darkorange',alpha=alph,hatch=hat,fill=True)\n",
    "plt.bar(xx[0]-0.15+off,cc.flatten()[::4][2::3][inds][0], yerr = ee.flatten()[::4][2::3][inds][0],width=0.06,color='lightcoral',alpha=alph,hatch=hat,fill=True)\n",
    "plt.bar(xx[1:]-0.15+off,cc.flatten()[1::4][2::3][inds][1:], yerr = ee.flatten()[1::4][2::3][inds][1:],width=0.06,color='darkorange',alpha=alph,hatch=hat,fill=True)\n",
    "plt.bar(xx[1:]-0.09+off,cc.flatten()[::4][2::3][inds][1:], yerr = ee.flatten()[::4][2::3][inds][1:],width=0.06,color='lightcoral',alpha=alph,hatch=hat,fill=True)\n",
    "\n",
    "plt.ylim([0,top])\n",
    "# plt.yticks([0,5,10,15,20,25,30],labels=[])\n",
    "plt.xticks(np.array([-0.3,-0.05,0.2,0.45,0.70])+0.12,labs,rotation=45)\n",
    "\n",
    "plt.legend(['Rib Bone','Lung','Adipose','Spongiosa'])\n",
    "# ax = plt.gca().add_artist(first_legend)\n",
    "\n",
    "\n",
    "plt.tight_layout()\n",
    "plt.savefig('/home/xcite/fastcat_paper_2_tmi/figures/CNR.pdf')"
   ]
  },
  {
   "cell_type": "code",
   "execution_count": 42,
   "metadata": {},
   "outputs": [
    {
     "data": {
      "application/vnd.jupyter.widget-view+json": {
       "model_id": "9e5020d68082493785031e4260983f2f",
       "version_major": 2,
       "version_minor": 0
      },
      "text/plain": [
       "Canvas(toolbar=Toolbar(toolitems=[('Home', 'Reset original view', 'home', 'home'), ('Back', 'Back to previous …"
      ]
     },
     "metadata": {},
     "output_type": "display_data"
    }
   ],
   "source": [
    "contrasts_old = np.load('cnr_bowtie_asg.npy',allow_pickle=True)\n",
    "contrasts_show = np.load('/home/xcite/fastcat_extra_files/data_second_paper/cnr_new_noisy_404.npy',allow_pickle=True)\n",
    "\n",
    "\n",
    "contrasts_show[:6] = contrasts_old[:6]\n",
    "# contrasts_show[1] = contrasts_old[1]\n",
    "\n",
    "contrasts_show[0] = contrasts_old[0]\n",
    "inds_i_want = [0,3,2,1]\n",
    "xx = np.linspace(0,1,5)#np.arange(5)\n",
    "top = 60\n",
    "labs = ['120 kVp','2.5 MV C','6 MV C','2.5 MV W','6 MV W']\n",
    "cc = np.array([np.array(contrasts_show[ii][3])[inds_i_want] for ii in range(len(contrasts_show))])\n",
    "ee = np.array([np.array(contrasts_show[ii][4])[inds_i_want] for ii in range(len(contrasts_show))])\n",
    "# ll = np.array([np.array(label[ii]) for ii in range(len(contrasts_show))])\n",
    "\n",
    "inds = np.array([0,1,2,3,4])\n",
    "# plt.figure(figsize=[8,4])#,dpi=300)\n",
    "plt.figure(figsize=[10,5])#  ,dpi=300)\n",
    "\n",
    "alph = 1\n",
    "hat = None\n",
    "plt.rcParams['axes.axisbelow'] = True\n",
    "\n",
    "# plt.title('Contrast to Noise Ratio')\n",
    "plt.subplot(131)\n",
    "plt.title('CWO',{'fontsize':'x-large'})\n",
    "\n",
    "x2,y2 = -0.5,31\n",
    "plt.text(x2,y2,'(a)',color='cornflowerblue',fontsize=16)\n",
    "plt.bar(xx-0.09,cc.flatten()[::4][1::3][inds], yerr = ee.flatten()[::4][1::3][inds],width=0.06,color='lightcoral',alpha=alph,hatch=hat,fill=True)\n",
    "plt.bar(xx-0.15,cc.flatten()[1::4][1::3][inds], yerr = ee.flatten()[1::4][1::3][inds],width=0.06,color='darkorange',alpha=alph,hatch=hat,fill=True)\n",
    "plt.bar(xx-0.21,cc.flatten()[3::4][1::3][inds], yerr = ee.flatten()[3::4][1::3][inds],width=0.06,color='cornflowerblue',alpha=alph,hatch=hat,fill=True)\n",
    "plt.bar(xx-0.27,cc.flatten()[2::4][1::3][inds], yerr = ee.flatten()[2::4][1::3][inds],width=0.06,color='k',alpha=alph,hatch=hat,fill=True)\n",
    "\n",
    "plt.ylabel('CNR')\n",
    "plt.xticks(np.array([-0.3,-0.05,0.2,0.45,0.70])+0.12,labs,rotation=45)\n",
    "plt.grid('on')\n",
    "plt.ylim([0,top])\n",
    "\n",
    "off = 0\n",
    "hat = None\n",
    "\n",
    "plt.subplot(132)\n",
    "plt.title('CsI',{'fontsize':'x-large'})\n",
    "x2,y2 = -0.5,31\n",
    "plt.text(x2,y2,'(b)',color='cornflowerblue',fontsize=16)\n",
    "plt.grid('on')\n",
    "plt.bar(xx-0.27+off,cc.flatten()[2::4][::3][inds], yerr = ee.flatten()[2::4][::3][inds],width=0.06,color='k',alpha=alph,hatch=hat,fill=True)\n",
    "plt.bar(xx-0.21+off,cc.flatten()[3::4][::3][inds], yerr = ee.flatten()[3::4][::3][inds],width=0.06,color='cornflowerblue',alpha=alph,hatch=hat,fill=True)\n",
    "plt.bar(xx-0.15+off,cc.flatten()[1::4][::3][inds], yerr = ee.flatten()[1::4][::3][inds],width=0.06,color='darkorange',alpha=alph,hatch=hat,fill=True)\n",
    "plt.bar(xx-0.09+off,cc.flatten()[::4][::3][inds], yerr = ee.flatten()[::4][::3][inds],width=0.06,color='lightcoral',alpha=alph,hatch=hat,fill=True)\n",
    "plt.ylim([0,top])\n",
    "# plt.yticks([0,5,10,15,20,25,30],labels=[])\n",
    "plt.xticks(np.array([-0.3,-0.05,0.2,0.45,0.70])+0.12,labs,rotation=45)\n",
    "off = 0\n",
    "plt.subplot(133)\n",
    "plt.title('GOS',{'fontsize':'x-large'})\n",
    "x2,y2 = -0.5,31\n",
    "plt.text(x2,y2,'(c)',color='cornflowerblue',fontsize=16)\n",
    "plt.grid('on')\n",
    "plt.bar(xx-0.27+off,cc.flatten()[2::4][2::3][inds], yerr = ee.flatten()[2::4][2::3][inds],width=0.06,color='k',alpha=alph,hatch=hat,fill=True)\n",
    "plt.bar(xx-0.21+off,cc.flatten()[3::4][2::3][inds], yerr = ee.flatten()[3::4][2::3][inds],width=0.06,color='cornflowerblue',alpha=alph,hatch=hat,fill=True)\n",
    "plt.bar(xx-0.15+off,cc.flatten()[1::4][2::3][inds], yerr = ee.flatten()[1::4][2::3][inds],width=0.06,color='darkorange',alpha=alph,hatch=hat,fill=True)\n",
    "plt.bar(xx-0.09+off,cc.flatten()[::4][2::3][inds], yerr = ee.flatten()[::4][2::3][inds],width=0.06,color='lightcoral',alpha=alph,hatch=hat,fill=True)\n",
    "\n",
    "plt.ylim([0,top])\n",
    "# plt.yticks([0,5,10,15,20,25,30],labels=[])\n",
    "plt.xticks(np.array([-0.3,-0.05,0.2,0.45,0.70])+0.12,labs,rotation=45)\n",
    "\n",
    "plt.legend(['Rib Bone','Lung','Adipose','Spongiosa'])\n",
    "# ax = plt.gca().add_artist(first_legend)\n",
    "\n",
    "\n",
    "plt.tight_layout()\n",
    "# plt.savefig('/home/xcite/fastcat_paper_2_tmi/figures/CNR.pdf')"
   ]
  },
  {
   "cell_type": "code",
   "execution_count": null,
   "metadata": {},
   "outputs": [],
   "source": []
  },
  {
   "cell_type": "code",
   "execution_count": 19,
   "metadata": {},
   "outputs": [
    {
     "data": {
      "application/vnd.jupyter.widget-view+json": {
       "model_id": "9c80622b56c74a79a1b74026d3baf4b8",
       "version_major": 2,
       "version_minor": 0
      },
      "text/plain": [
       "Canvas(toolbar=Toolbar(toolitems=[('Home', 'Reset original view', 'home', 'home'), ('Back', 'Back to previous …"
      ]
     },
     "metadata": {},
     "output_type": "display_data"
    }
   ],
   "source": [
    "inds_i_want = [0,3,2,1]\n",
    "xx = np.linspace(0,1,5)#np.arange(5)\n",
    "\n",
    "labs = ['120 kVp','2.5 MV C','6 MV C','2.5 MV W','6 MV W']\n",
    "cc = np.array([np.array(contrasts_show[ii][1])[inds_i_want] for ii in range(len(contrasts_show))])\n",
    "ee = np.array([np.array(contrasts_show[ii][2])[inds_i_want] for ii in range(len(contrasts_show))])\n",
    "# ll = np.array([np.array(label[ii]) for ii in range(len(contrasts_show))])\n",
    "\n",
    "inds = np.array([0,1,2,3,4])\n",
    "# plt.figure(figsize=[8,4])#,dpi=300)\n",
    "plt.figure(figsize=[10,5])#  ,dpi=300)\n",
    "\n",
    "alph = 1\n",
    "hat = None\n",
    "plt.rcParams['axes.axisbelow'] = True\n",
    "\n",
    "# plt.title('Contrast to Noise Ratio')\n",
    "plt.subplot(131)\n",
    "plt.title('CWO',{'fontsize':'x-large'})\n",
    "\n",
    "x2,y2 = -0.5,31\n",
    "plt.text(x2,y2,'(a)',color='cornflowerblue',fontsize=16)\n",
    "plt.bar(xx-0.09,cc.flatten()[::4][1::3][inds], yerr = ee.flatten()[::4][1::3][inds],width=0.06,color='lightcoral',alpha=alph,hatch=hat,fill=True)\n",
    "plt.bar(xx-0.15,cc.flatten()[1::4][1::3][inds], yerr = ee.flatten()[1::4][1::3][inds],width=0.06,color='darkorange',alpha=alph,hatch=hat,fill=True)\n",
    "plt.bar(xx-0.21,cc.flatten()[3::4][1::3][inds], yerr = ee.flatten()[3::4][1::3][inds],width=0.06,color='cornflowerblue',alpha=alph,hatch=hat,fill=True)\n",
    "plt.bar(xx-0.27,cc.flatten()[2::4][1::3][inds], yerr = ee.flatten()[2::4][1::3][inds],width=0.06,color='k',alpha=alph,hatch=hat,fill=True)\n",
    "\n",
    "plt.ylabel('CNR')\n",
    "plt.xticks(np.array([-0.3,-0.05,0.2,0.45,0.70])+0.12,labs,rotation=45)\n",
    "plt.grid('on')\n",
    "plt.ylim([0,90])\n",
    "\n",
    "off = 0\n",
    "hat = None\n",
    "\n",
    "plt.subplot(132)\n",
    "plt.title('CsI',{'fontsize':'x-large'})\n",
    "x2,y2 = -0.5,31\n",
    "plt.text(x2,y2,'(b)',color='cornflowerblue',fontsize=16)\n",
    "plt.grid('on')\n",
    "plt.bar(xx-0.27+off,cc.flatten()[2::4][::3][inds], yerr = ee.flatten()[2::4][::3][inds],width=0.06,color='k',alpha=alph,hatch=hat,fill=True)\n",
    "plt.bar(xx-0.21+off,cc.flatten()[3::4][::3][inds], yerr = ee.flatten()[3::4][::3][inds],width=0.06,color='cornflowerblue',alpha=alph,hatch=hat,fill=True)\n",
    "plt.bar(xx-0.15+off,cc.flatten()[1::4][::3][inds], yerr = ee.flatten()[1::4][::3][inds],width=0.06,color='darkorange',alpha=alph,hatch=hat,fill=True)\n",
    "plt.bar(xx-0.09+off,cc.flatten()[::4][::3][inds], yerr = ee.flatten()[::4][::3][inds],width=0.06,color='lightcoral',alpha=alph,hatch=hat,fill=True)\n",
    "plt.ylim([0,90])\n",
    "# plt.yticks([0,5,10,15,20,25,30],labels=[])\n",
    "plt.xticks(np.array([-0.3,-0.05,0.2,0.45,0.70])+0.12,labs,rotation=45)\n",
    "off = 0\n",
    "plt.subplot(133)\n",
    "plt.title('GOS',{'fontsize':'x-large'})\n",
    "x2,y2 = -0.5,31\n",
    "plt.text(x2,y2,'(c)',color='cornflowerblue',fontsize=16)\n",
    "plt.grid('on')\n",
    "plt.bar(xx-0.27+off,cc.flatten()[2::4][2::3][inds], yerr = ee.flatten()[2::4][2::3][inds],width=0.06,color='k',alpha=alph,hatch=hat,fill=True)\n",
    "plt.bar(xx-0.21+off,cc.flatten()[3::4][2::3][inds], yerr = ee.flatten()[3::4][2::3][inds],width=0.06,color='cornflowerblue',alpha=alph,hatch=hat,fill=True)\n",
    "plt.bar(xx-0.15+off,cc.flatten()[1::4][2::3][inds], yerr = ee.flatten()[1::4][2::3][inds],width=0.06,color='darkorange',alpha=alph,hatch=hat,fill=True)\n",
    "plt.bar(xx-0.09+off,cc.flatten()[::4][2::3][inds], yerr = ee.flatten()[::4][2::3][inds],width=0.06,color='lightcoral',alpha=alph,hatch=hat,fill=True)\n",
    "\n",
    "plt.ylim([0,90])\n",
    "# plt.yticks([0,5,10,15,20,25,30],labels=[])\n",
    "plt.xticks(np.array([-0.3,-0.05,0.2,0.45,0.70])+0.12,labs,rotation=45)\n",
    "\n",
    "plt.legend(['Rib Bone','Lung','Adipose','Spongiosa'])\n",
    "# ax = plt.gca().add_artist(first_legend)\n",
    "\n",
    "\n",
    "plt.tight_layout()"
   ]
  },
  {
   "cell_type": "code",
   "execution_count": null,
   "metadata": {},
   "outputs": [],
   "source": []
  },
  {
   "cell_type": "code",
   "execution_count": 129,
   "metadata": {},
   "outputs": [
    {
     "data": {
      "application/vnd.jupyter.widget-view+json": {
       "model_id": "2c7f13284efc4c57bf07700f5db0c364",
       "version_major": 2,
       "version_minor": 0
      },
      "text/plain": [
       "Canvas(toolbar=Toolbar(toolitems=[('Home', 'Reset original view', 'home', 'home'), ('Back', 'Back to previous …"
      ]
     },
     "metadata": {},
     "output_type": "display_data"
    },
    {
     "data": {
      "text/plain": [
       "<matplotlib.image.AxesImage at 0x7ff94ea07650>"
      ]
     },
     "execution_count": 129,
     "metadata": {},
     "output_type": "execute_result"
    }
   ],
   "source": [
    "plt.figure()\n",
    "plt.imshow(phantom.img[5])"
   ]
  },
  {
   "cell_type": "code",
   "execution_count": 146,
   "metadata": {},
   "outputs": [
    {
     "data": {
      "application/vnd.jupyter.widget-view+json": {
       "model_id": "7598d788b33e4701b74b260a860b061c",
       "version_major": 2,
       "version_minor": 0
      },
      "text/plain": [
       "Canvas(toolbar=Toolbar(toolitems=[('Home', 'Reset original view', 'home', 'home'), ('Back', 'Back to previous …"
      ]
     },
     "metadata": {},
     "output_type": "display_data"
    },
    {
     "data": {
      "text/plain": [
       "<BarContainer object of 5 artists>"
      ]
     },
     "execution_count": 146,
     "metadata": {},
     "output_type": "execute_result"
    }
   ],
   "source": [
    "# inds_i_want = [0,6,12,18,21,24]\n",
    "inds_i_want = [0,3,2,1]\n",
    "xx = np.linspace(0,1,5)#np.arange(5)\n",
    "\n",
    "labs = ['120 kVp','2.5 MV C','6 MV C','2.5 MV W','6 MV W']\n",
    "cc = np.array([np.array(contrasts_show[ii][3])[inds_i_want] for ii in range(len(contrasts_show))])\n",
    "ee = np.array([np.array(contrasts_show[ii][4])[inds_i_want] for ii in range(len(contrasts_show))])\n",
    "# ll = np.array([np.array(label[ii]) for ii in range(len(contrasts_show))])\n",
    "\n",
    "inds = np.array([0,1,2,3,4])\n",
    "plt.figure(figsize=[8,4])#,dpi=300)\n",
    "# plt.figure(figsize=[10,5]),dpi=300)\n",
    "\n",
    "alph = 1\n",
    "hat = None\n",
    "plt.rcParams['axes.axisbelow'] = True\n",
    "\n",
    "plt.title('CWO',{'fontsize':'x-large'})\n",
    "\n",
    "x2,y2 = -0.5,31\n",
    "plt.text(x2,y2,'(a)',color='cornflowerblue',fontsize=16)\n",
    "plt.bar(xx-0.09,cc.flatten()[::4][1::3][inds], yerr = ee.flatten()[::4][1::3][inds],width=0.06,color='lightcoral',alpha=alph,hatch=hat,fill=True)\n",
    "plt.bar(xx-0.15,cc.flatten()[1::4][1::3][inds], yerr = ee.flatten()[1::4][1::3][inds],width=0.06,color='darkorange',alpha=alph,hatch=hat,fill=True)\n",
    "plt.bar(xx-0.21,cc.flatten()[3::4][1::3][inds], yerr = ee.flatten()[3::4][1::3][inds],width=0.06,color='cornflowerblue',alpha=alph,hatch=hat,fill=True)\n",
    "plt.bar(xx-0.27,cc.flatten()[2::4][1::3][inds], yerr = ee.flatten()[2::4][1::3][inds],width=0.06,color='k',alpha=alph,hatch=hat,fill=True)"
   ]
  },
  {
   "cell_type": "markdown",
   "metadata": {},
   "source": [
    "## Installation\n",
    "\n",
    "Dear entrepid hypothetical users,\n",
    "\n",
    "There are two install options: The second is not to install Fastcat and use it on google colaboratory. So keep that in mind and do it if your installation fails on your local computer.\n",
    "\n",
    "### Dependencies\n",
    "\n",
    "To run fastcat locally you need:\n",
    "\n",
    "* CUDA Capable GPU\n",
    "* Nvidia CUDA toolkit\n",
    "* TIGRE\n",
    "* numpy, scipy, matplotlib\n",
    "* Some other stuff you can install with pip/conda\n",
    "\n",
    "If you don't have a scientific python installation? Go away! I'm really not the person to explain how to do that. Somewhere else explains it better somewhere else. Just google it and come back when you are done\n",
    "\n",
    "#### TIGRE\n",
    "\n",
    "To run Fastcat you need a python package called TIGRE. If you can install TIGRE then you can use Fastcat without issue.\n",
    "\n",
    "So I'm going to direct you to the TIGRE installation for python. The crux move is really the CUDA installation which sometimes works using conda but other times does not."
   ]
  },
  {
   "cell_type": "code",
   "execution_count": 14,
   "metadata": {},
   "outputs": [],
   "source": [
    "np.save('cnr_nonoise_404',contrasts_show)\n",
    "np.save('mtfs_nonoise_404',mtfs)\n",
    "np.save('labels_404',label)"
   ]
  },
  {
   "cell_type": "code",
   "execution_count": 1,
   "metadata": {},
   "outputs": [
    {
     "name": "stdout",
     "output_type": "stream",
     "text": [
      "Populating the interactive namespace from numpy and matplotlib\n"
     ]
    }
   ],
   "source": [
    "%pylab widget"
   ]
  },
  {
   "cell_type": "code",
   "execution_count": 3,
   "metadata": {},
   "outputs": [],
   "source": [
    "contrasts_show = np.load('../data_second_paper/cnr_new_noisy_404.npy',allow_pickle=True)\n",
    "mtfs = np.load('../data_second_paper/mtfs_nonoise_404.npy')\n",
    "label = np.load('../data_second_paper/labels_404.npy')"
   ]
  },
  {
   "cell_type": "markdown",
   "metadata": {},
   "source": [
    "# This is the good figure I think"
   ]
  },
  {
   "cell_type": "code",
   "execution_count": 89,
   "metadata": {},
   "outputs": [
    {
     "data": {
      "application/vnd.jupyter.widget-view+json": {
       "model_id": "60d3b887f3f44a4482854fb702c1ba63",
       "version_major": 2,
       "version_minor": 0
      },
      "text/plain": [
       "Canvas(toolbar=Toolbar(toolitems=[('Home', 'Reset original view', 'home', 'home'), ('Back', 'Back to previous …"
      ]
     },
     "metadata": {},
     "output_type": "display_data"
    }
   ],
   "source": [
    "# inds_i_want = [0,6,12,18,21,24]\n",
    "inds_i_want = [0,3,2,1]\n",
    "xx = np.linspace(0,1,5)#np.arange(5)\n",
    "\n",
    "labs = ['120 kVp','2.5 MV C','6 MV C','2.5 MV W','6 MV W']\n",
    "cc = np.array([np.array(contrasts_show[ii][3])[inds_i_want] for ii in range(len(contrasts_show))])\n",
    "ee = np.array([np.array(contrasts_show[ii][4])[inds_i_want] for ii in range(len(contrasts_show))])\n",
    "# ll = np.array([np.array(label[ii]) for ii in range(len(contrasts_show))])\n",
    "\n",
    "inds = np.array([0,1,2,3,4])\n",
    "# plt.figure(figsize=[8,4])#,dpi=300)\n",
    "plt.figure(figsize=[10,5],dpi=300)\n",
    "\n",
    "alph = 1\n",
    "hat = None\n",
    "plt.rcParams['axes.axisbelow'] = True\n",
    "\n",
    "# plt.title('Contrast to Noise Ratio')\n",
    "plt.subplot(131)\n",
    "plt.title('CWO',{'fontsize':'x-large'})\n",
    "\n",
    "x2,y2 = -0.5,31\n",
    "plt.text(x2,y2,'(a)',color='cornflowerblue',fontsize=16)\n",
    "plt.bar(xx-0.09,cc.flatten()[::4][1::3][inds], yerr = ee.flatten()[::4][1::3][inds],width=0.06,color='lightcoral',alpha=alph,hatch=hat,fill=True)\n",
    "plt.bar(xx-0.15,cc.flatten()[1::4][1::3][inds], yerr = ee.flatten()[1::4][1::3][inds],width=0.06,color='darkorange',alpha=alph,hatch=hat,fill=True)\n",
    "plt.bar(xx-0.21,cc.flatten()[3::4][1::3][inds], yerr = ee.flatten()[3::4][1::3][inds],width=0.06,color='cornflowerblue',alpha=alph,hatch=hat,fill=True)\n",
    "plt.bar(xx-0.27,cc.flatten()[2::4][1::3][inds], yerr = ee.flatten()[2::4][1::3][inds],width=0.06,color='k',alpha=alph,hatch=hat,fill=True)\n",
    "\n",
    "plt.ylabel('CNR')\n",
    "plt.xticks(np.array([-0.3,-0.05,0.2,0.45,0.70])+0.12,labs,rotation=45)\n",
    "# plt.bar(xx-0.09*3,cc.flatten()[2::4][1::3][inds], yerr = ee.flatten()[2::4][1::3][inds],width=0.06,color='cornflowerblue',alpha=alph,hatch=hat,fill=True)\n",
    "# plt.bar(xx-0.03*3,cc.flatten()[3::4][1::3][inds], yerr = ee.flatten()[3::4][1::3][inds],width=0.06,color='k',alpha=alph - 0.5,hatch=hat,fill=True)\n",
    "# plt.bar(xx-0.03*3,cc.flatten()[2::4][::3][inds], yerr = ee.flatten()[2::4][::3][inds],width=0.06,color='cornflowerblue',alpha=alph,hatch=hat,fill=True)\n",
    "# plt.bar(xx+0.03*3,cc.flatten()[2::4][2::3][inds], yerr = ee.flatten()[2::4][2::3][inds],width=0.06,color='cornflowerblue',alpha=alph,hatch=hat,fill=True)\n",
    "plt.grid('on')\n",
    "plt.ylim([0,30])\n",
    "# plt.bar(xx+0.09*3,cc.flatten()[::4][1::3][inds], yerr = ee.flatten()[::4][1::3][inds],width=0.06,color='lightcoral',alpha=alph,hatch=hat,fill=True)\n",
    "\n",
    "off = 0\n",
    "# alph = 0.85\n",
    "hat = None\n",
    "\n",
    "plt.subplot(132)\n",
    "plt.title('CsI',{'fontsize':'x-large'})\n",
    "x2,y2 = -0.5,31\n",
    "plt.text(x2,y2,'(b)',color='cornflowerblue',fontsize=16)\n",
    "# xx = xx + 1.6\n",
    "plt.grid('on')\n",
    "plt.bar(xx-0.27+off,cc.flatten()[2::4][::3][inds], yerr = ee.flatten()[2::4][::3][inds],width=0.06,color='k',alpha=alph,hatch=hat,fill=True)\n",
    "plt.bar(xx-0.21+off,cc.flatten()[3::4][::3][inds], yerr = ee.flatten()[3::4][::3][inds],width=0.06,color='cornflowerblue',alpha=alph,hatch=hat,fill=True)\n",
    "plt.bar(xx-0.15+off,cc.flatten()[1::4][::3][inds], yerr = ee.flatten()[1::4][::3][inds],width=0.06,color='darkorange',alpha=alph,hatch=hat,fill=True)\n",
    "plt.bar(xx-0.09+off,cc.flatten()[::4][::3][inds], yerr = ee.flatten()[::4][::3][inds],width=0.06,color='lightcoral',alpha=alph,hatch=hat,fill=True)\n",
    "plt.ylim([0,30])\n",
    "plt.yticks([0,5,10,15,20,25,30],labels=[])\n",
    "plt.xticks(np.array([-0.3,-0.05,0.2,0.45,0.70])+0.12,labs,rotation=45)\n",
    "off = 0\n",
    "# alph = 0.7\n",
    "\n",
    "# xx += 1.6\n",
    "# hat = '\\\\\\\\\\\\\\\\\\\\\\\\\\\\\\\\\\\\'\n",
    "plt.subplot(133)\n",
    "plt.title('GOS',{'fontsize':'x-large'})\n",
    "x2,y2 = -0.5,31\n",
    "plt.text(x2,y2,'(c)',color='cornflowerblue',fontsize=16)\n",
    "plt.grid('on')\n",
    "plt.bar(xx-0.27+off,cc.flatten()[2::4][2::3][inds], yerr = ee.flatten()[2::4][2::3][inds],width=0.06,color='k',alpha=alph,hatch=hat,fill=True)\n",
    "plt.bar(xx-0.21+off,cc.flatten()[3::4][2::3][inds], yerr = ee.flatten()[3::4][2::3][inds],width=0.06,color='cornflowerblue',alpha=alph,hatch=hat,fill=True)\n",
    "plt.bar(xx-0.15+off,cc.flatten()[1::4][2::3][inds], yerr = ee.flatten()[1::4][2::3][inds],width=0.06,color='darkorange',alpha=alph,hatch=hat,fill=True)\n",
    "plt.bar(xx-0.09+off,cc.flatten()[::4][2::3][inds], yerr = ee.flatten()[::4][2::3][inds],width=0.06,color='lightcoral',alpha=alph,hatch=hat,fill=True)\n",
    "\n",
    "plt.ylim([0,30])\n",
    "plt.yticks([0,5,10,15,20,25,30],labels=[])\n",
    "plt.xticks(np.array([-0.3,-0.05,0.2,0.45,0.70])+0.12,labs,rotation=45)\n",
    "# plt.ylabel('CNR')\n",
    "# labs = ['2.5 MV C','120 kVp','6 MV C','2.5 MV W','6 MV W']\n",
    "# plt.xticks(range(len(label[::3])),labels=labs,rotation=45)\n",
    "\n",
    "# from matplotlib.lines import Line2D\n",
    "\n",
    "# custom_lines = [Line2D([0], [0],marker='s',color = 'w', markerfacecolor='k', lw=4),\n",
    "#                 Line2D([0], [0],marker='s',color = 'w', markerfacecolor='cornflowerblue', lw=4),\n",
    "#                 Line2D([0], [0],marker='s',color = 'w', markerfacecolor='darkorange', lw=4),\n",
    "#                 Line2D([0], [0],marker='s',color = 'w', markerfacecolor='lightcoral', lw=4)]\n",
    "\n",
    "# # fig, ax = plt.subplots()\n",
    "# # lines = ax.plot(data)\n",
    "plt.legend(['Rib Bone','Lung','Adipose','Spongiosa'])\n",
    "# plt.grid('on')\n",
    "# Create a legend for the first line.\n",
    "# first_legend = plt.legend(handles=[line1])\n",
    "\n",
    "# Add the legend manually to the current Axes.\n",
    "# ax = plt.gca().add_artist(first_legend)\n",
    "\n",
    "\n",
    "plt.tight_layout()\n",
    "# plt.savefig('/home/xcite/fastcat_paper_2_tmi/figures/CNR.pdf')"
   ]
  },
  {
   "cell_type": "markdown",
   "metadata": {},
   "source": [
    "# This is a new analysis on the weights"
   ]
  },
  {
   "cell_type": "code",
   "execution_count": 14,
   "metadata": {},
   "outputs": [],
   "source": [
    "spectra = glob('../fastcat/data/MV_spectra/*.txt')\n",
    "phantoms = ['Catphan_404','Catphan_515','Catphan_MTF']\n",
    "MV_detectors = glob('../fastcat/data/Detectors/*')\n",
    "\n",
    "dispatcher={'Catphan_404':fc.Catphan_404,\n",
    "            'Catphan_515':fc.Catphan_515,\n",
    "            'Catphan_MTF':fc.Catphan_MTF}"
   ]
  },
  {
   "cell_type": "code",
   "execution_count": 15,
   "metadata": {},
   "outputs": [],
   "source": [
    "s = fc.Spectrum()"
   ]
  },
  {
   "cell_type": "code",
   "execution_count": 62,
   "metadata": {},
   "outputs": [
    {
     "data": {
      "application/vnd.jupyter.widget-view+json": {
       "model_id": "7a985b476dba4cb78bbaa6cea63313ee",
       "version_major": 2,
       "version_minor": 0
      },
      "text/plain": [
       "Canvas(toolbar=Toolbar(toolitems=[('Home', 'Reset original view', 'home', 'home'), ('Back', 'Back to previous …"
      ]
     },
     "metadata": {},
     "output_type": "display_data"
    },
    {
     "name": "stdout",
     "output_type": "stream",
     "text": [
      "Calculation:  1 / 50\n",
      "Calculation:  2 / 50\n",
      "Calculation:  3 / 50\n",
      "Calculation:  4 / 50\n",
      "Calculation:  5 / 50\n",
      "Calculation:  6 / 50\n",
      "Calculation:  7 / 50\n",
      "Calculation:  8 / 50\n",
      "Calculation:  9 / 50\n",
      "Calculation:  10 / 50\n",
      "Calculation:  11 / 50\n",
      "Calculation:  12 / 50\n",
      "Calculation:  13 / 50\n",
      "Calculation:  14 / 50\n",
      "Calculation:  15 / 50\n",
      "Calculation:  16 / 50\n",
      "Calculation:  17 / 50\n",
      "Calculation:  18 / 50\n",
      "Calculation:  19 / 50\n",
      "Calculation:  20 / 50\n",
      "Calculation:  21 / 50\n",
      "Calculation:  22 / 50\n",
      "Calculation:  23 / 50\n",
      "Calculation:  24 / 50\n",
      "Calculation:  25 / 50\n",
      "Calculation:  26 / 50\n",
      "Calculation:  27 / 50\n",
      "Calculation:  28 / 50\n",
      "Calculation:  29 / 50\n",
      "Calculation:  30 / 50\n",
      "Calculation:  31 / 50\n",
      "Calculation:  32 / 50\n",
      "Calculation:  33 / 50\n",
      "Calculation:  34 / 50\n",
      "Calculation:  35 / 50\n",
      "Calculation:  36 / 50\n",
      "Calculation:  37 / 50\n",
      "Calculation:  38 / 50\n",
      "Calculation:  39 / 50\n",
      "Calculation:  40 / 50\n",
      "Calculation:  41 / 50\n",
      "Calculation:  42 / 50\n",
      "Calculation:  43 / 50\n",
      "Calculation:  44 / 50\n",
      "Calculation:  45 / 50\n",
      "Calculation:  46 / 50\n",
      "Calculation:  47 / 50\n",
      "Calculation:  48 / 50\n",
      "Calculation:  49 / 50\n",
      "Calculation:  50 / 50\n"
     ]
    }
   ],
   "source": [
    "contrasts_show = []\n",
    "mtfs = []\n",
    "label = []\n",
    "\n",
    "fig, axs = plt.subplots(3, 1)\n",
    "\n",
    "spectra = [ 'kv',\n",
    " '../fastcat/data/MV_spectra/C_spectrum_25.txt',\n",
    " '../fastcat/data/MV_spectra/C_spectrum_6.txt',\n",
    " '../fastcat/data/MV_spectra/W_spectrum_25.txt',\n",
    " '../fastcat/data/MV_spectra/W_spectrum_6.txt']\n",
    "\n",
    "MV_detectors = [\n",
    " '../fastcat/data/Detectors/CsI-784-micro_thin',\n",
    " '../fastcat/data/Detectors/CWO-784-micrometer',\n",
    " '../fastcat/data/Detectors/CuGOS-784-micrometer']\n",
    "\n",
    "phan_map = [\n",
    "    'air',\n",
    "    'G4_MUSCLE_SKELETAL_ICRP',\n",
    "    'Spongiosa_Bone_ICRP',\n",
    "    'G4_LUNG_MD_ICRP',\n",
    "    'G4_BONE_COMPACT_ICRU',\n",
    "    'G4_ADIPOSE_TISSUE_ICRP'\n",
    "    ]\n",
    "# s0 = fc.calculate_spectrum(60, 12, 3, 50)\n",
    "# s0.attenuate(0.1,fc.get_mu(z=13))\n",
    "# s0.attenuate(0.015,fc.get_mu(z=29))\n",
    "\n",
    "s0 = fc.calculate_spectrum(120, 12, 3, 50)\n",
    "s0.attenuate(0.2,fc.get_mu(z=13)) #was 0.3\n",
    "# s0.attenuate(0.089,fc.get_mu(z=22))\n",
    "xx, yy = s0.get_points()"
   ]
  },
  {
   "cell_type": "code",
   "execution_count": 64,
   "metadata": {},
   "outputs": [
    {
     "name": "stdout",
     "output_type": "stream",
     "text": [
      "[2021-07-14 19:29:51,660] {phantoms.py:649} INFO - Phantom is low resolution\n",
      "This is kV\n",
      "kv ../fastcat/data/Detectors/CsI-784-micro_thin\n"
     ]
    },
    {
     "data": {
      "application/vnd.jupyter.widget-view+json": {
       "model_id": "f124550b27f341eb9b12137bc8fa2261",
       "version_major": 2,
       "version_minor": 0
      },
      "text/plain": [
       "Canvas(toolbar=Toolbar(toolitems=[('Home', 'Reset original view', 'home', 'home'), ('Back', 'Back to previous …"
      ]
     },
     "metadata": {},
     "output_type": "display_data"
    },
    {
     "name": "stdout",
     "output_type": "stream",
     "text": [
      "[2021-07-14 19:29:51,866] {legend.py:1193} WARNING - No handles with labels found to put in legend.\n",
      "[2021-07-14 19:29:51,922] {simulate.py:469} INFO - Running Simulations\n",
      "[2021-07-14 19:29:51,922] {simulate.py:484} INFO -     Simulating 10 keV\n",
      "[2021-07-14 19:29:52,083] {simulate.py:484} INFO -     Simulating 20 keV\n",
      "[2021-07-14 19:29:52,211] {simulate.py:484} INFO -     Simulating 30 keV\n",
      "[2021-07-14 19:29:52,335] {simulate.py:484} INFO -     Simulating 40 keV\n",
      "[2021-07-14 19:29:52,462] {simulate.py:484} INFO -     Simulating 50 keV\n",
      "[2021-07-14 19:29:52,587] {simulate.py:484} INFO -     Simulating 60 keV\n",
      "[2021-07-14 19:29:52,715] {simulate.py:484} INFO -     Simulating 70 keV\n",
      "[2021-07-14 19:29:52,841] {simulate.py:484} INFO -     Simulating 80 keV\n",
      "[2021-07-14 19:29:52,965] {simulate.py:484} INFO -     Simulating 90 keV\n",
      "[2021-07-14 19:29:53,091] {simulate.py:484} INFO -     Simulating 100 keV\n",
      "[2021-07-14 19:29:53,215] {simulate.py:619} INFO - Weighting simulations\n",
      "[2021-07-14 19:29:53,216] {simulate.py:686} INFO -     Added noise 180.72649122129937 times reference\n",
      "This is kV\n",
      "kv ../fastcat/data/Detectors/CWO-784-micrometer\n"
     ]
    },
    {
     "data": {
      "application/vnd.jupyter.widget-view+json": {
       "model_id": "3374ccc0faba48d5a6e530480be7ae6f",
       "version_major": 2,
       "version_minor": 0
      },
      "text/plain": [
       "Canvas(toolbar=Toolbar(toolitems=[('Home', 'Reset original view', 'home', 'home'), ('Back', 'Back to previous …"
      ]
     },
     "metadata": {},
     "output_type": "display_data"
    },
    {
     "name": "stdout",
     "output_type": "stream",
     "text": [
      "[2021-07-14 19:29:53,416] {legend.py:1193} WARNING - No handles with labels found to put in legend.\n",
      "[2021-07-14 19:29:53,419] {simulate.py:248} INFO - This is a small edep file starting at 30\n",
      "[2021-07-14 19:29:53,467] {simulate.py:469} INFO - Running Simulations\n",
      "[2021-07-14 19:29:53,468] {simulate.py:484} INFO -     Simulating 30 keV\n",
      "[2021-07-14 19:29:53,591] {simulate.py:484} INFO -     Simulating 40 keV\n",
      "[2021-07-14 19:29:53,718] {simulate.py:484} INFO -     Simulating 50 keV\n",
      "[2021-07-14 19:29:53,843] {simulate.py:484} INFO -     Simulating 60 keV\n",
      "[2021-07-14 19:29:53,971] {simulate.py:484} INFO -     Simulating 70 keV\n",
      "[2021-07-14 19:29:54,099] {simulate.py:484} INFO -     Simulating 80 keV\n",
      "[2021-07-14 19:29:54,223] {simulate.py:484} INFO -     Simulating 90 keV\n",
      "[2021-07-14 19:29:54,353] {simulate.py:484} INFO -     Simulating 100 keV\n",
      "[2021-07-14 19:29:54,480] {simulate.py:619} INFO - Weighting simulations\n",
      "[2021-07-14 19:29:54,480] {simulate.py:686} INFO -     Added noise 596.5426630082333 times reference\n",
      "This is kV\n",
      "kv ../fastcat/data/Detectors/CuGOS-784-micrometer\n"
     ]
    },
    {
     "data": {
      "application/vnd.jupyter.widget-view+json": {
       "model_id": "a62fdc21059a46678458b93285d5ca5a",
       "version_major": 2,
       "version_minor": 0
      },
      "text/plain": [
       "Canvas(toolbar=Toolbar(toolitems=[('Home', 'Reset original view', 'home', 'home'), ('Back', 'Back to previous …"
      ]
     },
     "metadata": {},
     "output_type": "display_data"
    },
    {
     "name": "stdout",
     "output_type": "stream",
     "text": [
      "[2021-07-14 19:29:54,694] {legend.py:1193} WARNING - No handles with labels found to put in legend.\n",
      "[2021-07-14 19:29:54,750] {simulate.py:469} INFO - Running Simulations\n",
      "[2021-07-14 19:29:54,750] {simulate.py:484} INFO -     Simulating 20 keV\n",
      "[2021-07-14 19:29:54,889] {simulate.py:484} INFO -     Simulating 30 keV\n",
      "[2021-07-14 19:29:55,033] {simulate.py:484} INFO -     Simulating 40 keV\n",
      "[2021-07-14 19:29:55,172] {simulate.py:484} INFO -     Simulating 50 keV\n",
      "[2021-07-14 19:29:55,311] {simulate.py:484} INFO -     Simulating 60 keV\n",
      "[2021-07-14 19:29:55,442] {simulate.py:484} INFO -     Simulating 70 keV\n",
      "[2021-07-14 19:29:55,571] {simulate.py:484} INFO -     Simulating 80 keV\n",
      "[2021-07-14 19:29:55,696] {simulate.py:484} INFO -     Simulating 90 keV\n",
      "[2021-07-14 19:29:55,834] {simulate.py:484} INFO -     Simulating 100 keV\n",
      "[2021-07-14 19:29:55,960] {simulate.py:619} INFO - Weighting simulations\n",
      "[2021-07-14 19:29:55,961] {simulate.py:686} INFO -     Added noise 49.62456337931838 times reference\n",
      "This is MV\n",
      "../fastcat/data/MV_spectra/C_spectrum_25.txt ../fastcat/data/Detectors/CsI-784-micro_thin\n"
     ]
    },
    {
     "data": {
      "application/vnd.jupyter.widget-view+json": {
       "model_id": "9782884a861c4204bb4b5ec913a3862f",
       "version_major": 2,
       "version_minor": 0
      },
      "text/plain": [
       "Canvas(toolbar=Toolbar(toolitems=[('Home', 'Reset original view', 'home', 'home'), ('Back', 'Back to previous …"
      ]
     },
     "metadata": {},
     "output_type": "display_data"
    },
    {
     "name": "stdout",
     "output_type": "stream",
     "text": [
      "[2021-07-14 19:29:56,166] {legend.py:1193} WARNING - No handles with labels found to put in legend.\n",
      "[2021-07-14 19:29:56,219] {simulate.py:469} INFO - Running Simulations\n",
      "[2021-07-14 19:29:56,220] {simulate.py:484} INFO -     Simulating 10 keV\n",
      "[2021-07-14 19:29:56,350] {simulate.py:484} INFO -     Simulating 20 keV\n",
      "[2021-07-14 19:29:56,476] {simulate.py:484} INFO -     Simulating 30 keV\n",
      "[2021-07-14 19:29:56,604] {simulate.py:484} INFO -     Simulating 40 keV\n",
      "[2021-07-14 19:29:56,730] {simulate.py:484} INFO -     Simulating 50 keV\n",
      "[2021-07-14 19:29:56,857] {simulate.py:484} INFO -     Simulating 60 keV\n",
      "[2021-07-14 19:29:56,985] {simulate.py:484} INFO -     Simulating 70 keV\n",
      "[2021-07-14 19:29:57,127] {simulate.py:484} INFO -     Simulating 80 keV\n",
      "[2021-07-14 19:29:57,252] {simulate.py:484} INFO -     Simulating 90 keV\n",
      "[2021-07-14 19:29:57,378] {simulate.py:484} INFO -     Simulating 100 keV\n",
      "[2021-07-14 19:29:57,505] {simulate.py:484} INFO -     Simulating 300 keV\n",
      "[2021-07-14 19:29:57,632] {simulate.py:484} INFO -     Simulating 500 keV\n",
      "[2021-07-14 19:29:57,757] {simulate.py:484} INFO -     Simulating 700 keV\n",
      "[2021-07-14 19:29:57,880] {simulate.py:484} INFO -     Simulating 900 keV\n",
      "[2021-07-14 19:29:58,008] {simulate.py:484} INFO -     Simulating 1000 keV\n",
      "[2021-07-14 19:29:58,136] {simulate.py:484} INFO -     Simulating 2000 keV\n",
      "[2021-07-14 19:29:58,261] {simulate.py:619} INFO - Weighting simulations\n",
      "[2021-07-14 19:29:58,261] {simulate.py:686} INFO -     Added noise 12.44664760138063 times reference\n",
      "This is MV\n",
      "../fastcat/data/MV_spectra/C_spectrum_25.txt ../fastcat/data/Detectors/CWO-784-micrometer\n"
     ]
    },
    {
     "data": {
      "application/vnd.jupyter.widget-view+json": {
       "model_id": "1c6fabb500e24e89b545c07aed229b7e",
       "version_major": 2,
       "version_minor": 0
      },
      "text/plain": [
       "Canvas(toolbar=Toolbar(toolitems=[('Home', 'Reset original view', 'home', 'home'), ('Back', 'Back to previous …"
      ]
     },
     "metadata": {},
     "output_type": "display_data"
    },
    {
     "name": "stdout",
     "output_type": "stream",
     "text": [
      "[2021-07-14 19:29:58,457] {legend.py:1193} WARNING - No handles with labels found to put in legend.\n",
      "[2021-07-14 19:29:58,460] {simulate.py:248} INFO - This is a small edep file starting at 30\n",
      "[2021-07-14 19:29:58,511] {simulate.py:469} INFO - Running Simulations\n",
      "[2021-07-14 19:29:58,511] {simulate.py:484} INFO -     Simulating 30 keV\n",
      "[2021-07-14 19:29:58,637] {simulate.py:484} INFO -     Simulating 40 keV\n",
      "[2021-07-14 19:29:58,763] {simulate.py:484} INFO -     Simulating 50 keV\n",
      "[2021-07-14 19:29:58,888] {simulate.py:484} INFO -     Simulating 60 keV\n",
      "[2021-07-14 19:29:59,016] {simulate.py:484} INFO -     Simulating 70 keV\n",
      "[2021-07-14 19:29:59,151] {simulate.py:484} INFO -     Simulating 80 keV\n",
      "[2021-07-14 19:29:59,274] {simulate.py:484} INFO -     Simulating 90 keV\n",
      "[2021-07-14 19:29:59,401] {simulate.py:484} INFO -     Simulating 100 keV\n",
      "[2021-07-14 19:29:59,532] {simulate.py:484} INFO -     Simulating 300 keV\n",
      "[2021-07-14 19:29:59,657] {simulate.py:484} INFO -     Simulating 500 keV\n",
      "[2021-07-14 19:29:59,781] {simulate.py:484} INFO -     Simulating 700 keV\n",
      "[2021-07-14 19:29:59,906] {simulate.py:484} INFO -     Simulating 900 keV\n",
      "[2021-07-14 19:30:00,038] {simulate.py:484} INFO -     Simulating 1000 keV\n",
      "[2021-07-14 19:30:00,164] {simulate.py:484} INFO -     Simulating 2000 keV\n",
      "[2021-07-14 19:30:00,288] {simulate.py:619} INFO - Weighting simulations\n",
      "[2021-07-14 19:30:00,288] {simulate.py:686} INFO -     Added noise 110.90021517596422 times reference\n",
      "This is MV\n",
      "../fastcat/data/MV_spectra/C_spectrum_25.txt ../fastcat/data/Detectors/CuGOS-784-micrometer\n"
     ]
    },
    {
     "data": {
      "application/vnd.jupyter.widget-view+json": {
       "model_id": "949c948f0bde4e2ab8a1b61767eab19b",
       "version_major": 2,
       "version_minor": 0
      },
      "text/plain": [
       "Canvas(toolbar=Toolbar(toolitems=[('Home', 'Reset original view', 'home', 'home'), ('Back', 'Back to previous …"
      ]
     },
     "metadata": {},
     "output_type": "display_data"
    },
    {
     "name": "stdout",
     "output_type": "stream",
     "text": [
      "[2021-07-14 19:30:00,492] {legend.py:1193} WARNING - No handles with labels found to put in legend.\n",
      "[2021-07-14 19:30:00,542] {simulate.py:469} INFO - Running Simulations\n",
      "[2021-07-14 19:30:00,543] {simulate.py:484} INFO -     Simulating 20 keV\n",
      "[2021-07-14 19:30:00,675] {simulate.py:484} INFO -     Simulating 30 keV\n",
      "[2021-07-14 19:30:00,801] {simulate.py:484} INFO -     Simulating 40 keV\n",
      "[2021-07-14 19:30:00,924] {simulate.py:484} INFO -     Simulating 50 keV\n",
      "[2021-07-14 19:30:01,050] {simulate.py:484} INFO -     Simulating 60 keV\n",
      "[2021-07-14 19:30:01,180] {simulate.py:484} INFO -     Simulating 70 keV\n",
      "[2021-07-14 19:30:01,306] {simulate.py:484} INFO -     Simulating 80 keV\n",
      "[2021-07-14 19:30:01,436] {simulate.py:484} INFO -     Simulating 90 keV\n",
      "[2021-07-14 19:30:01,565] {simulate.py:484} INFO -     Simulating 100 keV\n",
      "[2021-07-14 19:30:01,689] {simulate.py:484} INFO -     Simulating 300 keV\n",
      "[2021-07-14 19:30:01,818] {simulate.py:484} INFO -     Simulating 500 keV\n",
      "[2021-07-14 19:30:01,942] {simulate.py:484} INFO -     Simulating 700 keV\n",
      "[2021-07-14 19:30:02,068] {simulate.py:484} INFO -     Simulating 900 keV\n",
      "[2021-07-14 19:30:02,194] {simulate.py:484} INFO -     Simulating 1000 keV\n",
      "[2021-07-14 19:30:02,319] {simulate.py:484} INFO -     Simulating 2000 keV\n",
      "[2021-07-14 19:30:02,446] {simulate.py:619} INFO - Weighting simulations\n",
      "[2021-07-14 19:30:02,446] {simulate.py:686} INFO -     Added noise 7.408976436131976 times reference\n",
      "This is MV\n",
      "../fastcat/data/MV_spectra/C_spectrum_6.txt ../fastcat/data/Detectors/CsI-784-micro_thin\n"
     ]
    },
    {
     "data": {
      "application/vnd.jupyter.widget-view+json": {
       "model_id": "093ee1c5f3e94430906282aa6718003c",
       "version_major": 2,
       "version_minor": 0
      },
      "text/plain": [
       "Canvas(toolbar=Toolbar(toolitems=[('Home', 'Reset original view', 'home', 'home'), ('Back', 'Back to previous …"
      ]
     },
     "metadata": {},
     "output_type": "display_data"
    },
    {
     "name": "stdout",
     "output_type": "stream",
     "text": [
      "[2021-07-14 19:30:02,642] {legend.py:1193} WARNING - No handles with labels found to put in legend.\n",
      "[2021-07-14 19:30:02,695] {simulate.py:469} INFO - Running Simulations\n",
      "[2021-07-14 19:30:02,696] {simulate.py:484} INFO -     Simulating 10 keV\n",
      "[2021-07-14 19:30:02,830] {simulate.py:484} INFO -     Simulating 20 keV\n",
      "[2021-07-14 19:30:02,955] {simulate.py:484} INFO -     Simulating 30 keV\n",
      "[2021-07-14 19:30:03,078] {simulate.py:484} INFO -     Simulating 40 keV\n",
      "[2021-07-14 19:30:03,202] {simulate.py:484} INFO -     Simulating 50 keV\n",
      "[2021-07-14 19:30:03,327] {simulate.py:484} INFO -     Simulating 60 keV\n",
      "[2021-07-14 19:30:03,453] {simulate.py:484} INFO -     Simulating 70 keV\n",
      "[2021-07-14 19:30:03,578] {simulate.py:484} INFO -     Simulating 80 keV\n",
      "[2021-07-14 19:30:03,702] {simulate.py:484} INFO -     Simulating 90 keV\n",
      "[2021-07-14 19:30:03,833] {simulate.py:484} INFO -     Simulating 100 keV\n",
      "[2021-07-14 19:30:03,958] {simulate.py:484} INFO -     Simulating 300 keV\n",
      "[2021-07-14 19:30:04,083] {simulate.py:484} INFO -     Simulating 500 keV\n",
      "[2021-07-14 19:30:04,209] {simulate.py:484} INFO -     Simulating 700 keV\n",
      "[2021-07-14 19:30:04,332] {simulate.py:484} INFO -     Simulating 900 keV\n",
      "[2021-07-14 19:30:04,461] {simulate.py:484} INFO -     Simulating 1000 keV\n",
      "[2021-07-14 19:30:04,590] {simulate.py:484} INFO -     Simulating 2000 keV\n",
      "[2021-07-14 19:30:04,712] {simulate.py:484} INFO -     Simulating 4000 keV\n",
      "[2021-07-14 19:30:04,837] {simulate.py:484} INFO -     Simulating 6000 keV\n",
      "[2021-07-14 19:30:04,962] {simulate.py:619} INFO - Weighting simulations\n",
      "[2021-07-14 19:30:04,962] {simulate.py:686} INFO -     Added noise 3.652668682568185 times reference\n",
      "This is MV\n",
      "../fastcat/data/MV_spectra/C_spectrum_6.txt ../fastcat/data/Detectors/CWO-784-micrometer\n"
     ]
    },
    {
     "data": {
      "application/vnd.jupyter.widget-view+json": {
       "model_id": "4156c4c9ddda41a587a3af6d6d4c91f7",
       "version_major": 2,
       "version_minor": 0
      },
      "text/plain": [
       "Canvas(toolbar=Toolbar(toolitems=[('Home', 'Reset original view', 'home', 'home'), ('Back', 'Back to previous …"
      ]
     },
     "metadata": {},
     "output_type": "display_data"
    },
    {
     "name": "stdout",
     "output_type": "stream",
     "text": [
      "[2021-07-14 19:30:05,162] {legend.py:1193} WARNING - No handles with labels found to put in legend.\n",
      "[2021-07-14 19:30:05,165] {simulate.py:248} INFO - This is a small edep file starting at 30\n",
      "[2021-07-14 19:30:05,214] {simulate.py:469} INFO - Running Simulations\n",
      "[2021-07-14 19:30:05,214] {simulate.py:484} INFO -     Simulating 30 keV\n",
      "[2021-07-14 19:30:05,340] {simulate.py:484} INFO -     Simulating 40 keV\n",
      "[2021-07-14 19:30:05,466] {simulate.py:484} INFO -     Simulating 50 keV\n",
      "[2021-07-14 19:30:05,593] {simulate.py:484} INFO -     Simulating 60 keV\n",
      "[2021-07-14 19:30:05,718] {simulate.py:484} INFO -     Simulating 70 keV\n",
      "[2021-07-14 19:30:05,845] {simulate.py:484} INFO -     Simulating 80 keV\n",
      "[2021-07-14 19:30:05,969] {simulate.py:484} INFO -     Simulating 90 keV\n",
      "[2021-07-14 19:30:06,095] {simulate.py:484} INFO -     Simulating 100 keV\n",
      "[2021-07-14 19:30:06,229] {simulate.py:484} INFO -     Simulating 300 keV\n",
      "[2021-07-14 19:30:06,360] {simulate.py:484} INFO -     Simulating 500 keV\n",
      "[2021-07-14 19:30:06,489] {simulate.py:484} INFO -     Simulating 700 keV\n",
      "[2021-07-14 19:30:06,619] {simulate.py:484} INFO -     Simulating 900 keV\n",
      "[2021-07-14 19:30:06,746] {simulate.py:484} INFO -     Simulating 1000 keV\n",
      "[2021-07-14 19:30:06,877] {simulate.py:484} INFO -     Simulating 2000 keV\n",
      "[2021-07-14 19:30:07,007] {simulate.py:484} INFO -     Simulating 4000 keV\n",
      "[2021-07-14 19:30:07,139] {simulate.py:619} INFO - Weighting simulations\n",
      "[2021-07-14 19:30:07,139] {simulate.py:686} INFO -     Added noise 42.66061703982666 times reference\n",
      "This is MV\n",
      "../fastcat/data/MV_spectra/C_spectrum_6.txt ../fastcat/data/Detectors/CuGOS-784-micrometer\n"
     ]
    },
    {
     "data": {
      "application/vnd.jupyter.widget-view+json": {
       "model_id": "7dc3582d35e046c59f0d12f60762d24c",
       "version_major": 2,
       "version_minor": 0
      },
      "text/plain": [
       "Canvas(toolbar=Toolbar(toolitems=[('Home', 'Reset original view', 'home', 'home'), ('Back', 'Back to previous …"
      ]
     },
     "metadata": {},
     "output_type": "display_data"
    },
    {
     "name": "stdout",
     "output_type": "stream",
     "text": [
      "[2021-07-14 19:30:07,346] {legend.py:1193} WARNING - No handles with labels found to put in legend.\n",
      "[2021-07-14 19:30:07,398] {simulate.py:469} INFO - Running Simulations\n",
      "[2021-07-14 19:30:07,398] {simulate.py:484} INFO -     Simulating 20 keV\n",
      "[2021-07-14 19:30:07,528] {simulate.py:484} INFO -     Simulating 30 keV\n",
      "[2021-07-14 19:30:07,656] {simulate.py:484} INFO -     Simulating 40 keV\n",
      "[2021-07-14 19:30:07,786] {simulate.py:484} INFO -     Simulating 50 keV\n",
      "[2021-07-14 19:30:07,911] {simulate.py:484} INFO -     Simulating 60 keV\n",
      "[2021-07-14 19:30:08,041] {simulate.py:484} INFO -     Simulating 70 keV\n",
      "[2021-07-14 19:30:08,167] {simulate.py:484} INFO -     Simulating 80 keV\n",
      "[2021-07-14 19:30:08,291] {simulate.py:484} INFO -     Simulating 90 keV\n",
      "[2021-07-14 19:30:08,420] {simulate.py:484} INFO -     Simulating 100 keV\n",
      "[2021-07-14 19:30:08,545] {simulate.py:484} INFO -     Simulating 300 keV\n",
      "[2021-07-14 19:30:08,674] {simulate.py:484} INFO -     Simulating 500 keV\n",
      "[2021-07-14 19:30:08,801] {simulate.py:484} INFO -     Simulating 700 keV\n",
      "[2021-07-14 19:30:08,925] {simulate.py:484} INFO -     Simulating 900 keV\n",
      "[2021-07-14 19:30:09,056] {simulate.py:484} INFO -     Simulating 1000 keV\n",
      "[2021-07-14 19:30:09,186] {simulate.py:484} INFO -     Simulating 2000 keV\n",
      "[2021-07-14 19:30:09,315] {simulate.py:484} INFO -     Simulating 4000 keV\n",
      "[2021-07-14 19:30:09,448] {simulate.py:484} INFO -     Simulating 6000 keV\n",
      "[2021-07-14 19:30:09,572] {simulate.py:619} INFO - Weighting simulations\n",
      "[2021-07-14 19:30:09,573] {simulate.py:686} INFO -     Added noise 2.2825311111597824 times reference\n",
      "This is MV\n",
      "../fastcat/data/MV_spectra/W_spectrum_25.txt ../fastcat/data/Detectors/CsI-784-micro_thin\n"
     ]
    },
    {
     "data": {
      "application/vnd.jupyter.widget-view+json": {
       "model_id": "18c4f8e15ee04676a5415f43e6266646",
       "version_major": 2,
       "version_minor": 0
      },
      "text/plain": [
       "Canvas(toolbar=Toolbar(toolitems=[('Home', 'Reset original view', 'home', 'home'), ('Back', 'Back to previous …"
      ]
     },
     "metadata": {},
     "output_type": "display_data"
    },
    {
     "name": "stdout",
     "output_type": "stream",
     "text": [
      "[2021-07-14 19:30:09,777] {legend.py:1193} WARNING - No handles with labels found to put in legend.\n",
      "[2021-07-14 19:30:09,830] {simulate.py:469} INFO - Running Simulations\n",
      "[2021-07-14 19:30:09,830] {simulate.py:484} INFO -     Simulating 10 keV\n",
      "[2021-07-14 19:30:09,961] {simulate.py:484} INFO -     Simulating 20 keV\n",
      "[2021-07-14 19:30:10,091] {simulate.py:484} INFO -     Simulating 30 keV\n",
      "[2021-07-14 19:30:10,217] {simulate.py:484} INFO -     Simulating 40 keV\n",
      "[2021-07-14 19:30:10,339] {simulate.py:484} INFO -     Simulating 50 keV\n",
      "[2021-07-14 19:30:10,472] {simulate.py:484} INFO -     Simulating 60 keV\n",
      "[2021-07-14 19:30:10,596] {simulate.py:484} INFO -     Simulating 70 keV\n",
      "[2021-07-14 19:30:10,721] {simulate.py:484} INFO -     Simulating 80 keV\n",
      "[2021-07-14 19:30:10,848] {simulate.py:484} INFO -     Simulating 90 keV\n",
      "[2021-07-14 19:30:10,971] {simulate.py:484} INFO -     Simulating 100 keV\n",
      "[2021-07-14 19:30:11,104] {simulate.py:484} INFO -     Simulating 300 keV\n",
      "[2021-07-14 19:30:11,236] {simulate.py:484} INFO -     Simulating 500 keV\n",
      "[2021-07-14 19:30:11,361] {simulate.py:484} INFO -     Simulating 700 keV\n",
      "[2021-07-14 19:30:11,490] {simulate.py:484} INFO -     Simulating 900 keV\n",
      "[2021-07-14 19:30:11,615] {simulate.py:484} INFO -     Simulating 1000 keV\n",
      "[2021-07-14 19:30:11,741] {simulate.py:484} INFO -     Simulating 2000 keV\n",
      "[2021-07-14 19:30:11,870] {simulate.py:619} INFO - Weighting simulations\n",
      "[2021-07-14 19:30:11,870] {simulate.py:686} INFO -     Added noise 0.46127090757712924 times reference\n",
      "This is MV\n",
      "../fastcat/data/MV_spectra/W_spectrum_25.txt ../fastcat/data/Detectors/CWO-784-micrometer\n"
     ]
    },
    {
     "data": {
      "application/vnd.jupyter.widget-view+json": {
       "model_id": "9e6dc7ab138d409b9eaa77604b7ba33d",
       "version_major": 2,
       "version_minor": 0
      },
      "text/plain": [
       "Canvas(toolbar=Toolbar(toolitems=[('Home', 'Reset original view', 'home', 'home'), ('Back', 'Back to previous …"
      ]
     },
     "metadata": {},
     "output_type": "display_data"
    },
    {
     "name": "stdout",
     "output_type": "stream",
     "text": [
      "[2021-07-14 19:30:12,067] {legend.py:1193} WARNING - No handles with labels found to put in legend.\n",
      "[2021-07-14 19:30:12,070] {simulate.py:248} INFO - This is a small edep file starting at 30\n",
      "[2021-07-14 19:30:12,120] {simulate.py:469} INFO - Running Simulations\n",
      "[2021-07-14 19:30:12,121] {simulate.py:484} INFO -     Simulating 30 keV\n",
      "[2021-07-14 19:30:12,246] {simulate.py:484} INFO -     Simulating 40 keV\n",
      "[2021-07-14 19:30:12,370] {simulate.py:484} INFO -     Simulating 50 keV\n",
      "[2021-07-14 19:30:12,492] {simulate.py:484} INFO -     Simulating 60 keV\n",
      "[2021-07-14 19:30:12,618] {simulate.py:484} INFO -     Simulating 70 keV\n",
      "[2021-07-14 19:30:12,743] {simulate.py:484} INFO -     Simulating 80 keV\n",
      "[2021-07-14 19:30:12,872] {simulate.py:484} INFO -     Simulating 90 keV\n",
      "[2021-07-14 19:30:13,005] {simulate.py:484} INFO -     Simulating 100 keV\n",
      "[2021-07-14 19:30:13,133] {simulate.py:484} INFO -     Simulating 300 keV\n",
      "[2021-07-14 19:30:13,263] {simulate.py:484} INFO -     Simulating 500 keV\n",
      "[2021-07-14 19:30:13,398] {simulate.py:484} INFO -     Simulating 700 keV\n",
      "[2021-07-14 19:30:13,526] {simulate.py:484} INFO -     Simulating 900 keV\n",
      "[2021-07-14 19:30:13,660] {simulate.py:484} INFO -     Simulating 1000 keV\n",
      "[2021-07-14 19:30:13,786] {simulate.py:484} INFO -     Simulating 2000 keV\n",
      "[2021-07-14 19:30:13,917] {simulate.py:619} INFO - Weighting simulations\n",
      "[2021-07-14 19:30:13,917] {simulate.py:686} INFO -     Added noise 38.922121506355346 times reference\n",
      "This is MV\n",
      "../fastcat/data/MV_spectra/W_spectrum_25.txt ../fastcat/data/Detectors/CuGOS-784-micrometer\n"
     ]
    },
    {
     "data": {
      "application/vnd.jupyter.widget-view+json": {
       "model_id": "c30166a937f1419ba62e4725adb12e58",
       "version_major": 2,
       "version_minor": 0
      },
      "text/plain": [
       "Canvas(toolbar=Toolbar(toolitems=[('Home', 'Reset original view', 'home', 'home'), ('Back', 'Back to previous …"
      ]
     },
     "metadata": {},
     "output_type": "display_data"
    },
    {
     "name": "stdout",
     "output_type": "stream",
     "text": [
      "[2021-07-14 19:30:14,125] {legend.py:1193} WARNING - No handles with labels found to put in legend.\n",
      "[2021-07-14 19:30:14,177] {simulate.py:469} INFO - Running Simulations\n",
      "[2021-07-14 19:30:14,177] {simulate.py:484} INFO -     Simulating 20 keV\n",
      "[2021-07-14 19:30:14,305] {simulate.py:484} INFO -     Simulating 30 keV\n",
      "[2021-07-14 19:30:14,431] {simulate.py:484} INFO -     Simulating 40 keV\n",
      "[2021-07-14 19:30:14,555] {simulate.py:484} INFO -     Simulating 50 keV\n",
      "[2021-07-14 19:30:14,679] {simulate.py:484} INFO -     Simulating 60 keV\n",
      "[2021-07-14 19:30:14,803] {simulate.py:484} INFO -     Simulating 70 keV\n",
      "[2021-07-14 19:30:14,925] {simulate.py:484} INFO -     Simulating 80 keV\n",
      "[2021-07-14 19:30:15,057] {simulate.py:484} INFO -     Simulating 90 keV\n",
      "[2021-07-14 19:30:15,181] {simulate.py:484} INFO -     Simulating 100 keV\n",
      "[2021-07-14 19:30:15,311] {simulate.py:484} INFO -     Simulating 300 keV\n",
      "[2021-07-14 19:30:15,435] {simulate.py:484} INFO -     Simulating 500 keV\n",
      "[2021-07-14 19:30:15,564] {simulate.py:484} INFO -     Simulating 700 keV\n",
      "[2021-07-14 19:30:15,699] {simulate.py:484} INFO -     Simulating 900 keV\n",
      "[2021-07-14 19:30:15,827] {simulate.py:484} INFO -     Simulating 1000 keV\n",
      "[2021-07-14 19:30:15,953] {simulate.py:484} INFO -     Simulating 2000 keV\n",
      "[2021-07-14 19:30:16,080] {simulate.py:619} INFO - Weighting simulations\n",
      "[2021-07-14 19:30:16,080] {simulate.py:686} INFO -     Added noise 0.772822889786169 times reference\n",
      "This is MV\n",
      "../fastcat/data/MV_spectra/W_spectrum_6.txt ../fastcat/data/Detectors/CsI-784-micro_thin\n"
     ]
    },
    {
     "data": {
      "application/vnd.jupyter.widget-view+json": {
       "model_id": "1d8727e4886a4797a95862e16688032a",
       "version_major": 2,
       "version_minor": 0
      },
      "text/plain": [
       "Canvas(toolbar=Toolbar(toolitems=[('Home', 'Reset original view', 'home', 'home'), ('Back', 'Back to previous …"
      ]
     },
     "metadata": {},
     "output_type": "display_data"
    },
    {
     "name": "stdout",
     "output_type": "stream",
     "text": [
      "[2021-07-14 19:30:16,274] {legend.py:1193} WARNING - No handles with labels found to put in legend.\n",
      "[2021-07-14 19:30:16,327] {simulate.py:469} INFO - Running Simulations\n",
      "[2021-07-14 19:30:16,327] {simulate.py:484} INFO -     Simulating 10 keV\n",
      "[2021-07-14 19:30:16,455] {simulate.py:484} INFO -     Simulating 20 keV\n",
      "[2021-07-14 19:30:16,578] {simulate.py:484} INFO -     Simulating 30 keV\n",
      "[2021-07-14 19:30:16,704] {simulate.py:484} INFO -     Simulating 40 keV\n",
      "[2021-07-14 19:30:16,830] {simulate.py:484} INFO -     Simulating 50 keV\n",
      "[2021-07-14 19:30:16,951] {simulate.py:484} INFO -     Simulating 60 keV\n",
      "[2021-07-14 19:30:17,076] {simulate.py:484} INFO -     Simulating 70 keV\n",
      "[2021-07-14 19:30:17,206] {simulate.py:484} INFO -     Simulating 80 keV\n",
      "[2021-07-14 19:30:17,332] {simulate.py:484} INFO -     Simulating 90 keV\n",
      "[2021-07-14 19:30:17,459] {simulate.py:484} INFO -     Simulating 100 keV\n",
      "[2021-07-14 19:30:17,585] {simulate.py:484} INFO -     Simulating 300 keV\n",
      "[2021-07-14 19:30:17,717] {simulate.py:484} INFO -     Simulating 500 keV\n",
      "[2021-07-14 19:30:17,850] {simulate.py:484} INFO -     Simulating 700 keV\n",
      "[2021-07-14 19:30:17,976] {simulate.py:484} INFO -     Simulating 900 keV\n",
      "[2021-07-14 19:30:18,108] {simulate.py:484} INFO -     Simulating 1000 keV\n",
      "[2021-07-14 19:30:18,234] {simulate.py:484} INFO -     Simulating 2000 keV\n",
      "[2021-07-14 19:30:18,359] {simulate.py:484} INFO -     Simulating 4000 keV\n",
      "[2021-07-14 19:30:18,488] {simulate.py:484} INFO -     Simulating 6000 keV\n",
      "[2021-07-14 19:30:18,620] {simulate.py:619} INFO - Weighting simulations\n",
      "[2021-07-14 19:30:18,621] {simulate.py:686} INFO -     Added noise 0.091369183176715 times reference\n",
      "This is MV\n",
      "../fastcat/data/MV_spectra/W_spectrum_6.txt ../fastcat/data/Detectors/CWO-784-micrometer\n"
     ]
    },
    {
     "data": {
      "application/vnd.jupyter.widget-view+json": {
       "model_id": "bbeaa149443e4d2a840e5d39888fbcbb",
       "version_major": 2,
       "version_minor": 0
      },
      "text/plain": [
       "Canvas(toolbar=Toolbar(toolitems=[('Home', 'Reset original view', 'home', 'home'), ('Back', 'Back to previous …"
      ]
     },
     "metadata": {},
     "output_type": "display_data"
    },
    {
     "name": "stdout",
     "output_type": "stream",
     "text": [
      "[2021-07-14 19:30:18,822] {legend.py:1193} WARNING - No handles with labels found to put in legend.\n",
      "[2021-07-14 19:30:18,825] {simulate.py:248} INFO - This is a small edep file starting at 30\n",
      "[2021-07-14 19:30:18,874] {simulate.py:469} INFO - Running Simulations\n",
      "[2021-07-14 19:30:18,875] {simulate.py:484} INFO -     Simulating 30 keV\n",
      "[2021-07-14 19:30:19,002] {simulate.py:484} INFO -     Simulating 40 keV\n",
      "[2021-07-14 19:30:19,129] {simulate.py:484} INFO -     Simulating 50 keV\n",
      "[2021-07-14 19:30:19,255] {simulate.py:484} INFO -     Simulating 60 keV\n",
      "[2021-07-14 19:30:19,380] {simulate.py:484} INFO -     Simulating 70 keV\n",
      "[2021-07-14 19:30:19,506] {simulate.py:484} INFO -     Simulating 80 keV\n",
      "[2021-07-14 19:30:19,629] {simulate.py:484} INFO -     Simulating 90 keV\n",
      "[2021-07-14 19:30:19,751] {simulate.py:484} INFO -     Simulating 100 keV\n",
      "[2021-07-14 19:30:19,874] {simulate.py:484} INFO -     Simulating 300 keV\n",
      "[2021-07-14 19:30:20,003] {simulate.py:484} INFO -     Simulating 500 keV\n",
      "[2021-07-14 19:30:20,144] {simulate.py:484} INFO -     Simulating 700 keV\n",
      "[2021-07-14 19:30:20,275] {simulate.py:484} INFO -     Simulating 900 keV\n",
      "[2021-07-14 19:30:20,403] {simulate.py:484} INFO -     Simulating 1000 keV\n",
      "[2021-07-14 19:30:20,533] {simulate.py:484} INFO -     Simulating 2000 keV\n",
      "[2021-07-14 19:30:20,668] {simulate.py:484} INFO -     Simulating 4000 keV\n",
      "[2021-07-14 19:30:20,796] {simulate.py:619} INFO - Weighting simulations\n",
      "[2021-07-14 19:30:20,796] {simulate.py:686} INFO -     Added noise 14.491269977269566 times reference\n",
      "This is MV\n",
      "../fastcat/data/MV_spectra/W_spectrum_6.txt ../fastcat/data/Detectors/CuGOS-784-micrometer\n"
     ]
    },
    {
     "data": {
      "application/vnd.jupyter.widget-view+json": {
       "model_id": "c6399f21d6be465ea104865fd1dd1754",
       "version_major": 2,
       "version_minor": 0
      },
      "text/plain": [
       "Canvas(toolbar=Toolbar(toolitems=[('Home', 'Reset original view', 'home', 'home'), ('Back', 'Back to previous …"
      ]
     },
     "metadata": {},
     "output_type": "display_data"
    },
    {
     "name": "stdout",
     "output_type": "stream",
     "text": [
      "[2021-07-14 19:30:20,999] {legend.py:1193} WARNING - No handles with labels found to put in legend.\n",
      "[2021-07-14 19:30:21,052] {simulate.py:469} INFO - Running Simulations\n",
      "[2021-07-14 19:30:21,052] {simulate.py:484} INFO -     Simulating 20 keV\n",
      "[2021-07-14 19:30:21,180] {simulate.py:484} INFO -     Simulating 30 keV\n",
      "[2021-07-14 19:30:21,309] {simulate.py:484} INFO -     Simulating 40 keV\n",
      "[2021-07-14 19:30:21,434] {simulate.py:484} INFO -     Simulating 50 keV\n",
      "[2021-07-14 19:30:21,557] {simulate.py:484} INFO -     Simulating 60 keV\n",
      "[2021-07-14 19:30:21,683] {simulate.py:484} INFO -     Simulating 70 keV\n",
      "[2021-07-14 19:30:21,805] {simulate.py:484} INFO -     Simulating 80 keV\n",
      "[2021-07-14 19:30:21,932] {simulate.py:484} INFO -     Simulating 90 keV\n",
      "[2021-07-14 19:30:22,058] {simulate.py:484} INFO -     Simulating 100 keV\n",
      "[2021-07-14 19:30:22,182] {simulate.py:484} INFO -     Simulating 300 keV\n",
      "[2021-07-14 19:30:22,310] {simulate.py:484} INFO -     Simulating 500 keV\n",
      "[2021-07-14 19:30:22,443] {simulate.py:484} INFO -     Simulating 700 keV\n",
      "[2021-07-14 19:30:22,569] {simulate.py:484} INFO -     Simulating 900 keV\n",
      "[2021-07-14 19:30:22,699] {simulate.py:484} INFO -     Simulating 1000 keV\n",
      "[2021-07-14 19:30:22,827] {simulate.py:484} INFO -     Simulating 2000 keV\n",
      "[2021-07-14 19:30:22,959] {simulate.py:484} INFO -     Simulating 4000 keV\n",
      "[2021-07-14 19:30:23,086] {simulate.py:484} INFO -     Simulating 6000 keV\n",
      "[2021-07-14 19:30:23,210] {simulate.py:619} INFO - Weighting simulations\n",
      "[2021-07-14 19:30:23,211] {simulate.py:686} INFO -     Added noise 0.20917466861702658 times reference\n"
     ]
    }
   ],
   "source": [
    "nviews = 2\n",
    "\n",
    "weights_1 = []\n",
    "weights_2 = []\n",
    "photons = []\n",
    "\n",
    "for phan in phantoms[:1]:\n",
    "    phantom = fc.Catphan_404(hi_res=False)\n",
    "    phantom.phan_map = phan_map\n",
    "    s = fc.Spectrum()\n",
    "    for spectrum in spectra:#[:2]:\n",
    "        for det in MV_detectors:#[1:2]:\n",
    "\n",
    "            if len(spectrum) > 4:\n",
    "                s.load(spectrum.split('/')[-1].split('.')[0])\n",
    "                print('This is MV')\n",
    "#                 s.attenuate(1,fc.get_mu(z=13))\n",
    "            else:\n",
    "                s.x = xx\n",
    "                s.y = yy\n",
    "                print('This is kV')\n",
    "            \n",
    "#                 s.attenuate(1,fc.get_mu(z=13))\n",
    "            s.attenuate(0.4,fc.get_mu(z=13)) #was 0.3\n",
    "            s.attenuate(0.089,fc.get_mu(z=22))          \n",
    "            print(spectrum,det)\n",
    "            plt.figure()\n",
    "            plt.plot(s.x,s.y)\n",
    "            kernel = fc.Detector(s, det.split('/')[-1].split('.')[0])\n",
    "            kernel.get_plot_mtf_real(axs[2])\n",
    "            mtfs.append([kernel.freq,kernel.mtf])\n",
    "            angles = np.linspace(0,np.pi*2,nviews)        \n",
    "#             if len(spectrum) < 4:\n",
    "#                 phantom.return_projs(kernel,s,angles,det_on=True,mgy = 7/nviews,ASG=True,bowtie=True,filter='bowtie_mod')\n",
    "#             else:\n",
    "            phantom.return_projs(kernel,s,angles,det_on=True,mgy = 7/180)\n",
    "            weights_1.append(phantom.weights_small)\n",
    "            weights_2.append(phantom.weights_small2)\n",
    "            \n",
    "            photons.append([phantom.nphoton_av,phantom.ratio])\n",
    "            \n",
    "            \n",
    "            label.append(spectrum.split('/')[-1].split('.')[0] + det.split('/')[-1].split('.')[0])\n",
    "\n",
    "#             break\n",
    "#         break\n",
    "#     break"
   ]
  },
  {
   "cell_type": "code",
   "execution_count": 65,
   "metadata": {},
   "outputs": [
    {
     "data": {
      "application/vnd.jupyter.widget-view+json": {
       "model_id": "550e424336894ea8b98bb5aecd1fe351",
       "version_major": 2,
       "version_minor": 0
      },
      "text/plain": [
       "Canvas(toolbar=Toolbar(toolitems=[('Home', 'Reset original view', 'home', 'home'), ('Back', 'Back to previous …"
      ]
     },
     "metadata": {},
     "output_type": "display_data"
    },
    {
     "name": "stdout",
     "output_type": "stream",
     "text": [
      "1.0\n",
      "kvCsI [0.27276342216586136, 662.5759780627903]\n",
      "1.0\n",
      "kvCWO [0.8982738182577514, 664.0989093562347]\n",
      "1.0\n",
      "kvCuGOS [0.07488838934468509, 662.6469578737214]\n",
      "1.0\n",
      "C_spectrum_25CsI [0.07879379902987424, 157.96481137635655]\n",
      "0.9999999999999999\n",
      "C_spectrum_25CWO [0.7020465059778731, 157.96704952116028]\n",
      "1.0\n",
      "C_spectrum_25CuGOS [0.0469026923467256, 157.96484307044722]\n",
      "1.0\n",
      "C_spectrum_6CsI [0.049724374288624855, 73.4583136504904]\n",
      "1.0\n",
      "C_spectrum_6CWO [0.5622261778516847, 75.87803400196803]\n",
      "1.0\n",
      "C_spectrum_6CuGOS [0.03107246778754077, 73.45831450423182]\n",
      "1.0\n",
      "W_spectrum_25CsI [0.005732800527089785, 80.46170547840256]\n",
      "1.0\n",
      "W_spectrum_25CWO [0.48373473124479643, 80.46170554302955]\n",
      "1.0\n",
      "W_spectrum_25CuGOS [0.009604853453948143, 80.46170547958695]\n",
      "1.0\n",
      "W_spectrum_6CsI [0.0022025355054545548, 41.48363690412265]\n",
      "1.0\n",
      "W_spectrum_6CWO [0.33230427801628526, 43.608436411882096]\n",
      "0.9999999999999999\n",
      "W_spectrum_6CuGOS [0.00504234156065385, 41.48363733414015]\n"
     ]
    }
   ],
   "source": [
    "plt.figure(figsize=[10,15])\n",
    "\n",
    "for ii,zipper in enumerate(zip(weights_1,weights_2,label)):\n",
    "    if zipper[1].shape[0] == 18:\n",
    "        original_energies_keV = np.array(\n",
    "            [\n",
    "                10,\n",
    "                20,\n",
    "                30,\n",
    "                40,\n",
    "                50,\n",
    "                60,\n",
    "                70,\n",
    "                80,\n",
    "                90,\n",
    "                100,\n",
    "                300,\n",
    "                500,\n",
    "                700,\n",
    "                900,\n",
    "                1000,\n",
    "                2000,\n",
    "                4000,\n",
    "                6000,\n",
    "            ]\n",
    "        )\n",
    "    else:\n",
    "        original_energies_keV = np.array(\n",
    "            [\n",
    "                30,\n",
    "                40,\n",
    "                50,\n",
    "                60,\n",
    "                70,\n",
    "                80,\n",
    "                90,\n",
    "                100,\n",
    "                300,\n",
    "                500,\n",
    "                700,\n",
    "                900,\n",
    "                1000,\n",
    "                2000,\n",
    "                4000,\n",
    "                6000,\n",
    "            ]\n",
    "        )\n",
    "\n",
    "    plt.subplot(5,3,ii+1)\n",
    "#     plt.plot(zipper[0])\n",
    "    plt.plot(original_energies_keV,zipper[0])#/original_energies_keV*10)\n",
    "    print(np.nansum(zipper[1]))\n",
    "    plt.title(zipper[2].split('-')[0])\n",
    "    plt.xlabel(zipper[0])\n",
    "#     plt.text(0,0,photons[ii][:])\n",
    "    print(zipper[2].split('-')[0],photons[ii])\n",
    "#     plt.ylim([0,1])\n",
    "    \n",
    "plt.tight_layout()"
   ]
  },
  {
   "cell_type": "code",
   "execution_count": null,
   "metadata": {},
   "outputs": [],
   "source": []
  }
 ],
 "metadata": {
  "kernelspec": {
   "display_name": "Python 3",
   "language": "python",
   "name": "python3"
  },
  "language_info": {
   "codemirror_mode": {
    "name": "ipython",
    "version": 3
   },
   "file_extension": ".py",
   "mimetype": "text/x-python",
   "name": "python",
   "nbconvert_exporter": "python",
   "pygments_lexer": "ipython3",
   "version": "3.7.6"
  },
  "toc": {
   "base_numbering": 1,
   "nav_menu": {},
   "number_sections": true,
   "sideBar": true,
   "skip_h1_title": false,
   "title_cell": "Table of Contents",
   "title_sidebar": "Contents",
   "toc_cell": false,
   "toc_position": {},
   "toc_section_display": true,
   "toc_window_display": false
  },
  "varInspector": {
   "cols": {
    "lenName": "16",
    "lenType": "3",
    "lenVar": "20"
   },
   "kernels_config": {
    "python": {
     "delete_cmd_postfix": "",
     "delete_cmd_prefix": "del ",
     "library": "var_list.py",
     "varRefreshCmd": "print(var_dic_list())"
    },
    "r": {
     "delete_cmd_postfix": ") ",
     "delete_cmd_prefix": "rm(",
     "library": "var_list.r",
     "varRefreshCmd": "cat(var_dic_list()) "
    }
   },
   "types_to_exclude": [
    "module",
    "function",
    "builtin_function_or_method",
    "instance",
    "_Feature"
   ],
   "window_display": false
  }
 },
 "nbformat": 4,
 "nbformat_minor": 4
}
