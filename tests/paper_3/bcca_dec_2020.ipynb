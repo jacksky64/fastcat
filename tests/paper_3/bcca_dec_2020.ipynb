{
 "cells": [
  {
   "cell_type": "code",
   "execution_count": 1,
   "metadata": {},
   "outputs": [
    {
     "name": "stdout",
     "output_type": "stream",
     "text": [
      "Populating the interactive namespace from numpy and matplotlib\n"
     ]
    }
   ],
   "source": [
    "%pylab widget\n",
    "%load_ext autoreload\n",
    "%autoreload 2\n",
    "\n",
    "from analysis_functions import *\n",
    "import fastcat.fastcat as fc\n",
    "\n",
    "from scipy.optimize import minimize"
   ]
  },
  {
   "cell_type": "markdown",
   "metadata": {},
   "source": [
    "# First lets look at the GOS"
   ]
  },
  {
   "cell_type": "code",
   "execution_count": 2,
   "metadata": {},
   "outputs": [
    {
     "name": "stdout",
     "output_type": "stream",
     "text": [
      "(19, 41, 41) 19\n",
      "bowtie is off False\n",
      "Using the bowtie filter True\n",
      "really doing it!\n",
      "ratio is 1637.2544931426623 number of photons 0.02636808212587352\n"
     ]
    }
   ],
   "source": [
    "nviews = 493 \n",
    "\n",
    "s = fc.Spectrum()\n",
    "s.load('Varian_truebeam')\n",
    "# s.load('Varian_truebeam_phasespace')\n",
    "s.x[0] = 1\n",
    "s.x[1] = 2\n",
    "s.attenuate(0.,fc.get_mu(z=13)) #3.7\n",
    "\n",
    "kernel = fc.Kernel(s,'CuGOS-784-micrometer')\n",
    "kernel.add_focal_spot(1.2)\n",
    "angles = np.linspace(0,np.pi*2,nviews)\n",
    "\n",
    "phantom = fc.Catphan_404()\n",
    "phantom.phan_map = ['air','G4_NYLON-8062','CATPHAN_Acrylic','CATPHAN_Acrylic','CATPHAN_Delrin','CATPHAN_Acrylic','CATPHAN_Teflon_revised','air','CATPHAN_PMP','CATPHAN_Acrylic','CATPHAN_LDPE','CATPHAN_Acrylic','CATPHAN_Polystyrene','air','CATPHAN_Acrylic','air','CATPHAN_Teflon','air','air','air','air'] \n",
    "# phantom.phan_map = ['air','water','G4_NYLON-8062','G4_NYLON-8062','CATPHAN_Delrin','G4_NYLON-8062','CATPHAN_Teflon_revised','air','CATPHAN_PMP','G4_NYLON-8062','CATPHAN_LDPE','G4_NYLON-8062','CATPHAN_Polystyrene','air','CATPHAN_Acrylic'] \n",
    "phantom.return_projs(kernel,s,angles,mgy=1.5,bowtie=True,filter='FF0')\n",
    "phantom.reconstruct('FDK',filt='ram_lak')\n",
    "\n",
    "slice_recon = phantom.img[5]"
   ]
  },
  {
   "cell_type": "code",
   "execution_count": 171,
   "metadata": {},
   "outputs": [],
   "source": [
    "np.save('recons/6x_gos_recon_ram_lak_acrylic_493_valid_hybrid_true_phasespace',phantom.img[4])\n",
    "# slice_recon = np.load('recons/6x_gos_recon_ram_lak_360.npy')"
   ]
  },
  {
   "cell_type": "code",
   "execution_count": 51,
   "metadata": {},
   "outputs": [],
   "source": [
    "slice_recon = np.load('recons/6x_gos_recon_ram_lak_acrylic_493_valid_hybrid.npy')"
   ]
  },
  {
   "cell_type": "code",
   "execution_count": 172,
   "metadata": {},
   "outputs": [
    {
     "data": {
      "application/vnd.jupyter.widget-view+json": {
       "model_id": "3df8dc434d9f4d3aab93737be5d62014",
       "version_major": 2,
       "version_minor": 0
      },
      "text/plain": [
       "Canvas(toolbar=Toolbar(toolitems=[('Home', 'Reset original view', 'home', 'home'), ('Back', 'Back to previous …"
      ]
     },
     "metadata": {},
     "output_type": "display_data"
    }
   ],
   "source": [
    "plt.figure()\n",
    "plt.imshow((slice_recon),cmap = 'gray')#,vmax=0.10,vmin=0.03)\n",
    "\n",
    "recon_slice = slice_recon\n",
    "im = create_mask(recon_slice.shape,r=5.75)\n",
    "contrast = []\n",
    "CNR_fc = []\n",
    "\n",
    "for ii in range(2,int(np.max(im)+1)):\n",
    "    \n",
    "    contrast.append(np.mean(recon_slice[im == ii]))\n",
    "    CNR_fc.append(contrast[-1]/np.sqrt(np.std(recon_slice[im == ii])**2 + np.std(recon_slice[im == 6])**2))\n",
    "# Get rid of the delrin\n",
    "cc = np.array(sorted(contrast))\n",
    "star_data = np.array(star_data_gos[1::2])\n",
    "CNR_fc = np.array(CNR_fc)[np.argsort(contrast)]"
   ]
  },
  {
   "cell_type": "code",
   "execution_count": 162,
   "metadata": {},
   "outputs": [
    {
     "data": {
      "application/vnd.jupyter.widget-view+json": {
       "model_id": "af67a7eb8a444664944756f526795d11",
       "version_major": 2,
       "version_minor": 0
      },
      "text/plain": [
       "Canvas(toolbar=Toolbar(toolitems=[('Home', 'Reset original view', 'home', 'home'), ('Back', 'Back to previous …"
      ]
     },
     "metadata": {},
     "output_type": "display_data"
    },
    {
     "data": {
      "text/plain": [
       "<matplotlib.image.AxesImage at 0x7f96fe34fb90>"
      ]
     },
     "execution_count": 162,
     "metadata": {},
     "output_type": "execute_result"
    }
   ],
   "source": [
    "plt.figure()\n",
    "plt.imshow(im)"
   ]
  },
  {
   "cell_type": "code",
   "execution_count": 173,
   "metadata": {},
   "outputs": [
    {
     "data": {
      "application/vnd.jupyter.widget-view+json": {
       "model_id": "43501cc0ae0544ca9cf38b6988213795",
       "version_major": 2,
       "version_minor": 0
      },
      "text/plain": [
       "Canvas(toolbar=Toolbar(toolitems=[('Home', 'Reset original view', 'home', 'home'), ('Back', 'Back to previous …"
      ]
     },
     "metadata": {},
     "output_type": "display_data"
    },
    {
     "data": {
      "text/plain": [
       "<matplotlib.image.AxesImage at 0x7f96fe0d2d10>"
      ]
     },
     "execution_count": 173,
     "metadata": {},
     "output_type": "execute_result"
    }
   ],
   "source": [
    "bcca_recon = np.load('/home/xcite/MV_CBCT/recon_6x_300_rared.npy')\n",
    "\n",
    "plt.figure()\n",
    "plt.imshow(np.rot90(bcca_recon.T[48],2),vmax=0.012,cmap='gray')"
   ]
  },
  {
   "cell_type": "code",
   "execution_count": 174,
   "metadata": {},
   "outputs": [],
   "source": [
    "recon_slice = np.rot90(bcca_recon.T[48],2)\n",
    "im = create_mask(recon_slice.shape,off =[-0.2,0], r= 5.8)\n",
    "contrast = []\n",
    "CNR = []\n",
    "\n",
    "for ii in range(2,int(np.max(im)+1)):\n",
    "    \n",
    "    contrast.append(np.mean(recon_slice[im == ii]))\n",
    "    CNR.append(contrast[-1]/np.sqrt(np.std(recon_slice[im == ii])**2 + np.std(recon_slice[im == 6])**2))\n",
    "\n",
    "bcca_data = np.array(sorted(contrast))\n",
    "CNR_bcca = np.array(CNR)[np.argsort(contrast)]"
   ]
  },
  {
   "cell_type": "code",
   "execution_count": 175,
   "metadata": {},
   "outputs": [
    {
     "data": {
      "application/vnd.jupyter.widget-view+json": {
       "model_id": "e8cd196ab7604fd18a264847c99d45f8",
       "version_major": 2,
       "version_minor": 0
      },
      "text/plain": [
       "Canvas(toolbar=Toolbar(toolitems=[('Home', 'Reset original view', 'home', 'home'), ('Back', 'Back to previous …"
      ]
     },
     "metadata": {},
     "output_type": "display_data"
    },
    {
     "data": {
      "text/plain": [
       "[<matplotlib.lines.Line2D at 0x7f96fde85250>]"
      ]
     },
     "execution_count": 175,
     "metadata": {},
     "output_type": "execute_result"
    }
   ],
   "source": [
    "plt.figure()\n",
    "plt.plot(CNR_bcca)\n",
    "plt.plot(CNR_fc,'r')"
   ]
  },
  {
   "cell_type": "markdown",
   "metadata": {},
   "source": [
    "# Now lets load the experimental data which was generated in ~/MV_CBCT and saved as a npy file"
   ]
  },
  {
   "cell_type": "code",
   "execution_count": 176,
   "metadata": {},
   "outputs": [],
   "source": [
    "recon_slice = np.rot90(bcca_recon.T[45],2)\n",
    "im = create_mask(recon_slice.shape,off =[-0.2,0], r= 5.8)\n",
    "contrast = []\n",
    "CNR = []\n",
    "\n",
    "for ii in range(2,int(np.max(im)+1)):\n",
    "    \n",
    "    contrast.append(np.mean(recon_slice[im == ii]))\n",
    "    CNR.append(contrast[-1]/np.sqrt(np.std(recon_slice[im == ii])**2 + np.std(recon_slice[im == 3])**2))\n",
    "\n",
    "bcca_data = np.array(sorted(contrast))\n",
    "CNR_data = np.array(CNR)[np.argsort(contrast)]"
   ]
  },
  {
   "cell_type": "code",
   "execution_count": 177,
   "metadata": {},
   "outputs": [
    {
     "data": {
      "application/vnd.jupyter.widget-view+json": {
       "model_id": "467b83cb6cac4dd98fb9580d7456f312",
       "version_major": 2,
       "version_minor": 0
      },
      "text/plain": [
       "Canvas(toolbar=Toolbar(toolitems=[('Home', 'Reset original view', 'home', 'home'), ('Back', 'Back to previous …"
      ]
     },
     "metadata": {},
     "output_type": "display_data"
    },
    {
     "data": {
      "text/plain": [
       "[<matplotlib.lines.Line2D at 0x7f96fdea61d0>]"
      ]
     },
     "execution_count": 177,
     "metadata": {},
     "output_type": "execute_result"
    }
   ],
   "source": [
    "def HU_fun(a,x,y):\n",
    "    return np.sum(np.abs((x - a[0])*(a[1]) - y))\n",
    "\n",
    "# bcca_data = bcca_data[np.arange(len(contrast)) !=6 ]\n",
    "# cc = cc[np.arange(len(contrast)) != 6 ]\n",
    "\n",
    "res = minimize(HU_fun,[cc[0],cc[3]],args=(cc,bcca_data))\n",
    "\n",
    "x = [0,0,.853,0.945,.998,1.147,1.36,1.87]\n",
    "fc_data = (cc - res.x[0])*(res.x[1])\n",
    "\n",
    "plt.figure()\n",
    "plt.plot(x,fc_data,'s',c='cornflowerblue',label='fastCAT')\n",
    "plt.plot(x,bcca_data,'s',c='darkorange',label='Star-lack')"
   ]
  },
  {
   "cell_type": "code",
   "execution_count": 178,
   "metadata": {},
   "outputs": [
    {
     "data": {
      "application/vnd.jupyter.widget-view+json": {
       "model_id": "524e9bc4d07548d987e79cd3b960ee98",
       "version_major": 2,
       "version_minor": 0
      },
      "text/plain": [
       "Canvas(toolbar=Toolbar(toolitems=[('Home', 'Reset original view', 'home', 'home'), ('Back', 'Back to previous …"
      ]
     },
     "metadata": {},
     "output_type": "display_data"
    }
   ],
   "source": [
    "# phantom.img[4] = np.load('recons/6x_gos_recon_ram_lak_acrylic_493_valid_hybrid_true_phasespace.npy')\n",
    "# phantom.img[4] = np.load('recons/6x_gos_recon_ram_lak_acrylic_493_valid_hybrid.npy')\n",
    "plt.figure()\n",
    "plt.subplot(121)\n",
    "plt.imshow(recon_slice,cmap='gray',vmin=0.001,vmax=0.007)\n",
    "plt.axis('off')\n",
    "plt.subplot(122)\n",
    "plt.imshow((phantom.img[4]- res.x[0])*(res.x[1]),cmap='gray',vmin=0.001,vmax=0.007)\n",
    "plt.axis('off')\n",
    "plt.tight_layout()"
   ]
  },
  {
   "cell_type": "code",
   "execution_count": 179,
   "metadata": {},
   "outputs": [
    {
     "data": {
      "application/vnd.jupyter.widget-view+json": {
       "model_id": "305c8001a6ed4c00b9e7ca4d6de147b8",
       "version_major": 2,
       "version_minor": 0
      },
      "text/plain": [
       "Canvas(toolbar=Toolbar(toolitems=[('Home', 'Reset original view', 'home', 'home'), ('Back', 'Back to previous …"
      ]
     },
     "metadata": {},
     "output_type": "display_data"
    }
   ],
   "source": [
    "hh = 4\n",
    "plt.figure()\n",
    "plt.imshow(np.abs(recon_slice[:,hh:] - ((phantom.img[4]- res.x[0])*(res.x[1]))[:,:-hh]),cmap='gray',vmin=0.00,vmax=0.001)\n",
    "plt.axis('off')\n",
    "plt.tight_layout()"
   ]
  },
  {
   "cell_type": "code",
   "execution_count": 16,
   "metadata": {},
   "outputs": [
    {
     "data": {
      "application/vnd.jupyter.widget-view+json": {
       "model_id": "dcafb36101af475fac0fcdecf3fce955",
       "version_major": 2,
       "version_minor": 0
      },
      "text/plain": [
       "Canvas(toolbar=Toolbar(toolitems=[('Home', 'Reset original view', 'home', 'home'), ('Back', 'Back to previous …"
      ]
     },
     "metadata": {},
     "output_type": "display_data"
    },
    {
     "data": {
      "text/plain": [
       "Text(0.5, 1.0, 'Experimental Validation 6 MV 100MU')"
      ]
     },
     "execution_count": 16,
     "metadata": {},
     "output_type": "execute_result"
    }
   ],
   "source": [
    "plt.figure()\n",
    "scale, offset, offset2 = 19.8, 0.00650, 0.057\n",
    "plt.plot(scale*(bcca_data - offset),'rx')\n",
    "plt.plot(cc - offset2,'kx')\n",
    "plt.ylabel('Machine Output Value [??]')\n",
    "plt.xlabel('Material')\n",
    "plt.legend(['BCCA data','fastCAT'])\n",
    "plt.title('Experimental Validation 6 MV 100MU')"
   ]
  },
  {
   "cell_type": "code",
   "execution_count": 10,
   "metadata": {},
   "outputs": [
    {
     "data": {
      "text/plain": [
       "array([0.99978516])"
      ]
     },
     "execution_count": 10,
     "metadata": {},
     "output_type": "execute_result"
    }
   ],
   "source": [
    "1-pp[1]/np.std(fc_data)**2"
   ]
  },
  {
   "cell_type": "code",
   "execution_count": 11,
   "metadata": {},
   "outputs": [
    {
     "data": {
      "text/plain": [
       "array([1.])"
      ]
     },
     "execution_count": 11,
     "metadata": {},
     "output_type": "execute_result"
    }
   ],
   "source": [
    "1-qq[1]/np.std(star_data)**2"
   ]
  },
  {
   "cell_type": "markdown",
   "metadata": {},
   "source": [
    "# Now lets look at the kV data "
   ]
  },
  {
   "cell_type": "code",
   "execution_count": 190,
   "metadata": {},
   "outputs": [],
   "source": [
    "nviews = 600 # 887 # That is how many are in the file "
   ]
  },
  {
   "cell_type": "code",
   "execution_count": 204,
   "metadata": {},
   "outputs": [
    {
     "name": "stdout",
     "output_type": "stream",
     "text": [
      "(19, 19, 19) 19\n"
     ]
    }
   ],
   "source": [
    "s = fc.calculate_spectrum(100, 14, 3, 100,monitor=None)\n",
    "s.attenuate(0.,fc.get_mu(z=13))\n",
    "s.attenuate(0.089,fc.get_mu(z=22))\n",
    "kernel = fc.Kernel(s,'CsI-784-micrometer')\n",
    "angles = np.linspace(0,np.pi*2,nviews)        "
   ]
  },
  {
   "cell_type": "code",
   "execution_count": 242,
   "metadata": {},
   "outputs": [
    {
     "name": "stdout",
     "output_type": "stream",
     "text": [
      "bowtie is off False\n",
      "Using the bowtie filter True\n",
      "really doing it!\n",
      "(18, 512)\n",
      "ratio is 360.6668523813139 number of photons 0.6677815644244547\n",
      "(18, 512)\n"
     ]
    }
   ],
   "source": [
    "phantom = fc.Catphan_404()\n",
    "phantom.phan_map = ['air','CATPHAN_Polystyrene','CATPHAN_Acrylic','CATPHAN_Acrylic','CATPHAN_Delrin','CATPHAN_Acrylic','CATPHAN_Teflon_revised','air','CATPHAN_PMP','CATPHAN_Acrylic','CATPHAN_LDPE','CATPHAN_Acrylic','CATPHAN_Polystyrene','air','CATPHAN_Acrylic','air','CATPHAN_Teflon_revised','air','air','air','air'] \n",
    "phantom.return_projs(kernel,s,angles,scat_on=False,mgy=0.02,bowtie=True,filter='bowtie2')\n",
    "phantom.reconstruct('FDK',filt='ram_lak')"
   ]
  },
  {
   "cell_type": "code",
   "execution_count": 243,
   "metadata": {},
   "outputs": [
    {
     "data": {
      "application/vnd.jupyter.widget-view+json": {
       "model_id": "43cba3b3cfdf462b940ed66cc3dd2d30",
       "version_major": 2,
       "version_minor": 0
      },
      "text/plain": [
       "Canvas(toolbar=Toolbar(toolitems=[('Home', 'Reset original view', 'home', 'home'), ('Back', 'Back to previous …"
      ]
     },
     "metadata": {},
     "output_type": "display_data"
    },
    {
     "data": {
      "text/plain": [
       "<matplotlib.image.AxesImage at 0x7f5c4b58e210>"
      ]
     },
     "execution_count": 243,
     "metadata": {},
     "output_type": "execute_result"
    }
   ],
   "source": [
    "# im1 = phantom.img[4]\n",
    "\n",
    "plt.figure()\n",
    "plt.subplot(131)\n",
    "plt.imshow((phantom.img[4]),cmap='gray')\n",
    "plt.subplot(132)\n",
    "plt.imshow((im1),cmap='gray')\n",
    "plt.title('original bowtie')\n",
    "plt.subplot(133)\n",
    "plt.imshow((im1 - phantom.img[4]),cmap='gray')"
   ]
  },
  {
   "cell_type": "code",
   "execution_count": 244,
   "metadata": {},
   "outputs": [],
   "source": [
    "recon_slice = phantom.img[4]\n",
    "im = create_mask(recon_slice.shape,r=5.25,radius=0.4)\n",
    "contrast = []\n",
    "CNR = []\n",
    "noise = []\n",
    "\n",
    "for ii in range(2,int(np.max(im)+1)):\n",
    "    contrast.append(np.mean(recon_slice[im == ii]))\n",
    "    CNR.append(contrast[-1]/np.sqrt(np.std(recon_slice[im == ii])**2 + np.std(recon_slice[im == 3])**2))\n",
    "    noise.append(np.std(recon_slice[im == ii]))\n",
    "\n",
    "# Get rid of the delrin\n",
    "cc = np.array(sorted(contrast))[np.arange(len(contrast))]\n",
    "cc_CNR = np.array(CNR)[np.argsort(contrast)]\n",
    "cc_noise = np.array(noise)[np.argsort(contrast)]"
   ]
  },
  {
   "cell_type": "code",
   "execution_count": 245,
   "metadata": {
    "presto": {
     "id": "3ec65409-5dbf-46a1-8275-5f2a05c3a632"
    }
   },
   "outputs": [
    {
     "data": {
      "application/vnd.jupyter.widget-view+json": {
       "model_id": "2d61ebaffeb84084b409cde39ca441d0",
       "version_major": 2,
       "version_minor": 0
      },
      "text/plain": [
       "Canvas(toolbar=Toolbar(toolitems=[('Home', 'Reset original view', 'home', 'home'), ('Back', 'Back to previous …"
      ]
     },
     "metadata": {},
     "output_type": "display_data"
    },
    {
     "data": {
      "text/plain": [
       "<matplotlib.image.AxesImage at 0x7f5c4b4c7a90>"
      ]
     },
     "execution_count": 245,
     "metadata": {},
     "output_type": "execute_result"
    }
   ],
   "source": [
    "def HU_fun(a,x,y):\n",
    "    return np.sum(np.abs((x - a[0])*(a[1]) - y))\n",
    "\n",
    "# bcca_data = bcca_data[np.arange(len(contrast)) !=6 ]\n",
    "# cc = cc[np.arange(len(contrast)) != 6 ]\n",
    "res = minimize(HU_fun,[cc[0],cc[3]],args=(cc,bcca_data),method='Powell')\n",
    "# x = [0,0,.853,0.945,.998,1.147,1.87]\n",
    "            \n",
    "fc_data = (cc - res.x[0])*(res.x[1])\n",
    "\n",
    "fc_image = (recon_slice - res.x[0])*(res.x[1])\n",
    "\n",
    "plt.figure()\n",
    "plt.imshow(np.rot90(fc_image,0),cmap='gray',vmin=0.013,vmax=0.027)"
   ]
  },
  {
   "cell_type": "code",
   "execution_count": 246,
   "metadata": {},
   "outputs": [
    {
     "data": {
      "application/vnd.jupyter.widget-view+json": {
       "model_id": "4a19adb6255a43d9abff76bd17911f88",
       "version_major": 2,
       "version_minor": 0
      },
      "text/plain": [
       "Canvas(toolbar=Toolbar(toolitems=[('Home', 'Reset original view', 'home', 'home'), ('Back', 'Back to previous …"
      ]
     },
     "metadata": {},
     "output_type": "display_data"
    },
    {
     "data": {
      "text/plain": [
       "<matplotlib.legend.Legend at 0x7f5c4b494610>"
      ]
     },
     "execution_count": 246,
     "metadata": {},
     "output_type": "execute_result"
    }
   ],
   "source": [
    "x = [0,0,.853,0.945,.998,1.147,1.36,1.87]\n",
    "plt.figure()\n",
    "plt.plot(x,bcca_data,'s',c='darkorange',label='')\n",
    "plt.plot(x,fc_data,'*',c='cornflowerblue',label='fastCAT')\n",
    "plt.legend()"
   ]
  },
  {
   "cell_type": "markdown",
   "metadata": {},
   "source": [
    "# Now lets load the experimental kV data which was generated in ~/MV_CBCT and saved as a npy file"
   ]
  },
  {
   "cell_type": "code",
   "execution_count": 241,
   "metadata": {
    "presto": {
     "id": "78342739-c451-4228-81b2-2805de7f63ae"
    }
   },
   "outputs": [
    {
     "data": {
      "application/vnd.jupyter.widget-view+json": {
       "model_id": "e96d4ddf84284824903a92cad779bc6d",
       "version_major": 2,
       "version_minor": 0
      },
      "text/plain": [
       "Canvas(toolbar=Toolbar(toolitems=[('Home', 'Reset original view', 'home', 'home'), ('Back', 'Back to previous …"
      ]
     },
     "metadata": {},
     "output_type": "display_data"
    }
   ],
   "source": [
    "bcca_recon = np.load('/home/xcite/MV_CBCT/recon_kv_jan_2021.npy')\n",
    "\n",
    "plt.figure()\n",
    "# plt.subplot(121)\n",
    "rr = plt.imshow(np.rot90(bcca_recon.T[50],3),cmap='gray',vmin=0.013,vmax=0.027)"
   ]
  },
  {
   "cell_type": "code",
   "execution_count": 12,
   "metadata": {},
   "outputs": [],
   "source": [
    "recon_slice = np.rot90(bcca_recon.T[50]).copy()\n",
    "# im = create_mask(recon_slice.shape,off = [-0.1,-0.02], r= 4.45, radius = 0.3)\n",
    "im = create_mask(recon_slice.shape,r=5.25,off = [0.2,0.05],rot = 1)\n",
    "contrast = []\n",
    "CNR = []\n",
    "noise = []\n",
    "\n",
    "for ii in range(2,int(np.max(im)+1)):\n",
    "    contrast.append(np.mean(recon_slice[im == ii]))\n",
    "    CNR.append(contrast[-1]/np.sqrt(np.std(recon_slice[im == ii])**2 + np.std(recon_slice[im == 3])**2))\n",
    "    noise.append(np.std(recon_slice[im == ii]))\n",
    "    \n",
    "# Get rid of the delrin\n",
    "bcca_noise = np.array(noise)[np.argsort(contrast)]\n",
    "bcca_data = np.array(sorted(contrast))\n",
    "CNR_data = np.array(CNR)[np.argsort(contrast)]"
   ]
  },
  {
   "cell_type": "markdown",
   "metadata": {},
   "source": [
    "plt.figure()\n",
    "recon_slice[im != 0] = 0\n",
    "plt.imshow(recon_slice)\n",
    "\n",
    "plt.figure()\n",
    "recon_slice[im != 0] = 0\n",
    "plt.imshow(recon_slice)"
   ]
  },
  {
   "cell_type": "code",
   "execution_count": 13,
   "metadata": {},
   "outputs": [
    {
     "data": {
      "application/vnd.jupyter.widget-view+json": {
       "model_id": "fa9d48b4f972476ba40b24beefa8618b",
       "version_major": 2,
       "version_minor": 0
      },
      "text/plain": [
       "Canvas(toolbar=Toolbar(toolitems=[('Home', 'Reset original view', 'home', 'home'), ('Back', 'Back to previous …"
      ]
     },
     "metadata": {},
     "output_type": "display_data"
    },
    {
     "data": {
      "text/plain": [
       "<matplotlib.legend.Legend at 0x7f5c1d96a8d0>"
      ]
     },
     "execution_count": 13,
     "metadata": {},
     "output_type": "execute_result"
    }
   ],
   "source": [
    "def HU_fun(a,x,y):\n",
    "    return np.sum(np.abs((x - a[0])*(a[1]) - y))\n",
    "\n",
    "# bcca_data = bcca_data[np.arange(len(contrast)) !=6 ]\n",
    "# cc = cc[np.arange(len(contrast)) != 6 ]\n",
    "\n",
    "res = minimize(HU_fun,[cc[0],6600],args=(cc,bcca_data),method = 'COBYLA')\n",
    "\n",
    "# x = [0,0,.853,0.945,.998,1.147,1.87]\n",
    "            \n",
    "fc_data = (cc - res.x[0])*(res.x[1])\n",
    "\n",
    "x = [0,0,.853,0.945,.998,1.147,1.36,1.87]\n",
    "plt.figure()\n",
    "plt.plot(x,bcca_data,'s',c='darkorange',label='')\n",
    "plt.plot(x,fc_data,'*',c='cornflowerblue',label='fastCAT')\n",
    "plt.legend()"
   ]
  },
  {
   "cell_type": "code",
   "execution_count": 14,
   "metadata": {},
   "outputs": [
    {
     "data": {
      "application/vnd.jupyter.widget-view+json": {
       "model_id": "53b953a879f24496b20c070b4dc31e6e",
       "version_major": 2,
       "version_minor": 0
      },
      "text/plain": [
       "Canvas(toolbar=Toolbar(toolitems=[('Home', 'Reset original view', 'home', 'home'), ('Back', 'Back to previous …"
      ]
     },
     "metadata": {},
     "output_type": "display_data"
    },
    {
     "data": {
      "text/plain": [
       "[<matplotlib.lines.Line2D at 0x7f5c1d89c490>]"
      ]
     },
     "execution_count": 14,
     "metadata": {},
     "output_type": "execute_result"
    }
   ],
   "source": [
    "plt.figure()\n",
    "plt.plot(CNR_data)\n",
    "plt.plot(cc_CNR,'r')\n",
    "# plt.plot(CNR_fc,'r')"
   ]
  },
  {
   "cell_type": "code",
   "execution_count": 15,
   "metadata": {},
   "outputs": [
    {
     "data": {
      "application/vnd.jupyter.widget-view+json": {
       "model_id": "9840c6fbd9fd43f19918f4222790db35",
       "version_major": 2,
       "version_minor": 0
      },
      "text/plain": [
       "Canvas(toolbar=Toolbar(toolitems=[('Home', 'Reset original view', 'home', 'home'), ('Back', 'Back to previous …"
      ]
     },
     "metadata": {},
     "output_type": "display_data"
    },
    {
     "data": {
      "text/plain": [
       "[<matplotlib.lines.Line2D at 0x7f5c1d888c10>]"
      ]
     },
     "execution_count": 15,
     "metadata": {},
     "output_type": "execute_result"
    }
   ],
   "source": [
    "plt.figure()\n",
    "plt.plot(1000*cc_noise)\n",
    "plt.plot(bcca_noise,'r')\n",
    "# plt.plot(CNR_fc,'r')"
   ]
  },
  {
   "cell_type": "code",
   "execution_count": 16,
   "metadata": {},
   "outputs": [
    {
     "data": {
      "application/vnd.jupyter.widget-view+json": {
       "model_id": "4d6934ccbf614048b25b7722e7637003",
       "version_major": 2,
       "version_minor": 0
      },
      "text/plain": [
       "Canvas(toolbar=Toolbar(toolitems=[('Home', 'Reset original view', 'home', 'home'), ('Back', 'Back to previous …"
      ]
     },
     "metadata": {},
     "output_type": "display_data"
    },
    {
     "data": {
      "text/plain": [
       "<matplotlib.legend.Legend at 0x7f5c1d7fa810>"
      ]
     },
     "execution_count": 16,
     "metadata": {},
     "output_type": "execute_result"
    }
   ],
   "source": [
    "def HU_fun(a,x,y):\n",
    "    return np.mean(np.abs((x - a[0])/(a[1] - a[0])*-1000 +1000 - y))\n",
    "\n",
    "bcca_revised = bcca_data\n",
    "cc2 = cc\n",
    "\n",
    "res = minimize(HU_fun,[cc2[3],0.1*cc2[0]],args=(cc2,bcca_revised))\n",
    "\n",
    "x = [0,0,.853,0.945,.998,1.147,1.87]\n",
    "            \n",
    "fc_data = (cc2 - res.x[0])/(res.x[1] - res.x[0])*-1000 + 1000\n",
    "x = [0,0,.853,0.945,.998,1.147,1.36,1.87]\n",
    "plt.figure()\n",
    "plt.plot(x,bcca_revised,'s',c='darkorange',label='Star-lack')\n",
    "plt.plot(x,fc_data,'r*',c='cornflowerblue',label='fastCAT')\n",
    "plt.legend()"
   ]
  },
  {
   "cell_type": "code",
   "execution_count": 163,
   "metadata": {},
   "outputs": [
    {
     "data": {
      "text/plain": [
       "      fun: 18.501660223129925\n",
       " hess_inv: array([[ 3.73296625e-05, -1.30796365e-04],\n",
       "       [-1.30796365e-04,  4.58785464e-04]])\n",
       "      jac: array([0., 0.])\n",
       "  message: 'Optimization terminated successfully.'\n",
       "     nfev: 42\n",
       "      nit: 3\n",
       "     njev: 14\n",
       "   status: 0\n",
       "  success: True\n",
       "        x: array([0.2180453 , 0.01511759])"
      ]
     },
     "execution_count": 163,
     "metadata": {},
     "output_type": "execute_result"
    }
   ],
   "source": [
    "res"
   ]
  },
  {
   "cell_type": "code",
   "execution_count": 68,
   "metadata": {},
   "outputs": [],
   "source": [
    "fc_data = (cc - res.x[0])/(res.x[1] - res.x[0])*-1000\n",
    "\n",
    "xx = np.linspace(0,max(x),100)\n",
    "pp = np.polyfit(x,fc_data,1,full=1)\n",
    "qq = np.polyfit(x,bcca_data,1,full=1)\n",
    "yy = np.polyval(pp[0],xx)\n",
    "zz = np.polyval(qq[0],xx)\n",
    "\n",
    "plt.ylabel('HU')\n",
    "plt.xlabel('Relative electron density')\n",
    "plt.title('CWO')\n",
    "plt.xticks(x,['air1','air2','PMP','LDPE','Poly','Acrylic','Delrin','Teflon'],rotation=75)\n",
    "plt.plot(xx,yy,':',c='cornflowerblue',lw=0.8)\n",
    "plt.plot(xx,zz,'-.',c='darkorange',lw = 0.8)\n",
    "plt.legend()\n",
    "plt.tight_layout()\n",
    "plt.savefig('initial_cwo')"
   ]
  },
  {
   "cell_type": "code",
   "execution_count": 172,
   "metadata": {},
   "outputs": [
    {
     "data": {
      "application/vnd.jupyter.widget-view+json": {
       "model_id": "7ed19fad09d14b3d923963d5ed67651c",
       "version_major": 2,
       "version_minor": 0
      },
      "text/plain": [
       "Canvas(toolbar=Toolbar(toolitems=[('Home', 'Reset original view', 'home', 'home'), ('Back', 'Back to previous …"
      ]
     },
     "metadata": {},
     "output_type": "display_data"
    },
    {
     "data": {
      "text/plain": [
       "Text(0.5, 1.0, 'Experimental Validation 6 MV 100MU')"
      ]
     },
     "execution_count": 172,
     "metadata": {},
     "output_type": "execute_result"
    }
   ],
   "source": [
    "plt.figure()\n",
    "scale, offset, offset2 = 16.5, 0.00650, 0.057\n",
    "plt.plot(scale*(bcca_data - offset),'rx')\n",
    "plt.plot(cc - offset2,'kx')\n",
    "plt.xlabel('Machine Output Value [??]')\n",
    "plt.ylabel('Material')\n",
    "plt.legend(['BCCA data','fastCAT'])\n",
    "plt.title('Experimental Validation 6 MV 100MU')"
   ]
  },
  {
   "cell_type": "code",
   "execution_count": 153,
   "metadata": {},
   "outputs": [
    {
     "data": {
      "text/plain": [
       "array([0.99967224])"
      ]
     },
     "execution_count": 153,
     "metadata": {},
     "output_type": "execute_result"
    }
   ],
   "source": [
    "1-pp[1]/np.std(fc_data)**2"
   ]
  },
  {
   "cell_type": "code",
   "execution_count": 154,
   "metadata": {},
   "outputs": [
    {
     "data": {
      "text/plain": [
       "array([1.])"
      ]
     },
     "execution_count": 154,
     "metadata": {},
     "output_type": "execute_result"
    }
   ],
   "source": [
    "1-qq[1]/np.std(star_data)**2"
   ]
  },
  {
   "cell_type": "code",
   "execution_count": 46,
   "metadata": {},
   "outputs": [],
   "source": [
    "av = 1/3*8.175600196835831e-10 + 2/3*4.769697969919662e-10"
   ]
  },
  {
   "cell_type": "code",
   "execution_count": 47,
   "metadata": {},
   "outputs": [
    {
     "data": {
      "text/plain": [
       "5.904998712225051e-10"
      ]
     },
     "execution_count": 47,
     "metadata": {},
     "output_type": "execute_result"
    }
   ],
   "source": [
    "av"
   ]
  },
  {
   "cell_type": "code",
   "execution_count": 49,
   "metadata": {},
   "outputs": [
    {
     "data": {
      "text/plain": [
       "1.2192105287896593"
      ]
     },
     "execution_count": 49,
     "metadata": {},
     "output_type": "execute_result"
    }
   ],
   "source": [
    "7.199436602434162e-10/av"
   ]
  },
  {
   "cell_type": "code",
   "execution_count": null,
   "metadata": {},
   "outputs": [],
   "source": [
    "\n",
    "\n",
    "\n",
    "%pylab widget\n",
    "%load_ext autoreload\n",
    "%autoreload 2\n",
    "\n",
    "from analysis_functions import *\n",
    "import fastcat.fastcat as fc\n",
    "\n",
    "from scipy.optimize import minimize\n",
    "Populating the interactive namespace from numpy and matplotlib\n",
    "\n"
   ]
  },
  {
   "cell_type": "code",
   "execution_count": null,
   "metadata": {},
   "outputs": [],
   "source": []
  }
 ],
 "metadata": {
  "kernelspec": {
   "display_name": "Python 3",
   "language": "python",
   "name": "python3"
  },
  "language_info": {
   "codemirror_mode": {
    "name": "ipython",
    "version": 3
   },
   "file_extension": ".py",
   "mimetype": "text/x-python",
   "name": "python",
   "nbconvert_exporter": "python",
   "pygments_lexer": "ipython3",
   "version": "3.7.6"
  },
  "presto": {
   "id": "110b0dee-a591-4d62-bdf8-8727cacef0b7"
  }
 },
 "nbformat": 4,
 "nbformat_minor": 4
}
