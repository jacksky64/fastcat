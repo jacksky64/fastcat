{
 "cells": [
  {
   "cell_type": "code",
   "execution_count": 1,
   "metadata": {},
   "outputs": [
    {
     "name": "stdout",
     "output_type": "stream",
     "text": [
      "Populating the interactive namespace from numpy and matplotlib\n"
     ]
    }
   ],
   "source": [
    "%pylab widget\n",
    "%load_ext autoreload\n",
    "%autoreload 2\n",
    "%load_ext memory_profiler"
   ]
  },
  {
   "cell_type": "code",
   "execution_count": 2,
   "metadata": {},
   "outputs": [],
   "source": [
    "import fastcat as fc\n",
    "from glob import glob"
   ]
  },
  {
   "cell_type": "markdown",
   "metadata": {},
   "source": [
    "## First I'll look at the detector MTF"
   ]
  },
  {
   "cell_type": "markdown",
   "metadata": {},
   "source": [
    "### I'll load all of the kernels "
   ]
  },
  {
   "cell_type": "code",
   "execution_count": 3,
   "metadata": {},
   "outputs": [],
   "source": [
    "spectra = glob('../fastcat/data/MV_spectra/*.txt')\n",
    "phantoms = ['Catphan_404','Catphan_515','Catphan_MTF']\n",
    "MV_detectors = glob('../fastcat/data/Detectors/*')\n",
    "\n",
    "dispatcher={'Catphan_404':fc.Catphan_404,\n",
    "            'Catphan_515':fc.Catphan_515,\n",
    "            'Catphan_MTF':fc.Catphan_MTF}"
   ]
  },
  {
   "cell_type": "code",
   "execution_count": 4,
   "metadata": {},
   "outputs": [],
   "source": [
    "s = fc.Spectrum()"
   ]
  },
  {
   "cell_type": "code",
   "execution_count": 126,
   "metadata": {},
   "outputs": [
    {
     "data": {
      "application/vnd.jupyter.widget-view+json": {
       "model_id": "2aa4a4e7fa39430c9181c88de1908e58",
       "version_major": 2,
       "version_minor": 0
      },
      "text/plain": [
       "Canvas(toolbar=Toolbar(toolitems=[('Home', 'Reset original view', 'home', 'home'), ('Back', 'Back to previous …"
      ]
     },
     "metadata": {},
     "output_type": "display_data"
    },
    {
     "name": "stdout",
     "output_type": "stream",
     "text": [
      "Calculation:  1 / 50\n",
      "Calculation:  2 / 50\n",
      "Calculation:  3 / 50\n",
      "Calculation:  4 / 50\n",
      "Calculation:  5 / 50\n",
      "Calculation:  6 / 50\n",
      "Calculation:  7 / 50\n",
      "Calculation:  8 / 50\n",
      "Calculation:  9 / 50\n",
      "Calculation:  10 / 50\n",
      "Calculation:  11 / 50\n",
      "Calculation:  12 / 50\n",
      "Calculation:  13 / 50\n",
      "Calculation:  14 / 50\n",
      "Calculation:  15 / 50\n",
      "Calculation:  16 / 50\n",
      "Calculation:  17 / 50\n",
      "Calculation:  18 / 50\n",
      "Calculation:  19 / 50\n",
      "Calculation:  20 / 50\n",
      "Calculation:  21 / 50\n",
      "Calculation:  22 / 50\n",
      "Calculation:  23 / 50\n",
      "Calculation:  24 / 50\n",
      "Calculation:  25 / 50\n",
      "Calculation:  26 / 50\n",
      "Calculation:  27 / 50\n",
      "Calculation:  28 / 50\n",
      "Calculation:  29 / 50\n",
      "Calculation:  30 / 50\n",
      "Calculation:  31 / 50\n",
      "Calculation:  32 / 50\n",
      "Calculation:  33 / 50\n",
      "Calculation:  34 / 50\n",
      "Calculation:  35 / 50\n",
      "Calculation:  36 / 50\n",
      "Calculation:  37 / 50\n",
      "Calculation:  38 / 50\n",
      "Calculation:  39 / 50\n",
      "Calculation:  40 / 50\n",
      "Calculation:  41 / 50\n",
      "Calculation:  42 / 50\n",
      "Calculation:  43 / 50\n",
      "Calculation:  44 / 50\n",
      "Calculation:  45 / 50\n",
      "Calculation:  46 / 50\n",
      "Calculation:  47 / 50\n",
      "Calculation:  48 / 50\n",
      "Calculation:  49 / 50\n",
      "Calculation:  50 / 50\n"
     ]
    }
   ],
   "source": [
    "contrasts = []\n",
    "mtfs = []\n",
    "label = []\n",
    "\n",
    "fig, axs = plt.subplots(3, 1)\n",
    "\n",
    "spectra = [ 'kv',\n",
    " '../fastcat/data/MV_spectra/C_spectrum_25.txt',\n",
    " '../fastcat/data/MV_spectra/C_spectrum_6.txt',\n",
    " '../fastcat/data/MV_spectra/W_spectrum_25.txt',\n",
    " '../fastcat/data/MV_spectra/W_spectrum_6.txt']\n",
    "\n",
    "MV_detectors = [\n",
    " '../fastcat/data/Detectors/CsI-784-micro_thin',\n",
    " '../fastcat/data/Detectors/CWO-392-micrometer',\n",
    " '../fastcat/data/Detectors/CuGOS-784-micrometer']\n",
    "\n",
    "phan_map = [\n",
    "    'air',\n",
    "    'G4_MUSCLE_SKELETAL_ICRP',\n",
    "    'Spongiosa_Bone_ICRP',\n",
    "    'G4_LUNG_MD_ICRP',\n",
    "    'G4_BONE_COMPACT_ICRU',\n",
    "    'G4_ADIPOSE_TISSUE_ICRP'\n",
    "    ]\n",
    "# s0 = fc.calculate_spectrum(60, 12, 3, 50)\n",
    "# s0.attenuate(0.1,fc.get_mu(z=13))\n",
    "# s0.attenuate(0.015,fc.get_mu(z=29))\n",
    "\n",
    "s0 = fc.calculate_spectrum(120, 12, 3, 50)\n",
    "s0.attenuate(0.3,fc.get_mu(z=13)) #was 0.3\n",
    "\n",
    "# s0.attenuate(0.089,fc.get_mu(z=22))\n",
    "xx, yy = s0.get_points()"
   ]
  },
  {
   "cell_type": "code",
   "execution_count": 75,
   "metadata": {},
   "outputs": [],
   "source": [
    "from scipy.stats import poisson"
   ]
  },
  {
   "cell_type": "code",
   "execution_count": 92,
   "metadata": {},
   "outputs": [
    {
     "data": {
      "text/plain": [
       "(200, 512)"
      ]
     },
     "execution_count": 92,
     "metadata": {},
     "output_type": "execute_result"
    }
   ],
   "source": [
    "noise_first.shape"
   ]
  },
  {
   "cell_type": "code",
   "execution_count": 104,
   "metadata": {},
   "outputs": [
    {
     "ename": "AttributeError",
     "evalue": "'Catphan_404' object has no attribute 'proj'",
     "output_type": "error",
     "traceback": [
      "\u001b[0;31m---------------------------------------------------------------------------\u001b[0m",
      "\u001b[0;31mAttributeError\u001b[0m                            Traceback (most recent call last)",
      "\u001b[0;32m<ipython-input-104-621969e9fab5>\u001b[0m in \u001b[0;36m<module>\u001b[0;34m\u001b[0m\n\u001b[0;32m----> 1\u001b[0;31m \u001b[0mnoise_temp\u001b[0m \u001b[0;34m=\u001b[0m \u001b[0mpoisson\u001b[0m\u001b[0;34m.\u001b[0m\u001b[0mrvs\u001b[0m\u001b[0;34m(\u001b[0m\u001b[0mnp\u001b[0m\u001b[0;34m.\u001b[0m\u001b[0mabs\u001b[0m\u001b[0;34m(\u001b[0m\u001b[0mphantom\u001b[0m\u001b[0;34m.\u001b[0m\u001b[0mproj\u001b[0m\u001b[0;34m)\u001b[0m\u001b[0;34m)\u001b[0m \u001b[0;34m-\u001b[0m \u001b[0mphantom\u001b[0m\u001b[0;34m.\u001b[0m\u001b[0mproj\u001b[0m\u001b[0;34m\u001b[0m\u001b[0;34m\u001b[0m\u001b[0m\n\u001b[0m\u001b[1;32m      2\u001b[0m \u001b[0mplt\u001b[0m\u001b[0;34m.\u001b[0m\u001b[0mfigure\u001b[0m\u001b[0;34m(\u001b[0m\u001b[0;34m)\u001b[0m\u001b[0;34m\u001b[0m\u001b[0;34m\u001b[0m\u001b[0m\n\u001b[1;32m      3\u001b[0m \u001b[0mplt\u001b[0m\u001b[0;34m.\u001b[0m\u001b[0mplot\u001b[0m\u001b[0;34m(\u001b[0m\u001b[0mnp\u001b[0m\u001b[0;34m.\u001b[0m\u001b[0mmean\u001b[0m\u001b[0;34m(\u001b[0m\u001b[0mnoise_temp\u001b[0m\u001b[0;34m[\u001b[0m\u001b[0;36m5\u001b[0m\u001b[0;34m]\u001b[0m\u001b[0;34m,\u001b[0m\u001b[0;36m0\u001b[0m\u001b[0;34m)\u001b[0m\u001b[0;34m)\u001b[0m\u001b[0;34m\u001b[0m\u001b[0;34m\u001b[0m\u001b[0m\n\u001b[1;32m      4\u001b[0m \u001b[0;34m\u001b[0m\u001b[0m\n\u001b[1;32m      5\u001b[0m \u001b[0mnoise_first\u001b[0m \u001b[0;34m=\u001b[0m \u001b[0mnp\u001b[0m\u001b[0;34m.\u001b[0m\u001b[0mrandom\u001b[0m\u001b[0;34m.\u001b[0m\u001b[0mpoisson\u001b[0m\u001b[0;34m(\u001b[0m\u001b[0mnp\u001b[0m\u001b[0;34m.\u001b[0m\u001b[0mabs\u001b[0m\u001b[0;34m(\u001b[0m\u001b[0mphantom\u001b[0m\u001b[0;34m.\u001b[0m\u001b[0mproj\u001b[0m\u001b[0;34m[\u001b[0m\u001b[0;36m0\u001b[0m\u001b[0;34m,\u001b[0m\u001b[0;36m10\u001b[0m\u001b[0;34m,\u001b[0m\u001b[0;34m:\u001b[0m\u001b[0;34m]\u001b[0m\u001b[0;34m)\u001b[0m\u001b[0;34m,\u001b[0m\u001b[0;34m[\u001b[0m\u001b[0;36m200\u001b[0m\u001b[0;34m,\u001b[0m\u001b[0mphantom\u001b[0m\u001b[0;34m.\u001b[0m\u001b[0mproj\u001b[0m\u001b[0;34m.\u001b[0m\u001b[0mshape\u001b[0m\u001b[0;34m[\u001b[0m\u001b[0;36m2\u001b[0m\u001b[0;34m]\u001b[0m\u001b[0;34m]\u001b[0m\u001b[0;34m)\u001b[0m\u001b[0;34m\u001b[0m\u001b[0;34m\u001b[0m\u001b[0m\n",
      "\u001b[0;31mAttributeError\u001b[0m: 'Catphan_404' object has no attribute 'proj'"
     ]
    }
   ],
   "source": [
    "noise_temp = poisson.rvs(np.abs(phantom.proj)) - phantom.proj\n",
    "plt.figure()\n",
    "plt.plot(np.mean(noise_temp[5],0))\n",
    "\n",
    "noise_first = np.random.poisson(np.abs(phantom.proj[0,10,:]),[200,phantom.proj.shape[2]])\n",
    "noise_temp = noise_first[np.random.choice(noise_first.shape[0],phantom.proj.shape[:2])] - phantom.proj\n",
    "plt.figure()\n",
    "plt.plot(np.mean(noise_temp[5],0))"
   ]
  },
  {
   "cell_type": "code",
   "execution_count": 127,
   "metadata": {},
   "outputs": [
    {
     "name": "stdout",
     "output_type": "stream",
     "text": [
      "[2021-07-23 14:07:48,304] {phantoms.py:649} INFO - Phantom is low resolution\n",
      "This is kV\n",
      "kv ../fastcat/data/Detectors/CsI-784-micro_thin\n",
      "[2021-07-23 14:07:48,313] {simulate.py:214} INFO - Initializing filter bowtie_mod\n",
      "[2021-07-23 14:07:48,314] {simulate.py:219} INFO - Loading attenuations from 404_phan_480\n",
      "[2021-07-23 14:07:48,332] {simulate.py:406} INFO - Initializing ASG\n",
      "[2021-07-23 14:07:48,350] {simulate.py:519} INFO - Loading attenuations is on\n",
      "[2021-07-23 14:07:48,351] {simulate.py:521} INFO - Running Simulations\n",
      "[2021-07-23 14:07:48,351] {simulate.py:545} INFO -     Simulating 10 keV\n",
      "[2021-07-23 14:07:48,730] {simulate.py:545} INFO -     Simulating 20 keV\n",
      "[2021-07-23 14:07:49,010] {simulate.py:545} INFO -     Simulating 30 keV\n",
      "[2021-07-23 14:07:49,277] {simulate.py:545} INFO -     Simulating 40 keV\n",
      "[2021-07-23 14:07:49,555] {simulate.py:545} INFO -     Simulating 50 keV\n",
      "[2021-07-23 14:07:49,824] {simulate.py:545} INFO -     Simulating 60 keV\n",
      "[2021-07-23 14:07:50,099] {simulate.py:545} INFO -     Simulating 70 keV\n",
      "[2021-07-23 14:07:50,368] {simulate.py:545} INFO -     Simulating 80 keV\n",
      "[2021-07-23 14:07:50,643] {simulate.py:545} INFO -     Simulating 90 keV\n",
      "[2021-07-23 14:07:50,912] {simulate.py:545} INFO -     Simulating 100 keV\n",
      "[2021-07-23 14:07:51,182] {simulate.py:731} INFO - Weighting simulations\n",
      "[2021-07-23 14:07:51,183] {simulate.py:809} INFO -     Added noise 51.18781530096781 times reference\n",
      "[2021-07-23 14:07:52,214] {legend.py:1193} WARNING - No handles with labels found to put in legend.\n",
      "This is kV\n",
      "kv ../fastcat/data/Detectors/CWO-392-micrometer\n",
      "[2021-07-23 14:07:52,244] {simulate.py:214} INFO - Initializing filter bowtie_mod\n",
      "[2021-07-23 14:07:52,244] {simulate.py:219} INFO - Loading attenuations from 404_phan_480\n",
      "[2021-07-23 14:07:52,256] {simulate.py:406} INFO - Initializing ASG\n",
      "[2021-07-23 14:07:52,276] {simulate.py:519} INFO - Loading attenuations is on\n",
      "[2021-07-23 14:07:52,276] {simulate.py:521} INFO - Running Simulations\n",
      "[2021-07-23 14:07:52,277] {simulate.py:545} INFO -     Simulating 10 keV\n",
      "[2021-07-23 14:07:52,663] {simulate.py:545} INFO -     Simulating 20 keV\n",
      "[2021-07-23 14:07:52,934] {simulate.py:545} INFO -     Simulating 30 keV\n",
      "[2021-07-23 14:07:53,201] {simulate.py:545} INFO -     Simulating 40 keV\n",
      "[2021-07-23 14:07:53,474] {simulate.py:545} INFO -     Simulating 50 keV\n",
      "[2021-07-23 14:07:53,749] {simulate.py:545} INFO -     Simulating 60 keV\n",
      "[2021-07-23 14:07:54,023] {simulate.py:545} INFO -     Simulating 70 keV\n",
      "[2021-07-23 14:07:54,303] {simulate.py:545} INFO -     Simulating 80 keV\n",
      "[2021-07-23 14:07:54,578] {simulate.py:545} INFO -     Simulating 90 keV\n",
      "[2021-07-23 14:07:54,852] {simulate.py:545} INFO -     Simulating 100 keV\n",
      "[2021-07-23 14:07:55,130] {simulate.py:731} INFO - Weighting simulations\n",
      "[2021-07-23 14:07:55,131] {simulate.py:809} INFO -     Added noise 185.3315481867656 times reference\n",
      "[2021-07-23 14:07:56,180] {legend.py:1193} WARNING - No handles with labels found to put in legend.\n",
      "This is kV\n",
      "kv ../fastcat/data/Detectors/CuGOS-784-micrometer\n",
      "[2021-07-23 14:07:56,203] {simulate.py:214} INFO - Initializing filter bowtie_mod\n",
      "[2021-07-23 14:07:56,203] {simulate.py:219} INFO - Loading attenuations from 404_phan_480\n",
      "[2021-07-23 14:07:56,216] {simulate.py:406} INFO - Initializing ASG\n",
      "[2021-07-23 14:07:56,232] {simulate.py:519} INFO - Loading attenuations is on\n",
      "[2021-07-23 14:07:56,232] {simulate.py:521} INFO - Running Simulations\n",
      "[2021-07-23 14:07:56,233] {simulate.py:545} INFO -     Simulating 10 keV\n",
      "[2021-07-23 14:07:56,605] {simulate.py:545} INFO -     Simulating 20 keV\n",
      "[2021-07-23 14:07:56,873] {simulate.py:545} INFO -     Simulating 30 keV\n",
      "[2021-07-23 14:07:57,149] {simulate.py:545} INFO -     Simulating 40 keV\n",
      "[2021-07-23 14:07:57,422] {simulate.py:545} INFO -     Simulating 50 keV\n",
      "[2021-07-23 14:07:57,697] {simulate.py:545} INFO -     Simulating 60 keV\n",
      "[2021-07-23 14:07:57,968] {simulate.py:545} INFO -     Simulating 70 keV\n",
      "[2021-07-23 14:07:58,238] {simulate.py:545} INFO -     Simulating 80 keV\n",
      "[2021-07-23 14:07:58,508] {simulate.py:545} INFO -     Simulating 90 keV\n",
      "[2021-07-23 14:07:58,777] {simulate.py:545} INFO -     Simulating 100 keV\n",
      "[2021-07-23 14:07:59,044] {simulate.py:731} INFO - Weighting simulations\n",
      "[2021-07-23 14:07:59,044] {simulate.py:809} INFO -     Added noise 15.171771266261727 times reference\n",
      "[2021-07-23 14:08:00,062] {legend.py:1193} WARNING - No handles with labels found to put in legend.\n",
      "This is MV\n",
      "../fastcat/data/MV_spectra/C_spectrum_25.txt ../fastcat/data/Detectors/CsI-784-micro_thin\n",
      "[2021-07-23 14:08:00,074] {simulate.py:219} INFO - Loading attenuations from 404_phan_480\n",
      "[2021-07-23 14:08:00,104] {simulate.py:519} INFO - Loading attenuations is on\n",
      "[2021-07-23 14:08:00,104] {simulate.py:521} INFO - Running Simulations\n",
      "[2021-07-23 14:08:00,104] {simulate.py:545} INFO -     Simulating 10 keV\n",
      "[2021-07-23 14:08:00,458] {simulate.py:545} INFO -     Simulating 20 keV\n",
      "[2021-07-23 14:08:00,695] {simulate.py:545} INFO -     Simulating 30 keV\n",
      "[2021-07-23 14:08:00,931] {simulate.py:545} INFO -     Simulating 40 keV\n",
      "[2021-07-23 14:08:01,169] {simulate.py:545} INFO -     Simulating 50 keV\n",
      "[2021-07-23 14:08:01,409] {simulate.py:545} INFO -     Simulating 60 keV\n",
      "[2021-07-23 14:08:01,658] {simulate.py:545} INFO -     Simulating 70 keV\n",
      "[2021-07-23 14:08:01,902] {simulate.py:545} INFO -     Simulating 80 keV\n",
      "[2021-07-23 14:08:02,141] {simulate.py:545} INFO -     Simulating 90 keV\n",
      "[2021-07-23 14:08:02,380] {simulate.py:545} INFO -     Simulating 100 keV\n",
      "[2021-07-23 14:08:02,633] {simulate.py:545} INFO -     Simulating 300 keV\n",
      "[2021-07-23 14:08:02,878] {simulate.py:545} INFO -     Simulating 500 keV\n",
      "[2021-07-23 14:08:03,125] {simulate.py:545} INFO -     Simulating 700 keV\n",
      "[2021-07-23 14:08:03,374] {simulate.py:545} INFO -     Simulating 900 keV\n",
      "[2021-07-23 14:08:03,615] {simulate.py:545} INFO -     Simulating 1000 keV\n",
      "[2021-07-23 14:08:03,861] {simulate.py:545} INFO -     Simulating 2000 keV\n",
      "[2021-07-23 14:08:04,098] {simulate.py:731} INFO - Weighting simulations\n",
      "[2021-07-23 14:08:04,099] {simulate.py:809} INFO -     Added noise 17.3072554668382 times reference\n",
      "[2021-07-23 14:08:05,142] {legend.py:1193} WARNING - No handles with labels found to put in legend.\n",
      "This is MV\n",
      "../fastcat/data/MV_spectra/C_spectrum_25.txt ../fastcat/data/Detectors/CWO-392-micrometer\n",
      "[2021-07-23 14:08:05,164] {simulate.py:219} INFO - Loading attenuations from 404_phan_480\n",
      "[2021-07-23 14:08:05,191] {simulate.py:519} INFO - Loading attenuations is on\n",
      "[2021-07-23 14:08:05,191] {simulate.py:521} INFO - Running Simulations\n",
      "[2021-07-23 14:08:05,192] {simulate.py:545} INFO -     Simulating 10 keV\n",
      "[2021-07-23 14:08:05,540] {simulate.py:545} INFO -     Simulating 20 keV\n",
      "[2021-07-23 14:08:05,775] {simulate.py:545} INFO -     Simulating 30 keV\n",
      "[2021-07-23 14:08:06,011] {simulate.py:545} INFO -     Simulating 40 keV\n",
      "[2021-07-23 14:08:06,248] {simulate.py:545} INFO -     Simulating 50 keV\n",
      "[2021-07-23 14:08:06,483] {simulate.py:545} INFO -     Simulating 60 keV\n",
      "[2021-07-23 14:08:06,721] {simulate.py:545} INFO -     Simulating 70 keV\n",
      "[2021-07-23 14:08:06,959] {simulate.py:545} INFO -     Simulating 80 keV\n",
      "[2021-07-23 14:08:07,207] {simulate.py:545} INFO -     Simulating 90 keV\n",
      "[2021-07-23 14:08:07,453] {simulate.py:545} INFO -     Simulating 100 keV\n",
      "[2021-07-23 14:08:07,703] {simulate.py:545} INFO -     Simulating 300 keV\n",
      "[2021-07-23 14:08:07,952] {simulate.py:545} INFO -     Simulating 500 keV\n",
      "[2021-07-23 14:08:08,198] {simulate.py:545} INFO -     Simulating 700 keV\n",
      "[2021-07-23 14:08:08,445] {simulate.py:545} INFO -     Simulating 900 keV\n",
      "[2021-07-23 14:08:08,687] {simulate.py:545} INFO -     Simulating 1000 keV\n",
      "[2021-07-23 14:08:08,930] {simulate.py:545} INFO -     Simulating 2000 keV\n",
      "[2021-07-23 14:08:09,176] {simulate.py:731} INFO - Weighting simulations\n",
      "[2021-07-23 14:08:09,176] {simulate.py:809} INFO -     Added noise 64.68877400971404 times reference\n",
      "[2021-07-23 14:08:10,201] {legend.py:1193} WARNING - No handles with labels found to put in legend.\n",
      "This is MV\n",
      "../fastcat/data/MV_spectra/C_spectrum_25.txt ../fastcat/data/Detectors/CuGOS-784-micrometer\n",
      "[2021-07-23 14:08:10,217] {simulate.py:219} INFO - Loading attenuations from 404_phan_480\n",
      "[2021-07-23 14:08:10,249] {simulate.py:519} INFO - Loading attenuations is on\n",
      "[2021-07-23 14:08:10,250] {simulate.py:521} INFO - Running Simulations\n",
      "[2021-07-23 14:08:10,250] {simulate.py:545} INFO -     Simulating 10 keV\n",
      "[2021-07-23 14:08:10,605] {simulate.py:545} INFO -     Simulating 20 keV\n",
      "[2021-07-23 14:08:10,844] {simulate.py:545} INFO -     Simulating 30 keV\n",
      "[2021-07-23 14:08:11,085] {simulate.py:545} INFO -     Simulating 40 keV\n",
      "[2021-07-23 14:08:11,338] {simulate.py:545} INFO -     Simulating 50 keV\n",
      "[2021-07-23 14:08:11,586] {simulate.py:545} INFO -     Simulating 60 keV\n",
      "[2021-07-23 14:08:11,827] {simulate.py:545} INFO -     Simulating 70 keV\n",
      "[2021-07-23 14:08:12,069] {simulate.py:545} INFO -     Simulating 80 keV\n",
      "[2021-07-23 14:08:12,310] {simulate.py:545} INFO -     Simulating 90 keV\n",
      "[2021-07-23 14:08:12,560] {simulate.py:545} INFO -     Simulating 100 keV\n",
      "[2021-07-23 14:08:12,800] {simulate.py:545} INFO -     Simulating 300 keV\n",
      "[2021-07-23 14:08:13,046] {simulate.py:545} INFO -     Simulating 500 keV\n",
      "[2021-07-23 14:08:13,293] {simulate.py:545} INFO -     Simulating 700 keV\n",
      "[2021-07-23 14:08:13,537] {simulate.py:545} INFO -     Simulating 900 keV\n",
      "[2021-07-23 14:08:13,778] {simulate.py:545} INFO -     Simulating 1000 keV\n",
      "[2021-07-23 14:08:14,022] {simulate.py:545} INFO -     Simulating 2000 keV\n",
      "[2021-07-23 14:08:14,272] {simulate.py:731} INFO - Weighting simulations\n",
      "[2021-07-23 14:08:14,273] {simulate.py:809} INFO -     Added noise 3.275859493804573 times reference\n",
      "[2021-07-23 14:08:15,308] {legend.py:1193} WARNING - No handles with labels found to put in legend.\n",
      "This is MV\n",
      "../fastcat/data/MV_spectra/C_spectrum_6.txt ../fastcat/data/Detectors/CsI-784-micro_thin\n",
      "[2021-07-23 14:08:15,318] {simulate.py:219} INFO - Loading attenuations from 404_phan_480\n",
      "[2021-07-23 14:08:15,346] {simulate.py:519} INFO - Loading attenuations is on\n",
      "[2021-07-23 14:08:15,346] {simulate.py:521} INFO - Running Simulations\n",
      "[2021-07-23 14:08:15,347] {simulate.py:545} INFO -     Simulating 10 keV\n",
      "[2021-07-23 14:08:15,697] {simulate.py:545} INFO -     Simulating 20 keV\n",
      "[2021-07-23 14:08:15,933] {simulate.py:545} INFO -     Simulating 30 keV\n",
      "[2021-07-23 14:08:16,175] {simulate.py:545} INFO -     Simulating 40 keV\n",
      "[2021-07-23 14:08:16,423] {simulate.py:545} INFO -     Simulating 50 keV\n",
      "[2021-07-23 14:08:16,663] {simulate.py:545} INFO -     Simulating 60 keV\n",
      "[2021-07-23 14:08:16,901] {simulate.py:545} INFO -     Simulating 70 keV\n",
      "[2021-07-23 14:08:17,142] {simulate.py:545} INFO -     Simulating 80 keV\n",
      "[2021-07-23 14:08:17,378] {simulate.py:545} INFO -     Simulating 90 keV\n",
      "[2021-07-23 14:08:17,614] {simulate.py:545} INFO -     Simulating 100 keV\n",
      "[2021-07-23 14:08:17,857] {simulate.py:545} INFO -     Simulating 300 keV\n",
      "[2021-07-23 14:08:18,096] {simulate.py:545} INFO -     Simulating 500 keV\n",
      "[2021-07-23 14:08:18,335] {simulate.py:545} INFO -     Simulating 700 keV\n",
      "[2021-07-23 14:08:18,572] {simulate.py:545} INFO -     Simulating 900 keV\n",
      "[2021-07-23 14:08:18,808] {simulate.py:545} INFO -     Simulating 1000 keV\n",
      "[2021-07-23 14:08:19,047] {simulate.py:545} INFO -     Simulating 2000 keV\n",
      "[2021-07-23 14:08:19,290] {simulate.py:545} INFO -     Simulating 4000 keV\n",
      "[2021-07-23 14:08:19,527] {simulate.py:545} INFO -     Simulating 6000 keV\n",
      "[2021-07-23 14:08:19,758] {simulate.py:731} INFO - Weighting simulations\n",
      "[2021-07-23 14:08:19,758] {simulate.py:809} INFO -     Added noise 3.957704379129625 times reference\n",
      "[2021-07-23 14:08:20,794] {legend.py:1193} WARNING - No handles with labels found to put in legend.\n",
      "This is MV\n",
      "../fastcat/data/MV_spectra/C_spectrum_6.txt ../fastcat/data/Detectors/CWO-392-micrometer\n",
      "[2021-07-23 14:08:20,816] {simulate.py:219} INFO - Loading attenuations from 404_phan_480\n",
      "[2021-07-23 14:08:20,854] {simulate.py:519} INFO - Loading attenuations is on\n",
      "[2021-07-23 14:08:20,855] {simulate.py:521} INFO - Running Simulations\n",
      "[2021-07-23 14:08:20,855] {simulate.py:545} INFO -     Simulating 10 keV\n",
      "[2021-07-23 14:08:21,200] {simulate.py:545} INFO -     Simulating 20 keV\n",
      "[2021-07-23 14:08:21,435] {simulate.py:545} INFO -     Simulating 30 keV\n",
      "[2021-07-23 14:08:21,667] {simulate.py:545} INFO -     Simulating 40 keV\n",
      "[2021-07-23 14:08:21,900] {simulate.py:545} INFO -     Simulating 50 keV\n",
      "[2021-07-23 14:08:22,134] {simulate.py:545} INFO -     Simulating 60 keV\n",
      "[2021-07-23 14:08:22,367] {simulate.py:545} INFO -     Simulating 70 keV\n",
      "[2021-07-23 14:08:22,610] {simulate.py:545} INFO -     Simulating 80 keV\n",
      "[2021-07-23 14:08:22,844] {simulate.py:545} INFO -     Simulating 90 keV\n",
      "[2021-07-23 14:08:23,091] {simulate.py:545} INFO -     Simulating 100 keV\n",
      "[2021-07-23 14:08:23,331] {simulate.py:545} INFO -     Simulating 300 keV\n",
      "[2021-07-23 14:08:23,572] {simulate.py:545} INFO -     Simulating 500 keV\n",
      "[2021-07-23 14:08:23,816] {simulate.py:545} INFO -     Simulating 700 keV\n",
      "[2021-07-23 14:08:24,055] {simulate.py:545} INFO -     Simulating 900 keV\n",
      "[2021-07-23 14:08:24,300] {simulate.py:545} INFO -     Simulating 1000 keV\n",
      "[2021-07-23 14:08:24,539] {simulate.py:545} INFO -     Simulating 2000 keV\n",
      "[2021-07-23 14:08:24,789] {simulate.py:545} INFO -     Simulating 4000 keV\n",
      "[2021-07-23 14:08:25,031] {simulate.py:545} INFO -     Simulating 6000 keV\n",
      "[2021-07-23 14:08:25,293] {simulate.py:731} INFO - Weighting simulations\n",
      "[2021-07-23 14:08:25,293] {simulate.py:809} INFO -     Added noise 22.868525816499616 times reference\n",
      "[2021-07-23 14:08:26,357] {legend.py:1193} WARNING - No handles with labels found to put in legend.\n",
      "This is MV\n",
      "../fastcat/data/MV_spectra/C_spectrum_6.txt ../fastcat/data/Detectors/CuGOS-784-micrometer\n",
      "[2021-07-23 14:08:26,372] {simulate.py:219} INFO - Loading attenuations from 404_phan_480\n",
      "[2021-07-23 14:08:26,399] {simulate.py:519} INFO - Loading attenuations is on\n",
      "[2021-07-23 14:08:26,400] {simulate.py:521} INFO - Running Simulations\n",
      "[2021-07-23 14:08:26,400] {simulate.py:545} INFO -     Simulating 10 keV\n",
      "[2021-07-23 14:08:26,766] {simulate.py:545} INFO -     Simulating 20 keV\n",
      "[2021-07-23 14:08:27,011] {simulate.py:545} INFO -     Simulating 30 keV\n",
      "[2021-07-23 14:08:27,265] {simulate.py:545} INFO -     Simulating 40 keV\n",
      "[2021-07-23 14:08:27,504] {simulate.py:545} INFO -     Simulating 50 keV\n",
      "[2021-07-23 14:08:27,745] {simulate.py:545} INFO -     Simulating 60 keV\n",
      "[2021-07-23 14:08:27,998] {simulate.py:545} INFO -     Simulating 70 keV\n",
      "[2021-07-23 14:08:28,245] {simulate.py:545} INFO -     Simulating 80 keV\n",
      "[2021-07-23 14:08:28,496] {simulate.py:545} INFO -     Simulating 90 keV\n",
      "[2021-07-23 14:08:28,742] {simulate.py:545} INFO -     Simulating 100 keV\n",
      "[2021-07-23 14:08:28,986] {simulate.py:545} INFO -     Simulating 300 keV\n",
      "[2021-07-23 14:08:29,236] {simulate.py:545} INFO -     Simulating 500 keV\n",
      "[2021-07-23 14:08:29,478] {simulate.py:545} INFO -     Simulating 700 keV\n",
      "[2021-07-23 14:08:29,729] {simulate.py:545} INFO -     Simulating 900 keV\n",
      "[2021-07-23 14:08:29,982] {simulate.py:545} INFO -     Simulating 1000 keV\n",
      "[2021-07-23 14:08:30,239] {simulate.py:545} INFO -     Simulating 2000 keV\n",
      "[2021-07-23 14:08:30,489] {simulate.py:545} INFO -     Simulating 4000 keV\n",
      "[2021-07-23 14:08:30,729] {simulate.py:545} INFO -     Simulating 6000 keV\n",
      "[2021-07-23 14:08:30,971] {simulate.py:731} INFO - Weighting simulations\n",
      "[2021-07-23 14:08:30,971] {simulate.py:809} INFO -     Added noise 1.119614281656961 times reference\n",
      "[2021-07-23 14:08:31,993] {legend.py:1193} WARNING - No handles with labels found to put in legend.\n",
      "This is MV\n",
      "../fastcat/data/MV_spectra/W_spectrum_25.txt ../fastcat/data/Detectors/CsI-784-micro_thin\n",
      "[2021-07-23 14:08:32,003] {simulate.py:219} INFO - Loading attenuations from 404_phan_480\n",
      "[2021-07-23 14:08:32,032] {simulate.py:519} INFO - Loading attenuations is on\n",
      "[2021-07-23 14:08:32,033] {simulate.py:521} INFO - Running Simulations\n",
      "[2021-07-23 14:08:32,033] {simulate.py:545} INFO -     Simulating 10 keV\n",
      "[2021-07-23 14:08:32,384] {simulate.py:545} INFO -     Simulating 20 keV\n",
      "[2021-07-23 14:08:32,624] {simulate.py:545} INFO -     Simulating 30 keV\n",
      "[2021-07-23 14:08:32,857] {simulate.py:545} INFO -     Simulating 40 keV\n",
      "[2021-07-23 14:08:33,094] {simulate.py:545} INFO -     Simulating 50 keV\n",
      "[2021-07-23 14:08:33,330] {simulate.py:545} INFO -     Simulating 60 keV\n",
      "[2021-07-23 14:08:33,568] {simulate.py:545} INFO -     Simulating 70 keV\n",
      "[2021-07-23 14:08:33,806] {simulate.py:545} INFO -     Simulating 80 keV\n",
      "[2021-07-23 14:08:34,042] {simulate.py:545} INFO -     Simulating 90 keV\n",
      "[2021-07-23 14:08:34,277] {simulate.py:545} INFO -     Simulating 100 keV\n",
      "[2021-07-23 14:08:34,520] {simulate.py:545} INFO -     Simulating 300 keV\n",
      "[2021-07-23 14:08:34,763] {simulate.py:545} INFO -     Simulating 500 keV\n",
      "[2021-07-23 14:08:35,003] {simulate.py:545} INFO -     Simulating 700 keV\n",
      "[2021-07-23 14:08:35,249] {simulate.py:545} INFO -     Simulating 900 keV\n",
      "[2021-07-23 14:08:35,492] {simulate.py:545} INFO -     Simulating 1000 keV\n",
      "[2021-07-23 14:08:35,734] {simulate.py:545} INFO -     Simulating 2000 keV\n",
      "[2021-07-23 14:08:35,976] {simulate.py:731} INFO - Weighting simulations\n",
      "[2021-07-23 14:08:35,976] {simulate.py:809} INFO -     Added noise 0.1946796807895814 times reference\n",
      "[2021-07-23 14:08:37,014] {legend.py:1193} WARNING - No handles with labels found to put in legend.\n",
      "This is MV\n",
      "../fastcat/data/MV_spectra/W_spectrum_25.txt ../fastcat/data/Detectors/CWO-392-micrometer\n",
      "[2021-07-23 14:08:37,036] {simulate.py:219} INFO - Loading attenuations from 404_phan_480\n",
      "[2021-07-23 14:08:37,066] {simulate.py:519} INFO - Loading attenuations is on\n",
      "[2021-07-23 14:08:37,067] {simulate.py:521} INFO - Running Simulations\n",
      "[2021-07-23 14:08:37,068] {simulate.py:545} INFO -     Simulating 10 keV\n",
      "[2021-07-23 14:08:37,416] {simulate.py:545} INFO -     Simulating 20 keV\n",
      "[2021-07-23 14:08:37,648] {simulate.py:545} INFO -     Simulating 30 keV\n",
      "[2021-07-23 14:08:37,883] {simulate.py:545} INFO -     Simulating 40 keV\n",
      "[2021-07-23 14:08:38,114] {simulate.py:545} INFO -     Simulating 50 keV\n",
      "[2021-07-23 14:08:38,350] {simulate.py:545} INFO -     Simulating 60 keV\n",
      "[2021-07-23 14:08:38,584] {simulate.py:545} INFO -     Simulating 70 keV\n",
      "[2021-07-23 14:08:38,817] {simulate.py:545} INFO -     Simulating 80 keV\n",
      "[2021-07-23 14:08:39,047] {simulate.py:545} INFO -     Simulating 90 keV\n",
      "[2021-07-23 14:08:39,283] {simulate.py:545} INFO -     Simulating 100 keV\n",
      "[2021-07-23 14:08:39,518] {simulate.py:545} INFO -     Simulating 300 keV\n",
      "[2021-07-23 14:08:39,757] {simulate.py:545} INFO -     Simulating 500 keV\n",
      "[2021-07-23 14:08:39,996] {simulate.py:545} INFO -     Simulating 700 keV\n",
      "[2021-07-23 14:08:40,235] {simulate.py:545} INFO -     Simulating 900 keV\n",
      "[2021-07-23 14:08:40,479] {simulate.py:545} INFO -     Simulating 1000 keV\n",
      "[2021-07-23 14:08:40,717] {simulate.py:545} INFO -     Simulating 2000 keV\n",
      "[2021-07-23 14:08:40,956] {simulate.py:731} INFO - Weighting simulations\n",
      "[2021-07-23 14:08:40,956] {simulate.py:809} INFO -     Added noise 15.697760146100194 times reference\n",
      "[2021-07-23 14:08:41,992] {legend.py:1193} WARNING - No handles with labels found to put in legend.\n",
      "This is MV\n",
      "../fastcat/data/MV_spectra/W_spectrum_25.txt ../fastcat/data/Detectors/CuGOS-784-micrometer\n",
      "[2021-07-23 14:08:42,008] {simulate.py:219} INFO - Loading attenuations from 404_phan_480\n",
      "[2021-07-23 14:08:42,038] {simulate.py:519} INFO - Loading attenuations is on\n",
      "[2021-07-23 14:08:42,038] {simulate.py:521} INFO - Running Simulations\n",
      "[2021-07-23 14:08:42,039] {simulate.py:545} INFO -     Simulating 10 keV\n",
      "[2021-07-23 14:08:42,385] {simulate.py:545} INFO -     Simulating 20 keV\n",
      "[2021-07-23 14:08:42,622] {simulate.py:545} INFO -     Simulating 30 keV\n",
      "[2021-07-23 14:08:42,856] {simulate.py:545} INFO -     Simulating 40 keV\n",
      "[2021-07-23 14:08:43,092] {simulate.py:545} INFO -     Simulating 50 keV\n",
      "[2021-07-23 14:08:43,323] {simulate.py:545} INFO -     Simulating 60 keV\n",
      "[2021-07-23 14:08:43,559] {simulate.py:545} INFO -     Simulating 70 keV\n",
      "[2021-07-23 14:08:43,792] {simulate.py:545} INFO -     Simulating 80 keV\n",
      "[2021-07-23 14:08:44,022] {simulate.py:545} INFO -     Simulating 90 keV\n",
      "[2021-07-23 14:08:44,257] {simulate.py:545} INFO -     Simulating 100 keV\n",
      "[2021-07-23 14:08:44,496] {simulate.py:545} INFO -     Simulating 300 keV\n",
      "[2021-07-23 14:08:44,737] {simulate.py:545} INFO -     Simulating 500 keV\n",
      "[2021-07-23 14:08:44,975] {simulate.py:545} INFO -     Simulating 700 keV\n",
      "[2021-07-23 14:08:45,218] {simulate.py:545} INFO -     Simulating 900 keV\n",
      "[2021-07-23 14:08:45,456] {simulate.py:545} INFO -     Simulating 1000 keV\n",
      "[2021-07-23 14:08:45,699] {simulate.py:545} INFO -     Simulating 2000 keV\n",
      "[2021-07-23 14:08:45,937] {simulate.py:731} INFO - Weighting simulations\n",
      "[2021-07-23 14:08:45,937] {simulate.py:809} INFO -     Added noise 0.3165110607731963 times reference\n",
      "[2021-07-23 14:08:46,974] {legend.py:1193} WARNING - No handles with labels found to put in legend.\n",
      "This is MV\n",
      "../fastcat/data/MV_spectra/W_spectrum_6.txt ../fastcat/data/Detectors/CsI-784-micro_thin\n",
      "[2021-07-23 14:08:46,983] {simulate.py:219} INFO - Loading attenuations from 404_phan_480\n",
      "[2021-07-23 14:08:47,011] {simulate.py:519} INFO - Loading attenuations is on\n",
      "[2021-07-23 14:08:47,011] {simulate.py:521} INFO - Running Simulations\n",
      "[2021-07-23 14:08:47,012] {simulate.py:545} INFO -     Simulating 10 keV\n",
      "[2021-07-23 14:08:47,363] {simulate.py:545} INFO -     Simulating 20 keV\n",
      "[2021-07-23 14:08:47,598] {simulate.py:545} INFO -     Simulating 30 keV\n",
      "[2021-07-23 14:08:47,833] {simulate.py:545} INFO -     Simulating 40 keV\n",
      "[2021-07-23 14:08:48,079] {simulate.py:545} INFO -     Simulating 50 keV\n",
      "[2021-07-23 14:08:48,317] {simulate.py:545} INFO -     Simulating 60 keV\n",
      "[2021-07-23 14:08:48,550] {simulate.py:545} INFO -     Simulating 70 keV\n",
      "[2021-07-23 14:08:48,783] {simulate.py:545} INFO -     Simulating 80 keV\n",
      "[2021-07-23 14:08:49,019] {simulate.py:545} INFO -     Simulating 90 keV\n",
      "[2021-07-23 14:08:49,255] {simulate.py:545} INFO -     Simulating 100 keV\n",
      "[2021-07-23 14:08:49,499] {simulate.py:545} INFO -     Simulating 300 keV\n",
      "[2021-07-23 14:08:49,741] {simulate.py:545} INFO -     Simulating 500 keV\n",
      "[2021-07-23 14:08:49,986] {simulate.py:545} INFO -     Simulating 700 keV\n",
      "[2021-07-23 14:08:50,230] {simulate.py:545} INFO -     Simulating 900 keV\n",
      "[2021-07-23 14:08:50,482] {simulate.py:545} INFO -     Simulating 1000 keV\n",
      "[2021-07-23 14:08:50,721] {simulate.py:545} INFO -     Simulating 2000 keV\n",
      "[2021-07-23 14:08:50,962] {simulate.py:545} INFO -     Simulating 4000 keV\n",
      "[2021-07-23 14:08:51,205] {simulate.py:545} INFO -     Simulating 6000 keV\n",
      "[2021-07-23 14:08:51,444] {simulate.py:731} INFO - Weighting simulations\n",
      "[2021-07-23 14:08:51,445] {simulate.py:809} INFO -     Added noise 0.03922100880459155 times reference\n",
      "[2021-07-23 14:08:52,505] {legend.py:1193} WARNING - No handles with labels found to put in legend.\n",
      "This is MV\n",
      "../fastcat/data/MV_spectra/W_spectrum_6.txt ../fastcat/data/Detectors/CWO-392-micrometer\n",
      "[2021-07-23 14:08:52,526] {simulate.py:219} INFO - Loading attenuations from 404_phan_480\n",
      "[2021-07-23 14:08:52,556] {simulate.py:519} INFO - Loading attenuations is on\n",
      "[2021-07-23 14:08:52,556] {simulate.py:521} INFO - Running Simulations\n",
      "[2021-07-23 14:08:52,556] {simulate.py:545} INFO -     Simulating 10 keV\n",
      "[2021-07-23 14:08:52,910] {simulate.py:545} INFO -     Simulating 20 keV\n",
      "[2021-07-23 14:08:53,148] {simulate.py:545} INFO -     Simulating 30 keV\n",
      "[2021-07-23 14:08:53,381] {simulate.py:545} INFO -     Simulating 40 keV\n",
      "[2021-07-23 14:08:53,616] {simulate.py:545} INFO -     Simulating 50 keV\n",
      "[2021-07-23 14:08:53,851] {simulate.py:545} INFO -     Simulating 60 keV\n",
      "[2021-07-23 14:08:54,087] {simulate.py:545} INFO -     Simulating 70 keV\n",
      "[2021-07-23 14:08:54,323] {simulate.py:545} INFO -     Simulating 80 keV\n",
      "[2021-07-23 14:08:54,554] {simulate.py:545} INFO -     Simulating 90 keV\n",
      "[2021-07-23 14:08:54,788] {simulate.py:545} INFO -     Simulating 100 keV\n",
      "[2021-07-23 14:08:55,021] {simulate.py:545} INFO -     Simulating 300 keV\n",
      "[2021-07-23 14:08:55,265] {simulate.py:545} INFO -     Simulating 500 keV\n",
      "[2021-07-23 14:08:55,509] {simulate.py:545} INFO -     Simulating 700 keV\n",
      "[2021-07-23 14:08:55,751] {simulate.py:545} INFO -     Simulating 900 keV\n",
      "[2021-07-23 14:08:55,992] {simulate.py:545} INFO -     Simulating 1000 keV\n",
      "[2021-07-23 14:08:56,231] {simulate.py:545} INFO -     Simulating 2000 keV\n",
      "[2021-07-23 14:08:56,488] {simulate.py:545} INFO -     Simulating 4000 keV\n",
      "[2021-07-23 14:08:56,745] {simulate.py:545} INFO -     Simulating 6000 keV\n",
      "[2021-07-23 14:08:56,987] {simulate.py:731} INFO - Weighting simulations\n",
      "[2021-07-23 14:08:56,987] {simulate.py:809} INFO -     Added noise 6.100841620005324 times reference\n",
      "[2021-07-23 14:08:58,024] {legend.py:1193} WARNING - No handles with labels found to put in legend.\n",
      "This is MV\n",
      "../fastcat/data/MV_spectra/W_spectrum_6.txt ../fastcat/data/Detectors/CuGOS-784-micrometer\n",
      "[2021-07-23 14:08:58,040] {simulate.py:219} INFO - Loading attenuations from 404_phan_480\n",
      "[2021-07-23 14:08:58,068] {simulate.py:519} INFO - Loading attenuations is on\n",
      "[2021-07-23 14:08:58,069] {simulate.py:521} INFO - Running Simulations\n",
      "[2021-07-23 14:08:58,069] {simulate.py:545} INFO -     Simulating 10 keV\n",
      "[2021-07-23 14:08:58,417] {simulate.py:545} INFO -     Simulating 20 keV\n",
      "[2021-07-23 14:08:58,652] {simulate.py:545} INFO -     Simulating 30 keV\n",
      "[2021-07-23 14:08:58,887] {simulate.py:545} INFO -     Simulating 40 keV\n",
      "[2021-07-23 14:08:59,123] {simulate.py:545} INFO -     Simulating 50 keV\n",
      "[2021-07-23 14:08:59,356] {simulate.py:545} INFO -     Simulating 60 keV\n",
      "[2021-07-23 14:08:59,591] {simulate.py:545} INFO -     Simulating 70 keV\n",
      "[2021-07-23 14:08:59,824] {simulate.py:545} INFO -     Simulating 80 keV\n",
      "[2021-07-23 14:09:00,062] {simulate.py:545} INFO -     Simulating 90 keV\n",
      "[2021-07-23 14:09:00,296] {simulate.py:545} INFO -     Simulating 100 keV\n",
      "[2021-07-23 14:09:00,540] {simulate.py:545} INFO -     Simulating 300 keV\n",
      "[2021-07-23 14:09:00,781] {simulate.py:545} INFO -     Simulating 500 keV\n",
      "[2021-07-23 14:09:01,023] {simulate.py:545} INFO -     Simulating 700 keV\n",
      "[2021-07-23 14:09:01,269] {simulate.py:545} INFO -     Simulating 900 keV\n",
      "[2021-07-23 14:09:01,513] {simulate.py:545} INFO -     Simulating 1000 keV\n",
      "[2021-07-23 14:09:01,755] {simulate.py:545} INFO -     Simulating 2000 keV\n",
      "[2021-07-23 14:09:01,995] {simulate.py:545} INFO -     Simulating 4000 keV\n",
      "[2021-07-23 14:09:02,236] {simulate.py:545} INFO -     Simulating 6000 keV\n",
      "[2021-07-23 14:09:02,482] {simulate.py:731} INFO - Weighting simulations\n",
      "[2021-07-23 14:09:02,482] {simulate.py:809} INFO -     Added noise 0.0853757147057586 times reference\n",
      "[2021-07-23 14:09:03,519] {legend.py:1193} WARNING - No handles with labels found to put in legend.\n"
     ]
    }
   ],
   "source": [
    "nviews = 480\n",
    "\n",
    "contrasts = []\n",
    "mtfs = []\n",
    "label = []\n",
    "effs = []\n",
    "nps = []\n",
    "doses = []\n",
    "\n",
    "for phan in phantoms[:1]:\n",
    "    phantom = fc.Catphan_404(hi_res=False)\n",
    "    phantom.phan_map = phan_map\n",
    "    s = fc.Spectrum()\n",
    "    for spectrum in spectra:\n",
    "        for det in MV_detectors:#[1:2]:\n",
    "\n",
    "            if len(spectrum) > 4:\n",
    "                s.load(spectrum.split('/')[-1].split('.')[0])\n",
    "                print('This is MV')\n",
    "#                 s.y[-50:] = 0\n",
    "#                 s.attenuate(0.2,fc.get_mu(z=13)) #was 0.3\n",
    "#                 s.attenuate(0.089,fc.get_mu(z=22))\n",
    "#                 s.attenuate(1,fc.get_mu(z=13))\n",
    "            else:\n",
    "                s.x = xx\n",
    "                s.y = yy\n",
    "                print('This is kV')\n",
    "#                 s.attenuate(1,fc.get_mu(z=13))\n",
    "                \n",
    "            print(spectrum,det)\n",
    "            kernel = fc.Detector(s, det.split('/')[-1].split('.')[0])\n",
    "#             kernel.get_plot_mtf_real(axs[2])\n",
    "#             mtfs.append([kernel.freq,kernel.mtf])\n",
    "            angles = np.linspace(0,np.pi*2,nviews,endpoint=False)        \n",
    "            if len(spectrum) < 4:\n",
    "                phantom.return_projs(kernel,s,angles,det_on=True,convolve_on=False,mgy = 7/nviews,ASG=True,bowtie=True,filter='bowtie_mod',load_proj=True,proj_file='404_phan_480')\n",
    "            else:\n",
    "                phantom.return_projs(kernel,s,angles,det_on=True,mgy = 7/nviews,convolve_on=False,load_proj=True,proj_file='404_phan_480')\n",
    "            phantom.reconstruct('FDK')\n",
    "#             phantom.reconstruct('CGLS')\n",
    "            contrasts.append(phantom.analyse_515(phantom.img[5],axs))\n",
    "            label.append(spectrum.split('/')[-1].split('.')[0] + det.split('/')[-1].split('.')[0])\n",
    "            effs.append(phantom.ratio)\n",
    "            nps.append(phantom.nphoton_av)\n",
    "            doses.append(phantom.doses)\n",
    "            \n",
    "\n",
    "#             break\n",
    "#         break\n",
    "#     break"
   ]
  },
  {
   "cell_type": "code",
   "execution_count": 47,
   "metadata": {},
   "outputs": [
    {
     "data": {
      "application/vnd.jupyter.widget-view+json": {
       "model_id": "f701b331dde64d529d3362a015d15f1a",
       "version_major": 2,
       "version_minor": 0
      },
      "text/plain": [
       "Canvas(toolbar=Toolbar(toolitems=[('Home', 'Reset original view', 'home', 'home'), ('Back', 'Back to previous …"
      ]
     },
     "metadata": {},
     "output_type": "display_data"
    },
    {
     "data": {
      "text/plain": [
       "<matplotlib.legend.Legend at 0x7ff98f720910>"
      ]
     },
     "execution_count": 47,
     "metadata": {},
     "output_type": "execute_result"
    }
   ],
   "source": [
    "plt.figure()\n",
    "for ii,eff in enumerate(zip(nps,effs)):\n",
    "    plt.plot(ii,eff[0]/np.sum(nps),'r*',label='n_photons')\n",
    "    plt.plot(ii,eff[1]/np.sum(effs),'b*',label='ratio')\n",
    "plt.legend(['n_photon','ratio'])\n",
    "# plt.legend(label)\n",
    "# plt.tight_layout()"
   ]
  },
  {
   "cell_type": "code",
   "execution_count": 56,
   "metadata": {},
   "outputs": [
    {
     "data": {
      "text/plain": [
       "array([0.0157925 , 0.02489176, 0.03072557, 0.03655938, 0.03827044,\n",
       "       0.03381792, 0.0293654 , 0.0257994 , 0.02355599, 0.16430884,\n",
       "       0.15787932, 0.0920026 , 0.06308159, 0.03618075, 0.08853884,\n",
       "       0.10284713, 0.03638256, 0.        ])"
      ]
     },
     "execution_count": 56,
     "metadata": {},
     "output_type": "execute_result"
    }
   ],
   "source": [
    "phantom.weights_small2"
   ]
  },
  {
   "cell_type": "code",
   "execution_count": 57,
   "metadata": {},
   "outputs": [
    {
     "data": {
      "application/vnd.jupyter.widget-view+json": {
       "model_id": "c79700a8a5c64114941a5fc93f629793",
       "version_major": 2,
       "version_minor": 0
      },
      "text/plain": [
       "Canvas(toolbar=Toolbar(toolitems=[('Home', 'Reset original view', 'home', 'home'), ('Back', 'Back to previous …"
      ]
     },
     "metadata": {},
     "output_type": "display_data"
    },
    {
     "data": {
      "text/plain": [
       "[<matplotlib.lines.Line2D at 0x7ff9917747d0>]"
      ]
     },
     "execution_count": 57,
     "metadata": {},
     "output_type": "execute_result"
    }
   ],
   "source": [
    "plt.figure()\n",
    "plt.plot(s.x,s.y)"
   ]
  },
  {
   "cell_type": "code",
   "execution_count": 123,
   "metadata": {},
   "outputs": [
    {
     "data": {
      "application/vnd.jupyter.widget-view+json": {
       "model_id": "1287d7ca67c242daa655dd799303dd80",
       "version_major": 2,
       "version_minor": 0
      },
      "text/plain": [
       "Canvas(toolbar=Toolbar(toolitems=[('Home', 'Reset original view', 'home', 'home'), ('Back', 'Back to previous …"
      ]
     },
     "metadata": {},
     "output_type": "display_data"
    },
    {
     "data": {
      "text/plain": [
       "[<matplotlib.lines.Line2D at 0x7f9404b42bd0>]"
      ]
     },
     "execution_count": 123,
     "metadata": {},
     "output_type": "execute_result"
    }
   ],
   "source": [
    "plt.figure()\n",
    "plt.plot(np.array(doses[7]).T,'*')"
   ]
  },
  {
   "cell_type": "code",
   "execution_count": 8,
   "metadata": {},
   "outputs": [],
   "source": [
    "dep = np.load('../../fastcat/data/Detectors/CWO-392-micrometer/EnergyDeposition.npy')\n",
    "MC_energies_keV = np.array(\n",
    "    [\n",
    "        10,\n",
    "        20,\n",
    "        30,\n",
    "        40,\n",
    "        50,\n",
    "        60,\n",
    "        70,\n",
    "        80,\n",
    "        90,\n",
    "        100,\n",
    "        300,\n",
    "        500,\n",
    "        700,\n",
    "        900,\n",
    "        1000,\n",
    "        2000,\n",
    "        4000,\n",
    "        6000,\n",
    "    ])"
   ]
  },
  {
   "cell_type": "code",
   "execution_count": 11,
   "metadata": {},
   "outputs": [],
   "source": [
    "deps = []\n",
    "deps.append(dep)\n",
    "deps.append(MC_energies_keV)"
   ]
  },
  {
   "cell_type": "code",
   "execution_count": 13,
   "metadata": {},
   "outputs": [],
   "source": [
    "# np.save('../../fastcat/data/Detectors/CWO-392-micrometer/EnergyDeposition.npy',deps)"
   ]
  },
  {
   "cell_type": "code",
   "execution_count": 128,
   "metadata": {},
   "outputs": [
    {
     "data": {
      "application/vnd.jupyter.widget-view+json": {
       "model_id": "30547273de3f4f63afc21b7bb92e8056",
       "version_major": 2,
       "version_minor": 0
      },
      "text/plain": [
       "Canvas(toolbar=Toolbar(toolitems=[('Home', 'Reset original view', 'home', 'home'), ('Back', 'Back to previous …"
      ]
     },
     "metadata": {},
     "output_type": "display_data"
    }
   ],
   "source": [
    "inds_i_want = [0,3,2,1]\n",
    "xx = np.linspace(0,1,5)#np.arange(5)\n",
    "\n",
    "labs = ['120 kVp','2.5 MV C','6 MV C','2.5 MV W','6 MV W']\n",
    "cc = np.array([np.array(contrasts[ii][3])[inds_i_want] for ii in range(len(contrasts))])\n",
    "ee = np.array([np.array(contrasts[ii][4])[inds_i_want] for ii in range(len(contrasts))])\n",
    "# ll = np.array([np.array(label[ii]) for ii in range(len(contrasts))])\n",
    "\n",
    "inds = np.array([0,1,2,3,4])\n",
    "# plt.figure(figsize=[8,4])#,dpi=300)\n",
    "plt.figure(figsize=[10,5])#  ,dpi=300)\n",
    "\n",
    "alph = 1\n",
    "hat = None\n",
    "plt.rcParams['axes.axisbelow'] = True\n",
    "\n",
    "# plt.title('Contrast to Noise Ratio')\n",
    "plt.subplot(131)\n",
    "plt.title('CWO',{'fontsize':'x-large'})\n",
    "\n",
    "x2,y2 = -0.5,31\n",
    "plt.text(x2,y2,'(a)',color='cornflowerblue',fontsize=16)\n",
    "plt.bar(xx-0.09,cc.flatten()[::4][1::3][inds], yerr = ee.flatten()[::4][1::3][inds],width=0.06,color='lightcoral',alpha=alph,hatch=hat,fill=True)\n",
    "plt.bar(xx-0.15,cc.flatten()[1::4][1::3][inds], yerr = ee.flatten()[1::4][1::3][inds],width=0.06,color='darkorange',alpha=alph,hatch=hat,fill=True)\n",
    "plt.bar(xx-0.21,cc.flatten()[3::4][1::3][inds], yerr = ee.flatten()[3::4][1::3][inds],width=0.06,color='cornflowerblue',alpha=alph,hatch=hat,fill=True)\n",
    "plt.bar(xx-0.27,cc.flatten()[2::4][1::3][inds], yerr = ee.flatten()[2::4][1::3][inds],width=0.06,color='k',alpha=alph,hatch=hat,fill=True)\n",
    "\n",
    "plt.ylabel('CNR')\n",
    "plt.xticks(np.array([-0.3,-0.05,0.2,0.45,0.70])+0.12,labs,rotation=45)\n",
    "plt.grid('on')\n",
    "plt.ylim([0,30])\n",
    "\n",
    "off = 0\n",
    "hat = None\n",
    "\n",
    "plt.subplot(132)\n",
    "plt.title('CsI',{'fontsize':'x-large'})\n",
    "x2,y2 = -0.5,31\n",
    "plt.text(x2,y2,'(b)',color='cornflowerblue',fontsize=16)\n",
    "plt.grid('on')\n",
    "plt.bar(xx-0.27+off,cc.flatten()[2::4][::3][inds], yerr = ee.flatten()[2::4][::3][inds],width=0.06,color='k',alpha=alph,hatch=hat,fill=True)\n",
    "plt.bar(xx-0.21+off,cc.flatten()[3::4][::3][inds], yerr = ee.flatten()[3::4][::3][inds],width=0.06,color='cornflowerblue',alpha=alph,hatch=hat,fill=True)\n",
    "plt.bar(xx-0.15+off,cc.flatten()[1::4][::3][inds], yerr = ee.flatten()[1::4][::3][inds],width=0.06,color='darkorange',alpha=alph,hatch=hat,fill=True)\n",
    "plt.bar(xx-0.09+off,cc.flatten()[::4][::3][inds], yerr = ee.flatten()[::4][::3][inds],width=0.06,color='lightcoral',alpha=alph,hatch=hat,fill=True)\n",
    "plt.ylim([0,30])\n",
    "plt.yticks([0,5,10,15,20,25,30],labels=[])\n",
    "plt.xticks(np.array([-0.3,-0.05,0.2,0.45,0.70])+0.12,labs,rotation=45)\n",
    "off = 0\n",
    "plt.subplot(133)\n",
    "plt.title('GOS',{'fontsize':'x-large'})\n",
    "x2,y2 = -0.5,31\n",
    "plt.text(x2,y2,'(c)',color='cornflowerblue',fontsize=16)\n",
    "plt.grid('on')\n",
    "plt.bar(xx-0.27+off,cc.flatten()[2::4][2::3][inds], yerr = ee.flatten()[2::4][2::3][inds],width=0.06,color='k',alpha=alph,hatch=hat,fill=True)\n",
    "plt.bar(xx-0.21+off,cc.flatten()[3::4][2::3][inds], yerr = ee.flatten()[3::4][2::3][inds],width=0.06,color='cornflowerblue',alpha=alph,hatch=hat,fill=True)\n",
    "plt.bar(xx-0.15+off,cc.flatten()[1::4][2::3][inds], yerr = ee.flatten()[1::4][2::3][inds],width=0.06,color='darkorange',alpha=alph,hatch=hat,fill=True)\n",
    "plt.bar(xx-0.09+off,cc.flatten()[::4][2::3][inds], yerr = ee.flatten()[::4][2::3][inds],width=0.06,color='lightcoral',alpha=alph,hatch=hat,fill=True)\n",
    "\n",
    "plt.ylim([0,30])\n",
    "plt.yticks([0,5,10,15,20,25,30],labels=[])\n",
    "plt.xticks(np.array([-0.3,-0.05,0.2,0.45,0.70])+0.12,labs,rotation=45)\n",
    "\n",
    "plt.legend(['Rib Bone','Lung','Adipose','Spongiosa'])\n",
    "# ax = plt.gca().add_artist(first_legend)\n",
    "\n",
    "\n",
    "plt.tight_layout()\n",
    "# plt.savefig('/home/xcite/fastcat_paper_2_tmi/figures/CNR.pdf')"
   ]
  },
  {
   "cell_type": "code",
   "execution_count": 66,
   "metadata": {},
   "outputs": [
    {
     "data": {
      "application/vnd.jupyter.widget-view+json": {
       "model_id": "677db6f2ab1e4b54b05fa7ec725612b8",
       "version_major": 2,
       "version_minor": 0
      },
      "text/plain": [
       "Canvas(toolbar=Toolbar(toolitems=[('Home', 'Reset original view', 'home', 'home'), ('Back', 'Back to previous …"
      ]
     },
     "metadata": {},
     "output_type": "display_data"
    }
   ],
   "source": [
    "inds_i_want = [0,3,2,1]\n",
    "xx = np.linspace(0,1,5)#np.arange(5)\n",
    "\n",
    "labs = ['120 kVp','2.5 MV C','6 MV C','2.5 MV W','6 MV W']\n",
    "cc = np.array([np.array(contrasts[ii][1])[inds_i_want] for ii in range(len(contrasts))])\n",
    "ee = np.array([np.array(contrasts[ii][2])[inds_i_want] for ii in range(len(contrasts))])\n",
    "# ll = np.array([np.array(label[ii]) for ii in range(len(contrasts))])\n",
    "\n",
    "inds = np.array([0,1,2,3,4])\n",
    "# plt.figure(figsize=[8,4])#,dpi=300)\n",
    "plt.figure(figsize=[10,5])#  ,dpi=300)\n",
    "\n",
    "alph = 1\n",
    "hat = None\n",
    "plt.rcParams['axes.axisbelow'] = True\n",
    "\n",
    "# plt.title('Contrast to Noise Ratio')\n",
    "plt.subplot(131)\n",
    "plt.title('CWO',{'fontsize':'x-large'})\n",
    "\n",
    "x2,y2 = -0.5,31\n",
    "plt.text(x2,y2,'(a)',color='cornflowerblue',fontsize=16)\n",
    "plt.bar(xx-0.09,cc.flatten()[::4][1::3][inds], yerr = ee.flatten()[::4][1::3][inds],width=0.06,color='lightcoral',alpha=alph,hatch=hat,fill=True)\n",
    "plt.bar(xx-0.15,cc.flatten()[1::4][1::3][inds], yerr = ee.flatten()[1::4][1::3][inds],width=0.06,color='darkorange',alpha=alph,hatch=hat,fill=True)\n",
    "plt.bar(xx-0.21,cc.flatten()[3::4][1::3][inds], yerr = ee.flatten()[3::4][1::3][inds],width=0.06,color='cornflowerblue',alpha=alph,hatch=hat,fill=True)\n",
    "plt.bar(xx-0.27,cc.flatten()[2::4][1::3][inds], yerr = ee.flatten()[2::4][1::3][inds],width=0.06,color='k',alpha=alph,hatch=hat,fill=True)\n",
    "\n",
    "plt.ylabel('CNR')\n",
    "plt.xticks(np.array([-0.3,-0.05,0.2,0.45,0.70])+0.12,labs,rotation=45)\n",
    "plt.grid('on')\n",
    "plt.ylim([0,90])\n",
    "\n",
    "off = 0\n",
    "hat = None\n",
    "\n",
    "plt.subplot(132)\n",
    "plt.title('CsI',{'fontsize':'x-large'})\n",
    "x2,y2 = -0.5,31\n",
    "plt.text(x2,y2,'(b)',color='cornflowerblue',fontsize=16)\n",
    "plt.grid('on')\n",
    "plt.bar(xx-0.27+off,cc.flatten()[2::4][::3][inds], yerr = ee.flatten()[2::4][::3][inds],width=0.06,color='k',alpha=alph,hatch=hat,fill=True)\n",
    "plt.bar(xx-0.21+off,cc.flatten()[3::4][::3][inds], yerr = ee.flatten()[3::4][::3][inds],width=0.06,color='cornflowerblue',alpha=alph,hatch=hat,fill=True)\n",
    "plt.bar(xx-0.15+off,cc.flatten()[1::4][::3][inds], yerr = ee.flatten()[1::4][::3][inds],width=0.06,color='darkorange',alpha=alph,hatch=hat,fill=True)\n",
    "plt.bar(xx-0.09+off,cc.flatten()[::4][::3][inds], yerr = ee.flatten()[::4][::3][inds],width=0.06,color='lightcoral',alpha=alph,hatch=hat,fill=True)\n",
    "plt.ylim([0,90])\n",
    "# plt.yticks([0,5,10,15,20,25,30],labels=[])\n",
    "plt.xticks(np.array([-0.3,-0.05,0.2,0.45,0.70])+0.12,labs,rotation=45)\n",
    "off = 0\n",
    "plt.subplot(133)\n",
    "plt.title('GOS',{'fontsize':'x-large'})\n",
    "x2,y2 = -0.5,31\n",
    "plt.text(x2,y2,'(c)',color='cornflowerblue',fontsize=16)\n",
    "plt.grid('on')\n",
    "plt.bar(xx-0.27+off,cc.flatten()[2::4][2::3][inds], yerr = ee.flatten()[2::4][2::3][inds],width=0.06,color='k',alpha=alph,hatch=hat,fill=True)\n",
    "plt.bar(xx-0.21+off,cc.flatten()[3::4][2::3][inds], yerr = ee.flatten()[3::4][2::3][inds],width=0.06,color='cornflowerblue',alpha=alph,hatch=hat,fill=True)\n",
    "plt.bar(xx-0.15+off,cc.flatten()[1::4][2::3][inds], yerr = ee.flatten()[1::4][2::3][inds],width=0.06,color='darkorange',alpha=alph,hatch=hat,fill=True)\n",
    "plt.bar(xx-0.09+off,cc.flatten()[::4][2::3][inds], yerr = ee.flatten()[::4][2::3][inds],width=0.06,color='lightcoral',alpha=alph,hatch=hat,fill=True)\n",
    "\n",
    "plt.ylim([0,90])\n",
    "# plt.yticks([0,5,10,15,20,25,30],labels=[])\n",
    "plt.xticks(np.array([-0.3,-0.05,0.2,0.45,0.70])+0.12,labs,rotation=45)\n",
    "\n",
    "plt.legend(['Rib Bone','Lung','Adipose','Spongiosa'])\n",
    "# ax = plt.gca().add_artist(first_legend)\n",
    "\n",
    "\n",
    "plt.tight_layout()"
   ]
  },
  {
   "cell_type": "code",
   "execution_count": 129,
   "metadata": {},
   "outputs": [
    {
     "data": {
      "application/vnd.jupyter.widget-view+json": {
       "model_id": "2c7f13284efc4c57bf07700f5db0c364",
       "version_major": 2,
       "version_minor": 0
      },
      "text/plain": [
       "Canvas(toolbar=Toolbar(toolitems=[('Home', 'Reset original view', 'home', 'home'), ('Back', 'Back to previous …"
      ]
     },
     "metadata": {},
     "output_type": "display_data"
    },
    {
     "data": {
      "text/plain": [
       "<matplotlib.image.AxesImage at 0x7ff94ea07650>"
      ]
     },
     "execution_count": 129,
     "metadata": {},
     "output_type": "execute_result"
    }
   ],
   "source": [
    "plt.figure()\n",
    "plt.imshow(phantom.img[5])"
   ]
  },
  {
   "cell_type": "code",
   "execution_count": 146,
   "metadata": {},
   "outputs": [
    {
     "data": {
      "application/vnd.jupyter.widget-view+json": {
       "model_id": "7598d788b33e4701b74b260a860b061c",
       "version_major": 2,
       "version_minor": 0
      },
      "text/plain": [
       "Canvas(toolbar=Toolbar(toolitems=[('Home', 'Reset original view', 'home', 'home'), ('Back', 'Back to previous …"
      ]
     },
     "metadata": {},
     "output_type": "display_data"
    },
    {
     "data": {
      "text/plain": [
       "<BarContainer object of 5 artists>"
      ]
     },
     "execution_count": 146,
     "metadata": {},
     "output_type": "execute_result"
    }
   ],
   "source": [
    "# inds_i_want = [0,6,12,18,21,24]\n",
    "inds_i_want = [0,3,2,1]\n",
    "xx = np.linspace(0,1,5)#np.arange(5)\n",
    "\n",
    "labs = ['120 kVp','2.5 MV C','6 MV C','2.5 MV W','6 MV W']\n",
    "cc = np.array([np.array(contrasts[ii][3])[inds_i_want] for ii in range(len(contrasts))])\n",
    "ee = np.array([np.array(contrasts[ii][4])[inds_i_want] for ii in range(len(contrasts))])\n",
    "# ll = np.array([np.array(label[ii]) for ii in range(len(contrasts))])\n",
    "\n",
    "inds = np.array([0,1,2,3,4])\n",
    "plt.figure(figsize=[8,4])#,dpi=300)\n",
    "# plt.figure(figsize=[10,5]),dpi=300)\n",
    "\n",
    "alph = 1\n",
    "hat = None\n",
    "plt.rcParams['axes.axisbelow'] = True\n",
    "\n",
    "plt.title('CWO',{'fontsize':'x-large'})\n",
    "\n",
    "x2,y2 = -0.5,31\n",
    "plt.text(x2,y2,'(a)',color='cornflowerblue',fontsize=16)\n",
    "plt.bar(xx-0.09,cc.flatten()[::4][1::3][inds], yerr = ee.flatten()[::4][1::3][inds],width=0.06,color='lightcoral',alpha=alph,hatch=hat,fill=True)\n",
    "plt.bar(xx-0.15,cc.flatten()[1::4][1::3][inds], yerr = ee.flatten()[1::4][1::3][inds],width=0.06,color='darkorange',alpha=alph,hatch=hat,fill=True)\n",
    "plt.bar(xx-0.21,cc.flatten()[3::4][1::3][inds], yerr = ee.flatten()[3::4][1::3][inds],width=0.06,color='cornflowerblue',alpha=alph,hatch=hat,fill=True)\n",
    "plt.bar(xx-0.27,cc.flatten()[2::4][1::3][inds], yerr = ee.flatten()[2::4][1::3][inds],width=0.06,color='k',alpha=alph,hatch=hat,fill=True)"
   ]
  },
  {
   "cell_type": "markdown",
   "metadata": {},
   "source": [
    "## Installation\n",
    "\n",
    "Dear entrepid hypothetical users, please stay with me as I describe the dire installation of Fastcat, keep your wits about here be dragons. \n",
    "\n",
    "There are two install options: The second is not to install Fastcat and use it on google colaboratory. So keep that in mind and do it if/when your installation fails on your local computer.\n",
    "\n",
    "### Dependencies\n",
    "\n",
    "Did you read the first blurb? Don't read this second blurb if you haven't read the first blurb you corner cutter. Apolagies to first blurb readers.\n",
    "\n",
    "To run fastcat locally you need:\n",
    "\n",
    "* CUDA Capable GPU\n",
    "* Nvidia CUDA toolkit\n",
    "* TIGRE\n",
    "* numpy, scipy, matplotlib I'm guessing\n",
    "* Some other stuff you can install with pip/conda\n",
    "\n",
    "Don't have a scientific python installation? Go away! I'm really not the person to explain that to you. Somewhere else explains it better somewhere else. Just google it! C'mon not that hard bro/(sis?)/(ungendered hip term). What's numpy you're thinking? Yeah just google it and rot in the dependancy hell that is a scientific python installation.\n",
    "\n",
    "#### TIGRE\n",
    "\n",
    "To run Fastcat you need a python package called TIGRE. If you can install TIGRE then you can use Fastcat without issue.\n",
    "\n",
    "So I'm going to slack and just direct you to the TIGRE installation for python. The crux move is really the CUDA installation which sometimes works using conda."
   ]
  },
  {
   "cell_type": "code",
   "execution_count": 14,
   "metadata": {},
   "outputs": [],
   "source": [
    "np.save('cnr_nonoise_404',contrasts)\n",
    "np.save('mtfs_nonoise_404',mtfs)\n",
    "np.save('labels_404',label)"
   ]
  },
  {
   "cell_type": "code",
   "execution_count": 1,
   "metadata": {},
   "outputs": [
    {
     "name": "stdout",
     "output_type": "stream",
     "text": [
      "Populating the interactive namespace from numpy and matplotlib\n"
     ]
    }
   ],
   "source": [
    "%pylab widget"
   ]
  },
  {
   "cell_type": "code",
   "execution_count": 3,
   "metadata": {},
   "outputs": [],
   "source": [
    "contrasts = np.load('../data_second_paper/cnr_new_noisy_404.npy',allow_pickle=True)\n",
    "mtfs = np.load('../data_second_paper/mtfs_nonoise_404.npy')\n",
    "label = np.load('../data_second_paper/labels_404.npy')"
   ]
  },
  {
   "cell_type": "markdown",
   "metadata": {},
   "source": [
    "# This is the good figure I think"
   ]
  },
  {
   "cell_type": "code",
   "execution_count": 89,
   "metadata": {},
   "outputs": [
    {
     "data": {
      "application/vnd.jupyter.widget-view+json": {
       "model_id": "60d3b887f3f44a4482854fb702c1ba63",
       "version_major": 2,
       "version_minor": 0
      },
      "text/plain": [
       "Canvas(toolbar=Toolbar(toolitems=[('Home', 'Reset original view', 'home', 'home'), ('Back', 'Back to previous …"
      ]
     },
     "metadata": {},
     "output_type": "display_data"
    }
   ],
   "source": [
    "# inds_i_want = [0,6,12,18,21,24]\n",
    "inds_i_want = [0,3,2,1]\n",
    "xx = np.linspace(0,1,5)#np.arange(5)\n",
    "\n",
    "labs = ['120 kVp','2.5 MV C','6 MV C','2.5 MV W','6 MV W']\n",
    "cc = np.array([np.array(contrasts[ii][3])[inds_i_want] for ii in range(len(contrasts))])\n",
    "ee = np.array([np.array(contrasts[ii][4])[inds_i_want] for ii in range(len(contrasts))])\n",
    "# ll = np.array([np.array(label[ii]) for ii in range(len(contrasts))])\n",
    "\n",
    "inds = np.array([0,1,2,3,4])\n",
    "# plt.figure(figsize=[8,4])#,dpi=300)\n",
    "plt.figure(figsize=[10,5],dpi=300)\n",
    "\n",
    "alph = 1\n",
    "hat = None\n",
    "plt.rcParams['axes.axisbelow'] = True\n",
    "\n",
    "# plt.title('Contrast to Noise Ratio')\n",
    "plt.subplot(131)\n",
    "plt.title('CWO',{'fontsize':'x-large'})\n",
    "\n",
    "x2,y2 = -0.5,31\n",
    "plt.text(x2,y2,'(a)',color='cornflowerblue',fontsize=16)\n",
    "plt.bar(xx-0.09,cc.flatten()[::4][1::3][inds], yerr = ee.flatten()[::4][1::3][inds],width=0.06,color='lightcoral',alpha=alph,hatch=hat,fill=True)\n",
    "plt.bar(xx-0.15,cc.flatten()[1::4][1::3][inds], yerr = ee.flatten()[1::4][1::3][inds],width=0.06,color='darkorange',alpha=alph,hatch=hat,fill=True)\n",
    "plt.bar(xx-0.21,cc.flatten()[3::4][1::3][inds], yerr = ee.flatten()[3::4][1::3][inds],width=0.06,color='cornflowerblue',alpha=alph,hatch=hat,fill=True)\n",
    "plt.bar(xx-0.27,cc.flatten()[2::4][1::3][inds], yerr = ee.flatten()[2::4][1::3][inds],width=0.06,color='k',alpha=alph,hatch=hat,fill=True)\n",
    "\n",
    "plt.ylabel('CNR')\n",
    "plt.xticks(np.array([-0.3,-0.05,0.2,0.45,0.70])+0.12,labs,rotation=45)\n",
    "# plt.bar(xx-0.09*3,cc.flatten()[2::4][1::3][inds], yerr = ee.flatten()[2::4][1::3][inds],width=0.06,color='cornflowerblue',alpha=alph,hatch=hat,fill=True)\n",
    "# plt.bar(xx-0.03*3,cc.flatten()[3::4][1::3][inds], yerr = ee.flatten()[3::4][1::3][inds],width=0.06,color='k',alpha=alph - 0.5,hatch=hat,fill=True)\n",
    "# plt.bar(xx-0.03*3,cc.flatten()[2::4][::3][inds], yerr = ee.flatten()[2::4][::3][inds],width=0.06,color='cornflowerblue',alpha=alph,hatch=hat,fill=True)\n",
    "# plt.bar(xx+0.03*3,cc.flatten()[2::4][2::3][inds], yerr = ee.flatten()[2::4][2::3][inds],width=0.06,color='cornflowerblue',alpha=alph,hatch=hat,fill=True)\n",
    "plt.grid('on')\n",
    "plt.ylim([0,30])\n",
    "# plt.bar(xx+0.09*3,cc.flatten()[::4][1::3][inds], yerr = ee.flatten()[::4][1::3][inds],width=0.06,color='lightcoral',alpha=alph,hatch=hat,fill=True)\n",
    "\n",
    "off = 0\n",
    "# alph = 0.85\n",
    "hat = None\n",
    "\n",
    "plt.subplot(132)\n",
    "plt.title('CsI',{'fontsize':'x-large'})\n",
    "x2,y2 = -0.5,31\n",
    "plt.text(x2,y2,'(b)',color='cornflowerblue',fontsize=16)\n",
    "# xx = xx + 1.6\n",
    "plt.grid('on')\n",
    "plt.bar(xx-0.27+off,cc.flatten()[2::4][::3][inds], yerr = ee.flatten()[2::4][::3][inds],width=0.06,color='k',alpha=alph,hatch=hat,fill=True)\n",
    "plt.bar(xx-0.21+off,cc.flatten()[3::4][::3][inds], yerr = ee.flatten()[3::4][::3][inds],width=0.06,color='cornflowerblue',alpha=alph,hatch=hat,fill=True)\n",
    "plt.bar(xx-0.15+off,cc.flatten()[1::4][::3][inds], yerr = ee.flatten()[1::4][::3][inds],width=0.06,color='darkorange',alpha=alph,hatch=hat,fill=True)\n",
    "plt.bar(xx-0.09+off,cc.flatten()[::4][::3][inds], yerr = ee.flatten()[::4][::3][inds],width=0.06,color='lightcoral',alpha=alph,hatch=hat,fill=True)\n",
    "plt.ylim([0,30])\n",
    "plt.yticks([0,5,10,15,20,25,30],labels=[])\n",
    "plt.xticks(np.array([-0.3,-0.05,0.2,0.45,0.70])+0.12,labs,rotation=45)\n",
    "off = 0\n",
    "# alph = 0.7\n",
    "\n",
    "# xx += 1.6\n",
    "# hat = '\\\\\\\\\\\\\\\\\\\\\\\\\\\\\\\\\\\\'\n",
    "plt.subplot(133)\n",
    "plt.title('GOS',{'fontsize':'x-large'})\n",
    "x2,y2 = -0.5,31\n",
    "plt.text(x2,y2,'(c)',color='cornflowerblue',fontsize=16)\n",
    "plt.grid('on')\n",
    "plt.bar(xx-0.27+off,cc.flatten()[2::4][2::3][inds], yerr = ee.flatten()[2::4][2::3][inds],width=0.06,color='k',alpha=alph,hatch=hat,fill=True)\n",
    "plt.bar(xx-0.21+off,cc.flatten()[3::4][2::3][inds], yerr = ee.flatten()[3::4][2::3][inds],width=0.06,color='cornflowerblue',alpha=alph,hatch=hat,fill=True)\n",
    "plt.bar(xx-0.15+off,cc.flatten()[1::4][2::3][inds], yerr = ee.flatten()[1::4][2::3][inds],width=0.06,color='darkorange',alpha=alph,hatch=hat,fill=True)\n",
    "plt.bar(xx-0.09+off,cc.flatten()[::4][2::3][inds], yerr = ee.flatten()[::4][2::3][inds],width=0.06,color='lightcoral',alpha=alph,hatch=hat,fill=True)\n",
    "\n",
    "plt.ylim([0,30])\n",
    "plt.yticks([0,5,10,15,20,25,30],labels=[])\n",
    "plt.xticks(np.array([-0.3,-0.05,0.2,0.45,0.70])+0.12,labs,rotation=45)\n",
    "# plt.ylabel('CNR')\n",
    "# labs = ['2.5 MV C','120 kVp','6 MV C','2.5 MV W','6 MV W']\n",
    "# plt.xticks(range(len(label[::3])),labels=labs,rotation=45)\n",
    "\n",
    "# from matplotlib.lines import Line2D\n",
    "\n",
    "# custom_lines = [Line2D([0], [0],marker='s',color = 'w', markerfacecolor='k', lw=4),\n",
    "#                 Line2D([0], [0],marker='s',color = 'w', markerfacecolor='cornflowerblue', lw=4),\n",
    "#                 Line2D([0], [0],marker='s',color = 'w', markerfacecolor='darkorange', lw=4),\n",
    "#                 Line2D([0], [0],marker='s',color = 'w', markerfacecolor='lightcoral', lw=4)]\n",
    "\n",
    "# # fig, ax = plt.subplots()\n",
    "# # lines = ax.plot(data)\n",
    "plt.legend(['Rib Bone','Lung','Adipose','Spongiosa'])\n",
    "# plt.grid('on')\n",
    "# Create a legend for the first line.\n",
    "# first_legend = plt.legend(handles=[line1])\n",
    "\n",
    "# Add the legend manually to the current Axes.\n",
    "# ax = plt.gca().add_artist(first_legend)\n",
    "\n",
    "\n",
    "plt.tight_layout()\n",
    "# plt.savefig('/home/xcite/fastcat_paper_2_tmi/figures/CNR.pdf')"
   ]
  },
  {
   "cell_type": "markdown",
   "metadata": {},
   "source": [
    "# This is a new analysis on the weights"
   ]
  },
  {
   "cell_type": "code",
   "execution_count": 14,
   "metadata": {},
   "outputs": [],
   "source": [
    "spectra = glob('../fastcat/data/MV_spectra/*.txt')\n",
    "phantoms = ['Catphan_404','Catphan_515','Catphan_MTF']\n",
    "MV_detectors = glob('../fastcat/data/Detectors/*')\n",
    "\n",
    "dispatcher={'Catphan_404':fc.Catphan_404,\n",
    "            'Catphan_515':fc.Catphan_515,\n",
    "            'Catphan_MTF':fc.Catphan_MTF}"
   ]
  },
  {
   "cell_type": "code",
   "execution_count": 15,
   "metadata": {},
   "outputs": [],
   "source": [
    "s = fc.Spectrum()"
   ]
  },
  {
   "cell_type": "code",
   "execution_count": 62,
   "metadata": {},
   "outputs": [
    {
     "data": {
      "application/vnd.jupyter.widget-view+json": {
       "model_id": "7a985b476dba4cb78bbaa6cea63313ee",
       "version_major": 2,
       "version_minor": 0
      },
      "text/plain": [
       "Canvas(toolbar=Toolbar(toolitems=[('Home', 'Reset original view', 'home', 'home'), ('Back', 'Back to previous …"
      ]
     },
     "metadata": {},
     "output_type": "display_data"
    },
    {
     "name": "stdout",
     "output_type": "stream",
     "text": [
      "Calculation:  1 / 50\n",
      "Calculation:  2 / 50\n",
      "Calculation:  3 / 50\n",
      "Calculation:  4 / 50\n",
      "Calculation:  5 / 50\n",
      "Calculation:  6 / 50\n",
      "Calculation:  7 / 50\n",
      "Calculation:  8 / 50\n",
      "Calculation:  9 / 50\n",
      "Calculation:  10 / 50\n",
      "Calculation:  11 / 50\n",
      "Calculation:  12 / 50\n",
      "Calculation:  13 / 50\n",
      "Calculation:  14 / 50\n",
      "Calculation:  15 / 50\n",
      "Calculation:  16 / 50\n",
      "Calculation:  17 / 50\n",
      "Calculation:  18 / 50\n",
      "Calculation:  19 / 50\n",
      "Calculation:  20 / 50\n",
      "Calculation:  21 / 50\n",
      "Calculation:  22 / 50\n",
      "Calculation:  23 / 50\n",
      "Calculation:  24 / 50\n",
      "Calculation:  25 / 50\n",
      "Calculation:  26 / 50\n",
      "Calculation:  27 / 50\n",
      "Calculation:  28 / 50\n",
      "Calculation:  29 / 50\n",
      "Calculation:  30 / 50\n",
      "Calculation:  31 / 50\n",
      "Calculation:  32 / 50\n",
      "Calculation:  33 / 50\n",
      "Calculation:  34 / 50\n",
      "Calculation:  35 / 50\n",
      "Calculation:  36 / 50\n",
      "Calculation:  37 / 50\n",
      "Calculation:  38 / 50\n",
      "Calculation:  39 / 50\n",
      "Calculation:  40 / 50\n",
      "Calculation:  41 / 50\n",
      "Calculation:  42 / 50\n",
      "Calculation:  43 / 50\n",
      "Calculation:  44 / 50\n",
      "Calculation:  45 / 50\n",
      "Calculation:  46 / 50\n",
      "Calculation:  47 / 50\n",
      "Calculation:  48 / 50\n",
      "Calculation:  49 / 50\n",
      "Calculation:  50 / 50\n"
     ]
    }
   ],
   "source": [
    "contrasts = []\n",
    "mtfs = []\n",
    "label = []\n",
    "\n",
    "fig, axs = plt.subplots(3, 1)\n",
    "\n",
    "spectra = [ 'kv',\n",
    " '../fastcat/data/MV_spectra/C_spectrum_25.txt',\n",
    " '../fastcat/data/MV_spectra/C_spectrum_6.txt',\n",
    " '../fastcat/data/MV_spectra/W_spectrum_25.txt',\n",
    " '../fastcat/data/MV_spectra/W_spectrum_6.txt']\n",
    "\n",
    "MV_detectors = [\n",
    " '../fastcat/data/Detectors/CsI-784-micro_thin',\n",
    " '../fastcat/data/Detectors/CWO-784-micrometer',\n",
    " '../fastcat/data/Detectors/CuGOS-784-micrometer']\n",
    "\n",
    "phan_map = [\n",
    "    'air',\n",
    "    'G4_MUSCLE_SKELETAL_ICRP',\n",
    "    'Spongiosa_Bone_ICRP',\n",
    "    'G4_LUNG_MD_ICRP',\n",
    "    'G4_BONE_COMPACT_ICRU',\n",
    "    'G4_ADIPOSE_TISSUE_ICRP'\n",
    "    ]\n",
    "# s0 = fc.calculate_spectrum(60, 12, 3, 50)\n",
    "# s0.attenuate(0.1,fc.get_mu(z=13))\n",
    "# s0.attenuate(0.015,fc.get_mu(z=29))\n",
    "\n",
    "s0 = fc.calculate_spectrum(120, 12, 3, 50)\n",
    "s0.attenuate(0.2,fc.get_mu(z=13)) #was 0.3\n",
    "# s0.attenuate(0.089,fc.get_mu(z=22))\n",
    "xx, yy = s0.get_points()"
   ]
  },
  {
   "cell_type": "code",
   "execution_count": 64,
   "metadata": {},
   "outputs": [
    {
     "name": "stdout",
     "output_type": "stream",
     "text": [
      "[2021-07-14 19:29:51,660] {phantoms.py:649} INFO - Phantom is low resolution\n",
      "This is kV\n",
      "kv ../fastcat/data/Detectors/CsI-784-micro_thin\n"
     ]
    },
    {
     "data": {
      "application/vnd.jupyter.widget-view+json": {
       "model_id": "f124550b27f341eb9b12137bc8fa2261",
       "version_major": 2,
       "version_minor": 0
      },
      "text/plain": [
       "Canvas(toolbar=Toolbar(toolitems=[('Home', 'Reset original view', 'home', 'home'), ('Back', 'Back to previous …"
      ]
     },
     "metadata": {},
     "output_type": "display_data"
    },
    {
     "name": "stdout",
     "output_type": "stream",
     "text": [
      "[2021-07-14 19:29:51,866] {legend.py:1193} WARNING - No handles with labels found to put in legend.\n",
      "[2021-07-14 19:29:51,922] {simulate.py:469} INFO - Running Simulations\n",
      "[2021-07-14 19:29:51,922] {simulate.py:484} INFO -     Simulating 10 keV\n",
      "[2021-07-14 19:29:52,083] {simulate.py:484} INFO -     Simulating 20 keV\n",
      "[2021-07-14 19:29:52,211] {simulate.py:484} INFO -     Simulating 30 keV\n",
      "[2021-07-14 19:29:52,335] {simulate.py:484} INFO -     Simulating 40 keV\n",
      "[2021-07-14 19:29:52,462] {simulate.py:484} INFO -     Simulating 50 keV\n",
      "[2021-07-14 19:29:52,587] {simulate.py:484} INFO -     Simulating 60 keV\n",
      "[2021-07-14 19:29:52,715] {simulate.py:484} INFO -     Simulating 70 keV\n",
      "[2021-07-14 19:29:52,841] {simulate.py:484} INFO -     Simulating 80 keV\n",
      "[2021-07-14 19:29:52,965] {simulate.py:484} INFO -     Simulating 90 keV\n",
      "[2021-07-14 19:29:53,091] {simulate.py:484} INFO -     Simulating 100 keV\n",
      "[2021-07-14 19:29:53,215] {simulate.py:619} INFO - Weighting simulations\n",
      "[2021-07-14 19:29:53,216] {simulate.py:686} INFO -     Added noise 180.72649122129937 times reference\n",
      "This is kV\n",
      "kv ../fastcat/data/Detectors/CWO-784-micrometer\n"
     ]
    },
    {
     "data": {
      "application/vnd.jupyter.widget-view+json": {
       "model_id": "3374ccc0faba48d5a6e530480be7ae6f",
       "version_major": 2,
       "version_minor": 0
      },
      "text/plain": [
       "Canvas(toolbar=Toolbar(toolitems=[('Home', 'Reset original view', 'home', 'home'), ('Back', 'Back to previous …"
      ]
     },
     "metadata": {},
     "output_type": "display_data"
    },
    {
     "name": "stdout",
     "output_type": "stream",
     "text": [
      "[2021-07-14 19:29:53,416] {legend.py:1193} WARNING - No handles with labels found to put in legend.\n",
      "[2021-07-14 19:29:53,419] {simulate.py:248} INFO - This is a small edep file starting at 30\n",
      "[2021-07-14 19:29:53,467] {simulate.py:469} INFO - Running Simulations\n",
      "[2021-07-14 19:29:53,468] {simulate.py:484} INFO -     Simulating 30 keV\n",
      "[2021-07-14 19:29:53,591] {simulate.py:484} INFO -     Simulating 40 keV\n",
      "[2021-07-14 19:29:53,718] {simulate.py:484} INFO -     Simulating 50 keV\n",
      "[2021-07-14 19:29:53,843] {simulate.py:484} INFO -     Simulating 60 keV\n",
      "[2021-07-14 19:29:53,971] {simulate.py:484} INFO -     Simulating 70 keV\n",
      "[2021-07-14 19:29:54,099] {simulate.py:484} INFO -     Simulating 80 keV\n",
      "[2021-07-14 19:29:54,223] {simulate.py:484} INFO -     Simulating 90 keV\n",
      "[2021-07-14 19:29:54,353] {simulate.py:484} INFO -     Simulating 100 keV\n",
      "[2021-07-14 19:29:54,480] {simulate.py:619} INFO - Weighting simulations\n",
      "[2021-07-14 19:29:54,480] {simulate.py:686} INFO -     Added noise 596.5426630082333 times reference\n",
      "This is kV\n",
      "kv ../fastcat/data/Detectors/CuGOS-784-micrometer\n"
     ]
    },
    {
     "data": {
      "application/vnd.jupyter.widget-view+json": {
       "model_id": "a62fdc21059a46678458b93285d5ca5a",
       "version_major": 2,
       "version_minor": 0
      },
      "text/plain": [
       "Canvas(toolbar=Toolbar(toolitems=[('Home', 'Reset original view', 'home', 'home'), ('Back', 'Back to previous …"
      ]
     },
     "metadata": {},
     "output_type": "display_data"
    },
    {
     "name": "stdout",
     "output_type": "stream",
     "text": [
      "[2021-07-14 19:29:54,694] {legend.py:1193} WARNING - No handles with labels found to put in legend.\n",
      "[2021-07-14 19:29:54,750] {simulate.py:469} INFO - Running Simulations\n",
      "[2021-07-14 19:29:54,750] {simulate.py:484} INFO -     Simulating 20 keV\n",
      "[2021-07-14 19:29:54,889] {simulate.py:484} INFO -     Simulating 30 keV\n",
      "[2021-07-14 19:29:55,033] {simulate.py:484} INFO -     Simulating 40 keV\n",
      "[2021-07-14 19:29:55,172] {simulate.py:484} INFO -     Simulating 50 keV\n",
      "[2021-07-14 19:29:55,311] {simulate.py:484} INFO -     Simulating 60 keV\n",
      "[2021-07-14 19:29:55,442] {simulate.py:484} INFO -     Simulating 70 keV\n",
      "[2021-07-14 19:29:55,571] {simulate.py:484} INFO -     Simulating 80 keV\n",
      "[2021-07-14 19:29:55,696] {simulate.py:484} INFO -     Simulating 90 keV\n",
      "[2021-07-14 19:29:55,834] {simulate.py:484} INFO -     Simulating 100 keV\n",
      "[2021-07-14 19:29:55,960] {simulate.py:619} INFO - Weighting simulations\n",
      "[2021-07-14 19:29:55,961] {simulate.py:686} INFO -     Added noise 49.62456337931838 times reference\n",
      "This is MV\n",
      "../fastcat/data/MV_spectra/C_spectrum_25.txt ../fastcat/data/Detectors/CsI-784-micro_thin\n"
     ]
    },
    {
     "data": {
      "application/vnd.jupyter.widget-view+json": {
       "model_id": "9782884a861c4204bb4b5ec913a3862f",
       "version_major": 2,
       "version_minor": 0
      },
      "text/plain": [
       "Canvas(toolbar=Toolbar(toolitems=[('Home', 'Reset original view', 'home', 'home'), ('Back', 'Back to previous …"
      ]
     },
     "metadata": {},
     "output_type": "display_data"
    },
    {
     "name": "stdout",
     "output_type": "stream",
     "text": [
      "[2021-07-14 19:29:56,166] {legend.py:1193} WARNING - No handles with labels found to put in legend.\n",
      "[2021-07-14 19:29:56,219] {simulate.py:469} INFO - Running Simulations\n",
      "[2021-07-14 19:29:56,220] {simulate.py:484} INFO -     Simulating 10 keV\n",
      "[2021-07-14 19:29:56,350] {simulate.py:484} INFO -     Simulating 20 keV\n",
      "[2021-07-14 19:29:56,476] {simulate.py:484} INFO -     Simulating 30 keV\n",
      "[2021-07-14 19:29:56,604] {simulate.py:484} INFO -     Simulating 40 keV\n",
      "[2021-07-14 19:29:56,730] {simulate.py:484} INFO -     Simulating 50 keV\n",
      "[2021-07-14 19:29:56,857] {simulate.py:484} INFO -     Simulating 60 keV\n",
      "[2021-07-14 19:29:56,985] {simulate.py:484} INFO -     Simulating 70 keV\n",
      "[2021-07-14 19:29:57,127] {simulate.py:484} INFO -     Simulating 80 keV\n",
      "[2021-07-14 19:29:57,252] {simulate.py:484} INFO -     Simulating 90 keV\n",
      "[2021-07-14 19:29:57,378] {simulate.py:484} INFO -     Simulating 100 keV\n",
      "[2021-07-14 19:29:57,505] {simulate.py:484} INFO -     Simulating 300 keV\n",
      "[2021-07-14 19:29:57,632] {simulate.py:484} INFO -     Simulating 500 keV\n",
      "[2021-07-14 19:29:57,757] {simulate.py:484} INFO -     Simulating 700 keV\n",
      "[2021-07-14 19:29:57,880] {simulate.py:484} INFO -     Simulating 900 keV\n",
      "[2021-07-14 19:29:58,008] {simulate.py:484} INFO -     Simulating 1000 keV\n",
      "[2021-07-14 19:29:58,136] {simulate.py:484} INFO -     Simulating 2000 keV\n",
      "[2021-07-14 19:29:58,261] {simulate.py:619} INFO - Weighting simulations\n",
      "[2021-07-14 19:29:58,261] {simulate.py:686} INFO -     Added noise 12.44664760138063 times reference\n",
      "This is MV\n",
      "../fastcat/data/MV_spectra/C_spectrum_25.txt ../fastcat/data/Detectors/CWO-784-micrometer\n"
     ]
    },
    {
     "data": {
      "application/vnd.jupyter.widget-view+json": {
       "model_id": "1c6fabb500e24e89b545c07aed229b7e",
       "version_major": 2,
       "version_minor": 0
      },
      "text/plain": [
       "Canvas(toolbar=Toolbar(toolitems=[('Home', 'Reset original view', 'home', 'home'), ('Back', 'Back to previous …"
      ]
     },
     "metadata": {},
     "output_type": "display_data"
    },
    {
     "name": "stdout",
     "output_type": "stream",
     "text": [
      "[2021-07-14 19:29:58,457] {legend.py:1193} WARNING - No handles with labels found to put in legend.\n",
      "[2021-07-14 19:29:58,460] {simulate.py:248} INFO - This is a small edep file starting at 30\n",
      "[2021-07-14 19:29:58,511] {simulate.py:469} INFO - Running Simulations\n",
      "[2021-07-14 19:29:58,511] {simulate.py:484} INFO -     Simulating 30 keV\n",
      "[2021-07-14 19:29:58,637] {simulate.py:484} INFO -     Simulating 40 keV\n",
      "[2021-07-14 19:29:58,763] {simulate.py:484} INFO -     Simulating 50 keV\n",
      "[2021-07-14 19:29:58,888] {simulate.py:484} INFO -     Simulating 60 keV\n",
      "[2021-07-14 19:29:59,016] {simulate.py:484} INFO -     Simulating 70 keV\n",
      "[2021-07-14 19:29:59,151] {simulate.py:484} INFO -     Simulating 80 keV\n",
      "[2021-07-14 19:29:59,274] {simulate.py:484} INFO -     Simulating 90 keV\n",
      "[2021-07-14 19:29:59,401] {simulate.py:484} INFO -     Simulating 100 keV\n",
      "[2021-07-14 19:29:59,532] {simulate.py:484} INFO -     Simulating 300 keV\n",
      "[2021-07-14 19:29:59,657] {simulate.py:484} INFO -     Simulating 500 keV\n",
      "[2021-07-14 19:29:59,781] {simulate.py:484} INFO -     Simulating 700 keV\n",
      "[2021-07-14 19:29:59,906] {simulate.py:484} INFO -     Simulating 900 keV\n",
      "[2021-07-14 19:30:00,038] {simulate.py:484} INFO -     Simulating 1000 keV\n",
      "[2021-07-14 19:30:00,164] {simulate.py:484} INFO -     Simulating 2000 keV\n",
      "[2021-07-14 19:30:00,288] {simulate.py:619} INFO - Weighting simulations\n",
      "[2021-07-14 19:30:00,288] {simulate.py:686} INFO -     Added noise 110.90021517596422 times reference\n",
      "This is MV\n",
      "../fastcat/data/MV_spectra/C_spectrum_25.txt ../fastcat/data/Detectors/CuGOS-784-micrometer\n"
     ]
    },
    {
     "data": {
      "application/vnd.jupyter.widget-view+json": {
       "model_id": "949c948f0bde4e2ab8a1b61767eab19b",
       "version_major": 2,
       "version_minor": 0
      },
      "text/plain": [
       "Canvas(toolbar=Toolbar(toolitems=[('Home', 'Reset original view', 'home', 'home'), ('Back', 'Back to previous …"
      ]
     },
     "metadata": {},
     "output_type": "display_data"
    },
    {
     "name": "stdout",
     "output_type": "stream",
     "text": [
      "[2021-07-14 19:30:00,492] {legend.py:1193} WARNING - No handles with labels found to put in legend.\n",
      "[2021-07-14 19:30:00,542] {simulate.py:469} INFO - Running Simulations\n",
      "[2021-07-14 19:30:00,543] {simulate.py:484} INFO -     Simulating 20 keV\n",
      "[2021-07-14 19:30:00,675] {simulate.py:484} INFO -     Simulating 30 keV\n",
      "[2021-07-14 19:30:00,801] {simulate.py:484} INFO -     Simulating 40 keV\n",
      "[2021-07-14 19:30:00,924] {simulate.py:484} INFO -     Simulating 50 keV\n",
      "[2021-07-14 19:30:01,050] {simulate.py:484} INFO -     Simulating 60 keV\n",
      "[2021-07-14 19:30:01,180] {simulate.py:484} INFO -     Simulating 70 keV\n",
      "[2021-07-14 19:30:01,306] {simulate.py:484} INFO -     Simulating 80 keV\n",
      "[2021-07-14 19:30:01,436] {simulate.py:484} INFO -     Simulating 90 keV\n",
      "[2021-07-14 19:30:01,565] {simulate.py:484} INFO -     Simulating 100 keV\n",
      "[2021-07-14 19:30:01,689] {simulate.py:484} INFO -     Simulating 300 keV\n",
      "[2021-07-14 19:30:01,818] {simulate.py:484} INFO -     Simulating 500 keV\n",
      "[2021-07-14 19:30:01,942] {simulate.py:484} INFO -     Simulating 700 keV\n",
      "[2021-07-14 19:30:02,068] {simulate.py:484} INFO -     Simulating 900 keV\n",
      "[2021-07-14 19:30:02,194] {simulate.py:484} INFO -     Simulating 1000 keV\n",
      "[2021-07-14 19:30:02,319] {simulate.py:484} INFO -     Simulating 2000 keV\n",
      "[2021-07-14 19:30:02,446] {simulate.py:619} INFO - Weighting simulations\n",
      "[2021-07-14 19:30:02,446] {simulate.py:686} INFO -     Added noise 7.408976436131976 times reference\n",
      "This is MV\n",
      "../fastcat/data/MV_spectra/C_spectrum_6.txt ../fastcat/data/Detectors/CsI-784-micro_thin\n"
     ]
    },
    {
     "data": {
      "application/vnd.jupyter.widget-view+json": {
       "model_id": "093ee1c5f3e94430906282aa6718003c",
       "version_major": 2,
       "version_minor": 0
      },
      "text/plain": [
       "Canvas(toolbar=Toolbar(toolitems=[('Home', 'Reset original view', 'home', 'home'), ('Back', 'Back to previous …"
      ]
     },
     "metadata": {},
     "output_type": "display_data"
    },
    {
     "name": "stdout",
     "output_type": "stream",
     "text": [
      "[2021-07-14 19:30:02,642] {legend.py:1193} WARNING - No handles with labels found to put in legend.\n",
      "[2021-07-14 19:30:02,695] {simulate.py:469} INFO - Running Simulations\n",
      "[2021-07-14 19:30:02,696] {simulate.py:484} INFO -     Simulating 10 keV\n",
      "[2021-07-14 19:30:02,830] {simulate.py:484} INFO -     Simulating 20 keV\n",
      "[2021-07-14 19:30:02,955] {simulate.py:484} INFO -     Simulating 30 keV\n",
      "[2021-07-14 19:30:03,078] {simulate.py:484} INFO -     Simulating 40 keV\n",
      "[2021-07-14 19:30:03,202] {simulate.py:484} INFO -     Simulating 50 keV\n",
      "[2021-07-14 19:30:03,327] {simulate.py:484} INFO -     Simulating 60 keV\n",
      "[2021-07-14 19:30:03,453] {simulate.py:484} INFO -     Simulating 70 keV\n",
      "[2021-07-14 19:30:03,578] {simulate.py:484} INFO -     Simulating 80 keV\n",
      "[2021-07-14 19:30:03,702] {simulate.py:484} INFO -     Simulating 90 keV\n",
      "[2021-07-14 19:30:03,833] {simulate.py:484} INFO -     Simulating 100 keV\n",
      "[2021-07-14 19:30:03,958] {simulate.py:484} INFO -     Simulating 300 keV\n",
      "[2021-07-14 19:30:04,083] {simulate.py:484} INFO -     Simulating 500 keV\n",
      "[2021-07-14 19:30:04,209] {simulate.py:484} INFO -     Simulating 700 keV\n",
      "[2021-07-14 19:30:04,332] {simulate.py:484} INFO -     Simulating 900 keV\n",
      "[2021-07-14 19:30:04,461] {simulate.py:484} INFO -     Simulating 1000 keV\n",
      "[2021-07-14 19:30:04,590] {simulate.py:484} INFO -     Simulating 2000 keV\n",
      "[2021-07-14 19:30:04,712] {simulate.py:484} INFO -     Simulating 4000 keV\n",
      "[2021-07-14 19:30:04,837] {simulate.py:484} INFO -     Simulating 6000 keV\n",
      "[2021-07-14 19:30:04,962] {simulate.py:619} INFO - Weighting simulations\n",
      "[2021-07-14 19:30:04,962] {simulate.py:686} INFO -     Added noise 3.652668682568185 times reference\n",
      "This is MV\n",
      "../fastcat/data/MV_spectra/C_spectrum_6.txt ../fastcat/data/Detectors/CWO-784-micrometer\n"
     ]
    },
    {
     "data": {
      "application/vnd.jupyter.widget-view+json": {
       "model_id": "4156c4c9ddda41a587a3af6d6d4c91f7",
       "version_major": 2,
       "version_minor": 0
      },
      "text/plain": [
       "Canvas(toolbar=Toolbar(toolitems=[('Home', 'Reset original view', 'home', 'home'), ('Back', 'Back to previous …"
      ]
     },
     "metadata": {},
     "output_type": "display_data"
    },
    {
     "name": "stdout",
     "output_type": "stream",
     "text": [
      "[2021-07-14 19:30:05,162] {legend.py:1193} WARNING - No handles with labels found to put in legend.\n",
      "[2021-07-14 19:30:05,165] {simulate.py:248} INFO - This is a small edep file starting at 30\n",
      "[2021-07-14 19:30:05,214] {simulate.py:469} INFO - Running Simulations\n",
      "[2021-07-14 19:30:05,214] {simulate.py:484} INFO -     Simulating 30 keV\n",
      "[2021-07-14 19:30:05,340] {simulate.py:484} INFO -     Simulating 40 keV\n",
      "[2021-07-14 19:30:05,466] {simulate.py:484} INFO -     Simulating 50 keV\n",
      "[2021-07-14 19:30:05,593] {simulate.py:484} INFO -     Simulating 60 keV\n",
      "[2021-07-14 19:30:05,718] {simulate.py:484} INFO -     Simulating 70 keV\n",
      "[2021-07-14 19:30:05,845] {simulate.py:484} INFO -     Simulating 80 keV\n",
      "[2021-07-14 19:30:05,969] {simulate.py:484} INFO -     Simulating 90 keV\n",
      "[2021-07-14 19:30:06,095] {simulate.py:484} INFO -     Simulating 100 keV\n",
      "[2021-07-14 19:30:06,229] {simulate.py:484} INFO -     Simulating 300 keV\n",
      "[2021-07-14 19:30:06,360] {simulate.py:484} INFO -     Simulating 500 keV\n",
      "[2021-07-14 19:30:06,489] {simulate.py:484} INFO -     Simulating 700 keV\n",
      "[2021-07-14 19:30:06,619] {simulate.py:484} INFO -     Simulating 900 keV\n",
      "[2021-07-14 19:30:06,746] {simulate.py:484} INFO -     Simulating 1000 keV\n",
      "[2021-07-14 19:30:06,877] {simulate.py:484} INFO -     Simulating 2000 keV\n",
      "[2021-07-14 19:30:07,007] {simulate.py:484} INFO -     Simulating 4000 keV\n",
      "[2021-07-14 19:30:07,139] {simulate.py:619} INFO - Weighting simulations\n",
      "[2021-07-14 19:30:07,139] {simulate.py:686} INFO -     Added noise 42.66061703982666 times reference\n",
      "This is MV\n",
      "../fastcat/data/MV_spectra/C_spectrum_6.txt ../fastcat/data/Detectors/CuGOS-784-micrometer\n"
     ]
    },
    {
     "data": {
      "application/vnd.jupyter.widget-view+json": {
       "model_id": "7dc3582d35e046c59f0d12f60762d24c",
       "version_major": 2,
       "version_minor": 0
      },
      "text/plain": [
       "Canvas(toolbar=Toolbar(toolitems=[('Home', 'Reset original view', 'home', 'home'), ('Back', 'Back to previous …"
      ]
     },
     "metadata": {},
     "output_type": "display_data"
    },
    {
     "name": "stdout",
     "output_type": "stream",
     "text": [
      "[2021-07-14 19:30:07,346] {legend.py:1193} WARNING - No handles with labels found to put in legend.\n",
      "[2021-07-14 19:30:07,398] {simulate.py:469} INFO - Running Simulations\n",
      "[2021-07-14 19:30:07,398] {simulate.py:484} INFO -     Simulating 20 keV\n",
      "[2021-07-14 19:30:07,528] {simulate.py:484} INFO -     Simulating 30 keV\n",
      "[2021-07-14 19:30:07,656] {simulate.py:484} INFO -     Simulating 40 keV\n",
      "[2021-07-14 19:30:07,786] {simulate.py:484} INFO -     Simulating 50 keV\n",
      "[2021-07-14 19:30:07,911] {simulate.py:484} INFO -     Simulating 60 keV\n",
      "[2021-07-14 19:30:08,041] {simulate.py:484} INFO -     Simulating 70 keV\n",
      "[2021-07-14 19:30:08,167] {simulate.py:484} INFO -     Simulating 80 keV\n",
      "[2021-07-14 19:30:08,291] {simulate.py:484} INFO -     Simulating 90 keV\n",
      "[2021-07-14 19:30:08,420] {simulate.py:484} INFO -     Simulating 100 keV\n",
      "[2021-07-14 19:30:08,545] {simulate.py:484} INFO -     Simulating 300 keV\n",
      "[2021-07-14 19:30:08,674] {simulate.py:484} INFO -     Simulating 500 keV\n",
      "[2021-07-14 19:30:08,801] {simulate.py:484} INFO -     Simulating 700 keV\n",
      "[2021-07-14 19:30:08,925] {simulate.py:484} INFO -     Simulating 900 keV\n",
      "[2021-07-14 19:30:09,056] {simulate.py:484} INFO -     Simulating 1000 keV\n",
      "[2021-07-14 19:30:09,186] {simulate.py:484} INFO -     Simulating 2000 keV\n",
      "[2021-07-14 19:30:09,315] {simulate.py:484} INFO -     Simulating 4000 keV\n",
      "[2021-07-14 19:30:09,448] {simulate.py:484} INFO -     Simulating 6000 keV\n",
      "[2021-07-14 19:30:09,572] {simulate.py:619} INFO - Weighting simulations\n",
      "[2021-07-14 19:30:09,573] {simulate.py:686} INFO -     Added noise 2.2825311111597824 times reference\n",
      "This is MV\n",
      "../fastcat/data/MV_spectra/W_spectrum_25.txt ../fastcat/data/Detectors/CsI-784-micro_thin\n"
     ]
    },
    {
     "data": {
      "application/vnd.jupyter.widget-view+json": {
       "model_id": "18c4f8e15ee04676a5415f43e6266646",
       "version_major": 2,
       "version_minor": 0
      },
      "text/plain": [
       "Canvas(toolbar=Toolbar(toolitems=[('Home', 'Reset original view', 'home', 'home'), ('Back', 'Back to previous …"
      ]
     },
     "metadata": {},
     "output_type": "display_data"
    },
    {
     "name": "stdout",
     "output_type": "stream",
     "text": [
      "[2021-07-14 19:30:09,777] {legend.py:1193} WARNING - No handles with labels found to put in legend.\n",
      "[2021-07-14 19:30:09,830] {simulate.py:469} INFO - Running Simulations\n",
      "[2021-07-14 19:30:09,830] {simulate.py:484} INFO -     Simulating 10 keV\n",
      "[2021-07-14 19:30:09,961] {simulate.py:484} INFO -     Simulating 20 keV\n",
      "[2021-07-14 19:30:10,091] {simulate.py:484} INFO -     Simulating 30 keV\n",
      "[2021-07-14 19:30:10,217] {simulate.py:484} INFO -     Simulating 40 keV\n",
      "[2021-07-14 19:30:10,339] {simulate.py:484} INFO -     Simulating 50 keV\n",
      "[2021-07-14 19:30:10,472] {simulate.py:484} INFO -     Simulating 60 keV\n",
      "[2021-07-14 19:30:10,596] {simulate.py:484} INFO -     Simulating 70 keV\n",
      "[2021-07-14 19:30:10,721] {simulate.py:484} INFO -     Simulating 80 keV\n",
      "[2021-07-14 19:30:10,848] {simulate.py:484} INFO -     Simulating 90 keV\n",
      "[2021-07-14 19:30:10,971] {simulate.py:484} INFO -     Simulating 100 keV\n",
      "[2021-07-14 19:30:11,104] {simulate.py:484} INFO -     Simulating 300 keV\n",
      "[2021-07-14 19:30:11,236] {simulate.py:484} INFO -     Simulating 500 keV\n",
      "[2021-07-14 19:30:11,361] {simulate.py:484} INFO -     Simulating 700 keV\n",
      "[2021-07-14 19:30:11,490] {simulate.py:484} INFO -     Simulating 900 keV\n",
      "[2021-07-14 19:30:11,615] {simulate.py:484} INFO -     Simulating 1000 keV\n",
      "[2021-07-14 19:30:11,741] {simulate.py:484} INFO -     Simulating 2000 keV\n",
      "[2021-07-14 19:30:11,870] {simulate.py:619} INFO - Weighting simulations\n",
      "[2021-07-14 19:30:11,870] {simulate.py:686} INFO -     Added noise 0.46127090757712924 times reference\n",
      "This is MV\n",
      "../fastcat/data/MV_spectra/W_spectrum_25.txt ../fastcat/data/Detectors/CWO-784-micrometer\n"
     ]
    },
    {
     "data": {
      "application/vnd.jupyter.widget-view+json": {
       "model_id": "9e6dc7ab138d409b9eaa77604b7ba33d",
       "version_major": 2,
       "version_minor": 0
      },
      "text/plain": [
       "Canvas(toolbar=Toolbar(toolitems=[('Home', 'Reset original view', 'home', 'home'), ('Back', 'Back to previous …"
      ]
     },
     "metadata": {},
     "output_type": "display_data"
    },
    {
     "name": "stdout",
     "output_type": "stream",
     "text": [
      "[2021-07-14 19:30:12,067] {legend.py:1193} WARNING - No handles with labels found to put in legend.\n",
      "[2021-07-14 19:30:12,070] {simulate.py:248} INFO - This is a small edep file starting at 30\n",
      "[2021-07-14 19:30:12,120] {simulate.py:469} INFO - Running Simulations\n",
      "[2021-07-14 19:30:12,121] {simulate.py:484} INFO -     Simulating 30 keV\n",
      "[2021-07-14 19:30:12,246] {simulate.py:484} INFO -     Simulating 40 keV\n",
      "[2021-07-14 19:30:12,370] {simulate.py:484} INFO -     Simulating 50 keV\n",
      "[2021-07-14 19:30:12,492] {simulate.py:484} INFO -     Simulating 60 keV\n",
      "[2021-07-14 19:30:12,618] {simulate.py:484} INFO -     Simulating 70 keV\n",
      "[2021-07-14 19:30:12,743] {simulate.py:484} INFO -     Simulating 80 keV\n",
      "[2021-07-14 19:30:12,872] {simulate.py:484} INFO -     Simulating 90 keV\n",
      "[2021-07-14 19:30:13,005] {simulate.py:484} INFO -     Simulating 100 keV\n",
      "[2021-07-14 19:30:13,133] {simulate.py:484} INFO -     Simulating 300 keV\n",
      "[2021-07-14 19:30:13,263] {simulate.py:484} INFO -     Simulating 500 keV\n",
      "[2021-07-14 19:30:13,398] {simulate.py:484} INFO -     Simulating 700 keV\n",
      "[2021-07-14 19:30:13,526] {simulate.py:484} INFO -     Simulating 900 keV\n",
      "[2021-07-14 19:30:13,660] {simulate.py:484} INFO -     Simulating 1000 keV\n",
      "[2021-07-14 19:30:13,786] {simulate.py:484} INFO -     Simulating 2000 keV\n",
      "[2021-07-14 19:30:13,917] {simulate.py:619} INFO - Weighting simulations\n",
      "[2021-07-14 19:30:13,917] {simulate.py:686} INFO -     Added noise 38.922121506355346 times reference\n",
      "This is MV\n",
      "../fastcat/data/MV_spectra/W_spectrum_25.txt ../fastcat/data/Detectors/CuGOS-784-micrometer\n"
     ]
    },
    {
     "data": {
      "application/vnd.jupyter.widget-view+json": {
       "model_id": "c30166a937f1419ba62e4725adb12e58",
       "version_major": 2,
       "version_minor": 0
      },
      "text/plain": [
       "Canvas(toolbar=Toolbar(toolitems=[('Home', 'Reset original view', 'home', 'home'), ('Back', 'Back to previous …"
      ]
     },
     "metadata": {},
     "output_type": "display_data"
    },
    {
     "name": "stdout",
     "output_type": "stream",
     "text": [
      "[2021-07-14 19:30:14,125] {legend.py:1193} WARNING - No handles with labels found to put in legend.\n",
      "[2021-07-14 19:30:14,177] {simulate.py:469} INFO - Running Simulations\n",
      "[2021-07-14 19:30:14,177] {simulate.py:484} INFO -     Simulating 20 keV\n",
      "[2021-07-14 19:30:14,305] {simulate.py:484} INFO -     Simulating 30 keV\n",
      "[2021-07-14 19:30:14,431] {simulate.py:484} INFO -     Simulating 40 keV\n",
      "[2021-07-14 19:30:14,555] {simulate.py:484} INFO -     Simulating 50 keV\n",
      "[2021-07-14 19:30:14,679] {simulate.py:484} INFO -     Simulating 60 keV\n",
      "[2021-07-14 19:30:14,803] {simulate.py:484} INFO -     Simulating 70 keV\n",
      "[2021-07-14 19:30:14,925] {simulate.py:484} INFO -     Simulating 80 keV\n",
      "[2021-07-14 19:30:15,057] {simulate.py:484} INFO -     Simulating 90 keV\n",
      "[2021-07-14 19:30:15,181] {simulate.py:484} INFO -     Simulating 100 keV\n",
      "[2021-07-14 19:30:15,311] {simulate.py:484} INFO -     Simulating 300 keV\n",
      "[2021-07-14 19:30:15,435] {simulate.py:484} INFO -     Simulating 500 keV\n",
      "[2021-07-14 19:30:15,564] {simulate.py:484} INFO -     Simulating 700 keV\n",
      "[2021-07-14 19:30:15,699] {simulate.py:484} INFO -     Simulating 900 keV\n",
      "[2021-07-14 19:30:15,827] {simulate.py:484} INFO -     Simulating 1000 keV\n",
      "[2021-07-14 19:30:15,953] {simulate.py:484} INFO -     Simulating 2000 keV\n",
      "[2021-07-14 19:30:16,080] {simulate.py:619} INFO - Weighting simulations\n",
      "[2021-07-14 19:30:16,080] {simulate.py:686} INFO -     Added noise 0.772822889786169 times reference\n",
      "This is MV\n",
      "../fastcat/data/MV_spectra/W_spectrum_6.txt ../fastcat/data/Detectors/CsI-784-micro_thin\n"
     ]
    },
    {
     "data": {
      "application/vnd.jupyter.widget-view+json": {
       "model_id": "1d8727e4886a4797a95862e16688032a",
       "version_major": 2,
       "version_minor": 0
      },
      "text/plain": [
       "Canvas(toolbar=Toolbar(toolitems=[('Home', 'Reset original view', 'home', 'home'), ('Back', 'Back to previous …"
      ]
     },
     "metadata": {},
     "output_type": "display_data"
    },
    {
     "name": "stdout",
     "output_type": "stream",
     "text": [
      "[2021-07-14 19:30:16,274] {legend.py:1193} WARNING - No handles with labels found to put in legend.\n",
      "[2021-07-14 19:30:16,327] {simulate.py:469} INFO - Running Simulations\n",
      "[2021-07-14 19:30:16,327] {simulate.py:484} INFO -     Simulating 10 keV\n",
      "[2021-07-14 19:30:16,455] {simulate.py:484} INFO -     Simulating 20 keV\n",
      "[2021-07-14 19:30:16,578] {simulate.py:484} INFO -     Simulating 30 keV\n",
      "[2021-07-14 19:30:16,704] {simulate.py:484} INFO -     Simulating 40 keV\n",
      "[2021-07-14 19:30:16,830] {simulate.py:484} INFO -     Simulating 50 keV\n",
      "[2021-07-14 19:30:16,951] {simulate.py:484} INFO -     Simulating 60 keV\n",
      "[2021-07-14 19:30:17,076] {simulate.py:484} INFO -     Simulating 70 keV\n",
      "[2021-07-14 19:30:17,206] {simulate.py:484} INFO -     Simulating 80 keV\n",
      "[2021-07-14 19:30:17,332] {simulate.py:484} INFO -     Simulating 90 keV\n",
      "[2021-07-14 19:30:17,459] {simulate.py:484} INFO -     Simulating 100 keV\n",
      "[2021-07-14 19:30:17,585] {simulate.py:484} INFO -     Simulating 300 keV\n",
      "[2021-07-14 19:30:17,717] {simulate.py:484} INFO -     Simulating 500 keV\n",
      "[2021-07-14 19:30:17,850] {simulate.py:484} INFO -     Simulating 700 keV\n",
      "[2021-07-14 19:30:17,976] {simulate.py:484} INFO -     Simulating 900 keV\n",
      "[2021-07-14 19:30:18,108] {simulate.py:484} INFO -     Simulating 1000 keV\n",
      "[2021-07-14 19:30:18,234] {simulate.py:484} INFO -     Simulating 2000 keV\n",
      "[2021-07-14 19:30:18,359] {simulate.py:484} INFO -     Simulating 4000 keV\n",
      "[2021-07-14 19:30:18,488] {simulate.py:484} INFO -     Simulating 6000 keV\n",
      "[2021-07-14 19:30:18,620] {simulate.py:619} INFO - Weighting simulations\n",
      "[2021-07-14 19:30:18,621] {simulate.py:686} INFO -     Added noise 0.091369183176715 times reference\n",
      "This is MV\n",
      "../fastcat/data/MV_spectra/W_spectrum_6.txt ../fastcat/data/Detectors/CWO-784-micrometer\n"
     ]
    },
    {
     "data": {
      "application/vnd.jupyter.widget-view+json": {
       "model_id": "bbeaa149443e4d2a840e5d39888fbcbb",
       "version_major": 2,
       "version_minor": 0
      },
      "text/plain": [
       "Canvas(toolbar=Toolbar(toolitems=[('Home', 'Reset original view', 'home', 'home'), ('Back', 'Back to previous …"
      ]
     },
     "metadata": {},
     "output_type": "display_data"
    },
    {
     "name": "stdout",
     "output_type": "stream",
     "text": [
      "[2021-07-14 19:30:18,822] {legend.py:1193} WARNING - No handles with labels found to put in legend.\n",
      "[2021-07-14 19:30:18,825] {simulate.py:248} INFO - This is a small edep file starting at 30\n",
      "[2021-07-14 19:30:18,874] {simulate.py:469} INFO - Running Simulations\n",
      "[2021-07-14 19:30:18,875] {simulate.py:484} INFO -     Simulating 30 keV\n",
      "[2021-07-14 19:30:19,002] {simulate.py:484} INFO -     Simulating 40 keV\n",
      "[2021-07-14 19:30:19,129] {simulate.py:484} INFO -     Simulating 50 keV\n",
      "[2021-07-14 19:30:19,255] {simulate.py:484} INFO -     Simulating 60 keV\n",
      "[2021-07-14 19:30:19,380] {simulate.py:484} INFO -     Simulating 70 keV\n",
      "[2021-07-14 19:30:19,506] {simulate.py:484} INFO -     Simulating 80 keV\n",
      "[2021-07-14 19:30:19,629] {simulate.py:484} INFO -     Simulating 90 keV\n",
      "[2021-07-14 19:30:19,751] {simulate.py:484} INFO -     Simulating 100 keV\n",
      "[2021-07-14 19:30:19,874] {simulate.py:484} INFO -     Simulating 300 keV\n",
      "[2021-07-14 19:30:20,003] {simulate.py:484} INFO -     Simulating 500 keV\n",
      "[2021-07-14 19:30:20,144] {simulate.py:484} INFO -     Simulating 700 keV\n",
      "[2021-07-14 19:30:20,275] {simulate.py:484} INFO -     Simulating 900 keV\n",
      "[2021-07-14 19:30:20,403] {simulate.py:484} INFO -     Simulating 1000 keV\n",
      "[2021-07-14 19:30:20,533] {simulate.py:484} INFO -     Simulating 2000 keV\n",
      "[2021-07-14 19:30:20,668] {simulate.py:484} INFO -     Simulating 4000 keV\n",
      "[2021-07-14 19:30:20,796] {simulate.py:619} INFO - Weighting simulations\n",
      "[2021-07-14 19:30:20,796] {simulate.py:686} INFO -     Added noise 14.491269977269566 times reference\n",
      "This is MV\n",
      "../fastcat/data/MV_spectra/W_spectrum_6.txt ../fastcat/data/Detectors/CuGOS-784-micrometer\n"
     ]
    },
    {
     "data": {
      "application/vnd.jupyter.widget-view+json": {
       "model_id": "c6399f21d6be465ea104865fd1dd1754",
       "version_major": 2,
       "version_minor": 0
      },
      "text/plain": [
       "Canvas(toolbar=Toolbar(toolitems=[('Home', 'Reset original view', 'home', 'home'), ('Back', 'Back to previous …"
      ]
     },
     "metadata": {},
     "output_type": "display_data"
    },
    {
     "name": "stdout",
     "output_type": "stream",
     "text": [
      "[2021-07-14 19:30:20,999] {legend.py:1193} WARNING - No handles with labels found to put in legend.\n",
      "[2021-07-14 19:30:21,052] {simulate.py:469} INFO - Running Simulations\n",
      "[2021-07-14 19:30:21,052] {simulate.py:484} INFO -     Simulating 20 keV\n",
      "[2021-07-14 19:30:21,180] {simulate.py:484} INFO -     Simulating 30 keV\n",
      "[2021-07-14 19:30:21,309] {simulate.py:484} INFO -     Simulating 40 keV\n",
      "[2021-07-14 19:30:21,434] {simulate.py:484} INFO -     Simulating 50 keV\n",
      "[2021-07-14 19:30:21,557] {simulate.py:484} INFO -     Simulating 60 keV\n",
      "[2021-07-14 19:30:21,683] {simulate.py:484} INFO -     Simulating 70 keV\n",
      "[2021-07-14 19:30:21,805] {simulate.py:484} INFO -     Simulating 80 keV\n",
      "[2021-07-14 19:30:21,932] {simulate.py:484} INFO -     Simulating 90 keV\n",
      "[2021-07-14 19:30:22,058] {simulate.py:484} INFO -     Simulating 100 keV\n",
      "[2021-07-14 19:30:22,182] {simulate.py:484} INFO -     Simulating 300 keV\n",
      "[2021-07-14 19:30:22,310] {simulate.py:484} INFO -     Simulating 500 keV\n",
      "[2021-07-14 19:30:22,443] {simulate.py:484} INFO -     Simulating 700 keV\n",
      "[2021-07-14 19:30:22,569] {simulate.py:484} INFO -     Simulating 900 keV\n",
      "[2021-07-14 19:30:22,699] {simulate.py:484} INFO -     Simulating 1000 keV\n",
      "[2021-07-14 19:30:22,827] {simulate.py:484} INFO -     Simulating 2000 keV\n",
      "[2021-07-14 19:30:22,959] {simulate.py:484} INFO -     Simulating 4000 keV\n",
      "[2021-07-14 19:30:23,086] {simulate.py:484} INFO -     Simulating 6000 keV\n",
      "[2021-07-14 19:30:23,210] {simulate.py:619} INFO - Weighting simulations\n",
      "[2021-07-14 19:30:23,211] {simulate.py:686} INFO -     Added noise 0.20917466861702658 times reference\n"
     ]
    }
   ],
   "source": [
    "nviews = 2\n",
    "\n",
    "weights_1 = []\n",
    "weights_2 = []\n",
    "photons = []\n",
    "\n",
    "for phan in phantoms[:1]:\n",
    "    phantom = fc.Catphan_404(hi_res=False)\n",
    "    phantom.phan_map = phan_map\n",
    "    s = fc.Spectrum()\n",
    "    for spectrum in spectra:#[:2]:\n",
    "        for det in MV_detectors:#[1:2]:\n",
    "\n",
    "            if len(spectrum) > 4:\n",
    "                s.load(spectrum.split('/')[-1].split('.')[0])\n",
    "                print('This is MV')\n",
    "                s.attenuate(1,fc.get_mu(z=13))\n",
    "            else:\n",
    "                s.x = xx\n",
    "                s.y = yy\n",
    "                print('This is kV')\n",
    "#                 s.attenuate(1,fc.get_mu(z=13))\n",
    "            \n",
    "            print(spectrum,det)\n",
    "            plt.figure()\n",
    "            plt.plot(s.x,s.y)\n",
    "            kernel = fc.Detector(s, det.split('/')[-1].split('.')[0])\n",
    "            kernel.get_plot_mtf_real(axs[2])\n",
    "            mtfs.append([kernel.freq,kernel.mtf])\n",
    "            angles = np.linspace(0,np.pi*2,nviews)        \n",
    "#             if len(spectrum) < 4:\n",
    "#                 phantom.return_projs(kernel,s,angles,det_on=True,mgy = 7/nviews,ASG=True,bowtie=True,filter='bowtie_mod')\n",
    "#             else:\n",
    "            phantom.return_projs(kernel,s,angles,det_on=True,mgy = 7/180)\n",
    "            weights_1.append(phantom.weights_small)\n",
    "            weights_2.append(phantom.weights_small2)\n",
    "            \n",
    "            photons.append([phantom.nphoton_av,phantom.ratio])\n",
    "            \n",
    "            \n",
    "            label.append(spectrum.split('/')[-1].split('.')[0] + det.split('/')[-1].split('.')[0])\n",
    "\n",
    "#             break\n",
    "#         break\n",
    "#     break"
   ]
  },
  {
   "cell_type": "code",
   "execution_count": 65,
   "metadata": {},
   "outputs": [
    {
     "data": {
      "application/vnd.jupyter.widget-view+json": {
       "model_id": "550e424336894ea8b98bb5aecd1fe351",
       "version_major": 2,
       "version_minor": 0
      },
      "text/plain": [
       "Canvas(toolbar=Toolbar(toolitems=[('Home', 'Reset original view', 'home', 'home'), ('Back', 'Back to previous …"
      ]
     },
     "metadata": {},
     "output_type": "display_data"
    },
    {
     "name": "stdout",
     "output_type": "stream",
     "text": [
      "1.0\n",
      "kvCsI [0.27276342216586136, 662.5759780627903]\n",
      "1.0\n",
      "kvCWO [0.8982738182577514, 664.0989093562347]\n",
      "1.0\n",
      "kvCuGOS [0.07488838934468509, 662.6469578737214]\n",
      "1.0\n",
      "C_spectrum_25CsI [0.07879379902987424, 157.96481137635655]\n",
      "0.9999999999999999\n",
      "C_spectrum_25CWO [0.7020465059778731, 157.96704952116028]\n",
      "1.0\n",
      "C_spectrum_25CuGOS [0.0469026923467256, 157.96484307044722]\n",
      "1.0\n",
      "C_spectrum_6CsI [0.049724374288624855, 73.4583136504904]\n",
      "1.0\n",
      "C_spectrum_6CWO [0.5622261778516847, 75.87803400196803]\n",
      "1.0\n",
      "C_spectrum_6CuGOS [0.03107246778754077, 73.45831450423182]\n",
      "1.0\n",
      "W_spectrum_25CsI [0.005732800527089785, 80.46170547840256]\n",
      "1.0\n",
      "W_spectrum_25CWO [0.48373473124479643, 80.46170554302955]\n",
      "1.0\n",
      "W_spectrum_25CuGOS [0.009604853453948143, 80.46170547958695]\n",
      "1.0\n",
      "W_spectrum_6CsI [0.0022025355054545548, 41.48363690412265]\n",
      "1.0\n",
      "W_spectrum_6CWO [0.33230427801628526, 43.608436411882096]\n",
      "0.9999999999999999\n",
      "W_spectrum_6CuGOS [0.00504234156065385, 41.48363733414015]\n"
     ]
    }
   ],
   "source": [
    "plt.figure(figsize=[10,15])\n",
    "\n",
    "for ii,zipper in enumerate(zip(weights_1,weights_2,label)):\n",
    "    if zipper[1].shape[0] == 18:\n",
    "        original_energies_keV = np.array(\n",
    "            [\n",
    "                10,\n",
    "                20,\n",
    "                30,\n",
    "                40,\n",
    "                50,\n",
    "                60,\n",
    "                70,\n",
    "                80,\n",
    "                90,\n",
    "                100,\n",
    "                300,\n",
    "                500,\n",
    "                700,\n",
    "                900,\n",
    "                1000,\n",
    "                2000,\n",
    "                4000,\n",
    "                6000,\n",
    "            ]\n",
    "        )\n",
    "    else:\n",
    "        original_energies_keV = np.array(\n",
    "            [\n",
    "                30,\n",
    "                40,\n",
    "                50,\n",
    "                60,\n",
    "                70,\n",
    "                80,\n",
    "                90,\n",
    "                100,\n",
    "                300,\n",
    "                500,\n",
    "                700,\n",
    "                900,\n",
    "                1000,\n",
    "                2000,\n",
    "                4000,\n",
    "                6000,\n",
    "            ]\n",
    "        )\n",
    "\n",
    "    plt.subplot(5,3,ii+1)\n",
    "#     plt.plot(zipper[0])\n",
    "    plt.plot(original_energies_keV,zipper[0])#/original_energies_keV*10)\n",
    "    print(np.nansum(zipper[1]))\n",
    "    plt.title(zipper[2].split('-')[0])\n",
    "    plt.xlabel(zipper[0])\n",
    "#     plt.text(0,0,photons[ii][:])\n",
    "    print(zipper[2].split('-')[0],photons[ii])\n",
    "#     plt.ylim([0,1])\n",
    "    \n",
    "plt.tight_layout()"
   ]
  },
  {
   "cell_type": "code",
   "execution_count": null,
   "metadata": {},
   "outputs": [],
   "source": []
  }
 ],
 "metadata": {
  "kernelspec": {
   "display_name": "Python 3",
   "language": "python",
   "name": "python3"
  },
  "language_info": {
   "codemirror_mode": {
    "name": "ipython",
    "version": 3
   },
   "file_extension": ".py",
   "mimetype": "text/x-python",
   "name": "python",
   "nbconvert_exporter": "python",
   "pygments_lexer": "ipython3",
   "version": "3.7.6"
  },
  "toc": {
   "base_numbering": 1,
   "nav_menu": {},
   "number_sections": true,
   "sideBar": true,
   "skip_h1_title": false,
   "title_cell": "Table of Contents",
   "title_sidebar": "Contents",
   "toc_cell": false,
   "toc_position": {},
   "toc_section_display": true,
   "toc_window_display": false
  },
  "varInspector": {
   "cols": {
    "lenName": "16",
    "lenType": "3",
    "lenVar": "20"
   },
   "kernels_config": {
    "python": {
     "delete_cmd_postfix": "",
     "delete_cmd_prefix": "del ",
     "library": "var_list.py",
     "varRefreshCmd": "print(var_dic_list())"
    },
    "r": {
     "delete_cmd_postfix": ") ",
     "delete_cmd_prefix": "rm(",
     "library": "var_list.r",
     "varRefreshCmd": "cat(var_dic_list()) "
    }
   },
   "types_to_exclude": [
    "module",
    "function",
    "builtin_function_or_method",
    "instance",
    "_Feature"
   ],
   "window_display": false
  }
 },
 "nbformat": 4,
 "nbformat_minor": 4
}
