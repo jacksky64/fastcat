{
 "cells": [
  {
   "cell_type": "code",
   "execution_count": 1,
   "id": "alike-charles",
   "metadata": {},
   "outputs": [],
   "source": [
    "# Testing if the energy deposition works"
   ]
  },
  {
   "cell_type": "code",
   "execution_count": 1,
   "id": "invisible-mounting",
   "metadata": {},
   "outputs": [
    {
     "name": "stdout",
     "output_type": "stream",
     "text": [
      "Populating the interactive namespace from numpy and matplotlib\n"
     ]
    }
   ],
   "source": [
    "%pylab widget\n",
    "%load_ext autoreload\n",
    "%autoreload 2"
   ]
  },
  {
   "cell_type": "code",
   "execution_count": 2,
   "id": "recognized-contamination",
   "metadata": {},
   "outputs": [],
   "source": [
    "import fastcat as fc"
   ]
  },
  {
   "cell_type": "code",
   "execution_count": 33,
   "id": "younger-karaoke",
   "metadata": {},
   "outputs": [
    {
     "name": "stdout",
     "output_type": "stream",
     "text": [
      "[2021-07-19 17:43:47,540] {phantoms.py:649} INFO - Phantom is low resolution\n",
      "[2021-07-19 17:43:47,632] {simulate.py:467} INFO - Running Simulations\n",
      "[2021-07-19 17:43:47,632] {simulate.py:482} INFO -     Simulating 10 keV\n",
      "[2021-07-19 17:43:47,800] {simulate.py:482} INFO -     Simulating 20 keV\n",
      "[2021-07-19 17:43:47,940] {simulate.py:482} INFO -     Simulating 30 keV\n",
      "[2021-07-19 17:43:48,084] {simulate.py:482} INFO -     Simulating 40 keV\n",
      "[2021-07-19 17:43:48,228] {simulate.py:482} INFO -     Simulating 50 keV\n",
      "[2021-07-19 17:43:48,370] {simulate.py:482} INFO -     Simulating 60 keV\n",
      "[2021-07-19 17:43:48,511] {simulate.py:482} INFO -     Simulating 70 keV\n",
      "[2021-07-19 17:43:48,658] {simulate.py:482} INFO -     Simulating 80 keV\n",
      "[2021-07-19 17:43:48,806] {simulate.py:482} INFO -     Simulating 90 keV\n",
      "[2021-07-19 17:43:48,945] {simulate.py:482} INFO -     Simulating 100 keV\n",
      "[2021-07-19 17:43:49,090] {simulate.py:482} INFO -     Simulating 300 keV\n",
      "[2021-07-19 17:43:49,234] {simulate.py:482} INFO -     Simulating 500 keV\n",
      "[2021-07-19 17:43:49,375] {simulate.py:482} INFO -     Simulating 700 keV\n",
      "[2021-07-19 17:43:49,518] {simulate.py:482} INFO -     Simulating 900 keV\n",
      "[2021-07-19 17:43:49,658] {simulate.py:482} INFO -     Simulating 1000 keV\n",
      "[2021-07-19 17:43:49,798] {simulate.py:482} INFO -     Simulating 2000 keV\n",
      "[2021-07-19 17:43:49,936] {simulate.py:482} INFO -     Simulating 4000 keV\n",
      "[2021-07-19 17:43:50,076] {simulate.py:482} INFO -     Simulating 6000 keV\n",
      "[2021-07-19 17:43:50,217] {simulate.py:611} INFO - Weighting simulations\n",
      "[2021-07-19 17:43:50,218] {simulate.py:680} INFO -     Added noise 89677.92154372938 times reference\n"
     ]
    }
   ],
   "source": [
    "nviews = 2\n",
    "\n",
    "s = fc.Spectrum()\n",
    "s.load('Al_spectrum_6')\n",
    "kernel = fc.Detector(s,'CsI-784-micrometer')\n",
    "angles = np.linspace(0,np.pi*2,nviews)\n",
    "\n",
    "phantom = fc.Catphan_404(hi_res=False)\n",
    "phantom.phan_map = ['air'] + ['water']*12\n",
    "phantom.return_projs(kernel,s,angles,det_on=True,mgy=1.39*300/nviews)"
   ]
  },
  {
   "cell_type": "code",
   "execution_count": 31,
   "id": "domestic-fountain",
   "metadata": {},
   "outputs": [
    {
     "data": {
      "text/plain": [
       "[<matplotlib.lines.Line2D at 0x7fe7f5c96bd0>]"
      ]
     },
     "execution_count": 31,
     "metadata": {},
     "output_type": "execute_result"
    }
   ],
   "source": [
    "plt.plot(np.mean(test[0],0))"
   ]
  },
  {
   "cell_type": "code",
   "execution_count": 29,
   "id": "incorporated-baseline",
   "metadata": {},
   "outputs": [
    {
     "data": {
      "application/vnd.jupyter.widget-view+json": {
       "model_id": "bc22285a343b498e93c06dd36a0e5aad",
       "version_major": 2,
       "version_minor": 0
      },
      "text/plain": [
       "Canvas(toolbar=Toolbar(toolitems=[('Home', 'Reset original view', 'home', 'home'), ('Back', 'Back to previous …"
      ]
     },
     "metadata": {},
     "output_type": "display_data"
    },
    {
     "data": {
      "text/plain": [
       "[<matplotlib.lines.Line2D at 0x7fe7f5ca4ad0>]"
      ]
     },
     "execution_count": 29,
     "metadata": {},
     "output_type": "execute_result"
    }
   ],
   "source": [
    "plt.figure()\n",
    "plt.plot(np.mean(test[0],0))"
   ]
  },
  {
   "cell_type": "code",
   "execution_count": 35,
   "id": "liquid-provision",
   "metadata": {},
   "outputs": [
    {
     "data": {
      "application/vnd.jupyter.widget-view+json": {
       "model_id": "5296e801730a41ef8db3bebf318d1be8",
       "version_major": 2,
       "version_minor": 0
      },
      "text/plain": [
       "Canvas(toolbar=Toolbar(toolitems=[('Home', 'Reset original view', 'home', 'home'), ('Back', 'Back to previous …"
      ]
     },
     "metadata": {},
     "output_type": "display_data"
    },
    {
     "data": {
      "text/plain": [
       "[<matplotlib.lines.Line2D at 0x7fe7f59d7290>]"
      ]
     },
     "execution_count": 35,
     "metadata": {},
     "output_type": "execute_result"
    }
   ],
   "source": [
    "plt.figure()\n",
    "ints = []\n",
    "for intensity in phantom.intensities:\n",
    "    \n",
    "    plt.plot(np.mean(intensity[0],0))\n",
    "    ints.append(np.mean(intensity[0],0))\n",
    "    plt.legend(original_energies_keV)\n",
    "\n",
    "plt.plot(np.sum(ints,0))"
   ]
  },
  {
   "cell_type": "code",
   "execution_count": 104,
   "id": "employed-indonesia",
   "metadata": {},
   "outputs": [
    {
     "data": {
      "application/vnd.jupyter.widget-view+json": {
       "model_id": "65ae253020e94ec6aa20eff4df502df9",
       "version_major": 2,
       "version_minor": 0
      },
      "text/plain": [
       "Canvas(toolbar=Toolbar(toolitems=[('Home', 'Reset original view', 'home', 'home'), ('Back', 'Back to previous …"
      ]
     },
     "metadata": {},
     "output_type": "display_data"
    }
   ],
   "source": [
    "plt.figure()\n",
    "ints = []\n",
    "\n",
    "original_energies_keV = np.array(\n",
    "    [\n",
    "        10,\n",
    "        20,\n",
    "        30,\n",
    "        40,\n",
    "        50,\n",
    "        60,\n",
    "        70,\n",
    "        80,\n",
    "        90,\n",
    "        100,\n",
    "        300,\n",
    "        500,\n",
    "        700,\n",
    "        900,\n",
    "        1000,\n",
    "        2000,\n",
    "        4000,\n",
    "        6000,\n",
    "    ]\n",
    ")\n",
    "for intensity in phantom.intensities:\n",
    "    \n",
    "    plt.plot(np.mean(intensity[0],0))\n",
    "    ints.append(np.mean(intensity[0],0))\n",
    "    plt.legend(original_energies_keV)"
   ]
  },
  {
   "cell_type": "markdown",
   "id": "behind-depth",
   "metadata": {},
   "source": [
    "# Now lets do a simple test case"
   ]
  },
  {
   "cell_type": "code",
   "execution_count": 3,
   "id": "widespread-aerospace",
   "metadata": {},
   "outputs": [
    {
     "name": "stdout",
     "output_type": "stream",
     "text": [
      "[2021-07-20 15:58:21,719] {phantoms.py:649} INFO - Phantom is low resolution\n",
      "[2021-07-20 15:58:21,817] {simulate.py:531} INFO - Running Simulations\n",
      "[2021-07-20 15:58:21,817] {simulate.py:555} INFO -     Simulating 40 keV\n",
      "[2021-07-20 15:58:22,009] {simulate.py:555} INFO -     Simulating 50 keV\n",
      "[2021-07-20 15:58:22,152] {simulate.py:741} INFO - Weighting simulations\n",
      "[2021-07-20 15:58:22,152] {simulate.py:813} INFO -     Added noise 3177481.984779275 times reference\n"
     ]
    },
    {
     "name": "stderr",
     "output_type": "stream",
     "text": [
      "/home/xcite/fastcat-0.0.1/fastcat/simulate.py:736: RuntimeWarning: invalid value encountered in true_divide\n",
      "  self.weights_small2 = (w_fluence_times_energy/ w_fluence_times_p_detected_energy)/np.nansum(w_fluence_times_energy / w_fluence_times_p_detected_energy)\n"
     ]
    }
   ],
   "source": [
    "nviews = 2\n",
    "\n",
    "s = fc.Spectrum()\n",
    "s.x = [39.9999,40,50,50.00001]\n",
    "s.y = [0,0.5,0.5,0]\n",
    "\n",
    "kernel = fc.Detector(s,'CsI-784-micrometer')\n",
    "angles = np.linspace(0,np.pi*2,nviews)\n",
    "\n",
    "phantom = fc.Catphan_404(hi_res=False)\n",
    "phantom.phan_map = ['air'] + ['water']*12\n",
    "phantom.return_projs(kernel,s,angles,det_on=True,mgy=1.39*300/nviews)"
   ]
  },
  {
   "cell_type": "code",
   "execution_count": 91,
   "id": "alternate-moisture",
   "metadata": {},
   "outputs": [
    {
     "name": "stdout",
     "output_type": "stream",
     "text": [
      "[0.000e+00 1.000e+00 2.000e+00 ... 5.998e+03 5.999e+03 6.000e+03]\n"
     ]
    }
   ],
   "source": [
    "[2021-07-20 14:40:57,771] {phantoms.py:649} INFO - Phantom is low resolution\n",
    "[2021-07-20 14:40:57,860] {simulate.py:531} INFO - Running Simulations\n",
    "[2021-07-20 14:40:57,860] {simulate.py:555} INFO -     Simulating 40 keV\n",
    "> /home/xcite/fastcat-0.0.1/fastcat/simulate.py(682)return_projs()\n",
    "    681 \n",
    "--> 682             noise_temp = np.random.poisson(np.abs(int_temp)) - int_temp\n",
    "    683 \n",
    "\n",
    "ipdb>  int_temp[0,10,10:20]\n",
    "\n",
    "array([333.42566247, 333.42954778, 333.64206925, 333.60530432,\n",
    "       333.71290527, 333.86043343, 333.62611801, 333.88965164,\n",
    "       333.99226865, 333.99020487])\n",
    "\n",
    "ipdb>  continue\n",
    "\n",
    "> /home/xcite/fastcat-0.0.1/fastcat/simulate.py(547)return_projs()\n",
    "    546 \n",
    "--> 547         for jj, energy in enumerate(MC_energies_keV):\n",
    "    548 \n",
    "\n",
    "ipdb>  (int_temp * w_fluence_times_energy[jj] / w_fluence_times_p_detected_energy[jj])[0,10,10:20]\n",
    "\n",
    "array([311.74383844, 311.7474711 , 311.94617283, 311.91179863,\n",
    "       312.01240256, 312.15033734, 311.93125887, 312.17765557,\n",
    "       312.27359966, 312.27167008])\n"
   ]
  },
  {
   "cell_type": "code",
   "execution_count": 92,
   "id": "aerial-crossing",
   "metadata": {},
   "outputs": [
    {
     "data": {
      "application/vnd.jupyter.widget-view+json": {
       "model_id": "c9ca780db80c4ada865d5c9de7dc53cb",
       "version_major": 2,
       "version_minor": 0
      },
      "text/plain": [
       "Canvas(toolbar=Toolbar(toolitems=[('Home', 'Reset original view', 'home', 'home'), ('Back', 'Back to previous …"
      ]
     },
     "metadata": {},
     "output_type": "display_data"
    },
    {
     "data": {
      "text/plain": [
       "[<matplotlib.lines.Line2D at 0x7fe7f551c5d0>]"
      ]
     },
     "execution_count": 92,
     "metadata": {},
     "output_type": "execute_result"
    }
   ],
   "source": [
    "plt.figure()\n",
    "plt.plot(phantom.weights_small)\n",
    "plt.plot(phantom.weights_small2)"
   ]
  },
  {
   "cell_type": "code",
   "execution_count": 93,
   "id": "ideal-defendant",
   "metadata": {},
   "outputs": [
    {
     "name": "stdout",
     "output_type": "stream",
     "text": [
      "[0.         0.         0.         0.48072397 0.51927603 0.\n",
      " 0.         0.         0.         0.         0.         0.\n",
      " 0.         0.         0.         0.         0.         0.        ]\n",
      "[       nan        nan        nan 0.46660205 0.53339795        nan\n",
      "        nan        nan        nan        nan        nan        nan\n",
      "        nan        nan        nan        nan        nan        nan]\n",
      "[0.         0.         0.         0.51415838 0.48584162 0.\n",
      " 0.         0.         0.         0.         0.         0.\n",
      " 0.         0.         0.         0.         0.         0.        ]\n"
     ]
    }
   ],
   "source": [
    "print(phantom.weights_small)\n",
    "print(phantom.weights_small2)\n",
    "print(phantom.weights_small3)"
   ]
  },
  {
   "cell_type": "code",
   "execution_count": 51,
   "id": "early-sword",
   "metadata": {},
   "outputs": [
    {
     "name": "stdout",
     "output_type": "stream",
     "text": [
      "[0.44444444 0.55555556]\n"
     ]
    }
   ],
   "source": [
    "print(np.array([.5*.4/0.9,0.5*0.5/0.9])/(.5*.4/0.9+0.5*0.5/0.9))"
   ]
  },
  {
   "cell_type": "code",
   "execution_count": 75,
   "id": "clean-glenn",
   "metadata": {},
   "outputs": [
    {
     "name": "stdout",
     "output_type": "stream",
     "text": [
      "[36042.890625   40992.69140625]\n",
      "[0.46787328 0.53212672]\n"
     ]
    }
   ],
   "source": [
    "print(phantom.dep[3:5])\n",
    "\n",
    "w = phantom.dep[3:5]/np.sum(phantom.dep[3:5])\n",
    "print(w)"
   ]
  },
  {
   "cell_type": "code",
   "execution_count": 72,
   "id": "willing-modeling",
   "metadata": {},
   "outputs": [
    {
     "name": "stdout",
     "output_type": "stream",
     "text": [
      "[0.46787328 0.53212672]\n"
     ]
    }
   ],
   "source": [
    "print(np.array([.5*w[0],0.5*w[1]])/(.5*w[0]+0.5*w[1]))"
   ]
  },
  {
   "cell_type": "code",
   "execution_count": 111,
   "id": "square-johns",
   "metadata": {},
   "outputs": [
    {
     "data": {
      "application/vnd.jupyter.widget-view+json": {
       "model_id": "a1fe827de9514a8a80a9a493c772ecbe",
       "version_major": 2,
       "version_minor": 0
      },
      "text/plain": [
       "Canvas(toolbar=Toolbar(toolitems=[('Home', 'Reset original view', 'home', 'home'), ('Back', 'Back to previous …"
      ]
     },
     "metadata": {},
     "output_type": "display_data"
    },
    {
     "ename": "ValueError",
     "evalue": "operands could not be broadcast together with shapes (18,) (16,) ",
     "output_type": "error",
     "traceback": [
      "\u001b[0;31m---------------------------------------------------------------------------\u001b[0m",
      "\u001b[0;31mValueError\u001b[0m                                Traceback (most recent call last)",
      "\u001b[0;32m<ipython-input-111-4c06333ede3d>\u001b[0m in \u001b[0;36m<module>\u001b[0;34m\u001b[0m\n\u001b[1;32m      1\u001b[0m \u001b[0mplt\u001b[0m\u001b[0;34m.\u001b[0m\u001b[0mfigure\u001b[0m\u001b[0;34m(\u001b[0m\u001b[0;34m)\u001b[0m\u001b[0;34m\u001b[0m\u001b[0;34m\u001b[0m\u001b[0m\n\u001b[0;32m----> 2\u001b[0;31m \u001b[0mplt\u001b[0m\u001b[0;34m.\u001b[0m\u001b[0msemilogx\u001b[0m\u001b[0;34m(\u001b[0m\u001b[0moriginal_energies_keV\u001b[0m\u001b[0;34m[\u001b[0m\u001b[0;36m2\u001b[0m\u001b[0;34m:\u001b[0m\u001b[0;34m]\u001b[0m\u001b[0;34m,\u001b[0m\u001b[0mphantom\u001b[0m\u001b[0;34m.\u001b[0m\u001b[0mdep\u001b[0m\u001b[0;34m/\u001b[0m\u001b[0moriginal_energies_keV\u001b[0m\u001b[0;34m[\u001b[0m\u001b[0;36m2\u001b[0m\u001b[0;34m:\u001b[0m\u001b[0;34m]\u001b[0m\u001b[0;34m/\u001b[0m\u001b[0;36m1000\u001b[0m\u001b[0;34m)\u001b[0m\u001b[0;34m\u001b[0m\u001b[0;34m\u001b[0m\u001b[0m\n\u001b[0m",
      "\u001b[0;31mValueError\u001b[0m: operands could not be broadcast together with shapes (18,) (16,) "
     ]
    }
   ],
   "source": [
    "plt.figure()\n",
    "plt.semilogx(original_energies_keV[2:],phantom.dep/original_energies_keV[2:]/1000)"
   ]
  },
  {
   "cell_type": "code",
   "execution_count": 113,
   "id": "applicable-bahamas",
   "metadata": {},
   "outputs": [
    {
     "data": {
      "application/vnd.jupyter.widget-view+json": {
       "model_id": "fd5f5459c3bc42aba12824eca115ea02",
       "version_major": 2,
       "version_minor": 0
      },
      "text/plain": [
       "Canvas(toolbar=Toolbar(toolitems=[('Home', 'Reset original view', 'home', 'home'), ('Back', 'Back to previous …"
      ]
     },
     "metadata": {},
     "output_type": "display_data"
    },
    {
     "data": {
      "text/plain": [
       "[<matplotlib.lines.Line2D at 0x7fe7f4e91dd0>]"
      ]
     },
     "execution_count": 113,
     "metadata": {},
     "output_type": "execute_result"
    }
   ],
   "source": [
    "\n",
    "plt.figure()\n",
    "plt.semilogx(original_energies_keV,phantom.dep/original_energies_keV/1000)"
   ]
  },
  {
   "cell_type": "code",
   "execution_count": 115,
   "id": "violent-organization",
   "metadata": {},
   "outputs": [
    {
     "data": {
      "application/vnd.jupyter.widget-view+json": {
       "model_id": "91078cf948424550afa8b066834c5646",
       "version_major": 2,
       "version_minor": 0
      },
      "text/plain": [
       "Canvas(toolbar=Toolbar(toolitems=[('Home', 'Reset original view', 'home', 'home'), ('Back', 'Back to previous …"
      ]
     },
     "metadata": {},
     "output_type": "display_data"
    },
    {
     "data": {
      "text/plain": [
       "[<matplotlib.lines.Line2D at 0x7fe7f4c48410>]"
      ]
     },
     "execution_count": 115,
     "metadata": {},
     "output_type": "execute_result"
    }
   ],
   "source": [
    "\n",
    "plt.figure()\n",
    "plt.semilogx(original_energies_keV,phantom.dep/1000)"
   ]
  },
  {
   "cell_type": "code",
   "execution_count": null,
   "id": "systematic-vegetable",
   "metadata": {},
   "outputs": [],
   "source": []
  }
 ],
 "metadata": {
  "kernelspec": {
   "display_name": "Python 3",
   "language": "python",
   "name": "python3"
  },
  "language_info": {
   "codemirror_mode": {
    "name": "ipython",
    "version": 3
   },
   "file_extension": ".py",
   "mimetype": "text/x-python",
   "name": "python",
   "nbconvert_exporter": "python",
   "pygments_lexer": "ipython3",
   "version": "3.7.6"
  }
 },
 "nbformat": 4,
 "nbformat_minor": 5
}
