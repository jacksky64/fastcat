{
 "cells": [
  {
   "cell_type": "code",
   "execution_count": 1,
   "metadata": {},
   "outputs": [
    {
     "name": "stdout",
     "output_type": "stream",
     "text": [
      "Populating the interactive namespace from numpy and matplotlib\n"
     ]
    }
   ],
   "source": [
    "%pylab nbagg\n",
    "%load_ext autoreload\n",
    "\n",
    "%autoreload 2"
   ]
  },
  {
   "cell_type": "code",
   "execution_count": 7,
   "metadata": {},
   "outputs": [
    {
     "name": "stdout",
     "output_type": "stream",
     "text": [
      "(19, 19, 19) 19\n",
      "really doing it!\n",
      "ratio is 33.360086116801796 number of photons 0.2630954767603633\n",
      "(17, 25, 25) 17\n",
      "really doing it!\n",
      "ratio is 33.432035036182405 number of photons 0.6307006310084022\n",
      "(19, 41, 41) 19\n",
      "really doing it!\n",
      "ratio is 33.38254623939319 number of photons 0.03243039447096263\n",
      "(19, 19, 19) 19\n",
      "really doing it!\n",
      "ratio is 29.831002294213516 number of photons 0.19854340933738437\n",
      "(17, 25, 25) 17\n",
      "really doing it!\n",
      "ratio is 29.89856828893736 number of photons 0.5981074830298064\n",
      "(19, 41, 41) 19\n",
      "really doing it!\n",
      "ratio is 29.852416983183062 number of photons 0.03402763640736402\n",
      "(19, 19, 19) 19\n",
      "really doing it!\n",
      "ratio is 6.168294804016911 number of photons 0.43032196849317317\n",
      "(17, 25, 25) 17\n",
      "really doing it!\n",
      "ratio is 6.177190192698205 number of photons 0.7572855840763743\n",
      "(19, 41, 41) 19\n",
      "really doing it!\n",
      "ratio is 6.191778788659147 number of photons 0.04026543917603216\n"
     ]
    }
   ],
   "source": [
    "import sys\n",
    "import os\n",
    "import tigre\n",
    "from scipy.signal import fftconvolve\n",
    "\n",
    "import fastcat.fastcat as fc\n",
    "\n",
    "dose = 0.01\n",
    "\n",
    "phan_map_hard =  ['air','water','water','water',\n",
    "             'water','water','water','water']\n",
    "\n",
    "\n",
    "phan_map_g4 = ['air','water','G4_LUNG_ICRP',\"G4_BONE_COMPACT_ICRU\",\"G4_BONE_CORTICAL_ICRP\",\"G4_ADIPOSE_TISSUE_ICRP\",\"G4_BRAIN_ICRP\",\"G4_B-100_BONE\"] \n",
    "\n",
    "spectrum_files = ['Al_spectrum_25', 'C_spectrum_6', 'Al_spectrum_6', 'C_spectrum_25', 'W_spectrum_6', 'W_spectrum_25']\n",
    "\n",
    "dets = [\n",
    " 'CsI-784-micrometer',\n",
    " 'CWO-784-micrometer',\n",
    " 'CuGOS-784-micrometer']\n",
    "phan_map = [phan_map_hard]#,phan_map_soft]\n",
    "\n",
    "res = []\n",
    "\n",
    "angles = np.linspace(0,2*pi,2)\n",
    "\n",
    "geo = 'catphan_low_contrast_512'\n",
    "\n",
    "phantom = fc.Catphan_515()\n",
    "\n",
    "for spectrum_file in spectrum_files[1:4]:\n",
    "    for det in dets:\n",
    "        s = fc.Spectrum()\n",
    "        s.load(spectrum_file)\n",
    "\n",
    "        kernel = fc.Kernel(s, det)\n",
    "\n",
    "#             kernel.add_focal_spot(0.1)\n",
    "\n",
    "        energy_deposition_file = os.path.join(\n",
    "            fc.data_path, \"Detectors\", det, 'EnergyDeposition.npy')\n",
    "        energies = s.x\n",
    "        fluence = s.y\n",
    "        deposition_efficiency_file = energy_deposition_file\n",
    "\n",
    "        res.append(phantom.return_projs(kernel,s,angles,\n",
    "                                   nphoton=None,\n",
    "                                  mgy=dose,return_dose=True))\n",
    "\n",
    "#             img_fc = tigre.algorithms.FDK(\n",
    "#                 np.transpose(np.array(projs_fc[0]),[0,2,1]), phantom.geomet,angles)\n",
    "\n",
    "#             res.append([[phan_map,spectrum_file,det],phantom.analyse_515(img_fc[5])])"
   ]
  },
  {
   "cell_type": "code",
   "execution_count": null,
   "metadata": {},
   "outputs": [],
   "source": []
  }
 ],
 "metadata": {
  "kernelspec": {
   "display_name": "Python 3",
   "language": "python",
   "name": "python3"
  },
  "language_info": {
   "codemirror_mode": {
    "name": "ipython",
    "version": 3
   },
   "file_extension": ".py",
   "mimetype": "text/x-python",
   "name": "python",
   "nbconvert_exporter": "python",
   "pygments_lexer": "ipython3",
   "version": "3.7.6"
  },
  "varInspector": {
   "cols": {
    "lenName": "16",
    "lenType": "3",
    "lenVar": "20"
   },
   "kernels_config": {
    "python": {
     "delete_cmd_postfix": "",
     "delete_cmd_prefix": "del ",
     "library": "var_list.py",
     "varRefreshCmd": "print(var_dic_list())"
    },
    "r": {
     "delete_cmd_postfix": ") ",
     "delete_cmd_prefix": "rm(",
     "library": "var_list.r",
     "varRefreshCmd": "cat(var_dic_list()) "
    }
   },
   "types_to_exclude": [
    "module",
    "function",
    "builtin_function_or_method",
    "instance",
    "_Feature"
   ],
   "window_display": false
  }
 },
 "nbformat": 4,
 "nbformat_minor": 4
}
