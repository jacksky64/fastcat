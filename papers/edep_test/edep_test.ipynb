{
 "cells": [
  {
   "cell_type": "code",
   "execution_count": 1,
   "id": "whole-colony",
   "metadata": {},
   "outputs": [],
   "source": [
    "# Testing if the energy deposition works"
   ]
  },
  {
   "cell_type": "code",
   "execution_count": 2,
   "id": "raised-mauritius",
   "metadata": {},
   "outputs": [
    {
     "name": "stdout",
     "output_type": "stream",
     "text": [
      "Populating the interactive namespace from numpy and matplotlib\n"
     ]
    }
   ],
   "source": [
    "%pylab widget\n",
    "%load_ext autoreload\n",
    "%autoreload 2"
   ]
  },
  {
   "cell_type": "code",
   "execution_count": 3,
   "id": "nearby-preserve",
   "metadata": {},
   "outputs": [],
   "source": [
    "import fastcat as fc"
   ]
  },
  {
   "cell_type": "code",
   "execution_count": 33,
   "id": "informed-conference",
   "metadata": {},
   "outputs": [
    {
     "name": "stdout",
     "output_type": "stream",
     "text": [
      "[2021-07-19 17:43:47,540] {phantoms.py:649} INFO - Phantom is low resolution\n",
      "[2021-07-19 17:43:47,632] {simulate.py:467} INFO - Running Simulations\n",
      "[2021-07-19 17:43:47,632] {simulate.py:482} INFO -     Simulating 10 keV\n",
      "[2021-07-19 17:43:47,800] {simulate.py:482} INFO -     Simulating 20 keV\n",
      "[2021-07-19 17:43:47,940] {simulate.py:482} INFO -     Simulating 30 keV\n",
      "[2021-07-19 17:43:48,084] {simulate.py:482} INFO -     Simulating 40 keV\n",
      "[2021-07-19 17:43:48,228] {simulate.py:482} INFO -     Simulating 50 keV\n",
      "[2021-07-19 17:43:48,370] {simulate.py:482} INFO -     Simulating 60 keV\n",
      "[2021-07-19 17:43:48,511] {simulate.py:482} INFO -     Simulating 70 keV\n",
      "[2021-07-19 17:43:48,658] {simulate.py:482} INFO -     Simulating 80 keV\n",
      "[2021-07-19 17:43:48,806] {simulate.py:482} INFO -     Simulating 90 keV\n",
      "[2021-07-19 17:43:48,945] {simulate.py:482} INFO -     Simulating 100 keV\n",
      "[2021-07-19 17:43:49,090] {simulate.py:482} INFO -     Simulating 300 keV\n",
      "[2021-07-19 17:43:49,234] {simulate.py:482} INFO -     Simulating 500 keV\n",
      "[2021-07-19 17:43:49,375] {simulate.py:482} INFO -     Simulating 700 keV\n",
      "[2021-07-19 17:43:49,518] {simulate.py:482} INFO -     Simulating 900 keV\n",
      "[2021-07-19 17:43:49,658] {simulate.py:482} INFO -     Simulating 1000 keV\n",
      "[2021-07-19 17:43:49,798] {simulate.py:482} INFO -     Simulating 2000 keV\n",
      "[2021-07-19 17:43:49,936] {simulate.py:482} INFO -     Simulating 4000 keV\n",
      "[2021-07-19 17:43:50,076] {simulate.py:482} INFO -     Simulating 6000 keV\n",
      "[2021-07-19 17:43:50,217] {simulate.py:611} INFO - Weighting simulations\n",
      "[2021-07-19 17:43:50,218] {simulate.py:680} INFO -     Added noise 89677.92154372938 times reference\n"
     ]
    }
   ],
   "source": [
    "nviews = 2\n",
    "\n",
    "s = fc.Spectrum()\n",
    "s.load('Al_spectrum_6')\n",
    "kernel = fc.Detector(s,'CsI-784-micrometer')\n",
    "angles = np.linspace(0,np.pi*2,nviews)\n",
    "\n",
    "phantom = fc.Catphan_404(hi_res=False)\n",
    "phantom.phan_map = ['air'] + ['water']*12\n",
    "phantom.return_projs(kernel,s,angles,det_on=True,mgy=1.39*300/nviews)"
   ]
  },
  {
   "cell_type": "code",
   "execution_count": 31,
   "id": "green-cloud",
   "metadata": {},
   "outputs": [
    {
     "data": {
      "text/plain": [
       "[<matplotlib.lines.Line2D at 0x7fe7f5c96bd0>]"
      ]
     },
     "execution_count": 31,
     "metadata": {},
     "output_type": "execute_result"
    }
   ],
   "source": [
    "plt.plot(np.mean(test[0],0))"
   ]
  },
  {
   "cell_type": "code",
   "execution_count": 29,
   "id": "representative-rapid",
   "metadata": {},
   "outputs": [
    {
     "data": {
      "application/vnd.jupyter.widget-view+json": {
       "model_id": "bc22285a343b498e93c06dd36a0e5aad",
       "version_major": 2,
       "version_minor": 0
      },
      "text/plain": [
       "Canvas(toolbar=Toolbar(toolitems=[('Home', 'Reset original view', 'home', 'home'), ('Back', 'Back to previous …"
      ]
     },
     "metadata": {},
     "output_type": "display_data"
    },
    {
     "data": {
      "text/plain": [
       "[<matplotlib.lines.Line2D at 0x7fe7f5ca4ad0>]"
      ]
     },
     "execution_count": 29,
     "metadata": {},
     "output_type": "execute_result"
    }
   ],
   "source": [
    "plt.figure()\n",
    "plt.plot(np.mean(test[0],0))"
   ]
  },
  {
   "cell_type": "code",
   "execution_count": 35,
   "id": "dirty-truck",
   "metadata": {},
   "outputs": [
    {
     "data": {
      "application/vnd.jupyter.widget-view+json": {
       "model_id": "5296e801730a41ef8db3bebf318d1be8",
       "version_major": 2,
       "version_minor": 0
      },
      "text/plain": [
       "Canvas(toolbar=Toolbar(toolitems=[('Home', 'Reset original view', 'home', 'home'), ('Back', 'Back to previous …"
      ]
     },
     "metadata": {},
     "output_type": "display_data"
    },
    {
     "data": {
      "text/plain": [
       "[<matplotlib.lines.Line2D at 0x7fe7f59d7290>]"
      ]
     },
     "execution_count": 35,
     "metadata": {},
     "output_type": "execute_result"
    }
   ],
   "source": [
    "plt.figure()\n",
    "ints = []\n",
    "for intensity in phantom.intensities:\n",
    "    \n",
    "    plt.plot(np.mean(intensity[0],0))\n",
    "    ints.append(np.mean(intensity[0],0))\n",
    "    plt.legend(original_energies_keV)\n",
    "\n",
    "plt.plot(np.sum(ints,0))"
   ]
  },
  {
   "cell_type": "code",
   "execution_count": 56,
   "id": "fossil-digest",
   "metadata": {},
   "outputs": [
    {
     "name": "stderr",
     "output_type": "stream",
     "text": [
      "/home/xcite/anaconda3/lib/python3.7/site-packages/ipykernel_launcher.py:1: RuntimeWarning: More than 20 figures have been opened. Figures created through the pyplot interface (`matplotlib.pyplot.figure`) are retained until explicitly closed and may consume too much memory. (To control this warning, see the rcParam `figure.max_open_warning`).\n",
      "  \"\"\"Entry point for launching an IPython kernel.\n"
     ]
    },
    {
     "data": {
      "application/vnd.jupyter.widget-view+json": {
       "model_id": "d63b287495b54274a5760252271d7b65",
       "version_major": 2,
       "version_minor": 0
      },
      "text/plain": [
       "Canvas(toolbar=Toolbar(toolitems=[('Home', 'Reset original view', 'home', 'home'), ('Back', 'Back to previous …"
      ]
     },
     "metadata": {},
     "output_type": "display_data"
    }
   ],
   "source": [
    "plt.figure()\n",
    "ints = []\n",
    "\n",
    "original_energies_keV = np.array(\n",
    "    [\n",
    "        10,\n",
    "        20,\n",
    "        30,\n",
    "        40,\n",
    "        50,\n",
    "        60,\n",
    "        70,\n",
    "        80,\n",
    "        90,\n",
    "        100,\n",
    "        300,\n",
    "        500,\n",
    "        700,\n",
    "        900,\n",
    "        1000,\n",
    "        2000,\n",
    "        4000,\n",
    "        6000,\n",
    "    ]\n",
    ")\n",
    "for intensity in phantom.intensities:\n",
    "    \n",
    "    plt.plot(np.mean(intensity[0],0))\n",
    "    ints.append(np.mean(intensity[0],0))\n",
    "    plt.legend(original_energies_keV)"
   ]
  },
  {
   "cell_type": "markdown",
   "id": "quarterly-rogers",
   "metadata": {},
   "source": [
    "# Now lets do a simple test case"
   ]
  },
  {
   "cell_type": "code",
   "execution_count": null,
   "id": "modular-journal",
   "metadata": {},
   "outputs": [
    {
     "name": "stdout",
     "output_type": "stream",
     "text": [
      "[2021-07-20 11:38:42,469] {phantoms.py:649} INFO - Phantom is low resolution\n",
      "> \u001b[0;32m/home/xcite/fastcat-0.0.1/fastcat/simulate.py\u001b[0m(332)\u001b[0;36mreturn_projs\u001b[0;34m()\u001b[0m\n",
      "\u001b[0;32m    331 \u001b[0;31m        \u001b[0;32mimport\u001b[0m \u001b[0mipdb\u001b[0m\u001b[0;34m;\u001b[0m \u001b[0mipdb\u001b[0m\u001b[0;34m.\u001b[0m\u001b[0mset_trace\u001b[0m\u001b[0;34m(\u001b[0m\u001b[0;34m)\u001b[0m\u001b[0;34m\u001b[0m\u001b[0;34m\u001b[0m\u001b[0m\n",
      "\u001b[0m\u001b[0;32m--> 332 \u001b[0;31m        \u001b[0mfluence_norm\u001b[0m \u001b[0;34m=\u001b[0m \u001b[0mspectra\u001b[0m\u001b[0;34m.\u001b[0m\u001b[0my\u001b[0m \u001b[0;34m/\u001b[0m \u001b[0mnp\u001b[0m\u001b[0;34m.\u001b[0m\u001b[0msum\u001b[0m\u001b[0;34m(\u001b[0m\u001b[0mspectra\u001b[0m\u001b[0;34m.\u001b[0m\u001b[0my\u001b[0m\u001b[0;34m)\u001b[0m\u001b[0;34m\u001b[0m\u001b[0;34m\u001b[0m\u001b[0m\n",
      "\u001b[0m\u001b[0;32m    333 \u001b[0;31m\u001b[0;34m\u001b[0m\u001b[0m\n",
      "\u001b[0m\n"
     ]
    },
    {
     "name": "stdin",
     "output_type": "stream",
     "text": [
      "ipdb>  weights_xray_small\n"
     ]
    },
    {
     "name": "stdout",
     "output_type": "stream",
     "text": [
      "array([0.        , 0.        , 0.        , 0.51415838, 0.48584162,\n",
      "       0.        , 0.        , 0.        , 0.        , 0.        ,\n",
      "       0.        , 0.        , 0.        , 0.        , 0.        ,\n",
      "       0.        , 0.        , 0.        ])\n"
     ]
    },
    {
     "name": "stdin",
     "output_type": "stream",
     "text": [
      "ipdb>  weights_energies\n"
     ]
    },
    {
     "name": "stdout",
     "output_type": "stream",
     "text": [
      "array([0.        , 0.        , 0.        , 0.48072397, 0.51927603,\n",
      "       0.        , 0.        , 0.        , 0.        , 0.        ,\n",
      "       0.        , 0.        , 0.        , 0.        , 0.        ,\n",
      "       0.        , 0.        , 0.        ])\n"
     ]
    },
    {
     "name": "stdin",
     "output_type": "stream",
     "text": [
      "ipdb>  weights_xray\n"
     ]
    },
    {
     "name": "stdout",
     "output_type": "stream",
     "text": [
      "array([0., 0., 0., ..., 0., 0., 0.])\n"
     ]
    },
    {
     "name": "stdin",
     "output_type": "stream",
     "text": [
      "ipdb>  weights_xray[:100]\n"
     ]
    },
    {
     "name": "stdout",
     "output_type": "stream",
     "text": [
      "array([0.        , 0.        , 0.        , 0.        , 0.        ,\n",
      "       0.        , 0.        , 0.        , 0.        , 0.        ,\n",
      "       0.        , 0.        , 0.        , 0.        , 0.        ,\n",
      "       0.        , 0.        , 0.        , 0.        , 0.        ,\n",
      "       0.45053613, 0.44241429, 0.43429245, 0.4261706 , 0.41804876,\n",
      "       0.40992691, 0.        , 0.        , 0.        , 0.        ,\n",
      "       0.        , 0.        , 0.        , 0.        , 0.        ,\n",
      "       0.        , 0.        , 0.        , 0.        , 0.        ,\n",
      "       0.        , 0.        , 0.        , 0.        , 0.        ,\n",
      "       0.        , 0.        , 0.        , 0.        , 0.        ,\n",
      "       0.        , 0.        , 0.        , 0.        , 0.        ,\n",
      "       0.        , 0.        , 0.        , 0.        , 0.        ,\n",
      "       0.        , 0.        , 0.        , 0.        , 0.        ,\n",
      "       0.        , 0.        , 0.        , 0.        , 0.        ,\n",
      "       0.        , 0.        , 0.        , 0.        , 0.        ,\n",
      "       0.        , 0.        , 0.        , 0.        , 0.        ,\n",
      "       0.        , 0.        , 0.        , 0.        , 0.        ,\n",
      "       0.        , 0.        , 0.        , 0.        , 0.        ,\n",
      "       0.        , 0.        , 0.        , 0.        , 0.        ,\n",
      "       0.        , 0.        , 0.        , 0.        , 0.        ])\n"
     ]
    }
   ],
   "source": [
    "nviews = 2\n",
    "\n",
    "s = fc.Spectrum()\n",
    "s.x = [39.9999,40,50,50.00001]\n",
    "s.y = [0,0.5,0.5,0]\n",
    "\n",
    "kernel = fc.Detector(s,'CsI-784-micrometer')\n",
    "angles = np.linspace(0,np.pi*2,nviews)\n",
    "\n",
    "phantom = fc.Catphan_404(hi_res=False)\n",
    "phantom.phan_map = ['air'] + ['water']*12\n",
    "phantom.return_projs(kernel,s,angles,det_on=True,mgy=1.39*300/nviews)"
   ]
  },
  {
   "cell_type": "code",
   "execution_count": 91,
   "id": "monthly-continuity",
   "metadata": {},
   "outputs": [
    {
     "name": "stdout",
     "output_type": "stream",
     "text": [
      "[0.000e+00 1.000e+00 2.000e+00 ... 5.998e+03 5.999e+03 6.000e+03]\n"
     ]
    }
   ],
   "source": [
    "print(np.linspace(0, 6000, 6001))"
   ]
  },
  {
   "cell_type": "code",
   "execution_count": 92,
   "id": "hungarian-optimization",
   "metadata": {},
   "outputs": [
    {
     "data": {
      "application/vnd.jupyter.widget-view+json": {
       "model_id": "c9ca780db80c4ada865d5c9de7dc53cb",
       "version_major": 2,
       "version_minor": 0
      },
      "text/plain": [
       "Canvas(toolbar=Toolbar(toolitems=[('Home', 'Reset original view', 'home', 'home'), ('Back', 'Back to previous …"
      ]
     },
     "metadata": {},
     "output_type": "display_data"
    },
    {
     "data": {
      "text/plain": [
       "[<matplotlib.lines.Line2D at 0x7fe7f551c5d0>]"
      ]
     },
     "execution_count": 92,
     "metadata": {},
     "output_type": "execute_result"
    }
   ],
   "source": [
    "plt.figure()\n",
    "plt.plot(phantom.weights_small)\n",
    "plt.plot(phantom.weights_small2)"
   ]
  },
  {
   "cell_type": "code",
   "execution_count": 93,
   "id": "executed-niger",
   "metadata": {},
   "outputs": [
    {
     "name": "stdout",
     "output_type": "stream",
     "text": [
      "[0.         0.         0.         0.48072397 0.51927603 0.\n",
      " 0.         0.         0.         0.         0.         0.\n",
      " 0.         0.         0.         0.         0.         0.        ]\n",
      "[       nan        nan        nan 0.46660205 0.53339795        nan\n",
      "        nan        nan        nan        nan        nan        nan\n",
      "        nan        nan        nan        nan        nan        nan]\n",
      "[0.         0.         0.         0.51415838 0.48584162 0.\n",
      " 0.         0.         0.         0.         0.         0.\n",
      " 0.         0.         0.         0.         0.         0.        ]\n"
     ]
    }
   ],
   "source": [
    "print(phantom.weights_small)\n",
    "print(phantom.weights_small2)\n",
    "print(phantom.weights_small3)"
   ]
  },
  {
   "cell_type": "code",
   "execution_count": 51,
   "id": "specified-nevada",
   "metadata": {},
   "outputs": [
    {
     "name": "stdout",
     "output_type": "stream",
     "text": [
      "[0.44444444 0.55555556]\n"
     ]
    }
   ],
   "source": [
    "print(np.array([.5*.4/0.9,0.5*0.5/0.9])/(.5*.4/0.9+0.5*0.5/0.9))"
   ]
  },
  {
   "cell_type": "code",
   "execution_count": 75,
   "id": "veterinary-hawaii",
   "metadata": {},
   "outputs": [
    {
     "name": "stdout",
     "output_type": "stream",
     "text": [
      "[36042.890625   40992.69140625]\n",
      "[0.46787328 0.53212672]\n"
     ]
    }
   ],
   "source": [
    "print(phantom.dep[3:5])\n",
    "\n",
    "w = phantom.dep[3:5]/np.sum(phantom.dep[3:5])\n",
    "print(w)"
   ]
  },
  {
   "cell_type": "code",
   "execution_count": 72,
   "id": "present-comment",
   "metadata": {},
   "outputs": [
    {
     "name": "stdout",
     "output_type": "stream",
     "text": [
      "[0.46787328 0.53212672]\n"
     ]
    }
   ],
   "source": [
    "print(np.array([.5*w[0],0.5*w[1]])/(.5*w[0]+0.5*w[1]))"
   ]
  },
  {
   "cell_type": "code",
   "execution_count": null,
   "id": "laden-hormone",
   "metadata": {},
   "outputs": [],
   "source": []
  }
 ],
 "metadata": {
  "kernelspec": {
   "display_name": "Python 3",
   "language": "python",
   "name": "python3"
  },
  "language_info": {
   "codemirror_mode": {
    "name": "ipython",
    "version": 3
   },
   "file_extension": ".py",
   "mimetype": "text/x-python",
   "name": "python",
   "nbconvert_exporter": "python",
   "pygments_lexer": "ipython3",
   "version": "3.7.6"
  }
 },
 "nbformat": 4,
 "nbformat_minor": 5
}
