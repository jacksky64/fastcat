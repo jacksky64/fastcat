{
 "cells": [
  {
   "cell_type": "code",
   "execution_count": 223,
   "id": "handy-update",
   "metadata": {},
   "outputs": [
    {
     "name": "stdout",
     "output_type": "stream",
     "text": [
      "Populating the interactive namespace from numpy and matplotlib\n",
      "The autoreload extension is already loaded. To reload it, use:\n",
      "  %reload_ext autoreload\n"
     ]
    }
   ],
   "source": [
    "%pylab widget\n",
    "%load_ext autoreload\n",
    "%autoreload 2"
   ]
  },
  {
   "cell_type": "code",
   "execution_count": 224,
   "id": "driving-chance",
   "metadata": {},
   "outputs": [],
   "source": [
    "# from analysis_functions import *\n",
    "import fastcat.fastcat as fc"
   ]
  },
  {
   "cell_type": "code",
   "execution_count": 225,
   "id": "convenient-geneva",
   "metadata": {},
   "outputs": [],
   "source": [
    "from scipy.optimize import minimize"
   ]
  },
  {
   "cell_type": "markdown",
   "id": "aware-tactics",
   "metadata": {},
   "source": [
    "# Looking at the bowtie filter"
   ]
  },
  {
   "cell_type": "code",
   "execution_count": 226,
   "id": "chronic-kennedy",
   "metadata": {},
   "outputs": [
    {
     "data": {
      "application/vnd.jupyter.widget-view+json": {
       "model_id": "6d874c8e16934ed692879671bcfea2b3",
       "version_major": 2,
       "version_minor": 0
      },
      "text/plain": [
       "Canvas(toolbar=Toolbar(toolitems=[('Home', 'Reset original view', 'home', 'home'), ('Back', 'Back to previous …"
      ]
     },
     "metadata": {},
     "output_type": "display_data"
    },
    {
     "data": {
      "text/plain": [
       "<matplotlib.image.AxesImage at 0x7fb333f4f690>"
      ]
     },
     "execution_count": 226,
     "metadata": {},
     "output_type": "execute_result"
    }
   ],
   "source": [
    "# Now lets look for one of the bowtie air projections\n",
    "bowtie_volume = np.load('/home/xcite/MV_CBCT/projections/kv_air.npy')\n",
    "\n",
    "plt.figure()\n",
    "plt.imshow(np.mean(bowtie_volume,0))"
   ]
  },
  {
   "cell_type": "code",
   "execution_count": 227,
   "id": "broadband-locator",
   "metadata": {},
   "outputs": [
    {
     "data": {
      "application/vnd.jupyter.widget-view+json": {
       "model_id": "db97893e2221432eb1fdf8807775abef",
       "version_major": 2,
       "version_minor": 0
      },
      "text/plain": [
       "Canvas(toolbar=Toolbar(toolitems=[('Home', 'Reset original view', 'home', 'home'), ('Back', 'Back to previous …"
      ]
     },
     "metadata": {},
     "output_type": "display_data"
    },
    {
     "data": {
      "text/plain": [
       "[<matplotlib.lines.Line2D at 0x7fb3e8de9950>]"
      ]
     },
     "execution_count": 227,
     "metadata": {},
     "output_type": "execute_result"
    }
   ],
   "source": [
    "plt.figure()\n",
    "plt.plot(np.mean(np.mean(bowtie_volume,0),0))"
   ]
  },
  {
   "cell_type": "code",
   "execution_count": 4,
   "id": "cellular-blair",
   "metadata": {},
   "outputs": [],
   "source": [
    "# Should I make an actual fastCAT aluminum model to see what CsI setting agrees with this?\n",
    "# First I will see if I can make a small model that is just a brick of aluminum"
   ]
  },
  {
   "cell_type": "code",
   "execution_count": 5,
   "id": "departmental-carrier",
   "metadata": {},
   "outputs": [
    {
     "data": {
      "application/vnd.jupyter.widget-view+json": {
       "model_id": "e9d22b0b7abe4b2791b1785813351f51",
       "version_major": 2,
       "version_minor": 0
      },
      "text/plain": [
       "Canvas(toolbar=Toolbar(toolitems=[('Home', 'Reset original view', 'home', 'home'), ('Back', 'Back to previous …"
      ]
     },
     "metadata": {},
     "output_type": "display_data"
    },
    {
     "data": {
      "text/plain": [
       "[<matplotlib.lines.Line2D at 0x7fb33ceb7210>]"
      ]
     },
     "execution_count": 5,
     "metadata": {},
     "output_type": "execute_result"
    }
   ],
   "source": [
    "plt.figure()\n",
    "from scipy.signal import gaussian\n",
    "lengths3 = gaussian(2*512,8*128/1.5)\n",
    "plt.plot(1.9 - 2*lengths3**(9))\n",
    "xx = np.arange(1024)\n",
    "plt.plot(1.9/(1 + np.e**(-0.02*(xx-512-256))))\n",
    "plt.plot(np.mean(bowtie_volume[0],0)/20000)\n",
    "plt.plot((-np.log(np.mean(bowtie_volume[0],0)/20000)))"
   ]
  },
  {
   "cell_type": "code",
   "execution_count": 18,
   "id": "limited-peripheral",
   "metadata": {},
   "outputs": [],
   "source": [
    "from scipy.signal import gaussian\n",
    "lengths = gaussian(512,128/1.5)*2"
   ]
  },
  {
   "cell_type": "code",
   "execution_count": 19,
   "id": "permanent-cabinet",
   "metadata": {},
   "outputs": [],
   "source": [
    "s = fc.calculate_spectrum(100, 14, 3, 100,monitor=None)\n",
    "s.attenuate(0.4,fc.get_mu(z=13))\n",
    "s.attenuate(0.89,fc.get_mu(z=22))\n",
    "s.x,s.y = s.get_points()"
   ]
  },
  {
   "cell_type": "code",
   "execution_count": 20,
   "id": "going-street",
   "metadata": {},
   "outputs": [
    {
     "data": {
      "application/vnd.jupyter.widget-view+json": {
       "model_id": "d107575dac734cf5a1949cbe73ba2a1d",
       "version_major": 2,
       "version_minor": 0
      },
      "text/plain": [
       "Canvas(toolbar=Toolbar(toolitems=[('Home', 'Reset original view', 'home', 'home'), ('Back', 'Back to previous …"
      ]
     },
     "metadata": {},
     "output_type": "display_data"
    },
    {
     "data": {
      "text/plain": [
       "[<matplotlib.lines.Line2D at 0x7fb33cf4c590>]"
      ]
     },
     "execution_count": 20,
     "metadata": {},
     "output_type": "execute_result"
    }
   ],
   "source": [
    "plt.figure()\n",
    "plt.plot(s.x,s.y)"
   ]
  },
  {
   "cell_type": "code",
   "execution_count": 21,
   "id": "selected-genome",
   "metadata": {},
   "outputs": [],
   "source": [
    "edep = np.load('../../fastcat/data/Detectors/CsI-010-micrometer/EnergyDeposition.npy')"
   ]
  },
  {
   "cell_type": "code",
   "execution_count": 22,
   "id": "stuffed-broadcast",
   "metadata": {},
   "outputs": [
    {
     "data": {
      "application/vnd.jupyter.widget-view+json": {
       "model_id": "9d3505db721442e2a8cd830f6ea397a8",
       "version_major": 2,
       "version_minor": 0
      },
      "text/plain": [
       "Canvas(toolbar=Toolbar(toolitems=[('Home', 'Reset original view', 'home', 'home'), ('Back', 'Back to previous …"
      ]
     },
     "metadata": {},
     "output_type": "display_data"
    },
    {
     "data": {
      "text/plain": [
       "[<matplotlib.lines.Line2D at 0x7fb33ae57990>]"
      ]
     },
     "execution_count": 22,
     "metadata": {},
     "output_type": "execute_result"
    }
   ],
   "source": [
    "plt.figure()\n",
    "plt.semilogx(edep[1],edep[0])"
   ]
  },
  {
   "cell_type": "code",
   "execution_count": 24,
   "id": "suitable-license",
   "metadata": {},
   "outputs": [
    {
     "data": {
      "text/plain": [
       "3549.8050000000003"
      ]
     },
     "execution_count": 24,
     "metadata": {},
     "output_type": "execute_result"
    }
   ],
   "source": [
    "np.sum(s.x)/2"
   ]
  },
  {
   "cell_type": "code",
   "execution_count": 72,
   "id": "fifteen-geneva",
   "metadata": {},
   "outputs": [
    {
     "data": {
      "text/plain": [
       "90"
      ]
     },
     "execution_count": 72,
     "metadata": {},
     "output_type": "execute_result"
    }
   ],
   "source": [
    "np.argmin(np.abs(np.cumsum(s.y)- np.sum(s.y)/2))"
   ]
  },
  {
   "cell_type": "code",
   "execution_count": 26,
   "id": "disabled-accommodation",
   "metadata": {},
   "outputs": [
    {
     "data": {
      "text/plain": [
       "68.64646464646465"
      ]
     },
     "execution_count": 26,
     "metadata": {},
     "output_type": "execute_result"
    }
   ],
   "source": [
    "s.x[90]"
   ]
  },
  {
   "cell_type": "markdown",
   "id": "olympic-citizenship",
   "metadata": {},
   "source": [
    "## Now we know that the mean energy of the 100 kVp beam should be about 44.6"
   ]
  },
  {
   "cell_type": "code",
   "execution_count": 73,
   "id": "generous-consensus",
   "metadata": {},
   "outputs": [],
   "source": [
    "al = np.loadtxt('../../fastcat/data/mu/14.csv',delimiter=',')"
   ]
  },
  {
   "cell_type": "code",
   "execution_count": 74,
   "id": "noble-plane",
   "metadata": {},
   "outputs": [
    {
     "data": {
      "text/plain": [
       "60.0"
      ]
     },
     "execution_count": 74,
     "metadata": {},
     "output_type": "execute_result"
    }
   ],
   "source": [
    "al[0,16]"
   ]
  },
  {
   "cell_type": "code",
   "execution_count": 75,
   "id": "funny-contractor",
   "metadata": {},
   "outputs": [
    {
     "name": "stdout",
     "output_type": "stream",
     "text": [
      "0.747231\n"
     ]
    }
   ],
   "source": [
    "mu = (al[1,16])\n",
    "\n",
    "print(mu)"
   ]
  },
  {
   "cell_type": "markdown",
   "id": "operating-scope",
   "metadata": {},
   "source": [
    "\\begin{equation}\n",
    "y = e^{-\\mu x}\n",
    "\\end{equation}"
   ]
  },
  {
   "cell_type": "markdown",
   "id": "significant-portland",
   "metadata": {},
   "source": [
    "\\begin{equation}\n",
    "-ln(y)/\\mu = x\n",
    "\\end{equation}"
   ]
  },
  {
   "cell_type": "code",
   "execution_count": 213,
   "id": "secondary-shipping",
   "metadata": {},
   "outputs": [],
   "source": [
    "lengths = -4*np.log(np.mean(np.mean(bowtie_volume[:,250:450],0),0)/21000)/mu"
   ]
  },
  {
   "cell_type": "code",
   "execution_count": 228,
   "id": "fallen-danish",
   "metadata": {},
   "outputs": [
    {
     "data": {
      "application/vnd.jupyter.widget-view+json": {
       "model_id": "2d6517b9827e48c68e2b2215750afbff",
       "version_major": 2,
       "version_minor": 0
      },
      "text/plain": [
       "Canvas(toolbar=Toolbar(toolitems=[('Home', 'Reset original view', 'home', 'home'), ('Back', 'Back to previous …"
      ]
     },
     "metadata": {},
     "output_type": "display_data"
    },
    {
     "data": {
      "text/plain": [
       "[<matplotlib.lines.Line2D at 0x7fb333d6c990>]"
      ]
     },
     "execution_count": 228,
     "metadata": {},
     "output_type": "execute_result"
    }
   ],
   "source": [
    "plt.figure()\n",
    "# lengths2= concatenate((lengths[:512],lengths[511::-1]))*1\n",
    "plt.plot(lengths)\n"
   ]
  },
  {
   "cell_type": "code",
   "execution_count": 215,
   "id": "unlimited-committee",
   "metadata": {},
   "outputs": [],
   "source": [
    "# cut = 50\n",
    "\n",
    "# xx = np.arange(len(lengths2))\n",
    "\n",
    "# cut_lengths = np.interp(np.linspace(cut,len(xx)-cut,len(xx)),xx,lengths2)\n",
    "\n",
    "# figure();plot(cut_lengths)"
   ]
  },
  {
   "cell_type": "code",
   "execution_count": 216,
   "id": "frequent-hughes",
   "metadata": {},
   "outputs": [],
   "source": [
    "# dist = np.linspace(-256*0.0784 - 0.0392,256*0.0784 - 0.0392, 512) # TODO: fix this gore!!\n",
    "# step = 0.05\n",
    "# dist2 = np.linspace(-256*step - step/2,256*step - step/2, 512) # TODO: fix this gore!!\n",
    "\n",
    "# xx = np.arange(len(lengths2))\n",
    "\n",
    "# cut_lengths = np.interp(dist,dist2,lengths2[::2])\n",
    "\n",
    "# figure();plot(dist,cut_lengths)\n",
    "# plot(dist2,lengths2[::2],'r')"
   ]
  },
  {
   "cell_type": "code",
   "execution_count": 217,
   "id": "aggressive-philip",
   "metadata": {},
   "outputs": [],
   "source": [
    "# Now I just have to find out what the attenuation coefficients are and then I can make an array that has them\n",
    "# In it to just multiply the final output by."
   ]
  },
  {
   "cell_type": "code",
   "execution_count": 218,
   "id": "rotary-terminology",
   "metadata": {},
   "outputs": [],
   "source": [
    "import fastcat.fastcat as fc\n",
    "original_energies_keV = np.array([10,20,30, 40, 50 ,60, 70, 80 ,90 ,100 ,300 ,500 ,700, 900, 1000 ,2000 ,4000 ,6000])"
   ]
  },
  {
   "cell_type": "code",
   "execution_count": 219,
   "id": "educational-sauce",
   "metadata": {},
   "outputs": [],
   "source": [
    "lengths2 = lengths \n",
    "\n",
    "bowtie_filter = np.zeros((len(original_energies_keV),lengths2.shape[0]))\n",
    "bowtie_filter2 = np.zeros((len(original_energies_keV),lengths2.shape[0]))\n",
    "\n",
    "al_map = fc.get_mu(z=14)\n",
    "\n",
    "for ii in range(len(original_energies_keV)):\n",
    "    \n",
    "    bowtie_filter[ii,:] = np.e**(-lengths2*al_map(original_energies_keV[ii]))\n",
    "    bowtie_filter2[ii,:] = lengths2*al_map(original_energies_keV[ii])\n",
    "#     print(al_map(original_energies_keV[ii]))"
   ]
  },
  {
   "cell_type": "code",
   "execution_count": 220,
   "id": "distinct-smart",
   "metadata": {},
   "outputs": [
    {
     "data": {
      "application/vnd.jupyter.widget-view+json": {
       "model_id": "1c4c5953adf245fb96703a2f091c27e2",
       "version_major": 2,
       "version_minor": 0
      },
      "text/plain": [
       "Canvas(toolbar=Toolbar(toolitems=[('Home', 'Reset original view', 'home', 'home'), ('Back', 'Back to previous …"
      ]
     },
     "metadata": {},
     "output_type": "display_data"
    },
    {
     "data": {
      "text/plain": [
       "Text(0, 0.5, '$I/I_0$')"
      ]
     },
     "execution_count": 220,
     "metadata": {},
     "output_type": "execute_result"
    }
   ],
   "source": [
    "plt.figure()\n",
    "plt.plot(bowtie_filter.T);\n",
    "plt.legend(original_energies_keV)\n",
    "plt.xlabel('pixel')\n",
    "plt.ylabel('$I/I_0$')"
   ]
  },
  {
   "cell_type": "code",
   "execution_count": 221,
   "id": "foreign-arlington",
   "metadata": {},
   "outputs": [
    {
     "data": {
      "application/vnd.jupyter.widget-view+json": {
       "model_id": "227551a9b629491fad1575f22d07cd54",
       "version_major": 2,
       "version_minor": 0
      },
      "text/plain": [
       "Canvas(toolbar=Toolbar(toolitems=[('Home', 'Reset original view', 'home', 'home'), ('Back', 'Back to previous …"
      ]
     },
     "metadata": {},
     "output_type": "display_data"
    }
   ],
   "source": [
    "plt.figure()\n",
    "plt.plot(bowtie_filter2.T[::2,:]);\n",
    "\n",
    "bowtie_smaller = bowtie_filter.T[::2,:]\n",
    "bowtie_smaller2 = bowtie_filter2.T[::2,:]"
   ]
  },
  {
   "cell_type": "code",
   "execution_count": 222,
   "id": "human-fellow",
   "metadata": {},
   "outputs": [],
   "source": [
    "np.save('bowtie3',bowtie_smaller)\n",
    "np.save('bowtie3_lengths',bowtie_smaller2)"
   ]
  },
  {
   "cell_type": "code",
   "execution_count": 201,
   "id": "acknowledged-medium",
   "metadata": {},
   "outputs": [],
   "source": [
    "# np.save('bowtie9',bowtie_filter.T)\n",
    "# np.save('bowtie9_lengths',bowtie_filter2.T)"
   ]
  },
  {
   "cell_type": "code",
   "execution_count": 202,
   "id": "green-transcription",
   "metadata": {},
   "outputs": [],
   "source": [
    "!mv bowtie* ../../fastcat/data/filters/"
   ]
  },
  {
   "cell_type": "code",
   "execution_count": 24,
   "id": "floral-idaho",
   "metadata": {},
   "outputs": [
    {
     "data": {
      "application/vnd.jupyter.widget-view+json": {
       "model_id": "e4f1a6f309ca40b196b729fdf8df419c",
       "version_major": 2,
       "version_minor": 0
      },
      "text/plain": [
       "Canvas(toolbar=Toolbar(toolitems=[('Home', 'Reset original view', 'home', 'home'), ('Back', 'Back to previous …"
      ]
     },
     "metadata": {},
     "output_type": "display_data"
    },
    {
     "ename": "ValueError",
     "evalue": "not enough values to unpack (expected 3, got 2)",
     "output_type": "error",
     "traceback": [
      "\u001b[0;31m---------------------------------------------------------------------------\u001b[0m",
      "\u001b[0;31mValueError\u001b[0m                                Traceback (most recent call last)",
      "\u001b[0;32m<ipython-input-24-218c01a3e5f3>\u001b[0m in \u001b[0;36m<module>\u001b[0;34m\u001b[0m\n\u001b[1;32m     29\u001b[0m \u001b[0mX\u001b[0m \u001b[0;34m=\u001b[0m \u001b[0mbowtie_filter\u001b[0m\u001b[0;34m.\u001b[0m\u001b[0mT\u001b[0m\u001b[0;34m\u001b[0m\u001b[0;34m\u001b[0m\u001b[0m\n\u001b[1;32m     30\u001b[0m \u001b[0;34m\u001b[0m\u001b[0m\n\u001b[0;32m---> 31\u001b[0;31m \u001b[0mtracker\u001b[0m \u001b[0;34m=\u001b[0m \u001b[0mIndexTracker\u001b[0m\u001b[0;34m(\u001b[0m\u001b[0max\u001b[0m\u001b[0;34m,\u001b[0m \u001b[0mX\u001b[0m\u001b[0;34m)\u001b[0m\u001b[0;34m\u001b[0m\u001b[0;34m\u001b[0m\u001b[0m\n\u001b[0m\u001b[1;32m     32\u001b[0m \u001b[0;34m\u001b[0m\u001b[0m\n\u001b[1;32m     33\u001b[0m \u001b[0mfig\u001b[0m\u001b[0;34m.\u001b[0m\u001b[0mcanvas\u001b[0m\u001b[0;34m.\u001b[0m\u001b[0mmpl_connect\u001b[0m\u001b[0;34m(\u001b[0m\u001b[0;34m'scroll_event'\u001b[0m\u001b[0;34m,\u001b[0m \u001b[0mtracker\u001b[0m\u001b[0;34m.\u001b[0m\u001b[0monscroll\u001b[0m\u001b[0;34m)\u001b[0m\u001b[0;34m\u001b[0m\u001b[0;34m\u001b[0m\u001b[0m\n",
      "\u001b[0;32m<ipython-input-24-218c01a3e5f3>\u001b[0m in \u001b[0;36m__init__\u001b[0;34m(self, ax, X)\u001b[0m\n\u001b[1;32m      5\u001b[0m \u001b[0;34m\u001b[0m\u001b[0m\n\u001b[1;32m      6\u001b[0m         \u001b[0mself\u001b[0m\u001b[0;34m.\u001b[0m\u001b[0mX\u001b[0m \u001b[0;34m=\u001b[0m \u001b[0mX\u001b[0m\u001b[0;34m\u001b[0m\u001b[0;34m\u001b[0m\u001b[0m\n\u001b[0;32m----> 7\u001b[0;31m         \u001b[0mrows\u001b[0m\u001b[0;34m,\u001b[0m \u001b[0mcols\u001b[0m\u001b[0;34m,\u001b[0m \u001b[0mself\u001b[0m\u001b[0;34m.\u001b[0m\u001b[0mslices\u001b[0m \u001b[0;34m=\u001b[0m \u001b[0mX\u001b[0m\u001b[0;34m.\u001b[0m\u001b[0mshape\u001b[0m\u001b[0;34m\u001b[0m\u001b[0;34m\u001b[0m\u001b[0m\n\u001b[0m\u001b[1;32m      8\u001b[0m         \u001b[0mself\u001b[0m\u001b[0;34m.\u001b[0m\u001b[0mind\u001b[0m \u001b[0;34m=\u001b[0m \u001b[0;36m10\u001b[0m \u001b[0;31m#self.slices//2\u001b[0m\u001b[0;34m\u001b[0m\u001b[0;34m\u001b[0m\u001b[0m\n\u001b[1;32m      9\u001b[0m \u001b[0;34m\u001b[0m\u001b[0m\n",
      "\u001b[0;31mValueError\u001b[0m: not enough values to unpack (expected 3, got 2)"
     ]
    }
   ],
   "source": [
    "class IndexTracker(object):\n",
    "    def __init__(self, ax, X):\n",
    "        self.ax = ax\n",
    "        ax.set_title('use scroll wheel to navigate images')\n",
    "\n",
    "        self.X = X\n",
    "        rows, cols, self.slices = X.shape\n",
    "        self.ind = 10 #self.slices//2\n",
    "\n",
    "        self.im = ax.imshow(self.X[:, :, self.ind],cmap='bone')\n",
    "        self.update()\n",
    "\n",
    "    def onscroll(self, event):\n",
    "        print(\"%s %s\" % (event.button, event.step))\n",
    "        if event.button == 'up':\n",
    "            self.ind = (self.ind + 1) % self.slices\n",
    "        else:\n",
    "            self.ind = (self.ind - 1) % self.slices\n",
    "        self.update()\n",
    "\n",
    "    def update(self):\n",
    "        self.im.set_data(self.X[:, :, self.ind])\n",
    "        ax.set_ylabel('slice %s' % self.ind)\n",
    "        self.im.axes.figure.canvas.draw()\n",
    "\n",
    "fig, ax = plt.subplots(1, 1)\n",
    "\n",
    "# X = np.array(projections.T[:,:,5:])\n",
    "X = bowtie_filter.T\n",
    "\n",
    "tracker = IndexTracker(ax, X)\n",
    "\n",
    "fig.canvas.mpl_connect('scroll_event', tracker.onscroll)\n",
    "plt.show()"
   ]
  },
  {
   "cell_type": "code",
   "execution_count": null,
   "id": "continuing-defendant",
   "metadata": {},
   "outputs": [],
   "source": []
  },
  {
   "cell_type": "markdown",
   "id": "infrared-ferry",
   "metadata": {},
   "source": [
    "# Now lets try to make the flattening filter at a different distance"
   ]
  },
  {
   "cell_type": "code",
   "execution_count": 20,
   "id": "patent-speaker",
   "metadata": {},
   "outputs": [],
   "source": [
    "theta = math.atan(20/150) "
   ]
  },
  {
   "cell_type": "code",
   "execution_count": 21,
   "id": "following-inventory",
   "metadata": {},
   "outputs": [],
   "source": [
    "h = math.tan(theta)*30"
   ]
  },
  {
   "cell_type": "code",
   "execution_count": 22,
   "id": "accredited-coating",
   "metadata": {},
   "outputs": [
    {
     "name": "stdout",
     "output_type": "stream",
     "text": [
      "4.0\n"
     ]
    }
   ],
   "source": [
    "print(h)"
   ]
  },
  {
   "cell_type": "code",
   "execution_count": 23,
   "id": "coordinated-triple",
   "metadata": {},
   "outputs": [],
   "source": [
    "# So the whole thing should be about 8 cm if it is at a depth of 30 cm"
   ]
  },
  {
   "cell_type": "code",
   "execution_count": 27,
   "id": "considerable-ferry",
   "metadata": {},
   "outputs": [
    {
     "data": {
      "application/vnd.jupyter.widget-view+json": {
       "model_id": "d42980db8e834d3d98f2f8c64f080b9b",
       "version_major": 2,
       "version_minor": 0
      },
      "text/plain": [
       "Canvas(toolbar=Toolbar(toolitems=[('Home', 'Reset original view', 'home', 'home'), ('Back', 'Back to previous …"
      ]
     },
     "metadata": {},
     "output_type": "display_data"
    },
    {
     "data": {
      "text/plain": [
       "[<matplotlib.lines.Line2D at 0x7fca569dcfd0>]"
      ]
     },
     "execution_count": 27,
     "metadata": {},
     "output_type": "execute_result"
    }
   ],
   "source": [
    "figure();plot(lengths[::16])"
   ]
  },
  {
   "cell_type": "code",
   "execution_count": 28,
   "id": "wicked-processor",
   "metadata": {},
   "outputs": [
    {
     "name": "stdout",
     "output_type": "stream",
     "text": [
      "[1.8102956  1.8081605  1.8027607  1.801784   1.7953762  1.7889802\n",
      " 1.778515   1.7596264  1.7287586  1.6916375  1.6405048  1.5691274\n",
      " 1.4293513  1.1626906  0.9428454  0.78842276 0.66576225 0.56037635\n",
      " 0.47512865 0.39989367 0.33571047 0.27865955 0.23026493 0.1892935\n",
      " 0.15276453 0.12075748 0.09490971 0.07204794 0.05557918 0.0429252\n",
      " 0.03340923 0.03031756 0.03127966 0.03590642 0.04718997 0.06070281\n",
      " 0.08167531 0.10240576 0.1309255  0.16372308 0.20298778 0.2451347\n",
      " 0.29695696 0.35479975 0.4244624  0.49965295 0.5889652  0.693369\n",
      " 0.82158846 0.98529536 1.2199944  1.4597743  1.577745   1.6469797\n",
      " 1.6940248  1.7308096  1.7609013  1.7829177  1.7966682  1.8079659\n",
      " 1.8156284  1.8219752  1.8307741  1.8433745 ]\n"
     ]
    }
   ],
   "source": [
    "lengths_small = lengths[::16]\n",
    "\n",
    "print(lengths_small)"
   ]
  },
  {
   "cell_type": "code",
   "execution_count": 32,
   "id": "compressed-pioneer",
   "metadata": {},
   "outputs": [
    {
     "name": "stdout",
     "output_type": "stream",
     "text": [
      "[0.         0.12698413 0.25396825 0.38095238 0.50793651 0.63492063\n",
      " 0.76190476 0.88888889 1.01587302 1.14285714 1.26984127 1.3968254\n",
      " 1.52380952 1.65079365 1.77777778 1.9047619  2.03174603 2.15873016\n",
      " 2.28571429 2.41269841 2.53968254 2.66666667 2.79365079 2.92063492\n",
      " 3.04761905 3.17460317 3.3015873  3.42857143 3.55555556 3.68253968\n",
      " 3.80952381 3.93650794 4.06349206 4.19047619 4.31746032 4.44444444\n",
      " 4.57142857 4.6984127  4.82539683 4.95238095 5.07936508 5.20634921\n",
      " 5.33333333 5.46031746 5.58730159 5.71428571 5.84126984 5.96825397\n",
      " 6.0952381  6.22222222 6.34920635 6.47619048 6.6031746  6.73015873\n",
      " 6.85714286 6.98412698 7.11111111 7.23809524 7.36507937 7.49206349\n",
      " 7.61904762 7.74603175 7.87301587 8.        ]\n"
     ]
    }
   ],
   "source": [
    "print(np.linspace(0,8,64))"
   ]
  },
  {
   "cell_type": "code",
   "execution_count": 30,
   "id": "medieval-budapest",
   "metadata": {},
   "outputs": [
    {
     "data": {
      "text/plain": [
       "64"
      ]
     },
     "execution_count": 30,
     "metadata": {},
     "output_type": "execute_result"
    }
   ],
   "source": [
    "len(lengths_small)"
   ]
  },
  {
   "cell_type": "code",
   "execution_count": 33,
   "id": "reverse-console",
   "metadata": {},
   "outputs": [
    {
     "data": {
      "text/plain": [
       "array([0.        , 0.12698413, 0.25396825, 0.38095238, 0.50793651,\n",
       "       0.63492063, 0.76190476, 0.88888889, 1.01587302, 1.14285714,\n",
       "       1.26984127, 1.3968254 , 1.52380952, 1.65079365, 1.77777778,\n",
       "       1.9047619 , 2.03174603, 2.15873016, 2.28571429, 2.41269841,\n",
       "       2.53968254, 2.66666667, 2.79365079, 2.92063492, 3.04761905,\n",
       "       3.17460317, 3.3015873 , 3.42857143, 3.55555556, 3.68253968,\n",
       "       3.80952381, 3.93650794, 4.06349206, 4.19047619, 4.31746032,\n",
       "       4.44444444, 4.57142857, 4.6984127 , 4.82539683, 4.95238095,\n",
       "       5.07936508, 5.20634921, 5.33333333, 5.46031746, 5.58730159,\n",
       "       5.71428571, 5.84126984, 5.96825397, 6.0952381 , 6.22222222,\n",
       "       6.34920635, 6.47619048, 6.6031746 , 6.73015873, 6.85714286,\n",
       "       6.98412698, 7.11111111, 7.23809524, 7.36507937, 7.49206349,\n",
       "       7.61904762, 7.74603175, 7.87301587, 8.        ])"
      ]
     },
     "execution_count": 33,
     "metadata": {},
     "output_type": "execute_result"
    }
   ],
   "source": [
    "np.linspace(0,8,64)"
   ]
  },
  {
   "cell_type": "code",
   "execution_count": null,
   "id": "colored-stand",
   "metadata": {},
   "outputs": [],
   "source": [
    "0.          0.12698413  0.25396825  0.38095238  0.50793651 0.63492063  0.76190476  0.88888889  1.01587302  1.14285714 1.26984127  1.3968254   1.52380952  1.65079365  1.77777778 1.9047619   2.03174603  2.15873016  2.28571429  2.41269841 2.53968254  2.66666667  2.79365079  2.92063492  3.04761905 3.17460317  3.3015873   3.42857143  3.55555556  3.68253968 3.80952381  3.93650794  4.06349206  4.19047619  4.31746032 4.44444444  4.57142857  4.6984127   4.82539683  4.95238095 5.07936508  5.20634921  5.33333333  5.46031746  5.58730159 5.71428571  5.84126984  5.96825397  6.0952381   6.22222222 6.34920635  6.47619048  6.6031746   6.73015873  6.85714286 6.98412698  7.11111111  7.23809524  7.36507937  7.49206349 7.61904762  7.74603175  7.87301587  8."
   ]
  }
 ],
 "metadata": {
  "kernelspec": {
   "display_name": "Python 3",
   "language": "python",
   "name": "python3"
  },
  "language_info": {
   "codemirror_mode": {
    "name": "ipython",
    "version": 3
   },
   "file_extension": ".py",
   "mimetype": "text/x-python",
   "name": "python",
   "nbconvert_exporter": "python",
   "pygments_lexer": "ipython3",
   "version": "3.7.6"
  }
 },
 "nbformat": 4,
 "nbformat_minor": 5
}
