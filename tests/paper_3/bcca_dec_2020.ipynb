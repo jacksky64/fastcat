{
 "cells": [
  {
   "cell_type": "code",
   "execution_count": 1,
   "metadata": {},
   "outputs": [
    {
     "name": "stdout",
     "output_type": "stream",
     "text": [
      "Populating the interactive namespace from numpy and matplotlib\n"
     ]
    }
   ],
   "source": [
    "%pylab widget\n",
    "%load_ext autoreload\n",
    "%autoreload 2\n",
    "\n",
    "from analysis_functions import *\n",
    "import fastcat.fastcat as fc\n",
    "\n",
    "from scipy.optimize import minimize"
   ]
  },
  {
   "cell_type": "markdown",
   "metadata": {},
   "source": [
    "# First lets look at the GOS"
   ]
  },
  {
   "cell_type": "code",
   "execution_count": 6,
   "metadata": {},
   "outputs": [
    {
     "name": "stdout",
     "output_type": "stream",
     "text": [
      "(19, 41, 41) 19\n",
      "bowtie is off False\n",
      "really doing it!\n",
      "ratio is 1616.4323384243048 number of photons 0.010763158668836276\n"
     ]
    }
   ],
   "source": [
    "nviews = 493 \n",
    "\n",
    "s = fc.Spectrum()\n",
    "s.load('Varian_truebeam_phasespace')\n",
    "kernel = fc.Kernel(s,'CuGOS-784-micrometer')\n",
    "angles = np.linspace(0,np.pi*2,nviews)\n",
    "\n",
    "phantom = fc.Catphan_404()\n",
    "phantom.phan_map = ['air','CATPHAN_Polystyrene','CATPHAN_Acrylic','CATPHAN_Acrylic','CATPHAN_Delrin','CATPHAN_Acrylic','CATPHAN_Teflon_revised','air','CATPHAN_PMP','CATPHAN_Acrylic','CATPHAN_LDPE','CATPHAN_Acrylic','CATPHAN_Polystyrene','air','CATPHAN_Acrylic'] \n",
    "phantom.return_projs(kernel,s,angles,det_on=True,scat_on=False,mgy=1.39*300/nviews)\n",
    "phantom.reconstruct('FDK',filt='ram_lak')\n",
    "\n",
    "slice_recon = phantom.img[5]"
   ]
  },
  {
   "cell_type": "code",
   "execution_count": 3,
   "metadata": {},
   "outputs": [],
   "source": [
    "# np.save('recons/6x_gos_recon_ram_lak_360',phantom.img[4])\n",
    "# slice_recon = np.load('recons/6x_gos_recon_ram_lak_360.npy')"
   ]
  },
  {
   "cell_type": "code",
   "execution_count": 8,
   "metadata": {},
   "outputs": [
    {
     "data": {
      "application/vnd.jupyter.widget-view+json": {
       "model_id": "36ff8876b27a42138bcbf6d9d1dc1698",
       "version_major": 2,
       "version_minor": 0
      },
      "text/plain": [
       "Canvas(toolbar=Toolbar(toolitems=[('Home', 'Reset original view', 'home', 'home'), ('Back', 'Back to previous …"
      ]
     },
     "metadata": {},
     "output_type": "display_data"
    }
   ],
   "source": [
    "plt.figure()\n",
    "plt.imshow((slice_recon),cmap = 'gray')#,vmax=0.10,vmin=0.03)\n",
    "\n",
    "recon_slice = slice_recon\n",
    "im = create_mask(recon_slice.shape,r=5.75)\n",
    "contrast = []\n",
    "CNR_fc = []\n",
    "\n",
    "for ii in range(2,int(np.max(im)+1)):\n",
    "    \n",
    "    contrast.append(np.mean(recon_slice[im == ii]))\n",
    "    CNR_fc.append(contrast[-1]/np.sqrt(np.std(recon_slice[im == ii])**2 + np.std(recon_slice[im == 3])**2))\n",
    "# Get rid of the delrin\n",
    "cc = np.array(sorted(contrast))\n",
    "star_data = np.array(star_data_gos[1::2])\n",
    "CNR_fc = np.array(CNR_fc)[np.argsort(contrast)]"
   ]
  },
  {
   "cell_type": "code",
   "execution_count": 9,
   "metadata": {},
   "outputs": [
    {
     "data": {
      "application/vnd.jupyter.widget-view+json": {
       "model_id": "b499bf9ca57a4acc869839f4707d5be5",
       "version_major": 2,
       "version_minor": 0
      },
      "text/plain": [
       "Canvas(toolbar=Toolbar(toolitems=[('Home', 'Reset original view', 'home', 'home'), ('Back', 'Back to previous …"
      ]
     },
     "metadata": {},
     "output_type": "display_data"
    },
    {
     "data": {
      "text/plain": [
       "<matplotlib.image.AxesImage at 0x7f91ebcedfd0>"
      ]
     },
     "execution_count": 9,
     "metadata": {},
     "output_type": "execute_result"
    }
   ],
   "source": [
    "bcca_recon = np.load('/home/xcite/MV_CBCT/recon_6x_300.npy')\n",
    "\n",
    "plt.figure()\n",
    "plt.imshow(np.rot90(bcca_recon.T[45],2),vmax=0.012,cmap='gray')"
   ]
  },
  {
   "cell_type": "code",
   "execution_count": 10,
   "metadata": {},
   "outputs": [],
   "source": [
    "recon_slice = np.rot90(bcca_recon.T[45],2)\n",
    "im = create_mask(recon_slice.shape,off =[-0.2,0], r= 5.8)\n",
    "contrast = []\n",
    "CNR = []\n",
    "\n",
    "for ii in range(2,int(np.max(im)+1)):\n",
    "    \n",
    "    contrast.append(np.mean(recon_slice[im == ii]))\n",
    "    CNR.append(contrast[-1]/np.sqrt(np.std(recon_slice[im == ii])**2 + np.std(recon_slice[im == 3])**2))\n",
    "\n",
    "bcca_data = np.array(sorted(contrast))\n",
    "CNR_bcca = np.array(CNR)[np.argsort(contrast)]"
   ]
  },
  {
   "cell_type": "code",
   "execution_count": 13,
   "metadata": {},
   "outputs": [
    {
     "data": {
      "application/vnd.jupyter.widget-view+json": {
       "model_id": "76dc03b1a2b943f5a295bc0664715482",
       "version_major": 2,
       "version_minor": 0
      },
      "text/plain": [
       "Canvas(toolbar=Toolbar(toolitems=[('Home', 'Reset original view', 'home', 'home'), ('Back', 'Back to previous …"
      ]
     },
     "metadata": {},
     "output_type": "display_data"
    },
    {
     "data": {
      "text/plain": [
       "[<matplotlib.lines.Line2D at 0x7f91ebc23890>]"
      ]
     },
     "execution_count": 13,
     "metadata": {},
     "output_type": "execute_result"
    }
   ],
   "source": [
    "plt.figure()\n",
    "plt.plot(CNR_bcca)\n",
    "plt.plot(CNR_fc/2,'r')"
   ]
  },
  {
   "cell_type": "markdown",
   "metadata": {},
   "source": [
    "# Now lets load the experimental data which was generated in ~/MV_CBCT and saved as a npy file"
   ]
  },
  {
   "cell_type": "code",
   "execution_count": 14,
   "metadata": {},
   "outputs": [],
   "source": [
    "recon_slice = np.rot90(bcca_recon.T[45],2)\n",
    "im = create_mask(recon_slice.shape,off =[-0.2,0], r= 5.8)\n",
    "contrast = []\n",
    "CNR = []\n",
    "\n",
    "for ii in range(2,int(np.max(im)+1)):\n",
    "    \n",
    "    contrast.append(np.mean(recon_slice[im == ii]))\n",
    "    CNR.append(contrast[-1]/np.sqrt(np.std(recon_slice[im == ii])**2 + np.std(recon_slice[im == 3])**2))\n",
    "\n",
    "bcca_data = np.array(sorted(contrast))\n",
    "CNR_data = np.array(CNR)[np.argsort(contrast)]"
   ]
  },
  {
   "cell_type": "code",
   "execution_count": 15,
   "metadata": {},
   "outputs": [
    {
     "data": {
      "application/vnd.jupyter.widget-view+json": {
       "model_id": "b9047b91fc6a47018f0b264c3761a263",
       "version_major": 2,
       "version_minor": 0
      },
      "text/plain": [
       "Canvas(toolbar=Toolbar(toolitems=[('Home', 'Reset original view', 'home', 'home'), ('Back', 'Back to previous …"
      ]
     },
     "metadata": {},
     "output_type": "display_data"
    },
    {
     "data": {
      "text/plain": [
       "[<matplotlib.lines.Line2D at 0x7f91ebaea590>]"
      ]
     },
     "execution_count": 15,
     "metadata": {},
     "output_type": "execute_result"
    }
   ],
   "source": [
    "plt.figure()\n",
    "plt.plot(CNR)\n",
    "# plt.plot(np.array(contrast)[np.argsort(contrast)])"
   ]
  },
  {
   "cell_type": "code",
   "execution_count": 16,
   "metadata": {},
   "outputs": [
    {
     "data": {
      "application/vnd.jupyter.widget-view+json": {
       "model_id": "e68a0766700540af9dad3a949834efe8",
       "version_major": 2,
       "version_minor": 0
      },
      "text/plain": [
       "Canvas(toolbar=Toolbar(toolitems=[('Home', 'Reset original view', 'home', 'home'), ('Back', 'Back to previous …"
      ]
     },
     "metadata": {},
     "output_type": "display_data"
    },
    {
     "data": {
      "text/plain": [
       "[<matplotlib.lines.Line2D at 0x7f91eb9ad510>]"
      ]
     },
     "execution_count": 16,
     "metadata": {},
     "output_type": "execute_result"
    }
   ],
   "source": [
    "def HU_fun(a,x,y):\n",
    "    return np.sum(np.abs((x - a[0])*(a[1]) - y))\n",
    "\n",
    "# bcca_data = bcca_data[np.arange(len(contrast)) !=6 ]\n",
    "# cc = cc[np.arange(len(contrast)) != 6 ]\n",
    "\n",
    "res = minimize(HU_fun,[cc[0],cc[3]],args=(cc,bcca_data))\n",
    "\n",
    "\n",
    "x = [0,0,.853,0.945,.998,1.147,1.36,1.87]\n",
    "fc_data = (cc - res.x[0])*(res.x[1])\n",
    "\n",
    "plt.figure()\n",
    "plt.plot(x,fc_data,'s',c='cornflowerblue',label='fastCAT')\n",
    "plt.plot(x,bcca_data,'s',c='darkorange',label='Star-lack')\n",
    "\n",
    "# fc_data = (cc - res.x[0])/(res.x[1] - res.x[0])*-1000\n",
    "\n",
    "# xx = np.linspace(0,max(x),100)\n",
    "# pp = np.polyfit(x,fc_data,1,full=1)\n",
    "# qq = np.polyfit(x,bcca_data,1,full=1)\n",
    "# yy = np.polyval(pp[0],xx)\n",
    "# zz = np.polyval(qq[0],xx)\n",
    "\n",
    "# plt.ylabel('HU')\n",
    "# plt.xlabel('Relative electron density')\n",
    "# plt.title('CWO')\n",
    "# plt.xticks(x,['air1','air2','PMP','LDPE','Poly','Acrylic','Delrin','Teflon'],rotation=75)\n",
    "# plt.plot(xx,yy,':',c='cornflowerblue',lw=0.8)\n",
    "# plt.plot(xx,zz,'-.',c='darkorange',lw = 0.8)\n",
    "# plt.legend()\n",
    "# plt.tight_layout()\n",
    "# plt.savefig('initial_cwo')"
   ]
  },
  {
   "cell_type": "code",
   "execution_count": 16,
   "metadata": {},
   "outputs": [
    {
     "data": {
      "application/vnd.jupyter.widget-view+json": {
       "model_id": "dcafb36101af475fac0fcdecf3fce955",
       "version_major": 2,
       "version_minor": 0
      },
      "text/plain": [
       "Canvas(toolbar=Toolbar(toolitems=[('Home', 'Reset original view', 'home', 'home'), ('Back', 'Back to previous …"
      ]
     },
     "metadata": {},
     "output_type": "display_data"
    },
    {
     "data": {
      "text/plain": [
       "Text(0.5, 1.0, 'Experimental Validation 6 MV 100MU')"
      ]
     },
     "execution_count": 16,
     "metadata": {},
     "output_type": "execute_result"
    }
   ],
   "source": [
    "plt.figure()\n",
    "scale, offset, offset2 = 19.8, 0.00650, 0.057\n",
    "plt.plot(scale*(bcca_data - offset),'rx')\n",
    "plt.plot(cc - offset2,'kx')\n",
    "plt.ylabel('Machine Output Value [??]')\n",
    "plt.xlabel('Material')\n",
    "plt.legend(['BCCA data','fastCAT'])\n",
    "plt.title('Experimental Validation 6 MV 100MU')"
   ]
  },
  {
   "cell_type": "code",
   "execution_count": 10,
   "metadata": {},
   "outputs": [
    {
     "data": {
      "text/plain": [
       "array([0.99978516])"
      ]
     },
     "execution_count": 10,
     "metadata": {},
     "output_type": "execute_result"
    }
   ],
   "source": [
    "1-pp[1]/np.std(fc_data)**2"
   ]
  },
  {
   "cell_type": "code",
   "execution_count": 11,
   "metadata": {},
   "outputs": [
    {
     "data": {
      "text/plain": [
       "array([1.])"
      ]
     },
     "execution_count": 11,
     "metadata": {},
     "output_type": "execute_result"
    }
   ],
   "source": [
    "1-qq[1]/np.std(star_data)**2"
   ]
  },
  {
   "cell_type": "markdown",
   "metadata": {},
   "source": [
    "# Now lets look at the kV data "
   ]
  },
  {
   "cell_type": "code",
   "execution_count": 51,
   "metadata": {},
   "outputs": [],
   "source": [
    "nviews = 916 # That is how many are in the file "
   ]
  },
  {
   "cell_type": "code",
   "execution_count": 52,
   "metadata": {},
   "outputs": [
    {
     "name": "stdout",
     "output_type": "stream",
     "text": [
      "(19, 19, 19) 19\n"
     ]
    }
   ],
   "source": [
    "s = fc.calculate_spectrum(100, 12, 3, 50,monitor=None)\n",
    "s.attenuate(0.2,fc.get_mu(z=13))\n",
    "kernel = fc.Kernel(s,'CsI-784-micrometer')\n",
    "angles = np.linspace(0,np.pi*2,nviews)        "
   ]
  },
  {
   "cell_type": "code",
   "execution_count": 80,
   "metadata": {},
   "outputs": [
    {
     "name": "stdout",
     "output_type": "stream",
     "text": [
      "bowtie is off False\n",
      "Using the bowtie filter True\n",
      "really doing it!\n",
      "ratio is 5408.180769391652 number of photons 0.7874215885840448\n"
     ]
    }
   ],
   "source": [
    "phantom = fc.Catphan_404()\n",
    "phantom.phan_map = ['air','CATPHAN_Polystyrene','CATPHAN_Acrylic','CATPHAN_Acrylic','CATPHAN_Delrin','CATPHAN_Acrylic','CATPHAN_Teflon_revised','air','CATPHAN_PMP','CATPHAN_Acrylic','CATPHAN_LDPE','CATPHAN_Acrylic','CATPHAN_Polystyrene','air','CATPHAN_Acrylic'] \n",
    "phantom.return_projs(kernel,s,angles,det_on=True,scat_on=False,mgy=10*1.219*21.9/nviews,bowtie=True)\n",
    "phantom.reconstruct('FDK',filt='ram_lak')"
   ]
  },
  {
   "cell_type": "code",
   "execution_count": 81,
   "metadata": {},
   "outputs": [],
   "source": [
    "# np.save('recons/kV_CsI_recon_ram_lak_360',phantom.img[4])\n",
    "# slice_recon = np.load('recons/.npy')\n",
    "# slice_recon = phantom.img[4]"
   ]
  },
  {
   "cell_type": "code",
   "execution_count": 82,
   "metadata": {},
   "outputs": [],
   "source": [
    "# np.save('recon_no_bowtie',slice_recon)"
   ]
  },
  {
   "cell_type": "code",
   "execution_count": 99,
   "metadata": {},
   "outputs": [
    {
     "data": {
      "application/vnd.jupyter.widget-view+json": {
       "model_id": "05188f14634e42fa9fc8a76976fbbeab",
       "version_major": 2,
       "version_minor": 0
      },
      "text/plain": [
       "Canvas(toolbar=Toolbar(toolitems=[('Home', 'Reset original view', 'home', 'home'), ('Back', 'Back to previous …"
      ]
     },
     "metadata": {},
     "output_type": "display_data"
    }
   ],
   "source": [
    "plt.figure()\n",
    "plt.imshow(np.rot90(slice_recon))\n",
    "\n",
    "recon_slice = slice_recon\n",
    "im = create_mask(recon_slice.shape,r=5.75)\n",
    "contrast = []\n",
    "CNR = []\n",
    "noise = []\n",
    "\n",
    "for ii in range(2,int(np.max(im)+1)):\n",
    "    contrast.append(np.mean(recon_slice[im == ii]))\n",
    "    CNR.append(contrast[-1]/np.sqrt(np.std(recon_slice[im == ii])**2 + np.std(recon_slice[im == 3])**2))\n",
    "    noise.append(np.std(recon_slice[im == ii]))\n",
    "    \n",
    "# Get rid of the delrin\n",
    "cc = np.array(sorted(contrast))[np.arange(len(contrast))]\n",
    "cc_CNR = np.array(CNR)[np.argsort(contrast)]\n",
    "cc_noise = np.array(noise)[np.argsort(contrast)]"
   ]
  },
  {
   "cell_type": "markdown",
   "metadata": {},
   "source": [
    "# Now lets load the experimental kV data which was generated in ~/MV_CBCT and saved as a npy file"
   ]
  },
  {
   "cell_type": "code",
   "execution_count": 25,
   "metadata": {},
   "outputs": [
    {
     "data": {
      "application/vnd.jupyter.widget-view+json": {
       "model_id": "",
       "version_major": 2,
       "version_minor": 0
      },
      "text/plain": [
       "Canvas(toolbar=Toolbar(toolitems=[('Home', 'Reset original view', 'home', 'home'), ('Back', 'Back to previous …"
      ]
     },
     "metadata": {},
     "output_type": "display_data"
    },
    {
     "data": {
      "text/plain": [
       "<matplotlib.image.AxesImage at 0x7f70a340e6d0>"
      ]
     },
     "execution_count": 25,
     "metadata": {},
     "output_type": "execute_result"
    }
   ],
   "source": [
    "bcca_recon = np.load('/home/xcite/MV_CBCT/jericho_data/dicom_volume.npy')\n",
    "\n",
    "plt.figure()\n",
    "plt.imshow(np.rot90(bcca_recon.T[50],2))"
   ]
  },
  {
   "cell_type": "code",
   "execution_count": 92,
   "metadata": {},
   "outputs": [],
   "source": [
    "recon_slice = np.rot90(bcca_recon.T[50])\n",
    "im = create_mask(recon_slice.shape,off = [-0.1,-0.02], r= 4.45, radius = 0.3)\n",
    "contrast = []\n",
    "CNR = []\n",
    "noise = []\n",
    "\n",
    "for ii in range(2,int(np.max(im)+1)):\n",
    "    \n",
    "    contrast.append(np.mean(recon_slice[im == ii]))\n",
    "    CNR.append(contrast[-1]/np.sqrt(np.std(recon_slice[im == ii])**2 + np.std(recon_slice[im == 3])**2))\n",
    "    noise.append(np.std(recon_slice[im == ii]))\n",
    "    \n",
    "# Get rid of the delrin\n",
    "bcca_noise = np.array(noise)[np.argsort(contrast)]\n",
    "bcca_data = np.array(sorted(contrast))\n",
    "CNR_data = np.array(CNR)[np.argsort(contrast)]"
   ]
  },
  {
   "cell_type": "markdown",
   "metadata": {},
   "source": [
    "plt.figure()\n",
    "recon_slice[im != 0] = 0\n",
    "plt.imshow(recon_slice)\n",
    "\n",
    "plt.figure()\n",
    "recon_slice[im != 0] = 0\n",
    "plt.imshow(recon_slice)"
   ]
  },
  {
   "cell_type": "code",
   "execution_count": 93,
   "metadata": {},
   "outputs": [
    {
     "data": {
      "application/vnd.jupyter.widget-view+json": {
       "model_id": "2e1f150d8cdc4ab4908cb051d709abc4",
       "version_major": 2,
       "version_minor": 0
      },
      "text/plain": [
       "Canvas(toolbar=Toolbar(toolitems=[('Home', 'Reset original view', 'home', 'home'), ('Back', 'Back to previous …"
      ]
     },
     "metadata": {},
     "output_type": "display_data"
    },
    {
     "data": {
      "text/plain": [
       "<matplotlib.legend.Legend at 0x7fa267cf8e90>"
      ]
     },
     "execution_count": 93,
     "metadata": {},
     "output_type": "execute_result"
    }
   ],
   "source": [
    "def HU_fun(a,x,y):\n",
    "    return np.sum(np.abs((x - a[0])*(a[1]) - y))\n",
    "\n",
    "# bcca_data = bcca_data[np.arange(len(contrast)) !=6 ]\n",
    "# cc = cc[np.arange(len(contrast)) != 6 ]\n",
    "\n",
    "res = minimize(HU_fun,[cc[0],6600],args=(cc,bcca_data),method = 'COBYLA')\n",
    "\n",
    "# x = [0,0,.853,0.945,.998,1.147,1.87]\n",
    "            \n",
    "fc_data = (cc - res.x[0])*(res.x[1])\n",
    "\n",
    "x = [0,0,.853,0.945,.998,1.147,1.36,1.87]\n",
    "plt.figure()\n",
    "plt.plot(x,bcca_data,'s',c='darkorange',label='')\n",
    "plt.plot(x,fc_data,'*',c='cornflowerblue',label='fastCAT')\n",
    "plt.legend()"
   ]
  },
  {
   "cell_type": "code",
   "execution_count": 95,
   "metadata": {},
   "outputs": [
    {
     "data": {
      "application/vnd.jupyter.widget-view+json": {
       "model_id": "21bbc40b35d541be969f8b6223e1087d",
       "version_major": 2,
       "version_minor": 0
      },
      "text/plain": [
       "Canvas(toolbar=Toolbar(toolitems=[('Home', 'Reset original view', 'home', 'home'), ('Back', 'Back to previous …"
      ]
     },
     "metadata": {},
     "output_type": "display_data"
    },
    {
     "data": {
      "application/vnd.jupyter.widget-view+json": {
       "model_id": "a3149d38356b43ed9469c13e9eef1bad",
       "version_major": 2,
       "version_minor": 0
      },
      "text/plain": [
       "Canvas(toolbar=Toolbar(toolitems=[('Home', 'Reset original view', 'home', 'home'), ('Back', 'Back to previous …"
      ]
     },
     "metadata": {},
     "output_type": "display_data"
    },
    {
     "data": {
      "text/plain": [
       "[<matplotlib.lines.Line2D at 0x7fa267b7a950>]"
      ]
     },
     "execution_count": 95,
     "metadata": {},
     "output_type": "execute_result"
    }
   ],
   "source": [
    "plt.figure()\n",
    "plt.plot(CNR_data)\n",
    "plt.plot(cc_CNR,'r')\n",
    "# plt.plot(CNR_fc,'r')"
   ]
  },
  {
   "cell_type": "code",
   "execution_count": 98,
   "metadata": {},
   "outputs": [
    {
     "data": {
      "application/vnd.jupyter.widget-view+json": {
       "model_id": "9baa8b95273c46569ca3f59614eb0ba4",
       "version_major": 2,
       "version_minor": 0
      },
      "text/plain": [
       "Canvas(toolbar=Toolbar(toolitems=[('Home', 'Reset original view', 'home', 'home'), ('Back', 'Back to previous …"
      ]
     },
     "metadata": {},
     "output_type": "display_data"
    },
    {
     "data": {
      "text/plain": [
       "[<matplotlib.lines.Line2D at 0x7fa26783c310>]"
      ]
     },
     "execution_count": 98,
     "metadata": {},
     "output_type": "execute_result"
    }
   ],
   "source": [
    "plt.figure()\n",
    "plt.plot(1000*cc_noise)\n",
    "plt.plot(bcca_noise,'r')\n",
    "# plt.plot(CNR_fc,'r')"
   ]
  },
  {
   "cell_type": "code",
   "execution_count": 218,
   "metadata": {},
   "outputs": [
    {
     "data": {
      "application/vnd.jupyter.widget-view+json": {
       "model_id": "74a134e5b4d8465eb9f619112fcd7c79",
       "version_major": 2,
       "version_minor": 0
      },
      "text/plain": [
       "Canvas(toolbar=Toolbar(toolitems=[('Home', 'Reset original view', 'home', 'home'), ('Back', 'Back to previous …"
      ]
     },
     "metadata": {},
     "output_type": "display_data"
    },
    {
     "data": {
      "text/plain": [
       "<matplotlib.legend.Legend at 0x7fc0138b3490>"
      ]
     },
     "execution_count": 218,
     "metadata": {},
     "output_type": "execute_result"
    }
   ],
   "source": [
    "def HU_fun(a,x,y):\n",
    "    return np.mean(np.abs((x - a[0])/(a[1] - a[0])*-1000 +1000 - y))\n",
    "\n",
    "bcca_revised = bcca_data\n",
    "cc2 = cc\n",
    "\n",
    "res = minimize(HU_fun,[cc2[3],0.1*cc2[0]],args=(cc2,bcca_revised))\n",
    "\n",
    "x = [0,0,.853,0.945,.998,1.147,1.87]\n",
    "            \n",
    "fc_data = (cc2 - res.x[0])/(res.x[1] - res.x[0])*-1000 + 1000\n",
    "x = [0,0,.853,0.945,.998,1.147,1.36,1.87]\n",
    "plt.figure()\n",
    "plt.plot(x,bcca_revised,'s',c='darkorange',label='Star-lack')\n",
    "plt.plot(x,fc_data,'r*',c='cornflowerblue',label='fastCAT')\n",
    "plt.legend()"
   ]
  },
  {
   "cell_type": "code",
   "execution_count": 163,
   "metadata": {},
   "outputs": [
    {
     "data": {
      "text/plain": [
       "      fun: 18.501660223129925\n",
       " hess_inv: array([[ 3.73296625e-05, -1.30796365e-04],\n",
       "       [-1.30796365e-04,  4.58785464e-04]])\n",
       "      jac: array([0., 0.])\n",
       "  message: 'Optimization terminated successfully.'\n",
       "     nfev: 42\n",
       "      nit: 3\n",
       "     njev: 14\n",
       "   status: 0\n",
       "  success: True\n",
       "        x: array([0.2180453 , 0.01511759])"
      ]
     },
     "execution_count": 163,
     "metadata": {},
     "output_type": "execute_result"
    }
   ],
   "source": [
    "res"
   ]
  },
  {
   "cell_type": "code",
   "execution_count": 68,
   "metadata": {},
   "outputs": [],
   "source": [
    "fc_data = (cc - res.x[0])/(res.x[1] - res.x[0])*-1000\n",
    "\n",
    "xx = np.linspace(0,max(x),100)\n",
    "pp = np.polyfit(x,fc_data,1,full=1)\n",
    "qq = np.polyfit(x,bcca_data,1,full=1)\n",
    "yy = np.polyval(pp[0],xx)\n",
    "zz = np.polyval(qq[0],xx)\n",
    "\n",
    "plt.ylabel('HU')\n",
    "plt.xlabel('Relative electron density')\n",
    "plt.title('CWO')\n",
    "plt.xticks(x,['air1','air2','PMP','LDPE','Poly','Acrylic','Delrin','Teflon'],rotation=75)\n",
    "plt.plot(xx,yy,':',c='cornflowerblue',lw=0.8)\n",
    "plt.plot(xx,zz,'-.',c='darkorange',lw = 0.8)\n",
    "plt.legend()\n",
    "plt.tight_layout()\n",
    "plt.savefig('initial_cwo')"
   ]
  },
  {
   "cell_type": "code",
   "execution_count": 172,
   "metadata": {},
   "outputs": [
    {
     "data": {
      "application/vnd.jupyter.widget-view+json": {
       "model_id": "7ed19fad09d14b3d923963d5ed67651c",
       "version_major": 2,
       "version_minor": 0
      },
      "text/plain": [
       "Canvas(toolbar=Toolbar(toolitems=[('Home', 'Reset original view', 'home', 'home'), ('Back', 'Back to previous …"
      ]
     },
     "metadata": {},
     "output_type": "display_data"
    },
    {
     "data": {
      "text/plain": [
       "Text(0.5, 1.0, 'Experimental Validation 6 MV 100MU')"
      ]
     },
     "execution_count": 172,
     "metadata": {},
     "output_type": "execute_result"
    }
   ],
   "source": [
    "plt.figure()\n",
    "scale, offset, offset2 = 16.5, 0.00650, 0.057\n",
    "plt.plot(scale*(bcca_data - offset),'rx')\n",
    "plt.plot(cc - offset2,'kx')\n",
    "plt.xlabel('Machine Output Value [??]')\n",
    "plt.ylabel('Material')\n",
    "plt.legend(['BCCA data','fastCAT'])\n",
    "plt.title('Experimental Validation 6 MV 100MU')"
   ]
  },
  {
   "cell_type": "code",
   "execution_count": 153,
   "metadata": {},
   "outputs": [
    {
     "data": {
      "text/plain": [
       "array([0.99967224])"
      ]
     },
     "execution_count": 153,
     "metadata": {},
     "output_type": "execute_result"
    }
   ],
   "source": [
    "1-pp[1]/np.std(fc_data)**2"
   ]
  },
  {
   "cell_type": "code",
   "execution_count": 154,
   "metadata": {},
   "outputs": [
    {
     "data": {
      "text/plain": [
       "array([1.])"
      ]
     },
     "execution_count": 154,
     "metadata": {},
     "output_type": "execute_result"
    }
   ],
   "source": [
    "1-qq[1]/np.std(star_data)**2"
   ]
  },
  {
   "cell_type": "code",
   "execution_count": 46,
   "metadata": {},
   "outputs": [],
   "source": [
    "av = 1/3*8.175600196835831e-10 + 2/3*4.769697969919662e-10"
   ]
  },
  {
   "cell_type": "code",
   "execution_count": 47,
   "metadata": {},
   "outputs": [
    {
     "data": {
      "text/plain": [
       "5.904998712225051e-10"
      ]
     },
     "execution_count": 47,
     "metadata": {},
     "output_type": "execute_result"
    }
   ],
   "source": [
    "av"
   ]
  },
  {
   "cell_type": "code",
   "execution_count": 49,
   "metadata": {},
   "outputs": [
    {
     "data": {
      "text/plain": [
       "1.2192105287896593"
      ]
     },
     "execution_count": 49,
     "metadata": {},
     "output_type": "execute_result"
    }
   ],
   "source": [
    "7.199436602434162e-10/av"
   ]
  },
  {
   "cell_type": "code",
   "execution_count": null,
   "metadata": {},
   "outputs": [],
   "source": [
    "\n",
    "\n",
    "\n",
    "%pylab widget\n",
    "%load_ext autoreload\n",
    "%autoreload 2\n",
    "\n",
    "from analysis_functions import *\n",
    "import fastcat.fastcat as fc\n",
    "\n",
    "from scipy.optimize import minimize\n",
    "Populating the interactive namespace from numpy and matplotlib\n",
    "\n"
   ]
  },
  {
   "cell_type": "code",
   "execution_count": null,
   "metadata": {},
   "outputs": [],
   "source": []
  }
 ],
 "metadata": {
  "kernelspec": {
   "display_name": "Python 3",
   "language": "python",
   "name": "python3"
  },
  "language_info": {
   "codemirror_mode": {
    "name": "ipython",
    "version": 3
   },
   "file_extension": ".py",
   "mimetype": "text/x-python",
   "name": "python",
   "nbconvert_exporter": "python",
   "pygments_lexer": "ipython3",
   "version": "3.7.6"
  }
 },
 "nbformat": 4,
 "nbformat_minor": 4
}
