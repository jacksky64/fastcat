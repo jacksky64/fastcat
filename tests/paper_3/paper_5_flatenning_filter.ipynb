{
 "cells": [
  {
   "cell_type": "code",
   "execution_count": 1,
   "id": "chronic-giving",
   "metadata": {},
   "outputs": [
    {
     "name": "stdout",
     "output_type": "stream",
     "text": [
      "Populating the interactive namespace from numpy and matplotlib\n"
     ]
    }
   ],
   "source": [
    "%pylab widget\n",
    "%load_ext autoreload\n",
    "%autoreload 2\n",
    "\n",
    "# from analysis_functions import *\n",
    "import fastcat.fastcat as fc\n",
    "from scipy.optimize import minimize"
   ]
  },
  {
   "cell_type": "markdown",
   "id": "proper-walnut",
   "metadata": {},
   "source": [
    "# Looking at the bowtie filter"
   ]
  },
  {
   "cell_type": "code",
   "execution_count": 2,
   "id": "developing-hampshire",
   "metadata": {},
   "outputs": [
    {
     "data": {
      "application/vnd.jupyter.widget-view+json": {
       "model_id": "d8b8c3196d66423fb419f99da758838b",
       "version_major": 2,
       "version_minor": 0
      },
      "text/plain": [
       "Canvas(toolbar=Toolbar(toolitems=[('Home', 'Reset original view', 'home', 'home'), ('Back', 'Back to previous …"
      ]
     },
     "metadata": {},
     "output_type": "display_data"
    },
    {
     "data": {
      "text/plain": [
       "[<matplotlib.lines.Line2D at 0x7f71b7402250>]"
      ]
     },
     "execution_count": 2,
     "metadata": {},
     "output_type": "execute_result"
    }
   ],
   "source": [
    "# Now lets look for one of the bowtie air projections\n",
    "\n",
    "bowtie_volume = np.load('/home/xcite/scintillators/MV_CBCT_exp/varian_deposition_jaws_air.npy')\n",
    "\n",
    "plt.figure()\n",
    "# plt.imshow(bowtie_volume)\n",
    "plt.plot(bowtie_volume)"
   ]
  },
  {
   "cell_type": "code",
   "execution_count": 3,
   "id": "adolescent-broadway",
   "metadata": {},
   "outputs": [],
   "source": [
    "# Should I make an actual fastCAT aluminum model to see what CsI setting agrees with this?\n",
    "# First I will see if I can make a small model that is just a brick of aluminum"
   ]
  },
  {
   "cell_type": "code",
   "execution_count": 4,
   "id": "laughing-plaza",
   "metadata": {},
   "outputs": [],
   "source": [
    "s = fc.Spectrum()\n",
    "s.load('Varian_truebeam_phasespace')\n",
    "# s.attenuate(0.2,fc.get_mu(z=13))"
   ]
  },
  {
   "cell_type": "code",
   "execution_count": 5,
   "id": "elementary-encounter",
   "metadata": {},
   "outputs": [
    {
     "data": {
      "application/vnd.jupyter.widget-view+json": {
       "model_id": "e1427c36ab5146b5b5daea7d181148d8",
       "version_major": 2,
       "version_minor": 0
      },
      "text/plain": [
       "Canvas(toolbar=Toolbar(toolitems=[('Home', 'Reset original view', 'home', 'home'), ('Back', 'Back to previous …"
      ]
     },
     "metadata": {},
     "output_type": "display_data"
    },
    {
     "data": {
      "text/plain": [
       "[<matplotlib.lines.Line2D at 0x7f71b6e4d890>]"
      ]
     },
     "execution_count": 5,
     "metadata": {},
     "output_type": "execute_result"
    }
   ],
   "source": [
    "plt.figure()\n",
    "plt.plot(s.x,s.y)"
   ]
  },
  {
   "cell_type": "code",
   "execution_count": 6,
   "id": "eleven-decade",
   "metadata": {},
   "outputs": [],
   "source": [
    "edep = np.load('../../fastcat/data/Detectors/CuGOS-784-micrometer/EnergyDeposition.npy')"
   ]
  },
  {
   "cell_type": "code",
   "execution_count": 7,
   "id": "prospective-module",
   "metadata": {},
   "outputs": [
    {
     "data": {
      "application/vnd.jupyter.widget-view+json": {
       "model_id": "30f6b4ddf45e43fb8e293aca8b1e8f25",
       "version_major": 2,
       "version_minor": 0
      },
      "text/plain": [
       "Canvas(toolbar=Toolbar(toolitems=[('Home', 'Reset original view', 'home', 'home'), ('Back', 'Back to previous …"
      ]
     },
     "metadata": {},
     "output_type": "display_data"
    },
    {
     "data": {
      "text/plain": [
       "[<matplotlib.lines.Line2D at 0x7f71b70da650>]"
      ]
     },
     "execution_count": 7,
     "metadata": {},
     "output_type": "execute_result"
    }
   ],
   "source": [
    "plt.figure()\n",
    "plt.semilogx(edep[1],edep[0])"
   ]
  },
  {
   "cell_type": "code",
   "execution_count": 8,
   "id": "higher-shooting",
   "metadata": {},
   "outputs": [
    {
     "data": {
      "text/plain": [
       "array([1.5250000e+01, 6.1000000e+01, 1.3725000e+02, 2.4400000e+02,\n",
       "       3.8125000e+02, 5.4900000e+02, 7.4725000e+02, 9.7600000e+02,\n",
       "       1.2352500e+03, 1.5250000e+03, 1.8452500e+03, 2.1960000e+03,\n",
       "       2.5772500e+03, 2.9890000e+03, 3.4312500e+03, 3.9040000e+03,\n",
       "       4.4072500e+03, 4.9410000e+03, 5.5052500e+03, 6.1000000e+03,\n",
       "       6.7252500e+03, 7.3810000e+03, 8.0672500e+03, 8.7840000e+03,\n",
       "       9.5312500e+03, 1.0309000e+04, 1.1117250e+04, 1.1956000e+04,\n",
       "       1.2825250e+04, 1.3725000e+04, 1.4655250e+04, 1.5616000e+04,\n",
       "       1.6607250e+04, 1.7628950e+04, 1.8681150e+04, 1.9763850e+04,\n",
       "       2.0877050e+04, 2.2020750e+04, 2.3194950e+04, 2.4399650e+04,\n",
       "       2.5634850e+04, 2.6900550e+04, 2.8196850e+04, 2.9523650e+04,\n",
       "       3.0880950e+04, 3.2268750e+04, 3.3687050e+04, 3.5135750e+04,\n",
       "       3.6614950e+04, 3.8124650e+04, 3.9664850e+04, 4.1235550e+04,\n",
       "       4.2836750e+04, 4.4468450e+04, 4.6130650e+04, 4.7823350e+04,\n",
       "       4.9546550e+04, 5.1300250e+04, 5.3084450e+04, 5.4899250e+04,\n",
       "       5.6744550e+04, 5.8620350e+04, 6.0526550e+04, 6.2463250e+04,\n",
       "       6.4430450e+04, 6.6428150e+04, 6.8456350e+04, 7.0515050e+04,\n",
       "       7.2604250e+04, 7.4723950e+04, 7.6874150e+04, 7.9054850e+04,\n",
       "       8.1266050e+04, 8.3507750e+04, 8.5779950e+04, 8.8082650e+04,\n",
       "       9.0415850e+04, 9.2779550e+04, 9.5173750e+04, 9.7598450e+04,\n",
       "       1.0005365e+05, 1.0253935e+05, 1.0505555e+05, 1.0760225e+05,\n",
       "       1.1017945e+05, 1.1278725e+05, 1.1542555e+05, 1.1809425e+05,\n",
       "       1.2079345e+05, 1.2352325e+05, 1.2628355e+05, 1.2907435e+05,\n",
       "       1.3189555e+05, 1.3474735e+05, 1.3762955e+05, 1.4054225e+05,\n",
       "       1.4348545e+05, 1.4645915e+05, 1.4946335e+05, 1.5249805e+05,\n",
       "       1.5556325e+05, 1.5865895e+05, 1.6178515e+05, 1.6494185e+05,\n",
       "       1.6812905e+05, 1.7134675e+05, 1.7459495e+05, 1.7787365e+05,\n",
       "       1.8118285e+05, 1.8452255e+05, 1.8789275e+05, 1.9129345e+05,\n",
       "       1.9472465e+05, 1.9818635e+05, 2.0167855e+05, 2.0520125e+05,\n",
       "       2.0875445e+05, 2.1233815e+05, 2.1595235e+05, 2.1959715e+05,\n",
       "       2.2327245e+05, 2.2697815e+05, 2.3071435e+05, 2.3448115e+05,\n",
       "       2.3827845e+05, 2.4210615e+05, 2.4596435e+05, 2.4985305e+05,\n",
       "       2.5377225e+05, 2.5772195e+05, 2.6170215e+05, 2.6571285e+05,\n",
       "       2.6975405e+05, 2.7382575e+05, 2.7792795e+05, 2.8206065e+05,\n",
       "       2.8622385e+05, 2.9041755e+05, 2.9464175e+05, 2.9889645e+05,\n",
       "       3.0318165e+05, 3.0749735e+05, 3.1184355e+05, 3.1622025e+05,\n",
       "       3.2062745e+05, 3.2506515e+05, 3.2953335e+05, 3.3403205e+05,\n",
       "       3.3856125e+05, 3.4312105e+05, 3.4771125e+05, 3.5233195e+05,\n",
       "       3.5698315e+05, 3.6166495e+05, 3.6637725e+05, 3.7111995e+05,\n",
       "       3.7589315e+05, 3.8069685e+05, 3.8553105e+05, 3.9039575e+05,\n",
       "       3.9529095e+05, 4.0021665e+05, 4.0517285e+05, 4.1015955e+05,\n",
       "       4.1517675e+05, 4.2022445e+05, 4.2530265e+05, 4.3041135e+05,\n",
       "       4.3555055e+05, 4.4072025e+05, 4.4592045e+05, 4.5115125e+05,\n",
       "       4.5641255e+05, 4.6170425e+05, 4.6702655e+05, 4.7237935e+05,\n",
       "       4.7776265e+05, 4.8317645e+05, 4.8862065e+05, 4.9409545e+05,\n",
       "       4.9960075e+05, 5.0513655e+05, 5.1070285e+05, 5.1629965e+05,\n",
       "       5.2192695e+05, 5.2758475e+05, 5.3327305e+05, 5.3899185e+05,\n",
       "       5.4474105e+05, 5.5052075e+05, 5.5633095e+05, 5.6217165e+05,\n",
       "       5.6804285e+05, 5.7394455e+05, 5.7987675e+05, 5.8583945e+05,\n",
       "       5.9183265e+05, 5.9785635e+05, 6.0391055e+05, 6.0999525e+05])"
      ]
     },
     "execution_count": 8,
     "metadata": {},
     "output_type": "execute_result"
    }
   ],
   "source": [
    "np.cumsum(s.x)"
   ]
  },
  {
   "cell_type": "code",
   "execution_count": 9,
   "id": "combined-granny",
   "metadata": {},
   "outputs": [
    {
     "data": {
      "text/plain": [
       "304997.625"
      ]
     },
     "execution_count": 9,
     "metadata": {},
     "output_type": "execute_result"
    }
   ],
   "source": [
    "np.sum(s.x)/2"
   ]
  },
  {
   "cell_type": "code",
   "execution_count": 10,
   "id": "established-background",
   "metadata": {},
   "outputs": [
    {
     "data": {
      "text/plain": [
       "27"
      ]
     },
     "execution_count": 10,
     "metadata": {},
     "output_type": "execute_result"
    }
   ],
   "source": [
    "np.argmin(np.abs(np.cumsum(s.y)- np.sum(s.y)/2))"
   ]
  },
  {
   "cell_type": "code",
   "execution_count": 11,
   "id": "absolute-bankruptcy",
   "metadata": {},
   "outputs": [
    {
     "data": {
      "text/plain": [
       "838.75"
      ]
     },
     "execution_count": 11,
     "metadata": {},
     "output_type": "execute_result"
    }
   ],
   "source": [
    "s.x[27]"
   ]
  },
  {
   "cell_type": "code",
   "execution_count": 12,
   "id": "experimental-irrigation",
   "metadata": {},
   "outputs": [
    {
     "data": {
      "application/vnd.jupyter.widget-view+json": {
       "model_id": "d70f553ba2c84b8ea02a35626c41e0d3",
       "version_major": 2,
       "version_minor": 0
      },
      "text/plain": [
       "Canvas(toolbar=Toolbar(toolitems=[('Home', 'Reset original view', 'home', 'home'), ('Back', 'Back to previous …"
      ]
     },
     "metadata": {},
     "output_type": "display_data"
    },
    {
     "data": {
      "text/plain": [
       "[<matplotlib.lines.Line2D at 0x7f71b6f462d0>]"
      ]
     },
     "execution_count": 12,
     "metadata": {},
     "output_type": "execute_result"
    }
   ],
   "source": [
    "figure();plot(s.x,np.cumsum(s.y))"
   ]
  },
  {
   "cell_type": "markdown",
   "id": "seven-contrast",
   "metadata": {},
   "source": [
    "## Now we know that the mean energy of the 100 kVp beam should be about 44.6"
   ]
  },
  {
   "cell_type": "code",
   "execution_count": 13,
   "id": "widespread-messaging",
   "metadata": {},
   "outputs": [],
   "source": [
    "al = np.loadtxt('../../fastcat/data/mu/74.csv',delimiter=',')"
   ]
  },
  {
   "cell_type": "code",
   "execution_count": 14,
   "id": "committed-wednesday",
   "metadata": {},
   "outputs": [
    {
     "name": "stdout",
     "output_type": "stream",
     "text": [
      "[[1.000000e+00 1.500000e+00 1.809190e+00 1.809210e+00 1.840140e+00\n",
      "  1.871590e+00 1.871610e+00 2.000000e+00 2.280990e+00 2.281010e+00\n",
      "  2.423500e+00 2.574890e+00 2.574910e+00 2.694470e+00 2.819590e+00\n",
      "  2.819610e+00 3.000000e+00 4.000000e+00 5.000000e+00 6.000000e+00\n",
      "  8.000000e+00 1.000000e+01 1.020679e+01 1.020681e+01 1.085480e+01\n",
      "  1.154399e+01 1.154401e+01 1.181860e+01 1.209979e+01 1.209981e+01\n",
      "  1.500000e+01 2.000000e+01 3.000000e+01 4.000000e+01 5.000000e+01\n",
      "  6.000000e+01 6.952499e+01 6.952501e+01 8.000000e+01 1.000000e+02\n",
      "  1.500000e+02 2.000000e+02 3.000000e+02 4.000000e+02 5.000000e+02\n",
      "  6.000000e+02 8.000000e+02 1.000000e+03 1.250000e+03 1.500000e+03\n",
      "  2.000000e+03 3.000000e+03 4.000000e+03 5.000000e+03 6.000000e+03\n",
      "  8.000000e+03 1.000000e+04 1.500000e+04 2.000000e+04]\n",
      " [7.108190e+04 3.170990e+04 2.138440e+04 2.561110e+04 3.688230e+04\n",
      "  5.598930e+04 6.118100e+04 7.569460e+04 5.458040e+04 6.328470e+04\n",
      "  5.467690e+04 4.718850e+04 5.016070e+04 4.514270e+04 4.060720e+04\n",
      "  4.234420e+04 3.670860e+04 1.845852e+04 1.068062e+04 6.782020e+03\n",
      "  3.290650e+03 1.870363e+03 1.775793e+03 4.504620e+03 3.827190e+03\n",
      "  3.259770e+03 4.462160e+03 4.377240e+03 3.985450e+03 4.597260e+03\n",
      "  2.680770e+03 1.268589e+03 4.386890e+02 2.059310e+02 1.148157e+02\n",
      "  7.166090e+01 4.925360e+01 2.167390e+02 1.507330e+02 8.565340e+01\n",
      "  3.051330e+01 1.513892e+01 6.249340e+00 3.715250e+00 2.659540e+00\n",
      "  2.109490e+00 1.556738e+00 1.277274e+00 1.076361e+00 9.650000e-01\n",
      "  8.555690e-01 7.864750e-01 7.793340e-01 7.918790e-01 8.125300e-01\n",
      "  8.630960e-01 9.161710e-01 1.039112e+00 1.137349e+00]]\n"
     ]
    }
   ],
   "source": [
    "print(al)"
   ]
  },
  {
   "cell_type": "code",
   "execution_count": 15,
   "id": "correct-patio",
   "metadata": {},
   "outputs": [
    {
     "data": {
      "text/plain": [
       "11.8186"
      ]
     },
     "execution_count": 15,
     "metadata": {},
     "output_type": "execute_result"
    }
   ],
   "source": [
    "al[0,27]"
   ]
  },
  {
   "cell_type": "code",
   "execution_count": 16,
   "id": "challenging-signature",
   "metadata": {},
   "outputs": [],
   "source": [
    "mu = al[1,27]"
   ]
  },
  {
   "cell_type": "markdown",
   "id": "aquatic-tulsa",
   "metadata": {},
   "source": [
    "\\begin{equation}\n",
    "y = e^{-\\mu x}\n",
    "\\end{equation}"
   ]
  },
  {
   "cell_type": "markdown",
   "id": "sound-gazette",
   "metadata": {},
   "source": [
    "\\begin{equation}\n",
    "-ln(y)/\\mu = x\n",
    "\\end{equation}"
   ]
  },
  {
   "cell_type": "code",
   "execution_count": 17,
   "id": "demonstrated-converter",
   "metadata": {},
   "outputs": [],
   "source": [
    "lengths = -np.log(bowtie_volume/np.max(bowtie_volume))/mu"
   ]
  },
  {
   "cell_type": "code",
   "execution_count": 18,
   "id": "understanding-japan",
   "metadata": {},
   "outputs": [],
   "source": [
    "from scipy.signal import gaussian"
   ]
  },
  {
   "cell_type": "code",
   "execution_count": 83,
   "id": "powerful-habitat",
   "metadata": {},
   "outputs": [
    {
     "data": {
      "application/vnd.jupyter.widget-view+json": {
       "model_id": "794fae873eba4c29a6a20284ac283fad",
       "version_major": 2,
       "version_minor": 0
      },
      "text/plain": [
       "Canvas(toolbar=Toolbar(toolitems=[('Home', 'Reset original view', 'home', 'home'), ('Back', 'Back to previous …"
      ]
     },
     "metadata": {},
     "output_type": "display_data"
    }
   ],
   "source": [
    "plt.figure()\n",
    "plt.plot(lengths)\n",
    "plt.plot(gaussian(512,128)/41000)\n",
    "plt.plot(gaussian(512,128))\n",
    "\n",
    "lengths = gaussian(512,128/1.5)*2"
   ]
  },
  {
   "cell_type": "code",
   "execution_count": 84,
   "id": "conscious-exposure",
   "metadata": {},
   "outputs": [],
   "source": [
    "# Now I just have to find out what the attenuation coefficients are and then I can make an array that has them\n",
    "# In it to just multiply the final output by."
   ]
  },
  {
   "cell_type": "code",
   "execution_count": 85,
   "id": "casual-butterfly",
   "metadata": {},
   "outputs": [],
   "source": [
    "import fastcat.fastcat as fc\n",
    "original_energies_keV = np.array([10,20,30, 40, 50 ,60, 70, 80 ,90 ,100 ,300 ,500 ,700, 900, 1000 ,2000 ,4000 ,6000])"
   ]
  },
  {
   "cell_type": "code",
   "execution_count": 86,
   "id": "toxic-walker",
   "metadata": {},
   "outputs": [
    {
     "data": {
      "text/plain": [
       "(18, 512)"
      ]
     },
     "execution_count": 86,
     "metadata": {},
     "output_type": "execute_result"
    }
   ],
   "source": [
    "bowtie_filter.shape"
   ]
  },
  {
   "cell_type": "code",
   "execution_count": 87,
   "id": "unable-attention",
   "metadata": {},
   "outputs": [],
   "source": [
    "lengths2 = lengths\n",
    "\n",
    "bowtie_filter = np.zeros((len(original_energies_keV),lengths2.shape[0]))\n",
    "bowtie_filter2 = np.zeros((len(original_energies_keV),lengths2.shape[0]))\n",
    "\n",
    "al_map = fc.get_mu(z=14)\n",
    "\n",
    "for ii in range(len(original_energies_keV)):\n",
    "    \n",
    "    bowtie_filter[ii,:] = np.e**(-lengths2*al_map(original_energies_keV[ii]))\n",
    "    bowtie_filter2[ii,:] = lengths2*al_map(original_energies_keV[ii])\n",
    "#     print(al_map(original_energies_keV[ii]))"
   ]
  },
  {
   "cell_type": "code",
   "execution_count": 88,
   "id": "colonial-modern",
   "metadata": {},
   "outputs": [
    {
     "data": {
      "application/vnd.jupyter.widget-view+json": {
       "model_id": "a412e0c3a87d433cb59c6c90757c796e",
       "version_major": 2,
       "version_minor": 0
      },
      "text/plain": [
       "Canvas(toolbar=Toolbar(toolitems=[('Home', 'Reset original view', 'home', 'home'), ('Back', 'Back to previous …"
      ]
     },
     "metadata": {},
     "output_type": "display_data"
    },
    {
     "data": {
      "text/plain": [
       "Text(0, 0.5, '$I/I_0$')"
      ]
     },
     "execution_count": 88,
     "metadata": {},
     "output_type": "execute_result"
    }
   ],
   "source": [
    "plt.figure()\n",
    "plt.plot(bowtie_filter.T);\n",
    "plt.legend(original_energies_keV)\n",
    "plt.xlabel('pixel')\n",
    "plt.ylabel('$I/I_0$')"
   ]
  },
  {
   "cell_type": "code",
   "execution_count": 89,
   "id": "minute-internet",
   "metadata": {},
   "outputs": [
    {
     "data": {
      "application/vnd.jupyter.widget-view+json": {
       "model_id": "1843f20ea8a24e9299ddf0f1436ab234",
       "version_major": 2,
       "version_minor": 0
      },
      "text/plain": [
       "Canvas(toolbar=Toolbar(toolitems=[('Home', 'Reset original view', 'home', 'home'), ('Back', 'Back to previous …"
      ]
     },
     "metadata": {},
     "output_type": "display_data"
    }
   ],
   "source": [
    "plt.figure()\n",
    "plt.plot(bowtie_filter2.T[::2,:]);\n",
    "\n",
    "bowtie_smaller = bowtie_filter.T\n",
    "bowtie_smaller2 = bowtie_filter2.T"
   ]
  },
  {
   "cell_type": "code",
   "execution_count": 90,
   "id": "white-production",
   "metadata": {},
   "outputs": [],
   "source": [
    "np.save('FF0',bowtie_smaller)\n",
    "np.save('FF0_lengths',bowtie_smaller2)"
   ]
  },
  {
   "cell_type": "code",
   "execution_count": 91,
   "id": "political-brazilian",
   "metadata": {},
   "outputs": [],
   "source": [
    "!mv FF* ../../fastcat/data/filters/"
   ]
  },
  {
   "cell_type": "code",
   "execution_count": 24,
   "id": "powered-rover",
   "metadata": {},
   "outputs": [
    {
     "data": {
      "application/vnd.jupyter.widget-view+json": {
       "model_id": "e4f1a6f309ca40b196b729fdf8df419c",
       "version_major": 2,
       "version_minor": 0
      },
      "text/plain": [
       "Canvas(toolbar=Toolbar(toolitems=[('Home', 'Reset original view', 'home', 'home'), ('Back', 'Back to previous …"
      ]
     },
     "metadata": {},
     "output_type": "display_data"
    },
    {
     "ename": "ValueError",
     "evalue": "not enough values to unpack (expected 3, got 2)",
     "output_type": "error",
     "traceback": [
      "\u001b[0;31m---------------------------------------------------------------------------\u001b[0m",
      "\u001b[0;31mValueError\u001b[0m                                Traceback (most recent call last)",
      "\u001b[0;32m<ipython-input-24-218c01a3e5f3>\u001b[0m in \u001b[0;36m<module>\u001b[0;34m\u001b[0m\n\u001b[1;32m     29\u001b[0m \u001b[0mX\u001b[0m \u001b[0;34m=\u001b[0m \u001b[0mbowtie_filter\u001b[0m\u001b[0;34m.\u001b[0m\u001b[0mT\u001b[0m\u001b[0;34m\u001b[0m\u001b[0;34m\u001b[0m\u001b[0m\n\u001b[1;32m     30\u001b[0m \u001b[0;34m\u001b[0m\u001b[0m\n\u001b[0;32m---> 31\u001b[0;31m \u001b[0mtracker\u001b[0m \u001b[0;34m=\u001b[0m \u001b[0mIndexTracker\u001b[0m\u001b[0;34m(\u001b[0m\u001b[0max\u001b[0m\u001b[0;34m,\u001b[0m \u001b[0mX\u001b[0m\u001b[0;34m)\u001b[0m\u001b[0;34m\u001b[0m\u001b[0;34m\u001b[0m\u001b[0m\n\u001b[0m\u001b[1;32m     32\u001b[0m \u001b[0;34m\u001b[0m\u001b[0m\n\u001b[1;32m     33\u001b[0m \u001b[0mfig\u001b[0m\u001b[0;34m.\u001b[0m\u001b[0mcanvas\u001b[0m\u001b[0;34m.\u001b[0m\u001b[0mmpl_connect\u001b[0m\u001b[0;34m(\u001b[0m\u001b[0;34m'scroll_event'\u001b[0m\u001b[0;34m,\u001b[0m \u001b[0mtracker\u001b[0m\u001b[0;34m.\u001b[0m\u001b[0monscroll\u001b[0m\u001b[0;34m)\u001b[0m\u001b[0;34m\u001b[0m\u001b[0;34m\u001b[0m\u001b[0m\n",
      "\u001b[0;32m<ipython-input-24-218c01a3e5f3>\u001b[0m in \u001b[0;36m__init__\u001b[0;34m(self, ax, X)\u001b[0m\n\u001b[1;32m      5\u001b[0m \u001b[0;34m\u001b[0m\u001b[0m\n\u001b[1;32m      6\u001b[0m         \u001b[0mself\u001b[0m\u001b[0;34m.\u001b[0m\u001b[0mX\u001b[0m \u001b[0;34m=\u001b[0m \u001b[0mX\u001b[0m\u001b[0;34m\u001b[0m\u001b[0;34m\u001b[0m\u001b[0m\n\u001b[0;32m----> 7\u001b[0;31m         \u001b[0mrows\u001b[0m\u001b[0;34m,\u001b[0m \u001b[0mcols\u001b[0m\u001b[0;34m,\u001b[0m \u001b[0mself\u001b[0m\u001b[0;34m.\u001b[0m\u001b[0mslices\u001b[0m \u001b[0;34m=\u001b[0m \u001b[0mX\u001b[0m\u001b[0;34m.\u001b[0m\u001b[0mshape\u001b[0m\u001b[0;34m\u001b[0m\u001b[0;34m\u001b[0m\u001b[0m\n\u001b[0m\u001b[1;32m      8\u001b[0m         \u001b[0mself\u001b[0m\u001b[0;34m.\u001b[0m\u001b[0mind\u001b[0m \u001b[0;34m=\u001b[0m \u001b[0;36m10\u001b[0m \u001b[0;31m#self.slices//2\u001b[0m\u001b[0;34m\u001b[0m\u001b[0;34m\u001b[0m\u001b[0m\n\u001b[1;32m      9\u001b[0m \u001b[0;34m\u001b[0m\u001b[0m\n",
      "\u001b[0;31mValueError\u001b[0m: not enough values to unpack (expected 3, got 2)"
     ]
    }
   ],
   "source": [
    "class IndexTracker(object):\n",
    "    def __init__(self, ax, X):\n",
    "        self.ax = ax\n",
    "        ax.set_title('use scroll wheel to navigate images')\n",
    "\n",
    "        self.X = X\n",
    "        rows, cols, self.slices = X.shape\n",
    "        self.ind = 10 #self.slices//2\n",
    "\n",
    "        self.im = ax.imshow(self.X[:, :, self.ind],cmap='bone')\n",
    "        self.update()\n",
    "\n",
    "    def onscroll(self, event):\n",
    "        print(\"%s %s\" % (event.button, event.step))\n",
    "        if event.button == 'up':\n",
    "            self.ind = (self.ind + 1) % self.slices\n",
    "        else:\n",
    "            self.ind = (self.ind - 1) % self.slices\n",
    "        self.update()\n",
    "\n",
    "    def update(self):\n",
    "        self.im.set_data(self.X[:, :, self.ind])\n",
    "        ax.set_ylabel('slice %s' % self.ind)\n",
    "        self.im.axes.figure.canvas.draw()\n",
    "\n",
    "fig, ax = plt.subplots(1, 1)\n",
    "\n",
    "# X = np.array(projections.T[:,:,5:])\n",
    "X = bowtie_filter.T\n",
    "\n",
    "tracker = IndexTracker(ax, X)\n",
    "\n",
    "fig.canvas.mpl_connect('scroll_event', tracker.onscroll)\n",
    "plt.show()"
   ]
  },
  {
   "cell_type": "code",
   "execution_count": null,
   "id": "tribal-campbell",
   "metadata": {},
   "outputs": [],
   "source": []
  },
  {
   "cell_type": "markdown",
   "id": "coordinated-hepatitis",
   "metadata": {},
   "source": [
    "# Now lets try to make the flattening filter at a different distance"
   ]
  },
  {
   "cell_type": "code",
   "execution_count": 20,
   "id": "pretty-florida",
   "metadata": {},
   "outputs": [],
   "source": [
    "theta = math.atan(20/150) "
   ]
  },
  {
   "cell_type": "code",
   "execution_count": 21,
   "id": "under-legislation",
   "metadata": {},
   "outputs": [],
   "source": [
    "h = math.tan(theta)*30"
   ]
  },
  {
   "cell_type": "code",
   "execution_count": 22,
   "id": "verbal-value",
   "metadata": {},
   "outputs": [
    {
     "name": "stdout",
     "output_type": "stream",
     "text": [
      "4.0\n"
     ]
    }
   ],
   "source": [
    "print(h)"
   ]
  },
  {
   "cell_type": "code",
   "execution_count": 23,
   "id": "ambient-postage",
   "metadata": {},
   "outputs": [],
   "source": [
    "# So the whole thing should be about 8 cm if it is at a depth of 30 cm"
   ]
  },
  {
   "cell_type": "code",
   "execution_count": 27,
   "id": "special-inventory",
   "metadata": {},
   "outputs": [
    {
     "data": {
      "application/vnd.jupyter.widget-view+json": {
       "model_id": "d42980db8e834d3d98f2f8c64f080b9b",
       "version_major": 2,
       "version_minor": 0
      },
      "text/plain": [
       "Canvas(toolbar=Toolbar(toolitems=[('Home', 'Reset original view', 'home', 'home'), ('Back', 'Back to previous …"
      ]
     },
     "metadata": {},
     "output_type": "display_data"
    },
    {
     "data": {
      "text/plain": [
       "[<matplotlib.lines.Line2D at 0x7fca569dcfd0>]"
      ]
     },
     "execution_count": 27,
     "metadata": {},
     "output_type": "execute_result"
    }
   ],
   "source": [
    "figure();plot(lengths[::16])"
   ]
  },
  {
   "cell_type": "code",
   "execution_count": 28,
   "id": "entitled-beijing",
   "metadata": {},
   "outputs": [
    {
     "name": "stdout",
     "output_type": "stream",
     "text": [
      "[1.8102956  1.8081605  1.8027607  1.801784   1.7953762  1.7889802\n",
      " 1.778515   1.7596264  1.7287586  1.6916375  1.6405048  1.5691274\n",
      " 1.4293513  1.1626906  0.9428454  0.78842276 0.66576225 0.56037635\n",
      " 0.47512865 0.39989367 0.33571047 0.27865955 0.23026493 0.1892935\n",
      " 0.15276453 0.12075748 0.09490971 0.07204794 0.05557918 0.0429252\n",
      " 0.03340923 0.03031756 0.03127966 0.03590642 0.04718997 0.06070281\n",
      " 0.08167531 0.10240576 0.1309255  0.16372308 0.20298778 0.2451347\n",
      " 0.29695696 0.35479975 0.4244624  0.49965295 0.5889652  0.693369\n",
      " 0.82158846 0.98529536 1.2199944  1.4597743  1.577745   1.6469797\n",
      " 1.6940248  1.7308096  1.7609013  1.7829177  1.7966682  1.8079659\n",
      " 1.8156284  1.8219752  1.8307741  1.8433745 ]\n"
     ]
    }
   ],
   "source": [
    "lengths_small = lengths[::16]\n",
    "\n",
    "print(lengths_small)"
   ]
  },
  {
   "cell_type": "code",
   "execution_count": 32,
   "id": "dressed-madagascar",
   "metadata": {},
   "outputs": [
    {
     "name": "stdout",
     "output_type": "stream",
     "text": [
      "[0.         0.12698413 0.25396825 0.38095238 0.50793651 0.63492063\n",
      " 0.76190476 0.88888889 1.01587302 1.14285714 1.26984127 1.3968254\n",
      " 1.52380952 1.65079365 1.77777778 1.9047619  2.03174603 2.15873016\n",
      " 2.28571429 2.41269841 2.53968254 2.66666667 2.79365079 2.92063492\n",
      " 3.04761905 3.17460317 3.3015873  3.42857143 3.55555556 3.68253968\n",
      " 3.80952381 3.93650794 4.06349206 4.19047619 4.31746032 4.44444444\n",
      " 4.57142857 4.6984127  4.82539683 4.95238095 5.07936508 5.20634921\n",
      " 5.33333333 5.46031746 5.58730159 5.71428571 5.84126984 5.96825397\n",
      " 6.0952381  6.22222222 6.34920635 6.47619048 6.6031746  6.73015873\n",
      " 6.85714286 6.98412698 7.11111111 7.23809524 7.36507937 7.49206349\n",
      " 7.61904762 7.74603175 7.87301587 8.        ]\n"
     ]
    }
   ],
   "source": [
    "print(np.linspace(0,8,64))"
   ]
  },
  {
   "cell_type": "code",
   "execution_count": 30,
   "id": "negative-bronze",
   "metadata": {},
   "outputs": [
    {
     "data": {
      "text/plain": [
       "64"
      ]
     },
     "execution_count": 30,
     "metadata": {},
     "output_type": "execute_result"
    }
   ],
   "source": [
    "len(lengths_small)"
   ]
  },
  {
   "cell_type": "code",
   "execution_count": 33,
   "id": "worldwide-hampshire",
   "metadata": {},
   "outputs": [
    {
     "data": {
      "text/plain": [
       "array([0.        , 0.12698413, 0.25396825, 0.38095238, 0.50793651,\n",
       "       0.63492063, 0.76190476, 0.88888889, 1.01587302, 1.14285714,\n",
       "       1.26984127, 1.3968254 , 1.52380952, 1.65079365, 1.77777778,\n",
       "       1.9047619 , 2.03174603, 2.15873016, 2.28571429, 2.41269841,\n",
       "       2.53968254, 2.66666667, 2.79365079, 2.92063492, 3.04761905,\n",
       "       3.17460317, 3.3015873 , 3.42857143, 3.55555556, 3.68253968,\n",
       "       3.80952381, 3.93650794, 4.06349206, 4.19047619, 4.31746032,\n",
       "       4.44444444, 4.57142857, 4.6984127 , 4.82539683, 4.95238095,\n",
       "       5.07936508, 5.20634921, 5.33333333, 5.46031746, 5.58730159,\n",
       "       5.71428571, 5.84126984, 5.96825397, 6.0952381 , 6.22222222,\n",
       "       6.34920635, 6.47619048, 6.6031746 , 6.73015873, 6.85714286,\n",
       "       6.98412698, 7.11111111, 7.23809524, 7.36507937, 7.49206349,\n",
       "       7.61904762, 7.74603175, 7.87301587, 8.        ])"
      ]
     },
     "execution_count": 33,
     "metadata": {},
     "output_type": "execute_result"
    }
   ],
   "source": [
    "np.linspace(0,8,64)"
   ]
  },
  {
   "cell_type": "code",
   "execution_count": null,
   "id": "warming-criterion",
   "metadata": {},
   "outputs": [],
   "source": [
    "0.          0.12698413  0.25396825  0.38095238  0.50793651 0.63492063  0.76190476  0.88888889  1.01587302  1.14285714 1.26984127  1.3968254   1.52380952  1.65079365  1.77777778 1.9047619   2.03174603  2.15873016  2.28571429  2.41269841 2.53968254  2.66666667  2.79365079  2.92063492  3.04761905 3.17460317  3.3015873   3.42857143  3.55555556  3.68253968 3.80952381  3.93650794  4.06349206  4.19047619  4.31746032 4.44444444  4.57142857  4.6984127   4.82539683  4.95238095 5.07936508  5.20634921  5.33333333  5.46031746  5.58730159 5.71428571  5.84126984  5.96825397  6.0952381   6.22222222 6.34920635  6.47619048  6.6031746   6.73015873  6.85714286 6.98412698  7.11111111  7.23809524  7.36507937  7.49206349 7.61904762  7.74603175  7.87301587  8."
   ]
  }
 ],
 "metadata": {
  "kernelspec": {
   "display_name": "Python 3",
   "language": "python",
   "name": "python3"
  },
  "language_info": {
   "codemirror_mode": {
    "name": "ipython",
    "version": 3
   },
   "file_extension": ".py",
   "mimetype": "text/x-python",
   "name": "python",
   "nbconvert_exporter": "python",
   "pygments_lexer": "ipython3",
   "version": "3.7.6"
  }
 },
 "nbformat": 4,
 "nbformat_minor": 5
}
