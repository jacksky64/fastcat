{
 "cells": [
  {
   "cell_type": "code",
   "execution_count": 28,
   "metadata": {},
   "outputs": [
    {
     "name": "stdout",
     "output_type": "stream",
     "text": [
      "Populating the interactive namespace from numpy and matplotlib\n",
      "The autoreload extension is already loaded. To reload it, use:\n",
      "  %reload_ext autoreload\n"
     ]
    }
   ],
   "source": [
    "%pylab widget\n",
    "%load_ext autoreload\n",
    "%autoreload 2\n",
    "\n",
    "from analysis_functions import *\n",
    "import fastcat.fastcat as fc\n",
    "from scipy.optimize import minimize"
   ]
  },
  {
   "cell_type": "markdown",
   "metadata": {},
   "source": [
    "# First lets look at the GOS"
   ]
  },
  {
   "cell_type": "code",
   "execution_count": 77,
   "metadata": {},
   "outputs": [
    {
     "name": "stdout",
     "output_type": "stream",
     "text": [
      "(19, 41, 41) 19\n",
      "bowtie is off False\n",
      "Using the bowtie filter True\n",
      "really doing it!\n",
      "ratio is 756.1798159391979 number of photons 0.02636808212587352\n"
     ]
    }
   ],
   "source": [
    "# %%timeit -r 1\n",
    "nviews = 493 #493 #247 #165 #124 for the others\n",
    "\n",
    "s = fc.Spectrum()\n",
    "s.load('Varian_truebeam')\n",
    "s.x[0] = 1; s.x[1] = 2\n",
    "s.attenuate(0.,fc.get_mu(z=13))\n",
    "\n",
    "kernel = fc.Kernel(s,'CuGOS-784-micrometer')\n",
    "kernel.add_focal_spot(1.2)\n",
    "angles = np.linspace(0,np.pi*2,nviews)\n",
    "\n",
    "phantom = fc.Catphan_404()\n",
    "phantom.phan_map = ['air','G4_NYLON-8062','CATPHAN_Acrylic','CATPHAN_Acrylic','CATPHAN_Delrin_revised','CATPHAN_Acrylic','CATPHAN_Teflon_revised','air','CATPHAN_PMP','CATPHAN_Acrylic','CATPHAN_LDPE','CATPHAN_Acrylic','CATPHAN_Polystyrene','air','CATPHAN_Acrylic','air','CATPHAN_Teflon','air','air','air','air'] \n",
    "phantom.return_projs(kernel,s,angles,mgy=300*1.3907/(507),bowtie=True,filter='FF0') # should be 507\n",
    "phantom.reconstruct('FDK',filt='ram_lak')\n",
    "\n",
    "im = create_mask(phantom.img[5].shape,r=5.7,radius=0.4)\n",
    "contrast_fc, CNR_fc, noise_fc = return_CNR(phantom.img[5],im)"
   ]
  },
  {
   "cell_type": "markdown",
   "metadata": {},
   "source": [
    "## Now lets look at the bcca data"
   ]
  },
  {
   "cell_type": "code",
   "execution_count": 78,
   "metadata": {},
   "outputs": [
    {
     "data": {
      "application/vnd.jupyter.widget-view+json": {
       "model_id": "5af3a9620442403bb5e732540c7f95ff",
       "version_major": 2,
       "version_minor": 0
      },
      "text/plain": [
       "Canvas(toolbar=Toolbar(toolitems=[('Home', 'Reset original view', 'home', 'home'), ('Back', 'Back to previous …"
      ]
     },
     "metadata": {},
     "output_type": "display_data"
    }
   ],
   "source": [
    "bcca_recon = np.load('/home/xcite/MV_CBCT/recon_6x_300_rared.npy')\n",
    "recon_slice = np.rot90(np.mean(bcca_recon.T[35:36],0),2)\n",
    "im = create_mask(recon_slice.shape,off =[-0.15,0], r= 5.75,radius=0.3)\n",
    "contrast_bcca, CNR_bcca, noise_bcca = return_CNR(recon_slice,im)#,show_map=True)\n",
    "\n",
    "def HU_fun(a,x,y):\n",
    "    return np.sum(np.abs((x - a[0])*(a[1]) - y))\n",
    "\n",
    "reses = []\n",
    "rem = []\n",
    "\n",
    "for off in [-0.04,-0.03,-0.02,-0.01,0,0.01,0.02,0.03,0.04]:\n",
    "    reses.append(minimize(HU_fun,[contrast_fc[0],contrast_fc[5]+off],args=(contrast_fc,contrast_bcca)))\n",
    "    rem.append(reses[-1].fun)\n",
    "    \n",
    "res = reses[np.argmin(rem)]\n",
    "\n",
    "x = [.853,0.945,.998,1.147,1.36,1.87]\n",
    "contrast_fc_scaled = (contrast_fc - res.x[0])*(res.x[1])\n",
    "image_fc_scaled = np.roll((phantom.img[4]- res.x[0])*(res.x[1]),5)\n",
    "\n",
    "plt.figure(figsize=[8,8])\n",
    "plt.subplot(221)\n",
    "plt.imshow(recon_slice,cmap='gray',vmin=0.001,vmax=0.007)\n",
    "plt.axis('off')\n",
    "plt.subplot(222)\n",
    "plt.imshow(image_fc_scaled,cmap='gray',vmin=0.001,vmax=0.007)\n",
    "plt.axis('off')\n",
    "plt.subplot(223)\n",
    "plt.plot(x,contrast_fc_scaled,'s',c='cornflowerblue',label='fastCAT')\n",
    "plt.plot(x,contrast_bcca,'s',c='darkorange',label='Star-lack')\n",
    "plt.subplot(224)\n",
    "plt.plot(recon_slice[256,7:-7])\n",
    "plt.plot(np.rot90(image_fc_scaled,0)[257,7:-7])\n",
    "plt.tight_layout()"
   ]
  },
  {
   "cell_type": "code",
   "execution_count": 57,
   "metadata": {},
   "outputs": [],
   "source": [
    "np.save('fc_images/fc_image_gos_6x_124',image_fc_scaled)"
   ]
  },
  {
   "cell_type": "code",
   "execution_count": 76,
   "metadata": {},
   "outputs": [
    {
     "name": "stdout",
     "output_type": "stream",
     "text": [
      "Open other images in this ImageJ panel as follows:\n",
      "  imagej -p 1 <image1> [<image2> ... <imageN>]\n",
      "\n"
     ]
    }
   ],
   "source": [
    "plt.imsave('im_for_imagej.png',np.hstack((recon_slice,image_fc_scaled)))\n",
    "!imagej im_for_imagej.png"
   ]
  },
  {
   "cell_type": "markdown",
   "metadata": {},
   "source": [
    "# Now lets look at the kV data "
   ]
  },
  {
   "cell_type": "code",
   "execution_count": 29,
   "metadata": {},
   "outputs": [
    {
     "data": {
      "text/plain": [
       "0.0025635191657271705"
      ]
     },
     "execution_count": 29,
     "metadata": {},
     "output_type": "execute_result"
    }
   ],
   "source": [
    "2.11*conversion/nviews"
   ]
  },
  {
   "cell_type": "code",
   "execution_count": 27,
   "metadata": {},
   "outputs": [
    {
     "name": "stdout",
     "output_type": "stream",
     "text": [
      "(19, 19, 19) 19\n",
      "bowtie is off False\n",
      "Using the bowtie filter True\n",
      "really doing it!\n"
     ]
    },
    {
     "ename": "KeyboardInterrupt",
     "evalue": "",
     "output_type": "error",
     "traceback": [
      "\u001b[0;31m---------------------------------------------------------------------------\u001b[0m",
      "\u001b[0;31mKeyboardInterrupt\u001b[0m                         Traceback (most recent call last)",
      "\u001b[0;32m<ipython-input-27-01e269c3e8b6>\u001b[0m in \u001b[0;36m<module>\u001b[0;34m\u001b[0m\n\u001b[1;32m     11\u001b[0m \u001b[0mphantom\u001b[0m \u001b[0;34m=\u001b[0m \u001b[0mfc\u001b[0m\u001b[0;34m.\u001b[0m\u001b[0mCatphan_404\u001b[0m\u001b[0;34m(\u001b[0m\u001b[0;34m)\u001b[0m\u001b[0;34m\u001b[0m\u001b[0;34m\u001b[0m\u001b[0m\n\u001b[1;32m     12\u001b[0m \u001b[0mphantom\u001b[0m\u001b[0;34m.\u001b[0m\u001b[0mphan_map\u001b[0m \u001b[0;34m=\u001b[0m \u001b[0;34m[\u001b[0m\u001b[0;34m'air'\u001b[0m\u001b[0;34m,\u001b[0m\u001b[0;34m'G4_NYLON-8062'\u001b[0m\u001b[0;34m,\u001b[0m\u001b[0;34m'CATPHAN_Acrylic'\u001b[0m\u001b[0;34m,\u001b[0m\u001b[0;34m'CATPHAN_Acrylic'\u001b[0m\u001b[0;34m,\u001b[0m\u001b[0;34m'CATPHAN_Delrin'\u001b[0m\u001b[0;34m,\u001b[0m\u001b[0;34m'CATPHAN_Acrylic'\u001b[0m\u001b[0;34m,\u001b[0m\u001b[0;34m'CATPHAN_Teflon_revised'\u001b[0m\u001b[0;34m,\u001b[0m\u001b[0;34m'air'\u001b[0m\u001b[0;34m,\u001b[0m\u001b[0;34m'CATPHAN_PMP'\u001b[0m\u001b[0;34m,\u001b[0m\u001b[0;34m'CATPHAN_Acrylic'\u001b[0m\u001b[0;34m,\u001b[0m\u001b[0;34m'CATPHAN_LDPE'\u001b[0m\u001b[0;34m,\u001b[0m\u001b[0;34m'CATPHAN_Acrylic'\u001b[0m\u001b[0;34m,\u001b[0m\u001b[0;34m'CATPHAN_Polystyrene'\u001b[0m\u001b[0;34m,\u001b[0m\u001b[0;34m'air'\u001b[0m\u001b[0;34m,\u001b[0m\u001b[0;34m'CATPHAN_Acrylic'\u001b[0m\u001b[0;34m,\u001b[0m\u001b[0;34m'air'\u001b[0m\u001b[0;34m,\u001b[0m\u001b[0;34m'CATPHAN_Teflon_revised'\u001b[0m\u001b[0;34m,\u001b[0m\u001b[0;34m'air'\u001b[0m\u001b[0;34m,\u001b[0m\u001b[0;34m'air'\u001b[0m\u001b[0;34m,\u001b[0m\u001b[0;34m'air'\u001b[0m\u001b[0;34m,\u001b[0m\u001b[0;34m'air'\u001b[0m\u001b[0;34m]\u001b[0m\u001b[0;34m\u001b[0m\u001b[0;34m\u001b[0m\u001b[0m\n\u001b[0;32m---> 13\u001b[0;31m \u001b[0mphantom\u001b[0m\u001b[0;34m.\u001b[0m\u001b[0mreturn_projs\u001b[0m\u001b[0;34m(\u001b[0m\u001b[0mkernel\u001b[0m\u001b[0;34m,\u001b[0m\u001b[0ms\u001b[0m\u001b[0;34m,\u001b[0m\u001b[0mangles\u001b[0m\u001b[0;34m,\u001b[0m\u001b[0mscat_on\u001b[0m\u001b[0;34m=\u001b[0m\u001b[0;32mTrue\u001b[0m\u001b[0;34m,\u001b[0m\u001b[0mmgy\u001b[0m\u001b[0;34m=\u001b[0m\u001b[0;36m2.11\u001b[0m\u001b[0;34m*\u001b[0m\u001b[0mconversion\u001b[0m\u001b[0;34m/\u001b[0m\u001b[0mnviews\u001b[0m\u001b[0;34m,\u001b[0m\u001b[0mbowtie\u001b[0m\u001b[0;34m=\u001b[0m\u001b[0;32mTrue\u001b[0m\u001b[0;34m,\u001b[0m\u001b[0mfilter\u001b[0m\u001b[0;34m=\u001b[0m\u001b[0;34m'bowtie_mod'\u001b[0m\u001b[0;34m)\u001b[0m\u001b[0;34m\u001b[0m\u001b[0;34m\u001b[0m\u001b[0m\n\u001b[0m\u001b[1;32m     14\u001b[0m \u001b[0mphantom\u001b[0m\u001b[0;34m.\u001b[0m\u001b[0mreconstruct\u001b[0m\u001b[0;34m(\u001b[0m\u001b[0;34m'FDK'\u001b[0m\u001b[0;34m,\u001b[0m\u001b[0mfilt\u001b[0m\u001b[0;34m=\u001b[0m\u001b[0;34m'ram_lak'\u001b[0m\u001b[0;34m)\u001b[0m\u001b[0;34m\u001b[0m\u001b[0;34m\u001b[0m\u001b[0m\n\u001b[1;32m     15\u001b[0m \u001b[0;34m\u001b[0m\u001b[0m\n",
      "\u001b[0;32m~/fastcat-0.0.1/fastcat/fastcat.py\u001b[0m in \u001b[0;36mreturn_projs\u001b[0;34m(self, kernel, spectra, angles, nphoton, mgy, return_dose, det_on, scat_on, tigre_works, convolve_on, **kwargs)\u001b[0m\n\u001b[1;32m    565\u001b[0m                 \u001b[0;32mif\u001b[0m \u001b[0mbowtie_on\u001b[0m\u001b[0;34m:\u001b[0m\u001b[0;34m\u001b[0m\u001b[0;34m\u001b[0m\u001b[0m\n\u001b[1;32m    566\u001b[0m                     \u001b[0;31m# Do I actually have to do this? Shouldn't the relative scaling of the I/I_o do the trick?\u001b[0m\u001b[0;34m\u001b[0m\u001b[0;34m\u001b[0m\u001b[0;34m\u001b[0m\u001b[0m\n\u001b[0;32m--> 567\u001b[0;31m                     \u001b[0mprojection\u001b[0m \u001b[0;34m=\u001b[0m \u001b[0mself\u001b[0m\u001b[0;34m.\u001b[0m\u001b[0mray_trace\u001b[0m\u001b[0;34m(\u001b[0m\u001b[0mphantom2\u001b[0m\u001b[0;34m,\u001b[0m\u001b[0mtile\u001b[0m\u001b[0;34m)\u001b[0m \u001b[0;31m#+ bowtie[:,jj]*10/.97 # Adding the bowtie\u001b[0m\u001b[0;34m\u001b[0m\u001b[0;34m\u001b[0m\u001b[0m\n\u001b[0m\u001b[1;32m    568\u001b[0m                 \u001b[0;32melse\u001b[0m\u001b[0;34m:\u001b[0m\u001b[0;34m\u001b[0m\u001b[0;34m\u001b[0m\u001b[0m\n\u001b[1;32m    569\u001b[0m                     \u001b[0mprojection\u001b[0m \u001b[0;34m=\u001b[0m \u001b[0mself\u001b[0m\u001b[0;34m.\u001b[0m\u001b[0mray_trace\u001b[0m\u001b[0;34m(\u001b[0m\u001b[0mphantom2\u001b[0m\u001b[0;34m,\u001b[0m\u001b[0mtile\u001b[0m\u001b[0;34m)\u001b[0m\u001b[0;34m\u001b[0m\u001b[0;34m\u001b[0m\u001b[0m\n",
      "\u001b[0;32m~/fastcat-0.0.1/fastcat/fastcat.py\u001b[0m in \u001b[0;36mray_trace\u001b[0;34m(self, phantom2, tile)\u001b[0m\n\u001b[1;32m    672\u001b[0m         \u001b[0;32mif\u001b[0m \u001b[0mself\u001b[0m\u001b[0;34m.\u001b[0m\u001b[0mtigre_works\u001b[0m\u001b[0;34m:\u001b[0m \u001b[0;31m# resort to astra if tigre doesn't work\u001b[0m\u001b[0;34m\u001b[0m\u001b[0;34m\u001b[0m\u001b[0m\n\u001b[1;32m    673\u001b[0m             \u001b[0;32mtry\u001b[0m\u001b[0;34m:\u001b[0m\u001b[0;34m\u001b[0m\u001b[0;34m\u001b[0m\u001b[0m\n\u001b[0;32m--> 674\u001b[0;31m                 \u001b[0;32mreturn\u001b[0m \u001b[0mnp\u001b[0m\u001b[0;34m.\u001b[0m\u001b[0msqueeze\u001b[0m\u001b[0;34m(\u001b[0m\u001b[0mtigre\u001b[0m\u001b[0;34m.\u001b[0m\u001b[0mAx\u001b[0m\u001b[0;34m(\u001b[0m\u001b[0mphantom2\u001b[0m\u001b[0;34m,\u001b[0m\u001b[0mself\u001b[0m\u001b[0;34m.\u001b[0m\u001b[0mgeomet\u001b[0m\u001b[0;34m,\u001b[0m\u001b[0mself\u001b[0m\u001b[0;34m.\u001b[0m\u001b[0mangles\u001b[0m\u001b[0;34m)\u001b[0m\u001b[0;34m)\u001b[0m\u001b[0;34m\u001b[0m\u001b[0;34m\u001b[0m\u001b[0m\n\u001b[0m\u001b[1;32m    675\u001b[0m             \u001b[0;32mexcept\u001b[0m \u001b[0mException\u001b[0m\u001b[0;34m:\u001b[0m\u001b[0;34m\u001b[0m\u001b[0;34m\u001b[0m\u001b[0m\n\u001b[1;32m    676\u001b[0m                 \u001b[0mprint\u001b[0m\u001b[0;34m(\u001b[0m\u001b[0;34m\"WARNING: Tigre GPU not working. Switching to Astra CPU\"\u001b[0m\u001b[0;34m)\u001b[0m\u001b[0;34m\u001b[0m\u001b[0;34m\u001b[0m\u001b[0m\n",
      "\u001b[0;32m~/.local/lib/python3.7/site-packages/pytigre-0.1.8-py3.7-linux-x86_64.egg/tigre/utilities/Ax.py\u001b[0m in \u001b[0;36mAx\u001b[0;34m(img, geo, angles, krylov)\u001b[0m\n\u001b[1;32m     23\u001b[0m                          \" not:\" + str(img.shape))\n\u001b[1;32m     24\u001b[0m \u001b[0;34m\u001b[0m\u001b[0m\n\u001b[0;32m---> 25\u001b[0;31m     \u001b[0;32mreturn\u001b[0m \u001b[0m_Ax_ext\u001b[0m\u001b[0;34m(\u001b[0m\u001b[0mimg\u001b[0m\u001b[0;34m,\u001b[0m \u001b[0mgeox\u001b[0m\u001b[0;34m,\u001b[0m \u001b[0mgeox\u001b[0m\u001b[0;34m.\u001b[0m\u001b[0mangles\u001b[0m\u001b[0;34m,\u001b[0m \u001b[0mkrylov\u001b[0m\u001b[0;34m,\u001b[0m \u001b[0mgeox\u001b[0m\u001b[0;34m.\u001b[0m\u001b[0mmode\u001b[0m\u001b[0;34m)\u001b[0m\u001b[0;34m\u001b[0m\u001b[0;34m\u001b[0m\u001b[0m\n\u001b[0m",
      "\u001b[0;32m~/.local/lib/python3.7/site-packages/pytigre-0.1.8-py3.7-linux-x86_64.egg/tigre/Source/_Ax.pyx\u001b[0m in \u001b[0;36m_Ax._Ax_ext\u001b[0;34m()\u001b[0m\n",
      "\u001b[0;32m~/.local/lib/python3.7/site-packages/pytigre-0.1.8-py3.7-linux-x86_64.egg/tigre/utilities/geometry.py\u001b[0m in \u001b[0;36mconvert_contig_mode\u001b[0;34m(self)\u001b[0m\n\u001b[1;32m    153\u001b[0m                 \u001b[0mprint\u001b[0m\u001b[0;34m(\u001b[0m\u001b[0mself\u001b[0m\u001b[0;34m.\u001b[0m\u001b[0mmode\u001b[0m \u001b[0;34m+\u001b[0m \u001b[0;34m': '\u001b[0m \u001b[0;34m+\u001b[0m \u001b[0mstr\u001b[0m\u001b[0;34m(\u001b[0m\u001b[0mobj\u001b[0m\u001b[0;34m)\u001b[0m\u001b[0;34m)\u001b[0m\u001b[0;34m\u001b[0m\u001b[0;34m\u001b[0m\u001b[0m\n\u001b[1;32m    154\u001b[0m \u001b[0;34m\u001b[0m\u001b[0m\n\u001b[0;32m--> 155\u001b[0;31m     \u001b[0;32mdef\u001b[0m \u001b[0mconvert_contig_mode\u001b[0m\u001b[0;34m(\u001b[0m\u001b[0mself\u001b[0m\u001b[0;34m)\u001b[0m\u001b[0;34m:\u001b[0m\u001b[0;34m\u001b[0m\u001b[0;34m\u001b[0m\u001b[0m\n\u001b[0m\u001b[1;32m    156\u001b[0m         dim_attribs = ['nVoxel', 'sVoxel', 'dVoxel',\n\u001b[1;32m    157\u001b[0m                        'nDetector', 'sDetector', 'dDetector']\n",
      "\u001b[0;31mKeyboardInterrupt\u001b[0m: "
     ]
    }
   ],
   "source": [
    "# %%timeit -r 1\n",
    "nviews = 887 # That is how many are in the file \n",
    "s = fc.calculate_spectrum(100, 14, 3, 100,monitor=None)\n",
    "s.attenuate(0.6,fc.get_mu(z=13))\n",
    "s.attenuate(0.089,fc.get_mu(z=22))\n",
    "kernel = fc.Kernel(s,'CsI-784-micrometer')\n",
    "angles = np.linspace(0,np.pi*2,nviews)        \n",
    "\n",
    "conversion = 1.07765\n",
    "\n",
    "phantom = fc.Catphan_404()\n",
    "phantom.phan_map = ['air','G4_NYLON-8062','CATPHAN_Acrylic','CATPHAN_Acrylic','CATPHAN_Delrin','CATPHAN_Acrylic','CATPHAN_Teflon_revised','air','CATPHAN_PMP','CATPHAN_Acrylic','CATPHAN_LDPE','CATPHAN_Acrylic','CATPHAN_Polystyrene','air','CATPHAN_Acrylic','air','CATPHAN_Teflon_revised','air','air','air','air'] \n",
    "phantom.return_projs(kernel,s,angles,scat_on=True,mgy=2.11*conversion/nviews,bowtie=True,filter='bowtie_mod')\n",
    "phantom.reconstruct('FDK',filt='ram_lak')\n",
    "\n",
    "im = create_mask(phantom.img[4].shape,r=5.75,radius=0.4)\n",
    "contrast_fc, CNR_fc, noise_fc = return_CNR(phantom.img[4],im)"
   ]
  },
  {
   "cell_type": "code",
   "execution_count": 26,
   "metadata": {},
   "outputs": [
    {
     "data": {
      "application/vnd.jupyter.widget-view+json": {
       "model_id": "b93b4b4b5cb140aa8ce199812be76f00",
       "version_major": 2,
       "version_minor": 0
      },
      "text/plain": [
       "Canvas(toolbar=Toolbar(toolitems=[('Home', 'Reset original view', 'home', 'home'), ('Back', 'Back to previous …"
      ]
     },
     "metadata": {},
     "output_type": "display_data"
    },
    {
     "data": {
      "text/plain": [
       "<matplotlib.image.AxesImage at 0x7f23d1e53a90>"
      ]
     },
     "execution_count": 26,
     "metadata": {},
     "output_type": "execute_result"
    }
   ],
   "source": [
    "bcca_recon = np.load('/home/xcite/MV_CBCT/recon_kv_jan_2021.npy')\n",
    "recon_slice = np.rot90(bcca_recon.T[50]).copy()\n",
    "im = create_mask(recon_slice.shape,r=5.8,off = [0.2,0.05],rot = 1)\n",
    "contrast_bcca, CNR_bcca, noise_bcca = return_CNR(recon_slice,im)#,show_map=True)\n",
    "\n",
    "def HU_fun(a,x,y):\n",
    "    return np.sum(np.abs((x - a[0])*(a[1]) - y))\n",
    "\n",
    "res = minimize(HU_fun,[contrast_fc[0],contrast_fc[3]],args=(contrast_fc,contrast_bcca),method='Powell')\n",
    "fc_data = (contrast_fc - res.x[0])*(res.x[1])\n",
    "fc_image = (phantom.img[4] - res.x[0])*(res.x[1])\n",
    "\n",
    "x = [.853,0.945,.998,1.147,1.36,1.87]\n",
    "\n",
    "plt.figure(figsize=[8,8])\n",
    "plt.subplot(221)\n",
    "plt.plot(x,contrast_bcca,'s',c='darkorange',label='')\n",
    "plt.plot(x,fc_data,'*',c='cornflowerblue',label='fastCAT')\n",
    "plt.legend()\n",
    "plt.subplot(222)\n",
    "plt.plot(np.rot90(np.mean(bcca_recon.T[25:36],0),3)[256,:])\n",
    "plt.plot(np.rot90(fc_image,0)[256,:])\n",
    "plt.subplot(223)\n",
    "plt.imshow(np.rot90(fc_image,0),cmap='gray',vmin=0.013,vmax=0.027)\n",
    "plt.subplot(224)\n",
    "plt.imshow(np.rot90(recon_slice,2),cmap='gray',vmin=0.013,vmax=0.027)"
   ]
  },
  {
   "cell_type": "code",
   "execution_count": 27,
   "metadata": {},
   "outputs": [
    {
     "name": "stdout",
     "output_type": "stream",
     "text": [
      "Open other images in this ImageJ panel as follows:\n",
      "  imagej -p 1 <image1> [<image2> ... <imageN>]\n",
      "\n"
     ]
    }
   ],
   "source": [
    "plt.imsave('data/im_for_imagej.png',np.hstack((recon_slice,fc_image)))\n",
    "!imagej data/im_for_imagej.png"
   ]
  },
  {
   "cell_type": "markdown",
   "metadata": {},
   "source": [
    "# Now let's take a look at the images in terms of CNR"
   ]
  },
  {
   "cell_type": "code",
   "execution_count": 58,
   "metadata": {},
   "outputs": [],
   "source": [
    "from glob import glob"
   ]
  },
  {
   "cell_type": "code",
   "execution_count": 90,
   "metadata": {},
   "outputs": [
    {
     "data": {
      "application/vnd.jupyter.widget-view+json": {
       "model_id": "c64650089e2149a1bf8fa87853ffbb10",
       "version_major": 2,
       "version_minor": 0
      },
      "text/plain": [
       "Canvas(toolbar=Toolbar(toolitems=[('Home', 'Reset original view', 'home', 'home'), ('Back', 'Back to previous …"
      ]
     },
     "metadata": {},
     "output_type": "display_data"
    },
    {
     "data": {
      "text/plain": [
       "<matplotlib.legend.Legend at 0x7ffbbaaf8bd0>"
      ]
     },
     "execution_count": 90,
     "metadata": {},
     "output_type": "execute_result"
    }
   ],
   "source": [
    "im = create_mask([512,512],r=5.7,radius=0.4)\n",
    "im2 = create_mask([512,512],off =[-0.15,0], r= 5.75,radius=0.3)\n",
    "\n",
    "CNRs = []\n",
    "\n",
    "plt.figure()\n",
    "\n",
    "exp_files = np.array(glob('/home/xcite/MV_CBCT/recon_6x_300_*.npy'))[np.array([0,1,3,2])]\n",
    "\n",
    "ii = 0\n",
    "for file_fc, file_exp in zip(sorted(glob('fc_images/*.npy'))[-1::-1],exp_files):\n",
    "    \n",
    "    im_fc = np.load(file_fc)\n",
    "    im_exp = np.rot90(np.load(file_exp).T[35],2)\n",
    "                             \n",
    "    contrast_fc, CNR_fc, noise_fc = return_CNR(np.roll(im_fc,-5),im)\n",
    "    contrast_bcca, CNR_exp, noise_bcca = return_CNR(im_exp,im2)#,show_map=True)\n",
    "                             \n",
    "    CNRs.append(CNR_fc)\n",
    "    plt.plot(ii,np.mean(CNR_fc),'b*',label=file_fc.split('/')[-1][-7:-4] + ' fc')\n",
    "    plt.plot(ii+0.1,2.6*np.mean(CNR_exp),'r*',label=file_fc.split('/')[-1][-7:-4] +' exp')\n",
    "    \n",
    "    ii += 1\n",
    "\n",
    "plt.legend()"
   ]
  },
  {
   "cell_type": "code",
   "execution_count": null,
   "metadata": {},
   "outputs": [],
   "source": []
  }
 ],
 "metadata": {
  "kernelspec": {
   "display_name": "Python 3",
   "language": "python",
   "name": "python3"
  },
  "language_info": {
   "codemirror_mode": {
    "name": "ipython",
    "version": 3
   },
   "file_extension": ".py",
   "mimetype": "text/x-python",
   "name": "python",
   "nbconvert_exporter": "python",
   "pygments_lexer": "ipython3",
   "version": "3.7.6"
  },
  "presto": {
   "id": "110b0dee-a591-4d62-bdf8-8727cacef0b7"
  }
 },
 "nbformat": 4,
 "nbformat_minor": 4
}
