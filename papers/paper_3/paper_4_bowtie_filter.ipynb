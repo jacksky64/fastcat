{
 "cells": [
  {
   "cell_type": "code",
   "execution_count": 1,
   "id": "reasonable-neutral",
   "metadata": {},
   "outputs": [
    {
     "name": "stdout",
     "output_type": "stream",
     "text": [
      "Populating the interactive namespace from numpy and matplotlib\n"
     ]
    }
   ],
   "source": [
    "%pylab widget\n",
    "%load_ext autoreload\n",
    "%autoreload 2"
   ]
  },
  {
   "cell_type": "code",
   "execution_count": 3,
   "id": "apparent-garage",
   "metadata": {},
   "outputs": [],
   "source": [
    "# from analysis_functions import *\n",
    "import fastcat as fc"
   ]
  },
  {
   "cell_type": "code",
   "execution_count": 4,
   "id": "oriental-purple",
   "metadata": {},
   "outputs": [],
   "source": [
    "from scipy.optimize import minimize"
   ]
  },
  {
   "cell_type": "markdown",
   "id": "daily-treat",
   "metadata": {},
   "source": [
    "# Looking at the bowtie filter"
   ]
  },
  {
   "cell_type": "code",
   "execution_count": 6,
   "id": "racial-potential",
   "metadata": {},
   "outputs": [
    {
     "data": {
      "application/vnd.jupyter.widget-view+json": {
       "model_id": "c080da6dc8024d1daf57d70b17b98762",
       "version_major": 2,
       "version_minor": 0
      },
      "text/plain": [
       "Canvas(toolbar=Toolbar(toolitems=[('Home', 'Reset original view', 'home', 'home'), ('Back', 'Back to previous …"
      ]
     },
     "metadata": {},
     "output_type": "display_data"
    },
    {
     "data": {
      "text/plain": [
       "<matplotlib.image.AxesImage at 0x7f784c84cb10>"
      ]
     },
     "execution_count": 6,
     "metadata": {},
     "output_type": "execute_result"
    }
   ],
   "source": [
    "# Now lets look for one of the bowtie air projections\n",
    "bowtie_volume = np.load('/media/xcite/DATA/MV_CBCT/projections/kv_air.npy')\n",
    "\n",
    "plt.figure()\n",
    "plt.imshow(np.mean(bowtie_volume,0))"
   ]
  },
  {
   "cell_type": "code",
   "execution_count": 7,
   "id": "freelance-pencil",
   "metadata": {},
   "outputs": [
    {
     "data": {
      "application/vnd.jupyter.widget-view+json": {
       "model_id": "9f40622b59a343f7a711c19e4c69729e",
       "version_major": 2,
       "version_minor": 0
      },
      "text/plain": [
       "Canvas(toolbar=Toolbar(toolitems=[('Home', 'Reset original view', 'home', 'home'), ('Back', 'Back to previous …"
      ]
     },
     "metadata": {},
     "output_type": "display_data"
    },
    {
     "data": {
      "text/plain": [
       "[<matplotlib.lines.Line2D at 0x7f784c803310>]"
      ]
     },
     "execution_count": 7,
     "metadata": {},
     "output_type": "execute_result"
    }
   ],
   "source": [
    "plt.figure()\n",
    "plt.plot(np.mean(np.mean(bowtie_volume,0),0))"
   ]
  },
  {
   "cell_type": "code",
   "execution_count": 10,
   "id": "awful-round",
   "metadata": {},
   "outputs": [],
   "source": [
    "# Should I make an actual fastCAT aluminum model to see what CsI setting agrees with this?\n",
    "# First I will see if I can make a small model that is just a brick of aluminum"
   ]
  },
  {
   "cell_type": "code",
   "execution_count": 11,
   "id": "nasty-fleet",
   "metadata": {},
   "outputs": [
    {
     "data": {
      "application/vnd.jupyter.widget-view+json": {
       "model_id": "d5d31344a7aa4e57a5455c93f2b3b934",
       "version_major": 2,
       "version_minor": 0
      },
      "text/plain": [
       "Canvas(toolbar=Toolbar(toolitems=[('Home', 'Reset original view', 'home', 'home'), ('Back', 'Back to previous …"
      ]
     },
     "metadata": {},
     "output_type": "display_data"
    },
    {
     "data": {
      "text/plain": [
       "[<matplotlib.lines.Line2D at 0x7f784c5cf4d0>]"
      ]
     },
     "execution_count": 11,
     "metadata": {},
     "output_type": "execute_result"
    }
   ],
   "source": [
    "plt.figure()\n",
    "from scipy.signal import gaussian\n",
    "lengths3 = gaussian(2*512,8*128/1.5)\n",
    "plt.plot(1.9 - 2*lengths3**(9))\n",
    "xx = np.arange(1024)\n",
    "plt.plot(1.9/(1 + np.e**(-0.02*(xx-512-256))))\n",
    "plt.plot(np.mean(bowtie_volume[0],0)/20000)\n",
    "plt.plot((-np.log(np.mean(bowtie_volume[0],0)/20000)))"
   ]
  },
  {
   "cell_type": "code",
   "execution_count": 12,
   "id": "dated-worse",
   "metadata": {},
   "outputs": [],
   "source": [
    "from scipy.signal import gaussian\n",
    "lengths = gaussian(512,128/1.5)*2"
   ]
  },
  {
   "cell_type": "code",
   "execution_count": 13,
   "id": "declared-hierarchy",
   "metadata": {},
   "outputs": [],
   "source": [
    "s = fc.calculate_spectrum(100, 14, 3, 100,monitor=None)\n",
    "s.attenuate(0.4,fc.get_mu(z=13))\n",
    "s.attenuate(0.089,fc.get_mu(z=22))\n",
    "s.x,s.y = s.get_points()"
   ]
  },
  {
   "cell_type": "code",
   "execution_count": 14,
   "id": "front-wages",
   "metadata": {},
   "outputs": [
    {
     "data": {
      "application/vnd.jupyter.widget-view+json": {
       "model_id": "2a1aea7666a34323af6f44ccdef17a24",
       "version_major": 2,
       "version_minor": 0
      },
      "text/plain": [
       "Canvas(toolbar=Toolbar(toolitems=[('Home', 'Reset original view', 'home', 'home'), ('Back', 'Back to previous …"
      ]
     },
     "metadata": {},
     "output_type": "display_data"
    },
    {
     "data": {
      "text/plain": [
       "[<matplotlib.lines.Line2D at 0x7f784c603850>]"
      ]
     },
     "execution_count": 14,
     "metadata": {},
     "output_type": "execute_result"
    }
   ],
   "source": [
    "plt.figure()\n",
    "plt.plot(s.x,s.y)"
   ]
  },
  {
   "cell_type": "code",
   "execution_count": 15,
   "id": "valuable-methodology",
   "metadata": {},
   "outputs": [],
   "source": [
    "edep = np.load('../../fastcat/data/Detectors/CsI-784-micrometer/EnergyDeposition_450microm.npy')"
   ]
  },
  {
   "cell_type": "code",
   "execution_count": 16,
   "id": "respected-donor",
   "metadata": {},
   "outputs": [
    {
     "data": {
      "application/vnd.jupyter.widget-view+json": {
       "model_id": "623e6a4eb3044984aaec15cb2a829b28",
       "version_major": 2,
       "version_minor": 0
      },
      "text/plain": [
       "Canvas(toolbar=Toolbar(toolitems=[('Home', 'Reset original view', 'home', 'home'), ('Back', 'Back to previous …"
      ]
     },
     "metadata": {},
     "output_type": "display_data"
    },
    {
     "data": {
      "text/plain": [
       "[<matplotlib.lines.Line2D at 0x7f784c537490>]"
      ]
     },
     "execution_count": 16,
     "metadata": {},
     "output_type": "execute_result"
    }
   ],
   "source": [
    "plt.figure()\n",
    "plt.semilogx(edep[1],edep[0]/edep[1]*1000)"
   ]
  },
  {
   "cell_type": "code",
   "execution_count": 17,
   "id": "structural-citizenship",
   "metadata": {},
   "outputs": [
    {
     "data": {
      "text/plain": [
       "3549.8050000000003"
      ]
     },
     "execution_count": 17,
     "metadata": {},
     "output_type": "execute_result"
    }
   ],
   "source": [
    "np.sum(s.x)/2"
   ]
  },
  {
   "cell_type": "code",
   "execution_count": 18,
   "id": "vanilla-montreal",
   "metadata": {},
   "outputs": [
    {
     "data": {
      "text/plain": [
       "66"
      ]
     },
     "execution_count": 18,
     "metadata": {},
     "output_type": "execute_result"
    }
   ],
   "source": [
    "np.argmin(np.abs(np.cumsum(s.y)- np.sum(s.y)/2))"
   ]
  },
  {
   "cell_type": "code",
   "execution_count": 19,
   "id": "alleged-chapter",
   "metadata": {},
   "outputs": [
    {
     "data": {
      "text/plain": [
       "59.42777777777778"
      ]
     },
     "execution_count": 19,
     "metadata": {},
     "output_type": "execute_result"
    }
   ],
   "source": [
    "s.x[66]"
   ]
  },
  {
   "cell_type": "markdown",
   "id": "impaired-laptop",
   "metadata": {},
   "source": [
    "## Now we know that the mean energy of the 100 kVp beam should be about 44.6"
   ]
  },
  {
   "cell_type": "code",
   "execution_count": 20,
   "id": "nominated-factor",
   "metadata": {},
   "outputs": [],
   "source": [
    "al = np.loadtxt('../../fastcat/data/mu/14.csv',delimiter=',')"
   ]
  },
  {
   "cell_type": "code",
   "execution_count": 21,
   "id": "respective-drive",
   "metadata": {},
   "outputs": [
    {
     "data": {
      "text/plain": [
       "60.0"
      ]
     },
     "execution_count": 21,
     "metadata": {},
     "output_type": "execute_result"
    }
   ],
   "source": [
    "al[0,16]"
   ]
  },
  {
   "cell_type": "code",
   "execution_count": 22,
   "id": "accepting-modem",
   "metadata": {},
   "outputs": [
    {
     "name": "stdout",
     "output_type": "stream",
     "text": [
      "2.9458800000000003\n"
     ]
    }
   ],
   "source": [
    "mu = (al[1,13]-0.4)\n",
    "\n",
    "print(mu)"
   ]
  },
  {
   "cell_type": "markdown",
   "id": "cosmetic-performer",
   "metadata": {},
   "source": [
    "\\begin{equation}\n",
    "y = e^{-\\mu x}\n",
    "\\end{equation}"
   ]
  },
  {
   "cell_type": "markdown",
   "id": "diverse-compression",
   "metadata": {},
   "source": [
    "\\begin{equation}\n",
    "-ln(y)/\\mu = x\n",
    "\\end{equation}"
   ]
  },
  {
   "cell_type": "code",
   "execution_count": 25,
   "id": "revised-grenada",
   "metadata": {},
   "outputs": [],
   "source": [
    "lengths = -4.*np.log(np.mean(np.mean(bowtie_volume[:,250:450],0),0)/21000)/mu"
   ]
  },
  {
   "cell_type": "code",
   "execution_count": 26,
   "id": "blessed-money",
   "metadata": {},
   "outputs": [
    {
     "data": {
      "application/vnd.jupyter.widget-view+json": {
       "model_id": "4f2777057fbb433d9450fb5dce3fdb58",
       "version_major": 2,
       "version_minor": 0
      },
      "text/plain": [
       "Canvas(toolbar=Toolbar(toolitems=[('Home', 'Reset original view', 'home', 'home'), ('Back', 'Back to previous …"
      ]
     },
     "metadata": {},
     "output_type": "display_data"
    },
    {
     "data": {
      "text/plain": [
       "[<matplotlib.lines.Line2D at 0x7f784a699110>]"
      ]
     },
     "execution_count": 26,
     "metadata": {},
     "output_type": "execute_result"
    }
   ],
   "source": [
    "plt.figure()\n",
    "# lengths2= concatenate((lengths[:512],lengths[511::-1]))*1\n",
    "ll = lengths\n",
    "ll[-30:] = ll[-30]\n",
    "ll[:30] = ll[30]\n",
    "\n",
    "# lengths += np.linspace(0.05,0.,1024)\n",
    "plt.plot(lengths)\n",
    "# np.save('lengths_2.5cm',lengths)"
   ]
  },
  {
   "cell_type": "code",
   "execution_count": 50,
   "id": "accompanied-roman",
   "metadata": {},
   "outputs": [
    {
     "data": {
      "application/vnd.jupyter.widget-view+json": {
       "model_id": "74c24010dc42460f884919ae90c12fcf",
       "version_major": 2,
       "version_minor": 0
      },
      "text/plain": [
       "Canvas(toolbar=Toolbar(toolitems=[('Home', 'Reset original view', 'home', 'home'), ('Back', 'Back to previous …"
      ]
     },
     "metadata": {},
     "output_type": "display_data"
    },
    {
     "data": {
      "text/plain": [
       "[<matplotlib.lines.Line2D at 0x7fc556440150>]"
      ]
     },
     "execution_count": 50,
     "metadata": {},
     "output_type": "execute_result"
    }
   ],
   "source": [
    "# cut = 50\n",
    "\n",
    "# xx = np.arange(len(lengths2))\n",
    "\n",
    "# cut_lengths = np.interp(np.linspace(cut,len(xx)-cut,len(xx)),xx,lengths2)\n",
    "\n",
    "# figure();plot(cut_lengths)"
   ]
  },
  {
   "cell_type": "code",
   "execution_count": 51,
   "id": "sacred-ministry",
   "metadata": {},
   "outputs": [
    {
     "data": {
      "application/vnd.jupyter.widget-view+json": {
       "model_id": "f1307b384cdf46919b1de7a90adc5650",
       "version_major": 2,
       "version_minor": 0
      },
      "text/plain": [
       "Canvas(toolbar=Toolbar(toolitems=[('Home', 'Reset original view', 'home', 'home'), ('Back', 'Back to previous …"
      ]
     },
     "metadata": {},
     "output_type": "display_data"
    },
    {
     "data": {
      "text/plain": [
       "[<matplotlib.lines.Line2D at 0x7fc5563c4550>]"
      ]
     },
     "execution_count": 51,
     "metadata": {},
     "output_type": "execute_result"
    }
   ],
   "source": [
    "# dist = np.linspace(-256*0.0784 - 0.0392,256*0.0784 - 0.0392, 512) # TODO: fix this gore!!\n",
    "# step = 0.05\n",
    "# dist2 = np.linspace(-256*step - step/2,256*step - step/2, 512) # TODO: fix this gore!!\n",
    "\n",
    "# xx = np.arange(len(lengths2))\n",
    "\n",
    "# cut_lengths = np.interp(dist,dist2,lengths2[::2])\n",
    "\n",
    "# figure();plot(dist,cut_lengths)\n",
    "# plot(dist2,lengths2[::2],'r')"
   ]
  },
  {
   "cell_type": "code",
   "execution_count": 40,
   "id": "public-board",
   "metadata": {},
   "outputs": [],
   "source": [
    "# Now I just have to find out what the attenuation coefficients are and then I can make an array that has them\n",
    "# In it to just multiply the final output by."
   ]
  },
  {
   "cell_type": "code",
   "execution_count": 28,
   "id": "positive-printer",
   "metadata": {},
   "outputs": [],
   "source": [
    "import fastcat as fc\n",
    "original_energies_keV = np.array([10,20,30, 40, 50 ,60, 70, 80 ,90 ,100 ,300 ,500 ,700, 900, 1000 ,2000 ,4000 ,6000])"
   ]
  },
  {
   "cell_type": "code",
   "execution_count": 29,
   "id": "suburban-mattress",
   "metadata": {},
   "outputs": [],
   "source": [
    "lengths2 = lengths \n",
    "\n",
    "bowtie_filter = np.zeros((len(original_energies_keV),lengths2.shape[0]))\n",
    "bowtie_filter2 = np.zeros((len(original_energies_keV),lengths2.shape[0]))\n",
    "\n",
    "al_map = fc.get_mu(z=14)\n",
    "\n",
    "for ii in range(len(original_energies_keV)):\n",
    "    \n",
    "    bowtie_filter[ii,:] = np.e**(-lengths2*al_map(original_energies_keV[ii]))\n",
    "    bowtie_filter2[ii,:] = lengths2*al_map(original_energies_keV[ii])\n",
    "#     print(al_map(original_energies_keV[ii]))"
   ]
  },
  {
   "cell_type": "code",
   "execution_count": 30,
   "id": "broke-threshold",
   "metadata": {},
   "outputs": [
    {
     "data": {
      "application/vnd.jupyter.widget-view+json": {
       "model_id": "afc6cd5d5de143fab5bc41a46238d385",
       "version_major": 2,
       "version_minor": 0
      },
      "text/plain": [
       "Canvas(toolbar=Toolbar(toolitems=[('Home', 'Reset original view', 'home', 'home'), ('Back', 'Back to previous …"
      ]
     },
     "metadata": {},
     "output_type": "display_data"
    },
    {
     "data": {
      "text/plain": [
       "Text(0, 0.5, '$I/I_0$')"
      ]
     },
     "execution_count": 30,
     "metadata": {},
     "output_type": "execute_result"
    }
   ],
   "source": [
    "plt.figure()\n",
    "plt.plot(bowtie_filter.T);\n",
    "plt.legend(original_energies_keV)\n",
    "plt.xlabel('pixel')\n",
    "plt.ylabel('$I/I_0$')"
   ]
  },
  {
   "cell_type": "code",
   "execution_count": 31,
   "id": "minus-missouri",
   "metadata": {},
   "outputs": [
    {
     "data": {
      "application/vnd.jupyter.widget-view+json": {
       "model_id": "f0d7698ce9f4453499d84fe34b29bc4b",
       "version_major": 2,
       "version_minor": 0
      },
      "text/plain": [
       "Canvas(toolbar=Toolbar(toolitems=[('Home', 'Reset original view', 'home', 'home'), ('Back', 'Back to previous …"
      ]
     },
     "metadata": {},
     "output_type": "display_data"
    }
   ],
   "source": [
    "plt.figure()\n",
    "plt.plot(bowtie_filter2.T[::2,:]);\n",
    "\n",
    "bowtie_smaller = bowtie_filter.T[::2,:]\n",
    "bowtie_smaller2 = bowtie_filter2.T[::2,:]"
   ]
  },
  {
   "cell_type": "code",
   "execution_count": 32,
   "id": "colored-landscape",
   "metadata": {},
   "outputs": [],
   "source": [
    "np.save('bowtie_real',bowtie_smaller)\n",
    "np.save('bowtie_real_lengths',bowtie_smaller2)"
   ]
  },
  {
   "cell_type": "code",
   "execution_count": 46,
   "id": "clean-rugby",
   "metadata": {},
   "outputs": [],
   "source": [
    "# np.save('bowtie9',bowtie_filter.T)\n",
    "# np.save('bowtie9_lengths',bowtie_filter2.T)"
   ]
  },
  {
   "cell_type": "code",
   "execution_count": 33,
   "id": "stock-metabolism",
   "metadata": {},
   "outputs": [],
   "source": [
    "!mv bowtie* ../../fastcat/data/filters/"
   ]
  },
  {
   "cell_type": "code",
   "execution_count": 24,
   "id": "lucky-tunisia",
   "metadata": {},
   "outputs": [
    {
     "data": {
      "application/vnd.jupyter.widget-view+json": {
       "model_id": "e4f1a6f309ca40b196b729fdf8df419c",
       "version_major": 2,
       "version_minor": 0
      },
      "text/plain": [
       "Canvas(toolbar=Toolbar(toolitems=[('Home', 'Reset original view', 'home', 'home'), ('Back', 'Back to previous …"
      ]
     },
     "metadata": {},
     "output_type": "display_data"
    },
    {
     "ename": "ValueError",
     "evalue": "not enough values to unpack (expected 3, got 2)",
     "output_type": "error",
     "traceback": [
      "\u001b[0;31m---------------------------------------------------------------------------\u001b[0m",
      "\u001b[0;31mValueError\u001b[0m                                Traceback (most recent call last)",
      "\u001b[0;32m<ipython-input-24-218c01a3e5f3>\u001b[0m in \u001b[0;36m<module>\u001b[0;34m\u001b[0m\n\u001b[1;32m     29\u001b[0m \u001b[0mX\u001b[0m \u001b[0;34m=\u001b[0m \u001b[0mbowtie_filter\u001b[0m\u001b[0;34m.\u001b[0m\u001b[0mT\u001b[0m\u001b[0;34m\u001b[0m\u001b[0;34m\u001b[0m\u001b[0m\n\u001b[1;32m     30\u001b[0m \u001b[0;34m\u001b[0m\u001b[0m\n\u001b[0;32m---> 31\u001b[0;31m \u001b[0mtracker\u001b[0m \u001b[0;34m=\u001b[0m \u001b[0mIndexTracker\u001b[0m\u001b[0;34m(\u001b[0m\u001b[0max\u001b[0m\u001b[0;34m,\u001b[0m \u001b[0mX\u001b[0m\u001b[0;34m)\u001b[0m\u001b[0;34m\u001b[0m\u001b[0;34m\u001b[0m\u001b[0m\n\u001b[0m\u001b[1;32m     32\u001b[0m \u001b[0;34m\u001b[0m\u001b[0m\n\u001b[1;32m     33\u001b[0m \u001b[0mfig\u001b[0m\u001b[0;34m.\u001b[0m\u001b[0mcanvas\u001b[0m\u001b[0;34m.\u001b[0m\u001b[0mmpl_connect\u001b[0m\u001b[0;34m(\u001b[0m\u001b[0;34m'scroll_event'\u001b[0m\u001b[0;34m,\u001b[0m \u001b[0mtracker\u001b[0m\u001b[0;34m.\u001b[0m\u001b[0monscroll\u001b[0m\u001b[0;34m)\u001b[0m\u001b[0;34m\u001b[0m\u001b[0;34m\u001b[0m\u001b[0m\n",
      "\u001b[0;32m<ipython-input-24-218c01a3e5f3>\u001b[0m in \u001b[0;36m__init__\u001b[0;34m(self, ax, X)\u001b[0m\n\u001b[1;32m      5\u001b[0m \u001b[0;34m\u001b[0m\u001b[0m\n\u001b[1;32m      6\u001b[0m         \u001b[0mself\u001b[0m\u001b[0;34m.\u001b[0m\u001b[0mX\u001b[0m \u001b[0;34m=\u001b[0m \u001b[0mX\u001b[0m\u001b[0;34m\u001b[0m\u001b[0;34m\u001b[0m\u001b[0m\n\u001b[0;32m----> 7\u001b[0;31m         \u001b[0mrows\u001b[0m\u001b[0;34m,\u001b[0m \u001b[0mcols\u001b[0m\u001b[0;34m,\u001b[0m \u001b[0mself\u001b[0m\u001b[0;34m.\u001b[0m\u001b[0mslices\u001b[0m \u001b[0;34m=\u001b[0m \u001b[0mX\u001b[0m\u001b[0;34m.\u001b[0m\u001b[0mshape\u001b[0m\u001b[0;34m\u001b[0m\u001b[0;34m\u001b[0m\u001b[0m\n\u001b[0m\u001b[1;32m      8\u001b[0m         \u001b[0mself\u001b[0m\u001b[0;34m.\u001b[0m\u001b[0mind\u001b[0m \u001b[0;34m=\u001b[0m \u001b[0;36m10\u001b[0m \u001b[0;31m#self.slices//2\u001b[0m\u001b[0;34m\u001b[0m\u001b[0;34m\u001b[0m\u001b[0m\n\u001b[1;32m      9\u001b[0m \u001b[0;34m\u001b[0m\u001b[0m\n",
      "\u001b[0;31mValueError\u001b[0m: not enough values to unpack (expected 3, got 2)"
     ]
    }
   ],
   "source": [
    "class IndexTracker(object):\n",
    "    def __init__(self, ax, X):\n",
    "        self.ax = ax\n",
    "        ax.set_title('use scroll wheel to navigate images')\n",
    "\n",
    "        self.X = X\n",
    "        rows, cols, self.slices = X.shape\n",
    "        self.ind = 10 #self.slices//2\n",
    "\n",
    "        self.im = ax.imshow(self.X[:, :, self.ind],cmap='bone')\n",
    "        self.update()\n",
    "\n",
    "    def onscroll(self, event):\n",
    "        print(\"%s %s\" % (event.button, event.step))\n",
    "        if event.button == 'up':\n",
    "            self.ind = (self.ind + 1) % self.slices\n",
    "        else:\n",
    "            self.ind = (self.ind - 1) % self.slices\n",
    "        self.update()\n",
    "\n",
    "    def update(self):\n",
    "        self.im.set_data(self.X[:, :, self.ind])\n",
    "        ax.set_ylabel('slice %s' % self.ind)\n",
    "        self.im.axes.figure.canvas.draw()\n",
    "\n",
    "fig, ax = plt.subplots(1, 1)\n",
    "\n",
    "# X = np.array(projections.T[:,:,5:])\n",
    "X = bowtie_filter.T\n",
    "\n",
    "tracker = IndexTracker(ax, X)\n",
    "\n",
    "fig.canvas.mpl_connect('scroll_event', tracker.onscroll)\n",
    "plt.show()"
   ]
  },
  {
   "cell_type": "code",
   "execution_count": 267,
   "id": "difficult-winning",
   "metadata": {},
   "outputs": [],
   "source": [
    "lengths = -4*np.log(np.mean(np.mean(bowtie_volume[:,250:450],0),0)/21000)/mu"
   ]
  },
  {
   "cell_type": "code",
   "execution_count": 52,
   "id": "graduate-combining",
   "metadata": {},
   "outputs": [
    {
     "data": {
      "application/vnd.jupyter.widget-view+json": {
       "model_id": "70d3a48f2f5d43b3bfd7a8009c8ff30d",
       "version_major": 2,
       "version_minor": 0
      },
      "text/plain": [
       "Canvas(toolbar=Toolbar(toolitems=[('Home', 'Reset original view', 'home', 'home'), ('Back', 'Back to previous …"
      ]
     },
     "metadata": {},
     "output_type": "display_data"
    },
    {
     "data": {
      "text/plain": [
       "[<matplotlib.lines.Line2D at 0x7fc556343690>]"
      ]
     },
     "execution_count": 52,
     "metadata": {},
     "output_type": "execute_result"
    }
   ],
   "source": [
    "plt.figure()\n",
    "# lengths2= concatenate((lengths[:512],lengths[511::-1]))*1\n",
    "ll = lengths\n",
    "ll[-30:] = ll[-30]\n",
    "ll[:30] = ll[30]\n",
    "\n",
    "# lengths += np.linspace(0,0.5,1024)\n",
    "plt.plot(lengths)\n",
    "# np.save('lengths_2.5cm',lengths)"
   ]
  },
  {
   "cell_type": "code",
   "execution_count": 53,
   "id": "sufficient-barcelona",
   "metadata": {},
   "outputs": [],
   "source": [
    "import fastcat.fastcat as fc\n",
    "original_energies_keV = np.array([10,20,30, 40, 50 ,60, 70, 80 ,90 ,100 ,300 ,500 ,700, 900, 1000 ,2000 ,4000 ,6000])"
   ]
  },
  {
   "cell_type": "code",
   "execution_count": 99,
   "id": "floating-corrections",
   "metadata": {},
   "outputs": [],
   "source": [
    "lengths2 = lengths\n",
    "\n",
    "bowtie_filter = np.zeros((len(original_energies_keV),lengths2.shape[0]))\n",
    "bowtie_filter2 = np.zeros((len(original_energies_keV),lengths2.shape[0]))\n",
    "\n",
    "al_map = fc.get_mu(z=14)\n",
    "w_map = fc.get_mu(z=74)\n",
    "\n",
    "lengths3 = np.zeros(1024)\n",
    "lengths3[:] = np.linspace(0.002,0.007,1024)\n",
    "\n",
    "for ii in range(len(original_energies_keV)):\n",
    "    \n",
    "    bowtie_filter[ii,:] = np.e**(-lengths2*al_map(original_energies_keV[ii])-lengths3*w_map(original_energies_keV[ii]))\n",
    "    bowtie_filter2[ii,:] = lengths2*al_map(original_energies_keV[ii])\n",
    "#     print(al_map(original_energies_keV[ii]))"
   ]
  },
  {
   "cell_type": "code",
   "execution_count": 100,
   "id": "bottom-pasta",
   "metadata": {},
   "outputs": [
    {
     "data": {
      "application/vnd.jupyter.widget-view+json": {
       "model_id": "615e8663951a48838ab3e28e196cfcac",
       "version_major": 2,
       "version_minor": 0
      },
      "text/plain": [
       "Canvas(toolbar=Toolbar(toolitems=[('Home', 'Reset original view', 'home', 'home'), ('Back', 'Back to previous …"
      ]
     },
     "metadata": {},
     "output_type": "display_data"
    },
    {
     "data": {
      "text/plain": [
       "Text(0, 0.5, '$I/I_0$')"
      ]
     },
     "execution_count": 100,
     "metadata": {},
     "output_type": "execute_result"
    }
   ],
   "source": [
    "plt.figure()\n",
    "plt.plot(bowtie_filter.T);\n",
    "plt.legend(original_energies_keV)\n",
    "plt.xlabel('pixel')\n",
    "plt.ylabel('$I/I_0$')"
   ]
  },
  {
   "cell_type": "code",
   "execution_count": 101,
   "id": "supposed-sussex",
   "metadata": {},
   "outputs": [
    {
     "data": {
      "application/vnd.jupyter.widget-view+json": {
       "model_id": "3b42c48110994137a09ad5b01a8175d9",
       "version_major": 2,
       "version_minor": 0
      },
      "text/plain": [
       "Canvas(toolbar=Toolbar(toolitems=[('Home', 'Reset original view', 'home', 'home'), ('Back', 'Back to previous …"
      ]
     },
     "metadata": {},
     "output_type": "display_data"
    }
   ],
   "source": [
    "plt.figure()\n",
    "plt.plot(bowtie_filter.T[::2,:]);\n",
    "\n",
    "bowtie_smaller = bowtie_filter.T[::2,:]\n",
    "bowtie_smaller2 = bowtie_filter2.T[::2,:]"
   ]
  },
  {
   "cell_type": "code",
   "execution_count": 102,
   "id": "african-shuttle",
   "metadata": {},
   "outputs": [],
   "source": [
    "np.save('bowtie_asym2',bowtie_smaller)\n",
    "np.save('bowtie_asym2_lengths',bowtie_smaller2)"
   ]
  },
  {
   "cell_type": "code",
   "execution_count": 103,
   "id": "together-oriental",
   "metadata": {},
   "outputs": [],
   "source": [
    "# np.save('bowtie9',bowtie_filter.T)\n",
    "# np.save('bowtie9_lengths',bowtie_filter2.T)"
   ]
  },
  {
   "cell_type": "code",
   "execution_count": 104,
   "id": "arranged-check",
   "metadata": {},
   "outputs": [],
   "source": [
    "!mv bowtie* ../../fastcat/data/filters/"
   ]
  },
  {
   "cell_type": "code",
   "execution_count": 2,
   "id": "valued-conditions",
   "metadata": {},
   "outputs": [
    {
     "name": "stdout",
     "output_type": "stream",
     "text": [
      "Populating the interactive namespace from numpy and matplotlib\n"
     ]
    }
   ],
   "source": [
    "%pylab widget"
   ]
  },
  {
   "cell_type": "markdown",
   "id": "transsexual-avenue",
   "metadata": {},
   "source": [
    "# Now lets try to make the flattening filter at a different distance"
   ]
  },
  {
   "cell_type": "code",
   "execution_count": 3,
   "id": "naval-presence",
   "metadata": {},
   "outputs": [],
   "source": [
    "theta = math.atan(20/150) "
   ]
  },
  {
   "cell_type": "code",
   "execution_count": 7,
   "id": "realistic-mount",
   "metadata": {},
   "outputs": [],
   "source": [
    "h = math.tan(theta)*15"
   ]
  },
  {
   "cell_type": "code",
   "execution_count": 8,
   "id": "turned-chicken",
   "metadata": {},
   "outputs": [
    {
     "name": "stdout",
     "output_type": "stream",
     "text": [
      "2.0\n"
     ]
    }
   ],
   "source": [
    "print(h)"
   ]
  },
  {
   "cell_type": "code",
   "execution_count": 14,
   "id": "shared-immigration",
   "metadata": {},
   "outputs": [],
   "source": [
    "# lengths = np.load('/home/xcite/fastcat-0.0.1/fastcat/data/filters/bowtie_mod.npy')"
   ]
  },
  {
   "cell_type": "code",
   "execution_count": 81,
   "id": "czech-liberty",
   "metadata": {},
   "outputs": [
    {
     "data": {
      "application/vnd.jupyter.widget-view+json": {
       "model_id": "8106bcaa13df4399ac998e9289b2bcec",
       "version_major": 2,
       "version_minor": 0
      },
      "text/plain": [
       "Canvas(toolbar=Toolbar(toolitems=[('Home', 'Reset original view', 'home', 'home'), ('Back', 'Back to previous …"
      ]
     },
     "metadata": {},
     "output_type": "display_data"
    },
    {
     "data": {
      "text/plain": [
       "[<matplotlib.lines.Line2D at 0x7f8d85fb7550>]"
      ]
     },
     "execution_count": 81,
     "metadata": {},
     "output_type": "execute_result"
    }
   ],
   "source": [
    "figure();plot(lengths[::16])"
   ]
  },
  {
   "cell_type": "code",
   "execution_count": 82,
   "id": "reserved-blink",
   "metadata": {},
   "outputs": [
    {
     "name": "stdout",
     "output_type": "stream",
     "text": [
      "[2.6776814  2.6902483  2.6788616  2.6787856  2.6722193  2.6638424\n",
      " 2.6451416  2.6192067  2.5762405  2.5228193  2.4450188  2.3384469\n",
      " 2.1294308  1.750315   1.4243937  1.1913537  1.0060632  0.8482896\n",
      " 0.71917766 0.6072884  0.510652   0.425838   0.35118288 0.28545678\n",
      " 0.23004791 0.18367407 0.14450742 0.10639045 0.0828557  0.06721209\n",
      " 0.04969179 0.04453822 0.04548175 0.0512171  0.06885744 0.08991212\n",
      " 0.1218496  0.1537681  0.20050864 0.24711888 0.30504578 0.37096488\n",
      " 0.44806528 0.5371596  0.64044714 0.7518373  0.88438535 1.0394744\n",
      " 1.2297472  1.4742594  1.8128681  2.1634922  2.3455245  2.4481015\n",
      " 2.520307   2.5742002  2.6190462  2.645672   2.6689296  2.6876247\n",
      " 2.6989727  2.710932   2.722197   2.7372875 ]\n"
     ]
    }
   ],
   "source": [
    "lengths_small = lengths[::16]\n",
    "\n",
    "print(lengths_small)"
   ]
  },
  {
   "cell_type": "code",
   "execution_count": 83,
   "id": "religious-grounds",
   "metadata": {},
   "outputs": [
    {
     "name": "stdout",
     "output_type": "stream",
     "text": [
      "[0.         0.06349206 0.12698413 0.19047619 0.25396825 0.31746032\n",
      " 0.38095238 0.44444444 0.50793651 0.57142857 0.63492063 0.6984127\n",
      " 0.76190476 0.82539683 0.88888889 0.95238095 1.01587302 1.07936508\n",
      " 1.14285714 1.20634921 1.26984127 1.33333333 1.3968254  1.46031746\n",
      " 1.52380952 1.58730159 1.65079365 1.71428571 1.77777778 1.84126984\n",
      " 1.9047619  1.96825397 2.03174603 2.0952381  2.15873016 2.22222222\n",
      " 2.28571429 2.34920635 2.41269841 2.47619048 2.53968254 2.6031746\n",
      " 2.66666667 2.73015873 2.79365079 2.85714286 2.92063492 2.98412698\n",
      " 3.04761905 3.11111111 3.17460317 3.23809524 3.3015873  3.36507937\n",
      " 3.42857143 3.49206349 3.55555556 3.61904762 3.68253968 3.74603175\n",
      " 3.80952381 3.87301587 3.93650794 4.        ]\n"
     ]
    }
   ],
   "source": [
    "print(np.linspace(0,4,64))"
   ]
  },
  {
   "cell_type": "code",
   "execution_count": 30,
   "id": "electronic-courtesy",
   "metadata": {},
   "outputs": [
    {
     "data": {
      "text/plain": [
       "64"
      ]
     },
     "execution_count": 30,
     "metadata": {},
     "output_type": "execute_result"
    }
   ],
   "source": [
    "len(lengths_small)"
   ]
  },
  {
   "cell_type": "code",
   "execution_count": 33,
   "id": "hollow-contract",
   "metadata": {},
   "outputs": [
    {
     "data": {
      "text/plain": [
       "array([0.        , 0.12698413, 0.25396825, 0.38095238, 0.50793651,\n",
       "       0.63492063, 0.76190476, 0.88888889, 1.01587302, 1.14285714,\n",
       "       1.26984127, 1.3968254 , 1.52380952, 1.65079365, 1.77777778,\n",
       "       1.9047619 , 2.03174603, 2.15873016, 2.28571429, 2.41269841,\n",
       "       2.53968254, 2.66666667, 2.79365079, 2.92063492, 3.04761905,\n",
       "       3.17460317, 3.3015873 , 3.42857143, 3.55555556, 3.68253968,\n",
       "       3.80952381, 3.93650794, 4.06349206, 4.19047619, 4.31746032,\n",
       "       4.44444444, 4.57142857, 4.6984127 , 4.82539683, 4.95238095,\n",
       "       5.07936508, 5.20634921, 5.33333333, 5.46031746, 5.58730159,\n",
       "       5.71428571, 5.84126984, 5.96825397, 6.0952381 , 6.22222222,\n",
       "       6.34920635, 6.47619048, 6.6031746 , 6.73015873, 6.85714286,\n",
       "       6.98412698, 7.11111111, 7.23809524, 7.36507937, 7.49206349,\n",
       "       7.61904762, 7.74603175, 7.87301587, 8.        ])"
      ]
     },
     "execution_count": 33,
     "metadata": {},
     "output_type": "execute_result"
    }
   ],
   "source": [
    "np.linspace(0,8,64)"
   ]
  },
  {
   "cell_type": "code",
   "execution_count": null,
   "id": "expired-oxide",
   "metadata": {},
   "outputs": [],
   "source": [
    "0.          0.12698413  0.25396825  0.38095238  0.50793651 0.63492063  0.76190476  0.88888889  1.01587302  1.14285714 1.26984127  1.3968254   1.52380952  1.65079365  1.77777778 1.9047619   2.03174603  2.15873016  2.28571429  2.41269841 2.53968254  2.66666667  2.79365079  2.92063492  3.04761905 3.17460317  3.3015873   3.42857143  3.55555556  3.68253968 3.80952381  3.93650794  4.06349206  4.19047619  4.31746032 4.44444444  4.57142857  4.6984127   4.82539683  4.95238095 5.07936508  5.20634921  5.33333333  5.46031746  5.58730159 5.71428571  5.84126984  5.96825397  6.0952381   6.22222222 6.34920635  6.47619048  6.6031746   6.73015873  6.85714286 6.98412698  7.11111111  7.23809524  7.36507937  7.49206349 7.61904762  7.74603175  7.87301587  8."
   ]
  }
 ],
 "metadata": {
  "kernelspec": {
   "display_name": "Python 3",
   "language": "python",
   "name": "python3"
  },
  "language_info": {
   "codemirror_mode": {
    "name": "ipython",
    "version": 3
   },
   "file_extension": ".py",
   "mimetype": "text/x-python",
   "name": "python",
   "nbconvert_exporter": "python",
   "pygments_lexer": "ipython3",
   "version": "3.7.6"
  }
 },
 "nbformat": 4,
 "nbformat_minor": 5
}
